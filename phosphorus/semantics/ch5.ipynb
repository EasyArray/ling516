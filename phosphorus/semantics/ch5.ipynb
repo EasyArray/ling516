{
 "cells": [
  {
   "cell_type": "markdown",
   "id": "5da0a4df",
   "metadata": {},
   "source": [
    "# Heim & Kratzer Chapter 5\n",
    "\n",
    "This notebook demonstrates the Heim & Kratzer (1998) Chapter 5 semantic rules using a toy lexicon, the `Interpreter` class, and the ultra-light backtick DSL for `PhiValue` literals."
   ]
  },
  {
   "cell_type": "markdown",
   "id": "64dae4e0",
   "metadata": {},
   "source": [
    "## Import Required Libraries\n",
    "\n",
    "Import all necessary modules, including `Interpreter`, `Tree`, `PhiValue`, and the backtick DSL installer."
   ]
  },
  {
   "cell_type": "code",
   "execution_count": 1,
   "id": "e8da061c",
   "metadata": {},
   "outputs": [
    {
     "name": "stdout",
     "output_type": "stream",
     "text": [
      "\n",
      "             _    _                  _    _\n",
      "            | |  | |                | |  | |\n",
      "           _| |_ | |__   ___  ___  _| |_ | |__   ___  _ __ _   _  ____\n",
      "          /     \\| '_ \\ / _ \\/ __|/     \\| '_ \\ / _ \\| '__| | | |/ ___)\n",
      "         ( (| |) ) | | | (_) \\__ ( (| |) ) | | | (_) | |  | |_| ( (__\n",
      "          \\_   _/|_| |_|\\___/|___/\\_   _/|_| |_|\\___/|_|   \\__,_|\\__ \\\n",
      "            | |                     | |                            _) )\n",
      "            |_|                     |_|                           (__/\n",
      "\n",
      "        Welcome to the Phosphorus Meaning Engine v3\n",
      "        Created by Ezra Keshet (EzraKeshet.com)\n",
      "\n",
      "\n"
     ]
    }
   ],
   "source": [
    "from phosphorus.semantics.interpret import Interpreter, defined\n",
    "from phosphorus.syntax.tree import Tree\n",
    "from phosphorus.core.phivalue import PhiValue\n",
    "from phosphorus.core.stypes import Type, takes\n",
    "from phosphorus.core.constants import UNDEF, VACUOUS\n",
    "\n",
    "# Install the backtick DSL for PhiValue literals\n",
    "import phosphorus.dsl.backtick\n",
    "\n",
    "# Configure IPython to display all outputs in a cell\n",
    "%config InteractiveShell.ast_node_interactivity='all'"
   ]
  },
  {
   "cell_type": "markdown",
   "id": "60286d01",
   "metadata": {},
   "source": [
    "## Define Lexicon\n",
    "\n",
    "Create a dictionary mapping lexical items (e.g., 'john', 'mary', 'runs', 'loves') to their `PhiValue` representations using the backtick DSL."
   ]
  },
  {
   "cell_type": "code",
   "execution_count": 2,
   "id": "eabbe68c",
   "metadata": {},
   "outputs": [],
   "source": [
    "lexicon = {\n",
    "  \"john\"  : `JOHN.e,\n",
    "  \"mary\"  : `MARY.e,\n",
    "  \"cat\"   : `lambda x=e: CAT(x).t,\n",
    "  \"gray\"  : `lambda x=e: GRAY(x).t,\n",
    "  \"runs\"  : `lambda x=e: RUN(x).t,\n",
    "  \"loves\" : `lambda y=e: (lambda x=e: LOVE(x,y).t),\n",
    "  \"the\"   : `lambda f=et: iota(f).e % singular(f),\n",
    "}"
   ]
  },
  {
   "cell_type": "markdown",
   "id": "5ecbf406",
   "metadata": {},
   "source": [
    "## Create Interpreter and Register Rules\n",
    "\n",
    "Instantiate an `Interpreter` named `interpret5a`, assign the lexicon, and define the TN, NN, FA, and PM rules."
   ]
  },
  {
   "cell_type": "code",
   "execution_count": 3,
   "id": "48f992b9",
   "metadata": {},
   "outputs": [],
   "source": [
    "interpret5a = Interpreter(lexicon=lexicon)\n",
    "\n",
    "# Trace and Pronouns (TP): return the assignment a\n",
    "@interpret5a.rule()\n",
    "def TP(*, alpha: str):\n",
    "  \"\"\"Trace and Pronouns: return the assignment a.\"\"\"\n",
    "  if alpha not in {\"he\", \"she\", \"it\", \"they\", \"them\", \"him\", \"her\", \"t\"}:\n",
    "    return UNDEF\n",
    "  return `a.e\n",
    "\n",
    "# Predicate Abstraction (PA): bind the assignment a\n",
    "@interpret5a.rule()\n",
    "def PA(beta: PhiValue, *, alpha: str):\n",
    "  \"\"\"Predicate Abstraction: bind the assignment a.\"\"\"\n",
    "  if alpha[0] not in {\"who\", \"that\", \"which\"}:\n",
    "    return UNDEF\n",
    "  if beta.stype == Type.t:\n",
    "    return `lambda x=e: beta(a=x).t\n",
    "  return UNDEF\n",
    "\n",
    "# Terminal Node (TN): lexical lookup\n",
    "@interpret5a.rule()\n",
    "def TN(*, alpha: str):    \n",
    "  \"\"\"Terminal Node: lexical lookup of *alpha* (string token).\"\"\"\n",
    "  return interpret5a.lookup(alpha)\n",
    "\n",
    "# Non-Branching Node (NN): pass child meaning unchanged\n",
    "@interpret5a.rule()\n",
    "def NN(beta: PhiValue):\n",
    "  \"\"\"Non-branching Node: pass child meaning unchanged.\"\"\"\n",
    "  return beta\n",
    "\n",
    "# Functional Application (FA): apply function to argument\n",
    "@interpret5a.rule()\n",
    "def FA(beta: PhiValue, gamma: PhiValue):\n",
    "  \"\"\"Functional Application (order determined by `takes`).\"\"\"\n",
    "  if UNDEF in (beta, gamma):\n",
    "    return UNDEF\n",
    "\n",
    "  if takes(beta, gamma):\n",
    "    fn, arg = beta, gamma\n",
    "  elif takes(gamma, beta):\n",
    "    fn, arg = gamma, beta\n",
    "  else:\n",
    "    return UNDEF\n",
    "\n",
    "  return `fn(arg) % defined(arg) # Note that if arg fails the fn guard, it will already return UNDEF\n",
    "\n",
    "# Predicate Modification (PM): conjoin meanings\n",
    "@interpret5a.rule()\n",
    "def PM(beta: PhiValue, gamma: PhiValue):\n",
    "  \"\"\"Predicate Modification: conjoin meanings.\"\"\"\n",
    "  if UNDEF in (beta, gamma):\n",
    "    return UNDEF\n",
    "  \n",
    "  if beta.stype == gamma.stype == Type.et:\n",
    "    return `lambda x=e: beta(x) and gamma(x) % defined(beta(x)) % defined(gamma(x))\n",
    "\n",
    "  return UNDEF"
   ]
  },
  {
   "cell_type": "code",
   "execution_count": 4,
   "id": "ce5e46ce",
   "metadata": {},
   "outputs": [
    {
     "data": {
      "image/svg+xml": [
       "<svg baseProfile=\"full\" height=\"168px\" preserveAspectRatio=\"xMidYMid meet\" style=\"font-family: times, serif; font-weight: normal; font-style: normal; font-size: 16px\" version=\"1.1\" viewBox=\"0,0,168.0,168.0\" width=\"168px\" xmlns=\"http://www.w3.org/2000/svg\" xmlns:ev=\"http://www.w3.org/2001/xml-events\" xmlns:xlink=\"http://www.w3.org/1999/xlink\"><defs /><svg width=\"100%\" x=\"0\" y=\"0px\"><defs /><text text-anchor=\"middle\" x=\"50%\" y=\"16px\">CP</text></svg><svg width=\"23.8095%\" x=\"0%\" y=\"48px\"><defs /><svg width=\"100%\" x=\"0\" y=\"0px\"><defs /><text text-anchor=\"middle\" x=\"50%\" y=\"16px\">who</text></svg></svg><line stroke=\"black\" x1=\"50%\" x2=\"11.9048%\" y1=\"20px\" y2=\"48px\" /><svg width=\"76.1905%\" x=\"23.8095%\" y=\"48px\"><defs /><svg width=\"100%\" x=\"0\" y=\"0px\"><defs /><text text-anchor=\"middle\" x=\"50%\" y=\"16px\">S</text></svg><svg width=\"37.5%\" x=\"0%\" y=\"48px\"><defs /><svg width=\"100%\" x=\"0\" y=\"0px\"><defs /><text text-anchor=\"middle\" x=\"50%\" y=\"16px\">John</text></svg></svg><line stroke=\"black\" x1=\"50%\" x2=\"18.75%\" y1=\"20px\" y2=\"48px\" /><svg width=\"62.5%\" x=\"37.5%\" y=\"48px\"><defs /><svg width=\"100%\" x=\"0\" y=\"0px\"><defs /><text text-anchor=\"middle\" x=\"50%\" y=\"16px\">VP</text></svg><svg width=\"70%\" x=\"0%\" y=\"48px\"><defs /><svg width=\"100%\" x=\"0\" y=\"0px\"><defs /><text text-anchor=\"middle\" x=\"50%\" y=\"16px\">loves</text></svg></svg><line stroke=\"black\" x1=\"50%\" x2=\"35%\" y1=\"20px\" y2=\"48px\" /><svg width=\"30%\" x=\"70%\" y=\"48px\"><defs /><svg width=\"100%\" x=\"0\" y=\"0px\"><defs /><text text-anchor=\"middle\" x=\"50%\" y=\"16px\">t</text></svg></svg><line stroke=\"black\" x1=\"50%\" x2=\"85%\" y1=\"20px\" y2=\"48px\" /></svg><line stroke=\"black\" x1=\"50%\" x2=\"68.75%\" y1=\"20px\" y2=\"48px\" /></svg><line stroke=\"black\" x1=\"50%\" x2=\"61.9048%\" y1=\"20px\" y2=\"48px\" /></svg>"
      ],
      "text/plain": [
       "Tree('CP', ['who', Tree('S', ['John', Tree('VP', ['loves', 't'])])])"
      ]
     },
     "execution_count": 4,
     "metadata": {},
     "output_type": "execute_result"
    },
    {
     "data": {
      "text/html": [
       "\n",
       "  <style>\n",
       "    .pv-wrapper {\n",
       "      display: table;\n",
       "      padding: 0.5em;\n",
       "      border-radius: 6px;\n",
       "      background: var(--jp-layout-color1, #f5f5f5);\n",
       "      color: var(--jp-ui-font-color1, #000);\n",
       "    }\n",
       "    @media (prefers-color-scheme: dark) {\n",
       "      .pv-wrapper {\n",
       "        background: var(--jp-layout-color0, #2b2b2b);\n",
       "        color: var(--jp-ui-font-color0, #eee);\n",
       "      }\n",
       "    }\n",
       "    .pv-code, .pv-badge { display: table-cell; vertical-align: top; }\n",
       "    .pv-code {\n",
       "      padding-right: 1em;\n",
       "      text-align: left;\n",
       "      min-width: 45ch;\n",
       "    }\n",
       "    .pv-badge { padding-left: 0.5em; }\n",
       "  </style>\n",
       "  <div class=\"pv-wrapper\">\n",
       "    <div class=\"pv-code\"><pre style='margin:0; white-space:pre-wrap;font-family:var(--jp-code-font-family,monospace);'><span style=\"color: #008000; font-weight: bold\">lambda</span> x: LOVE(JOHN, x)\n",
       "</pre></div>\n",
       "    <div class=\"pv-badge\"><span style='display:inline-block;font-family:var(--jp-code-font-family,monospace);font-weight:bold; padding:0.15em 0.4em; margin-left:0.8em;border-radius:4px; background-color:#c8c8ff; color:#000;'>(e→t)</span></div>\n",
       "  </div>\n",
       "  "
      ],
      "text/plain": [
       "lambda x: LOVE(JOHN, x)"
      ]
     },
     "execution_count": 4,
     "metadata": {},
     "output_type": "execute_result"
    },
    {
     "name": "stdout",
     "output_type": "stream",
     "text": [
      "CP -> lambda x: LOVE(JOHN, x)\n",
      "who -> who\n",
      "S -> LOVE(JOHN, a)\n",
      "John -> John\n",
      "VP -> lambda x: LOVE(x, a)\n",
      "loves -> loves\n",
      "t -> t\n"
     ]
    }
   ],
   "source": [
    "t1 = Tree.fromstring(\n",
    "'''\n",
    "(CP who\n",
    "  (S John\n",
    "    (VP loves t)\n",
    "  )\n",
    ")\n",
    "''')\n",
    "\n",
    "t1\n",
    "m1 = interpret5a.interpret(t1)\n",
    "m1\n",
    "\n",
    "# Print out x.sem recursively for each subtree x in t1\n",
    "def print_semantics(t):\n",
    "  if isinstance(t, Tree):\n",
    "    print(f\"{t.label()} -> {t.sem}\")\n",
    "    for child in t:\n",
    "      print_semantics(child)\n",
    "  else:\n",
    "    print(f\"{t} -> {t}\")\n",
    "print_semantics(t1)"
   ]
  },
  {
   "cell_type": "code",
   "execution_count": 5,
   "id": "71cefc02",
   "metadata": {},
   "outputs": [],
   "source": [
    "interpret5b = Interpreter(lexicon=lexicon)\n",
    "\n",
    "# Trace and Pronouns (TP): return the assignment a\n",
    "@interpret5b.rule()\n",
    "def TP(*, alpha: str):\n",
    "  \"\"\"Trace and Pronouns: return the assignment a.\"\"\"\n",
    "  try:\n",
    "    i = int(alpha.split('_')[1])\n",
    "    return `g[i].e\n",
    "  except: pass\n",
    "  \n",
    "  return UNDEF\n",
    "\n",
    "# Predicate Abstraction (PA): bind the assignment a\n",
    "@interpret5b.rule()\n",
    "def PA(beta: PhiValue, *, alpha: str):\n",
    "  \"\"\"Predicate Abstraction: bind the assignment a.\"\"\"\n",
    "  try:\n",
    "    i = int(alpha[0])\n",
    "    if beta.stype == Type.t:\n",
    "      return `lambda x=e: beta(g=g|{i:x}).t\n",
    "  except: pass\n",
    "  \n",
    "  return UNDEF\n",
    "\n",
    "# Terminal Node (TN): lexical lookup\n",
    "@interpret5b.rule()\n",
    "def TN(*, alpha: str):    \n",
    "  \"\"\"Terminal Node: lexical lookup of *alpha* (string token).\"\"\"\n",
    "  return interpret5b.lookup(alpha)\n",
    "\n",
    "# Non-Branching Node (NN): pass child meaning unchanged\n",
    "@interpret5b.rule()\n",
    "def NN(beta: PhiValue):\n",
    "  \"\"\"Non-branching Node: pass child meaning unchanged.\"\"\"\n",
    "  return beta\n",
    "\n",
    "# Functional Application (FA): apply function to argument\n",
    "@interpret5b.rule()\n",
    "def FA(beta: PhiValue, gamma: PhiValue):\n",
    "  \"\"\"Functional Application (order determined by `takes`).\"\"\"\n",
    "  if UNDEF in (beta, gamma):\n",
    "    return UNDEF\n",
    "\n",
    "  if takes(beta, gamma):\n",
    "    fn, arg = beta, gamma\n",
    "  elif takes(gamma, beta):\n",
    "    fn, arg = gamma, beta\n",
    "  else:\n",
    "    return UNDEF\n",
    "\n",
    "  return `fn(arg) % defined(arg) # Note that if arg fails the fn guard, it will already return UNDEF\n",
    "\n",
    "# Predicate Modification (PM): conjoin meanings\n",
    "@interpret5b.rule()\n",
    "def PM(beta: PhiValue, gamma: PhiValue):\n",
    "  \"\"\"Predicate Modification: conjoin meanings.\"\"\"\n",
    "  if UNDEF in (beta, gamma):\n",
    "    return UNDEF\n",
    "  \n",
    "  if beta.stype == gamma.stype == Type.et:\n",
    "    return `lambda x=e: beta(x) and gamma(x) % defined(beta(x)) % defined(gamma(x))\n",
    "\n",
    "  return UNDEF"
   ]
  },
  {
   "cell_type": "code",
   "execution_count": 6,
   "id": "c285ffa0",
   "metadata": {},
   "outputs": [
    {
     "data": {
      "image/svg+xml": [
       "<svg baseProfile=\"full\" height=\"168px\" preserveAspectRatio=\"xMidYMid meet\" style=\"font-family: times, serif; font-weight: normal; font-style: normal; font-size: 16px\" version=\"1.1\" viewBox=\"0,0,170.0,168.0\" width=\"170px\" xmlns=\"http://www.w3.org/2000/svg\" xmlns:ev=\"http://www.w3.org/2001/xml-events\" xmlns:xlink=\"http://www.w3.org/1999/xlink\"><defs /><svg width=\"100%\" x=\"0\" y=\"0px\"><defs /><text text-anchor=\"middle\" x=\"50%\" y=\"16px\">CP</text></svg><svg width=\"14.1176%\" x=\"0%\" y=\"48px\"><defs /><svg width=\"100%\" x=\"0\" y=\"0px\"><defs /><text text-anchor=\"middle\" x=\"50%\" y=\"16px\">1</text></svg></svg><line stroke=\"black\" x1=\"50%\" x2=\"7.05882%\" y1=\"20px\" y2=\"48px\" /><svg width=\"85.8824%\" x=\"14.1176%\" y=\"48px\"><defs /><svg width=\"100%\" x=\"0\" y=\"0px\"><defs /><text text-anchor=\"middle\" x=\"50%\" y=\"16px\">S</text></svg><svg width=\"32.8767%\" x=\"0%\" y=\"48px\"><defs /><svg width=\"100%\" x=\"0\" y=\"0px\"><defs /><text text-anchor=\"middle\" x=\"50%\" y=\"16px\">John</text></svg></svg><line stroke=\"black\" x1=\"50%\" x2=\"16.4384%\" y1=\"20px\" y2=\"48px\" /><svg width=\"67.1233%\" x=\"32.8767%\" y=\"48px\"><defs /><svg width=\"100%\" x=\"0\" y=\"0px\"><defs /><text text-anchor=\"middle\" x=\"50%\" y=\"16px\">VP</text></svg><svg width=\"57.1429%\" x=\"0%\" y=\"48px\"><defs /><svg width=\"100%\" x=\"0\" y=\"0px\"><defs /><text text-anchor=\"middle\" x=\"50%\" y=\"16px\">loves</text></svg></svg><line stroke=\"black\" x1=\"50%\" x2=\"28.5714%\" y1=\"20px\" y2=\"48px\" /><svg width=\"42.8571%\" x=\"57.1429%\" y=\"48px\"><defs /><svg width=\"100%\" x=\"0\" y=\"0px\"><defs /><text text-anchor=\"middle\" x=\"50%\" y=\"16px\"><tspan>t</tspan><tspan dy=\"4px\" style=\"font-size: 12px\">1</tspan></text></svg></svg><line stroke=\"black\" x1=\"50%\" x2=\"78.5714%\" y1=\"20px\" y2=\"48px\" /></svg><line stroke=\"black\" x1=\"50%\" x2=\"66.4384%\" y1=\"20px\" y2=\"48px\" /></svg><line stroke=\"black\" x1=\"50%\" x2=\"57.0588%\" y1=\"20px\" y2=\"48px\" /></svg>"
      ],
      "text/plain": [
       "Tree('CP', ['1', Tree('S', ['John', Tree('VP', ['loves', 't_1'])])])"
      ]
     },
     "execution_count": 6,
     "metadata": {},
     "output_type": "execute_result"
    },
    {
     "data": {
      "text/html": [
       "\n",
       "  <style>\n",
       "    .pv-wrapper {\n",
       "      display: table;\n",
       "      padding: 0.5em;\n",
       "      border-radius: 6px;\n",
       "      background: var(--jp-layout-color1, #f5f5f5);\n",
       "      color: var(--jp-ui-font-color1, #000);\n",
       "    }\n",
       "    @media (prefers-color-scheme: dark) {\n",
       "      .pv-wrapper {\n",
       "        background: var(--jp-layout-color0, #2b2b2b);\n",
       "        color: var(--jp-ui-font-color0, #eee);\n",
       "      }\n",
       "    }\n",
       "    .pv-code, .pv-badge { display: table-cell; vertical-align: top; }\n",
       "    .pv-code {\n",
       "      padding-right: 1em;\n",
       "      text-align: left;\n",
       "      min-width: 45ch;\n",
       "    }\n",
       "    .pv-badge { padding-left: 0.5em; }\n",
       "  </style>\n",
       "  <div class=\"pv-wrapper\">\n",
       "    <div class=\"pv-code\"><pre style='margin:0; white-space:pre-wrap;font-family:var(--jp-code-font-family,monospace);'><span style=\"color: #008000; font-weight: bold\">lambda</span> x: LOVE(JOHN, x)\n",
       "</pre></div>\n",
       "    <div class=\"pv-badge\"><span style='display:inline-block;font-family:var(--jp-code-font-family,monospace);font-weight:bold; padding:0.15em 0.4em; margin-left:0.8em;border-radius:4px; background-color:#c8c8ff; color:#000;'>(e→t)</span></div>\n",
       "  </div>\n",
       "  "
      ],
      "text/plain": [
       "lambda x: LOVE(JOHN, x)"
      ]
     },
     "execution_count": 6,
     "metadata": {},
     "output_type": "execute_result"
    },
    {
     "name": "stdout",
     "output_type": "stream",
     "text": [
      "CP -> lambda x: LOVE(JOHN, x)\n",
      "1 -> 1\n",
      "S -> LOVE(JOHN, g[1])\n",
      "John -> John\n",
      "VP -> lambda x: LOVE(x, g[1])\n",
      "loves -> loves\n",
      "t_1 -> t_1\n"
     ]
    }
   ],
   "source": [
    "t1 = Tree.fromstring(\n",
    "'''\n",
    "(CP 1\n",
    "  (S John\n",
    "    (VP loves t_1)\n",
    "  )\n",
    ")\n",
    "''')\n",
    "\n",
    "t1\n",
    "m1 = interpret5b.interpret(t1)\n",
    "m1\n",
    "\n",
    "# Print out x.sem recursively for each subtree x in t1\n",
    "def print_semantics(t):\n",
    "  if isinstance(t, Tree):\n",
    "    print(f\"{t.label()} -> {t.sem}\")\n",
    "    for child in t:\n",
    "      print_semantics(child)\n",
    "  else:\n",
    "    print(f\"{t} -> {t}\")\n",
    "print_semantics(t1)"
   ]
  },
  {
   "cell_type": "markdown",
   "id": "f419963f",
   "metadata": {},
   "source": [
    "## Test Example Sentences\n",
    "\n",
    "Parse and interpret example syntactic trees using `interpret4`, displaying both the tree and its semantic interpretation."
   ]
  },
  {
   "cell_type": "code",
   "execution_count": 7,
   "id": "191eba96",
   "metadata": {},
   "outputs": [],
   "source": [
    "examples = [\n",
    "  '(NP gray cat)',\n",
    "  '(NP the cat)',\n",
    "  '(S (NP the cat) (VP runs))',\n",
    "  '(S (NP the cat) (VP (V loves) (NP Mary)))',\n",
    "  '(DP the (NP gray cat))',\n",
    "  '(S (DP the (NP gray cat)) (VP (V loves) (DP Mary)))',\n",
    "]"
   ]
  },
  {
   "cell_type": "code",
   "execution_count": 8,
   "id": "3a2c6a1d",
   "metadata": {},
   "outputs": [
    {
     "ename": "NameError",
     "evalue": "name 'interpret4' is not defined",
     "output_type": "error",
     "traceback": [
      "\u001b[0;31m---------------------------------------------------------------------------\u001b[0m",
      "\u001b[0;31mNameError\u001b[0m                                 Traceback (most recent call last)",
      "Cell \u001b[0;32mIn[8], line 5\u001b[0m\n\u001b[1;32m      3\u001b[0m \u001b[38;5;28;01mfor\u001b[39;00m src \u001b[38;5;129;01min\u001b[39;00m examples :\n\u001b[1;32m      4\u001b[0m   tree \u001b[38;5;241m=\u001b[39mTree \u001b[38;5;241m.\u001b[39mfromstring (src )\n\u001b[0;32m----> 5\u001b[0m   meaning \u001b[38;5;241m=\u001b[39m\u001b[43minterpret4\u001b[49m \u001b[38;5;241m.\u001b[39minterpret (tree )\n\u001b[1;32m      6\u001b[0m   tree_html \u001b[38;5;241m=\u001b[39mtree \u001b[38;5;241m.\u001b[39m_repr_svg_ ()\u001b[38;5;66;03m# SVG as HTML string\u001b[39;00m\n\u001b[1;32m      7\u001b[0m   meaning_html \u001b[38;5;241m=\u001b[39mmeaning \u001b[38;5;241m.\u001b[39m_repr_html_ ()\u001b[38;5;66;03m# HTML as string\u001b[39;00m\n",
      "\u001b[0;31mNameError\u001b[0m: name 'interpret4' is not defined"
     ]
    }
   ],
   "source": [
    "from IPython.display import display, HTML\n",
    "\n",
    "for src in examples:\n",
    "  tree = Tree.fromstring(src)\n",
    "  meaning = interpret4.interpret(tree)\n",
    "  tree_html = tree._repr_svg_()  # SVG as HTML string\n",
    "  meaning_html = meaning._repr_html_()  # HTML as string\n",
    "  display(HTML(f\"\"\"\n",
    "    <table>\n",
    "      <tr>\n",
    "        <td style=\"vertical-align:top;min-width:18ch;text-align:left\">{tree_html}</td>\n",
    "        <td style=\"vertical-align:top;padding-left:2em\">{meaning_html}</td>\n",
    "      </tr>\n",
    "    </table>\n",
    "  \"\"\"))"
   ]
  },
  {
   "cell_type": "code",
   "execution_count": null,
   "id": "77a372f6",
   "metadata": {},
   "outputs": [
    {
     "data": {
      "text/plain": [
       "(True, False)"
      ]
     },
     "execution_count": 9,
     "metadata": {},
     "output_type": "execute_result"
    },
    {
     "data": {
      "text/plain": [
       "(True, False)"
      ]
     },
     "execution_count": 9,
     "metadata": {},
     "output_type": "execute_result"
    },
    {
     "data": {
      "text/plain": [
       "'singular (lexicon [\"cat\"])=True'"
      ]
     },
     "execution_count": 9,
     "metadata": {},
     "output_type": "execute_result"
    }
   ],
   "source": [
    "DOMAIN = [PhiValue(x, stype=Type.e) for x in 'ABCDEFGHIJKLMNOPQRSTUVWXYZ']  # Example domain of entities\n",
    "A,B,C,D,E,F,G,H,I,J,K,L,M,N,O,P,Q,R,S,T,U,V,W,X,Y,Z = DOMAIN\n",
    "\n",
    "def singular(f: PhiValue) -> bool:\n",
    "  \"\"\"Check if the predicate f is singular.\"\"\"\n",
    "  if f.stype != Type.et:\n",
    "    return False\n",
    "  # A predicate is singular if it returns True for exactly one entity\n",
    "  count = sum(1 for x in DOMAIN if f(x))\n",
    "  return count == 1\n",
    "\n",
    "def CAT(x): \n",
    "  return x == PhiValue('A')\n",
    "\n",
    "CAT(A), CAT(B)\n",
    "lexicon[\"cat\"](A), lexicon[\"cat\"](B)\n",
    "\n",
    "f'{singular(lexicon[\"cat\"])=}'\n"
   ]
  }
 ],
 "metadata": {
  "kernelspec": {
   "display_name": "Python 3",
   "language": "python",
   "name": "python3"
  },
  "language_info": {
   "codemirror_mode": {
    "name": "ipython",
    "version": 3
   },
   "file_extension": ".py",
   "mimetype": "text/x-python",
   "name": "python",
   "nbconvert_exporter": "python",
   "pygments_lexer": "ipython3",
   "version": "3.12.1"
  }
 },
 "nbformat": 4,
 "nbformat_minor": 5
}
