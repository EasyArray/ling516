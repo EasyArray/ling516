{
 "cells": [
  {
   "cell_type": "code",
   "execution_count": 1,
   "metadata": {},
   "outputs": [
    {
     "name": "stdout",
     "output_type": "stream",
     "text": [
      "\n",
      "             _    _                  _    _\n",
      "            | |  | |                | |  | |\n",
      "           _| |_ | |__   ___  ___  _| |_ | |__   ___  _ __ _   _  ____\n",
      "          /     \\| '_ \\ / _ \\/ __|/     \\| '_ \\ / _ \\| '__| | | |/ ___)\n",
      "         ( (| |) ) | | | (_) \\__ ( (| |) ) | | | (_) | |  | |_| ( (__\n",
      "          \\_   _/|_| |_|\\___/|___/\\_   _/|_| |_|\\___/|_|   \\__,_|\\__ \\\n",
      "            | |                     | |                            _) )\n",
      "            |_|                     |_|                           (__/\n",
      "\n",
      "        Welcome to the Phosphorus Meaning Engine v3\n",
      "        Created by Ezra Keshet (EzraKeshet.com)\n",
      "\n",
      "\n"
     ]
    }
   ],
   "source": [
    "%config InteractiveShell.ast_node_interactivity='all'\n",
    "import phosphorus.dsl.backtick\n",
    "from phosphorus.core.phivalue import PhiValue"
   ]
  },
  {
   "cell_type": "code",
   "execution_count": 2,
   "metadata": {},
   "outputs": [
    {
     "data": {
      "text/html": [
       "\n",
       "  <style>\n",
       "    .pv-wrapper {\n",
       "      display: table;\n",
       "      padding: 0.5em;\n",
       "      border-radius: 6px;\n",
       "      background: var(--jp-layout-color1, #f5f5f5);\n",
       "      color: var(--jp-ui-font-color1, #000);\n",
       "    }\n",
       "    @media (prefers-color-scheme: dark) {\n",
       "      .pv-wrapper {\n",
       "        background: var(--jp-layout-color0, #2b2b2b);\n",
       "        color: var(--jp-ui-font-color0, #eee);\n",
       "      }\n",
       "    }\n",
       "    .pv-code, .pv-badge { display: table-cell; vertical-align: top; }\n",
       "    .pv-code {\n",
       "      padding-right: 1em;\n",
       "      min-width: 45ch;\n",
       "    }\n",
       "    .pv-badge { padding-left: 0.5em; }\n",
       "  </style>\n",
       "  <div class=\"pv-wrapper\">\n",
       "    <div class=\"pv-code\"><pre style='margin:0; white-space:pre-wrap;font-family:var(--jp-code-font-family,monospace);'><span style=\"color: #008000; font-weight: bold\">lambda</span> x: RUN(x) <span style=\"color: #AA22FF; font-weight: bold\">and</span> PLAY(x)\n",
       "</pre></div>\n",
       "    <div class=\"pv-badge\"><span style='display:inline-block;font-family:var(--jp-code-font-family,monospace);font-weight:bold; padding:0.15em 0.4em; margin-left:0.8em;border-radius:4px; background-color:#c8c8ff; color:#000;'>(e→t)</span></div>\n",
       "  </div>\n",
       "  "
      ],
      "text/plain": [
       "lambda x: RUN(x) and PLAY(x)"
      ]
     },
     "execution_count": 2,
     "metadata": {},
     "output_type": "execute_result"
    },
    {
     "data": {
      "text/html": [
       "\n",
       "  <style>\n",
       "    .pv-wrapper {\n",
       "      display: table;\n",
       "      padding: 0.5em;\n",
       "      border-radius: 6px;\n",
       "      background: var(--jp-layout-color1, #f5f5f5);\n",
       "      color: var(--jp-ui-font-color1, #000);\n",
       "    }\n",
       "    @media (prefers-color-scheme: dark) {\n",
       "      .pv-wrapper {\n",
       "        background: var(--jp-layout-color0, #2b2b2b);\n",
       "        color: var(--jp-ui-font-color0, #eee);\n",
       "      }\n",
       "    }\n",
       "    .pv-code, .pv-badge { display: table-cell; vertical-align: top; }\n",
       "    .pv-code {\n",
       "      padding-right: 1em;\n",
       "      min-width: 45ch;\n",
       "    }\n",
       "    .pv-badge { padding-left: 0.5em; }\n",
       "  </style>\n",
       "  <div class=\"pv-wrapper\">\n",
       "    <div class=\"pv-code\"><pre style='margin:0; white-space:pre-wrap;font-family:var(--jp-code-font-family,monospace);'>UNDEF\n",
       "</pre></div>\n",
       "    <div class=\"pv-badge\"><span style='display:inline-block;font-family:var(--jp-code-font-family,monospace);font-weight:bold; padding:0.15em 0.4em; margin-left:0.8em;border-radius:4px; background-color:#c8c8ff; color:#000;'>None</span></div>\n",
       "  </div>\n",
       "  "
      ],
      "text/plain": [
       "UNDEF"
      ]
     },
     "execution_count": 2,
     "metadata": {},
     "output_type": "execute_result"
    },
    {
     "data": {
      "text/html": [
       "\n",
       "  <style>\n",
       "    .pv-wrapper {\n",
       "      display: table;\n",
       "      padding: 0.5em;\n",
       "      border-radius: 6px;\n",
       "      background: var(--jp-layout-color1, #f5f5f5);\n",
       "      color: var(--jp-ui-font-color1, #000);\n",
       "    }\n",
       "    @media (prefers-color-scheme: dark) {\n",
       "      .pv-wrapper {\n",
       "        background: var(--jp-layout-color0, #2b2b2b);\n",
       "        color: var(--jp-ui-font-color0, #eee);\n",
       "      }\n",
       "    }\n",
       "    .pv-code, .pv-badge { display: table-cell; vertical-align: top; }\n",
       "    .pv-code {\n",
       "      padding-right: 1em;\n",
       "      min-width: 45ch;\n",
       "    }\n",
       "    .pv-badge { padding-left: 0.5em; }\n",
       "  </style>\n",
       "  <div class=\"pv-wrapper\">\n",
       "    <div class=\"pv-code\"><pre style='margin:0; white-space:pre-wrap;font-family:var(--jp-code-font-family,monospace);'>UNDEF\n",
       "</pre></div>\n",
       "    <div class=\"pv-badge\"><span style='display:inline-block;font-family:var(--jp-code-font-family,monospace);font-weight:bold; padding:0.15em 0.4em; margin-left:0.8em;border-radius:4px; background-color:#c8c8ff; color:#000;'>None</span></div>\n",
       "  </div>\n",
       "  "
      ],
      "text/plain": [
       "UNDEF"
      ]
     },
     "execution_count": 2,
     "metadata": {},
     "output_type": "execute_result"
    }
   ],
   "source": [
    "`lambda x=e: (RUN(x) and PLAY(x)).t\n",
    "`BARKS(F) % False\n",
    "guard = False\n",
    "`BARKS(F) % guard"
   ]
  },
  {
   "cell_type": "code",
   "execution_count": 9,
   "metadata": {},
   "outputs": [
    {
     "data": {
      "image/svg+xml": [
       "<svg baseProfile=\"full\" height=\"168px\" preserveAspectRatio=\"xMidYMid meet\" style=\"font-family: times, serif; font-weight: normal; font-style: normal; font-size: 16px\" version=\"1.1\" viewBox=\"0,0,136.0,168.0\" width=\"136px\" xmlns=\"http://www.w3.org/2000/svg\" xmlns:ev=\"http://www.w3.org/2001/xml-events\" xmlns:xlink=\"http://www.w3.org/1999/xlink\"><defs /><svg width=\"100%\" x=\"0\" y=\"0px\"><defs /><text text-anchor=\"middle\" x=\"50%\" y=\"16px\">S</text></svg><svg width=\"58.8235%\" x=\"0%\" y=\"48px\"><defs /><svg width=\"100%\" x=\"0\" y=\"0px\"><defs /><text text-anchor=\"middle\" x=\"50%\" y=\"16px\">NP</text></svg><svg width=\"50%\" x=\"0%\" y=\"48px\"><defs /><svg width=\"100%\" x=\"0\" y=\"0px\"><defs /><text text-anchor=\"middle\" x=\"50%\" y=\"16px\">D</text></svg><svg width=\"100%\" x=\"0%\" y=\"48px\"><defs /><svg width=\"100%\" x=\"0\" y=\"0px\"><defs /><text text-anchor=\"middle\" x=\"50%\" y=\"16px\">the</text></svg></svg><line stroke=\"black\" x1=\"50%\" x2=\"50%\" y1=\"20px\" y2=\"48px\" /></svg><line stroke=\"black\" x1=\"50%\" x2=\"25%\" y1=\"20px\" y2=\"48px\" /><svg width=\"50%\" x=\"50%\" y=\"48px\"><defs /><svg width=\"100%\" x=\"0\" y=\"0px\"><defs /><text text-anchor=\"middle\" x=\"50%\" y=\"16px\">N</text></svg><svg width=\"100%\" x=\"0%\" y=\"48px\"><defs /><svg width=\"100%\" x=\"0\" y=\"0px\"><defs /><text text-anchor=\"middle\" x=\"50%\" y=\"16px\">dog</text></svg></svg><line stroke=\"black\" x1=\"50%\" x2=\"50%\" y1=\"20px\" y2=\"48px\" /></svg><line stroke=\"black\" x1=\"50%\" x2=\"75%\" y1=\"20px\" y2=\"48px\" /></svg><line stroke=\"black\" x1=\"50%\" x2=\"29.4118%\" y1=\"20px\" y2=\"48px\" /><svg width=\"41.1765%\" x=\"58.8235%\" y=\"48px\"><defs /><svg width=\"100%\" x=\"0\" y=\"0px\"><defs /><text text-anchor=\"middle\" x=\"50%\" y=\"16px\">VP</text></svg><svg width=\"100%\" x=\"0%\" y=\"48px\"><defs /><svg width=\"100%\" x=\"0\" y=\"0px\"><defs /><text text-anchor=\"middle\" x=\"50%\" y=\"16px\">V</text></svg><svg width=\"100%\" x=\"0%\" y=\"48px\"><defs /><svg width=\"100%\" x=\"0\" y=\"0px\"><defs /><text text-anchor=\"middle\" x=\"50%\" y=\"16px\">barks</text></svg></svg><line stroke=\"black\" x1=\"50%\" x2=\"50%\" y1=\"20px\" y2=\"48px\" /></svg><line stroke=\"black\" x1=\"50%\" x2=\"50%\" y1=\"20px\" y2=\"48px\" /></svg><line stroke=\"black\" x1=\"50%\" x2=\"79.4118%\" y1=\"20px\" y2=\"48px\" /></svg>"
      ],
      "text/plain": [
       "Tree('S', [Tree('NP', [Tree('D', ['the']), Tree('N', ['dog'])]), Tree('VP', [Tree('V', ['barks'])])])"
      ]
     },
     "execution_count": 9,
     "metadata": {},
     "output_type": "execute_result"
    },
    {
     "name": "stdout",
     "output_type": "stream",
     "text": [
      "Matched S\n"
     ]
    }
   ],
   "source": [
    "from phosphorus.syntax.tree import Tree\n",
    "t1 = Tree.fromstring('(S (NP (D the) (N dog)) (VP (V barks)))')\n",
    "t1\n",
    "\n",
    "match(t1):\n",
    "  case Tree('S'):\n",
    "    print(\"Matched S\")"
   ]
  },
  {
   "cell_type": "code",
   "execution_count": 4,
   "metadata": {},
   "outputs": [
    {
     "data": {
      "text/plain": [
       "[<function phosphorus.dsl.backtick.install_backtick_dsl.<locals>.token_replacer(code)>]"
      ]
     },
     "execution_count": 4,
     "metadata": {},
     "output_type": "execute_result"
    },
    {
     "data": {
      "text/plain": [
       "[<phosphorus.ExprTransformer at 0x7a5ec09a1490>,\n",
       " <phosphorus.dsl.backtick.LambdaPhiASTTransformer at 0x7a5e81a9c890>]"
      ]
     },
     "execution_count": 4,
     "metadata": {},
     "output_type": "execute_result"
    }
   ],
   "source": [
    "get_ipython().input_transformers_post\n",
    "get_ipython().ast_transformers"
   ]
  },
  {
   "cell_type": "code",
   "execution_count": 5,
   "metadata": {},
   "outputs": [
    {
     "data": {
      "image/svg+xml": [
       "<svg baseProfile=\"full\" height=\"168px\" preserveAspectRatio=\"xMidYMid meet\" style=\"font-family: times, serif; font-weight: normal; font-style: normal; font-size: 16px\" version=\"1.1\" viewBox=\"0,0,240.0,168.0\" width=\"240px\" xmlns=\"http://www.w3.org/2000/svg\" xmlns:ev=\"http://www.w3.org/2001/xml-events\" xmlns:xlink=\"http://www.w3.org/1999/xlink\"><defs /><svg width=\"100%\" x=\"0\" y=\"0px\"><defs /><text text-anchor=\"middle\" x=\"50%\" y=\"16px\">S</text></svg><svg width=\"33.3333%\" x=\"0%\" y=\"48px\"><defs /><svg width=\"100%\" x=\"0\" y=\"0px\"><defs /><text text-anchor=\"middle\" x=\"50%\" y=\"16px\"><tspan>NP</tspan><tspan dy=\"4px\" style=\"font-size: 12px\">1</tspan></text></svg><svg width=\"50%\" x=\"0%\" y=\"48px\"><defs /><svg width=\"100%\" x=\"0\" y=\"0px\"><defs /><text text-anchor=\"middle\" x=\"50%\" y=\"16px\">the</text></svg></svg><line stroke=\"black\" x1=\"50%\" x2=\"25%\" y1=\"20px\" y2=\"48px\" /><svg width=\"50%\" x=\"50%\" y=\"48px\"><defs /><svg width=\"100%\" x=\"0\" y=\"0px\"><defs /><text text-anchor=\"middle\" x=\"50%\" y=\"16px\">cat</text></svg></svg><line stroke=\"black\" x1=\"50%\" x2=\"75%\" y1=\"20px\" y2=\"48px\" /></svg><line stroke=\"black\" x1=\"50%\" x2=\"16.6667%\" y1=\"20px\" y2=\"48px\" /><svg width=\"66.6667%\" x=\"33.3333%\" y=\"48px\"><defs /><svg width=\"100%\" x=\"0\" y=\"0px\"><defs /><text text-anchor=\"middle\" x=\"50%\" y=\"16px\"><tspan>VP</tspan><tspan dy=\"4px\" style=\"font-size: 12px\">2</tspan></text></svg><svg width=\"40%\" x=\"0%\" y=\"48px\"><defs /><svg width=\"100%\" x=\"0\" y=\"0px\"><defs /><text text-anchor=\"middle\" x=\"50%\" y=\"16px\">V</text></svg><svg width=\"100%\" x=\"0%\" y=\"48px\"><defs /><svg width=\"100%\" x=\"0\" y=\"0px\"><defs /><text text-anchor=\"middle\" x=\"50%\" y=\"16px\">chased</text></svg></svg><line stroke=\"black\" x1=\"50%\" x2=\"50%\" y1=\"20px\" y2=\"48px\" /></svg><line stroke=\"black\" x1=\"50%\" x2=\"20%\" y1=\"20px\" y2=\"48px\" /><svg width=\"60%\" x=\"40%\" y=\"48px\"><defs /><svg width=\"100%\" x=\"0\" y=\"0px\"><defs /><text text-anchor=\"middle\" x=\"50%\" y=\"16px\">NP</text></svg><svg width=\"41.6667%\" x=\"0%\" y=\"48px\"><defs /><svg width=\"100%\" x=\"0\" y=\"0px\"><defs /><text text-anchor=\"middle\" x=\"50%\" y=\"16px\">the</text></svg></svg><line stroke=\"black\" x1=\"50%\" x2=\"20.8333%\" y1=\"20px\" y2=\"48px\" /><svg width=\"58.3333%\" x=\"41.6667%\" y=\"48px\"><defs /><svg width=\"100%\" x=\"0\" y=\"0px\"><defs /><text text-anchor=\"middle\" x=\"50%\" y=\"16px\">mouse</text></svg></svg><line stroke=\"black\" x1=\"50%\" x2=\"70.8333%\" y1=\"20px\" y2=\"48px\" /></svg><line stroke=\"black\" x1=\"50%\" x2=\"70%\" y1=\"20px\" y2=\"48px\" /></svg><line stroke=\"black\" x1=\"50%\" x2=\"66.6667%\" y1=\"20px\" y2=\"48px\" /></svg>"
      ],
      "text/plain": [
       "Tree('S', [Tree('NP_1', ['the', 'cat']), Tree('VP_2', [Tree('V', ['chased']), Tree('NP', ['the', 'mouse'])])])"
      ]
     },
     "execution_count": 5,
     "metadata": {},
     "output_type": "execute_result"
    }
   ],
   "source": [
    "from phosphorus.syntax.tree import Tree\n",
    "\n",
    "t1 = Tree.fromstring(\n",
    "\"\"\"\n",
    "(S\n",
    "  (NP_1 the cat)\n",
    "  (VP_2 (V chased)\n",
    "    (NP the mouse)\n",
    "  )\n",
    ")\n",
    "\"\"\")\n",
    "\n",
    "t1"
   ]
  },
  {
   "cell_type": "code",
   "execution_count": 6,
   "metadata": {},
   "outputs": [
    {
     "data": {
      "text/markdown": [
       "**Simplify** `(lambda x: x+1)(2)` → "
      ],
      "text/plain": [
       "<IPython.core.display.Markdown object>"
      ]
     },
     "metadata": {},
     "output_type": "display_data"
    },
    {
     "data": {
      "text/html": [
       "\n",
       "  <style>\n",
       "    .pv-wrapper {\n",
       "      display: table;\n",
       "      padding: 0.5em;\n",
       "      border-radius: 6px;\n",
       "      background: var(--jp-layout-color1, #f5f5f5);\n",
       "      color: var(--jp-ui-font-color1, #000);\n",
       "    }\n",
       "    @media (prefers-color-scheme: dark) {\n",
       "      .pv-wrapper {\n",
       "        background: var(--jp-layout-color0, #2b2b2b);\n",
       "        color: var(--jp-ui-font-color0, #eee);\n",
       "      }\n",
       "    }\n",
       "    .pv-code, .pv-badge { display: table-cell; vertical-align: top; }\n",
       "    .pv-code {\n",
       "      padding-right: 1em;\n",
       "      min-width: 45ch;\n",
       "    }\n",
       "    .pv-badge { padding-left: 0.5em; }\n",
       "  </style>\n",
       "  <div class=\"pv-wrapper\">\n",
       "    <div class=\"pv-code\"><pre style='margin:0; white-space:pre-wrap;font-family:var(--jp-code-font-family,monospace);'><span style=\"color: #666666\">2</span> <span style=\"color: #666666\">+</span> <span style=\"color: #666666\">1</span>\n",
       "</pre></div>\n",
       "    <div class=\"pv-badge\"><span style='display:inline-block;font-family:var(--jp-code-font-family,monospace);font-weight:bold; padding:0.15em 0.4em; margin-left:0.8em;border-radius:4px; background-color:#c8c8ff; color:#000;'>None</span></div>\n",
       "  </div>\n",
       "  "
      ],
      "text/plain": [
       "2 + 1"
      ]
     },
     "metadata": {},
     "output_type": "display_data"
    },
    {
     "data": {
      "text/markdown": [
       "**Simplify** `(lambda x: (lambda y: x+y)(3))(4)` → "
      ],
      "text/plain": [
       "<IPython.core.display.Markdown object>"
      ]
     },
     "metadata": {},
     "output_type": "display_data"
    },
    {
     "data": {
      "text/html": [
       "\n",
       "  <style>\n",
       "    .pv-wrapper {\n",
       "      display: table;\n",
       "      padding: 0.5em;\n",
       "      border-radius: 6px;\n",
       "      background: var(--jp-layout-color1, #f5f5f5);\n",
       "      color: var(--jp-ui-font-color1, #000);\n",
       "    }\n",
       "    @media (prefers-color-scheme: dark) {\n",
       "      .pv-wrapper {\n",
       "        background: var(--jp-layout-color0, #2b2b2b);\n",
       "        color: var(--jp-ui-font-color0, #eee);\n",
       "      }\n",
       "    }\n",
       "    .pv-code, .pv-badge { display: table-cell; vertical-align: top; }\n",
       "    .pv-code {\n",
       "      padding-right: 1em;\n",
       "      min-width: 45ch;\n",
       "    }\n",
       "    .pv-badge { padding-left: 0.5em; }\n",
       "  </style>\n",
       "  <div class=\"pv-wrapper\">\n",
       "    <div class=\"pv-code\"><pre style='margin:0; white-space:pre-wrap;font-family:var(--jp-code-font-family,monospace);'><span style=\"color: #666666\">4</span> <span style=\"color: #666666\">+</span> <span style=\"color: #666666\">3</span>\n",
       "</pre></div>\n",
       "    <div class=\"pv-badge\"><span style='display:inline-block;font-family:var(--jp-code-font-family,monospace);font-weight:bold; padding:0.15em 0.4em; margin-left:0.8em;border-radius:4px; background-color:#c8c8ff; color:#000;'>None</span></div>\n",
       "  </div>\n",
       "  "
      ],
      "text/plain": [
       "4 + 3"
      ]
     },
     "metadata": {},
     "output_type": "display_data"
    },
    {
     "data": {
      "text/markdown": [
       "**Simplify** `(lambda f: f(10))(lambda y: y*2)` → "
      ],
      "text/plain": [
       "<IPython.core.display.Markdown object>"
      ]
     },
     "metadata": {},
     "output_type": "display_data"
    },
    {
     "data": {
      "text/html": [
       "\n",
       "  <style>\n",
       "    .pv-wrapper {\n",
       "      display: table;\n",
       "      padding: 0.5em;\n",
       "      border-radius: 6px;\n",
       "      background: var(--jp-layout-color1, #f5f5f5);\n",
       "      color: var(--jp-ui-font-color1, #000);\n",
       "    }\n",
       "    @media (prefers-color-scheme: dark) {\n",
       "      .pv-wrapper {\n",
       "        background: var(--jp-layout-color0, #2b2b2b);\n",
       "        color: var(--jp-ui-font-color0, #eee);\n",
       "      }\n",
       "    }\n",
       "    .pv-code, .pv-badge { display: table-cell; vertical-align: top; }\n",
       "    .pv-code {\n",
       "      padding-right: 1em;\n",
       "      min-width: 45ch;\n",
       "    }\n",
       "    .pv-badge { padding-left: 0.5em; }\n",
       "  </style>\n",
       "  <div class=\"pv-wrapper\">\n",
       "    <div class=\"pv-code\"><pre style='margin:0; white-space:pre-wrap;font-family:var(--jp-code-font-family,monospace);'><span style=\"color: #666666\">10</span> <span style=\"color: #666666\">*</span> <span style=\"color: #666666\">2</span>\n",
       "</pre></div>\n",
       "    <div class=\"pv-badge\"><span style='display:inline-block;font-family:var(--jp-code-font-family,monospace);font-weight:bold; padding:0.15em 0.4em; margin-left:0.8em;border-radius:4px; background-color:#c8c8ff; color:#000;'>None</span></div>\n",
       "  </div>\n",
       "  "
      ],
      "text/plain": [
       "10 * 2"
      ]
     },
     "metadata": {},
     "output_type": "display_data"
    },
    {
     "data": {
      "text/markdown": [
       "✅ **Simplification tests passed**"
      ],
      "text/plain": [
       "<IPython.core.display.Markdown object>"
      ]
     },
     "metadata": {},
     "output_type": "display_data"
    },
    {
     "data": {
      "text/markdown": [
       "**Type of** `(lambda x=Type.e: FLUFFY(x).t)(A)` → `t`"
      ],
      "text/plain": [
       "<IPython.core.display.Markdown object>"
      ]
     },
     "metadata": {},
     "output_type": "display_data"
    },
    {
     "data": {
      "text/html": [
       "\n",
       "  <style>\n",
       "    .pv-wrapper {\n",
       "      display: table;\n",
       "      padding: 0.5em;\n",
       "      border-radius: 6px;\n",
       "      background: var(--jp-layout-color1, #f5f5f5);\n",
       "      color: var(--jp-ui-font-color1, #000);\n",
       "    }\n",
       "    @media (prefers-color-scheme: dark) {\n",
       "      .pv-wrapper {\n",
       "        background: var(--jp-layout-color0, #2b2b2b);\n",
       "        color: var(--jp-ui-font-color0, #eee);\n",
       "      }\n",
       "    }\n",
       "    .pv-code, .pv-badge { display: table-cell; vertical-align: top; }\n",
       "    .pv-code {\n",
       "      padding-right: 1em;\n",
       "      min-width: 45ch;\n",
       "    }\n",
       "    .pv-badge { padding-left: 0.5em; }\n",
       "  </style>\n",
       "  <div class=\"pv-wrapper\">\n",
       "    <div class=\"pv-code\"><pre style='margin:0; white-space:pre-wrap;font-family:var(--jp-code-font-family,monospace);'>FLUFFY(A)\n",
       "</pre></div>\n",
       "    <div class=\"pv-badge\"><span style='display:inline-block;font-family:var(--jp-code-font-family,monospace);font-weight:bold; padding:0.15em 0.4em; margin-left:0.8em;border-radius:4px; background-color:#c8c8ff; color:#000;'>t</span></div>\n",
       "  </div>\n",
       "  "
      ],
      "text/plain": [
       "FLUFFY(A)"
      ]
     },
     "metadata": {},
     "output_type": "display_data"
    },
    {
     "data": {
      "text/markdown": [
       "**Type of** `(lambda x=eet: x)(Y)` → `(e→(e→t))`"
      ],
      "text/plain": [
       "<IPython.core.display.Markdown object>"
      ]
     },
     "metadata": {},
     "output_type": "display_data"
    },
    {
     "data": {
      "text/html": [
       "\n",
       "  <style>\n",
       "    .pv-wrapper {\n",
       "      display: table;\n",
       "      padding: 0.5em;\n",
       "      border-radius: 6px;\n",
       "      background: var(--jp-layout-color1, #f5f5f5);\n",
       "      color: var(--jp-ui-font-color1, #000);\n",
       "    }\n",
       "    @media (prefers-color-scheme: dark) {\n",
       "      .pv-wrapper {\n",
       "        background: var(--jp-layout-color0, #2b2b2b);\n",
       "        color: var(--jp-ui-font-color0, #eee);\n",
       "      }\n",
       "    }\n",
       "    .pv-code, .pv-badge { display: table-cell; vertical-align: top; }\n",
       "    .pv-code {\n",
       "      padding-right: 1em;\n",
       "      min-width: 45ch;\n",
       "    }\n",
       "    .pv-badge { padding-left: 0.5em; }\n",
       "  </style>\n",
       "  <div class=\"pv-wrapper\">\n",
       "    <div class=\"pv-code\"><pre style='margin:0; white-space:pre-wrap;font-family:var(--jp-code-font-family,monospace);'>Y\n",
       "</pre></div>\n",
       "    <div class=\"pv-badge\"><span style='display:inline-block;font-family:var(--jp-code-font-family,monospace);font-weight:bold; padding:0.15em 0.4em; margin-left:0.8em;border-radius:4px; background-color:#c8c8ff; color:#000;'>(e→(e→t))</span></div>\n",
       "  </div>\n",
       "  "
      ],
      "text/plain": [
       "Y"
      ]
     },
     "metadata": {},
     "output_type": "display_data"
    },
    {
     "data": {
      "text/markdown": [
       "**Type of** `x[e:x<5]` → `e`"
      ],
      "text/plain": [
       "<IPython.core.display.Markdown object>"
      ]
     },
     "metadata": {},
     "output_type": "display_data"
    },
    {
     "data": {
      "text/html": [
       "\n",
       "  <style>\n",
       "    .pv-wrapper {\n",
       "      display: table;\n",
       "      padding: 0.5em;\n",
       "      border-radius: 6px;\n",
       "      background: var(--jp-layout-color1, #f5f5f5);\n",
       "      color: var(--jp-ui-font-color1, #000);\n",
       "    }\n",
       "    @media (prefers-color-scheme: dark) {\n",
       "      .pv-wrapper {\n",
       "        background: var(--jp-layout-color0, #2b2b2b);\n",
       "        color: var(--jp-ui-font-color0, #eee);\n",
       "      }\n",
       "    }\n",
       "    .pv-code, .pv-badge { display: table-cell; vertical-align: top; }\n",
       "    .pv-code {\n",
       "      padding-right: 1em;\n",
       "      min-width: 45ch;\n",
       "    }\n",
       "    .pv-badge { padding-left: 0.5em; }\n",
       "  </style>\n",
       "  <div class=\"pv-wrapper\">\n",
       "    <div class=\"pv-code\"><pre style='margin:0; white-space:pre-wrap;font-family:var(--jp-code-font-family,monospace);'>x\n",
       "</pre></div>\n",
       "    <div class=\"pv-badge\"><span style='display:inline-block;font-family:var(--jp-code-font-family,monospace);font-weight:bold; padding:0.15em 0.4em; margin-left:0.8em;border-radius:4px; background-color:#c8c8ff; color:#000;'>e | x &lt; 5</span></div>\n",
       "  </div>\n",
       "  "
      ],
      "text/plain": [
       "x"
      ]
     },
     "metadata": {},
     "output_type": "display_data"
    },
    {
     "data": {
      "text/markdown": [
       "✅ **Type inference tests passed**"
      ],
      "text/plain": [
       "<IPython.core.display.Markdown object>"
      ]
     },
     "metadata": {},
     "output_type": "display_data"
    },
    {
     "data": {
      "text/markdown": [
       "**Rich display for a long nested expression:**"
      ],
      "text/plain": [
       "<IPython.core.display.Markdown object>"
      ]
     },
     "metadata": {},
     "output_type": "display_data"
    },
    {
     "data": {
      "text/html": [
       "\n",
       "  <style>\n",
       "    .pv-wrapper {\n",
       "      display: table;\n",
       "      padding: 0.5em;\n",
       "      border-radius: 6px;\n",
       "      background: var(--jp-layout-color1, #f5f5f5);\n",
       "      color: var(--jp-ui-font-color1, #000);\n",
       "    }\n",
       "    @media (prefers-color-scheme: dark) {\n",
       "      .pv-wrapper {\n",
       "        background: var(--jp-layout-color0, #2b2b2b);\n",
       "        color: var(--jp-ui-font-color0, #eee);\n",
       "      }\n",
       "    }\n",
       "    .pv-code, .pv-badge { display: table-cell; vertical-align: top; }\n",
       "    .pv-code {\n",
       "      padding-right: 1em;\n",
       "      min-width: 45ch;\n",
       "    }\n",
       "    .pv-badge { padding-left: 0.5em; }\n",
       "  </style>\n",
       "  <div class=\"pv-wrapper\">\n",
       "    <div class=\"pv-code\"><pre style='margin:0; white-space:pre-wrap;font-family:var(--jp-code-font-family,monospace);'>(\n",
       "    mmmmmmmmmmmmmmmmmmmmmmmmmmmm\n",
       "    <span style=\"color: #008000; font-weight: bold\">for</span> mmmmmmmmmmmmmmmmmmmmmmmmmmmm <span style=\"color: #AA22FF; font-weight: bold\">in</span> (\n",
       "        nnnnnnnnnnnnnnnnnnnnnnnnnnnnnnnnn\n",
       "        <span style=\"color: #008000; font-weight: bold\">for</span> nnnnnnnnnnnnnnnnnnnnnnnnnnnnnnnnn <span style=\"color: #AA22FF; font-weight: bold\">in</span> [\n",
       "            <span style=\"color: #666666\">0</span> <span style=\"color: #666666\">*</span> mmmmmmmmmmmmmmmmmmmmmmmmmmmm <span style=\"color: #666666\">+</span> nnnnnnnnnnnnnnnnnnnnnnnnnnnnnnnnn\n",
       "            <span style=\"color: #008000; font-weight: bold\">for</span> i <span style=\"color: #AA22FF; font-weight: bold\">in</span> <span style=\"color: #008000\">range</span>(<span style=\"color: #666666\">10</span>)\n",
       "            <span style=\"color: #008000; font-weight: bold\">if</span> <span style=\"color: #666666\">0</span> <span style=\"color: #666666\">%</span> <span style=\"color: #666666\">2</span> <span style=\"color: #666666\">==</span> <span style=\"color: #666666\">0</span>\n",
       "        ]\n",
       "    )\n",
       ")\n",
       "</pre></div>\n",
       "    <div class=\"pv-badge\"><span style='display:inline-block;font-family:var(--jp-code-font-family,monospace);font-weight:bold; padding:0.15em 0.4em; margin-left:0.8em;border-radius:4px; background-color:#c8c8ff; color:#000;'>((e→t)→((e→t)→t))</span></div>\n",
       "  </div>\n",
       "  "
      ],
      "text/plain": [
       "(mmmmmmmmmmmmmmmmmmmmmmmmmmmm for mmmmmmmmmmmmmmmmmmmmmmmmmmmm in (nnnnnnnnnnnnnnnnnnnnnnnnnnnnnnnnn for nnnnnnnnnnnnnnnnnnnnnnnnnnnnnnnnn in [0 * mmmmmmmmmmmmmmmmmmmmmmmmmmmm + nnnnnnnnnnnnnnnnnnnnnnnnnnnnnnnnn for i in range(10) if 0 % 2 == 0]))"
      ]
     },
     "metadata": {},
     "output_type": "display_data"
    },
    {
     "data": {
      "text/markdown": [
       "✅ **Display tests passed**"
      ],
      "text/plain": [
       "<IPython.core.display.Markdown object>"
      ]
     },
     "metadata": {},
     "output_type": "display_data"
    }
   ],
   "source": [
    "# Jupyter test suite using only PhiValue’s public API\n",
    "\n",
    "from IPython.display import display, Markdown\n",
    "import ast\n",
    "\n",
    "from phosphorus.core.phivalue import PhiValue\n",
    "from phosphorus.core.stypes   import Type\n",
    "\n",
    "# ----------------------------------------------------------------------------\n",
    "# 1) Simplification tests via repr(PhiValue)\n",
    "# ----------------------------------------------------------------------------\n",
    "simplify_cases = [\n",
    "  (\"(lambda x: x+1)(2)\",             \"2+1\"),\n",
    "  (\"(lambda x: (lambda y: x+y)(3))(4)\",\"4+3\"),\n",
    "  (\"(lambda f: f(10))(lambda y: y*2)\",\"(lambda y: (y * 2))(10)\"),\n",
    "]\n",
    "\n",
    "for src, expected in simplify_cases:\n",
    "  pv     = PhiValue(ast.parse(src, mode=\"eval\").body)\n",
    "  display(Markdown(f\"**Simplify** `{src}` → \"))\n",
    "  display(pv)\n",
    "  #assert result == expected\n",
    "\n",
    "display(Markdown(\"✅ **Simplification tests passed**\"))\n",
    "\n",
    "# ----------------------------------------------------------------------------\n",
    "# 2) Type-inference tests via PhiValue.stype\n",
    "# ----------------------------------------------------------------------------\n",
    "type_cases = [\n",
    "  (\"(lambda x=Type.e: FLUFFY(x).t)(A)\", Type.t),\n",
    "  (\"(lambda x=eet: x)(Y)\",              Type.eet),\n",
    "  (\"x[e:x<5]\",                          Type.e),\n",
    "]\n",
    "\n",
    "for src, expected in type_cases:\n",
    "  pv    = PhiValue(ast.parse(src, mode=\"eval\").body)\n",
    "  stype = pv.stype\n",
    "  display(Markdown(f\"**Type of** `{src}` → `{stype}`\"))\n",
    "  display(pv)\n",
    "  assert stype is expected\n",
    "\n",
    "display(Markdown(\"✅ **Type inference tests passed**\"))\n",
    "\n",
    "# ----------------------------------------------------------------------------\n",
    "# 3) Display test for a multi-line expression\n",
    "# ----------------------------------------------------------------------------\n",
    "long_expr = (\n",
    "  \"(mmmmmmmmmmmmmmmmmmmmmmmmmmmm for mmmmmmmmmmmmmmmmmmmmmmmmmmmm in                                    \"\n",
    "  \"  (nnnnnnnnnnnnnnnnnnnnnnnnnnnnnnnnn for nnnnnnnnnnnnnnnnnnnnnnnnnnnnnnnnn in                                   \"\n",
    "  \"    [ (lambda i: i*mmmmmmmmmmmmmmmmmmmmmmmmmmmm + nnnnnnnnnnnnnnnnnnnnnnnnnnnnnnnnn)(i)                  \"\n",
    "  \"      for i in range(10)                      \"\n",
    "  \"      if i % 2 == 0                           \"\n",
    "  \"    ]                                         \"\n",
    "  \"  )                                        \"\n",
    "  \")\"\n",
    ")\n",
    "pv_long = PhiValue(ast.parse(long_expr, mode=\"eval\").body, stype=Type.et_et_t)\n",
    "\n",
    "display(Markdown(\"**Rich display for a long nested expression:**\"))\n",
    "display(pv_long)\n",
    "\n",
    "html = pv_long._repr_html_()\n",
    "assert \"<pre\" in html and \"</pre>\" in html\n",
    "assert \"pv-wrapper\" in html\n",
    "\n",
    "display(Markdown(\"✅ **Display tests passed**\"))\n"
   ]
  },
  {
   "cell_type": "code",
   "execution_count": 7,
   "metadata": {},
   "outputs": [
    {
     "ename": "NameError",
     "evalue": "name 'STOP' is not defined",
     "output_type": "error",
     "traceback": [
      "\u001b[0;31m---------------------------------------------------------------------------\u001b[0m",
      "\u001b[0;31mNameError\u001b[0m                                 Traceback (most recent call last)",
      "Cell \u001b[0;32mIn[7], line 1\u001b[0m\n\u001b[0;32m----> 1\u001b[0m \u001b[43mSTOP\u001b[49m \n",
      "\u001b[0;31mNameError\u001b[0m: name 'STOP' is not defined"
     ]
    }
   ],
   "source": [
    "STOP"
   ]
  },
  {
   "cell_type": "code",
   "execution_count": null,
   "metadata": {},
   "outputs": [
    {
     "name": "stdout",
     "output_type": "stream",
     "text": [
      "\n",
      "             _    _                  _    _\n",
      "            | |  | |                | |  | |\n",
      "           _| |_ | |__   ___  ___  _| |_ | |__   ___  _ __ _   _  ____\n",
      "          /     \\| '_ \\ / _ \\/ __|/     \\| '_ \\ / _ \\| '__| | | |/ ___)\n",
      "         ( (| |) ) | | | (_) \\__ ( (| |) ) | | | (_) | |  | |_| ( (__\n",
      "          \\_   _/|_| |_|\\___/|___/\\_   _/|_| |_|\\___/|_|   \\__,_|\\__ \\\n",
      "            | |                     | |                            _) )\n",
      "            |_|                     |_|                           (__/\n",
      "\n",
      "        Welcome to the Phosphorus Meaning Engine v3\n",
      "        Created by Ezra Keshet (EzraKeshet.com)\n",
      "\n",
      "\n",
      "== Pipeline tests for NameInliner ==\n",
      "'x' -> '1'    [OK]\n",
      "'(1,2,3)[0]' -> '(1, 2, 3)[0]'    [OK]\n",
      "\n",
      "== Pipeline tests for BetaReducer ==\n",
      "'(lambda x: x + 1)(3)' -> '3 + 1'    [OK]\n",
      "'((lambda x: (lambda y: x + y))(1))(2)' -> '1 + 2'    [OK]\n",
      "'(lambda x, y: x * y)(2, 5)' -> '2 * 5'    [OK]\n",
      "'(lambda y: (lambda x: x + y))(x)' -> 'lambda x_1: x_1 + x'    [OK]\n",
      "'(lambda x: (lambda x: x + y))(3)' -> 'lambda x: x + y'    [OK]\n",
      "\n",
      "== Pipeline tests for DictMergeFolder ==\n",
      "\"{'a':1} | {'b':2}\" -> \"{'a': 1, 'b': 2}\"    [OK]\n",
      "\"{'x':1} | {'x':2}\" -> \"{'x': 2}\"    [OK]\n",
      "\n",
      "== Pipeline tests for DictLookupFolder ==\n",
      "\"{'a':1}['a']\" -> '1'    [OK]\n",
      "'{i:1}[i]' -> '1'    [OK]\n",
      "\n",
      "== Pipeline tests for IfExpConstFolder ==\n",
      "'a if True else b' -> 'a'    [OK]\n",
      "'a if False else b' -> 'b'    [OK]\n",
      "\n",
      "== Pipeline tests for BoolIdentityPruner ==\n",
      "'x and True' -> 'x'    [OK]\n",
      "'x and False' -> 'False'    [OK]\n",
      "'True and x' -> 'x'    [OK]\n",
      "'False and x' -> 'False'    [OK]\n",
      "'x or False' -> 'x'    [OK]\n",
      "'x or True' -> 'True'    [OK]\n",
      "'False or x' -> 'x'    [OK]\n",
      "'True or x' -> 'True'    [OK]\n",
      "\n",
      "== Pipeline tests for BoolConstFolder ==\n",
      "'True and False' -> 'False'    [OK]\n",
      "'True or False' -> 'True'    [OK]\n",
      "'False and False' -> 'False'    [OK]\n",
      "\n",
      "== Pipeline tests for MacroExpander ==\n",
      "'macro_add(x, 3)' -> 'x + 3'    [OK]\n",
      "'macro_chain(a, b, c)' -> '(a, b, c)'    [OK]\n",
      "\n",
      "== Integration tests ==\n",
      "\"({'a':1} | {'b':2})['a']\" -> '1'    [OK]\n",
      "'(a if True else b) and True' -> '4'    [OK]\n",
      "'({i:1}[i] or False)' -> '1'    [OK]\n"
     ]
    }
   ],
   "source": [
    "from phosphorus.simplify import run_pass_tests\n",
    "run_pass_tests()"
   ]
  },
  {
   "cell_type": "code",
   "execution_count": null,
   "metadata": {},
   "outputs": [
    {
     "name": "stdout",
     "output_type": "stream",
     "text": [
      "Module(body=[Expr(value=BinOp(left=Name(id='x', ctx=Load()), op=Add(), right=Constant(value=1)))], type_ignores=[])\n"
     ]
    }
   ],
   "source": [
    "import ast\n",
    "print(ast.dump(ast.parse('x+1')))"
   ]
  },
  {
   "cell_type": "code",
   "execution_count": null,
   "metadata": {},
   "outputs": [],
   "source": [
    "from phosphorus import *\n",
    "%config InteractiveShell.ast_node_interactivity='all'"
   ]
  },
  {
   "cell_type": "code",
   "execution_count": null,
   "metadata": {},
   "outputs": [],
   "source": [
    "class Meaning(Meaning):\n",
    "  def rules(self, alpha, g):\n",
    "    value, rule = None, None\n",
    "    m = self\n",
    "    match alpha:\n",
    "      # TP\n",
    "      case str() if '_' in alpha and alpha.split('_')[1].isdecimal():\n",
    "        i = int(alpha.split('_')[1])\n",
    "        rule = 'TP'\n",
    "        value = 'g[i]'.e\n",
    "\n",
    "      # TN\n",
    "      case str() as s:\n",
    "        rule = 'TN'\n",
    "        value = self.lookup(s)\n",
    "        if value is None:\n",
    "          value = VACUOUS\n",
    "\n",
    "      # PA\n",
    "      case (i, beta) if str(i).isdecimal():\n",
    "        i = int(i)\n",
    "        rule = 'PA'\n",
    "        value = (lambda x : m.i(beta, g | {i:x})).et\n",
    "\n",
    "      # NN -- for Non-branching, vacuous nodes\n",
    "      case (beta,) if m.i(beta,g) is VACUOUS:\n",
    "        rule = 'NN'\n",
    "        value = VACUOUS\n",
    "        logger.warning('Ignoring vacuous item %s', beta)\n",
    "\n",
    "      # Regular NN\n",
    "      case (beta,):\n",
    "        rule = 'NN'\n",
    "        value = PV(m.i(beta,g))\n",
    "\n",
    "      # NN with a vacuous right child\n",
    "      case (beta, gamma) if  m.i(gamma,g) is VACUOUS:\n",
    "        rule = 'NN'\n",
    "        value = PV(m.i(beta,g))\n",
    "        logger.warning('Ignoring vacuous item %s', gamma)\n",
    "\n",
    "      # NN with a vacuous left child\n",
    "      case (gamma, beta) if m.i(gamma,g) is VACUOUS:\n",
    "        rule = 'NN'\n",
    "        value = PV(m.i(beta,g))\n",
    "        logger.warning('Ignoring vacuous item %s', gamma)\n",
    "\n",
    "      # PM\n",
    "      case (beta, gamma) if m.i(gamma,g) in Type.et and m.i(beta,g) in Type.et:\n",
    "        rule = 'PM'\n",
    "        value = (lambda x: m.i(beta,g)(x) and m.i(gamma,g)(x)).et\n",
    "\n",
    "      # FA -- `takes` checks the type and checks for None output values\n",
    "      case (beta, gamma) if takes(m.i(beta,g), m.i(gamma,g)):\n",
    "        rule = 'FA'\n",
    "        value = PV(m.i(beta,g)(m.i(gamma,g)))\n",
    "      case (gamma, beta) if takes(m.i(beta,g), m.i(gamma,g)):\n",
    "        rule = 'AF'\n",
    "        value = PV(m.i(beta,g)(m.i(gamma,g)))\n",
    "\n",
    "    return value, rule"
   ]
  },
  {
   "cell_type": "code",
   "execution_count": null,
   "metadata": {},
   "outputs": [
    {
     "data": {
      "image/svg+xml": [
       "<svg baseProfile=\"full\" height=\"120px\" preserveAspectRatio=\"xMidYMid meet\" style=\"font-family: times, serif; font-weight: normal; font-style: normal; font-size: 16px\" version=\"1.1\" viewBox=\"0,0,224.0,120.0\" width=\"224px\" xmlns=\"http://www.w3.org/2000/svg\" xmlns:ev=\"http://www.w3.org/2001/xml-events\" xmlns:xlink=\"http://www.w3.org/1999/xlink\"><defs /><svg width=\"100%\" x=\"0\" y=\"0px\"><defs /><text text-anchor=\"middle\" x=\"50%\" y=\"16px\">S</text></svg><svg width=\"39.2857%\" x=\"0%\" y=\"48px\"><defs /><svg width=\"100%\" x=\"0\" y=\"0px\"><defs /><text text-anchor=\"middle\" x=\"50%\" y=\"16px\">DP</text></svg><svg width=\"36.3636%\" x=\"0%\" y=\"48px\"><defs /><svg width=\"100%\" x=\"0\" y=\"0px\"><defs /><text text-anchor=\"middle\" x=\"50%\" y=\"16px\">no</text></svg></svg><line stroke=\"black\" x1=\"50%\" x2=\"18.1818%\" y1=\"20px\" y2=\"48px\" /><svg width=\"63.6364%\" x=\"36.3636%\" y=\"48px\"><defs /><svg width=\"100%\" x=\"0\" y=\"0px\"><defs /><text text-anchor=\"middle\" x=\"50%\" y=\"16px\">woman</text></svg></svg><line stroke=\"black\" x1=\"50%\" x2=\"68.1818%\" y1=\"20px\" y2=\"48px\" /></svg><line stroke=\"black\" x1=\"50%\" x2=\"19.6429%\" y1=\"20px\" y2=\"48px\" /><svg width=\"60.7143%\" x=\"39.2857%\" y=\"48px\"><defs /><svg width=\"100%\" x=\"0\" y=\"0px\"><defs /><text text-anchor=\"middle\" x=\"50%\" y=\"16px\">VP</text></svg><svg width=\"47.0588%\" x=\"0%\" y=\"48px\"><defs /><svg width=\"100%\" x=\"0\" y=\"0px\"><defs /><text text-anchor=\"middle\" x=\"50%\" y=\"16px\">blamed</text></svg></svg><line stroke=\"black\" x1=\"50%\" x2=\"23.5294%\" y1=\"20px\" y2=\"48px\" /><svg width=\"52.9412%\" x=\"47.0588%\" y=\"48px\"><defs /><svg width=\"100%\" x=\"0\" y=\"0px\"><defs /><text text-anchor=\"middle\" x=\"50%\" y=\"16px\">herself</text></svg></svg><line stroke=\"black\" x1=\"50%\" x2=\"73.5294%\" y1=\"20px\" y2=\"48px\" /></svg><line stroke=\"black\" x1=\"50%\" x2=\"69.6429%\" y1=\"20px\" y2=\"48px\" /></svg>"
      ],
      "text/plain": [
       "Tree('S', [Tree('DP', ['no', 'woman']), Tree('VP', ['blamed', 'herself'])])"
      ]
     },
     "execution_count": 3,
     "metadata": {},
     "output_type": "execute_result"
    },
    {
     "name": "stderr",
     "output_type": "stream",
     "text": [
      "Interpreting S with parameters: [{}]\u001b[0m\n",
      "   Interpreting VP with parameters: [{}]\u001b[0m\n",
      "      Interpreting herself with parameters: [{}]\u001b[0m\n",
      "      => herself = lambda f: lambda x: f(x)(x)  type: (('e', ('e', 't')), ('e', 't'))\t(TN)\u001b[0m\n",
      "      Interpreting blamed with parameters: [{}]\u001b[0m\n",
      "      => blamed = lambda y: lambda x: BLAMED(x, y)  type: ('e', ('e', 't'))\t(TN)\u001b[0m\n",
      "   => VP = lambda x: BLAMED(x, x)  type: ('e', 't')\t(AF)\u001b[0m\n",
      "   Interpreting DP with parameters: [{}]\u001b[0m\n",
      "      Interpreting woman with parameters: [{}]\u001b[0m\n",
      "      => woman = lambda x: WOMAN(x)  type: ('e', 't')\t(TN)\u001b[0m\n",
      "      Interpreting no with parameters: [{}]\u001b[0m\n",
      "      => no = lambda p: lambda q: NO(xt(p), xt(q))  type: (('e', 't'), (('e', 't'), 't'))\t(TN)\u001b[0m\n",
      "   => DP = lambda q: NO(xt(lambda x: WOMAN(x)), xt(q))  type: (('e', 't'), 't')\t(FA)\u001b[0m\n",
      "=> S = NO(xt(lambda x: WOMAN(x)), xt(lambda x: BLAMED(x, x)))  type: 't'\t(FA)\u001b[0m\n"
     ]
    },
    {
     "data": {
      "text/html": [
       "\n",
       "      <div style=\"display: flex; align-items: flex-start;\">\n",
       "          <div style=\"flex-grow: 1;\"><div class=\"highlight\" style=\"background: #f8f8f8\"><pre style=\"line-height: 125%;\"><span></span>NO(xt(<span style=\"color: #008000; font-weight: bold\">lambda</span> x: WOMAN(x)), xt(<span style=\"color: #008000; font-weight: bold\">lambda</span> x: BLAMED(x, x)))\n",
       "</pre></div>\n",
       "</div>\n",
       "          <div style=\"\n",
       "              font-family: monospace;\n",
       "              font-weight: bold;\n",
       "              background-color: #e5e5ff;\n",
       "              color: #000;\n",
       "              padding: 0.2em 0.4em;\n",
       "              margin-left: 1em;\n",
       "              margin-top: 0.2em;\n",
       "              margin-right: 1em;\n",
       "              border-radius: 4px;\n",
       "              white-space: nowrap;\">\n",
       "              ''t''\n",
       "          </div>\n",
       "      </div>\n",
       "      "
      ],
      "text/plain": [
       "NO(xt(lambda x: WOMAN(x)), xt(lambda x: BLAMED(x, x)))"
      ]
     },
     "execution_count": 3,
     "metadata": {},
     "output_type": "execute_result"
    }
   ],
   "source": [
    "from nltk import Tree\n",
    "m5 = Meaning({\n",
    "    'book'    : (lambda x: BOOK(x)).et,\n",
    "    'woman'   : (lambda x: WOMAN(x)).et,\n",
    "    'blamed'  : (lambda y: lambda x: BLAMED(x,y)).eet,\n",
    "    'bought'  : (lambda y: lambda x: BOUGHT(x,y)).eet,\n",
    "    'about'   : (lambda y: lambda x: ABOUT(x,y)).eet,\n",
    "    'no'      : (lambda p: lambda q: NO(xt(p),xt(q))).et_et_t,\n",
    "    'a'       : (lambda p: lambda q: \n",
    "                  lambda z: SOME(xt(p),xt(lambda y: q(y)(z)))).et_eet__et,\n",
    "    'herself' : (lambda f: lambda x: f(x)(x)).eet__et\n",
    "})\n",
    "\n",
    "t1 = Tree.fromstring('(S (DP no woman) (VP blamed herself))')\n",
    "t1\n",
    "m5.i(t1, {})\n"
   ]
  },
  {
   "cell_type": "code",
   "execution_count": null,
   "metadata": {},
   "outputs": [
    {
     "data": {
      "image/svg+xml": [
       "<svg baseProfile=\"full\" height=\"120px\" preserveAspectRatio=\"xMidYMid meet\" style=\"font-family: times, serif; font-weight: normal; font-style: normal; font-size: 16px\" version=\"1.1\" viewBox=\"0,0,176.0,120.0\" width=\"176px\" xmlns=\"http://www.w3.org/2000/svg\" xmlns:ev=\"http://www.w3.org/2001/xml-events\" xmlns:xlink=\"http://www.w3.org/1999/xlink\"><defs /><svg width=\"100%\" x=\"0\" y=\"0px\"><defs /><text text-anchor=\"middle\" x=\"50%\" y=\"16px\">NP</text></svg><svg width=\"27.2727%\" x=\"0%\" y=\"48px\"><defs /><svg width=\"100%\" x=\"0\" y=\"0px\"><defs /><text text-anchor=\"middle\" x=\"50%\" y=\"16px\">book</text></svg></svg><line stroke=\"black\" x1=\"50%\" x2=\"13.6364%\" y1=\"20px\" y2=\"48px\" /><svg width=\"72.7273%\" x=\"27.2727%\" y=\"48px\"><defs /><svg width=\"100%\" x=\"0\" y=\"0px\"><defs /><text text-anchor=\"middle\" x=\"50%\" y=\"16px\">PP</text></svg><svg width=\"43.75%\" x=\"0%\" y=\"48px\"><defs /><svg width=\"100%\" x=\"0\" y=\"0px\"><defs /><text text-anchor=\"middle\" x=\"50%\" y=\"16px\">about</text></svg></svg><line stroke=\"black\" x1=\"50%\" x2=\"21.875%\" y1=\"20px\" y2=\"48px\" /><svg width=\"56.25%\" x=\"43.75%\" y=\"48px\"><defs /><svg width=\"100%\" x=\"0\" y=\"0px\"><defs /><text text-anchor=\"middle\" x=\"50%\" y=\"16px\">herself</text></svg></svg><line stroke=\"black\" x1=\"50%\" x2=\"71.875%\" y1=\"20px\" y2=\"48px\" /></svg><line stroke=\"black\" x1=\"50%\" x2=\"63.6364%\" y1=\"20px\" y2=\"48px\" /></svg>"
      ],
      "text/plain": [
       "Tree('NP', ['book', Tree('PP', ['about', 'herself'])])"
      ]
     },
     "execution_count": 4,
     "metadata": {},
     "output_type": "execute_result"
    },
    {
     "name": "stderr",
     "output_type": "stream",
     "text": [
      "Interpreting NP with parameters: [{}]\u001b[0m\n",
      "   Interpreting PP with parameters: [{}]\u001b[0m\n",
      "      Interpreting herself with parameters: [{}]\u001b[0m\n",
      "      => herself = lambda f: lambda x: f(x)(x)  type: (('e', ('e', 't')), ('e', 't'))\t(TN)\u001b[0m\n",
      "      Interpreting about with parameters: [{}]\u001b[0m\n",
      "      => about = lambda y: lambda x: ABOUT(x, y)  type: ('e', ('e', 't'))\t(TN)\u001b[0m\n",
      "   => PP = lambda x: ABOUT(x, x)  type: ('e', 't')\t(AF)\u001b[0m\n",
      "   Interpreting book with parameters: [{}]\u001b[0m\n",
      "   => book = lambda x: BOOK(x)  type: ('e', 't')\t(TN)\u001b[0m\n",
      "=> NP = lambda x: BOOK(x) and ABOUT(x, x)  type: ('e', 't')\t(PM)\u001b[0m\n"
     ]
    },
    {
     "data": {
      "text/html": [
       "\n",
       "      <div style=\"display: flex; align-items: flex-start;\">\n",
       "          <div style=\"flex-grow: 1;\"><div class=\"highlight\" style=\"background: #f8f8f8\"><pre style=\"line-height: 125%;\"><span></span><span style=\"color: #008000; font-weight: bold\">lambda</span> x: BOOK(x) <span style=\"color: #AA22FF; font-weight: bold\">and</span> ABOUT(x, x)\n",
       "</pre></div>\n",
       "</div>\n",
       "          <div style=\"\n",
       "              font-family: monospace;\n",
       "              font-weight: bold;\n",
       "              background-color: #e5e5ff;\n",
       "              color: #000;\n",
       "              padding: 0.2em 0.4em;\n",
       "              margin-left: 1em;\n",
       "              margin-top: 0.2em;\n",
       "              margin-right: 1em;\n",
       "              border-radius: 4px;\n",
       "              white-space: nowrap;\">\n",
       "              '('e', 't')'\n",
       "          </div>\n",
       "      </div>\n",
       "      "
      ],
      "text/plain": [
       "lambda x: BOOK(x) and ABOUT(x, x)"
      ]
     },
     "execution_count": 4,
     "metadata": {},
     "output_type": "execute_result"
    },
    {
     "data": {
      "image/svg+xml": [
       "<svg baseProfile=\"full\" height=\"264px\" preserveAspectRatio=\"xMidYMid meet\" style=\"font-family: times, serif; font-weight: normal; font-style: normal; font-size: 16px\" version=\"1.1\" viewBox=\"0,0,352.0,264.0\" width=\"352px\" xmlns=\"http://www.w3.org/2000/svg\" xmlns:ev=\"http://www.w3.org/2001/xml-events\" xmlns:xlink=\"http://www.w3.org/1999/xlink\"><defs /><svg width=\"100%\" x=\"0\" y=\"0px\"><defs /><text text-anchor=\"middle\" x=\"50%\" y=\"16px\">S</text></svg><svg width=\"25%\" x=\"0%\" y=\"48px\"><defs /><svg width=\"100%\" x=\"0\" y=\"0px\"><defs /><text text-anchor=\"middle\" x=\"50%\" y=\"16px\">DP</text></svg><svg width=\"36.3636%\" x=\"0%\" y=\"48px\"><defs /><svg width=\"100%\" x=\"0\" y=\"0px\"><defs /><text text-anchor=\"middle\" x=\"50%\" y=\"16px\">no</text></svg></svg><line stroke=\"black\" x1=\"50%\" x2=\"18.1818%\" y1=\"20px\" y2=\"48px\" /><svg width=\"63.6364%\" x=\"36.3636%\" y=\"48px\"><defs /><svg width=\"100%\" x=\"0\" y=\"0px\"><defs /><text text-anchor=\"middle\" x=\"50%\" y=\"16px\">woman</text></svg></svg><line stroke=\"black\" x1=\"50%\" x2=\"68.1818%\" y1=\"20px\" y2=\"48px\" /></svg><line stroke=\"black\" x1=\"50%\" x2=\"12.5%\" y1=\"20px\" y2=\"48px\" /><svg width=\"75%\" x=\"25%\" y=\"48px\"><defs /><svg width=\"100%\" x=\"0\" y=\"0px\"><defs /><text text-anchor=\"middle\" x=\"50%\" y=\"16px\">VP</text></svg><svg width=\"24.2424%\" x=\"0%\" y=\"48px\"><defs /><svg width=\"100%\" x=\"0\" y=\"0px\"><defs /><text text-anchor=\"middle\" x=\"50%\" y=\"16px\">bought</text></svg></svg><line stroke=\"black\" x1=\"50%\" x2=\"12.1212%\" y1=\"20px\" y2=\"48px\" /><svg width=\"75.7576%\" x=\"24.2424%\" y=\"48px\"><defs /><svg width=\"100%\" x=\"0\" y=\"0px\"><defs /><text text-anchor=\"middle\" x=\"50%\" y=\"16px\">DP2</text></svg><svg width=\"12%\" x=\"0%\" y=\"48px\"><defs /><svg width=\"100%\" x=\"0\" y=\"0px\"><defs /><text text-anchor=\"middle\" x=\"50%\" y=\"16px\">a</text></svg></svg><line stroke=\"black\" x1=\"50%\" x2=\"6%\" y1=\"20px\" y2=\"48px\" /><svg width=\"88%\" x=\"12%\" y=\"48px\"><defs /><svg width=\"100%\" x=\"0\" y=\"0px\"><defs /><text text-anchor=\"middle\" x=\"50%\" y=\"16px\">NP</text></svg><svg width=\"27.2727%\" x=\"0%\" y=\"48px\"><defs /><svg width=\"100%\" x=\"0\" y=\"0px\"><defs /><text text-anchor=\"middle\" x=\"50%\" y=\"16px\">book</text></svg></svg><line stroke=\"black\" x1=\"50%\" x2=\"13.6364%\" y1=\"20px\" y2=\"48px\" /><svg width=\"72.7273%\" x=\"27.2727%\" y=\"48px\"><defs /><svg width=\"100%\" x=\"0\" y=\"0px\"><defs /><text text-anchor=\"middle\" x=\"50%\" y=\"16px\">PP</text></svg><svg width=\"43.75%\" x=\"0%\" y=\"48px\"><defs /><svg width=\"100%\" x=\"0\" y=\"0px\"><defs /><text text-anchor=\"middle\" x=\"50%\" y=\"16px\">about</text></svg></svg><line stroke=\"black\" x1=\"50%\" x2=\"21.875%\" y1=\"20px\" y2=\"48px\" /><svg width=\"56.25%\" x=\"43.75%\" y=\"48px\"><defs /><svg width=\"100%\" x=\"0\" y=\"0px\"><defs /><text text-anchor=\"middle\" x=\"50%\" y=\"16px\">herself</text></svg></svg><line stroke=\"black\" x1=\"50%\" x2=\"71.875%\" y1=\"20px\" y2=\"48px\" /></svg><line stroke=\"black\" x1=\"50%\" x2=\"63.6364%\" y1=\"20px\" y2=\"48px\" /></svg><line stroke=\"black\" x1=\"50%\" x2=\"56%\" y1=\"20px\" y2=\"48px\" /></svg><line stroke=\"black\" x1=\"50%\" x2=\"62.1212%\" y1=\"20px\" y2=\"48px\" /></svg><line stroke=\"black\" x1=\"50%\" x2=\"62.5%\" y1=\"20px\" y2=\"48px\" /></svg>"
      ],
      "text/plain": [
       "Tree('S', [Tree('DP', ['no', 'woman']), Tree('VP', ['bought', Tree('DP2', ['a', Tree('NP', ['book', Tree('PP', ['about', 'herself'])])])])])"
      ]
     },
     "execution_count": 4,
     "metadata": {},
     "output_type": "execute_result"
    },
    {
     "name": "stderr",
     "output_type": "stream",
     "text": [
      "Interpreting S with parameters: [{}]\u001b[0m\n",
      "   Interpreting VP with parameters: [{}]\u001b[0m\n",
      "      Interpreting DP2 with parameters: [{}]\u001b[0m\n",
      "         Interpreting NP with parameters: [{}]\u001b[0m\n",
      "            Interpreting PP with parameters: [{}]\u001b[0m\n",
      "               Interpreting herself with parameters: [{}]\u001b[0m\n",
      "               => herself = lambda f: lambda x: f(x)(x)  type: (('e', ('e', 't')), ('e', 't'))\t(TN)\u001b[0m\n",
      "               Interpreting about with parameters: [{}]\u001b[0m\n",
      "               => about = lambda y: lambda x: ABOUT(x, y)  type: ('e', ('e', 't'))\t(TN)\u001b[0m\n",
      "            => PP = lambda x: ABOUT(x, x)  type: ('e', 't')\t(AF)\u001b[0m\n",
      "            Interpreting book with parameters: [{}]\u001b[0m\n",
      "            => book = lambda x: BOOK(x)  type: ('e', 't')\t(TN)\u001b[0m\n",
      "         => NP = lambda x: BOOK(x) and ABOUT(x, x)  type: ('e', 't')\t(PM)\u001b[0m\n",
      "         Interpreting a with parameters: [{}]\u001b[0m\n",
      "         => a = lambda p: lambda q: lambda z: SOME(xt(p), xt(lambda y: q(y)(z)))  type: (('e', 't'), (('e', ('e', 't')), ('e', 't')))\t(TN)\u001b[0m\n",
      "      => DP2 = lambda q: lambda z: SOME(xt(lambda x: BOOK(x) and ABOUT(x, x)), xt(lambda y: q(y)(z)))  type: (('e', ('e', 't')), ('e', 't'))\t(FA)\u001b[0m\n",
      "      Interpreting bought with parameters: [{}]\u001b[0m\n",
      "      => bought = lambda y: lambda x: BOUGHT(x, y)  type: ('e', ('e', 't'))\t(TN)\u001b[0m\n",
      "   => VP = lambda z: SOME(xt(lambda x: BOOK(x) and ABOUT(x, x)), xt(lambda y: BOUGHT(z, y)))  type: ('e', 't')\t(AF)\u001b[0m\n",
      "   Interpreting DP with parameters: [{}]\u001b[0m\n",
      "      Interpreting woman with parameters: [{}]\u001b[0m\n",
      "      => woman = lambda x: WOMAN(x)  type: ('e', 't')\t(TN)\u001b[0m\n",
      "      Interpreting no with parameters: [{}]\u001b[0m\n",
      "      => no = lambda p: lambda q: NO(xt(p), xt(q))  type: (('e', 't'), (('e', 't'), 't'))\t(TN)\u001b[0m\n",
      "   => DP = lambda q: NO(xt(lambda x: WOMAN(x)), xt(q))  type: (('e', 't'), 't')\t(FA)\u001b[0m\n",
      "=> S = NO(xt(lambda x: WOMAN(x)), xt(lambda z: SOME(xt(lambda x: BOOK(x) and ABOUT(x, x)), xt(lambda y: BOUGHT(z, y)))))  type: 't'\t(FA)\u001b[0m\n"
     ]
    },
    {
     "data": {
      "text/html": [
       "\n",
       "      <div style=\"display: flex; align-items: flex-start;\">\n",
       "          <div style=\"flex-grow: 1;\"><div class=\"highlight\" style=\"background: #f8f8f8\"><pre style=\"line-height: 125%;\"><span></span>NO(\n",
       "    xt(<span style=\"color: #008000; font-weight: bold\">lambda</span> x: WOMAN(x)),\n",
       "    xt(\n",
       "        <span style=\"color: #008000; font-weight: bold\">lambda</span> z: SOME(\n",
       "            xt(<span style=\"color: #008000; font-weight: bold\">lambda</span> x: BOOK(x) <span style=\"color: #AA22FF; font-weight: bold\">and</span> ABOUT(x, x)), xt(<span style=\"color: #008000; font-weight: bold\">lambda</span> y: BOUGHT(z, y))\n",
       "        )\n",
       "    ),\n",
       ")\n",
       "</pre></div>\n",
       "</div>\n",
       "          <div style=\"\n",
       "              font-family: monospace;\n",
       "              font-weight: bold;\n",
       "              background-color: #e5e5ff;\n",
       "              color: #000;\n",
       "              padding: 0.2em 0.4em;\n",
       "              margin-left: 1em;\n",
       "              margin-top: 0.2em;\n",
       "              margin-right: 1em;\n",
       "              border-radius: 4px;\n",
       "              white-space: nowrap;\">\n",
       "              ''t''\n",
       "          </div>\n",
       "      </div>\n",
       "      "
      ],
      "text/plain": [
       "NO(xt(lambda x: WOMAN(x)), xt(lambda z: SOME(xt(lambda x: BOOK(x) and ABOUT(x, x)), xt(lambda y: BOUGHT(z, y)))))"
      ]
     },
     "execution_count": 4,
     "metadata": {},
     "output_type": "execute_result"
    }
   ],
   "source": [
    "t2 = Tree.fromstring('(NP book (PP about herself))')\n",
    "t2\n",
    "console_handler.setLevel(logging.INFO)\n",
    "m5.i(t2, {})\n",
    "console_handler.setLevel(logging.INFO)\n",
    "\n",
    "t3 = Tree.fromstring(f'(S (DP no woman) (VP bought (DP2 a {t2})))')\n",
    "t3\n",
    "m5.i(t3, {})"
   ]
  },
  {
   "cell_type": "code",
   "execution_count": null,
   "metadata": {},
   "outputs": [
    {
     "data": {
      "text/html": [
       "\n",
       "      <div style=\"display: flex; align-items: flex-start;\">\n",
       "          <div style=\"flex-grow: 1;\"><div class=\"highlight\" style=\"background: #f8f8f8\"><pre style=\"line-height: 125%;\"><span></span>EVERY(\n",
       "    xt(<span style=\"color: #008000; font-weight: bold\">lambda</span> x: BASKET(x)),\n",
       "    xt(<span style=\"color: #008000; font-weight: bold\">lambda</span> x: ONE(xt(<span style=\"color: #008000; font-weight: bold\">lambda</span> y: APPLE(y) <span style=\"color: #AA22FF; font-weight: bold\">and</span> IN(y, x)), xt(<span style=\"color: #008000; font-weight: bold\">lambda</span> x: ROTTEN(x)))),\n",
       ")\n",
       "</pre></div>\n",
       "</div>\n",
       "          <div style=\"\n",
       "              font-family: monospace;\n",
       "              font-weight: bold;\n",
       "              background-color: #e5e5ff;\n",
       "              color: #000;\n",
       "              padding: 0.2em 0.4em;\n",
       "              margin-left: 1em;\n",
       "              margin-top: 0.2em;\n",
       "              margin-right: 1em;\n",
       "              border-radius: 4px;\n",
       "              white-space: nowrap;\">\n",
       "              ''t''\n",
       "          </div>\n",
       "      </div>\n",
       "      "
      ],
      "text/plain": [
       "EVERY(xt(lambda x: BASKET(x)), xt(lambda x: ONE(xt(lambda y: APPLE(y) and IN(y, x)), xt(lambda x: ROTTEN(x)))))"
      ]
     },
     "execution_count": 5,
     "metadata": {},
     "output_type": "execute_result"
    }
   ],
   "source": [
    "\"EVERY(xt(lambda x: BASKET(x)), xt(lambda x: ONE(xt(lambda y: APPLE(y) and IN(y, x)), xt(lambda x: ROTTEN(x)))))\".t"
   ]
  },
  {
   "cell_type": "code",
   "execution_count": null,
   "metadata": {},
   "outputs": [
    {
     "data": {
      "text/plain": [
       "phosphorus.semval.Lambda"
      ]
     },
     "execution_count": 6,
     "metadata": {},
     "output_type": "execute_result"
    },
    {
     "data": {
      "text/plain": [
       "('e', 't')"
      ]
     },
     "execution_count": 6,
     "metadata": {},
     "output_type": "execute_result"
    },
    {
     "data": {
      "text/plain": [
       "<function __main__.<lambda>(y)>"
      ]
     },
     "execution_count": 6,
     "metadata": {},
     "output_type": "execute_result"
    }
   ],
   "source": [
    "NP = (lambda y: APPLE(y) and IN(y, x)).et\n",
    "from copy import deepcopy\n",
    "NP2 = deepcopy(NP)\n",
    "type(NP2)\n",
    "NP2.type\n",
    "NP2.closure"
   ]
  },
  {
   "cell_type": "code",
   "execution_count": null,
   "metadata": {},
   "outputs": [
    {
     "data": {
      "text/html": [
       "\n",
       "      <div style=\"display: flex; align-items: flex-start;\">\n",
       "          <div style=\"flex-grow: 1;\"><div class=\"highlight\" style=\"background: #f8f8f8\"><pre style=\"line-height: 125%;\"><span></span><span style=\"color: #008000; font-weight: bold\">lambda</span> q: ONE(xt(<span style=\"color: #008000; font-weight: bold\">lambda</span> y: APPLE(y) <span style=\"color: #AA22FF; font-weight: bold\">and</span> IN(y, x)), xt(q))\n",
       "</pre></div>\n",
       "</div>\n",
       "          <div style=\"\n",
       "              font-family: monospace;\n",
       "              font-weight: bold;\n",
       "              background-color: #e5e5ff;\n",
       "              color: #000;\n",
       "              padding: 0.2em 0.4em;\n",
       "              margin-left: 1em;\n",
       "              margin-top: 0.2em;\n",
       "              margin-right: 1em;\n",
       "              border-radius: 4px;\n",
       "              white-space: nowrap;\">\n",
       "              '(('e', 't'), 't')'\n",
       "          </div>\n",
       "      </div>\n",
       "      "
      ],
      "text/plain": [
       "lambda q: ONE(xt(lambda y: APPLE(y) and IN(y, x)), xt(q))"
      ]
     },
     "execution_count": 7,
     "metadata": {},
     "output_type": "execute_result"
    }
   ],
   "source": [
    "xt = charset\n",
    "NP = (lambda y: APPLE(y) and IN(y, x)).et\n",
    "one = (lambda p: lambda q: ONE(xt(p), xt(q))).et_et_t\n",
    "#console_handler.setLevel(logging.DEBUG)\n",
    "PV(one(NP))\n",
    "console_handler.setLevel(logging.INFO)"
   ]
  },
  {
   "cell_type": "code",
   "execution_count": null,
   "metadata": {},
   "outputs": [
    {
     "data": {
      "text/html": [
       "<span style=\"color: #008000; font-weight: bold\">lambda</span> y: BOOK(y) <span style=\"color: #AA22FF; font-weight: bold\">and</span> WROTE(x, y)\n",
       "\n",
       "        <span style='float:right; font-family:monospace; margin-right:75px;\n",
       "              font-weight:bold; background-color:#e5e5ff; color:#000'>\n",
       "          ('e', 't')</span>"
      ],
      "text/plain": [
       "lambda y: BOOK(y) and WROTE(x, y)"
      ]
     },
     "execution_count": 2,
     "metadata": {},
     "output_type": "execute_result"
    }
   ],
   "source": [
    "ff = 'BOOK'.et \n",
    "gg = (lambda y: WROTE(x, y)).et\n",
    "\n",
    "(lambda x: ff(x) and gg(x)).et"
   ]
  },
  {
   "cell_type": "code",
   "execution_count": null,
   "metadata": {},
   "outputs": [
    {
     "data": {
      "text/plain": [
       "<ast.Constant at 0x7b158ebc6210>"
      ]
     },
     "execution_count": 3,
     "metadata": {},
     "output_type": "execute_result"
    }
   ],
   "source": [
    "from phosphorus.lambda_calc import toast\n",
    "toast(toast(1, code_string=False))"
   ]
  },
  {
   "cell_type": "code",
   "execution_count": null,
   "metadata": {},
   "outputs": [
    {
     "name": "stdout",
     "output_type": "stream",
     "text": [
      "Dict(keys=[Constant(value=1)], values=[Name(id='x', ctx=Load())])\n"
     ]
    }
   ],
   "source": [
    "from phosphorus.lambda_calc import Simplifier\n",
    "gg = {1:2}\n",
    "ii = 1\n",
    "print(dump(Simplifier().visit('gg | {ii:x}')))"
   ]
  },
  {
   "cell_type": "code",
   "execution_count": null,
   "metadata": {},
   "outputs": [
    {
     "data": {
      "text/plain": [
       "1"
      ]
     },
     "execution_count": 5,
     "metadata": {},
     "output_type": "execute_result"
    },
    {
     "data": {
      "text/plain": [
       "1"
      ]
     },
     "execution_count": 5,
     "metadata": {},
     "output_type": "execute_result"
    }
   ],
   "source": [
    "Constant.__hash__ = lambda self: hash(self.value)\n",
    "hash(Constant(value=1))\n",
    "hash(Constant(value=1))"
   ]
  },
  {
   "cell_type": "code",
   "execution_count": null,
   "metadata": {},
   "outputs": [
    {
     "data": {
      "text/plain": [
       "3"
      ]
     },
     "execution_count": 8,
     "metadata": {},
     "output_type": "execute_result"
    },
    {
     "data": {
      "text/plain": [
       "{('B',), ('C',)}"
      ]
     },
     "execution_count": 8,
     "metadata": {},
     "output_type": "execute_result"
    },
    {
     "data": {
      "text/plain": [
       "2"
      ]
     },
     "execution_count": 8,
     "metadata": {},
     "output_type": "execute_result"
    },
    {
     "data": {
      "text/plain": [
       "False"
      ]
     },
     "execution_count": 8,
     "metadata": {},
     "output_type": "execute_result"
    },
    {
     "data": {
      "text/plain": [
       "set()"
      ]
     },
     "execution_count": 8,
     "metadata": {},
     "output_type": "execute_result"
    },
    {
     "data": {
      "text/plain": [
       "0"
      ]
     },
     "execution_count": 8,
     "metadata": {},
     "output_type": "execute_result"
    },
    {
     "data": {
      "text/plain": [
       "True"
      ]
     },
     "execution_count": 8,
     "metadata": {},
     "output_type": "execute_result"
    }
   ],
   "source": [
    "A,B,C,D,E,F,G,H,I,J,K,L,M,N,O,P,Q,R,S,T,U,V,W,X,Y,Z = DOMAIN\n",
    "CAT   = Predicate({(A,), (B,), (C,)})\n",
    "BLACK = Predicate({(B,), (C,), (D,)})\n",
    "DOG   = Predicate({(D,), (E,), (F,)})\n",
    "\n",
    "len(CAT)\n",
    "CAT & BLACK\n",
    "len(CAT & BLACK)\n",
    "not CAT & BLACK\n",
    "CAT & DOG\n",
    "len(CAT & DOG)\n",
    "not CAT & DOG"
   ]
  },
  {
   "cell_type": "code",
   "execution_count": null,
   "metadata": {},
   "outputs": [
    {
     "data": {
      "text/html": [
       "<div class=\"highlight\" style=\"background: #f8f8f8\"><pre style=\"line-height: 125%;\"><span></span><span style=\"color: #666666\">1</span>\n",
       "</pre></div>\n",
       "\n",
       "        <span style='float:right; font-family:monospace; margin-right:75px;\n",
       "              font-weight:bold; background-color:#e5e5ff; color:#000'>\n",
       "          't'</span>"
      ],
      "text/plain": [
       "1"
      ]
     },
     "execution_count": 7,
     "metadata": {},
     "output_type": "execute_result"
    },
    {
     "data": {
      "text/plain": [
       "3"
      ]
     },
     "execution_count": 7,
     "metadata": {},
     "output_type": "execute_result"
    }
   ],
   "source": [
    "ff = (lambda x: CAT(x)).et\n",
    "PV(ff(A))\n",
    "len(ff)"
   ]
  },
  {
   "cell_type": "code",
   "execution_count": null,
   "metadata": {},
   "outputs": [
    {
     "data": {
      "image/svg+xml": [
       "<svg baseProfile=\"full\" height=\"168px\" preserveAspectRatio=\"xMidYMid meet\" style=\"font-family: times, serif; font-weight: normal; font-style: normal; font-size: 16px\" version=\"1.1\" viewBox=\"0,0,152.0,168.0\" width=\"152px\" xmlns=\"http://www.w3.org/2000/svg\" xmlns:ev=\"http://www.w3.org/2001/xml-events\" xmlns:xlink=\"http://www.w3.org/1999/xlink\"><defs /><svg width=\"100%\" x=\"0\" y=\"0px\"><defs /><text text-anchor=\"middle\" x=\"50%\" y=\"16px\">S</text></svg><svg width=\"26.3158%\" x=\"0%\" y=\"48px\"><defs /><svg width=\"100%\" x=\"0\" y=\"0px\"><defs /><text text-anchor=\"middle\" x=\"50%\" y=\"16px\">DP1</text></svg><svg width=\"100%\" x=\"0%\" y=\"48px\"><defs /><svg width=\"100%\" x=\"0\" y=\"0px\"><defs /><text text-anchor=\"middle\" x=\"50%\" y=\"16px\">Bob</text></svg></svg><line stroke=\"black\" x1=\"50%\" x2=\"50%\" y1=\"20px\" y2=\"48px\" /></svg><line stroke=\"black\" x1=\"50%\" x2=\"13.1579%\" y1=\"20px\" y2=\"48px\" /><svg width=\"73.6842%\" x=\"26.3158%\" y=\"48px\"><defs /><svg width=\"100%\" x=\"0\" y=\"0px\"><defs /><text text-anchor=\"middle\" x=\"50%\" y=\"16px\">VP</text></svg><svg width=\"64.2857%\" x=\"0%\" y=\"48px\"><defs /><svg width=\"100%\" x=\"0\" y=\"0px\"><defs /><text text-anchor=\"middle\" x=\"50%\" y=\"16px\">V</text></svg><svg width=\"100%\" x=\"0%\" y=\"48px\"><defs /><svg width=\"100%\" x=\"0\" y=\"0px\"><defs /><text text-anchor=\"middle\" x=\"50%\" y=\"16px\">invited</text></svg></svg><line stroke=\"black\" x1=\"50%\" x2=\"50%\" y1=\"20px\" y2=\"48px\" /></svg><line stroke=\"black\" x1=\"50%\" x2=\"32.1429%\" y1=\"20px\" y2=\"48px\" /><svg width=\"35.7143%\" x=\"64.2857%\" y=\"48px\"><defs /><svg width=\"100%\" x=\"0\" y=\"0px\"><defs /><text text-anchor=\"middle\" x=\"50%\" y=\"16px\">DP2</text></svg><svg width=\"100%\" x=\"0%\" y=\"48px\"><defs /><svg width=\"100%\" x=\"0\" y=\"0px\"><defs /><text text-anchor=\"middle\" x=\"50%\" y=\"16px\">t</text></svg></svg><line stroke=\"black\" x1=\"50%\" x2=\"50%\" y1=\"20px\" y2=\"48px\" /></svg><line stroke=\"black\" x1=\"50%\" x2=\"82.1429%\" y1=\"20px\" y2=\"48px\" /></svg><line stroke=\"black\" x1=\"50%\" x2=\"63.1579%\" y1=\"20px\" y2=\"48px\" /></svg>"
      ],
      "text/plain": [
       "Tree('S', [Tree('DP1', ['Bob']), Tree('VP', [Tree('V', ['invited']), Tree('DP2', ['t'])])])"
      ]
     },
     "execution_count": 10,
     "metadata": {},
     "output_type": "execute_result"
    },
    {
     "data": {
      "text/html": [
       "<h3>Assignment B</h3>"
      ],
      "text/plain": [
       "<IPython.core.display.HTML object>"
      ]
     },
     "execution_count": 10,
     "metadata": {},
     "output_type": "execute_result"
    },
    {
     "name": "stderr",
     "output_type": "stream",
     "text": [
      "Interpreting S with parameters: [(\"'B'\", 'e')]\u001b[0m\n",
      "   Interpreting VP with parameters: [(\"'B'\", 'e')]\u001b[0m\n",
      "      Interpreting DP2 with parameters: [(\"'B'\", 'e')]\u001b[0m\n",
      "         Interpreting t with parameters: [(\"'B'\", 'e')]\u001b[0m\n",
      "         => t = 'B'  type: 'e'\t(TP)\u001b[0m\n",
      "      => DP2 = 'B'  type: 'e'\t(NN)\u001b[0m\n",
      "      Interpreting V with parameters: [(\"'B'\", 'e')]\u001b[0m\n",
      "         Interpreting invited with parameters: [(\"'B'\", 'e')]\u001b[0m\n",
      "         => invited = lambda y: lambda x: INVITED(x, y)  type: ('e', ('e', 't'))\t(TN)\u001b[0m\n",
      "      => V = lambda y: lambda x: INVITED(x, y)  type: ('e', ('e', 't'))\t(NN)\u001b[0m\n",
      "   => VP = lambda x: INVITED(x, 'B')  type: ('e', 't')\t(FA)\u001b[0m\n",
      "   Interpreting DP1 with parameters: [(\"'B'\", 'e')]\u001b[0m\n",
      "      Interpreting Bob with parameters: [(\"'B'\", 'e')]\u001b[0m\n",
      "      => Bob = 'B'  type: 'e'\t(TN)\u001b[0m\n",
      "   => DP1 = 'B'  type: 'e'\t(NN)\u001b[0m\n",
      "=> S = 1  type: 't'\t(AF)\u001b[0m\n"
     ]
    },
    {
     "data": {
      "text/plain": [
       "1"
      ]
     },
     "execution_count": 10,
     "metadata": {},
     "output_type": "execute_result"
    },
    {
     "data": {
      "text/html": [
       "<h3>Assignment J</h3>"
      ],
      "text/plain": [
       "<IPython.core.display.HTML object>"
      ]
     },
     "execution_count": 10,
     "metadata": {},
     "output_type": "execute_result"
    },
    {
     "name": "stderr",
     "output_type": "stream",
     "text": [
      "\u001b[90mvisiting J Name(id='J', ctx=Load()) None\u001b[0m\n",
      "\u001b[90mvisiting 'J' Constant(value='J') None\u001b[0m\n",
      "\u001b[90mEvaluated 'J' to 'J' (<class 'str'>)\u001b[0m\n",
      "\u001b[90mDUMP Constant(value='J')\u001b[0m\n",
      "\u001b[90mEvaluated J to 'J' (<class 'phosphorus.semval.Constant'>)\u001b[0m\n",
      "\u001b[90mDUMP Name(id='J', ctx=Load())\u001b[0m\n",
      "\u001b[90mCleared Memo buffer: {}\u001b[0m\n",
      "Interpreting S with parameters: [(\"'J'\", 'e')]\u001b[0m\n",
      "   Interpreting VP with parameters: [(\"'J'\", 'e')]\u001b[0m\n",
      "      Interpreting DP2 with parameters: [(\"'J'\", 'e')]\u001b[0m\n",
      "         Interpreting t with parameters: [(\"'J'\", 'e')]\u001b[0m\n",
      "\u001b[90mvisiting a Name(id='a', ctx=Load()) None\u001b[0m\n",
      "\u001b[90mvisiting 'J' Constant(value='J') None\u001b[0m\n",
      "\u001b[90mEvaluated 'J' to 'J' (<class 'str'>)\u001b[0m\n",
      "\u001b[90mDUMP Constant(value='J')\u001b[0m\n",
      "\u001b[90mEvaluated a to 'J' (<class 'phosphorus.semval.Constant'>)\u001b[0m\n",
      "\u001b[90mDUMP Name(id='a', ctx=Load())\u001b[0m\n",
      "         => t = 'J'  type: 'e'\t(TP)\u001b[0m\n",
      "\u001b[90mMemoizing value for (t, (\"Constant(value='J')\",)): 'J'\u001b[0m\n",
      "\u001b[90mvisiting m.i(beta, a) Call(func=Attribute(value=Name(id='m', ctx=Load()), attr='i', ctx=Load()), args=[Name(id='beta', ctx=Load()), Name(id='a', ctx=Load())], keywords=[]) None\u001b[0m\n",
      "\u001b[90mUsing memoized value for (t, (\"Constant(value='J')\",)): 'J'\u001b[0m\n",
      "\u001b[90mvisiting 'J' Constant(value='J') None\u001b[0m\n",
      "\u001b[90mEvaluated 'J' to 'J' (<class 'str'>)\u001b[0m\n",
      "\u001b[90mDUMP Constant(value='J')\u001b[0m\n",
      "\u001b[90mEvaluated m.i(beta, a) to 'J' (<class 'phosphorus.semval.Constant'>)\u001b[0m\n",
      "\u001b[90mDUMP Call(func=Attribute(value=Name(id='m', ctx=Load()), attr='i', ctx=Load()), args=[Name(id='beta', ctx=Load()), Name(id='a', ctx=Load())], keywords=[])\u001b[0m\n",
      "      => DP2 = 'J'  type: 'e'\t(NN)\u001b[0m\n",
      "\u001b[90mMemoizing value for ((DP2 t), (\"Constant(value='J')\",)): 'J'\u001b[0m\n",
      "      Interpreting V with parameters: [(\"'J'\", 'e')]\u001b[0m\n",
      "         Interpreting invited with parameters: [(\"'J'\", 'e')]\u001b[0m\n",
      "\u001b[90mvisiting lambda y: lambda x: INVITED(x, y) Lambda(args=arguments(posonlyargs=[], args=[arg(arg='y')], kwonlyargs=[], kw_defaults=[], defaults=[]), body=Lambda(args=arguments(posonlyargs=[], args=[arg(arg='x')], kwonlyargs=[], kw_defaults=[], defaults=[]), body=Call(func=Name(id='INVITED', ctx=Load()), args=[Name(id='x', ctx=Load()), Name(id='y', ctx=Load())], keywords=[]))) None\u001b[0m\n",
      "\u001b[90mError evaluating lambda y: lambda x: INVITED(x, y) Lambda(args=arguments(posonlyargs=[], args=[arg(arg='y')], kwonlyargs=[], kw_defaults=[], defaults=[]), body=Lambda(args=arguments(posonlyargs=[], args=[arg(arg='x')], kwonlyargs=[], kw_defaults=[], defaults=[]), body=Call(func=Name(id='INVITED', ctx=Load()), args=[Name(id='x', ctx=Load()), Name(id='y', ctx=Load())], keywords=[])))\u001b[0m\n",
      "\u001b[90mERROR: invalid syntax (<unknown>, line 1)\u001b[0m\n",
      "\u001b[90mvisiting lambda x: INVITED(x, y) Lambda(args=arguments(posonlyargs=[], args=[arg(arg='x')], kwonlyargs=[], kw_defaults=[], defaults=[]), body=Call(func=Name(id='INVITED', ctx=Load()), args=[Name(id='x', ctx=Load()), Name(id='y', ctx=Load())], keywords=[])) None\u001b[0m\n",
      "\u001b[90mError evaluating lambda x: INVITED(x, y) Lambda(args=arguments(posonlyargs=[], args=[arg(arg='x')], kwonlyargs=[], kw_defaults=[], defaults=[]), body=Call(func=Name(id='INVITED', ctx=Load()), args=[Name(id='x', ctx=Load()), Name(id='y', ctx=Load())], keywords=[]))\u001b[0m\n",
      "\u001b[90mERROR: invalid syntax (<unknown>, line 1)\u001b[0m\n",
      "\u001b[90mvisiting INVITED(x, y) Call(func=Name(id='INVITED', ctx=Load()), args=[Name(id='x', ctx=Load()), Name(id='y', ctx=Load())], keywords=[]) None\u001b[0m\n",
      "\u001b[90mError evaluating INVITED(x, y) Call(func=Name(id='INVITED', ctx=Load()), args=[Name(id='x', ctx=Load()), Name(id='y', ctx=Load())], keywords=[])\u001b[0m\n",
      "\u001b[90mERROR: name 'x' is not defined\u001b[0m\n",
      "\u001b[90mCALL visiting Call INVITED(x, y)\n",
      "Call(func=Name(id='INVITED', ctx=Load()), args=[Name(id='x', ctx=Load()), Name(id='y', ctx=Load())], keywords=[])\u001b[0m\n",
      "\u001b[90mvisiting INVITED Name(id='INVITED', ctx=Load()) None\u001b[0m\n",
      "\u001b[90mError evaluating INVITED Name(id='INVITED', ctx=Load())\u001b[0m\n",
      "\u001b[90mERROR: 'str' object is not callable\u001b[0m\n",
      "\u001b[90mvisiting x Name(id='x', ctx=Load()) None\u001b[0m\n",
      "\u001b[90mError evaluating x Name(id='x', ctx=Load())\u001b[0m\n",
      "\u001b[90mERROR: name 'x' is not defined\u001b[0m\n",
      "\u001b[90mvisiting y Name(id='y', ctx=Load()) None\u001b[0m\n",
      "\u001b[90mError evaluating y Name(id='y', ctx=Load())\u001b[0m\n",
      "\u001b[90mERROR: name 'y' is not defined\u001b[0m\n",
      "\u001b[90mLookup for invited: lambda y: lambda x: INVITED(x, y) (<class 'phosphorus.semval.Lambda'>)\u001b[0m\n",
      "         => invited = lambda y: lambda x: INVITED(x, y)  type: ('e', ('e', 't'))\t(TN)\u001b[0m\n",
      "\u001b[90mMemoizing value for (invited, (\"Constant(value='J')\",)): lambda y: lambda x: INVITED(x, y)\u001b[0m\n",
      "\u001b[90mvisiting m.i(beta, a) Call(func=Attribute(value=Name(id='m', ctx=Load()), attr='i', ctx=Load()), args=[Name(id='beta', ctx=Load()), Name(id='a', ctx=Load())], keywords=[]) None\u001b[0m\n",
      "\u001b[90mUsing memoized value for (invited, (\"Constant(value='J')\",)): lambda y: lambda x: INVITED(x, y)\u001b[0m\n",
      "\u001b[90mvisiting lambda y: lambda x: INVITED(x, y) Lambda(args=arguments(posonlyargs=[], args=[arg(arg='y')], kwonlyargs=[], kw_defaults=[], defaults=[]), body=Lambda(args=arguments(posonlyargs=[], args=[arg(arg='x')], kwonlyargs=[], kw_defaults=[], defaults=[]), body=Call(func=Name(id='INVITED', ctx=Load()), args=[Name(id='x', ctx=Load()), Name(id='y', ctx=Load())], keywords=[]))) None\u001b[0m\n",
      "\u001b[90mError evaluating lambda y: lambda x: INVITED(x, y) Lambda(args=arguments(posonlyargs=[], args=[arg(arg='y')], kwonlyargs=[], kw_defaults=[], defaults=[]), body=Lambda(args=arguments(posonlyargs=[], args=[arg(arg='x')], kwonlyargs=[], kw_defaults=[], defaults=[]), body=Call(func=Name(id='INVITED', ctx=Load()), args=[Name(id='x', ctx=Load()), Name(id='y', ctx=Load())], keywords=[])))\u001b[0m\n",
      "\u001b[90mERROR: invalid syntax (<unknown>, line 1)\u001b[0m\n",
      "\u001b[90mvisiting lambda x: INVITED(x, y) Lambda(args=arguments(posonlyargs=[], args=[arg(arg='x')], kwonlyargs=[], kw_defaults=[], defaults=[]), body=Call(func=Name(id='INVITED', ctx=Load()), args=[Name(id='x', ctx=Load()), Name(id='y', ctx=Load())], keywords=[])) None\u001b[0m\n",
      "\u001b[90mError evaluating lambda x: INVITED(x, y) Lambda(args=arguments(posonlyargs=[], args=[arg(arg='x')], kwonlyargs=[], kw_defaults=[], defaults=[]), body=Call(func=Name(id='INVITED', ctx=Load()), args=[Name(id='x', ctx=Load()), Name(id='y', ctx=Load())], keywords=[]))\u001b[0m\n",
      "\u001b[90mERROR: invalid syntax (<unknown>, line 1)\u001b[0m\n",
      "\u001b[90mvisiting INVITED(x, y) Call(func=Name(id='INVITED', ctx=Load()), args=[Name(id='x', ctx=Load()), Name(id='y', ctx=Load())], keywords=[]) None\u001b[0m\n",
      "\u001b[90mError evaluating INVITED(x, y) Call(func=Name(id='INVITED', ctx=Load()), args=[Name(id='x', ctx=Load()), Name(id='y', ctx=Load())], keywords=[])\u001b[0m\n",
      "\u001b[90mERROR: name 'x' is not defined\u001b[0m\n",
      "\u001b[90mCALL visiting Call INVITED(x, y)\n",
      "Call(func=Name(id='INVITED', ctx=Load()), args=[Name(id='x', ctx=Load()), Name(id='y', ctx=Load())], keywords=[])\u001b[0m\n",
      "\u001b[90mvisiting INVITED Name(id='INVITED', ctx=Load()) None\u001b[0m\n",
      "\u001b[90mError evaluating INVITED Name(id='INVITED', ctx=Load())\u001b[0m\n",
      "\u001b[90mERROR: 'str' object is not callable\u001b[0m\n",
      "\u001b[90mvisiting x Name(id='x', ctx=Load()) None\u001b[0m\n",
      "\u001b[90mError evaluating x Name(id='x', ctx=Load())\u001b[0m\n",
      "\u001b[90mERROR: name 'x' is not defined\u001b[0m\n",
      "\u001b[90mvisiting y Name(id='y', ctx=Load()) None\u001b[0m\n",
      "\u001b[90mError evaluating y Name(id='y', ctx=Load())\u001b[0m\n",
      "\u001b[90mERROR: name 'y' is not defined\u001b[0m\n",
      "\u001b[90mEvaluated m.i(beta, a) to lambda y: lambda x: INVITED(x, y) (<class 'phosphorus.semval.Lambda'>)\u001b[0m\n",
      "\u001b[90mDUMP Call(func=Attribute(value=Name(id='m', ctx=Load()), attr='i', ctx=Load()), args=[Name(id='beta', ctx=Load()), Name(id='a', ctx=Load())], keywords=[])\u001b[0m\n",
      "      => V = lambda y: lambda x: INVITED(x, y)  type: ('e', ('e', 't'))\t(NN)\u001b[0m\n",
      "\u001b[90mMemoizing value for ((V invited), (\"Constant(value='J')\",)): lambda y: lambda x: INVITED(x, y)\u001b[0m\n",
      "\u001b[90mUsing memoized value for ((DP2 t), (\"Constant(value='J')\",)): 'J'\u001b[0m\n",
      "\u001b[90mUsing memoized value for ((V invited), (\"Constant(value='J')\",)): lambda y: lambda x: INVITED(x, y)\u001b[0m\n",
      "\u001b[90mUsing memoized value for ((DP2 t), (\"Constant(value='J')\",)): 'J'\u001b[0m\n",
      "\u001b[90mError in takes: 'Lambda' object is not callable lambda y: lambda x: INVITED(x, y)('J')\u001b[0m\n",
      "\u001b[90mvisiting m.i(beta, a)(m.i(gamma, a)) Call(func=Call(func=Attribute(value=Name(id='m', ctx=Load()), attr='i', ctx=Load()), args=[Name(id='beta', ctx=Load()), Name(id='a', ctx=Load())], keywords=[]), args=[Call(func=Attribute(value=Name(id='m', ctx=Load()), attr='i', ctx=Load()), args=[Name(id='gamma', ctx=Load()), Name(id='a', ctx=Load())], keywords=[])], keywords=[]) None\u001b[0m\n",
      "\u001b[90mUsing memoized value for ((V invited), (\"Constant(value='J')\",)): lambda y: lambda x: INVITED(x, y)\u001b[0m\n",
      "\u001b[90mUsing memoized value for ((DP2 t), (\"Constant(value='J')\",)): 'J'\u001b[0m\n",
      "\u001b[90mError evaluating m.i(beta, a)(m.i(gamma, a)) Call(func=Call(func=Attribute(value=Name(id='m', ctx=Load()), attr='i', ctx=Load()), args=[Name(id='beta', ctx=Load()), Name(id='a', ctx=Load())], keywords=[]), args=[Call(func=Attribute(value=Name(id='m', ctx=Load()), attr='i', ctx=Load()), args=[Name(id='gamma', ctx=Load()), Name(id='a', ctx=Load())], keywords=[])], keywords=[])\u001b[0m\n",
      "\u001b[90mERROR: 'Lambda' object is not callable\u001b[0m\n",
      "\u001b[90mCALL visiting Call m.i(beta, a)(m.i(gamma, a))\n",
      "Call(func=Call(func=Attribute(value=Name(id='m', ctx=Load()), attr='i', ctx=Load()), args=[Name(id='beta', ctx=Load()), Name(id='a', ctx=Load())], keywords=[]), args=[Call(func=Attribute(value=Name(id='m', ctx=Load()), attr='i', ctx=Load()), args=[Name(id='gamma', ctx=Load()), Name(id='a', ctx=Load())], keywords=[])], keywords=[])\u001b[0m\n",
      "\u001b[90mvisiting m.i(beta, a) Call(func=Attribute(value=Name(id='m', ctx=Load()), attr='i', ctx=Load()), args=[Name(id='beta', ctx=Load()), Name(id='a', ctx=Load())], keywords=[]) None\u001b[0m\n",
      "\u001b[90mUsing memoized value for ((V invited), (\"Constant(value='J')\",)): lambda y: lambda x: INVITED(x, y)\u001b[0m\n",
      "\u001b[90mvisiting lambda y: lambda x: INVITED(x, y) Lambda(args=arguments(posonlyargs=[], args=[arg(arg='y')], kwonlyargs=[], kw_defaults=[], defaults=[]), body=Lambda(args=arguments(posonlyargs=[], args=[arg(arg='x')], kwonlyargs=[], kw_defaults=[], defaults=[]), body=Call(func=Name(id='INVITED', ctx=Load()), args=[Name(id='x', ctx=Load()), Name(id='y', ctx=Load())], keywords=[]))) None\u001b[0m\n",
      "\u001b[90mError evaluating lambda y: lambda x: INVITED(x, y) Lambda(args=arguments(posonlyargs=[], args=[arg(arg='y')], kwonlyargs=[], kw_defaults=[], defaults=[]), body=Lambda(args=arguments(posonlyargs=[], args=[arg(arg='x')], kwonlyargs=[], kw_defaults=[], defaults=[]), body=Call(func=Name(id='INVITED', ctx=Load()), args=[Name(id='x', ctx=Load()), Name(id='y', ctx=Load())], keywords=[])))\u001b[0m\n",
      "\u001b[90mERROR: invalid syntax (<unknown>, line 1)\u001b[0m\n",
      "\u001b[90mvisiting lambda x: INVITED(x, y) Lambda(args=arguments(posonlyargs=[], args=[arg(arg='x')], kwonlyargs=[], kw_defaults=[], defaults=[]), body=Call(func=Name(id='INVITED', ctx=Load()), args=[Name(id='x', ctx=Load()), Name(id='y', ctx=Load())], keywords=[])) None\u001b[0m\n",
      "\u001b[90mError evaluating lambda x: INVITED(x, y) Lambda(args=arguments(posonlyargs=[], args=[arg(arg='x')], kwonlyargs=[], kw_defaults=[], defaults=[]), body=Call(func=Name(id='INVITED', ctx=Load()), args=[Name(id='x', ctx=Load()), Name(id='y', ctx=Load())], keywords=[]))\u001b[0m\n",
      "\u001b[90mERROR: invalid syntax (<unknown>, line 1)\u001b[0m\n",
      "\u001b[90mvisiting INVITED(x, y) Call(func=Name(id='INVITED', ctx=Load()), args=[Name(id='x', ctx=Load()), Name(id='y', ctx=Load())], keywords=[]) None\u001b[0m\n",
      "\u001b[90mError evaluating INVITED(x, y) Call(func=Name(id='INVITED', ctx=Load()), args=[Name(id='x', ctx=Load()), Name(id='y', ctx=Load())], keywords=[])\u001b[0m\n",
      "\u001b[90mERROR: name 'x' is not defined\u001b[0m\n",
      "\u001b[90mCALL visiting Call INVITED(x, y)\n",
      "Call(func=Name(id='INVITED', ctx=Load()), args=[Name(id='x', ctx=Load()), Name(id='y', ctx=Load())], keywords=[])\u001b[0m\n",
      "\u001b[90mvisiting INVITED Name(id='INVITED', ctx=Load()) None\u001b[0m\n",
      "\u001b[90mError evaluating INVITED Name(id='INVITED', ctx=Load())\u001b[0m\n",
      "\u001b[90mERROR: 'str' object is not callable\u001b[0m\n",
      "\u001b[90mvisiting x Name(id='x', ctx=Load()) None\u001b[0m\n",
      "\u001b[90mError evaluating x Name(id='x', ctx=Load())\u001b[0m\n",
      "\u001b[90mERROR: name 'x' is not defined\u001b[0m\n",
      "\u001b[90mvisiting y Name(id='y', ctx=Load()) None\u001b[0m\n",
      "\u001b[90mError evaluating y Name(id='y', ctx=Load())\u001b[0m\n",
      "\u001b[90mERROR: name 'y' is not defined\u001b[0m\n",
      "\u001b[90mEvaluated m.i(beta, a) to lambda y: lambda x: INVITED(x, y) (<class 'phosphorus.semval.Lambda'>)\u001b[0m\n",
      "\u001b[90mDUMP Call(func=Attribute(value=Name(id='m', ctx=Load()), attr='i', ctx=Load()), args=[Name(id='beta', ctx=Load()), Name(id='a', ctx=Load())], keywords=[])\u001b[0m\n",
      "\u001b[90mvisiting m.i(gamma, a) Call(func=Attribute(value=Name(id='m', ctx=Load()), attr='i', ctx=Load()), args=[Name(id='gamma', ctx=Load()), Name(id='a', ctx=Load())], keywords=[]) None\u001b[0m\n",
      "\u001b[90mUsing memoized value for ((DP2 t), (\"Constant(value='J')\",)): 'J'\u001b[0m\n",
      "\u001b[90mvisiting 'J' Constant(value='J') None\u001b[0m\n",
      "\u001b[90mEvaluated 'J' to 'J' (<class 'str'>)\u001b[0m\n",
      "\u001b[90mDUMP Constant(value='J')\u001b[0m\n",
      "\u001b[90mEvaluated m.i(gamma, a) to 'J' (<class 'phosphorus.semval.Constant'>)\u001b[0m\n",
      "\u001b[90mDUMP Call(func=Attribute(value=Name(id='m', ctx=Load()), attr='i', ctx=Load()), args=[Name(id='gamma', ctx=Load()), Name(id='a', ctx=Load())], keywords=[])\u001b[0m\n",
      "\u001b[90mvisiting lambda x: INVITED(x, y) Lambda(args=arguments(posonlyargs=[], args=[arg(arg='x')], kwonlyargs=[], kw_defaults=[], defaults=[]), body=Call(func=Name(id='INVITED', ctx=Load()), args=[Name(id='x', ctx=Load()), Name(id='y', ctx=Load())], keywords=[])) None\u001b[0m\n",
      "\u001b[90mError evaluating lambda x: INVITED(x, y) Lambda(args=arguments(posonlyargs=[], args=[arg(arg='x')], kwonlyargs=[], kw_defaults=[], defaults=[]), body=Call(func=Name(id='INVITED', ctx=Load()), args=[Name(id='x', ctx=Load()), Name(id='y', ctx=Load())], keywords=[]))\u001b[0m\n",
      "\u001b[90mERROR: invalid syntax (<unknown>, line 1)\u001b[0m\n",
      "\u001b[90mvisiting INVITED(x, y) Call(func=Name(id='INVITED', ctx=Load()), args=[Name(id='x', ctx=Load()), Name(id='y', ctx=Load())], keywords=[]) None\u001b[0m\n",
      "\u001b[90mError evaluating INVITED(x, y) Call(func=Name(id='INVITED', ctx=Load()), args=[Name(id='x', ctx=Load()), Name(id='y', ctx=Load())], keywords=[])\u001b[0m\n",
      "\u001b[90mERROR: name 'x' is not defined\u001b[0m\n",
      "\u001b[90mCALL visiting Call INVITED(x, y)\n",
      "Call(func=Name(id='INVITED', ctx=Load()), args=[Name(id='x', ctx=Load()), Name(id='y', ctx=Load())], keywords=[])\u001b[0m\n",
      "\u001b[90mvisiting INVITED Name(id='INVITED', ctx=Load()) None\u001b[0m\n",
      "\u001b[90mError evaluating INVITED Name(id='INVITED', ctx=Load())\u001b[0m\n",
      "\u001b[90mERROR: 'str' object is not callable\u001b[0m\n",
      "\u001b[90mvisiting x Name(id='x', ctx=Load()) None\u001b[0m\n",
      "\u001b[90mError evaluating x Name(id='x', ctx=Load())\u001b[0m\n",
      "\u001b[90mERROR: name 'x' is not defined\u001b[0m\n",
      "\u001b[90mvisiting y Name(id='y', ctx=Load()) None\u001b[0m\n",
      "\u001b[90mvisiting 'J' Constant(value='J') None\u001b[0m\n",
      "\u001b[90mEvaluated 'J' to 'J' (<class 'str'>)\u001b[0m\n",
      "\u001b[90mDUMP Constant(value='J')\u001b[0m\n",
      "\u001b[90mEvaluated y to 'J' (<class 'phosphorus.semval.Constant'>)\u001b[0m\n",
      "\u001b[90mDUMP Name(id='y', ctx=Load())\u001b[0m\n",
      "\u001b[90mvisiting 'J' Constant(value='J') None\u001b[0m\n",
      "\u001b[90mEvaluated 'J' to 'J' (<class 'str'>)\u001b[0m\n",
      "\u001b[90mDUMP Constant(value='J')\u001b[0m\n",
      "\u001b[90mvisiting 'J' Constant(value='J') None\u001b[0m\n",
      "\u001b[90mEvaluated 'J' to 'J' (<class 'str'>)\u001b[0m\n",
      "\u001b[90mDUMP Constant(value='J')\u001b[0m\n",
      "   => VP = lambda x: INVITED(x, 'J')  type: ('e', 't')\t(FA)\u001b[0m\n",
      "\u001b[90mMemoizing value for ((VP (V invited) (DP2 t)), (\"Constant(value='J')\",)): lambda x: INVITED(x, 'J')\u001b[0m\n",
      "   Interpreting DP1 with parameters: [(\"'J'\", 'e')]\u001b[0m\n",
      "      Interpreting Bob with parameters: [(\"'J'\", 'e')]\u001b[0m\n",
      "\u001b[90mvisiting 'B' Constant(value='B') None\u001b[0m\n",
      "\u001b[90mEvaluated 'B' to 'B' (<class 'str'>)\u001b[0m\n",
      "\u001b[90mDUMP Constant(value='B')\u001b[0m\n",
      "\u001b[90mLookup for Bob: 'B' (<class 'phosphorus.semval.Constant'>)\u001b[0m\n",
      "      => Bob = 'B'  type: 'e'\t(TN)\u001b[0m\n",
      "\u001b[90mMemoizing value for (Bob, (\"Constant(value='J')\",)): 'B'\u001b[0m\n",
      "\u001b[90mvisiting m.i(beta, a) Call(func=Attribute(value=Name(id='m', ctx=Load()), attr='i', ctx=Load()), args=[Name(id='beta', ctx=Load()), Name(id='a', ctx=Load())], keywords=[]) None\u001b[0m\n",
      "\u001b[90mUsing memoized value for (Bob, (\"Constant(value='J')\",)): 'B'\u001b[0m\n",
      "\u001b[90mvisiting 'B' Constant(value='B') None\u001b[0m\n",
      "\u001b[90mEvaluated 'B' to 'B' (<class 'str'>)\u001b[0m\n",
      "\u001b[90mDUMP Constant(value='B')\u001b[0m\n",
      "\u001b[90mEvaluated m.i(beta, a) to 'B' (<class 'phosphorus.semval.Constant'>)\u001b[0m\n",
      "\u001b[90mDUMP Call(func=Attribute(value=Name(id='m', ctx=Load()), attr='i', ctx=Load()), args=[Name(id='beta', ctx=Load()), Name(id='a', ctx=Load())], keywords=[])\u001b[0m\n",
      "   => DP1 = 'B'  type: 'e'\t(NN)\u001b[0m\n",
      "\u001b[90mMemoizing value for ((DP1 Bob), (\"Constant(value='J')\",)): 'B'\u001b[0m\n",
      "\u001b[90mUsing memoized value for ((VP (V invited) (DP2 t)), (\"Constant(value='J')\",)): lambda x: INVITED(x, 'J')\u001b[0m\n",
      "\u001b[90mUsing memoized value for ((DP1 Bob), (\"Constant(value='J')\",)): 'B'\u001b[0m\n",
      "\u001b[90mUsing memoized value for ((DP1 Bob), (\"Constant(value='J')\",)): 'B'\u001b[0m\n",
      "\u001b[90mUsing memoized value for ((VP (V invited) (DP2 t)), (\"Constant(value='J')\",)): lambda x: INVITED(x, 'J')\u001b[0m\n",
      "\u001b[90mUsing memoized value for ((VP (V invited) (DP2 t)), (\"Constant(value='J')\",)): lambda x: INVITED(x, 'J')\u001b[0m\n",
      "\u001b[90mUsing memoized value for ((DP1 Bob), (\"Constant(value='J')\",)): 'B'\u001b[0m\n",
      "\u001b[90mError in takes: 'Lambda' object is not callable lambda x: INVITED(x, 'J')('B')\u001b[0m\n",
      "\u001b[90mvisiting m.i(beta, a)(m.i(gamma, a)) Call(func=Call(func=Attribute(value=Name(id='m', ctx=Load()), attr='i', ctx=Load()), args=[Name(id='beta', ctx=Load()), Name(id='a', ctx=Load())], keywords=[]), args=[Call(func=Attribute(value=Name(id='m', ctx=Load()), attr='i', ctx=Load()), args=[Name(id='gamma', ctx=Load()), Name(id='a', ctx=Load())], keywords=[])], keywords=[]) None\u001b[0m\n",
      "\u001b[90mUsing memoized value for ((VP (V invited) (DP2 t)), (\"Constant(value='J')\",)): lambda x: INVITED(x, 'J')\u001b[0m\n",
      "\u001b[90mUsing memoized value for ((DP1 Bob), (\"Constant(value='J')\",)): 'B'\u001b[0m\n",
      "\u001b[90mError evaluating m.i(beta, a)(m.i(gamma, a)) Call(func=Call(func=Attribute(value=Name(id='m', ctx=Load()), attr='i', ctx=Load()), args=[Name(id='beta', ctx=Load()), Name(id='a', ctx=Load())], keywords=[]), args=[Call(func=Attribute(value=Name(id='m', ctx=Load()), attr='i', ctx=Load()), args=[Name(id='gamma', ctx=Load()), Name(id='a', ctx=Load())], keywords=[])], keywords=[])\u001b[0m\n",
      "\u001b[90mERROR: 'Lambda' object is not callable\u001b[0m\n",
      "\u001b[90mCALL visiting Call m.i(beta, a)(m.i(gamma, a))\n",
      "Call(func=Call(func=Attribute(value=Name(id='m', ctx=Load()), attr='i', ctx=Load()), args=[Name(id='beta', ctx=Load()), Name(id='a', ctx=Load())], keywords=[]), args=[Call(func=Attribute(value=Name(id='m', ctx=Load()), attr='i', ctx=Load()), args=[Name(id='gamma', ctx=Load()), Name(id='a', ctx=Load())], keywords=[])], keywords=[])\u001b[0m\n",
      "\u001b[90mvisiting m.i(beta, a) Call(func=Attribute(value=Name(id='m', ctx=Load()), attr='i', ctx=Load()), args=[Name(id='beta', ctx=Load()), Name(id='a', ctx=Load())], keywords=[]) None\u001b[0m\n",
      "\u001b[90mUsing memoized value for ((VP (V invited) (DP2 t)), (\"Constant(value='J')\",)): lambda x: INVITED(x, 'J')\u001b[0m\n",
      "\u001b[90mvisiting lambda x: INVITED(x, 'J') Lambda(args=arguments(posonlyargs=[], args=[arg(arg='x')], kwonlyargs=[], kw_defaults=[], defaults=[]), body=Call(func=Name(id='INVITED', ctx=Load()), args=[Name(id='x', ctx=Load()), Constant(value='J')], keywords=[])) None\u001b[0m\n",
      "\u001b[90mError evaluating lambda x: INVITED(x, 'J') Lambda(args=arguments(posonlyargs=[], args=[arg(arg='x')], kwonlyargs=[], kw_defaults=[], defaults=[]), body=Call(func=Name(id='INVITED', ctx=Load()), args=[Name(id='x', ctx=Load()), Constant(value='J')], keywords=[]))\u001b[0m\n",
      "\u001b[90mERROR: invalid syntax (<unknown>, line 1)\u001b[0m\n",
      "\u001b[90mvisiting INVITED(x, 'J') Call(func=Name(id='INVITED', ctx=Load()), args=[Name(id='x', ctx=Load()), Constant(value='J')], keywords=[]) None\u001b[0m\n",
      "\u001b[90mError evaluating INVITED(x, 'J') Call(func=Name(id='INVITED', ctx=Load()), args=[Name(id='x', ctx=Load()), Constant(value='J')], keywords=[])\u001b[0m\n",
      "\u001b[90mERROR: name 'x' is not defined\u001b[0m\n",
      "\u001b[90mCALL visiting Call INVITED(x, 'J')\n",
      "Call(func=Name(id='INVITED', ctx=Load()), args=[Name(id='x', ctx=Load()), Constant(value='J')], keywords=[])\u001b[0m\n",
      "\u001b[90mvisiting INVITED Name(id='INVITED', ctx=Load()) None\u001b[0m\n",
      "\u001b[90mError evaluating INVITED Name(id='INVITED', ctx=Load())\u001b[0m\n",
      "\u001b[90mERROR: 'str' object is not callable\u001b[0m\n",
      "\u001b[90mvisiting x Name(id='x', ctx=Load()) None\u001b[0m\n",
      "\u001b[90mError evaluating x Name(id='x', ctx=Load())\u001b[0m\n",
      "\u001b[90mERROR: name 'x' is not defined\u001b[0m\n",
      "\u001b[90mvisiting 'J' Constant(value='J') None\u001b[0m\n",
      "\u001b[90mEvaluated 'J' to 'J' (<class 'str'>)\u001b[0m\n",
      "\u001b[90mDUMP Constant(value='J')\u001b[0m\n",
      "\u001b[90mEvaluated m.i(beta, a) to lambda x: INVITED(x, 'J') (<class 'phosphorus.semval.Lambda'>)\u001b[0m\n",
      "\u001b[90mDUMP Call(func=Attribute(value=Name(id='m', ctx=Load()), attr='i', ctx=Load()), args=[Name(id='beta', ctx=Load()), Name(id='a', ctx=Load())], keywords=[])\u001b[0m\n",
      "\u001b[90mvisiting m.i(gamma, a) Call(func=Attribute(value=Name(id='m', ctx=Load()), attr='i', ctx=Load()), args=[Name(id='gamma', ctx=Load()), Name(id='a', ctx=Load())], keywords=[]) None\u001b[0m\n",
      "\u001b[90mUsing memoized value for ((DP1 Bob), (\"Constant(value='J')\",)): 'B'\u001b[0m\n",
      "\u001b[90mvisiting 'B' Constant(value='B') None\u001b[0m\n",
      "\u001b[90mEvaluated 'B' to 'B' (<class 'str'>)\u001b[0m\n",
      "\u001b[90mDUMP Constant(value='B')\u001b[0m\n",
      "\u001b[90mEvaluated m.i(gamma, a) to 'B' (<class 'phosphorus.semval.Constant'>)\u001b[0m\n",
      "\u001b[90mDUMP Call(func=Attribute(value=Name(id='m', ctx=Load()), attr='i', ctx=Load()), args=[Name(id='gamma', ctx=Load()), Name(id='a', ctx=Load())], keywords=[])\u001b[0m\n",
      "\u001b[90mvisiting INVITED(x, 'J') Call(func=Name(id='INVITED', ctx=Load()), args=[Name(id='x', ctx=Load()), Constant(value='J')], keywords=[]) None\u001b[0m\n",
      "\u001b[90mEvaluated INVITED(x, 'J') to 1 (<class 'int'>)\u001b[0m\n",
      "\u001b[90mDUMP Call(func=Name(id='INVITED', ctx=Load()), args=[Name(id='x', ctx=Load()), Constant(value='J')], keywords=[])\u001b[0m\n",
      "=> S = 1  type: 't'\t(AF)\u001b[0m\n",
      "\u001b[90mMemoizing value for ((S (DP1 Bob) (VP (V invited) (DP2 t))), (\"Constant(value='J')\",)): 1\u001b[0m\n"
     ]
    },
    {
     "data": {
      "text/plain": [
       "1"
      ]
     },
     "execution_count": 10,
     "metadata": {},
     "output_type": "execute_result"
    },
    {
     "data": {
      "text/html": [
       "<h3>Assignment M</h3>"
      ],
      "text/plain": [
       "<IPython.core.display.HTML object>"
      ]
     },
     "execution_count": 10,
     "metadata": {},
     "output_type": "execute_result"
    },
    {
     "name": "stderr",
     "output_type": "stream",
     "text": [
      "Interpreting S with parameters: [(\"'M'\", 'e')]\u001b[0m\n",
      "   Interpreting VP with parameters: [(\"'M'\", 'e')]\u001b[0m\n",
      "      Interpreting DP2 with parameters: [(\"'M'\", 'e')]\u001b[0m\n",
      "         Interpreting t with parameters: [(\"'M'\", 'e')]\u001b[0m\n",
      "         => t = 'M'  type: 'e'\t(TP)\u001b[0m\n",
      "      => DP2 = 'M'  type: 'e'\t(NN)\u001b[0m\n",
      "      Interpreting V with parameters: [(\"'M'\", 'e')]\u001b[0m\n",
      "         Interpreting invited with parameters: [(\"'M'\", 'e')]\u001b[0m\n",
      "         => invited = lambda y: lambda x: INVITED(x, y)  type: ('e', ('e', 't'))\t(TN)\u001b[0m\n",
      "      => V = lambda y: lambda x: INVITED(x, y)  type: ('e', ('e', 't'))\t(NN)\u001b[0m\n",
      "   => VP = lambda x: INVITED(x, 'M')  type: ('e', 't')\t(FA)\u001b[0m\n",
      "   Interpreting DP1 with parameters: [(\"'M'\", 'e')]\u001b[0m\n",
      "      Interpreting Bob with parameters: [(\"'M'\", 'e')]\u001b[0m\n",
      "      => Bob = 'B'  type: 'e'\t(TN)\u001b[0m\n",
      "   => DP1 = 'B'  type: 'e'\t(NN)\u001b[0m\n",
      "=> S = 1  type: 't'\t(AF)\u001b[0m\n"
     ]
    },
    {
     "data": {
      "text/plain": [
       "1"
      ]
     },
     "execution_count": 10,
     "metadata": {},
     "output_type": "execute_result"
    },
    {
     "data": {
      "text/html": [
       "<h3>Assignment S</h3>"
      ],
      "text/plain": [
       "<IPython.core.display.HTML object>"
      ]
     },
     "execution_count": 10,
     "metadata": {},
     "output_type": "execute_result"
    },
    {
     "name": "stderr",
     "output_type": "stream",
     "text": [
      "Interpreting S with parameters: [(\"'S'\", 'e')]\u001b[0m\n",
      "   Interpreting VP with parameters: [(\"'S'\", 'e')]\u001b[0m\n",
      "      Interpreting DP2 with parameters: [(\"'S'\", 'e')]\u001b[0m\n",
      "         Interpreting t with parameters: [(\"'S'\", 'e')]\u001b[0m\n",
      "         => t = 'S'  type: 'e'\t(TP)\u001b[0m\n",
      "      => DP2 = 'S'  type: 'e'\t(NN)\u001b[0m\n",
      "      Interpreting V with parameters: [(\"'S'\", 'e')]\u001b[0m\n",
      "         Interpreting invited with parameters: [(\"'S'\", 'e')]\u001b[0m\n",
      "         => invited = lambda y: lambda x: INVITED(x, y)  type: ('e', ('e', 't'))\t(TN)\u001b[0m\n",
      "      => V = lambda y: lambda x: INVITED(x, y)  type: ('e', ('e', 't'))\t(NN)\u001b[0m\n",
      "   => VP = lambda x: INVITED(x, 'S')  type: ('e', 't')\t(FA)\u001b[0m\n",
      "   Interpreting DP1 with parameters: [(\"'S'\", 'e')]\u001b[0m\n",
      "      Interpreting Bob with parameters: [(\"'S'\", 'e')]\u001b[0m\n",
      "      => Bob = 'B'  type: 'e'\t(TN)\u001b[0m\n",
      "   => DP1 = 'B'  type: 'e'\t(NN)\u001b[0m\n",
      "=> S = 0  type: 't'\t(AF)\u001b[0m\n"
     ]
    },
    {
     "data": {
      "text/plain": [
       "0"
      ]
     },
     "execution_count": 10,
     "metadata": {},
     "output_type": "execute_result"
    }
   ],
   "source": [
    "class Meaning1(Meaning):\n",
    "  def rules(self, alpha, a):\n",
    "    value, rule = None, None\n",
    "    m = self\n",
    "    match alpha:\n",
    "      # TP\n",
    "      case 't':\n",
    "        rule = 'TP'\n",
    "        value = 'a'.e\n",
    "\n",
    "      # TN\n",
    "      case str() as s:\n",
    "        rule = 'TN'\n",
    "        value = self.lookup(s)\n",
    "        if value is None:\n",
    "          value = VACUOUS\n",
    "      \n",
    "      # PA\n",
    "      case ('who', beta):\n",
    "        rule = 'PA'\n",
    "        value = (lambda x : m.i(beta, x)).et\n",
    "\n",
    "      # NN\n",
    "      case (beta,) if m.i(beta,a) is VACUOUS:\n",
    "        rule = 'NN'\n",
    "        value = VACUOUS\n",
    "        logger.warning('Ignoring vacuous item %s', beta)\n",
    "\n",
    "      case (beta,):\n",
    "        rule = 'NN'\n",
    "        value = PV(m.i(beta,a))\n",
    "\n",
    "      case (beta, gamma) if  m.i(gamma,a) is VACUOUS:\n",
    "        rule = 'NN'\n",
    "        value = PV(m.i(beta,a))\n",
    "        logger.warning('Ignoring vacuous item %s', gamma)\n",
    "\n",
    "      case (gamma, beta) if m.i(gamma,a) is VACUOUS:\n",
    "        rule = 'NN'\n",
    "        value = PV(m.i(beta,a))\n",
    "        logger.warning('Ignoring vacuous item %s', gamma)\n",
    "\n",
    "      # PM\n",
    "      case (beta, gamma) if m.i(gamma,a) in Type.et and m.i(beta,a) in Type.et:\n",
    "        rule = 'PM'\n",
    "        value = (lambda x: m.i(beta,a)(x) and m.i(gamma,a)(x)\n",
    "                    if m.i(beta,a)(x) is not None \n",
    "                    and m.i(gamma,a)(x) is not None\n",
    "                    else None).et\n",
    "\n",
    "      # FA\n",
    "      case (beta, gamma) if takes(m.i(beta,a), m.i(gamma,a)):\n",
    "        rule = 'FA'\n",
    "        value = PV(m.i(beta,a)(m.i(gamma,a)))\n",
    "      case (gamma, beta) if takes(m.i(beta,a), m.i(gamma,a)):\n",
    "        rule = 'AF'\n",
    "        value = PV(m.i(beta,a)(m.i(gamma,a)))\n",
    "\n",
    "    return value, rule\n",
    "\n",
    "\n",
    "S, B, M, J = (PV.e(c) for c in 'SBMJ')\n",
    "INVITED = Predicate({\n",
    "    (S,B), (S,M), (B,B), (B,J), (B, M)\n",
    "})\n",
    "\n",
    "m = Meaning1({\n",
    "    'Bob'       : 'B'.e,\n",
    "    'invited'   : (lambda y: lambda x: INVITED(x,y)).eet, \n",
    "})\n",
    "\n",
    "from nltk.tree import Tree\n",
    "from IPython.display import HTML\n",
    "tree1 = Tree.fromstring(\n",
    "'''\n",
    "(S (DP1 Bob)\n",
    "  (VP (V invited) \n",
    "    (DP2 t)\n",
    "  )\n",
    ")\n",
    "''')\n",
    "\n",
    "tree1\n",
    "\n",
    "Predicate.__repr__ = '<Predicate>'\n",
    "\n",
    "HTML('<h3>Assignment B</h3>')\n",
    "m.i(tree1, 'B'.e)\n",
    "\n",
    "HTML('<h3>Assignment J</h3>')\n",
    "console_handler.setLevel(logging.DEBUG)\n",
    "m.i(tree1, 'J'.e)\n",
    "console_handler.setLevel(logging.INFO)\n",
    "\n",
    "HTML('<h3>Assignment M</h3>')\n",
    "m.i(tree1, 'M'.e)\n",
    "\n",
    "HTML('<h3>Assignment S</h3>')\n",
    "m.i(tree1, 'S'.e)"
   ]
  },
  {
   "cell_type": "code",
   "execution_count": null,
   "metadata": {},
   "outputs": [],
   "source": []
  },
  {
   "cell_type": "code",
   "execution_count": null,
   "metadata": {},
   "outputs": [
    {
     "data": {
      "image/svg+xml": [
       "<svg baseProfile=\"full\" height=\"456px\" preserveAspectRatio=\"xMidYMid meet\" style=\"font-family: times, serif; font-weight: normal; font-style: normal; font-size: 16px\" version=\"1.1\" viewBox=\"0,0,440.0,456.0\" width=\"440px\" xmlns=\"http://www.w3.org/2000/svg\" xmlns:ev=\"http://www.w3.org/2001/xml-events\" xmlns:xlink=\"http://www.w3.org/1999/xlink\"><defs /><svg width=\"100%\" x=\"0\" y=\"0px\"><defs /><text text-anchor=\"middle\" x=\"50%\" y=\"16px\">S</text></svg><svg width=\"10.9091%\" x=\"0%\" y=\"48px\"><defs /><svg width=\"100%\" x=\"0\" y=\"0px\"><defs /><text text-anchor=\"middle\" x=\"50%\" y=\"16px\">John</text></svg></svg><line stroke=\"black\" x1=\"50%\" x2=\"5.45455%\" y1=\"20px\" y2=\"48px\" /><svg width=\"89.0909%\" x=\"10.9091%\" y=\"48px\"><defs /><svg width=\"100%\" x=\"0\" y=\"0px\"><defs /><text text-anchor=\"middle\" x=\"50%\" y=\"16px\">VP</text></svg><svg width=\"8.16327%\" x=\"0%\" y=\"48px\"><defs /><svg width=\"100%\" x=\"0\" y=\"0px\"><defs /><text text-anchor=\"middle\" x=\"50%\" y=\"16px\">is</text></svg></svg><line stroke=\"black\" x1=\"50%\" x2=\"4.08163%\" y1=\"20px\" y2=\"48px\" /><svg width=\"91.8367%\" x=\"8.16327%\" y=\"48px\"><defs /><svg width=\"100%\" x=\"0\" y=\"0px\"><defs /><text text-anchor=\"middle\" x=\"50%\" y=\"16px\">DP</text></svg><svg width=\"6.66667%\" x=\"0%\" y=\"48px\"><defs /><svg width=\"100%\" x=\"0\" y=\"0px\"><defs /><text text-anchor=\"middle\" x=\"50%\" y=\"16px\">a</text></svg></svg><line stroke=\"black\" x1=\"50%\" x2=\"3.33333%\" y1=\"20px\" y2=\"48px\" /><svg width=\"93.3333%\" x=\"6.66667%\" y=\"48px\"><defs /><svg width=\"100%\" x=\"0\" y=\"0px\"><defs /><text text-anchor=\"middle\" x=\"50%\" y=\"16px\">NP</text></svg><svg width=\"11.9048%\" x=\"0%\" y=\"48px\"><defs /><svg width=\"100%\" x=\"0\" y=\"0px\"><defs /><text text-anchor=\"middle\" x=\"50%\" y=\"16px\">man</text></svg></svg><line stroke=\"black\" x1=\"50%\" x2=\"5.95238%\" y1=\"20px\" y2=\"48px\" /><svg width=\"88.0952%\" x=\"11.9048%\" y=\"48px\"><defs /><svg width=\"100%\" x=\"0\" y=\"0px\"><defs /><text text-anchor=\"middle\" x=\"50%\" y=\"16px\">CP</text></svg><svg width=\"13.5135%\" x=\"0%\" y=\"48px\"><defs /><svg width=\"100%\" x=\"0\" y=\"0px\"><defs /><text text-anchor=\"middle\" x=\"50%\" y=\"16px\">who</text></svg></svg><line stroke=\"black\" x1=\"50%\" x2=\"6.75676%\" y1=\"20px\" y2=\"48px\" /><svg width=\"86.4865%\" x=\"13.5135%\" y=\"48px\"><defs /><svg width=\"100%\" x=\"0\" y=\"0px\"><defs /><text text-anchor=\"middle\" x=\"50%\" y=\"16px\">S</text></svg><svg width=\"62.5%\" x=\"0%\" y=\"48px\"><defs /><svg width=\"100%\" x=\"0\" y=\"0px\"><defs /><text text-anchor=\"middle\" x=\"50%\" y=\"16px\">DP</text></svg><svg width=\"25%\" x=\"0%\" y=\"48px\"><defs /><svg width=\"100%\" x=\"0\" y=\"0px\"><defs /><text text-anchor=\"middle\" x=\"50%\" y=\"16px\">the</text></svg></svg><line stroke=\"black\" x1=\"50%\" x2=\"12.5%\" y1=\"20px\" y2=\"48px\" /><svg width=\"75%\" x=\"25%\" y=\"48px\"><defs /><svg width=\"100%\" x=\"0\" y=\"0px\"><defs /><text text-anchor=\"middle\" x=\"50%\" y=\"16px\">NP</text></svg><svg width=\"53.3333%\" x=\"0%\" y=\"48px\"><defs /><svg width=\"100%\" x=\"0\" y=\"0px\"><defs /><text text-anchor=\"middle\" x=\"50%\" y=\"16px\">spouse</text></svg></svg><line stroke=\"black\" x1=\"50%\" x2=\"26.6667%\" y1=\"20px\" y2=\"48px\" /><svg width=\"46.6667%\" x=\"53.3333%\" y=\"48px\"><defs /><svg width=\"100%\" x=\"0\" y=\"0px\"><defs /><text text-anchor=\"middle\" x=\"50%\" y=\"16px\">PP</text></svg><svg width=\"57.1429%\" x=\"0%\" y=\"48px\"><defs /><svg width=\"100%\" x=\"0\" y=\"0px\"><defs /><text text-anchor=\"middle\" x=\"50%\" y=\"16px\">of</text></svg></svg><line stroke=\"black\" x1=\"50%\" x2=\"28.5714%\" y1=\"20px\" y2=\"48px\" /><svg width=\"42.8571%\" x=\"57.1429%\" y=\"48px\"><defs /><svg width=\"100%\" x=\"0\" y=\"0px\"><defs /><text text-anchor=\"middle\" x=\"50%\" y=\"16px\">t</text></svg></svg><line stroke=\"black\" x1=\"50%\" x2=\"78.5714%\" y1=\"20px\" y2=\"48px\" /></svg><line stroke=\"black\" x1=\"50%\" x2=\"76.6667%\" y1=\"20px\" y2=\"48px\" /></svg><line stroke=\"black\" x1=\"50%\" x2=\"62.5%\" y1=\"20px\" y2=\"48px\" /></svg><line stroke=\"black\" x1=\"50%\" x2=\"31.25%\" y1=\"20px\" y2=\"48px\" /><svg width=\"37.5%\" x=\"62.5%\" y=\"48px\"><defs /><svg width=\"100%\" x=\"0\" y=\"0px\"><defs /><text text-anchor=\"middle\" x=\"50%\" y=\"16px\">VP</text></svg><svg width=\"33.3333%\" x=\"0%\" y=\"48px\"><defs /><svg width=\"100%\" x=\"0\" y=\"0px\"><defs /><text text-anchor=\"middle\" x=\"50%\" y=\"16px\">is</text></svg></svg><line stroke=\"black\" x1=\"50%\" x2=\"16.6667%\" y1=\"20px\" y2=\"48px\" /><svg width=\"66.6667%\" x=\"33.3333%\" y=\"48px\"><defs /><svg width=\"100%\" x=\"0\" y=\"0px\"><defs /><text text-anchor=\"middle\" x=\"50%\" y=\"16px\">famous</text></svg></svg><line stroke=\"black\" x1=\"50%\" x2=\"66.6667%\" y1=\"20px\" y2=\"48px\" /></svg><line stroke=\"black\" x1=\"50%\" x2=\"81.25%\" y1=\"20px\" y2=\"48px\" /></svg><line stroke=\"black\" x1=\"50%\" x2=\"56.7568%\" y1=\"20px\" y2=\"48px\" /></svg><line stroke=\"black\" x1=\"50%\" x2=\"55.9524%\" y1=\"20px\" y2=\"48px\" /></svg><line stroke=\"black\" x1=\"50%\" x2=\"53.3333%\" y1=\"20px\" y2=\"48px\" /></svg><line stroke=\"black\" x1=\"50%\" x2=\"54.0816%\" y1=\"20px\" y2=\"48px\" /></svg><line stroke=\"black\" x1=\"50%\" x2=\"55.4545%\" y1=\"20px\" y2=\"48px\" /></svg>"
      ],
      "text/plain": [
       "Tree('S', ['John', Tree('VP', ['is', Tree('DP', ['a', Tree('NP', ['man', Tree('CP', ['who', Tree('S', [Tree('DP', ['the', Tree('NP', ['spouse', Tree('PP', ['of', 't'])])]), Tree('VP', ['is', 'famous'])])])])])])])"
      ]
     },
     "execution_count": 11,
     "metadata": {},
     "output_type": "execute_result"
    },
    {
     "name": "stderr",
     "output_type": "stream",
     "text": [
      "Interpreting S with parameters: [None]\u001b[0m\n",
      "   Interpreting VP with parameters: [None]\u001b[0m\n",
      "      Interpreting DP with parameters: [None]\u001b[0m\n",
      "         Interpreting NP with parameters: [None]\u001b[0m\n",
      "            Interpreting CP with parameters: [None]\u001b[0m\n",
      "               Interpreting S with parameters: [('x', None)]\u001b[0m\n",
      "                  Interpreting VP with parameters: [('x', None)]\u001b[0m\n",
      "                     Interpreting famous with parameters: [('x', None)]\u001b[0m\n",
      "                     => famous = lambda x: FAMOUS(x)  type: ('e', 't')\t(TN)\u001b[0m\n",
      "                     Interpreting is with parameters: [('x', None)]\u001b[0m\n",
      "                     => is = VACUOUS  type: None\t(TN)\u001b[0m\n",
      "\u001b[38;5;208mIgnoring vacuous item is\u001b[0m\n",
      "                  => VP = lambda x: FAMOUS(x)  type: ('e', 't')\t(NN)\u001b[0m\n",
      "                  Interpreting DP with parameters: [('x', None)]\u001b[0m\n",
      "                     Interpreting NP with parameters: [('x', None)]\u001b[0m\n",
      "                        Interpreting PP with parameters: [('x', None)]\u001b[0m\n",
      "                           Interpreting t with parameters: [('x', None)]\u001b[0m\n",
      "                           => t = x  type: 'e'\t(TP)\u001b[0m\n",
      "                           Interpreting of with parameters: [('x', None)]\u001b[0m\n",
      "                           => of = VACUOUS  type: None\t(TN)\u001b[0m\n",
      "\u001b[38;5;208mIgnoring vacuous item of\u001b[0m\n",
      "                        => PP = x  type: 'e'\t(NN)\u001b[0m\n",
      "                        Interpreting spouse with parameters: [('x', None)]\u001b[0m\n",
      "                        => spouse = lambda y: lambda x: SPOUSE(x, y)  type: ('e', ('e', 't'))\t(TN)\u001b[0m\n",
      "                     => NP = lambda z: SPOUSE(z, x)  type: ('e', 't')\t(FA)\u001b[0m\n",
      "                     Interpreting the with parameters: [('x', None)]\u001b[0m\n",
      "                     => the = lambda f: iota(f) if single(charset(f)) else None  type: (('e', 't'), 'e')\t(TN)\u001b[0m\n",
      "                  => DP = iota(lambda z: SPOUSE(z, x)) if single(charset(lambda z: SPOUSE(z, x))) else None  type: 'e'\t(FA)\u001b[0m\n",
      "               => S = FAMOUS(iota(lambda z: SPOUSE(z, x)) if single(charset(lambda z: SPOUSE(z, x))) else None)  type: 't'\t(AF)\u001b[0m\n",
      "            => CP = lambda x: FAMOUS(iota(lambda z: SPOUSE(z, x)) if single(charset(lambda z: SPOUSE(z, x))) else None)  type: ('e', 't')\t(PA)\u001b[0m\n",
      "            Interpreting man with parameters: [None]\u001b[0m\n",
      "            => man = lambda x: MAN(x)  type: ('e', 't')\t(TN)\u001b[0m\n",
      "         => NP = lambda x: MAN(x) and FAMOUS(iota(lambda z: SPOUSE(z, x)) if single(charset(lambda z: SPOUSE(z, x))) else None) if MAN(x) is not None and FAMOUS(iota(lambda z: SPOUSE(z, x)) if single(charset(lambda z: SPOUSE(z, x))) else None) is not None else None  type: ('e', 't')\t(PM)\u001b[0m\n",
      "         Interpreting a with parameters: [None]\u001b[0m\n",
      "         => a = VACUOUS  type: None\t(TN)\u001b[0m\n",
      "\u001b[38;5;208mIgnoring vacuous item a\u001b[0m\n",
      "      => DP = lambda x: MAN(x) and FAMOUS(iota(lambda z: SPOUSE(z, x)) if single(charset(lambda z: SPOUSE(z, x))) else None) if MAN(x) is not None and FAMOUS(iota(lambda z: SPOUSE(z, x)) if single(charset(lambda z: SPOUSE(z, x))) else None) is not None else None  type: ('e', 't')\t(NN)\u001b[0m\n",
      "      Interpreting is with parameters: [None]\u001b[0m\n",
      "      => is = VACUOUS  type: None\t(TN)\u001b[0m\n",
      "\u001b[38;5;208mIgnoring vacuous item is\u001b[0m\n",
      "   => VP = lambda x: MAN(x) and FAMOUS(iota(lambda z: SPOUSE(z, x)) if single(charset(lambda z: SPOUSE(z, x))) else None) if MAN(x) is not None and FAMOUS(iota(lambda z: SPOUSE(z, x)) if single(charset(lambda z: SPOUSE(z, x))) else None) is not None else None  type: ('e', 't')\t(NN)\u001b[0m\n",
      "   Interpreting John with parameters: [None]\u001b[0m\n",
      "   => John = 'J'  type: 'e'\t(TN)\u001b[0m\n",
      "=> S = 1 and FAMOUS(iota(lambda z: SPOUSE(z, 'J')) if single(charset(lambda z: SPOUSE(z, 'J'))) else None) if True and FAMOUS(iota(lambda z: SPOUSE(z, 'J')) if single(charset(lambda z: SPOUSE(z, 'J'))) else None) is not None else None  type: 't'\t(AF)\u001b[0m\n"
     ]
    },
    {
     "data": {
      "text/html": [
       "<span style=\"color: #666666\">1</span> <span style=\"color: #AA22FF; font-weight: bold\">and</span> FAMOUS(iota(<span style=\"color: #008000; font-weight: bold\">lambda</span> z: SPOUSE(z, <span style=\"color: #BA2121\">&#39;J&#39;</span>)) <span style=\"color: #008000; font-weight: bold\">if</span> single(charset(<span style=\"color: #008000; font-weight: bold\">lambda</span> z: SPOUSE(z, <span style=\"color: #BA2121\">&#39;J&#39;</span>))) <span style=\"color: #008000; font-weight: bold\">else</span> <span style=\"color: #008000; font-weight: bold\">None</span>) <span style=\"color: #008000; font-weight: bold\">if</span> <span style=\"color: #008000; font-weight: bold\">True</span> <span style=\"color: #AA22FF; font-weight: bold\">and</span> FAMOUS(iota(<span style=\"color: #008000; font-weight: bold\">lambda</span> z: SPOUSE(z, <span style=\"color: #BA2121\">&#39;J&#39;</span>)) <span style=\"color: #008000; font-weight: bold\">if</span> single(charset(<span style=\"color: #008000; font-weight: bold\">lambda</span> z: SPOUSE(z, <span style=\"color: #BA2121\">&#39;J&#39;</span>))) <span style=\"color: #008000; font-weight: bold\">else</span> <span style=\"color: #008000; font-weight: bold\">None</span>) <span style=\"color: #AA22FF; font-weight: bold\">is</span> <span style=\"color: #AA22FF; font-weight: bold\">not</span> <span style=\"color: #008000; font-weight: bold\">None</span> <span style=\"color: #008000; font-weight: bold\">else</span> <span style=\"color: #008000; font-weight: bold\">None</span>\n",
       "\n",
       "        <span style='float:right; font-family:monospace; margin-right:75px;\n",
       "              font-weight:bold; background-color:#e5e5ff; color:#000'>\n",
       "          't'</span>"
      ],
      "text/plain": [
       "1 and FAMOUS(iota(lambda z: SPOUSE(z, 'J')) if single(charset(lambda z: SPOUSE(z, 'J'))) else None) if True and FAMOUS(iota(lambda z: SPOUSE(z, 'J')) if single(charset(lambda z: SPOUSE(z, 'J'))) else None) is not None else None"
      ]
     },
     "execution_count": 11,
     "metadata": {},
     "output_type": "execute_result"
    }
   ],
   "source": [
    "#SPOUSE  = Predicate({})\n",
    "MAN       = Predicate({(J,)})\n",
    "#SPOUSE  = Predicate({(B,J), (J,B)})\n",
    "SPOUSE  = Predicate({(B,S), (S,B)})\n",
    "FAMOUS  = Predicate({(B,),(S,)}) \n",
    "\n",
    "from nltk import ImmutableTree\n",
    "\n",
    "m.update({\n",
    "    'John'      : 'J'.e,\n",
    "    'man'       : (lambda x: MAN(x)).et,\n",
    "    'attended'  : (lambda y: lambda x: ATTENDED(x,y)).eet,\n",
    "    'the'       : (lambda f: iota(f) if single(charset(f)) else None).et_e,\n",
    "    '2019_Olympics' : (lambda x: OLYMPICS2019(x)).et,\n",
    "    'famous'  : (lambda x: FAMOUS(x)).et,\n",
    "    'spouse'  : (lambda y: lambda x: SPOUSE(x,y)).eet,\n",
    "})\n",
    "\n",
    "tree2iv = Tree.fromstring(\n",
    "'''\n",
    "(S John\n",
    "  (VP is\n",
    "    (DP a\n",
    "      (NP man\n",
    "        (CP who\n",
    "          (S \n",
    "            (DP the\n",
    "              (NP spouse (PP of t))\n",
    "            )\n",
    "            (VP is famous)\n",
    "          )\n",
    "        )\n",
    "      )\n",
    "    )\n",
    "  )\n",
    ")''')\n",
    "\n",
    "tree2iv\n",
    "#console_handler.setLevel(logging.DEBUG)\n",
    "m.i(tree2iv, None)\n",
    "#console_handler.setLevel(logging.INFO)"
   ]
  },
  {
   "cell_type": "code",
   "execution_count": null,
   "metadata": {},
   "outputs": [
    {
     "data": {
      "text/plain": [
       "False"
      ]
     },
     "execution_count": 5,
     "metadata": {},
     "output_type": "execute_result"
    }
   ],
   "source": [
    "single(charset(lambda z: SPOUSE(z, 'J')))"
   ]
  },
  {
   "cell_type": "code",
   "execution_count": null,
   "metadata": {},
   "outputs": [],
   "source": [
    "1 if True and FAMOUS('B' if single(charset(lambda z: SPOUSE(z, 'J'))) else None) is not None else None"
   ]
  },
  {
   "cell_type": "code",
   "execution_count": null,
   "metadata": {},
   "outputs": [
    {
     "data": {
      "image/svg+xml": [
       "<svg baseProfile=\"full\" height=\"264px\" preserveAspectRatio=\"xMidYMid meet\" style=\"font-family: times, serif; font-weight: normal; font-style: normal; font-size: 16px\" version=\"1.1\" viewBox=\"0,0,344.0,264.0\" width=\"344px\" xmlns=\"http://www.w3.org/2000/svg\" xmlns:ev=\"http://www.w3.org/2001/xml-events\" xmlns:xlink=\"http://www.w3.org/1999/xlink\"><defs /><svg width=\"100%\" x=\"0\" y=\"0px\"><defs /><text text-anchor=\"middle\" x=\"50%\" y=\"16px\">NP</text></svg><svg width=\"11.6279%\" x=\"0%\" y=\"48px\"><defs /><svg width=\"100%\" x=\"0\" y=\"0px\"><defs /><text text-anchor=\"middle\" x=\"50%\" y=\"16px\">man</text></svg></svg><line stroke=\"black\" x1=\"50%\" x2=\"5.81395%\" y1=\"20px\" y2=\"48px\" /><svg width=\"88.3721%\" x=\"11.6279%\" y=\"48px\"><defs /><svg width=\"100%\" x=\"0\" y=\"0px\"><defs /><text text-anchor=\"middle\" x=\"50%\" y=\"16px\">CP</text></svg><svg width=\"13.1579%\" x=\"0%\" y=\"48px\"><defs /><svg width=\"100%\" x=\"0\" y=\"0px\"><defs /><text text-anchor=\"middle\" x=\"50%\" y=\"16px\">who</text></svg></svg><line stroke=\"black\" x1=\"50%\" x2=\"6.57895%\" y1=\"20px\" y2=\"48px\" /><svg width=\"86.8421%\" x=\"13.1579%\" y=\"48px\"><defs /><svg width=\"100%\" x=\"0\" y=\"0px\"><defs /><text text-anchor=\"middle\" x=\"50%\" y=\"16px\">S</text></svg><svg width=\"9.09091%\" x=\"0%\" y=\"48px\"><defs /><svg width=\"100%\" x=\"0\" y=\"0px\"><defs /><text text-anchor=\"middle\" x=\"50%\" y=\"16px\">t</text></svg></svg><line stroke=\"black\" x1=\"50%\" x2=\"4.54545%\" y1=\"20px\" y2=\"48px\" /><svg width=\"90.9091%\" x=\"9.09091%\" y=\"48px\"><defs /><svg width=\"100%\" x=\"0\" y=\"0px\"><defs /><text text-anchor=\"middle\" x=\"50%\" y=\"16px\">VP</text></svg><svg width=\"33.3333%\" x=\"0%\" y=\"48px\"><defs /><svg width=\"100%\" x=\"0\" y=\"0px\"><defs /><text text-anchor=\"middle\" x=\"50%\" y=\"16px\">attended</text></svg></svg><line stroke=\"black\" x1=\"50%\" x2=\"16.6667%\" y1=\"20px\" y2=\"48px\" /><svg width=\"66.6667%\" x=\"33.3333%\" y=\"48px\"><defs /><svg width=\"100%\" x=\"0\" y=\"0px\"><defs /><text text-anchor=\"middle\" x=\"50%\" y=\"16px\">DP</text></svg><svg width=\"25%\" x=\"0%\" y=\"48px\"><defs /><svg width=\"100%\" x=\"0\" y=\"0px\"><defs /><text text-anchor=\"middle\" x=\"50%\" y=\"16px\">the</text></svg></svg><line stroke=\"black\" x1=\"50%\" x2=\"12.5%\" y1=\"20px\" y2=\"48px\" /><svg width=\"75%\" x=\"25%\" y=\"48px\"><defs /><svg width=\"100%\" x=\"0\" y=\"0px\"><defs /><text text-anchor=\"middle\" x=\"50%\" y=\"16px\">2019_Olympics</text></svg></svg><line stroke=\"black\" x1=\"50%\" x2=\"62.5%\" y1=\"20px\" y2=\"48px\" /></svg><line stroke=\"black\" x1=\"50%\" x2=\"66.6667%\" y1=\"20px\" y2=\"48px\" /></svg><line stroke=\"black\" x1=\"50%\" x2=\"54.5455%\" y1=\"20px\" y2=\"48px\" /></svg><line stroke=\"black\" x1=\"50%\" x2=\"56.5789%\" y1=\"20px\" y2=\"48px\" /></svg><line stroke=\"black\" x1=\"50%\" x2=\"55.814%\" y1=\"20px\" y2=\"48px\" /></svg>"
      ],
      "text/plain": [
       "Tree('NP', ['man', Tree('CP', ['who', Tree('S', ['t', Tree('VP', ['attended', Tree('DP', ['the', '2019_Olympics'])])])])])"
      ]
     },
     "execution_count": 13,
     "metadata": {},
     "output_type": "execute_result"
    },
    {
     "name": "stderr",
     "output_type": "stream",
     "text": [
      "Interpreting (NP man (CP who (S t (VP attended (DP the 2019_Olympics))))) with parameters: [(\"'M'\", 'e')]\u001b[0m\n",
      "   Interpreting (CP who (S t (VP attended (DP the 2019_Olympics)))) with parameters: [(\"'M'\", 'e')]\u001b[0m\n",
      "      Interpreting (S t (VP attended (DP the 2019_Olympics))) with parameters: [('x', None)]\u001b[0m\n",
      "         Interpreting (VP attended (DP the 2019_Olympics)) with parameters: [('x', None)]\u001b[0m\n",
      "            Interpreting (DP the 2019_Olympics) with parameters: [('x', None)]\u001b[0m\n",
      "               Interpreting 2019_Olympics with parameters: [('x', None)]\u001b[0m\n",
      "               => 2019_Olympics = lambda x: O2019(x)  type: ('e', 't')\t(TN)\u001b[0m\n",
      "               Interpreting the with parameters: [('x', None)]\u001b[0m\n",
      "               => the = lambda f: iota(f) if single(charset(f)) else None  type: (('e', 't'), 'e')\t(TN)\u001b[0m\n",
      "            => (DP the 2019_Olympics) = iota(lambda x: O2019(x)) if single(charset(lambda x: O2019(x))) else None  type: 'e'\t(FA)\u001b[0m\n",
      "            Interpreting attended with parameters: [('x', None)]\u001b[0m\n",
      "            => attended = lambda y: lambda x: ATTENDED(x, y)  type: ('e', ('e', 't'))\t(TN)\u001b[0m\n",
      "\u001b[91m            No rule found to combine attended and (DP the 2019_Olympics)\u001b[0m\n",
      "         => (VP attended (DP the 2019_Olympics)) = None  type: None\t(None)\u001b[0m\n",
      "         Interpreting t with parameters: [('x', None)]\u001b[0m\n",
      "         => t = x  type: 'e'\t(TP)\u001b[0m\n",
      "\u001b[91m         No rule found to combine t and (VP attended (DP the 2019_Olympics))\u001b[0m\n",
      "      => (S t (VP attended (DP the 2019_Olympics))) = None  type: None\t(None)\u001b[0m\n",
      "   => (CP who (S t (VP attended (DP the 2019_Olympics)))) = lambda x: None  type: ('e', 't')\t(PA)\u001b[0m\n",
      "   Interpreting man with parameters: [(\"'M'\", 'e')]\u001b[0m\n",
      "   => man = lambda x: MAN(x)  type: ('e', 't')\t(TN)\u001b[0m\n",
      "=> (NP man (CP who (S t (VP attended (DP the 2019_Olympics))))) = lambda x: False if MAN(x) is not None and None is not None else None  type: ('e', 't')\t(PM)\u001b[0m\n"
     ]
    },
    {
     "data": {
      "text/html": [
       "lambda x: False if MAN(x) is not None and None is not None else None\n",
       "        <span style='float:right; font-family:monospace; margin-right:75px;\n",
       "              font-weight:bold; background-color:#e5e5ff; color:#000'>\n",
       "          ('e', 't')</span>"
      ],
      "text/plain": [
       "lambda x: False if MAN(x) is not None and None is not None else None"
      ]
     },
     "execution_count": 13,
     "metadata": {},
     "output_type": "execute_result"
    }
   ],
   "source": [
    "\n",
    "m = Meaning1({\n",
    "    'Bob'       : 'B'.e,\n",
    "    'invited'   : (lambda y: lambda x: INVITED(x,y)).eet,\n",
    "    'John'      : 'J'.e,\n",
    "    'man'       : (lambda x: MAN(x)).et,\n",
    "    'attended'  : (lambda y: lambda x: ATTENDED(x,y)).eet,\n",
    "    'the'       : (lambda f: iota(f) if single(charset(f)) else None).et_e,\n",
    "    '2019_Olympics' : (lambda x: O2019(x)).et,\n",
    "})\n",
    "\n",
    "\n",
    "from nltk import Tree, ImmutableTree\n",
    "\n",
    "tree1 = Tree.fromstring('(S Bob (VP is man))')\n",
    "\n",
    "tree2 = Tree.fromstring('''\n",
    "(S John\n",
    "  (VP attended\n",
    "    (DP the 2019_Olympics)\n",
    "  )\n",
    ")''')\n",
    "\n",
    "tree3 = Tree.fromstring('''\n",
    "(CP who\n",
    "  (S t\n",
    "    (VP attended\n",
    "      (DP the 2019_Olympics)\n",
    "    )\n",
    "  )\n",
    ")''')\n",
    "\n",
    "tree4 = Tree('NP', ('man', tree3))\n",
    "tree4\n",
    "\n",
    "O2019 = lambda x: 0\n",
    "\n",
    "#console_handler.setLevel(logging.DEBUG)\n",
    "m.i(tree4, 'M'.e)\n",
    "#console_handler.setLevel(logging.INFO)"
   ]
  },
  {
   "cell_type": "code",
   "execution_count": null,
   "metadata": {},
   "outputs": [
    {
     "data": {
      "image/svg+xml": [
       "<svg baseProfile=\"full\" height=\"456px\" preserveAspectRatio=\"xMidYMid meet\" style=\"font-family: times, serif; font-weight: normal; font-style: normal; font-size: 16px\" version=\"1.1\" viewBox=\"0,0,424.0,456.0\" width=\"424px\" xmlns=\"http://www.w3.org/2000/svg\" xmlns:ev=\"http://www.w3.org/2001/xml-events\" xmlns:xlink=\"http://www.w3.org/1999/xlink\"><defs /><svg width=\"100%\" x=\"0\" y=\"0px\"><defs /><text text-anchor=\"middle\" x=\"50%\" y=\"16px\">S</text></svg><svg width=\"11.3208%\" x=\"0%\" y=\"48px\"><defs /><svg width=\"100%\" x=\"0\" y=\"0px\"><defs /><text text-anchor=\"middle\" x=\"50%\" y=\"16px\">John</text></svg></svg><line stroke=\"black\" x1=\"50%\" x2=\"5.66038%\" y1=\"20px\" y2=\"48px\" /><svg width=\"88.6792%\" x=\"11.3208%\" y=\"48px\"><defs /><svg width=\"100%\" x=\"0\" y=\"0px\"><defs /><text text-anchor=\"middle\" x=\"50%\" y=\"16px\">VP</text></svg><svg width=\"8.51064%\" x=\"0%\" y=\"48px\"><defs /><svg width=\"100%\" x=\"0\" y=\"0px\"><defs /><text text-anchor=\"middle\" x=\"50%\" y=\"16px\">is</text></svg></svg><line stroke=\"black\" x1=\"50%\" x2=\"4.25532%\" y1=\"20px\" y2=\"48px\" /><svg width=\"91.4894%\" x=\"8.51064%\" y=\"48px\"><defs /><svg width=\"100%\" x=\"0\" y=\"0px\"><defs /><text text-anchor=\"middle\" x=\"50%\" y=\"16px\">DP</text></svg><svg width=\"6.97674%\" x=\"0%\" y=\"48px\"><defs /><svg width=\"100%\" x=\"0\" y=\"0px\"><defs /><text text-anchor=\"middle\" x=\"50%\" y=\"16px\">a</text></svg></svg><line stroke=\"black\" x1=\"50%\" x2=\"3.48837%\" y1=\"20px\" y2=\"48px\" /><svg width=\"93.0233%\" x=\"6.97674%\" y=\"48px\"><defs /><svg width=\"100%\" x=\"0\" y=\"0px\"><defs /><text text-anchor=\"middle\" x=\"50%\" y=\"16px\">NP</text></svg><svg width=\"12.5%\" x=\"0%\" y=\"48px\"><defs /><svg width=\"100%\" x=\"0\" y=\"0px\"><defs /><text text-anchor=\"middle\" x=\"50%\" y=\"16px\">man</text></svg></svg><line stroke=\"black\" x1=\"50%\" x2=\"6.25%\" y1=\"20px\" y2=\"48px\" /><svg width=\"87.5%\" x=\"12.5%\" y=\"48px\"><defs /><svg width=\"100%\" x=\"0\" y=\"0px\"><defs /><text text-anchor=\"middle\" x=\"50%\" y=\"16px\">CP</text></svg><svg width=\"14.2857%\" x=\"0%\" y=\"48px\"><defs /><svg width=\"100%\" x=\"0\" y=\"0px\"><defs /><text text-anchor=\"middle\" x=\"50%\" y=\"16px\">who</text></svg></svg><line stroke=\"black\" x1=\"50%\" x2=\"7.14286%\" y1=\"20px\" y2=\"48px\" /><svg width=\"85.7143%\" x=\"14.2857%\" y=\"48px\"><defs /><svg width=\"100%\" x=\"0\" y=\"0px\"><defs /><text text-anchor=\"middle\" x=\"50%\" y=\"16px\">S</text></svg><svg width=\"60%\" x=\"0%\" y=\"48px\"><defs /><svg width=\"100%\" x=\"0\" y=\"0px\"><defs /><text text-anchor=\"middle\" x=\"50%\" y=\"16px\">DP</text></svg><svg width=\"27.7778%\" x=\"0%\" y=\"48px\"><defs /><svg width=\"100%\" x=\"0\" y=\"0px\"><defs /><text text-anchor=\"middle\" x=\"50%\" y=\"16px\">the</text></svg></svg><line stroke=\"black\" x1=\"50%\" x2=\"13.8889%\" y1=\"20px\" y2=\"48px\" /><svg width=\"72.2222%\" x=\"27.7778%\" y=\"48px\"><defs /><svg width=\"100%\" x=\"0\" y=\"0px\"><defs /><text text-anchor=\"middle\" x=\"50%\" y=\"16px\">NP</text></svg><svg width=\"46.1538%\" x=\"0%\" y=\"48px\"><defs /><svg width=\"100%\" x=\"0\" y=\"0px\"><defs /><text text-anchor=\"middle\" x=\"50%\" y=\"16px\">wife</text></svg></svg><line stroke=\"black\" x1=\"50%\" x2=\"23.0769%\" y1=\"20px\" y2=\"48px\" /><svg width=\"53.8462%\" x=\"46.1538%\" y=\"48px\"><defs /><svg width=\"100%\" x=\"0\" y=\"0px\"><defs /><text text-anchor=\"middle\" x=\"50%\" y=\"16px\">PP</text></svg><svg width=\"57.1429%\" x=\"0%\" y=\"48px\"><defs /><svg width=\"100%\" x=\"0\" y=\"0px\"><defs /><text text-anchor=\"middle\" x=\"50%\" y=\"16px\">of</text></svg></svg><line stroke=\"black\" x1=\"50%\" x2=\"28.5714%\" y1=\"20px\" y2=\"48px\" /><svg width=\"42.8571%\" x=\"57.1429%\" y=\"48px\"><defs /><svg width=\"100%\" x=\"0\" y=\"0px\"><defs /><text text-anchor=\"middle\" x=\"50%\" y=\"16px\">t</text></svg></svg><line stroke=\"black\" x1=\"50%\" x2=\"78.5714%\" y1=\"20px\" y2=\"48px\" /></svg><line stroke=\"black\" x1=\"50%\" x2=\"73.0769%\" y1=\"20px\" y2=\"48px\" /></svg><line stroke=\"black\" x1=\"50%\" x2=\"63.8889%\" y1=\"20px\" y2=\"48px\" /></svg><line stroke=\"black\" x1=\"50%\" x2=\"30%\" y1=\"20px\" y2=\"48px\" /><svg width=\"40%\" x=\"60%\" y=\"48px\"><defs /><svg width=\"100%\" x=\"0\" y=\"0px\"><defs /><text text-anchor=\"middle\" x=\"50%\" y=\"16px\">VP</text></svg><svg width=\"33.3333%\" x=\"0%\" y=\"48px\"><defs /><svg width=\"100%\" x=\"0\" y=\"0px\"><defs /><text text-anchor=\"middle\" x=\"50%\" y=\"16px\">is</text></svg></svg><line stroke=\"black\" x1=\"50%\" x2=\"16.6667%\" y1=\"20px\" y2=\"48px\" /><svg width=\"66.6667%\" x=\"33.3333%\" y=\"48px\"><defs /><svg width=\"100%\" x=\"0\" y=\"0px\"><defs /><text text-anchor=\"middle\" x=\"50%\" y=\"16px\">famous</text></svg></svg><line stroke=\"black\" x1=\"50%\" x2=\"66.6667%\" y1=\"20px\" y2=\"48px\" /></svg><line stroke=\"black\" x1=\"50%\" x2=\"80%\" y1=\"20px\" y2=\"48px\" /></svg><line stroke=\"black\" x1=\"50%\" x2=\"57.1429%\" y1=\"20px\" y2=\"48px\" /></svg><line stroke=\"black\" x1=\"50%\" x2=\"56.25%\" y1=\"20px\" y2=\"48px\" /></svg><line stroke=\"black\" x1=\"50%\" x2=\"53.4884%\" y1=\"20px\" y2=\"48px\" /></svg><line stroke=\"black\" x1=\"50%\" x2=\"54.2553%\" y1=\"20px\" y2=\"48px\" /></svg><line stroke=\"black\" x1=\"50%\" x2=\"55.6604%\" y1=\"20px\" y2=\"48px\" /></svg>"
      ],
      "text/plain": [
       "Tree('S', ['John', Tree('VP', ['is', Tree('DP', ['a', Tree('NP', ['man', Tree('CP', ['who', Tree('S', [Tree('DP', ['the', Tree('NP', ['wife', Tree('PP', ['of', 't'])])]), Tree('VP', ['is', 'famous'])])])])])])])"
      ]
     },
     "execution_count": 8,
     "metadata": {},
     "output_type": "execute_result"
    },
    {
     "name": "stderr",
     "output_type": "stream",
     "text": [
      "Interpreting (S\n",
      "  John\n",
      "  (VP\n",
      "    is\n",
      "    (DP\n",
      "      a\n",
      "      (NP\n",
      "        man\n",
      "        (CP who (S (DP the (NP wife (PP of t))) (VP is famous))))))) with parameters: [(\"'M'\", 'e')]\u001b[0m\n",
      "   Interpreting (VP\n",
      "  is\n",
      "  (DP\n",
      "    a\n",
      "    (NP man (CP who (S (DP the (NP wife (PP of t))) (VP is famous)))))) with parameters: [(\"'M'\", 'e')]\u001b[0m\n",
      "      Interpreting (DP\n",
      "  a\n",
      "  (NP man (CP who (S (DP the (NP wife (PP of t))) (VP is famous))))) with parameters: [(\"'M'\", 'e')]\u001b[0m\n",
      "         Interpreting (NP man (CP who (S (DP the (NP wife (PP of t))) (VP is famous)))) with parameters: [(\"'M'\", 'e')]\u001b[0m\n",
      "            Interpreting (CP who (S (DP the (NP wife (PP of t))) (VP is famous))) with parameters: [(\"'M'\", 'e')]\u001b[0m\n",
      "               Interpreting (S (DP the (NP wife (PP of t))) (VP is famous)) with parameters: [('x', None)]\u001b[0m\n",
      "                  Interpreting (VP is famous) with parameters: [('x', None)]\u001b[0m\n",
      "                     Interpreting famous with parameters: [('x', None)]\u001b[0m\n",
      "                     => famous = lambda x: FAMOUS(x)  type: ('e', 't')\t(TN)\u001b[0m\n",
      "                     Interpreting is with parameters: [('x', None)]\u001b[0m\n",
      "                     => is = VACUOUS  type: None\t(TN)\u001b[0m\n",
      "\u001b[38;5;208mIgnoring vacuous item is\u001b[0m\n",
      "                  => (VP is famous) = lambda x: FAMOUS(x)  type: ('e', 't')\t(NN)\u001b[0m\n",
      "                  Interpreting (DP the (NP wife (PP of t))) with parameters: [('x', None)]\u001b[0m\n",
      "                     Interpreting (NP wife (PP of t)) with parameters: [('x', None)]\u001b[0m\n",
      "                        Interpreting (PP of t) with parameters: [('x', None)]\u001b[0m\n",
      "                           Interpreting t with parameters: [('x', None)]\u001b[0m\n",
      "                           => t = x  type: 'e'\t(TP)\u001b[0m\n",
      "                           Interpreting of with parameters: [('x', None)]\u001b[0m\n",
      "                           => of = VACUOUS  type: None\t(TN)\u001b[0m\n",
      "\u001b[38;5;208mIgnoring vacuous item of\u001b[0m\n",
      "                        => (PP of t) = x  type: 'e'\t(NN)\u001b[0m\n",
      "                        Interpreting wife with parameters: [('x', None)]\u001b[0m\n",
      "                        => wife = lambda y: lambda x: WIFE(x, y)  type: ('e', ('e', 't'))\t(TN)\u001b[0m\n",
      "                     => (NP wife (PP of t)) = lambda z: WIFE(z, x)  type: ('e', 't')\t(FA)\u001b[0m\n",
      "                     Interpreting the with parameters: [('x', None)]\u001b[0m\n",
      "                     => the = lambda f: iota(f) if single(charset(f)) else None  type: (('e', 't'), 'e')\t(TN)\u001b[0m\n",
      "                  => (DP the (NP wife (PP of t))) = iota(lambda z: WIFE(z, x)) if single(charset(lambda z: WIFE(z, x))) else None  type: 'e'\t(FA)\u001b[0m\n",
      "               => (S (DP the (NP wife (PP of t))) (VP is famous)) = FAMOUS(iota(lambda z: WIFE(z, x)) if single(charset(lambda z: WIFE(z, x))) else None)  type: 't'\t(AF)\u001b[0m\n",
      "            => (CP who (S (DP the (NP wife (PP of t))) (VP is famous))) = lambda x: FAMOUS(iota(lambda z: WIFE(z, x)) if single(charset(lambda z: WIFE(z, x))) else None)  type: ('e', 't')\t(PA)\u001b[0m\n",
      "            Interpreting man with parameters: [(\"'M'\", 'e')]\u001b[0m\n",
      "            => man = lambda x: MAN(x)  type: ('e', 't')\t(TN)\u001b[0m\n",
      "         => (NP man (CP who (S (DP the (NP wife (PP of t))) (VP is famous)))) = lambda x: MAN(x) and FAMOUS(iota(lambda z: WIFE(z, x)) if single(charset(lambda z: WIFE(z, x))) else None) if MAN(x) is not None and FAMOUS(iota(lambda z: WIFE(z, x)) if single(charset(lambda z: WIFE(z, x))) else None) is not None else None  type: ('e', 't')\t(PM)\u001b[0m\n",
      "         Interpreting a with parameters: [(\"'M'\", 'e')]\u001b[0m\n",
      "         => a = VACUOUS  type: None\t(TN)\u001b[0m\n",
      "\u001b[38;5;208mIgnoring vacuous item a\u001b[0m\n",
      "      => (DP\n",
      "  a\n",
      "  (NP man (CP who (S (DP the (NP wife (PP of t))) (VP is famous))))) = lambda x: MAN(x) and FAMOUS(iota(lambda z: WIFE(z, x)) if single(charset(lambda z: WIFE(z, x))) else None) if MAN(x) is not None and FAMOUS(iota(lambda z: WIFE(z, x)) if single(charset(lambda z: WIFE(z, x))) else None) is not None else None  type: ('e', 't')\t(NN)\u001b[0m\n",
      "      Interpreting is with parameters: [(\"'M'\", 'e')]\u001b[0m\n",
      "      => is = VACUOUS  type: None\t(TN)\u001b[0m\n",
      "\u001b[38;5;208mIgnoring vacuous item is\u001b[0m\n",
      "   => (VP\n",
      "  is\n",
      "  (DP\n",
      "    a\n",
      "    (NP man (CP who (S (DP the (NP wife (PP of t))) (VP is famous)))))) = lambda x: MAN(x) and FAMOUS(iota(lambda z: WIFE(z, x)) if single(charset(lambda z: WIFE(z, x))) else None) if MAN(x) is not None and FAMOUS(iota(lambda z: WIFE(z, x)) if single(charset(lambda z: WIFE(z, x))) else None) is not None else None  type: ('e', 't')\t(NN)\u001b[0m\n",
      "   Interpreting John with parameters: [(\"'M'\", 'e')]\u001b[0m\n",
      "   => John = 'J'  type: 'e'\t(TN)\u001b[0m\n",
      "=> (S\n",
      "  John\n",
      "  (VP\n",
      "    is\n",
      "    (DP\n",
      "      a\n",
      "      (NP\n",
      "        man\n",
      "        (CP who (S (DP the (NP wife (PP of t))) (VP is famous))))))) = None if True and FAMOUS('X' if single(charset(lambda z: WIFE(z, 'J'))) else None) is not None else None  type: 't'\t(AF)\u001b[0m\n"
     ]
    }
   ],
   "source": [
    "m.update({\n",
    "    'wife'    : (lambda y: lambda x: WIFE(x,y)).eet,\n",
    "    'famous'  : (lambda x: FAMOUS(x)).et,\n",
    "})\n",
    "tree5 = Tree.fromstring(\n",
    "'''\n",
    "(S John\n",
    "  (VP is\n",
    "    (DP a\n",
    "      (NP man\n",
    "        (CP who\n",
    "          (S \n",
    "            (DP the\n",
    "              (NP wife (PP of t))\n",
    "            )\n",
    "            (VP is famous)\n",
    "          )\n",
    "        )\n",
    "      )\n",
    "    )\n",
    "  )\n",
    ")''')\n",
    "\n",
    "tree5\n",
    "\n",
    "WIFE = lambda x,y: x != 'J'.e\n",
    "\n",
    "out = m.i(tree5, 'M'.e)\n",
    "out"
   ]
  },
  {
   "cell_type": "code",
   "execution_count": null,
   "metadata": {},
   "outputs": [
    {
     "data": {
      "text/plain": [
       "True"
      ]
     },
     "execution_count": 9,
     "metadata": {},
     "output_type": "execute_result"
    },
    {
     "name": "stderr",
     "output_type": "stream",
     "text": [
      "Interpreting attended with parameters: [()]\u001b[0m\n",
      "=> attended = lambda y: lambda x: ATTENDED(x, y)  type: ('e', ('e', 't'))\t(TN)\u001b[0m\n"
     ]
    },
    {
     "data": {
      "text/plain": [
       "False"
      ]
     },
     "execution_count": 9,
     "metadata": {},
     "output_type": "execute_result"
    }
   ],
   "source": [
    "PV.e(iota(lambda x: O2019(x)) if single(charset(lambda x: O2019(x))) else None).eval() is None\n",
    "takes(m['attended'], PV.e(iota(lambda x: O2019(x)) if single(charset(lambda x: O2019(x))) else None))"
   ]
  },
  {
   "cell_type": "code",
   "execution_count": null,
   "metadata": {},
   "outputs": [
    {
     "ename": "NameError",
     "evalue": "name 'STOP' is not defined",
     "output_type": "error",
     "traceback": [
      "\u001b[0;31m---------------------------------------------------------------------------\u001b[0m",
      "\u001b[0;31mNameError\u001b[0m                                 Traceback (most recent call last)",
      "Cell \u001b[0;32mIn[10], line 1\u001b[0m\n\u001b[0;32m----> 1\u001b[0m \u001b[43mSTOP\u001b[49m\n",
      "\u001b[0;31mNameError\u001b[0m: name 'STOP' is not defined"
     ]
    }
   ],
   "source": [
    "STOP"
   ]
  },
  {
   "cell_type": "code",
   "execution_count": null,
   "metadata": {},
   "outputs": [
    {
     "name": "stderr",
     "output_type": "stream",
     "text": [
      "Interpreting ((0, 'he_0'), 'Allie') with parameters: [{}]\u001b[0m\n",
      "   Interpreting Allie with parameters: [{}]\u001b[0m\n",
      "   => Allie = A \t(TN)\u001b[0m\n",
      "   Interpreting (0, 'he_0') with parameters: [{}]\u001b[0m\n",
      "      Interpreting he_0 with parameters: ['{0: x}']\u001b[0m\n",
      "      => he_0 = x \t(TP)\u001b[0m\n",
      "   => (0, 'he_0') = lambda x: x \t(PA)\u001b[0m\n",
      "=> ((0, 'he_0'), 'Allie') = A \t(FA)\u001b[0m\n"
     ]
    },
    {
     "data": {
      "text/html": [
       "A\n",
       "        <span style='float:right; font-family:monospace; margin-right:75px;\n",
       "              font-weight:bold; background-color:#e5e5ff; color:#000'>\n",
       "          't'</span>"
      ],
      "text/plain": [
       "A"
      ]
     },
     "execution_count": 8,
     "metadata": {},
     "output_type": "execute_result"
    }
   ],
   "source": [
    "def takes(f,x):\n",
    "  f_type = getattr(f, 'type', [])\n",
    "  x_type = getattr(x, 'type', None)\n",
    "  #print('TAKES', f, f_type, x, x_type)\n",
    "  if len(f_type) == 2:\n",
    "    return f_type[0] == x_type\n",
    "  return False\n",
    "\n",
    "def is_et(f):\n",
    "  return getattr(f, 'type', None) == Type.et\n",
    "\n",
    "class MeaningPV(Meaning):\n",
    "  def rules(self, alpha, g):\n",
    "    value, rule = None, None\n",
    "    m = self\n",
    "    match alpha:\n",
    "      # TP\n",
    "      case str() if '_' in alpha and alpha.split('_')[1].isdecimal():\n",
    "        i = int(alpha.split('_')[1])\n",
    "        rule = 'TP'\n",
    "        value = 'g[i]'.e\n",
    "\n",
    "      # case int() | str() as i if str(i).isdecimal():\n",
    "      #   i = int(i)\n",
    "      #   rule = 'IX'\n",
    "      #   value = i\n",
    "\n",
    "      case str() as s:\n",
    "        rule = 'TN'\n",
    "        value = self.lookup(s)\n",
    "      \n",
    "      # PA\n",
    "      case (i, beta) if str(i).isdecimal():\n",
    "        i = int(i)\n",
    "        rule = 'PA'\n",
    "        value = (lambda x : m.i(beta, g | {i:x})).et\n",
    "\n",
    "      # NN\n",
    "      case (beta,) if m.i(beta,g) is None:\n",
    "        rule = 'NN'\n",
    "        value = None\n",
    "        logger.warning('Ignoring vacuous item %s', beta)\n",
    "\n",
    "      case (beta,):\n",
    "        rule = 'NN'\n",
    "        value = PV(m.i(beta,g))\n",
    "\n",
    "      case (beta, gamma) if  m.i(gamma,g) is None:\n",
    "        rule = 'NN'\n",
    "        value = PV(m.i(beta,g))\n",
    "        logger.warning('Ignoring vacuous item %s', gamma)\n",
    "\n",
    "      case (gamma, beta) if m.i(gamma,g) is None:\n",
    "        rule = 'NN'\n",
    "        value = PV(m.i(beta,g))\n",
    "        logger.warning('Ignoring vacuous item %s', gamma)\n",
    "\n",
    "      # PM\n",
    "      case (beta, gamma) if is_et(m.i(gamma,g)) and is_et(m.i(beta,g)):\n",
    "        rule = 'PM'\n",
    "        value = (lambda x: m.i(beta,g)(x) and m.i(gamma,g)(x)).et\n",
    "\n",
    "      # FA\n",
    "      case (beta, gamma) if takes(m.i(beta,g), m.i(gamma,g)):\n",
    "        rule = 'FA'\n",
    "        value = PV(m.i(beta,g)(m.i(gamma,g)))\n",
    "      case (gamma, beta) if takes(m.i(beta,g), m.i(gamma,g)):\n",
    "        rule = 'AF'\n",
    "        value = PV(m.i(beta,g)(m.i(gamma,g)))\n",
    "\n",
    "    return value, rule\n",
    "\n",
    "m = MeaningPV({\n",
    "  'snores' : 'lambda x: SNORES(x)'.et,\n",
    "  'Allie' : 'A'.e,\n",
    "  'Bob' : 'B'.e,\n",
    "  'saw' : (lambda y: lambda x: SAW(x,y)).eet\n",
    "})\n",
    "\n",
    "m.i(((0, 'he_0'), 'Allie'), {})\n",
    "#m.i((0, 'he_0'), {})\n"
   ]
  },
  {
   "cell_type": "code",
   "execution_count": null,
   "metadata": {},
   "outputs": [
    {
     "name": "stderr",
     "output_type": "stream",
     "text": [
      "Interpreting (0, ('Bob', (('is',), ('saw', 't_0')))) with parameters: [{}]\u001b[0m\n",
      "   Interpreting ('Bob', (('is',), ('saw', 't_0'))) with parameters: ['{0: x}']\u001b[0m\n",
      "      Interpreting (('is',), ('saw', 't_0')) with parameters: ['{0: x}']\u001b[0m\n",
      "         Interpreting ('saw', 't_0') with parameters: ['{0: x}']\u001b[0m\n",
      "            Interpreting t_0 with parameters: ['{0: x}']\u001b[0m\n",
      "            => t_0 = x \t(TP)\u001b[0m\n",
      "            Interpreting saw with parameters: ['{0: x}']\u001b[0m\n",
      "            => saw = lambda y: lambda x: SAW(x, y) \t(TN)\u001b[0m\n",
      "         => ('saw', 't_0') = lambda z: SAW(z, x) \t(FA)\u001b[0m\n",
      "         Interpreting ('is',) with parameters: ['{0: x}']\u001b[0m\n",
      "            Interpreting is with parameters: ['{0: x}']\u001b[0m\n",
      "            => is = None \t(TN)\u001b[0m\n",
      "\u001b[38;5;208mRemoved vacuous item is\u001b[0m\n",
      "         => ('is',) = None \t(NN)\u001b[0m\n",
      "\u001b[38;5;208mRemoved vacuous item ('is',)\u001b[0m\n",
      "      => (('is',), ('saw', 't_0')) = lambda z: SAW(z, x) \t(NN)\u001b[0m\n",
      "      Interpreting Bob with parameters: ['{0: x}']\u001b[0m\n",
      "      => Bob = B \t(TN)\u001b[0m\n",
      "   => ('Bob', (('is',), ('saw', 't_0'))) = SAW(B, x) \t(AF)\u001b[0m\n",
      "=> (0, ('Bob', (('is',), ('saw', 't_0')))) = lambda x: SAW(B, x) \t(PA)\u001b[0m\n"
     ]
    },
    {
     "data": {
      "text/html": [
       "lambda x: SAW(B, x)\n",
       "        <span style='float:right; font-family:monospace; margin-right:75px;\n",
       "              font-weight:bold; background-color:#e5e5ff; color:#000'>\n",
       "          ('e', 't')</span>"
      ],
      "text/plain": [
       "lambda x: SAW(B, x)"
      ]
     },
     "execution_count": 7,
     "metadata": {},
     "output_type": "execute_result"
    }
   ],
   "source": [
    "#console_handler.setLevel(logging.DEBUG)\n",
    "m.i((0, ('Bob', (('is',), ('saw', 't_0')))), {})\n",
    "#console_handler.setLevel(logging.INFO)"
   ]
  },
  {
   "cell_type": "code",
   "execution_count": null,
   "metadata": {},
   "outputs": [
    {
     "name": "stderr",
     "output_type": "stream",
     "text": [
      "Interpreting (0, ('Bob', ('saw', 't_0'))) with parameters: [{}]\u001b[0m\n",
      "   Interpreting ('Bob', ('saw', 't_0')) with parameters: ['{0: x}']\u001b[0m\n",
      "      Interpreting ('saw', 't_0') with parameters: ['{0: x}']\u001b[0m\n",
      "         Interpreting t_0 with parameters: ['{0: x}']\u001b[0m\n",
      "         => t_0 = x \t(TP)\u001b[0m\n",
      "         Interpreting saw with parameters: ['{0: x}']\u001b[0m\n",
      "         => saw = lambda y: lambda x: SAW(x, y) \t(TN)\u001b[0m\n",
      "      => ('saw', 't_0') = lambda z: SAW(z, x) \t(FA)\u001b[0m\n",
      "      Interpreting Bob with parameters: ['{0: x}']\u001b[0m\n",
      "      => Bob = B \t(TN)\u001b[0m\n",
      "   => ('Bob', ('saw', 't_0')) = SAW(B, x) \t(AF)\u001b[0m\n",
      "=> (0, ('Bob', ('saw', 't_0'))) = lambda x: SAW(B, x) \t(PA)\u001b[0m\n"
     ]
    },
    {
     "name": "stdout",
     "output_type": "stream",
     "text": [
      "PA SAW(B, x)\n"
     ]
    },
    {
     "data": {
      "text/html": [
       "lambda x: SAW(B, x)\n",
       "        <span style='float:right; font-family:monospace; margin-right:75px;\n",
       "              font-weight:bold; background-color:#e5e5ff; color:#000'>\n",
       "          ('e', 't')</span>"
      ],
      "text/plain": [
       "lambda x: SAW(B, x)"
      ]
     },
     "execution_count": 4,
     "metadata": {},
     "output_type": "execute_result"
    }
   ],
   "source": [
    "from nltk import Tree, ImmutableTree\n",
    "tree = Tree.fromstring('(CP 0 (S Bob (VP saw t_0)))')\n",
    "#console_handler.setLevel(logging.DEBUG)\n",
    "m.i((0, ('Bob', ('saw', 't_0'))), {})\n",
    "console_handler.setLevel(logging.INFO)"
   ]
  },
  {
   "cell_type": "code",
   "execution_count": null,
   "metadata": {},
   "outputs": [],
   "source": [
    "SNORES = Predicate({('A',), (PV.e('B'),)})\n",
    "C = PV.e('C')\n",
    "B = PV.e('B')\n",
    "B\n",
    "B == PV.e('B')\n",
    "console_handler.setLevel(logging.DEBUG)\n",
    "\"(lambda x: (lambda y : SNORES(y))(x))(B)\".et\n",
    "console_handler.setLevel(logging.INFO)"
   ]
  },
  {
   "cell_type": "code",
   "execution_count": null,
   "metadata": {},
   "outputs": [],
   "source": [
    "class MeaningPV(Meaning):\n",
    "  def rules(self, alpha, g={}):\n",
    "    value, rule = None, None\n",
    "    m = self(g)\n",
    "    match alpha:\n",
    "      # PA\n",
    "      case (int() as i, beta):\n",
    "        rule = 'PA'\n",
    "        m = self\n",
    "        value = (lambda x : m.i(beta, g | {i:x})).ee        \n",
    "\n",
    "      # TP\n",
    "      case str() if '_' in alpha and alpha.split('_')[1].isdigit():\n",
    "        i = int(alpha.split('_')[1])\n",
    "        rule = 'TP'\n",
    "        value = 'g[i]'.e\n",
    "\n",
    "      case int() as i:\n",
    "        rule = 'TN'\n",
    "        value = i\n",
    "\n",
    "      case str() as s:\n",
    "        rule = 'PN'\n",
    "        value = self.lookup(s)\n",
    "\n",
    "    return value, rule\n",
    "\n",
    "m = MeaningPV({\n",
    "  'snores' : 'lambda x: SNORES(x)'.et,\n",
    "#  'Allie' : 'A'.e\n",
    "})\n",
    "\n",
    "#console_handler.setLevel(logging.DEBUG)\n",
    "PV(m.i((0, 'he_0'), {}))\n",
    "console_handler.setLevel(logging.INFO)"
   ]
  },
  {
   "cell_type": "code",
   "execution_count": null,
   "metadata": {},
   "outputs": [],
   "source": [
    "modify = (lambda g,i,a: g | {i:a}).xg\n",
    "modify\n",
    "gg = {1:2,3:4}\n",
    "console_handler.setLevel(logging.DEBUG)\n",
    "ff = (lambda x : (gg | {1:x})[1]).eg\n",
    "ff\n",
    "ff(3)\n",
    "console_handler.setLevel(logging.INFO)"
   ]
  },
  {
   "cell_type": "code",
   "execution_count": null,
   "metadata": {},
   "outputs": [],
   "source": [
    "class Meaning5b(Meaning):\n",
    "  def rules(self, alpha):\n",
    "    value, rule = None, None\n",
    "    match alpha:\n",
    "      # PA\n",
    "      case (int() as i, beta):\n",
    "        rule = 'PA'\n",
    "        m = self\n",
    "        value = (lambda x : (lambda g : g[i])(g | {i:x})).ee\n",
    "        value = value(m[beta])\n",
    "        \n",
    "\n",
    "      # TP\n",
    "      case str() if '_' in alpha and alpha.split('_')[1].isdigit():\n",
    "        i = int(alpha.split('_')[1])\n",
    "        rule = 'TP'\n",
    "        value = 'g[0]'.e\n",
    "\n",
    "      case int() as i:\n",
    "        rule = 'TN'\n",
    "        value = i\n",
    "\n",
    "    return value, rule\n",
    "\n",
    "m = Meaning5b({\n",
    "  'snores' : 'lambda x: SNORES(x)'.et,\n",
    "  'Allie' : 'A'.e\n",
    "})\n",
    "\n",
    "ff = m[0, 'he_0']\n",
    "ff\n",
    "(lambda g : ff).ge({1:'Z'.e, 2:'B'.e})\n",
    "#ff({1:'Z'.e, 2:'B'.e})('A'.e)"
   ]
  },
  {
   "cell_type": "code",
   "execution_count": null,
   "metadata": {},
   "outputs": [],
   "source": [
    "class Meaning5b(Meaning):\n",
    "  def rules(self, alpha):\n",
    "    value, rule = None, None\n",
    "    match alpha:\n",
    "      # PA\n",
    "      case (int() as i, beta):\n",
    "        rule = 'PA'\n",
    "        m = self\n",
    "        value = (lambda y : lambda g: lambda x : y(g|{0:x})).ge_gee\n",
    "        logger.warning('value context: %s', value.context)\n",
    "        value = value(m[beta])\n",
    "        logger.warning('value context: %s', value.context)\n",
    "        \n",
    "\n",
    "      # TP\n",
    "      case str() if '_' in alpha and alpha.split('_')[1].isdigit():\n",
    "        i = int(alpha.split('_')[1])\n",
    "        rule = 'TP'\n",
    "        value = (lambda g : g[0]).ge\n",
    "\n",
    "      case int() as i:\n",
    "        rule = 'TN'\n",
    "        value = i\n",
    "\n",
    "    return value, rule\n",
    "\n",
    "m = Meaning5b({\n",
    "  'snores' : 'lambda x: SNORES(x)'.et,\n",
    "  'Allie' : 'A'.e\n",
    "})\n",
    "\n",
    "ff = m[0, 'he_0']\n",
    "ff\n",
    "ff({1:'Z'.e, 2:'B'.e})\n",
    "ff({1:'Z'.e, 2:'B'.e})('A'.e)"
   ]
  },
  {
   "cell_type": "code",
   "execution_count": null,
   "metadata": {},
   "outputs": [],
   "source": [
    "def modify(g, i, a):\n",
    "  g[i] = SemVal(str(a), Type.e)\n",
    "  return g\n",
    "\n",
    "class Meaning5b(Meaning):\n",
    "  def rules(self, alpha, g): # pylint: disable=no-self-argument\n",
    "    \"\"\"Defines standard rules for combining the meanings of the\n",
    "    children of a node alpha. Meant to be overridden if different rules are wanted.\"\"\"\n",
    "\n",
    "    value, rule = None, None\n",
    "    m = self(g)\n",
    "    match alpha:\n",
    "      # PA\n",
    "      case (int() as i, beta):\n",
    "        rule = 'PA'\n",
    "        m = self\n",
    "        value = (lambda x : m(modify(g,i,x))[beta]).et\n",
    "\n",
    "      # PM\n",
    "      case (beta, gamma) if m[gamma].type == m[beta].type == Type.et:\n",
    "        rule = 'PM'\n",
    "        pm_f = Function('lambda f : lambda g: lambda x: f(x) and g(x)', Type.et_et_et)\n",
    "        value = pm_f(m[beta])(m[gamma])\n",
    "\n",
    "      # FA\n",
    "      case (beta, gamma) if  m[gamma] in m[beta].domain() :\n",
    "        rule = 'FA'\n",
    "        value = m[beta](m[gamma])\n",
    "      case (gamma, beta) if  m[gamma] in m[beta].domain() :\n",
    "        rule = 'AF'\n",
    "        value = m[beta](m[gamma])\n",
    "\n",
    "      # NN\n",
    "      case (beta,):\n",
    "        rule = 'NN'\n",
    "        value = m[beta]\n",
    "      \n",
    "      # TP\n",
    "      case str() if '_' in alpha and alpha.split('_')[1].isdigit():\n",
    "        i = int(alpha.split('_')[1])\n",
    "        rule = 'TP'\n",
    "        value = g[i]\n",
    "\n",
    "      # TN\n",
    "      case str():\n",
    "        rule = 'TN'\n",
    "        value = m.lookup(alpha)\n",
    "\n",
    "      case int() as i:\n",
    "        rule = 'TN'\n",
    "        value = i\n",
    "\n",
    "    return value, rule\n",
    "\n",
    "m = Meaning5b({\n",
    "  'snores' : 'lambda x: SNORES(x)'.et,\n",
    "  'Allie' : 'A'.e\n",
    "})\n",
    "\n",
    "ff = m(['Z'.e, 'B'.e])[(0, ('he_0', 'snores'))]\n",
    "ff"
   ]
  },
  {
   "cell_type": "code",
   "execution_count": null,
   "metadata": {},
   "outputs": [],
   "source": [
    "class Meaning5a(Meaning):\n",
    "  def rules(self, alpha, a): # pylint: disable=no-self-argument\n",
    "    \"\"\"Defines standard rules for combining the meanings of the\n",
    "    children of a node alpha. Meant to be overridden if different rules are wanted.\"\"\"\n",
    "\n",
    "    value, rule = None, None\n",
    "    m = self(a)\n",
    "    match alpha:      \n",
    "      # PM\n",
    "      case (beta, gamma) if m[gamma].type == m[beta].type == Type.et:\n",
    "        rule = 'PM'\n",
    "        pm_f = Function('lambda f : lambda g: lambda x: f(x) and g(x)', Type.et_et_et)\n",
    "        value = pm_f(m[beta])(m[gamma])\n",
    "\n",
    "      # FA\n",
    "      case (beta, gamma) if  m[gamma] in m[beta].domain() :\n",
    "        rule = 'FA'\n",
    "        value = m[beta](m[gamma])\n",
    "      case (gamma, beta) if  m[gamma] in m[beta].domain() :\n",
    "        rule = 'AF'\n",
    "        value = m[beta](m[gamma])\n",
    "\n",
    "      # NN\n",
    "      case (beta,):\n",
    "        rule = 'NN'\n",
    "        value = m[beta]\n",
    "\n",
    "      case 't'|'he'|'she'|'it':\n",
    "        rule = 'TP'\n",
    "        value = a\n",
    "      \n",
    "      # TN\n",
    "      case str():\n",
    "        rule = 'TN'\n",
    "        value = m.lookup(alpha)\n",
    "\n",
    "    return value, rule\n",
    "\n",
    "m = Meaning5a({\n",
    "  'snores' : 'lambda x: SNORES(x)'.et,\n",
    "})\n",
    "\n",
    "m('A'.e)['he', 'snores']"
   ]
  },
  {
   "cell_type": "code",
   "execution_count": null,
   "metadata": {},
   "outputs": [
    {
     "data": {
      "image/svg+xml": [
       "<svg baseProfile=\"full\" height=\"264px\" preserveAspectRatio=\"xMidYMid meet\" style=\"font-family: times, serif; font-weight: normal; font-style: normal; font-size: 16px\" version=\"1.1\" viewBox=\"0,0,266.0,264.0\" width=\"266px\" xmlns=\"http://www.w3.org/2000/svg\" xmlns:ev=\"http://www.w3.org/2001/xml-events\" xmlns:xlink=\"http://www.w3.org/1999/xlink\"><defs /><svg width=\"100%\" x=\"0\" y=\"0px\"><defs /><text text-anchor=\"middle\" x=\"50%\" y=\"16px\">CP</text></svg><svg width=\"9.02256%\" x=\"0%\" y=\"48px\"><defs /><svg width=\"100%\" x=\"0\" y=\"0px\"><defs /><text text-anchor=\"middle\" x=\"50%\" y=\"16px\">1</text></svg></svg><line stroke=\"black\" x1=\"50%\" x2=\"4.51128%\" y1=\"20px\" y2=\"48px\" /><svg width=\"90.9774%\" x=\"9.02256%\" y=\"48px\"><defs /><svg width=\"100%\" x=\"0\" y=\"0px\"><defs /><text text-anchor=\"middle\" x=\"50%\" y=\"16px\">S</text></svg><svg width=\"40.4959%\" x=\"0%\" y=\"48px\"><defs /><svg width=\"100%\" x=\"0\" y=\"0px\"><defs /><text text-anchor=\"middle\" x=\"50%\" y=\"16px\">NP</text></svg><svg width=\"59.1837%\" x=\"0%\" y=\"48px\"><defs /><svg width=\"100%\" x=\"0\" y=\"0px\"><defs /><text text-anchor=\"middle\" x=\"50%\" y=\"16px\">DT</text></svg><svg width=\"100%\" x=\"0%\" y=\"48px\"><defs /><svg width=\"100%\" x=\"0\" y=\"0px\"><defs /><text text-anchor=\"middle\" x=\"50%\" y=\"16px\"><tspan>The</tspan><tspan dy=\"4px\" style=\"font-size: 12px\">1</tspan></text></svg></svg><line stroke=\"black\" x1=\"50%\" x2=\"50%\" y1=\"20px\" y2=\"48px\" /></svg><line stroke=\"black\" x1=\"50%\" x2=\"29.5918%\" y1=\"20px\" y2=\"48px\" /><svg width=\"40.8163%\" x=\"59.1837%\" y=\"48px\"><defs /><svg width=\"100%\" x=\"0\" y=\"0px\"><defs /><text text-anchor=\"middle\" x=\"50%\" y=\"16px\">NN</text></svg><svg width=\"100%\" x=\"0%\" y=\"48px\"><defs /><svg width=\"100%\" x=\"0\" y=\"0px\"><defs /><text text-anchor=\"middle\" x=\"50%\" y=\"16px\">cat</text></svg></svg><line stroke=\"black\" x1=\"50%\" x2=\"50%\" y1=\"20px\" y2=\"48px\" /></svg><line stroke=\"black\" x1=\"50%\" x2=\"79.5918%\" y1=\"20px\" y2=\"48px\" /></svg><line stroke=\"black\" x1=\"50%\" x2=\"20.2479%\" y1=\"20px\" y2=\"48px\" /><svg width=\"59.5041%\" x=\"40.4959%\" y=\"48px\"><defs /><svg width=\"100%\" x=\"0\" y=\"0px\"><defs /><text text-anchor=\"middle\" x=\"50%\" y=\"16px\">VP</text></svg><svg width=\"33.3333%\" x=\"0%\" y=\"48px\"><defs /><svg width=\"100%\" x=\"0\" y=\"0px\"><defs /><text text-anchor=\"middle\" x=\"50%\" y=\"16px\">VBZ</text></svg><svg width=\"100%\" x=\"0%\" y=\"48px\"><defs /><svg width=\"100%\" x=\"0\" y=\"0px\"><defs /><text text-anchor=\"middle\" x=\"50%\" y=\"16px\">eats</text></svg></svg><line stroke=\"black\" x1=\"50%\" x2=\"50%\" y1=\"20px\" y2=\"48px\" /></svg><line stroke=\"black\" x1=\"50%\" x2=\"16.6667%\" y1=\"20px\" y2=\"48px\" /><svg width=\"66.6667%\" x=\"33.3333%\" y=\"48px\"><defs /><svg width=\"100%\" x=\"0\" y=\"0px\"><defs /><text text-anchor=\"middle\" x=\"50%\" y=\"16px\">NP</text></svg><svg width=\"41.6667%\" x=\"0%\" y=\"48px\"><defs /><svg width=\"100%\" x=\"0\" y=\"0px\"><defs /><text text-anchor=\"middle\" x=\"50%\" y=\"16px\">DT</text></svg><svg width=\"100%\" x=\"0%\" y=\"48px\"><defs /><svg width=\"100%\" x=\"0\" y=\"0px\"><defs /><text text-anchor=\"middle\" x=\"50%\" y=\"16px\">the</text></svg></svg><line stroke=\"black\" x1=\"50%\" x2=\"50%\" y1=\"20px\" y2=\"48px\" /></svg><line stroke=\"black\" x1=\"50%\" x2=\"20.8333%\" y1=\"20px\" y2=\"48px\" /><svg width=\"58.3333%\" x=\"41.6667%\" y=\"48px\"><defs /><svg width=\"100%\" x=\"0\" y=\"0px\"><defs /><text text-anchor=\"middle\" x=\"50%\" y=\"16px\">NN</text></svg><svg width=\"100%\" x=\"0%\" y=\"48px\"><defs /><svg width=\"100%\" x=\"0\" y=\"0px\"><defs /><text text-anchor=\"middle\" x=\"50%\" y=\"16px\">mouse</text></svg></svg><line stroke=\"black\" x1=\"50%\" x2=\"50%\" y1=\"20px\" y2=\"48px\" /></svg><line stroke=\"black\" x1=\"50%\" x2=\"70.8333%\" y1=\"20px\" y2=\"48px\" /></svg><line stroke=\"black\" x1=\"50%\" x2=\"66.6667%\" y1=\"20px\" y2=\"48px\" /></svg><line stroke=\"black\" x1=\"50%\" x2=\"70.2479%\" y1=\"20px\" y2=\"48px\" /></svg><line stroke=\"black\" x1=\"50%\" x2=\"54.5113%\" y1=\"20px\" y2=\"48px\" /></svg>"
      ],
      "text/plain": [
       "Tree('CP', ['1', Tree('S', [Tree('NP', [Tree('DT', ['The_1']), Tree('NN', ['cat'])]), Tree('VP', [Tree('VBZ', ['eats']), Tree('NP', [Tree('DT', ['the']), Tree('NN', ['mouse'])])])])])"
      ]
     },
     "execution_count": 8,
     "metadata": {},
     "output_type": "execute_result"
    },
    {
     "data": {
      "text/plain": [
       "str"
      ]
     },
     "execution_count": 8,
     "metadata": {},
     "output_type": "execute_result"
    }
   ],
   "source": [
    "import svgling\n",
    "from nltk import Tree\n",
    "\n",
    "tree = Tree.fromstring('(CP 1 (S (NP (DT The_1) (NN cat)) (VP (VBZ eats) (NP (DT the) (NN mouse)))))')\n",
    "\n",
    "def split_leaf(node):\n",
    "  if isinstance(node, str):\n",
    "    l = node.split('_')\n",
    "    if len(l) > 1:\n",
    "      return svgling.core.subscript_node(l[0], l[1]), ()\n",
    "    return node, ()\n",
    "\n",
    "def _repr_svg_(self):\n",
    "  return svgling.draw_tree(self, tree_split=split_leaf)._repr_svg_()\n",
    "\n",
    "Tree._repr_svg_ = _repr_svg_\n",
    "tree\n",
    "type(tree[0][0][0])\n"
   ]
  },
  {
   "cell_type": "code",
   "execution_count": null,
   "metadata": {},
   "outputs": [],
   "source": [
    "from string import ascii_uppercase\n",
    "DOMAIN = [SemVal.create(c,Type.e) for c in ascii_uppercase]\n",
    "A,B,C,D,E,F,G,H,I,J,K,L,M,N,O,P,Q,R,S,T,U,V,W,X,Y,Z = DOMAIN\n",
    "\n",
    "def charset(f, domain = None):\n",
    "  #logger.warning(f'CHARSET of {repr(f)}')\n",
    "  if domain is None:\n",
    "    domain = DOMAIN\n",
    "  out = {c for c in domain if f(c)}\n",
    "  #logger.warning(f'CHARSET of {f} is {out}')\n",
    "  return out\n",
    "\n",
    "def iota(f, domain = None):\n",
    "  #logger.warning(f'IOTA of {f}')\n",
    "  return max(charset(f,domain))"
   ]
  },
  {
   "cell_type": "code",
   "execution_count": null,
   "metadata": {},
   "outputs": [],
   "source": [
    "from IPython.display import HTML\n",
    "from nltk import Tree\n",
    "# Domain and Predicates / Relations\n",
    "A, B, C, D, E, F, G = DOMAIN[:7]\n",
    "PAWN = Predicate({\n",
    "    (A,), (B,), (C,), (D,), (E,), (F,), (G,)\n",
    "})\n",
    "LEFT_OF = Predicate({\n",
    "    (A,B), (A,C), (A,D), (A,E), (A,F), (A,G),\n",
    "    (B,C), (B,D), (B,E), (B,F), (B,G),\n",
    "    (C,D), (C,E), (C,F), (C,G),\n",
    "    (D,E), (D,F), (D,G),\n",
    "    (E,F), (E,G),\n",
    "    (F,G)            \n",
    "})\n",
    "BLACK = Predicate({\n",
    "    (B,), (D,), (E,), (F,)\n",
    "})\n",
    "\n",
    "\n",
    "# Lexical entries\n",
    "m3 = Meaning({\n",
    "    'leftmost.et'  : 'lambda x : len(charset(lambda y : LEFT_OF(y,x)))==0'.et,\n",
    "    'pawn'      : 'lambda x : PAWN(x)'.et,\n",
    "    'the'       : 'lambda f : (len(charset(f))==1, iota(f))'.et_e,\n",
    "    'black'     : 'lambda x : BLACK(x)'.et\n",
    "})\n",
    "    \n",
    "\n",
    "# CHANGE ONLY BELOW\n",
    "m3.update({\n",
    "    'leftmost.et_et' : 'lambda f : lambda x: len(charset(lambda y : f(y) and LEFT_OF(y,x)))==0'.et_et\n",
    "})\n",
    "# CHANGE ONLY ABOVE\n",
    "\n",
    "HTML(\"<h3>[black pawn]</h3>\")\n",
    "charset(m3['black','pawn'])\n",
    "\n",
    "HTML(\"<h3>[leftmost.et pawn]</h3>\")\n",
    "charset(m3['leftmost.et','pawn'])\n",
    "\n",
    "tree3 = Tree.fromstring('(NP leftmost.et (NP black pawn))')\n",
    "HTML('<h3>[leftmost.et black pawn]</h3>')\n",
    "tree3\n",
    "charset(m3[tree3])\n",
    "\n",
    "HTML(\"<h3>[leftmost.et_et pawn]</h3>\")\n",
    "charset(m3['leftmost.et_et','pawn'])\n",
    "\n",
    "tree3 = Tree.fromstring('(NP leftmost.et_et (NP black pawn))')\n",
    "HTML('<h3>[leftmost.et_et black pawn]</h3>')\n",
    "tree3\n",
    "charset(m3[tree3])"
   ]
  },
  {
   "cell_type": "code",
   "execution_count": null,
   "metadata": {},
   "outputs": [],
   "source": [
    "from nltk import ImmutableTree\n",
    "tt = ImmutableTree.fromstring('(NP leftmost.et_et (NP black pawn))')\n",
    "type([tt]) == list\n"
   ]
  },
  {
   "cell_type": "code",
   "execution_count": null,
   "metadata": {},
   "outputs": [],
   "source": [
    "console_handler.setLevel(logging.INFO)\n",
    "the = 'lambda f: iota(f) if len(charset(f)) == 1 else None'.et_e\n",
    "dog = 'lambda x: x in DOMAIN[:1]'.et\n",
    "charset(dog)\n",
    "the(dog)"
   ]
  },
  {
   "cell_type": "code",
   "execution_count": null,
   "metadata": {},
   "outputs": [],
   "source": [
    "#DOMAIN = DOMAIN[:3]\n",
    "#DOMAIN\n",
    "KILLED = Predicate({(A,B),})\n",
    "BLACK = Predicate({(B,), (C,)})\n",
    "CAT = Predicate({(B,)})\n",
    "ESCAPED = Predicate({(A,)})\n",
    "\n",
    "del KILLED\n",
    "del BLACK\n",
    "del CAT\n",
    "del ESCAPED"
   ]
  },
  {
   "cell_type": "code",
   "execution_count": null,
   "metadata": {},
   "outputs": [],
   "source": [
    "m= Meaning()\n",
    "m.update({\n",
    "  'killer'  : 'lambda y: lambda x :KILLED(x,y)'.eet,\n",
    "  'black'   : 'lambda x: BLACK(x)'.et,\n",
    "  'cat'     : 'lambda x: CAT(x)'.et,\n",
    "  'escaped' : 'lambda x: ESCAPED(x)'.et,\n",
    "  'the'     : 'lambda f: ( len(charset(f))==1, iota(f) )'.et_e\n",
    "})\n",
    "\n",
    "from nltk import Tree\n",
    "tree = Tree.fromstring(\"\"\"\n",
    "(S  (DP the\n",
    "        (NP killer\n",
    "            (PP of\n",
    "                (DP the\n",
    "                    (NP black cat)\n",
    "                )\n",
    "            )\n",
    "        )\n",
    "    )\n",
    "    (VP escaped)\n",
    ")\n",
    "\"\"\")\n",
    "\n",
    "test = tree[0][1][1][1]\n",
    "test = tree\n",
    "test\n",
    "\n",
    "m[test]\n",
    "\n",
    "\n"
   ]
  },
  {
   "cell_type": "code",
   "execution_count": null,
   "metadata": {},
   "outputs": [],
   "source": [
    "m.memo"
   ]
  },
  {
   "cell_type": "code",
   "execution_count": null,
   "metadata": {},
   "outputs": [],
   "source": [
    "from nltk import Tree\n",
    "tree = Tree.fromstring(\"\"\"\n",
    "(S\n",
    "  (NP Julius)\n",
    "  (VP is\n",
    "      (VP sleeping\n",
    "          (PP on (NP the couch))\n",
    "      )\n",
    "  )\n",
    ")\"\"\")\n",
    "tree\n",
    "\n",
    "m = Meaning({\n",
    "    'Julius'    : 'J'.e,\n",
    "    'the'       : 'lambda f: iota(f)'.et_e,\n",
    "\n",
    "})\n",
    "\n",
    "#m[tree]"
   ]
  },
  {
   "cell_type": "code",
   "execution_count": null,
   "metadata": {},
   "outputs": [],
   "source": [
    "#!pip install nltk\n",
    "from nltk import Tree\n",
    "#!pip install svgling"
   ]
  },
  {
   "cell_type": "code",
   "execution_count": null,
   "metadata": {},
   "outputs": [],
   "source": [
    "node = parse('PAWN(\"A\")', mode='eval')\n",
    "obj = compile(node, '<string>', 'eval')\n",
    "eval(obj)"
   ]
  },
  {
   "cell_type": "code",
   "execution_count": null,
   "metadata": {},
   "outputs": [],
   "source": [
    "m = Meaning({\n",
    "    'Joe'     : 'J'.e,\n",
    "    'Kaline'  : 'K'.e,\n",
    "    'cat'     : 'lambda x: CAT(x)'.et,\n",
    "    'gray'    : 'lambda f : lambda x: f(x) and GRAY(x)'.et_et,\n",
    "})\n",
    "\n",
    "m['Joe', 'cat']"
   ]
  },
  {
   "cell_type": "code",
   "execution_count": null,
   "metadata": {},
   "outputs": [],
   "source": [
    "t = Tree.fromstring('(S (NP Joe) (VP cat (VP (V is) (NP cat gray))))')\n",
    "t\n",
    "\n",
    "m[t]"
   ]
  },
  {
   "cell_type": "code",
   "execution_count": null,
   "metadata": {},
   "outputs": [],
   "source": [
    "m.update({\n",
    "  'gray'    : 'lambda f : lambda x: f(x) and GRAY(x)'.eet_t,\n",
    "  })\n",
    "\n",
    "m['gray']\n",
    "m[t]"
   ]
  },
  {
   "cell_type": "code",
   "execution_count": null,
   "metadata": {},
   "outputs": [],
   "source": [
    "class Meaning4(Meaning):\n",
    "  def rules(m, alpha):\n",
    "    match alpha:      # Note: m.quiet(  ) turns off printing\n",
    "      # PM\n",
    "      case (beta, gamma) if m.quiet(  m[gamma].type == m[beta].type == Type.et ):\n",
    "        rule = 'PM'\n",
    "        value = 'lambda f : lambda g: lambda x: f(x) and g(x)'.et_et_et(m[beta])(m[gamma])\n",
    "\n",
    "      # FA\n",
    "      case (beta, gamma) if m.quiet(  m[gamma] in m[beta].domain()  ):\n",
    "        rule = 'FA'\n",
    "        value = m[beta](m[gamma])\n",
    "      case (gamma, beta) if m.quiet(  m[gamma] in m[beta].domain()  ):\n",
    "        rule = 'AF'\n",
    "        value = m[beta](m[gamma])\n",
    "\n",
    "      # NN\n",
    "      case (beta,):\n",
    "        rule = 'NN'\n",
    "        value = m[beta]\n",
    "\n",
    "      # TN\n",
    "      case str():\n",
    "        rule = 'TN'\n",
    "        value = m.lookup(alpha)\n",
    "\n",
    "      case _:\n",
    "        rule = '??'\n",
    "        value = alpha\n",
    "\n",
    "    return value, rule\n",
    "\n",
    "m4 = Meaning4({\n",
    "    'Joe'     : 'J'.e,\n",
    "    'Kaline'  : 'K'.e,\n",
    "    'Texas'   : 'T'.e,\n",
    "    'in'      : 'lambda x: lambda y: IN(y,x)'.eet,\n",
    "    'cat'     : 'lambda x: CAT(x)'.et,\n",
    "    'gray'    : 'lambda x: GRAY(x)'.et,\n",
    "})\n",
    "\n",
    "m4['gray', 'cat']\n",
    "m4['Kaline', [['gray', 'cat'], ['in', 'Texas']]]"
   ]
  },
  {
   "cell_type": "code",
   "execution_count": null,
   "metadata": {},
   "outputs": [],
   "source": [
    "class Meaning3(Meaning):\n",
    "  def rules(m, alpha):\n",
    "    match alpha:      # Note: m.quiet(  ) turns off printing\n",
    "      # FA\n",
    "      case (beta, gamma) if m.quiet(  m[gamma] in m[beta].domain()  ):\n",
    "        rule = 'FA'\n",
    "        value = m[beta](m[gamma])\n",
    "      case (gamma, beta) if m.quiet(  m[gamma] in m[beta].domain()  ):\n",
    "        rule = 'AF'\n",
    "        value = m[beta](m[gamma])\n",
    "\n",
    "      # NN\n",
    "      case (beta,):\n",
    "        rule = 'NN'\n",
    "        value = m[beta]\n",
    "\n",
    "      # TN\n",
    "      case str():\n",
    "        rule = 'TN'\n",
    "        value = m.lookup(alpha)\n",
    "\n",
    "      case _:\n",
    "        rule = '??'\n",
    "        value = alpha\n",
    "\n",
    "    return value, rule\n",
    "\n",
    "m3 = Meaning3({\n",
    "    'Joe'     : 'J'.e,\n",
    "    'Kaline'  : 'K'.e,\n",
    "    'cat'     : 'lambda x: CAT(x)'.et,\n",
    "    'gray'    : 'lambda f: lambda x: f(x) and GRAY(x)'.et_et,\n",
    "    'fond'    : ...\n",
    "})\n",
    "\n",
    "#m3['Joe']\n",
    "#m3['Kaline']\n",
    "#m3['cat']\n",
    "#m3['Kaline', 'cat']\n",
    "m3[('a',)]\n",
    "m3['a', 'cat']\n",
    "m3['is', ['a', 'cat']]\n",
    "m3['Kaline', [['fond', 'Joe'], ['gray', 'cat']]]\n",
    "m3['Kaline', 'gray']"
   ]
  },
  {
   "cell_type": "code",
   "execution_count": null,
   "metadata": {},
   "outputs": [],
   "source": [
    "m3.update({'is': 'lambda f: lambda x: f(lambda y:1)(x)'.et_et__et})\n",
    "\n",
    "m3['gray']\n",
    "m3['is', 'gray']"
   ]
  },
  {
   "cell_type": "code",
   "execution_count": null,
   "metadata": {},
   "outputs": [],
   "source": [
    "tree = Tree.fromstring('(S (NP (N Kaline)) (VP is (NP (Det a) (N cat))))')\n",
    "tree\n",
    "m3[tree]"
   ]
  },
  {
   "cell_type": "code",
   "execution_count": null,
   "metadata": {},
   "outputs": [],
   "source": [
    "class Meaning3(Meaning):\n",
    "  def rules(m, alpha):\n",
    "    match alpha:      # Note: m.quiet(  ) turns off printing\n",
    "      # FA\n",
    "      case (beta, gamma) if m.quiet(  m[gamma] in m[beta].domain()  ):\n",
    "        rule = 'FA'\n",
    "        value = m[beta](m[gamma])\n",
    "      case (gamma, beta) if m.quiet(  m[gamma] in m[beta].domain()  ):\n",
    "        rule = 'AF'\n",
    "        value = m[beta](m[gamma])\n",
    "\n",
    "      # NN\n",
    "      case (beta,):\n",
    "        rule = 'NN'\n",
    "        value = m[beta]\n",
    "\n",
    "      # TN\n",
    "      case str():# if alpha in m:\n",
    "        rule = 'TN'\n",
    "        value = m.lookup(alpha)\n",
    "\n",
    "      case _:\n",
    "        rule = '??'\n",
    "        value = alpha\n",
    "    return value, rule\n",
    "\n",
    "m = Meaning3({\n",
    "    'Ann'     : 'A'.e,\n",
    "    'smokes'  : 'lambda x: SMOKES(x)'.et,\n",
    "    'tall'    : 'lambda x: TALL(x)'.et,\n",
    "    'likes'   : 'lambda x: lambda y: LIKES(x,y)'.eet,\n",
    "#    'is'      : None,\n",
    "})\n",
    "\n",
    "m['Ann']\n",
    "m['smokes']\n",
    "m['Ann', 'smokes']\n",
    "m['smokes', 'Ann']"
   ]
  },
  {
   "cell_type": "code",
   "execution_count": null,
   "metadata": {},
   "outputs": [],
   "source": [
    "m['tall', 'is']"
   ]
  },
  {
   "cell_type": "code",
   "execution_count": null,
   "metadata": {},
   "outputs": [],
   "source": [
    "t = [1,2]\n",
    "t = t - [1]"
   ]
  },
  {
   "cell_type": "code",
   "execution_count": null,
   "metadata": {},
   "outputs": [],
   "source": [
    "'lambda f:lambda x: f(x) and GRAY(x)'.et"
   ]
  },
  {
   "cell_type": "code",
   "execution_count": null,
   "metadata": {},
   "outputs": [],
   "source": [
    "'(lambda x: lambda y: lambda z: INTRODUCED(z,x,y))(S)'.eet"
   ]
  },
  {
   "cell_type": "markdown",
   "metadata": {},
   "source": [
    "a. [λx.[λy.[λz.z introduced x to y]]](Ann)(Sue)\n",
    "\n",
    "b. [λx.[λy.[λz.z introduced x to y](Ann)](Sue)]\n",
    "\n",
    "c. [λx.[λy.[λz.z introduced x to y](Ann)]](Sue) \n",
    "\n",
    "d. [λx.[λy.[λz.z introduced x to y]](Ann)](Sue)\n",
    "\n",
    "e. [λf.[λx.f(x)=1 and x is gray]]([λy.y is a cat])\n",
    "\n",
    "f. [λg.[λx.g(x)(Ann)=1]]([λy.[λz.z saw y]])\n",
    "\n",
    "g. [λm.[λn.n>3 and n<7](m)] \n",
    "\n",
    "h. [λm.[λn.[λo.o>3 and o<7](n)](m)] "
   ]
  },
  {
   "cell_type": "code",
   "execution_count": null,
   "metadata": {},
   "outputs": [],
   "source": [
    "'lambda g: (lambda x:g(x)(Ann))'.eet_et('lambda y:lambda z:SAW(z,y)'.eet)\n",
    "\n",
    "'lambda m: lambda n:n>3 and m<7'.eet('3'.e)"
   ]
  },
  {
   "cell_type": "code",
   "execution_count": null,
   "metadata": {},
   "outputs": [],
   "source": [
    "catf = 'lambda y:CAT(y)'.et\n",
    "\n",
    "ff = 'lambda f: lambda x: f(x) and GRAY(x)'.et_et\n",
    "ff(catf)\n",
    "\n",
    "gg = 'lambda f: f(A)'.eet_et\n",
    "gg\n",
    "gg('lambda x:lambda y:FOO(x,y)'.eet)"
   ]
  },
  {
   "cell_type": "code",
   "execution_count": null,
   "metadata": {},
   "outputs": [],
   "source": [
    "Function('lambda y: CAT(y)', Type(('e', 't')))('x') and GRAY('x')"
   ]
  },
  {
   "cell_type": "code",
   "execution_count": null,
   "metadata": {},
   "outputs": [],
   "source": [
    "import ast\n",
    "ast.dump(ast.parse('x smokes', mode= 'eval'))"
   ]
  }
 ],
 "metadata": {
  "kernelspec": {
   "display_name": "Python 3",
   "language": "python",
   "name": "python3"
  },
  "language_info": {
   "codemirror_mode": {
    "name": "ipython",
    "version": 3
   },
   "file_extension": ".py",
   "mimetype": "text/x-python",
   "name": "python",
   "nbconvert_exporter": "python",
   "pygments_lexer": "ipython3",
   "version": "3.12.1"
  }
 },
 "nbformat": 4,
 "nbformat_minor": 2
}
