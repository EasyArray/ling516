{
 "cells": [
  {
   "cell_type": "code",
   "execution_count": 1,
   "metadata": {},
   "outputs": [
    {
     "name": "stdout",
     "output_type": "stream",
     "text": [
      "\n",
      "             _    _                  _    _\n",
      "            | |  | |                | |  | |\n",
      "           _| |_ | |__   ___  ___  _| |_ | |__   ___  _ __ _   _  ____\n",
      "          /     \\| '_ \\ / _ \\/ __|/     \\| '_ \\ / _ \\| '__| | | |/ ___)\n",
      "         ( (| |) ) | | | (_) \\__ ( (| |) ) | | | (_) | |  | |_| ( (__\n",
      "          \\_   _/|_| |_|\\___/|___/\\_   _/|_| |_|\\___/|_|   \\__,_|\\__ \\\n",
      "            | |                     | |                            _) )\n",
      "            |_|                     |_|                           (__/\n",
      "\n",
      "        Welcome to the Phosphorus Meaning Engine v3\n",
      "        Created by Ezra Keshet (EzraKeshet.com)\n",
      "\n",
      "\n"
     ]
    }
   ],
   "source": [
    "from phosphorus import *\n",
    "%config InteractiveShell.ast_node_interactivity='all'"
   ]
  },
  {
   "cell_type": "code",
   "execution_count": 2,
   "metadata": {},
   "outputs": [
    {
     "ename": "ValueError",
     "evalue": "Invalid type for lambda x: f(x) and GRAY(x): 't'",
     "output_type": "error",
     "traceback": [
      "\u001b[0;31m---------------------------------------------------------------------------\u001b[0m",
      "\u001b[0;31mValueError\u001b[0m                                Traceback (most recent call last)",
      "File \u001b[0;32m~/.local/lib/python3.12/site-packages/IPython/core/formatters.py:406\u001b[0m, in \u001b[0;36mBaseFormatter.__call__\u001b[0;34m(self, obj)\u001b[0m\n\u001b[1;32m    404\u001b[0m     method \u001b[38;5;241m=\u001b[39m get_real_method(obj, \u001b[38;5;28mself\u001b[39m\u001b[38;5;241m.\u001b[39mprint_method)\n\u001b[1;32m    405\u001b[0m     \u001b[38;5;28;01mif\u001b[39;00m method \u001b[38;5;129;01mis\u001b[39;00m \u001b[38;5;129;01mnot\u001b[39;00m \u001b[38;5;28;01mNone\u001b[39;00m:\n\u001b[0;32m--> 406\u001b[0m         \u001b[38;5;28;01mreturn\u001b[39;00m \u001b[43mmethod\u001b[49m\u001b[43m(\u001b[49m\u001b[43m)\u001b[49m\n\u001b[1;32m    407\u001b[0m     \u001b[38;5;28;01mreturn\u001b[39;00m \u001b[38;5;28;01mNone\u001b[39;00m\n\u001b[1;32m    408\u001b[0m \u001b[38;5;28;01melse\u001b[39;00m:\n",
      "File \u001b[0;32m/workspaces/ling516/phosphorus/__init__.py:105\u001b[0m, in \u001b[0;36mSemVal._repr_html_\u001b[0;34m(self)\u001b[0m\n\u001b[1;32m    104\u001b[0m \u001b[38;5;28;01mdef\u001b[39;00m \u001b[38;5;21m_repr_html_\u001b[39m(\u001b[38;5;28mself\u001b[39m):\n\u001b[0;32m--> 105\u001b[0m   \u001b[38;5;28;01mreturn\u001b[39;00m \u001b[38;5;124mf\u001b[39m\u001b[38;5;124m\"\"\"\u001b[39m\u001b[38;5;132;43;01m{\u001b[39;49;00m\u001b[38;5;28;43mself\u001b[39;49m\u001b[38;5;132;43;01m}\u001b[39;49;00m\n\u001b[1;32m    106\u001b[0m \u001b[38;5;124m      <span style=\u001b[39m\u001b[38;5;124m'\u001b[39m\u001b[38;5;124mfloat:right; font-family:monospace; margin-right:75px;\u001b[39m\n\u001b[1;32m    107\u001b[0m \u001b[38;5;124m            font-weight:bold; background-color:#e5e5ff\u001b[39m\u001b[38;5;124m'\u001b[39m\u001b[38;5;124m>\u001b[39m\n\u001b[1;32m    108\u001b[0m \u001b[38;5;124m        \u001b[39m\u001b[38;5;132;01m{\u001b[39;00m\u001b[38;5;28mself\u001b[39m\u001b[38;5;241m.\u001b[39mtype\u001b[38;5;132;01m}\u001b[39;00m\u001b[38;5;124m</span>\u001b[39m\u001b[38;5;124m\"\"\"\u001b[39m\n",
      "File \u001b[0;32m/workspaces/ling516/phosphorus/__init__.py:155\u001b[0m, in \u001b[0;36mFunction.__str__\u001b[0;34m(self)\u001b[0m\n\u001b[1;32m    153\u001b[0m \u001b[38;5;28;01mdef\u001b[39;00m \u001b[38;5;21m__str__\u001b[39m(\u001b[38;5;28mself\u001b[39m):\n\u001b[1;32m    154\u001b[0m   \u001b[38;5;28mvars\u001b[39m \u001b[38;5;241m=\u001b[39m \u001b[38;5;124m'\u001b[39m\u001b[38;5;124m,\u001b[39m\u001b[38;5;124m'\u001b[39m\u001b[38;5;241m.\u001b[39mjoin(\u001b[38;5;28mself\u001b[39m\u001b[38;5;241m.\u001b[39mvars)\n\u001b[0;32m--> 155\u001b[0m   \u001b[38;5;28;01mreturn\u001b[39;00m \u001b[38;5;124mf\u001b[39m\u001b[38;5;124m'\u001b[39m\u001b[38;5;124mλ\u001b[39m\u001b[38;5;132;01m{\u001b[39;00m\u001b[38;5;28mvars\u001b[39m\u001b[38;5;132;01m}\u001b[39;00m\u001b[38;5;124m . \u001b[39m\u001b[38;5;132;01m{\u001b[39;00m\u001b[38;5;28;43mself\u001b[39;49m\u001b[43m(\u001b[49m\u001b[43m)\u001b[49m\u001b[38;5;132;01m}\u001b[39;00m\u001b[38;5;124m'\u001b[39m\n",
      "File \u001b[0;32m/workspaces/ling516/phosphorus/__init__.py:137\u001b[0m, in \u001b[0;36mFunction.__call__\u001b[0;34m(self, *args)\u001b[0m\n\u001b[1;32m    135\u001b[0m out_type \u001b[38;5;241m=\u001b[39m \u001b[38;5;28mself\u001b[39m\u001b[38;5;241m.\u001b[39mtype\u001b[38;5;241m.\u001b[39moutput()\n\u001b[1;32m    136\u001b[0m \u001b[38;5;28;01mif\u001b[39;00m \u001b[38;5;28misinstance\u001b[39m(node, Lambda):\n\u001b[0;32m--> 137\u001b[0m   \u001b[38;5;28;01mreturn\u001b[39;00m \u001b[43mFunction\u001b[49m\u001b[43m(\u001b[49m\u001b[43munparse\u001b[49m\u001b[43m(\u001b[49m\u001b[43mnode\u001b[49m\u001b[43m)\u001b[49m\u001b[43m,\u001b[49m\u001b[43m \u001b[49m\u001b[43mout_type\u001b[49m\u001b[43m)\u001b[49m\n\u001b[1;32m    139\u001b[0m \u001b[38;5;28;01mtry\u001b[39;00m:\n\u001b[1;32m    140\u001b[0m   exprnode \u001b[38;5;241m=\u001b[39m Expression(body\u001b[38;5;241m=\u001b[39mnode)\n",
      "File \u001b[0;32m/workspaces/ling516/phosphorus/__init__.py:117\u001b[0m, in \u001b[0;36mFunction.__init__\u001b[0;34m(self, s, stype)\u001b[0m\n\u001b[1;32m    115\u001b[0m \u001b[38;5;28;01mdef\u001b[39;00m \u001b[38;5;21m__init__\u001b[39m(\u001b[38;5;28mself\u001b[39m, s, stype):\n\u001b[1;32m    116\u001b[0m   \u001b[38;5;28;01mif\u001b[39;00m \u001b[38;5;129;01mnot\u001b[39;00m stype\u001b[38;5;241m.\u001b[39misfunction():\n\u001b[0;32m--> 117\u001b[0m     \u001b[38;5;28;01mraise\u001b[39;00m \u001b[38;5;167;01mValueError\u001b[39;00m(\u001b[38;5;124mf\u001b[39m\u001b[38;5;124m'\u001b[39m\u001b[38;5;124mInvalid type for \u001b[39m\u001b[38;5;132;01m{\u001b[39;00ms\u001b[38;5;132;01m}\u001b[39;00m\u001b[38;5;124m: \u001b[39m\u001b[38;5;132;01m{\u001b[39;00mstype\u001b[38;5;132;01m}\u001b[39;00m\u001b[38;5;124m'\u001b[39m)\n\u001b[1;32m    118\u001b[0m   \u001b[38;5;28mself\u001b[39m\u001b[38;5;241m.\u001b[39mtype \u001b[38;5;241m=\u001b[39m stype\n\u001b[1;32m    119\u001b[0m   node \u001b[38;5;241m=\u001b[39m parse(s, mode\u001b[38;5;241m=\u001b[39m\u001b[38;5;124m'\u001b[39m\u001b[38;5;124meval\u001b[39m\u001b[38;5;124m'\u001b[39m)\u001b[38;5;241m.\u001b[39mbody\n",
      "\u001b[0;31mValueError\u001b[0m: Invalid type for lambda x: f(x) and GRAY(x): 't'"
     ]
    },
    {
     "data": {
      "text/plain": [
       "Function(\"lambda f: lambda x: f(x) and GRAY(x)\", Type(('e', 't')))"
      ]
     },
     "execution_count": 2,
     "metadata": {},
     "output_type": "execute_result"
    }
   ],
   "source": [
    "'lambda f:lambda x: f(x) and GRAY(x)'.et"
   ]
  },
  {
   "cell_type": "code",
   "execution_count": 3,
   "metadata": {},
   "outputs": [
    {
     "data": {
      "text/html": [
       "λy . λz . INTRODUCED(z, S, y)\n",
       "        <span style='float:right; font-family:monospace; margin-right:75px;\n",
       "              font-weight:bold; background-color:#e5e5ff'>\n",
       "          ('e', ('e', 't'))</span>"
      ],
      "text/plain": [
       "Function(\"lambda y: lambda z: INTRODUCED(z, S, y)\", Type(('e', ('e', 't'))))"
      ]
     },
     "execution_count": 3,
     "metadata": {},
     "output_type": "execute_result"
    }
   ],
   "source": [
    "'(lambda x: lambda y: lambda z: INTRODUCED(z,x,y))(S)'.eet"
   ]
  },
  {
   "cell_type": "markdown",
   "metadata": {},
   "source": [
    "a. [λx.[λy.[λz.z introduced x to y]]](Ann)(Sue)\n",
    "\n",
    "b. [λx.[λy.[λz.z introduced x to y](Ann)](Sue)]\n",
    "\n",
    "c. [λx.[λy.[λz.z introduced x to y](Ann)]](Sue) \n",
    "\n",
    "d. [λx.[λy.[λz.z introduced x to y]](Ann)](Sue)\n",
    "\n",
    "e. [λf.[λx.f(x)=1 and x is gray]]([λy.y is a cat])\n",
    "\n",
    "f. [λg.[λx.g(x)(Ann)=1]]([λy.[λz.z saw y]])\n",
    "\n",
    "g. [λm.[λn.n>3 and n<7](m)] \n",
    "\n",
    "h. [λm.[λn.[λo.o>3 and o<7](n)](m)] "
   ]
  },
  {
   "cell_type": "code",
   "execution_count": 4,
   "metadata": {},
   "outputs": [
    {
     "data": {
      "text/html": [
       "λx . SAW(Ann, x)\n",
       "        <span style='float:right; font-family:monospace; margin-right:75px;\n",
       "              font-weight:bold; background-color:#e5e5ff'>\n",
       "          (('e', 't'), ('e', 't'))</span>"
      ],
      "text/plain": [
       "Function(\"lambda x: SAW(Ann, x)\", Type((('e', 't'), ('e', 't'))))"
      ]
     },
     "execution_count": 4,
     "metadata": {},
     "output_type": "execute_result"
    },
    {
     "data": {
      "text/html": [
       "λn . n > 3 and 3 < 7\n",
       "        <span style='float:right; font-family:monospace; margin-right:75px;\n",
       "              font-weight:bold; background-color:#e5e5ff'>\n",
       "          ('e', 't')</span>"
      ],
      "text/plain": [
       "Function(\"lambda n: n > 3 and 3 < 7\", Type(('e', 't')))"
      ]
     },
     "execution_count": 4,
     "metadata": {},
     "output_type": "execute_result"
    }
   ],
   "source": [
    "'lambda g: (lambda x:g(x)(Ann))'.eet_et('lambda y:lambda z:SAW(z,y)'.eet)\n",
    "\n",
    "'lambda m: lambda n:n>3 and m<7'.eet('3'.e)"
   ]
  },
  {
   "cell_type": "code",
   "execution_count": 5,
   "metadata": {},
   "outputs": [
    {
     "data": {
      "text/html": [
       "λx . CAT(x) and GRAY(x)\n",
       "        <span style='float:right; font-family:monospace; margin-right:75px;\n",
       "              font-weight:bold; background-color:#e5e5ff'>\n",
       "          ('e', 't')</span>"
      ],
      "text/plain": [
       "Function(\"lambda x: CAT(x) and GRAY(x)\", Type(('e', 't')))"
      ]
     },
     "execution_count": 5,
     "metadata": {},
     "output_type": "execute_result"
    },
    {
     "data": {
      "text/html": [
       "λf . f(A)\n",
       "        <span style='float:right; font-family:monospace; margin-right:75px;\n",
       "              font-weight:bold; background-color:#e5e5ff'>\n",
       "          ('e', (('e', 't'), ('e', 't')))</span>"
      ],
      "text/plain": [
       "Function(\"lambda f: f(A)\", Type(('e', (('e', 't'), ('e', 't')))))"
      ]
     },
     "execution_count": 5,
     "metadata": {},
     "output_type": "execute_result"
    },
    {
     "data": {
      "text/html": [
       "λy . FOO(A, y)\n",
       "        <span style='float:right; font-family:monospace; margin-right:75px;\n",
       "              font-weight:bold; background-color:#e5e5ff'>\n",
       "          (('e', 't'), ('e', 't'))</span>"
      ],
      "text/plain": [
       "Function(\"lambda y: FOO(A, y)\", Type((('e', 't'), ('e', 't'))))"
      ]
     },
     "execution_count": 5,
     "metadata": {},
     "output_type": "execute_result"
    }
   ],
   "source": [
    "catf = 'lambda y:CAT(y)'.et\n",
    "\n",
    "ff = 'lambda f: lambda x: f(x) and GRAY(x)'.et_et\n",
    "ff(catf)\n",
    "\n",
    "gg = 'lambda f: f(A)'.eet_et\n",
    "gg\n",
    "gg('lambda x:lambda y:FOO(x,y)'.eet)"
   ]
  },
  {
   "cell_type": "code",
   "execution_count": 6,
   "metadata": {},
   "outputs": [
    {
     "ename": "NameError",
     "evalue": "name 'GRAY' is not defined",
     "output_type": "error",
     "traceback": [
      "\u001b[0;31m---------------------------------------------------------------------------\u001b[0m",
      "\u001b[0;31mNameError\u001b[0m                                 Traceback (most recent call last)",
      "Cell \u001b[0;32mIn[6], line 1\u001b[0m\n\u001b[0;32m----> 1\u001b[0m Function(\u001b[38;5;124m'\u001b[39m\u001b[38;5;124mlambda y: CAT(y)\u001b[39m\u001b[38;5;124m'\u001b[39m, Type((\u001b[38;5;124m'\u001b[39m\u001b[38;5;124me\u001b[39m\u001b[38;5;124m'\u001b[39m, \u001b[38;5;124m'\u001b[39m\u001b[38;5;124mt\u001b[39m\u001b[38;5;124m'\u001b[39m)))(\u001b[38;5;124m'\u001b[39m\u001b[38;5;124mx\u001b[39m\u001b[38;5;124m'\u001b[39m) \u001b[38;5;129;01mand\u001b[39;00m \u001b[43mGRAY\u001b[49m(\u001b[38;5;124m'\u001b[39m\u001b[38;5;124mx\u001b[39m\u001b[38;5;124m'\u001b[39m)\n",
      "\u001b[0;31mNameError\u001b[0m: name 'GRAY' is not defined"
     ]
    }
   ],
   "source": [
    "Function('lambda y: CAT(y)', Type(('e', 't')))('x') and GRAY('x')"
   ]
  },
  {
   "cell_type": "code",
   "execution_count": null,
   "metadata": {},
   "outputs": [
    {
     "ename": "SyntaxError",
     "evalue": "invalid syntax (<unknown>, line 1)",
     "output_type": "error",
     "traceback": [
      "Traceback \u001b[0;36m(most recent call last)\u001b[0m:\n",
      "\u001b[0m  File \u001b[1;32m~/.local/lib/python3.12/site-packages/IPython/core/interactiveshell.py:3577\u001b[0m in \u001b[1;35mrun_code\u001b[0m\n    exec(code_obj, self.user_global_ns, self.user_ns)\u001b[0m\n",
      "\u001b[0m  Cell \u001b[1;32mIn[3], line 2\u001b[0m\n    ast.dump(ast.parse('x smokes', mode= 'eval'))\u001b[0m\n",
      "\u001b[0;36m  File \u001b[0;32m~/.python/current/lib/python3.12/ast.py:52\u001b[0;36m in \u001b[0;35mparse\u001b[0;36m\n\u001b[0;31m    return compile(source, filename, mode, flags,\u001b[0;36m\n",
      "\u001b[0;36m  File \u001b[0;32m<unknown>:1\u001b[0;36m\u001b[0m\n\u001b[0;31m    x smokes\u001b[0m\n\u001b[0m      ^\u001b[0m\n\u001b[0;31mSyntaxError\u001b[0m\u001b[0;31m:\u001b[0m invalid syntax\n"
     ]
    }
   ],
   "source": [
    "import ast\n",
    "ast.dump(ast.parse('x smokes', mode= 'eval'))"
   ]
  }
 ],
 "metadata": {
  "kernelspec": {
   "display_name": "Python 3",
   "language": "python",
   "name": "python3"
  },
  "language_info": {
   "codemirror_mode": {
    "name": "ipython",
    "version": 3
   },
   "file_extension": ".py",
   "mimetype": "text/x-python",
   "name": "python",
   "nbconvert_exporter": "python",
   "pygments_lexer": "ipython3",
   "version": "3.12.1"
  }
 },
 "nbformat": 4,
 "nbformat_minor": 2
}
