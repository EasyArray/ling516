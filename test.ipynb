{
 "cells": [
  {
   "cell_type": "code",
   "execution_count": 1,
   "metadata": {},
   "outputs": [
    {
     "name": "stdout",
     "output_type": "stream",
     "text": [
      "\n",
      "             _    _                  _    _\n",
      "            | |  | |                | |  | |\n",
      "           _| |_ | |__   ___  ___  _| |_ | |__   ___  _ __ _   _  ____\n",
      "          /     \\| '_ \\ / _ \\/ __|/     \\| '_ \\ / _ \\| '__| | | |/ ___)\n",
      "         ( (| |) ) | | | (_) \\__ ( (| |) ) | | | (_) | |  | |_| ( (__\n",
      "          \\_   _/|_| |_|\\___/|___/\\_   _/|_| |_|\\___/|_|   \\__,_|\\__ \\\n",
      "            | |                     | |                            _) )\n",
      "            |_|                     |_|                           (__/\n",
      "\n",
      "        Welcome to the Phosphorus Meaning Engine v3\n",
      "        Created by Ezra Keshet (EzraKeshet.com)\n",
      "\n",
      "\n"
     ]
    }
   ],
   "source": [
    "from phosphorus import *\n",
    "%config InteractiveShell.ast_node_interactivity='all'"
   ]
  },
  {
   "cell_type": "code",
   "execution_count": 2,
   "metadata": {},
   "outputs": [
    {
     "data": {
      "text/plain": [
       "\"Module(body=[Expr(value=Lambda(args=arguments(posonlyargs=[], args=[arg(arg='x')], kwonlyargs=[], kw_defaults=[], defaults=[]), body=BoolOp(op=Or(), values=[Compare(left=Name(id='x', ctx=Load()), ops=[Gt()], comparators=[Constant(value=3)]), BoolOp(op=Or(), values=[Name(id='foo', ctx=Load()), Name(id='bar', ctx=Load())])])))], type_ignores=[])\""
      ]
     },
     "execution_count": 2,
     "metadata": {},
     "output_type": "execute_result"
    }
   ],
   "source": [
    "import ast\n",
    "ast.dump(ast.parse('lambda x: x > 3 or (foo or bar)'))"
   ]
  },
  {
   "cell_type": "code",
   "execution_count": 3,
   "metadata": {},
   "outputs": [
    {
     "name": "stdout",
     "output_type": "stream",
     "text": [
      "\n",
      " Interpreting ('gray', 'cat')\n",
      "    Interpreting gray\n",
      "    => gray = λx . GRAY(x) \t(TN)\n",
      "    Interpreting cat\n",
      "    => cat = λx . CAT(x) \t(TN)\n",
      " => ('gray', 'cat') = λx . GRAY(x) and CAT(x) \t(PM)\n"
     ]
    },
    {
     "data": {
      "text/html": [
       "λx . GRAY(x) and CAT(x)\n",
       "        <span style='float:right; font-family:monospace; margin-right:75px;\n",
       "              font-weight:bold; background-color:#e5e5ff'>\n",
       "          ('e', 't')</span>"
      ],
      "text/plain": [
       "Function(\"lambda x: GRAY(x) and CAT(x)\", Type(('e', 't')))"
      ]
     },
     "execution_count": 3,
     "metadata": {},
     "output_type": "execute_result"
    },
    {
     "name": "stdout",
     "output_type": "stream",
     "text": [
      "\n",
      " Interpreting ('Kaline', [['gray', 'cat'], ['in', 'Texas']])\n",
      "    Interpreting [['gray', 'cat'], ['in', 'Texas']]\n",
      "       Interpreting ['gray', 'cat']\n",
      "          Interpreting gray\n",
      "          => gray = λx . GRAY(x) \t(TN)\n",
      "          Interpreting cat\n",
      "          => cat = λx . CAT(x) \t(TN)\n",
      "       => ['gray', 'cat'] = λx . GRAY(x) and CAT(x) \t(PM)\n",
      "       Interpreting ['in', 'Texas']\n",
      "          Interpreting in\n",
      "          => in = λx . λy . IN(y, x) \t(TN)\n",
      "          Interpreting Texas\n",
      "          => Texas = T \t(TN)\n",
      "       => ['in', 'Texas'] = λy . IN(y, T) \t(FA)\n",
      "    => [['gray', 'cat'], ['in', 'Texas']] = λx . (GRAY(x) and CAT(x)) and IN(x, T) \t(PM)\n",
      "    Interpreting Kaline\n",
      "    => Kaline = K \t(TN)\n",
      " => ('Kaline', [['gray', 'cat'], ['in', 'Texas']]) = (GRAY(K) and CAT(K)) and IN(K, T) \t(AF)\n"
     ]
    },
    {
     "data": {
      "text/html": [
       "(GRAY(K) and CAT(K)) and IN(K, T)\n",
       "        <span style='float:right; font-family:monospace; margin-right:75px;\n",
       "              font-weight:bold; background-color:#e5e5ff'>\n",
       "          't'</span>"
      ],
      "text/plain": [
       "(GRAY(K) and CAT(K)) and IN(K, T)"
      ]
     },
     "execution_count": 3,
     "metadata": {},
     "output_type": "execute_result"
    }
   ],
   "source": [
    "class Meaning4(Meaning):\n",
    "  def rules(m, alpha):\n",
    "    match alpha:      # Note: m.quiet(  ) turns off printing\n",
    "      # PM\n",
    "      case (beta, gamma) if m.quiet(  m[gamma].type == m[beta].type == Type.et ):\n",
    "        rule = 'PM'\n",
    "        value = 'lambda f : lambda g: lambda x: f(x) and g(x)'.et_et_et(m[beta])(m[gamma])\n",
    "\n",
    "      # FA\n",
    "      case (beta, gamma) if m.quiet(  m[gamma] in m[beta].domain()  ):\n",
    "        rule = 'FA'\n",
    "        value = m[beta](m[gamma])\n",
    "      case (gamma, beta) if m.quiet(  m[gamma] in m[beta].domain()  ):\n",
    "        rule = 'AF'\n",
    "        value = m[beta](m[gamma])\n",
    "\n",
    "      # NN\n",
    "      case (beta,):\n",
    "        rule = 'NN'\n",
    "        value = m[beta]\n",
    "\n",
    "      # TN\n",
    "      case str():\n",
    "        rule = 'TN'\n",
    "        value = m.lookup(alpha)\n",
    "\n",
    "      case _:\n",
    "        rule = '??'\n",
    "        value = alpha\n",
    "\n",
    "    return value, rule\n",
    "\n",
    "m4 = Meaning4({\n",
    "    'Joe'     : 'J'.e,\n",
    "    'Kaline'  : 'K'.e,\n",
    "    'Texas'   : 'T'.e,\n",
    "    'in'      : 'lambda x: lambda y: IN(y,x)'.eet,\n",
    "    'cat'     : 'lambda x: CAT(x)'.et,\n",
    "    'gray'    : 'lambda x: GRAY(x)'.et,\n",
    "})\n",
    "\n",
    "m4['gray', 'cat']\n",
    "m4['Kaline', [['gray', 'cat'], ['in', 'Texas']]]"
   ]
  },
  {
   "cell_type": "code",
   "execution_count": 4,
   "metadata": {},
   "outputs": [
    {
     "name": "stdout",
     "output_type": "stream",
     "text": [
      "\n",
      " Interpreting ('a',)\n",
      "    Removing vacuous items: ['a']\n",
      " => () = None \t(NN)\n",
      "\n",
      " Interpreting ('a', 'cat')\n",
      "    Removing vacuous items: ['a']\n",
      "    Interpreting cat\n",
      "    => cat = λx . CAT(x) \t(TN)\n",
      " => ('cat',) = λx . CAT(x) \t(NN)\n"
     ]
    },
    {
     "data": {
      "text/html": [
       "λx . CAT(x)\n",
       "        <span style='float:right; font-family:monospace; margin-right:75px;\n",
       "              font-weight:bold; background-color:#e5e5ff'>\n",
       "          ('e', 't')</span>"
      ],
      "text/plain": [
       "Function(\"lambda x: CAT(x)\", Type(('e', 't')))"
      ]
     },
     "execution_count": 4,
     "metadata": {},
     "output_type": "execute_result"
    },
    {
     "name": "stdout",
     "output_type": "stream",
     "text": [
      "\n",
      " Interpreting ('is', ['a', 'cat'])\n",
      "    Removing vacuous items: ['is']\n",
      "    Interpreting ['a', 'cat']\n",
      "       Removing vacuous items: ['a']\n",
      "       Interpreting cat\n",
      "       => cat = λx . CAT(x) \t(TN)\n",
      "    => ('cat',) = λx . CAT(x) \t(NN)\n",
      " => (['a', 'cat'],) = λx . CAT(x) \t(NN)\n"
     ]
    },
    {
     "data": {
      "text/html": [
       "λx . CAT(x)\n",
       "        <span style='float:right; font-family:monospace; margin-right:75px;\n",
       "              font-weight:bold; background-color:#e5e5ff'>\n",
       "          ('e', 't')</span>"
      ],
      "text/plain": [
       "Function(\"lambda x: CAT(x)\", Type(('e', 't')))"
      ]
     },
     "execution_count": 4,
     "metadata": {},
     "output_type": "execute_result"
    },
    {
     "name": "stdout",
     "output_type": "stream",
     "text": [
      "\n",
      " Interpreting ('Kaline', [['fond', 'Joe'], ['gray', 'cat']])\n",
      "    Interpreting [['fond', 'Joe'], ['gray', 'cat']]\n",
      "       Interpreting ['fond', 'Joe']\n",
      "          Interpreting fond\n",
      "          => fond = λy . λf . λx . f(x) and FOND(x, y) \t(TN)\n",
      "          Interpreting Joe\n",
      "          => Joe = J \t(TN)\n",
      "       => ['fond', 'Joe'] = λf . λx . f(x) and FOND(x, J) \t(FA)\n",
      "       Interpreting ['gray', 'cat']\n",
      "          Interpreting gray\n",
      "          => gray = λf . λx . f(x) and GRAY(x) \t(TN)\n",
      "          Interpreting cat\n",
      "          => cat = λx . CAT(x) \t(TN)\n",
      "       => ['gray', 'cat'] = λx . CAT(x) and GRAY(x) \t(FA)\n",
      "    => [['fond', 'Joe'], ['gray', 'cat']] = λx . (CAT(x) and GRAY(x)) and FOND(x, J) \t(FA)\n",
      "    Interpreting Kaline\n",
      "    => Kaline = K \t(TN)\n",
      " => ('Kaline', [['fond', 'Joe'], ['gray', 'cat']]) = (CAT(K) and GRAY(K)) and FOND(K, J) \t(AF)\n"
     ]
    },
    {
     "data": {
      "text/html": [
       "(CAT(K) and GRAY(K)) and FOND(K, J)\n",
       "        <span style='float:right; font-family:monospace; margin-right:75px;\n",
       "              font-weight:bold; background-color:#e5e5ff'>\n",
       "          't'</span>"
      ],
      "text/plain": [
       "(CAT(K) and GRAY(K)) and FOND(K, J)"
      ]
     },
     "execution_count": 4,
     "metadata": {},
     "output_type": "execute_result"
    },
    {
     "name": "stdout",
     "output_type": "stream",
     "text": [
      "\n",
      " Interpreting ('Kaline', 'gray')\n",
      " => ('Kaline', 'gray') = ('Kaline', 'gray') \t(??)\n"
     ]
    },
    {
     "data": {
      "text/plain": [
       "('Kaline', 'gray')"
      ]
     },
     "execution_count": 4,
     "metadata": {},
     "output_type": "execute_result"
    }
   ],
   "source": [
    "class Meaning3(Meaning):\n",
    "  def rules(m, alpha):\n",
    "    match alpha:      # Note: m.quiet(  ) turns off printing\n",
    "      # FA\n",
    "      case (beta, gamma) if m.quiet(  m[gamma] in m[beta].domain()  ):\n",
    "        rule = 'FA'\n",
    "        value = m[beta](m[gamma])\n",
    "      case (gamma, beta) if m.quiet(  m[gamma] in m[beta].domain()  ):\n",
    "        rule = 'AF'\n",
    "        value = m[beta](m[gamma])\n",
    "\n",
    "      # NN\n",
    "      case (beta,):\n",
    "        rule = 'NN'\n",
    "        value = m[beta]\n",
    "\n",
    "      # TN\n",
    "      case str():\n",
    "        rule = 'TN'\n",
    "        value = m.lookup(alpha)\n",
    "\n",
    "      case _:\n",
    "        rule = '??'\n",
    "        value = alpha\n",
    "\n",
    "    return value, rule\n",
    "\n",
    "m3 = Meaning3({\n",
    "    'Joe'     : 'J'.e,\n",
    "    'Kaline'  : 'K'.e,\n",
    "    'cat'     : 'lambda x: CAT(x)'.et,\n",
    "    'gray'    : 'lambda f: lambda x: f(x) and GRAY(x)'.et_et,\n",
    "    'fond'    : 'lambda y: lambda f: lambda x: f(x) and FOND(x,y)'.eet_et,\n",
    "})\n",
    "\n",
    "#m3['Joe']\n",
    "#m3['Kaline']\n",
    "#m3['cat']\n",
    "#m3['Kaline', 'cat']\n",
    "m3[('a',)]\n",
    "m3['a', 'cat']\n",
    "m3['is', ['a', 'cat']]\n",
    "m3['Kaline', [['fond', 'Joe'], ['gray', 'cat']]]\n",
    "m3['Kaline', 'gray']"
   ]
  },
  {
   "cell_type": "code",
   "execution_count": 5,
   "metadata": {},
   "outputs": [
    {
     "name": "stdout",
     "output_type": "stream",
     "text": [
      "\n",
      " Interpreting gray\n",
      " => gray = λf . λx . f(x) and GRAY(x) \t(TN)\n"
     ]
    },
    {
     "data": {
      "text/html": [
       "λf . λx . f(x) and GRAY(x)\n",
       "        <span style='float:right; font-family:monospace; margin-right:75px;\n",
       "              font-weight:bold; background-color:#e5e5ff'>\n",
       "          (('e', 't'), ('e', 't'))</span>"
      ],
      "text/plain": [
       "Function(\"lambda f: lambda x: f(x) and GRAY(x)\", Type((('e', 't'), ('e', 't'))))"
      ]
     },
     "execution_count": 5,
     "metadata": {},
     "output_type": "execute_result"
    },
    {
     "name": "stdout",
     "output_type": "stream",
     "text": [
      "\n",
      " Interpreting ('is', 'gray')\n",
      "    Interpreting is\n",
      "    => is = λf . λx . f(lambda y: 1)(x) \t(TN)\n",
      "    Interpreting gray\n",
      "    => gray = λf . λx . f(x) and GRAY(x) \t(TN)\n",
      " => ('is', 'gray') = λx . 1 and GRAY(x) \t(FA)\n"
     ]
    },
    {
     "data": {
      "text/html": [
       "λx . 1 and GRAY(x)\n",
       "        <span style='float:right; font-family:monospace; margin-right:75px;\n",
       "              font-weight:bold; background-color:#e5e5ff'>\n",
       "          ('e', 't')</span>"
      ],
      "text/plain": [
       "Function(\"lambda x: 1 and GRAY(x)\", Type(('e', 't')))"
      ]
     },
     "execution_count": 5,
     "metadata": {},
     "output_type": "execute_result"
    }
   ],
   "source": [
    "m3.update({'is': 'lambda f: lambda x: f(lambda y:1)(x)'.et_et__et})\n",
    "\n",
    "m3['gray']\n",
    "m3['is', 'gray']"
   ]
  },
  {
   "cell_type": "code",
   "execution_count": 6,
   "metadata": {},
   "outputs": [
    {
     "name": "stdout",
     "output_type": "stream",
     "text": [
      "Requirement already satisfied: nltk in /usr/local/python/3.12.1/lib/python3.12/site-packages (3.9.1)\n",
      "Requirement already satisfied: click in /usr/local/python/3.12.1/lib/python3.12/site-packages (from nltk) (8.1.8)\n",
      "Requirement already satisfied: joblib in /home/codespace/.local/lib/python3.12/site-packages (from nltk) (1.4.2)\n",
      "Requirement already satisfied: regex>=2021.8.3 in /usr/local/python/3.12.1/lib/python3.12/site-packages (from nltk) (2024.11.6)\n",
      "Requirement already satisfied: tqdm in /usr/local/python/3.12.1/lib/python3.12/site-packages (from nltk) (4.67.1)\n",
      "\n",
      "\u001b[1m[\u001b[0m\u001b[34;49mnotice\u001b[0m\u001b[1;39;49m]\u001b[0m\u001b[39;49m A new release of pip is available: \u001b[0m\u001b[31;49m24.3.1\u001b[0m\u001b[39;49m -> \u001b[0m\u001b[32;49m25.0.1\u001b[0m\n",
      "\u001b[1m[\u001b[0m\u001b[34;49mnotice\u001b[0m\u001b[1;39;49m]\u001b[0m\u001b[39;49m To update, run: \u001b[0m\u001b[32;49mpython3 -m pip install --upgrade pip\u001b[0m\n",
      "Requirement already satisfied: svgling in /usr/local/python/3.12.1/lib/python3.12/site-packages (0.5.0)\n",
      "Requirement already satisfied: svgwrite in /usr/local/python/3.12.1/lib/python3.12/site-packages (from svgling) (1.4.3)\n",
      "\n",
      "\u001b[1m[\u001b[0m\u001b[34;49mnotice\u001b[0m\u001b[1;39;49m]\u001b[0m\u001b[39;49m A new release of pip is available: \u001b[0m\u001b[31;49m24.3.1\u001b[0m\u001b[39;49m -> \u001b[0m\u001b[32;49m25.0.1\u001b[0m\n",
      "\u001b[1m[\u001b[0m\u001b[34;49mnotice\u001b[0m\u001b[1;39;49m]\u001b[0m\u001b[39;49m To update, run: \u001b[0m\u001b[32;49mpython3 -m pip install --upgrade pip\u001b[0m\n"
     ]
    }
   ],
   "source": [
    "!pip install nltk\n",
    "from nltk import Tree\n",
    "!pip install svgling"
   ]
  },
  {
   "cell_type": "code",
   "execution_count": 7,
   "metadata": {},
   "outputs": [
    {
     "data": {
      "image/svg+xml": [
       "<svg baseProfile=\"full\" height=\"216px\" preserveAspectRatio=\"xMidYMid meet\" style=\"font-family: times, serif; font-weight: normal; font-style: normal; font-size: 16px\" version=\"1.1\" viewBox=\"0,0,176.0,216.0\" width=\"176px\" xmlns=\"http://www.w3.org/2000/svg\" xmlns:ev=\"http://www.w3.org/2001/xml-events\" xmlns:xlink=\"http://www.w3.org/1999/xlink\"><defs /><svg width=\"100%\" x=\"0\" y=\"0px\"><defs /><text text-anchor=\"middle\" x=\"50%\" y=\"16px\">S</text></svg><svg width=\"36.3636%\" x=\"0%\" y=\"48px\"><defs /><svg width=\"100%\" x=\"0\" y=\"0px\"><defs /><text text-anchor=\"middle\" x=\"50%\" y=\"16px\">NP</text></svg><svg width=\"100%\" x=\"0%\" y=\"48px\"><defs /><svg width=\"100%\" x=\"0\" y=\"0px\"><defs /><text text-anchor=\"middle\" x=\"50%\" y=\"16px\">N</text></svg><svg width=\"100%\" x=\"0%\" y=\"48px\"><defs /><svg width=\"100%\" x=\"0\" y=\"0px\"><defs /><text text-anchor=\"middle\" x=\"50%\" y=\"16px\">Kaline</text></svg></svg><line stroke=\"black\" x1=\"50%\" x2=\"50%\" y1=\"20px\" y2=\"48px\" /></svg><line stroke=\"black\" x1=\"50%\" x2=\"50%\" y1=\"20px\" y2=\"48px\" /></svg><line stroke=\"black\" x1=\"50%\" x2=\"18.1818%\" y1=\"20px\" y2=\"48px\" /><svg width=\"63.6364%\" x=\"36.3636%\" y=\"48px\"><defs /><svg width=\"100%\" x=\"0\" y=\"0px\"><defs /><text text-anchor=\"middle\" x=\"50%\" y=\"16px\">VP</text></svg><svg width=\"28.5714%\" x=\"0%\" y=\"48px\"><defs /><svg width=\"100%\" x=\"0\" y=\"0px\"><defs /><text text-anchor=\"middle\" x=\"50%\" y=\"16px\">is</text></svg></svg><line stroke=\"black\" x1=\"50%\" x2=\"14.2857%\" y1=\"20px\" y2=\"48px\" /><svg width=\"71.4286%\" x=\"28.5714%\" y=\"48px\"><defs /><svg width=\"100%\" x=\"0\" y=\"0px\"><defs /><text text-anchor=\"middle\" x=\"50%\" y=\"16px\">NP</text></svg><svg width=\"50%\" x=\"0%\" y=\"48px\"><defs /><svg width=\"100%\" x=\"0\" y=\"0px\"><defs /><text text-anchor=\"middle\" x=\"50%\" y=\"16px\">Det</text></svg><svg width=\"100%\" x=\"0%\" y=\"48px\"><defs /><svg width=\"100%\" x=\"0\" y=\"0px\"><defs /><text text-anchor=\"middle\" x=\"50%\" y=\"16px\">a</text></svg></svg><line stroke=\"black\" x1=\"50%\" x2=\"50%\" y1=\"20px\" y2=\"48px\" /></svg><line stroke=\"black\" x1=\"50%\" x2=\"25%\" y1=\"20px\" y2=\"48px\" /><svg width=\"50%\" x=\"50%\" y=\"48px\"><defs /><svg width=\"100%\" x=\"0\" y=\"0px\"><defs /><text text-anchor=\"middle\" x=\"50%\" y=\"16px\">N</text></svg><svg width=\"100%\" x=\"0%\" y=\"48px\"><defs /><svg width=\"100%\" x=\"0\" y=\"0px\"><defs /><text text-anchor=\"middle\" x=\"50%\" y=\"16px\">cat</text></svg></svg><line stroke=\"black\" x1=\"50%\" x2=\"50%\" y1=\"20px\" y2=\"48px\" /></svg><line stroke=\"black\" x1=\"50%\" x2=\"75%\" y1=\"20px\" y2=\"48px\" /></svg><line stroke=\"black\" x1=\"50%\" x2=\"64.2857%\" y1=\"20px\" y2=\"48px\" /></svg><line stroke=\"black\" x1=\"50%\" x2=\"68.1818%\" y1=\"20px\" y2=\"48px\" /></svg>"
      ],
      "text/plain": [
       "Tree('S', [Tree('NP', [Tree('N', ['Kaline'])]), Tree('VP', ['is', Tree('NP', [Tree('Det', ['a']), Tree('N', ['cat'])])])])"
      ]
     },
     "execution_count": 7,
     "metadata": {},
     "output_type": "execute_result"
    },
    {
     "name": "stdout",
     "output_type": "stream",
     "text": [
      "\n",
      " Interpreting (S (NP (N Kaline)) (VP is (NP (Det a) (N cat))))\n"
     ]
    },
    {
     "ename": "TypeError",
     "evalue": "unhashable type: 'Tree'",
     "output_type": "error",
     "traceback": [
      "\u001b[0;31m---------------------------------------------------------------------------\u001b[0m",
      "\u001b[0;31mTypeError\u001b[0m                                 Traceback (most recent call last)",
      "Cell \u001b[0;32mIn[7], line 3\u001b[0m\n\u001b[1;32m      1\u001b[0m tree \u001b[38;5;241m=\u001b[39m Tree\u001b[38;5;241m.\u001b[39mfromstring(\u001b[38;5;124m'\u001b[39m\u001b[38;5;124m(S (NP (N Kaline)) (VP is (NP (Det a) (N cat))))\u001b[39m\u001b[38;5;124m'\u001b[39m)\n\u001b[1;32m      2\u001b[0m tree\n\u001b[0;32m----> 3\u001b[0m \u001b[43mm3\u001b[49m\u001b[43m[\u001b[49m\u001b[43mtree\u001b[49m\u001b[43m]\u001b[49m\n",
      "File \u001b[0;32m/workspaces/ling516/phosphorus/__init__.py:173\u001b[0m, in \u001b[0;36mMeaning.__getitem__\u001b[0;34m(self, k)\u001b[0m\n\u001b[0;32m--> 173\u001b[0m \u001b[38;5;28;01mdef\u001b[39;00m \u001b[38;5;21m__getitem__\u001b[39m(\u001b[38;5;28mself\u001b[39m, k): \u001b[38;5;28;01mreturn\u001b[39;00m \u001b[38;5;28;43mself\u001b[39;49m\u001b[38;5;241;43m.\u001b[39;49m\u001b[43minterpret\u001b[49m\u001b[43m(\u001b[49m\u001b[43mk\u001b[49m\u001b[43m)\u001b[49m\n",
      "File \u001b[0;32m/workspaces/ling516/phosphorus/__init__.py:203\u001b[0m, in \u001b[0;36mMeaning.interpret\u001b[0;34m(self, alpha)\u001b[0m\n\u001b[1;32m    201\u001b[0m \u001b[38;5;28mself\u001b[39m\u001b[38;5;241m.\u001b[39mindent \u001b[38;5;241m=\u001b[39m \u001b[38;5;124m'\u001b[39m\u001b[38;5;124m'\u001b[39m\n\u001b[1;32m    202\u001b[0m \u001b[38;5;28mself\u001b[39m\u001b[38;5;241m.\u001b[39mprint \u001b[38;5;241m=\u001b[39m \u001b[38;5;28;01mlambda\u001b[39;00m \u001b[38;5;28mself\u001b[39m, \u001b[38;5;241m*\u001b[39margs, \u001b[38;5;241m*\u001b[39m\u001b[38;5;241m*\u001b[39mkws: \u001b[38;5;28mprint\u001b[39m(\u001b[38;5;28mself\u001b[39m\u001b[38;5;241m.\u001b[39mindent, \u001b[38;5;241m*\u001b[39margs, \u001b[38;5;241m*\u001b[39m\u001b[38;5;241m*\u001b[39mkws)\n\u001b[0;32m--> 203\u001b[0m \u001b[38;5;28;01mraise\u001b[39;00m e\n",
      "File \u001b[0;32m/workspaces/ling516/phosphorus/__init__.py:195\u001b[0m, in \u001b[0;36mMeaning.interpret\u001b[0;34m(self, alpha)\u001b[0m\n\u001b[1;32m    193\u001b[0m   value, rule \u001b[38;5;241m=\u001b[39m \u001b[38;5;28;01mNone\u001b[39;00m, \u001b[38;5;124m'\u001b[39m\u001b[38;5;124mNN\u001b[39m\u001b[38;5;124m'\u001b[39m\n\u001b[1;32m    194\u001b[0m \u001b[38;5;28;01melse\u001b[39;00m:\n\u001b[0;32m--> 195\u001b[0m   value, rule \u001b[38;5;241m=\u001b[39m \u001b[38;5;28;43mself\u001b[39;49m\u001b[38;5;241;43m.\u001b[39;49m\u001b[43mrules\u001b[49m\u001b[43m(\u001b[49m\u001b[43malpha\u001b[49m\u001b[43m)\u001b[49m\n\u001b[1;32m    197\u001b[0m m\u001b[38;5;241m.\u001b[39mindent \u001b[38;5;241m=\u001b[39m m\u001b[38;5;241m.\u001b[39mindent[:\u001b[38;5;241m-\u001b[39m\u001b[38;5;28mlen\u001b[39m(m\u001b[38;5;241m.\u001b[39mindent_chars)]\n\u001b[1;32m    198\u001b[0m m\u001b[38;5;241m.\u001b[39mprint(\u001b[38;5;124m'\u001b[39m\u001b[38;5;124m=>\u001b[39m\u001b[38;5;124m'\u001b[39m, alpha, \u001b[38;5;124m'\u001b[39m\u001b[38;5;124m=\u001b[39m\u001b[38;5;124m'\u001b[39m, value, \u001b[38;5;124mf\u001b[39m\u001b[38;5;124m'\u001b[39m\u001b[38;5;130;01m\\t\u001b[39;00m\u001b[38;5;124m(\u001b[39m\u001b[38;5;132;01m{\u001b[39;00mrule\u001b[38;5;132;01m}\u001b[39;00m\u001b[38;5;124m)\u001b[39m\u001b[38;5;124m'\u001b[39m)\n",
      "Cell \u001b[0;32mIn[4], line 5\u001b[0m, in \u001b[0;36mMeaning3.rules\u001b[0;34m(m, alpha)\u001b[0m\n\u001b[1;32m      2\u001b[0m \u001b[38;5;28;01mdef\u001b[39;00m \u001b[38;5;21mrules\u001b[39m(m, alpha):\n\u001b[1;32m      3\u001b[0m   \u001b[38;5;28;01mmatch\u001b[39;00m alpha:      \u001b[38;5;66;03m# Note: m.quiet(  ) turns off printing\u001b[39;00m\n\u001b[1;32m      4\u001b[0m     \u001b[38;5;66;03m# FA\u001b[39;00m\n\u001b[0;32m----> 5\u001b[0m     \u001b[38;5;28;01mcase\u001b[39;00m (beta, gamma) \u001b[38;5;28;01mif\u001b[39;00m m\u001b[38;5;241m.\u001b[39mquiet(  \u001b[43mm\u001b[49m\u001b[43m[\u001b[49m\u001b[43mgamma\u001b[49m\u001b[43m]\u001b[49m\u001b[43m \u001b[49m\u001b[38;5;129;43;01min\u001b[39;49;00m\u001b[43m \u001b[49m\u001b[43mm\u001b[49m\u001b[43m[\u001b[49m\u001b[43mbeta\u001b[49m\u001b[43m]\u001b[49m\u001b[38;5;241;43m.\u001b[39;49m\u001b[43mdomain\u001b[49m\u001b[43m(\u001b[49m\u001b[43m)\u001b[49m  ):\n\u001b[1;32m      6\u001b[0m       rule \u001b[38;5;241m=\u001b[39m \u001b[38;5;124m'\u001b[39m\u001b[38;5;124mFA\u001b[39m\u001b[38;5;124m'\u001b[39m\n\u001b[1;32m      7\u001b[0m       value \u001b[38;5;241m=\u001b[39m m[beta](m[gamma])\n",
      "\u001b[0;31mTypeError\u001b[0m: unhashable type: 'Tree'"
     ]
    }
   ],
   "source": [
    "tree = Tree.fromstring('(S (NP (N Kaline)) (VP is (NP (Det a) (N cat))))')\n",
    "tree\n",
    "m3[tree]"
   ]
  },
  {
   "cell_type": "code",
   "execution_count": null,
   "metadata": {},
   "outputs": [
    {
     "name": "stdout",
     "output_type": "stream",
     "text": [
      "\n",
      " Interpreting Ann\n",
      " => Ann = A \t(TN)\n"
     ]
    },
    {
     "data": {
      "text/html": [
       "A\n",
       "        <span style='float:right; font-family:monospace; margin-right:75px;\n",
       "              font-weight:bold; background-color:#e5e5ff'>\n",
       "          'e'</span>"
      ],
      "text/plain": [
       "A"
      ]
     },
     "execution_count": 5,
     "metadata": {},
     "output_type": "execute_result"
    },
    {
     "name": "stdout",
     "output_type": "stream",
     "text": [
      "\n",
      " Interpreting smokes\n",
      " => smokes = λx . SMOKES(x) \t(TN)\n"
     ]
    },
    {
     "data": {
      "text/html": [
       "λx . SMOKES(x)\n",
       "        <span style='float:right; font-family:monospace; margin-right:75px;\n",
       "              font-weight:bold; background-color:#e5e5ff'>\n",
       "          ('e', 't')</span>"
      ],
      "text/plain": [
       "Function(\"lambda x: SMOKES(x)\", Type(('e', 't')))"
      ]
     },
     "execution_count": 5,
     "metadata": {},
     "output_type": "execute_result"
    },
    {
     "name": "stdout",
     "output_type": "stream",
     "text": [
      "\n",
      " Interpreting ('Ann', 'smokes')\n",
      "    Interpreting smokes\n",
      "    => smokes = λx . SMOKES(x) \t(TN)\n",
      "    Interpreting Ann\n",
      "    => Ann = A \t(TN)\n",
      " => ('Ann', 'smokes') = SMOKES(A) \t(AF)\n"
     ]
    },
    {
     "data": {
      "text/html": [
       "SMOKES(A)\n",
       "        <span style='float:right; font-family:monospace; margin-right:75px;\n",
       "              font-weight:bold; background-color:#e5e5ff'>\n",
       "          't'</span>"
      ],
      "text/plain": [
       "SMOKES(A)"
      ]
     },
     "execution_count": 5,
     "metadata": {},
     "output_type": "execute_result"
    },
    {
     "name": "stdout",
     "output_type": "stream",
     "text": [
      "\n",
      " Interpreting ('smokes', 'Ann')\n",
      "    Interpreting smokes\n",
      "    => smokes = λx . SMOKES(x) \t(TN)\n",
      "    Interpreting Ann\n",
      "    => Ann = A \t(TN)\n",
      " => ('smokes', 'Ann') = SMOKES(A) \t(FA)\n"
     ]
    },
    {
     "data": {
      "text/html": [
       "SMOKES(A)\n",
       "        <span style='float:right; font-family:monospace; margin-right:75px;\n",
       "              font-weight:bold; background-color:#e5e5ff'>\n",
       "          't'</span>"
      ],
      "text/plain": [
       "SMOKES(A)"
      ]
     },
     "execution_count": 5,
     "metadata": {},
     "output_type": "execute_result"
    }
   ],
   "source": [
    "class Meaning3(Meaning):\n",
    "  def rules(m, alpha):\n",
    "    match alpha:      # Note: m.quiet(  ) turns off printing\n",
    "      # FA\n",
    "      case (beta, gamma) if m.quiet(  m[gamma] in m[beta].domain()  ):\n",
    "        rule = 'FA'\n",
    "        value = m[beta](m[gamma])\n",
    "      case (gamma, beta) if m.quiet(  m[gamma] in m[beta].domain()  ):\n",
    "        rule = 'AF'\n",
    "        value = m[beta](m[gamma])\n",
    "\n",
    "      # NN\n",
    "      case (beta,):\n",
    "        rule = 'NN'\n",
    "        value = m[beta]\n",
    "\n",
    "      # TN\n",
    "      case str():# if alpha in m:\n",
    "        rule = 'TN'\n",
    "        value = m.lookup(alpha)\n",
    "\n",
    "      case _:\n",
    "        rule = '??'\n",
    "        value = alpha\n",
    "    return value, rule\n",
    "\n",
    "m = Meaning3({\n",
    "    'Ann'     : 'A'.e,\n",
    "    'smokes'  : 'lambda x: SMOKES(x)'.et,\n",
    "    'tall'    : 'lambda x: TALL(x)'.et,\n",
    "    'likes'   : 'lambda x: lambda y: LIKES(x,y)'.eet,\n",
    "#    'is'      : None,\n",
    "})\n",
    "\n",
    "m['Ann']\n",
    "m['smokes']\n",
    "m['Ann', 'smokes']\n",
    "m['smokes', 'Ann']"
   ]
  },
  {
   "cell_type": "code",
   "execution_count": null,
   "metadata": {},
   "outputs": [
    {
     "name": "stdout",
     "output_type": "stream",
     "text": [
      "\n",
      " Interpreting ('tall', 'is')\n",
      "    Removing vacuous items: ['is']\n",
      "    Interpreting tall\n",
      "    => tall = λx . TALL(x) \t(TN)\n",
      " => ('tall',) = λx . TALL(x) \t(NN)\n"
     ]
    },
    {
     "data": {
      "text/html": [
       "λx . TALL(x)\n",
       "        <span style='float:right; font-family:monospace; margin-right:75px;\n",
       "              font-weight:bold; background-color:#e5e5ff'>\n",
       "          ('e', 't')</span>"
      ],
      "text/plain": [
       "Function(\"lambda x: TALL(x)\", Type(('e', 't')))"
      ]
     },
     "execution_count": 6,
     "metadata": {},
     "output_type": "execute_result"
    }
   ],
   "source": [
    "m['tall', 'is']"
   ]
  },
  {
   "cell_type": "code",
   "execution_count": null,
   "metadata": {},
   "outputs": [
    {
     "ename": "TypeError",
     "evalue": "unsupported operand type(s) for -: 'list' and 'list'",
     "output_type": "error",
     "traceback": [
      "\u001b[0;31m---------------------------------------------------------------------------\u001b[0m",
      "\u001b[0;31mTypeError\u001b[0m                                 Traceback (most recent call last)",
      "Cell \u001b[0;32mIn[7], line 2\u001b[0m\n\u001b[1;32m      1\u001b[0m t \u001b[38;5;241m=\u001b[39m [\u001b[38;5;241m1\u001b[39m,\u001b[38;5;241m2\u001b[39m]\n\u001b[0;32m----> 2\u001b[0m t \u001b[38;5;241m=\u001b[39m \u001b[43mt\u001b[49m\u001b[43m \u001b[49m\u001b[38;5;241;43m-\u001b[39;49m\u001b[43m \u001b[49m\u001b[43m[\u001b[49m\u001b[38;5;241;43m1\u001b[39;49m\u001b[43m]\u001b[49m\n",
      "\u001b[0;31mTypeError\u001b[0m: unsupported operand type(s) for -: 'list' and 'list'"
     ]
    }
   ],
   "source": [
    "t = [1,2]\n",
    "t = t - [1]"
   ]
  },
  {
   "cell_type": "code",
   "execution_count": null,
   "metadata": {},
   "outputs": [
    {
     "ename": "ValueError",
     "evalue": "Invalid type for \"lambda x: f(x) and GRAY(x)\": 't'",
     "output_type": "error",
     "traceback": [
      "\u001b[0;31m---------------------------------------------------------------------------\u001b[0m",
      "\u001b[0;31mValueError\u001b[0m                                Traceback (most recent call last)",
      "File \u001b[0;32m~/.local/lib/python3.12/site-packages/IPython/core/formatters.py:406\u001b[0m, in \u001b[0;36mBaseFormatter.__call__\u001b[0;34m(self, obj)\u001b[0m\n\u001b[1;32m    404\u001b[0m     method \u001b[38;5;241m=\u001b[39m get_real_method(obj, \u001b[38;5;28mself\u001b[39m\u001b[38;5;241m.\u001b[39mprint_method)\n\u001b[1;32m    405\u001b[0m     \u001b[38;5;28;01mif\u001b[39;00m method \u001b[38;5;129;01mis\u001b[39;00m \u001b[38;5;129;01mnot\u001b[39;00m \u001b[38;5;28;01mNone\u001b[39;00m:\n\u001b[0;32m--> 406\u001b[0m         \u001b[38;5;28;01mreturn\u001b[39;00m \u001b[43mmethod\u001b[49m\u001b[43m(\u001b[49m\u001b[43m)\u001b[49m\n\u001b[1;32m    407\u001b[0m     \u001b[38;5;28;01mreturn\u001b[39;00m \u001b[38;5;28;01mNone\u001b[39;00m\n\u001b[1;32m    408\u001b[0m \u001b[38;5;28;01melse\u001b[39;00m:\n",
      "File \u001b[0;32m/workspaces/ling516/phosphorus/__init__.py:105\u001b[0m, in \u001b[0;36mSemVal._repr_html_\u001b[0;34m(self)\u001b[0m\n\u001b[1;32m    104\u001b[0m \u001b[38;5;28;01mdef\u001b[39;00m \u001b[38;5;21m_repr_html_\u001b[39m(\u001b[38;5;28mself\u001b[39m):\n\u001b[0;32m--> 105\u001b[0m   \u001b[38;5;28;01mreturn\u001b[39;00m \u001b[38;5;124mf\u001b[39m\u001b[38;5;124m\"\"\"\u001b[39m\u001b[38;5;132;43;01m{\u001b[39;49;00m\u001b[38;5;28;43mself\u001b[39;49m\u001b[38;5;132;43;01m}\u001b[39;49;00m\n\u001b[1;32m    106\u001b[0m \u001b[38;5;124m      <span style=\u001b[39m\u001b[38;5;124m'\u001b[39m\u001b[38;5;124mfloat:right; font-family:monospace; margin-right:75px;\u001b[39m\n\u001b[1;32m    107\u001b[0m \u001b[38;5;124m            font-weight:bold; background-color:#e5e5ff\u001b[39m\u001b[38;5;124m'\u001b[39m\u001b[38;5;124m>\u001b[39m\n\u001b[1;32m    108\u001b[0m \u001b[38;5;124m        \u001b[39m\u001b[38;5;132;01m{\u001b[39;00m\u001b[38;5;28mself\u001b[39m\u001b[38;5;241m.\u001b[39mtype\u001b[38;5;132;01m}\u001b[39;00m\u001b[38;5;124m</span>\u001b[39m\u001b[38;5;124m\"\"\"\u001b[39m\n",
      "File \u001b[0;32m/workspaces/ling516/phosphorus/__init__.py:155\u001b[0m, in \u001b[0;36mFunction.__str__\u001b[0;34m(self)\u001b[0m\n\u001b[1;32m    153\u001b[0m \u001b[38;5;28;01mdef\u001b[39;00m \u001b[38;5;21m__str__\u001b[39m(\u001b[38;5;28mself\u001b[39m):\n\u001b[1;32m    154\u001b[0m   \u001b[38;5;28mvars\u001b[39m \u001b[38;5;241m=\u001b[39m \u001b[38;5;124m'\u001b[39m\u001b[38;5;124m,\u001b[39m\u001b[38;5;124m'\u001b[39m\u001b[38;5;241m.\u001b[39mjoin(\u001b[38;5;28mself\u001b[39m\u001b[38;5;241m.\u001b[39mvars)\n\u001b[0;32m--> 155\u001b[0m   \u001b[38;5;28;01mreturn\u001b[39;00m \u001b[38;5;124mf\u001b[39m\u001b[38;5;124m'\u001b[39m\u001b[38;5;124mλ\u001b[39m\u001b[38;5;132;01m{\u001b[39;00m\u001b[38;5;28mvars\u001b[39m\u001b[38;5;132;01m}\u001b[39;00m\u001b[38;5;124m . \u001b[39m\u001b[38;5;132;01m{\u001b[39;00m\u001b[38;5;28;43mself\u001b[39;49m\u001b[43m(\u001b[49m\u001b[43m)\u001b[49m\u001b[38;5;132;01m}\u001b[39;00m\u001b[38;5;124m'\u001b[39m\n",
      "File \u001b[0;32m/workspaces/ling516/phosphorus/__init__.py:137\u001b[0m, in \u001b[0;36mFunction.__call__\u001b[0;34m(self, *args)\u001b[0m\n\u001b[1;32m    135\u001b[0m out_type \u001b[38;5;241m=\u001b[39m \u001b[38;5;28mself\u001b[39m\u001b[38;5;241m.\u001b[39mtype\u001b[38;5;241m.\u001b[39moutput()\n\u001b[1;32m    136\u001b[0m \u001b[38;5;28;01mif\u001b[39;00m \u001b[38;5;28misinstance\u001b[39m(node, Lambda):\n\u001b[0;32m--> 137\u001b[0m   \u001b[38;5;28;01mreturn\u001b[39;00m \u001b[43mFunction\u001b[49m\u001b[43m(\u001b[49m\u001b[43munparse\u001b[49m\u001b[43m(\u001b[49m\u001b[43mnode\u001b[49m\u001b[43m)\u001b[49m\u001b[43m,\u001b[49m\u001b[43m \u001b[49m\u001b[43mout_type\u001b[49m\u001b[43m)\u001b[49m\n\u001b[1;32m    139\u001b[0m \u001b[38;5;28;01mtry\u001b[39;00m:\n\u001b[1;32m    140\u001b[0m   exprnode \u001b[38;5;241m=\u001b[39m Expression(body\u001b[38;5;241m=\u001b[39mnode)\n",
      "File \u001b[0;32m/workspaces/ling516/phosphorus/__init__.py:117\u001b[0m, in \u001b[0;36mFunction.__init__\u001b[0;34m(self, s, stype)\u001b[0m\n\u001b[1;32m    115\u001b[0m \u001b[38;5;28;01mdef\u001b[39;00m \u001b[38;5;21m__init__\u001b[39m(\u001b[38;5;28mself\u001b[39m, s, stype):\n\u001b[1;32m    116\u001b[0m   \u001b[38;5;28;01mif\u001b[39;00m \u001b[38;5;129;01mnot\u001b[39;00m stype\u001b[38;5;241m.\u001b[39misfunction():\n\u001b[0;32m--> 117\u001b[0m     \u001b[38;5;28;01mraise\u001b[39;00m \u001b[38;5;167;01mValueError\u001b[39;00m(\u001b[38;5;124mf\u001b[39m\u001b[38;5;124m'\u001b[39m\u001b[38;5;124mInvalid type for \u001b[39m\u001b[38;5;124m\"\u001b[39m\u001b[38;5;132;01m{\u001b[39;00ms\u001b[38;5;132;01m}\u001b[39;00m\u001b[38;5;124m\"\u001b[39m\u001b[38;5;124m: \u001b[39m\u001b[38;5;132;01m{\u001b[39;00mstype\u001b[38;5;132;01m}\u001b[39;00m\u001b[38;5;124m'\u001b[39m)\n\u001b[1;32m    118\u001b[0m   \u001b[38;5;28mself\u001b[39m\u001b[38;5;241m.\u001b[39mtype \u001b[38;5;241m=\u001b[39m stype\n\u001b[1;32m    119\u001b[0m   node \u001b[38;5;241m=\u001b[39m parse(s, mode\u001b[38;5;241m=\u001b[39m\u001b[38;5;124m'\u001b[39m\u001b[38;5;124meval\u001b[39m\u001b[38;5;124m'\u001b[39m)\u001b[38;5;241m.\u001b[39mbody\n",
      "\u001b[0;31mValueError\u001b[0m: Invalid type for \"lambda x: f(x) and GRAY(x)\": 't'"
     ]
    },
    {
     "data": {
      "text/plain": [
       "Function(\"lambda f: lambda x: f(x) and GRAY(x)\", Type(('e', 't')))"
      ]
     },
     "execution_count": 4,
     "metadata": {},
     "output_type": "execute_result"
    }
   ],
   "source": [
    "'lambda f:lambda x: f(x) and GRAY(x)'.et"
   ]
  },
  {
   "cell_type": "code",
   "execution_count": null,
   "metadata": {},
   "outputs": [
    {
     "data": {
      "text/html": [
       "λy . λz . INTRODUCED(z, S, y)\n",
       "        <span style='float:right; font-family:monospace; margin-right:75px;\n",
       "              font-weight:bold; background-color:#e5e5ff'>\n",
       "          ('e', ('e', 't'))</span>"
      ],
      "text/plain": [
       "Function(\"lambda y: lambda z: INTRODUCED(z, S, y)\", Type(('e', ('e', 't'))))"
      ]
     },
     "execution_count": 5,
     "metadata": {},
     "output_type": "execute_result"
    }
   ],
   "source": [
    "'(lambda x: lambda y: lambda z: INTRODUCED(z,x,y))(S)'.eet"
   ]
  },
  {
   "cell_type": "markdown",
   "metadata": {},
   "source": [
    "a. [λx.[λy.[λz.z introduced x to y]]](Ann)(Sue)\n",
    "\n",
    "b. [λx.[λy.[λz.z introduced x to y](Ann)](Sue)]\n",
    "\n",
    "c. [λx.[λy.[λz.z introduced x to y](Ann)]](Sue) \n",
    "\n",
    "d. [λx.[λy.[λz.z introduced x to y]](Ann)](Sue)\n",
    "\n",
    "e. [λf.[λx.f(x)=1 and x is gray]]([λy.y is a cat])\n",
    "\n",
    "f. [λg.[λx.g(x)(Ann)=1]]([λy.[λz.z saw y]])\n",
    "\n",
    "g. [λm.[λn.n>3 and n<7](m)] \n",
    "\n",
    "h. [λm.[λn.[λo.o>3 and o<7](n)](m)] "
   ]
  },
  {
   "cell_type": "code",
   "execution_count": null,
   "metadata": {},
   "outputs": [
    {
     "data": {
      "text/html": [
       "λx . SAW(Ann, x)\n",
       "        <span style='float:right; font-family:monospace; margin-right:75px;\n",
       "              font-weight:bold; background-color:#e5e5ff'>\n",
       "          (('e', 't'), ('e', 't'))</span>"
      ],
      "text/plain": [
       "Function(\"lambda x: SAW(Ann, x)\", Type((('e', 't'), ('e', 't'))))"
      ]
     },
     "execution_count": 6,
     "metadata": {},
     "output_type": "execute_result"
    },
    {
     "data": {
      "text/html": [
       "λn . n > 3 and 3 < 7\n",
       "        <span style='float:right; font-family:monospace; margin-right:75px;\n",
       "              font-weight:bold; background-color:#e5e5ff'>\n",
       "          ('e', 't')</span>"
      ],
      "text/plain": [
       "Function(\"lambda n: n > 3 and 3 < 7\", Type(('e', 't')))"
      ]
     },
     "execution_count": 6,
     "metadata": {},
     "output_type": "execute_result"
    }
   ],
   "source": [
    "'lambda g: (lambda x:g(x)(Ann))'.eet_et('lambda y:lambda z:SAW(z,y)'.eet)\n",
    "\n",
    "'lambda m: lambda n:n>3 and m<7'.eet('3'.e)"
   ]
  },
  {
   "cell_type": "code",
   "execution_count": null,
   "metadata": {},
   "outputs": [
    {
     "data": {
      "text/html": [
       "λx . CAT(x) and GRAY(x)\n",
       "        <span style='float:right; font-family:monospace; margin-right:75px;\n",
       "              font-weight:bold; background-color:#e5e5ff'>\n",
       "          ('e', 't')</span>"
      ],
      "text/plain": [
       "Function(\"lambda x: CAT(x) and GRAY(x)\", Type(('e', 't')))"
      ]
     },
     "execution_count": 7,
     "metadata": {},
     "output_type": "execute_result"
    },
    {
     "data": {
      "text/html": [
       "λf . f(A)\n",
       "        <span style='float:right; font-family:monospace; margin-right:75px;\n",
       "              font-weight:bold; background-color:#e5e5ff'>\n",
       "          ('e', (('e', 't'), ('e', 't')))</span>"
      ],
      "text/plain": [
       "Function(\"lambda f: f(A)\", Type(('e', (('e', 't'), ('e', 't')))))"
      ]
     },
     "execution_count": 7,
     "metadata": {},
     "output_type": "execute_result"
    },
    {
     "data": {
      "text/html": [
       "λy . FOO(A, y)\n",
       "        <span style='float:right; font-family:monospace; margin-right:75px;\n",
       "              font-weight:bold; background-color:#e5e5ff'>\n",
       "          (('e', 't'), ('e', 't'))</span>"
      ],
      "text/plain": [
       "Function(\"lambda y: FOO(A, y)\", Type((('e', 't'), ('e', 't'))))"
      ]
     },
     "execution_count": 7,
     "metadata": {},
     "output_type": "execute_result"
    }
   ],
   "source": [
    "catf = 'lambda y:CAT(y)'.et\n",
    "\n",
    "ff = 'lambda f: lambda x: f(x) and GRAY(x)'.et_et\n",
    "ff(catf)\n",
    "\n",
    "gg = 'lambda f: f(A)'.eet_et\n",
    "gg\n",
    "gg('lambda x:lambda y:FOO(x,y)'.eet)"
   ]
  },
  {
   "cell_type": "code",
   "execution_count": null,
   "metadata": {},
   "outputs": [
    {
     "ename": "NameError",
     "evalue": "name 'GRAY' is not defined",
     "output_type": "error",
     "traceback": [
      "\u001b[0;31m---------------------------------------------------------------------------\u001b[0m",
      "\u001b[0;31mNameError\u001b[0m                                 Traceback (most recent call last)",
      "Cell \u001b[0;32mIn[8], line 1\u001b[0m\n\u001b[0;32m----> 1\u001b[0m Function(\u001b[38;5;124m'\u001b[39m\u001b[38;5;124mlambda y: CAT(y)\u001b[39m\u001b[38;5;124m'\u001b[39m, Type((\u001b[38;5;124m'\u001b[39m\u001b[38;5;124me\u001b[39m\u001b[38;5;124m'\u001b[39m, \u001b[38;5;124m'\u001b[39m\u001b[38;5;124mt\u001b[39m\u001b[38;5;124m'\u001b[39m)))(\u001b[38;5;124m'\u001b[39m\u001b[38;5;124mx\u001b[39m\u001b[38;5;124m'\u001b[39m) \u001b[38;5;129;01mand\u001b[39;00m \u001b[43mGRAY\u001b[49m(\u001b[38;5;124m'\u001b[39m\u001b[38;5;124mx\u001b[39m\u001b[38;5;124m'\u001b[39m)\n",
      "\u001b[0;31mNameError\u001b[0m: name 'GRAY' is not defined"
     ]
    }
   ],
   "source": [
    "Function('lambda y: CAT(y)', Type(('e', 't')))('x') and GRAY('x')"
   ]
  },
  {
   "cell_type": "code",
   "execution_count": null,
   "metadata": {},
   "outputs": [
    {
     "ename": "SyntaxError",
     "evalue": "invalid syntax (<unknown>, line 1)",
     "output_type": "error",
     "traceback": [
      "Traceback \u001b[0;36m(most recent call last)\u001b[0m:\n",
      "\u001b[0m  File \u001b[1;32m~/.local/lib/python3.12/site-packages/IPython/core/interactiveshell.py:3577\u001b[0m in \u001b[1;35mrun_code\u001b[0m\n    exec(code_obj, self.user_global_ns, self.user_ns)\u001b[0m\n",
      "\u001b[0m  Cell \u001b[1;32mIn[3], line 2\u001b[0m\n    ast.dump(ast.parse('x smokes', mode= 'eval'))\u001b[0m\n",
      "\u001b[0;36m  File \u001b[0;32m~/.python/current/lib/python3.12/ast.py:52\u001b[0;36m in \u001b[0;35mparse\u001b[0;36m\n\u001b[0;31m    return compile(source, filename, mode, flags,\u001b[0;36m\n",
      "\u001b[0;36m  File \u001b[0;32m<unknown>:1\u001b[0;36m\u001b[0m\n\u001b[0;31m    x smokes\u001b[0m\n\u001b[0m      ^\u001b[0m\n\u001b[0;31mSyntaxError\u001b[0m\u001b[0;31m:\u001b[0m invalid syntax\n"
     ]
    }
   ],
   "source": [
    "import ast\n",
    "ast.dump(ast.parse('x smokes', mode= 'eval'))"
   ]
  }
 ],
 "metadata": {
  "kernelspec": {
   "display_name": "Python 3",
   "language": "python",
   "name": "python3"
  },
  "language_info": {
   "codemirror_mode": {
    "name": "ipython",
    "version": 3
   },
   "file_extension": ".py",
   "mimetype": "text/x-python",
   "name": "python",
   "nbconvert_exporter": "python",
   "pygments_lexer": "ipython3",
   "version": "3.12.1"
  }
 },
 "nbformat": 4,
 "nbformat_minor": 2
}
