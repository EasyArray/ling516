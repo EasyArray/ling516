{
 "cells": [
  {
   "cell_type": "code",
   "execution_count": 1,
   "metadata": {},
   "outputs": [
    {
     "name": "stdout",
     "output_type": "stream",
     "text": [
      "\n",
      "             _    _                  _    _\n",
      "            | |  | |                | |  | |\n",
      "           _| |_ | |__   ___  ___  _| |_ | |__   ___  _ __ _   _  ____\n",
      "          /     \\| '_ \\ / _ \\/ __|/     \\| '_ \\ / _ \\| '__| | | |/ ___)\n",
      "         ( (| |) ) | | | (_) \\__ ( (| |) ) | | | (_) | |  | |_| ( (__\n",
      "          \\_   _/|_| |_|\\___/|___/\\_   _/|_| |_|\\___/|_|   \\__,_|\\__ \\\n",
      "            | |                     | |                            _) )\n",
      "            |_|                     |_|                           (__/\n",
      "\n",
      "        Welcome to the Phosphorus Meaning Engine v3\n",
      "        Created by Ezra Keshet (EzraKeshet.com)\n",
      "\n",
      "\n"
     ]
    }
   ],
   "source": [
    "from phosphorus import *\n",
    "%config InteractiveShell.ast_node_interactivity='all'"
   ]
  },
  {
   "cell_type": "code",
   "execution_count": 2,
   "metadata": {},
   "outputs": [
    {
     "name": "stdout",
     "output_type": "stream",
     "text": [
      "visiting 'B' Constant(value='B') None\n",
      "CONTEXT dict_keys([])\n",
      "visiting 'C' Constant(value='C') None\n",
      "CONTEXT dict_keys([])\n",
      "visiting 'B' Constant(value='B') None\n",
      "CONTEXT dict_keys([])\n"
     ]
    },
    {
     "data": {
      "text/html": [
       "'B'\n",
       "        <span style='float:right; font-family:monospace; margin-right:75px;\n",
       "              font-weight:bold; background-color:#e5e5ff; color:#000'>\n",
       "          'e'</span>"
      ],
      "text/plain": [
       "'B'"
      ]
     },
     "execution_count": 2,
     "metadata": {},
     "output_type": "execute_result"
    },
    {
     "name": "stdout",
     "output_type": "stream",
     "text": [
      "visiting 'B' Constant(value='B') None\n",
      "CONTEXT dict_keys([])\n"
     ]
    },
    {
     "data": {
      "text/plain": [
       "True"
      ]
     },
     "execution_count": 2,
     "metadata": {},
     "output_type": "execute_result"
    },
    {
     "name": "stderr",
     "output_type": "stream",
     "text": [
      "\u001b[90mEvaluated (lambda x: (lambda y: SNORES(y))(x))(B) to 1\u001b[0m\n"
     ]
    },
    {
     "name": "stdout",
     "output_type": "stream",
     "text": [
      "visiting (lambda x: (lambda y: SNORES(y))(x))(B) Call(func=Lambda(args=arguments(posonlyargs=[], args=[arg(arg='x')], kwonlyargs=[], kw_defaults=[], defaults=[]), body=Call(func=Lambda(args=arguments(posonlyargs=[], args=[arg(arg='y')], kwonlyargs=[], kw_defaults=[], defaults=[]), body=Call(func=Name(id='SNORES', ctx=Load()), args=[Name(id='y', ctx=Load())], keywords=[])), args=[Name(id='x', ctx=Load())], keywords=[])), args=[Name(id='B', ctx=Load())], keywords=[]) None\n",
      "CONTEXT dict_keys(['SNORES', 'B'])\n"
     ]
    },
    {
     "data": {
      "text/html": [
       "1\n",
       "        <span style='float:right; font-family:monospace; margin-right:75px;\n",
       "              font-weight:bold; background-color:#e5e5ff; color:#000'>\n",
       "          ('e', 't')</span>"
      ],
      "text/plain": [
       "1"
      ]
     },
     "execution_count": 2,
     "metadata": {},
     "output_type": "execute_result"
    }
   ],
   "source": [
    "SNORES = Predicate({('A',), (PV.e('B'),)})\n",
    "C = PV.e('C')\n",
    "B = PV.e('B')\n",
    "B\n",
    "B == PV.e('B')\n",
    "console_handler.setLevel(logging.DEBUG)\n",
    "\"(lambda x: (lambda y : SNORES(y))(x))(B)\".et\n",
    "console_handler.setLevel(logging.INFO)"
   ]
  },
  {
   "cell_type": "code",
   "execution_count": 3,
   "metadata": {},
   "outputs": [
    {
     "name": "stderr",
     "output_type": "stream",
     "text": [
      "Interpreting (0, 'he_0') with parameters: ({},)\u001b[0m\n",
      "   Interpreting 0 with parameters: (({},),)\u001b[0m\n",
      "   => 0 = 0 \t(TN)\u001b[0m\n",
      "   Interpreting he_0 with parameters: (({},),)\u001b[0m\n",
      "\u001b[90mEvaluated g[i] to {}\u001b[0m\n",
      "   => he_0 = {} \t(TP)\u001b[0m\n",
      "\u001b[90mError evaluating lambda x: m.i(beta, g | {i: x}) Lambda(args=arguments(posonlyargs=[], args=[arg(arg='x')], kwonlyargs=[], kw_defaults=[], defaults=[]), body=Call(func=Attribute(value=Name(id='m', ctx=Load()), attr='i', ctx=Load()), args=[Name(id='beta', ctx=Load()), BinOp(left=Name(id='g', ctx=Load()), op=BitOr(), right=Dict(keys=[Name(id='i', ctx=Load())], values=[Name(id='x', ctx=Load())]))], keywords=[]))\u001b[0m\n",
      "\u001b[90mERROR: invalid syntax (<unknown>, line 1)\u001b[0m\n",
      "\u001b[90mError evaluating m.i(beta, g | {i: x}) Call(func=Attribute(value=Name(id='m', ctx=Load()), attr='i', ctx=Load()), args=[Name(id='beta', ctx=Load()), BinOp(left=Name(id='g', ctx=Load()), op=BitOr(), right=Dict(keys=[Name(id='i', ctx=Load())], values=[Name(id='x', ctx=Load())]))], keywords=[])\u001b[0m\n",
      "\u001b[90mERROR: name 'x' is not defined\u001b[0m\n",
      "\u001b[90mCALL visiting Call m.i(beta, g | {i: x})\n",
      "Call(func=Attribute(value=Name(id='m', ctx=Load()), attr='i', ctx=Load()), args=[Name(id='beta', ctx=Load()), BinOp(left=Name(id='g', ctx=Load()), op=BitOr(), right=Dict(keys=[Name(id='i', ctx=Load())], values=[Name(id='x', ctx=Load())]))], keywords=[])\u001b[0m\n",
      "\u001b[90mError evaluating m.i Attribute(value=Name(id='m', ctx=Load()), attr='i', ctx=Load())\u001b[0m\n",
      "\u001b[90mERROR: invalid syntax (<unknown>, line 1)\u001b[0m\n",
      "\u001b[90mError evaluating m Name(id='m', ctx=Load())\u001b[0m\n",
      "\u001b[90mERROR: invalid syntax (<unknown>, line 1)\u001b[0m\n",
      "\u001b[90mError toasting m: compile() arg 1 must be a string, bytes or AST object\u001b[0m\n",
      "\u001b[90mEvaluated beta to 'he_0'\u001b[0m\n",
      "\u001b[90mError evaluating g | {i: x} BinOp(left=Name(id='g', ctx=Load()), op=BitOr(), right=Dict(keys=[Name(id='i', ctx=Load())], values=[Name(id='x', ctx=Load())]))\u001b[0m\n",
      "\u001b[90mERROR: name 'x' is not defined\u001b[0m\n",
      "\u001b[90mEvaluated g to {}\u001b[0m\n",
      "\u001b[90mError evaluating {i: x} Dict(keys=[Name(id='i', ctx=Load())], values=[Name(id='x', ctx=Load())])\u001b[0m\n",
      "\u001b[90mERROR: name 'x' is not defined\u001b[0m\n",
      "\u001b[90mEvaluated i to 0\u001b[0m\n",
      "\u001b[90mError evaluating x Name(id='x', ctx=Load())\u001b[0m\n",
      "\u001b[90mERROR: name 'x' is not defined\u001b[0m\n",
      "\u001b[90mAST PARAMS [<ast.Constant object at 0x75eb8c64f110>, <ast.Dict object at 0x75eb8c60b610>] [\"'he_0'\", \"Dict(keys=[Constant(value=0)], values=[Name(id='x', ctx=Load())])\"]\u001b[0m\n",
      "   Interpreting he_0 with parameters: (<ast.Dict object at 0x75eb5cb09110>,)\u001b[0m\n",
      "\u001b[90mError evaluating g[i] Subscript(value=Name(id='g', ctx=Load()), slice=Name(id='i', ctx=Load()), ctx=Load())\u001b[0m\n",
      "\u001b[90mERROR: 'Dict' object is not subscriptable\u001b[0m\n",
      "\u001b[90mEvaluated g to {0: x}\u001b[0m\n",
      "\u001b[90mEvaluated i to 0\u001b[0m\n",
      "   => he_0 = x \t(TP)\u001b[0m\n",
      "\u001b[90mEvaluated m.i('he_0', Dict(keys=[Constant(value=0)], values=[Name(id='x', ctx=Load())])) to x\u001b[0m\n",
      "=> (0, 'he_0') = lambda x: x \t(PA)\u001b[0m\n",
      "\u001b[90mEvaluated m.i((0, 'he_0'), {}) to lambda x: x\u001b[0m\n"
     ]
    },
    {
     "name": "stdout",
     "output_type": "stream",
     "text": [
      "visiting lambda x: SNORES(x) Lambda(args=arguments(posonlyargs=[], args=[arg(arg='x')], kwonlyargs=[], kw_defaults=[], defaults=[]), body=Call(func=Name(id='SNORES', ctx=Load()), args=[Name(id='x', ctx=Load())], keywords=[])) None\n",
      "CONTEXT dict_keys(['SNORES'])\n",
      "visiting SNORES(x) Call(func=Name(id='SNORES', ctx=Load()), args=[Name(id='x', ctx=Load())], keywords=[]) None\n",
      "CONTEXT dict_keys(['SNORES'])\n",
      "visiting SNORES Name(id='SNORES', ctx=Load()) None\n",
      "CONTEXT dict_keys(['SNORES'])\n",
      "visiting x Name(id='x', ctx=Load()) None\n",
      "CONTEXT dict_keys(['SNORES'])\n",
      "visiting Predicate({('B',), ('A',)})(Name(id='x', ctx=Load())) Call(func=Call(func=Name(id='Predicate', ctx=Load()), args=[Set(elts=[Tuple(elts=[Constant(value='B')], ctx=Load()), Tuple(elts=[Constant(value='A')], ctx=Load())])], keywords=[]), args=[Call(func=Name(id='Name', ctx=Load()), args=[], keywords=[keyword(arg='id', value=Constant(value='x')), keyword(arg='ctx', value=Call(func=Name(id='Load', ctx=Load()), args=[], keywords=[]))])], keywords=[]) None\n",
      "CONTEXT dict_keys(['SNORES'])\n",
      "visiting Predicate({('B',), ('A',)}) Call(func=Name(id='Predicate', ctx=Load()), args=[Set(elts=[Tuple(elts=[Constant(value='B')], ctx=Load()), Tuple(elts=[Constant(value='A')], ctx=Load())])], keywords=[]) None\n",
      "CONTEXT dict_keys(['SNORES'])\n",
      "visiting Name(id='x', ctx=Load()) Call(func=Name(id='Name', ctx=Load()), args=[], keywords=[keyword(arg='id', value=Constant(value='x')), keyword(arg='ctx', value=Call(func=Name(id='Load', ctx=Load()), args=[], keywords=[]))]) None\n",
      "CONTEXT dict_keys(['SNORES'])\n",
      "visiting m.i((0, 'he_0'), {}) Call(func=Attribute(value=Name(id='m', ctx=Load()), attr='i', ctx=Load()), args=[Tuple(elts=[Constant(value=0), Constant(value='he_0')], ctx=Load()), Dict(keys=[], values=[])], keywords=[]) None\n",
      "CONTEXT dict_keys(['m'])\n",
      "visiting g[i] Subscript(value=Name(id='g', ctx=Load()), slice=Name(id='i', ctx=Load()), ctx=Load()) None\n",
      "CONTEXT dict_keys(['g', 'i'])\n",
      "visiting lambda x: m.i(beta, g | {i: x}) Lambda(args=arguments(posonlyargs=[], args=[arg(arg='x')], kwonlyargs=[], kw_defaults=[], defaults=[]), body=Call(func=Attribute(value=Name(id='m', ctx=Load()), attr='i', ctx=Load()), args=[Name(id='beta', ctx=Load()), BinOp(left=Name(id='g', ctx=Load()), op=BitOr(), right=Dict(keys=[Name(id='i', ctx=Load())], values=[Name(id='x', ctx=Load())]))], keywords=[])) None\n",
      "CONTEXT dict_keys(['m', 'beta', 'g', 'i'])\n",
      "visiting m.i(beta, g | {i: x}) Call(func=Attribute(value=Name(id='m', ctx=Load()), attr='i', ctx=Load()), args=[Name(id='beta', ctx=Load()), BinOp(left=Name(id='g', ctx=Load()), op=BitOr(), right=Dict(keys=[Name(id='i', ctx=Load())], values=[Name(id='x', ctx=Load())]))], keywords=[]) None\n",
      "CONTEXT dict_keys(['m', 'beta', 'g', 'i'])\n",
      "visiting m.i Attribute(value=Name(id='m', ctx=Load()), attr='i', ctx=Load()) None\n",
      "CONTEXT dict_keys(['m', 'beta', 'g', 'i'])\n",
      "visiting m Name(id='m', ctx=Load()) None\n",
      "CONTEXT dict_keys(['m', 'beta', 'g', 'i'])\n",
      "visiting beta Name(id='beta', ctx=Load()) None\n",
      "CONTEXT dict_keys(['m', 'beta', 'g', 'i'])\n",
      "visiting g | {i: x} BinOp(left=Name(id='g', ctx=Load()), op=BitOr(), right=Dict(keys=[Name(id='i', ctx=Load())], values=[Name(id='x', ctx=Load())])) None\n",
      "CONTEXT dict_keys(['m', 'beta', 'g', 'i'])\n",
      "visiting g Name(id='g', ctx=Load()) None\n",
      "CONTEXT dict_keys(['m', 'beta', 'g', 'i'])\n",
      "visiting {i: x} Dict(keys=[Name(id='i', ctx=Load())], values=[Name(id='x', ctx=Load())]) None\n",
      "CONTEXT dict_keys(['m', 'beta', 'g', 'i'])\n",
      "visiting i Name(id='i', ctx=Load()) None\n",
      "CONTEXT dict_keys(['m', 'beta', 'g', 'i'])\n",
      "visiting x Name(id='x', ctx=Load()) None\n",
      "CONTEXT dict_keys(['m', 'beta', 'g', 'i'])\n",
      "visiting m.i('he_0', Dict(keys=[Constant(value=0)], values=[Name(id='x', ctx=Load())])) Call(func=Attribute(value=Name(id='m', ctx=Load()), attr='i', ctx=Load()), args=[Constant(value='he_0'), Call(func=Name(id='Dict', ctx=Load()), args=[], keywords=[keyword(arg='keys', value=List(elts=[Call(func=Name(id='Constant', ctx=Load()), args=[], keywords=[keyword(arg='value', value=Constant(value=0))])], ctx=Load())), keyword(arg='values', value=List(elts=[Call(func=Name(id='Name', ctx=Load()), args=[], keywords=[keyword(arg='id', value=Constant(value='x')), keyword(arg='ctx', value=Call(func=Name(id='Load', ctx=Load()), args=[], keywords=[]))])], ctx=Load()))])], keywords=[]) None\n",
      "CONTEXT dict_keys(['m', 'beta', 'g', 'i'])\n",
      "visiting g[i] Subscript(value=Name(id='g', ctx=Load()), slice=Name(id='i', ctx=Load()), ctx=Load()) None\n",
      "CONTEXT dict_keys(['g', 'i'])\n",
      "visiting g Name(id='g', ctx=Load()) None\n",
      "CONTEXT dict_keys(['g', 'i'])\n",
      "visiting i Name(id='i', ctx=Load()) None\n",
      "CONTEXT dict_keys(['g', 'i'])\n"
     ]
    },
    {
     "data": {
      "text/html": [
       "lambda x: x\n",
       "        <span style='float:right; font-family:monospace; margin-right:75px;\n",
       "              font-weight:bold; background-color:#e5e5ff; color:#000'>\n",
       "          ('e', 'e')</span>"
      ],
      "text/plain": [
       "lambda x: x"
      ]
     },
     "execution_count": 3,
     "metadata": {},
     "output_type": "execute_result"
    }
   ],
   "source": [
    "class MeaningPV(Meaning):\n",
    "  def rules(self, alpha, g={}):\n",
    "    value, rule = None, None\n",
    "    m = self(g)\n",
    "    match alpha:\n",
    "      # PA\n",
    "      case (int() as i, beta):\n",
    "        rule = 'PA'\n",
    "        m = self\n",
    "        value = (lambda x : m.i(beta, g | {i:x})).ee        \n",
    "\n",
    "      # TP\n",
    "      case str() if '_' in alpha and alpha.split('_')[1].isdigit():\n",
    "        i = int(alpha.split('_')[1])\n",
    "        rule = 'TP'\n",
    "        value = 'g[i]'.e\n",
    "\n",
    "      case int() as i:\n",
    "        rule = 'TN'\n",
    "        value = i\n",
    "\n",
    "      case str() as s:\n",
    "        rule = 'PN'\n",
    "        value = self.lookup(s)\n",
    "\n",
    "    return value, rule\n",
    "\n",
    "m = MeaningPV({\n",
    "  'snores' : 'lambda x: SNORES(x)'.et,\n",
    "#  'Allie' : 'A'.e\n",
    "})\n",
    "\n",
    "console_handler.setLevel(logging.DEBUG)\n",
    "PV(m.i((0, 'he_0'), {}))\n",
    "console_handler.setLevel(logging.INFO)"
   ]
  },
  {
   "cell_type": "code",
   "execution_count": 4,
   "metadata": {},
   "outputs": [
    {
     "ename": "NameError",
     "evalue": "name 'STOP' is not defined",
     "output_type": "error",
     "traceback": [
      "\u001b[0;31m---------------------------------------------------------------------------\u001b[0m",
      "\u001b[0;31mNameError\u001b[0m                                 Traceback (most recent call last)",
      "Cell \u001b[0;32mIn[4], line 1\u001b[0m\n\u001b[0;32m----> 1\u001b[0m \u001b[43mSTOP\u001b[49m\n",
      "\u001b[0;31mNameError\u001b[0m: name 'STOP' is not defined"
     ]
    }
   ],
   "source": [
    "STOP"
   ]
  },
  {
   "cell_type": "code",
   "execution_count": null,
   "metadata": {},
   "outputs": [
    {
     "ename": "RecursionError",
     "evalue": "maximum recursion depth exceeded",
     "output_type": "error",
     "traceback": [
      "\u001b[0;31m---------------------------------------------------------------------------\u001b[0m",
      "\u001b[0;31mRecursionError\u001b[0m                            Traceback (most recent call last)",
      "File \u001b[0;32m~/.local/lib/python3.12/site-packages/IPython/core/formatters.py:406\u001b[0m, in \u001b[0;36mBaseFormatter.__call__\u001b[0;34m(self, obj)\u001b[0m\n\u001b[1;32m    404\u001b[0m     method \u001b[38;5;241m=\u001b[39m get_real_method(obj, \u001b[38;5;28mself\u001b[39m\u001b[38;5;241m.\u001b[39mprint_method)\n\u001b[1;32m    405\u001b[0m     \u001b[38;5;28;01mif\u001b[39;00m method \u001b[38;5;129;01mis\u001b[39;00m \u001b[38;5;129;01mnot\u001b[39;00m \u001b[38;5;28;01mNone\u001b[39;00m:\n\u001b[0;32m--> 406\u001b[0m         \u001b[38;5;28;01mreturn\u001b[39;00m \u001b[43mmethod\u001b[49m\u001b[43m(\u001b[49m\u001b[43m)\u001b[49m\n\u001b[1;32m    407\u001b[0m     \u001b[38;5;28;01mreturn\u001b[39;00m \u001b[38;5;28;01mNone\u001b[39;00m\n\u001b[1;32m    408\u001b[0m \u001b[38;5;28;01melse\u001b[39;00m:\n",
      "File \u001b[0;32m/workspaces/ling516/phosphorus/semval.py:95\u001b[0m, in \u001b[0;36mPV._repr_html_\u001b[0;34m(self)\u001b[0m\n\u001b[1;32m     94\u001b[0m \u001b[38;5;28;01mdef\u001b[39;00m \u001b[38;5;21m_repr_html_\u001b[39m(\u001b[38;5;28mself\u001b[39m):\n\u001b[0;32m---> 95\u001b[0m   \u001b[38;5;28;01mreturn\u001b[39;00m \u001b[38;5;124mf\u001b[39m\u001b[38;5;124m\"\"\"\u001b[39m\u001b[38;5;132;43;01m{\u001b[39;49;00m\u001b[38;5;28;43mself\u001b[39;49m\u001b[38;5;132;43;01m}\u001b[39;49;00m\n\u001b[1;32m     96\u001b[0m \u001b[38;5;124m      <span style=\u001b[39m\u001b[38;5;124m'\u001b[39m\u001b[38;5;124mfloat:right; font-family:monospace; margin-right:75px;\u001b[39m\n\u001b[1;32m     97\u001b[0m \u001b[38;5;124m            font-weight:bold; background-color:#e5e5ff; color:#000\u001b[39m\u001b[38;5;124m'\u001b[39m\u001b[38;5;124m>\u001b[39m\n\u001b[1;32m     98\u001b[0m \u001b[38;5;124m        \u001b[39m\u001b[38;5;132;01m{\u001b[39;00m\u001b[38;5;28mself\u001b[39m\u001b[38;5;241m.\u001b[39mtype\u001b[38;5;132;01m}\u001b[39;00m\u001b[38;5;124m</span>\u001b[39m\u001b[38;5;124m\"\"\"\u001b[39m\n",
      "File \u001b[0;32m/workspaces/ling516/phosphorus/semval.py:92\u001b[0m, in \u001b[0;36mPV.__str__\u001b[0;34m(self)\u001b[0m\n\u001b[1;32m     91\u001b[0m \u001b[38;5;28;01mdef\u001b[39;00m \u001b[38;5;21m__str__\u001b[39m(\u001b[38;5;28mself\u001b[39m):\n\u001b[0;32m---> 92\u001b[0m   \u001b[38;5;28;01mreturn\u001b[39;00m \u001b[43munparse\u001b[49m\u001b[43m(\u001b[49m\u001b[38;5;28;43mself\u001b[39;49m\u001b[43m)\u001b[49m\n",
      "File \u001b[0;32m~/.python/current/lib/python3.12/ast.py:1790\u001b[0m, in \u001b[0;36munparse\u001b[0;34m(ast_obj)\u001b[0m\n\u001b[1;32m   1788\u001b[0m \u001b[38;5;28;01mdef\u001b[39;00m \u001b[38;5;21munparse\u001b[39m(ast_obj):\n\u001b[1;32m   1789\u001b[0m     unparser \u001b[38;5;241m=\u001b[39m _Unparser()\n\u001b[0;32m-> 1790\u001b[0m     \u001b[38;5;28;01mreturn\u001b[39;00m \u001b[43munparser\u001b[49m\u001b[38;5;241;43m.\u001b[39;49m\u001b[43mvisit\u001b[49m\u001b[43m(\u001b[49m\u001b[43mast_obj\u001b[49m\u001b[43m)\u001b[49m\n",
      "File \u001b[0;32m~/.python/current/lib/python3.12/ast.py:859\u001b[0m, in \u001b[0;36m_Unparser.visit\u001b[0;34m(self, node)\u001b[0m\n\u001b[1;32m    856\u001b[0m \u001b[38;5;250m\u001b[39m\u001b[38;5;124;03m\"\"\"Outputs a source code string that, if converted back to an ast\u001b[39;00m\n\u001b[1;32m    857\u001b[0m \u001b[38;5;124;03m(using ast.parse) will generate an AST equivalent to *node*\"\"\"\u001b[39;00m\n\u001b[1;32m    858\u001b[0m \u001b[38;5;28mself\u001b[39m\u001b[38;5;241m.\u001b[39m_source \u001b[38;5;241m=\u001b[39m []\n\u001b[0;32m--> 859\u001b[0m \u001b[38;5;28;43mself\u001b[39;49m\u001b[38;5;241;43m.\u001b[39;49m\u001b[43mtraverse\u001b[49m\u001b[43m(\u001b[49m\u001b[43mnode\u001b[49m\u001b[43m)\u001b[49m\n\u001b[1;32m    860\u001b[0m \u001b[38;5;28;01mreturn\u001b[39;00m \u001b[38;5;124m\"\u001b[39m\u001b[38;5;124m\"\u001b[39m\u001b[38;5;241m.\u001b[39mjoin(\u001b[38;5;28mself\u001b[39m\u001b[38;5;241m.\u001b[39m_source)\n",
      "File \u001b[0;32m~/.python/current/lib/python3.12/ast.py:850\u001b[0m, in \u001b[0;36m_Unparser.traverse\u001b[0;34m(self, node)\u001b[0m\n\u001b[1;32m    848\u001b[0m         \u001b[38;5;28mself\u001b[39m\u001b[38;5;241m.\u001b[39mtraverse(item)\n\u001b[1;32m    849\u001b[0m \u001b[38;5;28;01melse\u001b[39;00m:\n\u001b[0;32m--> 850\u001b[0m     \u001b[38;5;28;43msuper\u001b[39;49m\u001b[43m(\u001b[49m\u001b[43m)\u001b[49m\u001b[38;5;241;43m.\u001b[39;49m\u001b[43mvisit\u001b[49m\u001b[43m(\u001b[49m\u001b[43mnode\u001b[49m\u001b[43m)\u001b[49m\n",
      "File \u001b[0;32m~/.python/current/lib/python3.12/ast.py:407\u001b[0m, in \u001b[0;36mNodeVisitor.visit\u001b[0;34m(self, node)\u001b[0m\n\u001b[1;32m    405\u001b[0m method \u001b[38;5;241m=\u001b[39m \u001b[38;5;124m'\u001b[39m\u001b[38;5;124mvisit_\u001b[39m\u001b[38;5;124m'\u001b[39m \u001b[38;5;241m+\u001b[39m node\u001b[38;5;241m.\u001b[39m\u001b[38;5;18m__class__\u001b[39m\u001b[38;5;241m.\u001b[39m\u001b[38;5;18m__name__\u001b[39m\n\u001b[1;32m    406\u001b[0m visitor \u001b[38;5;241m=\u001b[39m \u001b[38;5;28mgetattr\u001b[39m(\u001b[38;5;28mself\u001b[39m, method, \u001b[38;5;28mself\u001b[39m\u001b[38;5;241m.\u001b[39mgeneric_visit)\n\u001b[0;32m--> 407\u001b[0m \u001b[38;5;28;01mreturn\u001b[39;00m \u001b[43mvisitor\u001b[49m\u001b[43m(\u001b[49m\u001b[43mnode\u001b[49m\u001b[43m)\u001b[49m\n",
      "File \u001b[0;32m~/.python/current/lib/python3.12/ast.py:1679\u001b[0m, in \u001b[0;36m_Unparser.visit_Lambda\u001b[0;34m(self, node)\u001b[0m\n\u001b[1;32m   1678\u001b[0m \u001b[38;5;28;01mdef\u001b[39;00m \u001b[38;5;21mvisit_Lambda\u001b[39m(\u001b[38;5;28mself\u001b[39m, node):\n\u001b[0;32m-> 1679\u001b[0m     \u001b[38;5;28;01mwith\u001b[39;00m \u001b[38;5;28;43mself\u001b[39;49m\u001b[38;5;241;43m.\u001b[39;49m\u001b[43mrequire_parens\u001b[49m\u001b[43m(\u001b[49m\u001b[43m_Precedence\u001b[49m\u001b[38;5;241;43m.\u001b[39;49m\u001b[43mTEST\u001b[49m\u001b[43m,\u001b[49m\u001b[43m \u001b[49m\u001b[43mnode\u001b[49m\u001b[43m)\u001b[49m:\n\u001b[1;32m   1680\u001b[0m         \u001b[38;5;28mself\u001b[39m\u001b[38;5;241m.\u001b[39mwrite(\u001b[38;5;124m\"\u001b[39m\u001b[38;5;124mlambda\u001b[39m\u001b[38;5;124m\"\u001b[39m)\n\u001b[1;32m   1681\u001b[0m         \u001b[38;5;28;01mwith\u001b[39;00m \u001b[38;5;28mself\u001b[39m\u001b[38;5;241m.\u001b[39mbuffered() \u001b[38;5;28;01mas\u001b[39;00m buffer:\n",
      "File \u001b[0;32m~/.python/current/lib/python3.12/ast.py:815\u001b[0m, in \u001b[0;36m_Unparser.require_parens\u001b[0;34m(self, precedence, node)\u001b[0m\n\u001b[1;32m    813\u001b[0m \u001b[38;5;28;01mdef\u001b[39;00m \u001b[38;5;21mrequire_parens\u001b[39m(\u001b[38;5;28mself\u001b[39m, precedence, node):\n\u001b[1;32m    814\u001b[0m \u001b[38;5;250m    \u001b[39m\u001b[38;5;124;03m\"\"\"Shortcut to adding precedence related parens\"\"\"\u001b[39;00m\n\u001b[0;32m--> 815\u001b[0m     \u001b[38;5;28;01mreturn\u001b[39;00m \u001b[38;5;28mself\u001b[39m\u001b[38;5;241m.\u001b[39mdelimit_if(\u001b[38;5;124m\"\u001b[39m\u001b[38;5;124m(\u001b[39m\u001b[38;5;124m\"\u001b[39m, \u001b[38;5;124m\"\u001b[39m\u001b[38;5;124m)\u001b[39m\u001b[38;5;124m\"\u001b[39m, \u001b[38;5;28;43mself\u001b[39;49m\u001b[38;5;241;43m.\u001b[39;49m\u001b[43mget_precedence\u001b[49m\u001b[43m(\u001b[49m\u001b[43mnode\u001b[49m\u001b[43m)\u001b[49m \u001b[38;5;241m>\u001b[39m precedence)\n",
      "File \u001b[0;32m~/.python/current/lib/python3.12/ast.py:818\u001b[0m, in \u001b[0;36m_Unparser.get_precedence\u001b[0;34m(self, node)\u001b[0m\n\u001b[1;32m    817\u001b[0m \u001b[38;5;28;01mdef\u001b[39;00m \u001b[38;5;21mget_precedence\u001b[39m(\u001b[38;5;28mself\u001b[39m, node):\n\u001b[0;32m--> 818\u001b[0m     \u001b[38;5;28;01mreturn\u001b[39;00m \u001b[38;5;28;43mself\u001b[39;49m\u001b[38;5;241;43m.\u001b[39;49m\u001b[43m_precedences\u001b[49m\u001b[38;5;241;43m.\u001b[39;49m\u001b[43mget\u001b[49m\u001b[43m(\u001b[49m\u001b[43mnode\u001b[49m\u001b[43m,\u001b[49m\u001b[43m \u001b[49m\u001b[43m_Precedence\u001b[49m\u001b[38;5;241;43m.\u001b[39;49m\u001b[43mTEST\u001b[49m\u001b[43m)\u001b[49m\n",
      "File \u001b[0;32m/workspaces/ling516/phosphorus/semval.py:89\u001b[0m, in \u001b[0;36mPV.__hash__\u001b[0;34m(self)\u001b[0m\n\u001b[1;32m     88\u001b[0m \u001b[38;5;28;01mdef\u001b[39;00m \u001b[38;5;21m__hash__\u001b[39m(\u001b[38;5;28mself\u001b[39m):\n\u001b[0;32m---> 89\u001b[0m   \u001b[38;5;28;01mreturn\u001b[39;00m \u001b[38;5;28mhash\u001b[39m(\u001b[38;5;28;43mstr\u001b[39;49m\u001b[43m(\u001b[49m\u001b[38;5;28;43mself\u001b[39;49m\u001b[43m)\u001b[49m)\n",
      "File \u001b[0;32m/workspaces/ling516/phosphorus/semval.py:92\u001b[0m, in \u001b[0;36mPV.__str__\u001b[0;34m(self)\u001b[0m\n\u001b[1;32m     91\u001b[0m \u001b[38;5;28;01mdef\u001b[39;00m \u001b[38;5;21m__str__\u001b[39m(\u001b[38;5;28mself\u001b[39m):\n\u001b[0;32m---> 92\u001b[0m   \u001b[38;5;28;01mreturn\u001b[39;00m \u001b[43munparse\u001b[49m\u001b[43m(\u001b[49m\u001b[38;5;28;43mself\u001b[39;49m\u001b[43m)\u001b[49m\n",
      "File \u001b[0;32m~/.python/current/lib/python3.12/ast.py:1790\u001b[0m, in \u001b[0;36munparse\u001b[0;34m(ast_obj)\u001b[0m\n\u001b[1;32m   1788\u001b[0m \u001b[38;5;28;01mdef\u001b[39;00m \u001b[38;5;21munparse\u001b[39m(ast_obj):\n\u001b[1;32m   1789\u001b[0m     unparser \u001b[38;5;241m=\u001b[39m _Unparser()\n\u001b[0;32m-> 1790\u001b[0m     \u001b[38;5;28;01mreturn\u001b[39;00m \u001b[43munparser\u001b[49m\u001b[38;5;241;43m.\u001b[39;49m\u001b[43mvisit\u001b[49m\u001b[43m(\u001b[49m\u001b[43mast_obj\u001b[49m\u001b[43m)\u001b[49m\n",
      "File \u001b[0;32m~/.python/current/lib/python3.12/ast.py:859\u001b[0m, in \u001b[0;36m_Unparser.visit\u001b[0;34m(self, node)\u001b[0m\n\u001b[1;32m    856\u001b[0m \u001b[38;5;250m\u001b[39m\u001b[38;5;124;03m\"\"\"Outputs a source code string that, if converted back to an ast\u001b[39;00m\n\u001b[1;32m    857\u001b[0m \u001b[38;5;124;03m(using ast.parse) will generate an AST equivalent to *node*\"\"\"\u001b[39;00m\n\u001b[1;32m    858\u001b[0m \u001b[38;5;28mself\u001b[39m\u001b[38;5;241m.\u001b[39m_source \u001b[38;5;241m=\u001b[39m []\n\u001b[0;32m--> 859\u001b[0m \u001b[38;5;28;43mself\u001b[39;49m\u001b[38;5;241;43m.\u001b[39;49m\u001b[43mtraverse\u001b[49m\u001b[43m(\u001b[49m\u001b[43mnode\u001b[49m\u001b[43m)\u001b[49m\n\u001b[1;32m    860\u001b[0m \u001b[38;5;28;01mreturn\u001b[39;00m \u001b[38;5;124m\"\u001b[39m\u001b[38;5;124m\"\u001b[39m\u001b[38;5;241m.\u001b[39mjoin(\u001b[38;5;28mself\u001b[39m\u001b[38;5;241m.\u001b[39m_source)\n",
      "File \u001b[0;32m~/.python/current/lib/python3.12/ast.py:850\u001b[0m, in \u001b[0;36m_Unparser.traverse\u001b[0;34m(self, node)\u001b[0m\n\u001b[1;32m    848\u001b[0m         \u001b[38;5;28mself\u001b[39m\u001b[38;5;241m.\u001b[39mtraverse(item)\n\u001b[1;32m    849\u001b[0m \u001b[38;5;28;01melse\u001b[39;00m:\n\u001b[0;32m--> 850\u001b[0m     \u001b[38;5;28;43msuper\u001b[39;49m\u001b[43m(\u001b[49m\u001b[43m)\u001b[49m\u001b[38;5;241;43m.\u001b[39;49m\u001b[43mvisit\u001b[49m\u001b[43m(\u001b[49m\u001b[43mnode\u001b[49m\u001b[43m)\u001b[49m\n",
      "File \u001b[0;32m~/.python/current/lib/python3.12/ast.py:407\u001b[0m, in \u001b[0;36mNodeVisitor.visit\u001b[0;34m(self, node)\u001b[0m\n\u001b[1;32m    405\u001b[0m method \u001b[38;5;241m=\u001b[39m \u001b[38;5;124m'\u001b[39m\u001b[38;5;124mvisit_\u001b[39m\u001b[38;5;124m'\u001b[39m \u001b[38;5;241m+\u001b[39m node\u001b[38;5;241m.\u001b[39m\u001b[38;5;18m__class__\u001b[39m\u001b[38;5;241m.\u001b[39m\u001b[38;5;18m__name__\u001b[39m\n\u001b[1;32m    406\u001b[0m visitor \u001b[38;5;241m=\u001b[39m \u001b[38;5;28mgetattr\u001b[39m(\u001b[38;5;28mself\u001b[39m, method, \u001b[38;5;28mself\u001b[39m\u001b[38;5;241m.\u001b[39mgeneric_visit)\n\u001b[0;32m--> 407\u001b[0m \u001b[38;5;28;01mreturn\u001b[39;00m \u001b[43mvisitor\u001b[49m\u001b[43m(\u001b[49m\u001b[43mnode\u001b[49m\u001b[43m)\u001b[49m\n",
      "File \u001b[0;32m~/.python/current/lib/python3.12/ast.py:1679\u001b[0m, in \u001b[0;36m_Unparser.visit_Lambda\u001b[0;34m(self, node)\u001b[0m\n\u001b[1;32m   1678\u001b[0m \u001b[38;5;28;01mdef\u001b[39;00m \u001b[38;5;21mvisit_Lambda\u001b[39m(\u001b[38;5;28mself\u001b[39m, node):\n\u001b[0;32m-> 1679\u001b[0m     \u001b[38;5;28;01mwith\u001b[39;00m \u001b[38;5;28;43mself\u001b[39;49m\u001b[38;5;241;43m.\u001b[39;49m\u001b[43mrequire_parens\u001b[49m\u001b[43m(\u001b[49m\u001b[43m_Precedence\u001b[49m\u001b[38;5;241;43m.\u001b[39;49m\u001b[43mTEST\u001b[49m\u001b[43m,\u001b[49m\u001b[43m \u001b[49m\u001b[43mnode\u001b[49m\u001b[43m)\u001b[49m:\n\u001b[1;32m   1680\u001b[0m         \u001b[38;5;28mself\u001b[39m\u001b[38;5;241m.\u001b[39mwrite(\u001b[38;5;124m\"\u001b[39m\u001b[38;5;124mlambda\u001b[39m\u001b[38;5;124m\"\u001b[39m)\n\u001b[1;32m   1681\u001b[0m         \u001b[38;5;28;01mwith\u001b[39;00m \u001b[38;5;28mself\u001b[39m\u001b[38;5;241m.\u001b[39mbuffered() \u001b[38;5;28;01mas\u001b[39;00m buffer:\n",
      "File \u001b[0;32m~/.python/current/lib/python3.12/ast.py:815\u001b[0m, in \u001b[0;36m_Unparser.require_parens\u001b[0;34m(self, precedence, node)\u001b[0m\n\u001b[1;32m    813\u001b[0m \u001b[38;5;28;01mdef\u001b[39;00m \u001b[38;5;21mrequire_parens\u001b[39m(\u001b[38;5;28mself\u001b[39m, precedence, node):\n\u001b[1;32m    814\u001b[0m \u001b[38;5;250m    \u001b[39m\u001b[38;5;124;03m\"\"\"Shortcut to adding precedence related parens\"\"\"\u001b[39;00m\n\u001b[0;32m--> 815\u001b[0m     \u001b[38;5;28;01mreturn\u001b[39;00m \u001b[38;5;28mself\u001b[39m\u001b[38;5;241m.\u001b[39mdelimit_if(\u001b[38;5;124m\"\u001b[39m\u001b[38;5;124m(\u001b[39m\u001b[38;5;124m\"\u001b[39m, \u001b[38;5;124m\"\u001b[39m\u001b[38;5;124m)\u001b[39m\u001b[38;5;124m\"\u001b[39m, \u001b[38;5;28;43mself\u001b[39;49m\u001b[38;5;241;43m.\u001b[39;49m\u001b[43mget_precedence\u001b[49m\u001b[43m(\u001b[49m\u001b[43mnode\u001b[49m\u001b[43m)\u001b[49m \u001b[38;5;241m>\u001b[39m precedence)\n",
      "File \u001b[0;32m~/.python/current/lib/python3.12/ast.py:818\u001b[0m, in \u001b[0;36m_Unparser.get_precedence\u001b[0;34m(self, node)\u001b[0m\n\u001b[1;32m    817\u001b[0m \u001b[38;5;28;01mdef\u001b[39;00m \u001b[38;5;21mget_precedence\u001b[39m(\u001b[38;5;28mself\u001b[39m, node):\n\u001b[0;32m--> 818\u001b[0m     \u001b[38;5;28;01mreturn\u001b[39;00m \u001b[38;5;28;43mself\u001b[39;49m\u001b[38;5;241;43m.\u001b[39;49m\u001b[43m_precedences\u001b[49m\u001b[38;5;241;43m.\u001b[39;49m\u001b[43mget\u001b[49m\u001b[43m(\u001b[49m\u001b[43mnode\u001b[49m\u001b[43m,\u001b[49m\u001b[43m \u001b[49m\u001b[43m_Precedence\u001b[49m\u001b[38;5;241;43m.\u001b[39;49m\u001b[43mTEST\u001b[49m\u001b[43m)\u001b[49m\n",
      "File \u001b[0;32m/workspaces/ling516/phosphorus/semval.py:89\u001b[0m, in \u001b[0;36mPV.__hash__\u001b[0;34m(self)\u001b[0m\n\u001b[1;32m     88\u001b[0m \u001b[38;5;28;01mdef\u001b[39;00m \u001b[38;5;21m__hash__\u001b[39m(\u001b[38;5;28mself\u001b[39m):\n\u001b[0;32m---> 89\u001b[0m   \u001b[38;5;28;01mreturn\u001b[39;00m \u001b[38;5;28mhash\u001b[39m(\u001b[38;5;28;43mstr\u001b[39;49m\u001b[43m(\u001b[49m\u001b[38;5;28;43mself\u001b[39;49m\u001b[43m)\u001b[49m)\n",
      "    \u001b[0;31m[... skipping similar frames: PV.__hash__ at line 89 (292 times), PV.__str__ at line 92 (292 times), _Unparser.get_precedence at line 818 (292 times), _Unparser.require_parens at line 815 (292 times), _Unparser.traverse at line 850 (292 times), unparse at line 1790 (292 times), _Unparser.visit at line 859 (292 times), NodeVisitor.visit at line 407 (292 times), _Unparser.visit_Lambda at line 1679 (292 times)]\u001b[0m\n",
      "File \u001b[0;32m/workspaces/ling516/phosphorus/semval.py:92\u001b[0m, in \u001b[0;36mPV.__str__\u001b[0;34m(self)\u001b[0m\n\u001b[1;32m     91\u001b[0m \u001b[38;5;28;01mdef\u001b[39;00m \u001b[38;5;21m__str__\u001b[39m(\u001b[38;5;28mself\u001b[39m):\n\u001b[0;32m---> 92\u001b[0m   \u001b[38;5;28;01mreturn\u001b[39;00m \u001b[43munparse\u001b[49m\u001b[43m(\u001b[49m\u001b[38;5;28;43mself\u001b[39;49m\u001b[43m)\u001b[49m\n",
      "File \u001b[0;32m~/.python/current/lib/python3.12/ast.py:1790\u001b[0m, in \u001b[0;36munparse\u001b[0;34m(ast_obj)\u001b[0m\n\u001b[1;32m   1788\u001b[0m \u001b[38;5;28;01mdef\u001b[39;00m \u001b[38;5;21munparse\u001b[39m(ast_obj):\n\u001b[1;32m   1789\u001b[0m     unparser \u001b[38;5;241m=\u001b[39m _Unparser()\n\u001b[0;32m-> 1790\u001b[0m     \u001b[38;5;28;01mreturn\u001b[39;00m \u001b[43munparser\u001b[49m\u001b[38;5;241;43m.\u001b[39;49m\u001b[43mvisit\u001b[49m\u001b[43m(\u001b[49m\u001b[43mast_obj\u001b[49m\u001b[43m)\u001b[49m\n",
      "File \u001b[0;32m~/.python/current/lib/python3.12/ast.py:859\u001b[0m, in \u001b[0;36m_Unparser.visit\u001b[0;34m(self, node)\u001b[0m\n\u001b[1;32m    856\u001b[0m \u001b[38;5;250m\u001b[39m\u001b[38;5;124;03m\"\"\"Outputs a source code string that, if converted back to an ast\u001b[39;00m\n\u001b[1;32m    857\u001b[0m \u001b[38;5;124;03m(using ast.parse) will generate an AST equivalent to *node*\"\"\"\u001b[39;00m\n\u001b[1;32m    858\u001b[0m \u001b[38;5;28mself\u001b[39m\u001b[38;5;241m.\u001b[39m_source \u001b[38;5;241m=\u001b[39m []\n\u001b[0;32m--> 859\u001b[0m \u001b[38;5;28;43mself\u001b[39;49m\u001b[38;5;241;43m.\u001b[39;49m\u001b[43mtraverse\u001b[49m\u001b[43m(\u001b[49m\u001b[43mnode\u001b[49m\u001b[43m)\u001b[49m\n\u001b[1;32m    860\u001b[0m \u001b[38;5;28;01mreturn\u001b[39;00m \u001b[38;5;124m\"\u001b[39m\u001b[38;5;124m\"\u001b[39m\u001b[38;5;241m.\u001b[39mjoin(\u001b[38;5;28mself\u001b[39m\u001b[38;5;241m.\u001b[39m_source)\n",
      "File \u001b[0;32m~/.python/current/lib/python3.12/ast.py:850\u001b[0m, in \u001b[0;36m_Unparser.traverse\u001b[0;34m(self, node)\u001b[0m\n\u001b[1;32m    848\u001b[0m         \u001b[38;5;28mself\u001b[39m\u001b[38;5;241m.\u001b[39mtraverse(item)\n\u001b[1;32m    849\u001b[0m \u001b[38;5;28;01melse\u001b[39;00m:\n\u001b[0;32m--> 850\u001b[0m     \u001b[38;5;28;43msuper\u001b[39;49m\u001b[43m(\u001b[49m\u001b[43m)\u001b[49m\u001b[38;5;241;43m.\u001b[39;49m\u001b[43mvisit\u001b[49m\u001b[43m(\u001b[49m\u001b[43mnode\u001b[49m\u001b[43m)\u001b[49m\n",
      "File \u001b[0;32m~/.python/current/lib/python3.12/ast.py:407\u001b[0m, in \u001b[0;36mNodeVisitor.visit\u001b[0;34m(self, node)\u001b[0m\n\u001b[1;32m    405\u001b[0m method \u001b[38;5;241m=\u001b[39m \u001b[38;5;124m'\u001b[39m\u001b[38;5;124mvisit_\u001b[39m\u001b[38;5;124m'\u001b[39m \u001b[38;5;241m+\u001b[39m node\u001b[38;5;241m.\u001b[39m\u001b[38;5;18m__class__\u001b[39m\u001b[38;5;241m.\u001b[39m\u001b[38;5;18m__name__\u001b[39m\n\u001b[1;32m    406\u001b[0m visitor \u001b[38;5;241m=\u001b[39m \u001b[38;5;28mgetattr\u001b[39m(\u001b[38;5;28mself\u001b[39m, method, \u001b[38;5;28mself\u001b[39m\u001b[38;5;241m.\u001b[39mgeneric_visit)\n\u001b[0;32m--> 407\u001b[0m \u001b[38;5;28;01mreturn\u001b[39;00m \u001b[43mvisitor\u001b[49m\u001b[43m(\u001b[49m\u001b[43mnode\u001b[49m\u001b[43m)\u001b[49m\n",
      "File \u001b[0;32m~/.python/current/lib/python3.12/ast.py:1679\u001b[0m, in \u001b[0;36m_Unparser.visit_Lambda\u001b[0;34m(self, node)\u001b[0m\n\u001b[1;32m   1678\u001b[0m \u001b[38;5;28;01mdef\u001b[39;00m \u001b[38;5;21mvisit_Lambda\u001b[39m(\u001b[38;5;28mself\u001b[39m, node):\n\u001b[0;32m-> 1679\u001b[0m     \u001b[38;5;28;01mwith\u001b[39;00m \u001b[38;5;28;43mself\u001b[39;49m\u001b[38;5;241;43m.\u001b[39;49m\u001b[43mrequire_parens\u001b[49m\u001b[43m(\u001b[49m\u001b[43m_Precedence\u001b[49m\u001b[38;5;241;43m.\u001b[39;49m\u001b[43mTEST\u001b[49m\u001b[43m,\u001b[49m\u001b[43m \u001b[49m\u001b[43mnode\u001b[49m\u001b[43m)\u001b[49m:\n\u001b[1;32m   1680\u001b[0m         \u001b[38;5;28mself\u001b[39m\u001b[38;5;241m.\u001b[39mwrite(\u001b[38;5;124m\"\u001b[39m\u001b[38;5;124mlambda\u001b[39m\u001b[38;5;124m\"\u001b[39m)\n\u001b[1;32m   1681\u001b[0m         \u001b[38;5;28;01mwith\u001b[39;00m \u001b[38;5;28mself\u001b[39m\u001b[38;5;241m.\u001b[39mbuffered() \u001b[38;5;28;01mas\u001b[39;00m buffer:\n",
      "File \u001b[0;32m~/.python/current/lib/python3.12/ast.py:815\u001b[0m, in \u001b[0;36m_Unparser.require_parens\u001b[0;34m(self, precedence, node)\u001b[0m\n\u001b[1;32m    813\u001b[0m \u001b[38;5;28;01mdef\u001b[39;00m \u001b[38;5;21mrequire_parens\u001b[39m(\u001b[38;5;28mself\u001b[39m, precedence, node):\n\u001b[1;32m    814\u001b[0m \u001b[38;5;250m    \u001b[39m\u001b[38;5;124;03m\"\"\"Shortcut to adding precedence related parens\"\"\"\u001b[39;00m\n\u001b[0;32m--> 815\u001b[0m     \u001b[38;5;28;01mreturn\u001b[39;00m \u001b[38;5;28mself\u001b[39m\u001b[38;5;241m.\u001b[39mdelimit_if(\u001b[38;5;124m\"\u001b[39m\u001b[38;5;124m(\u001b[39m\u001b[38;5;124m\"\u001b[39m, \u001b[38;5;124m\"\u001b[39m\u001b[38;5;124m)\u001b[39m\u001b[38;5;124m\"\u001b[39m, \u001b[38;5;28;43mself\u001b[39;49m\u001b[38;5;241;43m.\u001b[39;49m\u001b[43mget_precedence\u001b[49m\u001b[43m(\u001b[49m\u001b[43mnode\u001b[49m\u001b[43m)\u001b[49m \u001b[38;5;241m>\u001b[39m precedence)\n",
      "File \u001b[0;32m~/.python/current/lib/python3.12/ast.py:818\u001b[0m, in \u001b[0;36m_Unparser.get_precedence\u001b[0;34m(self, node)\u001b[0m\n\u001b[1;32m    817\u001b[0m \u001b[38;5;28;01mdef\u001b[39;00m \u001b[38;5;21mget_precedence\u001b[39m(\u001b[38;5;28mself\u001b[39m, node):\n\u001b[0;32m--> 818\u001b[0m     \u001b[38;5;28;01mreturn\u001b[39;00m \u001b[38;5;28;43mself\u001b[39;49m\u001b[38;5;241;43m.\u001b[39;49m\u001b[43m_precedences\u001b[49m\u001b[38;5;241;43m.\u001b[39;49m\u001b[43mget\u001b[49m\u001b[43m(\u001b[49m\u001b[43mnode\u001b[49m\u001b[43m,\u001b[49m\u001b[43m \u001b[49m\u001b[43m_Precedence\u001b[49m\u001b[38;5;241;43m.\u001b[39;49m\u001b[43mTEST\u001b[49m\u001b[43m)\u001b[49m\n",
      "File \u001b[0;32m/workspaces/ling516/phosphorus/semval.py:89\u001b[0m, in \u001b[0;36mPV.__hash__\u001b[0;34m(self)\u001b[0m\n\u001b[1;32m     88\u001b[0m \u001b[38;5;28;01mdef\u001b[39;00m \u001b[38;5;21m__hash__\u001b[39m(\u001b[38;5;28mself\u001b[39m):\n\u001b[0;32m---> 89\u001b[0m   \u001b[38;5;28;01mreturn\u001b[39;00m \u001b[38;5;28mhash\u001b[39m(\u001b[38;5;28;43mstr\u001b[39;49m\u001b[43m(\u001b[49m\u001b[38;5;28;43mself\u001b[39;49m\u001b[43m)\u001b[49m)\n",
      "\u001b[0;31mRecursionError\u001b[0m: maximum recursion depth exceeded"
     ]
    },
    {
     "data": {
      "text/plain": [
       "<phosphorus.semval.Lambda at 0x7aa7ffd4bd90>"
      ]
     },
     "execution_count": 8,
     "metadata": {},
     "output_type": "execute_result"
    },
    {
     "name": "stderr",
     "output_type": "stream",
     "text": [
      "\u001b[90mError evaluating lambda x: (gg | {1: x})[1] Lambda(args=arguments(posonlyargs=[], args=[arg(arg='x')], kwonlyargs=[], kw_defaults=[], defaults=[]), body=Subscript(value=BinOp(left=Name(id='gg', ctx=Load()), op=BitOr(), right=Dict(keys=[Constant(value=1)], values=[Name(id='x', ctx=Load())])), slice=Constant(value=1), ctx=Load()))\u001b[0m\n",
      "\u001b[90mERROR: invalid syntax (<unknown>, line 1)\u001b[0m\n",
      "\u001b[90mError evaluating (gg | {1: x})[1] Subscript(value=BinOp(left=Name(id='gg', ctx=Load()), op=BitOr(), right=Dict(keys=[Constant(value=1)], values=[Name(id='x', ctx=Load())])), slice=Constant(value=1), ctx=Load())\u001b[0m\n",
      "\u001b[90mERROR: name 'x' is not defined\u001b[0m\n",
      "\u001b[90mError evaluating gg | {1: x} BinOp(left=Name(id='gg', ctx=Load()), op=BitOr(), right=Dict(keys=[Constant(value=1)], values=[Name(id='x', ctx=Load())]))\u001b[0m\n",
      "\u001b[90mERROR: name 'x' is not defined\u001b[0m\n",
      "\u001b[90mEvaluated gg to {1: 2, 3: 4}\u001b[0m\n",
      "\u001b[90mError evaluating {1: x} Dict(keys=[Constant(value=1)], values=[Name(id='x', ctx=Load())])\u001b[0m\n",
      "\u001b[90mERROR: name 'x' is not defined\u001b[0m\n",
      "\u001b[90mEvaluated 1 to 1\u001b[0m\n",
      "\u001b[90mError evaluating x Name(id='x', ctx=Load())\u001b[0m\n",
      "\u001b[90mERROR: name 'x' is not defined\u001b[0m\n",
      "\u001b[90mEvaluated 1 to 1\u001b[0m\n"
     ]
    },
    {
     "ename": "RecursionError",
     "evalue": "maximum recursion depth exceeded",
     "output_type": "error",
     "traceback": [
      "\u001b[0;31m---------------------------------------------------------------------------\u001b[0m",
      "\u001b[0;31mRecursionError\u001b[0m                            Traceback (most recent call last)",
      "File \u001b[0;32m~/.local/lib/python3.12/site-packages/IPython/core/formatters.py:406\u001b[0m, in \u001b[0;36mBaseFormatter.__call__\u001b[0;34m(self, obj)\u001b[0m\n\u001b[1;32m    404\u001b[0m     method \u001b[38;5;241m=\u001b[39m get_real_method(obj, \u001b[38;5;28mself\u001b[39m\u001b[38;5;241m.\u001b[39mprint_method)\n\u001b[1;32m    405\u001b[0m     \u001b[38;5;28;01mif\u001b[39;00m method \u001b[38;5;129;01mis\u001b[39;00m \u001b[38;5;129;01mnot\u001b[39;00m \u001b[38;5;28;01mNone\u001b[39;00m:\n\u001b[0;32m--> 406\u001b[0m         \u001b[38;5;28;01mreturn\u001b[39;00m \u001b[43mmethod\u001b[49m\u001b[43m(\u001b[49m\u001b[43m)\u001b[49m\n\u001b[1;32m    407\u001b[0m     \u001b[38;5;28;01mreturn\u001b[39;00m \u001b[38;5;28;01mNone\u001b[39;00m\n\u001b[1;32m    408\u001b[0m \u001b[38;5;28;01melse\u001b[39;00m:\n",
      "File \u001b[0;32m/workspaces/ling516/phosphorus/semval.py:95\u001b[0m, in \u001b[0;36mPV._repr_html_\u001b[0;34m(self)\u001b[0m\n\u001b[1;32m     94\u001b[0m \u001b[38;5;28;01mdef\u001b[39;00m \u001b[38;5;21m_repr_html_\u001b[39m(\u001b[38;5;28mself\u001b[39m):\n\u001b[0;32m---> 95\u001b[0m   \u001b[38;5;28;01mreturn\u001b[39;00m \u001b[38;5;124mf\u001b[39m\u001b[38;5;124m\"\"\"\u001b[39m\u001b[38;5;132;43;01m{\u001b[39;49;00m\u001b[38;5;28;43mself\u001b[39;49m\u001b[38;5;132;43;01m}\u001b[39;49;00m\n\u001b[1;32m     96\u001b[0m \u001b[38;5;124m      <span style=\u001b[39m\u001b[38;5;124m'\u001b[39m\u001b[38;5;124mfloat:right; font-family:monospace; margin-right:75px;\u001b[39m\n\u001b[1;32m     97\u001b[0m \u001b[38;5;124m            font-weight:bold; background-color:#e5e5ff; color:#000\u001b[39m\u001b[38;5;124m'\u001b[39m\u001b[38;5;124m>\u001b[39m\n\u001b[1;32m     98\u001b[0m \u001b[38;5;124m        \u001b[39m\u001b[38;5;132;01m{\u001b[39;00m\u001b[38;5;28mself\u001b[39m\u001b[38;5;241m.\u001b[39mtype\u001b[38;5;132;01m}\u001b[39;00m\u001b[38;5;124m</span>\u001b[39m\u001b[38;5;124m\"\"\"\u001b[39m\n",
      "File \u001b[0;32m/workspaces/ling516/phosphorus/semval.py:92\u001b[0m, in \u001b[0;36mPV.__str__\u001b[0;34m(self)\u001b[0m\n\u001b[1;32m     91\u001b[0m \u001b[38;5;28;01mdef\u001b[39;00m \u001b[38;5;21m__str__\u001b[39m(\u001b[38;5;28mself\u001b[39m):\n\u001b[0;32m---> 92\u001b[0m   \u001b[38;5;28;01mreturn\u001b[39;00m \u001b[43munparse\u001b[49m\u001b[43m(\u001b[49m\u001b[38;5;28;43mself\u001b[39;49m\u001b[43m)\u001b[49m\n",
      "File \u001b[0;32m~/.python/current/lib/python3.12/ast.py:1790\u001b[0m, in \u001b[0;36munparse\u001b[0;34m(ast_obj)\u001b[0m\n\u001b[1;32m   1788\u001b[0m \u001b[38;5;28;01mdef\u001b[39;00m \u001b[38;5;21munparse\u001b[39m(ast_obj):\n\u001b[1;32m   1789\u001b[0m     unparser \u001b[38;5;241m=\u001b[39m _Unparser()\n\u001b[0;32m-> 1790\u001b[0m     \u001b[38;5;28;01mreturn\u001b[39;00m \u001b[43munparser\u001b[49m\u001b[38;5;241;43m.\u001b[39;49m\u001b[43mvisit\u001b[49m\u001b[43m(\u001b[49m\u001b[43mast_obj\u001b[49m\u001b[43m)\u001b[49m\n",
      "File \u001b[0;32m~/.python/current/lib/python3.12/ast.py:859\u001b[0m, in \u001b[0;36m_Unparser.visit\u001b[0;34m(self, node)\u001b[0m\n\u001b[1;32m    856\u001b[0m \u001b[38;5;250m\u001b[39m\u001b[38;5;124;03m\"\"\"Outputs a source code string that, if converted back to an ast\u001b[39;00m\n\u001b[1;32m    857\u001b[0m \u001b[38;5;124;03m(using ast.parse) will generate an AST equivalent to *node*\"\"\"\u001b[39;00m\n\u001b[1;32m    858\u001b[0m \u001b[38;5;28mself\u001b[39m\u001b[38;5;241m.\u001b[39m_source \u001b[38;5;241m=\u001b[39m []\n\u001b[0;32m--> 859\u001b[0m \u001b[38;5;28;43mself\u001b[39;49m\u001b[38;5;241;43m.\u001b[39;49m\u001b[43mtraverse\u001b[49m\u001b[43m(\u001b[49m\u001b[43mnode\u001b[49m\u001b[43m)\u001b[49m\n\u001b[1;32m    860\u001b[0m \u001b[38;5;28;01mreturn\u001b[39;00m \u001b[38;5;124m\"\u001b[39m\u001b[38;5;124m\"\u001b[39m\u001b[38;5;241m.\u001b[39mjoin(\u001b[38;5;28mself\u001b[39m\u001b[38;5;241m.\u001b[39m_source)\n",
      "File \u001b[0;32m~/.python/current/lib/python3.12/ast.py:850\u001b[0m, in \u001b[0;36m_Unparser.traverse\u001b[0;34m(self, node)\u001b[0m\n\u001b[1;32m    848\u001b[0m         \u001b[38;5;28mself\u001b[39m\u001b[38;5;241m.\u001b[39mtraverse(item)\n\u001b[1;32m    849\u001b[0m \u001b[38;5;28;01melse\u001b[39;00m:\n\u001b[0;32m--> 850\u001b[0m     \u001b[38;5;28;43msuper\u001b[39;49m\u001b[43m(\u001b[49m\u001b[43m)\u001b[49m\u001b[38;5;241;43m.\u001b[39;49m\u001b[43mvisit\u001b[49m\u001b[43m(\u001b[49m\u001b[43mnode\u001b[49m\u001b[43m)\u001b[49m\n",
      "File \u001b[0;32m~/.python/current/lib/python3.12/ast.py:407\u001b[0m, in \u001b[0;36mNodeVisitor.visit\u001b[0;34m(self, node)\u001b[0m\n\u001b[1;32m    405\u001b[0m method \u001b[38;5;241m=\u001b[39m \u001b[38;5;124m'\u001b[39m\u001b[38;5;124mvisit_\u001b[39m\u001b[38;5;124m'\u001b[39m \u001b[38;5;241m+\u001b[39m node\u001b[38;5;241m.\u001b[39m\u001b[38;5;18m__class__\u001b[39m\u001b[38;5;241m.\u001b[39m\u001b[38;5;18m__name__\u001b[39m\n\u001b[1;32m    406\u001b[0m visitor \u001b[38;5;241m=\u001b[39m \u001b[38;5;28mgetattr\u001b[39m(\u001b[38;5;28mself\u001b[39m, method, \u001b[38;5;28mself\u001b[39m\u001b[38;5;241m.\u001b[39mgeneric_visit)\n\u001b[0;32m--> 407\u001b[0m \u001b[38;5;28;01mreturn\u001b[39;00m \u001b[43mvisitor\u001b[49m\u001b[43m(\u001b[49m\u001b[43mnode\u001b[49m\u001b[43m)\u001b[49m\n",
      "File \u001b[0;32m~/.python/current/lib/python3.12/ast.py:1679\u001b[0m, in \u001b[0;36m_Unparser.visit_Lambda\u001b[0;34m(self, node)\u001b[0m\n\u001b[1;32m   1678\u001b[0m \u001b[38;5;28;01mdef\u001b[39;00m \u001b[38;5;21mvisit_Lambda\u001b[39m(\u001b[38;5;28mself\u001b[39m, node):\n\u001b[0;32m-> 1679\u001b[0m     \u001b[38;5;28;01mwith\u001b[39;00m \u001b[38;5;28;43mself\u001b[39;49m\u001b[38;5;241;43m.\u001b[39;49m\u001b[43mrequire_parens\u001b[49m\u001b[43m(\u001b[49m\u001b[43m_Precedence\u001b[49m\u001b[38;5;241;43m.\u001b[39;49m\u001b[43mTEST\u001b[49m\u001b[43m,\u001b[49m\u001b[43m \u001b[49m\u001b[43mnode\u001b[49m\u001b[43m)\u001b[49m:\n\u001b[1;32m   1680\u001b[0m         \u001b[38;5;28mself\u001b[39m\u001b[38;5;241m.\u001b[39mwrite(\u001b[38;5;124m\"\u001b[39m\u001b[38;5;124mlambda\u001b[39m\u001b[38;5;124m\"\u001b[39m)\n\u001b[1;32m   1681\u001b[0m         \u001b[38;5;28;01mwith\u001b[39;00m \u001b[38;5;28mself\u001b[39m\u001b[38;5;241m.\u001b[39mbuffered() \u001b[38;5;28;01mas\u001b[39;00m buffer:\n",
      "File \u001b[0;32m~/.python/current/lib/python3.12/ast.py:815\u001b[0m, in \u001b[0;36m_Unparser.require_parens\u001b[0;34m(self, precedence, node)\u001b[0m\n\u001b[1;32m    813\u001b[0m \u001b[38;5;28;01mdef\u001b[39;00m \u001b[38;5;21mrequire_parens\u001b[39m(\u001b[38;5;28mself\u001b[39m, precedence, node):\n\u001b[1;32m    814\u001b[0m \u001b[38;5;250m    \u001b[39m\u001b[38;5;124;03m\"\"\"Shortcut to adding precedence related parens\"\"\"\u001b[39;00m\n\u001b[0;32m--> 815\u001b[0m     \u001b[38;5;28;01mreturn\u001b[39;00m \u001b[38;5;28mself\u001b[39m\u001b[38;5;241m.\u001b[39mdelimit_if(\u001b[38;5;124m\"\u001b[39m\u001b[38;5;124m(\u001b[39m\u001b[38;5;124m\"\u001b[39m, \u001b[38;5;124m\"\u001b[39m\u001b[38;5;124m)\u001b[39m\u001b[38;5;124m\"\u001b[39m, \u001b[38;5;28;43mself\u001b[39;49m\u001b[38;5;241;43m.\u001b[39;49m\u001b[43mget_precedence\u001b[49m\u001b[43m(\u001b[49m\u001b[43mnode\u001b[49m\u001b[43m)\u001b[49m \u001b[38;5;241m>\u001b[39m precedence)\n",
      "File \u001b[0;32m~/.python/current/lib/python3.12/ast.py:818\u001b[0m, in \u001b[0;36m_Unparser.get_precedence\u001b[0;34m(self, node)\u001b[0m\n\u001b[1;32m    817\u001b[0m \u001b[38;5;28;01mdef\u001b[39;00m \u001b[38;5;21mget_precedence\u001b[39m(\u001b[38;5;28mself\u001b[39m, node):\n\u001b[0;32m--> 818\u001b[0m     \u001b[38;5;28;01mreturn\u001b[39;00m \u001b[38;5;28;43mself\u001b[39;49m\u001b[38;5;241;43m.\u001b[39;49m\u001b[43m_precedences\u001b[49m\u001b[38;5;241;43m.\u001b[39;49m\u001b[43mget\u001b[49m\u001b[43m(\u001b[49m\u001b[43mnode\u001b[49m\u001b[43m,\u001b[49m\u001b[43m \u001b[49m\u001b[43m_Precedence\u001b[49m\u001b[38;5;241;43m.\u001b[39;49m\u001b[43mTEST\u001b[49m\u001b[43m)\u001b[49m\n",
      "File \u001b[0;32m/workspaces/ling516/phosphorus/semval.py:89\u001b[0m, in \u001b[0;36mPV.__hash__\u001b[0;34m(self)\u001b[0m\n\u001b[1;32m     88\u001b[0m \u001b[38;5;28;01mdef\u001b[39;00m \u001b[38;5;21m__hash__\u001b[39m(\u001b[38;5;28mself\u001b[39m):\n\u001b[0;32m---> 89\u001b[0m   \u001b[38;5;28;01mreturn\u001b[39;00m \u001b[38;5;28mhash\u001b[39m(\u001b[38;5;28;43mstr\u001b[39;49m\u001b[43m(\u001b[49m\u001b[38;5;28;43mself\u001b[39;49m\u001b[43m)\u001b[49m)\n",
      "File \u001b[0;32m/workspaces/ling516/phosphorus/semval.py:92\u001b[0m, in \u001b[0;36mPV.__str__\u001b[0;34m(self)\u001b[0m\n\u001b[1;32m     91\u001b[0m \u001b[38;5;28;01mdef\u001b[39;00m \u001b[38;5;21m__str__\u001b[39m(\u001b[38;5;28mself\u001b[39m):\n\u001b[0;32m---> 92\u001b[0m   \u001b[38;5;28;01mreturn\u001b[39;00m \u001b[43munparse\u001b[49m\u001b[43m(\u001b[49m\u001b[38;5;28;43mself\u001b[39;49m\u001b[43m)\u001b[49m\n",
      "File \u001b[0;32m~/.python/current/lib/python3.12/ast.py:1790\u001b[0m, in \u001b[0;36munparse\u001b[0;34m(ast_obj)\u001b[0m\n\u001b[1;32m   1788\u001b[0m \u001b[38;5;28;01mdef\u001b[39;00m \u001b[38;5;21munparse\u001b[39m(ast_obj):\n\u001b[1;32m   1789\u001b[0m     unparser \u001b[38;5;241m=\u001b[39m _Unparser()\n\u001b[0;32m-> 1790\u001b[0m     \u001b[38;5;28;01mreturn\u001b[39;00m \u001b[43munparser\u001b[49m\u001b[38;5;241;43m.\u001b[39;49m\u001b[43mvisit\u001b[49m\u001b[43m(\u001b[49m\u001b[43mast_obj\u001b[49m\u001b[43m)\u001b[49m\n",
      "File \u001b[0;32m~/.python/current/lib/python3.12/ast.py:859\u001b[0m, in \u001b[0;36m_Unparser.visit\u001b[0;34m(self, node)\u001b[0m\n\u001b[1;32m    856\u001b[0m \u001b[38;5;250m\u001b[39m\u001b[38;5;124;03m\"\"\"Outputs a source code string that, if converted back to an ast\u001b[39;00m\n\u001b[1;32m    857\u001b[0m \u001b[38;5;124;03m(using ast.parse) will generate an AST equivalent to *node*\"\"\"\u001b[39;00m\n\u001b[1;32m    858\u001b[0m \u001b[38;5;28mself\u001b[39m\u001b[38;5;241m.\u001b[39m_source \u001b[38;5;241m=\u001b[39m []\n\u001b[0;32m--> 859\u001b[0m \u001b[38;5;28;43mself\u001b[39;49m\u001b[38;5;241;43m.\u001b[39;49m\u001b[43mtraverse\u001b[49m\u001b[43m(\u001b[49m\u001b[43mnode\u001b[49m\u001b[43m)\u001b[49m\n\u001b[1;32m    860\u001b[0m \u001b[38;5;28;01mreturn\u001b[39;00m \u001b[38;5;124m\"\u001b[39m\u001b[38;5;124m\"\u001b[39m\u001b[38;5;241m.\u001b[39mjoin(\u001b[38;5;28mself\u001b[39m\u001b[38;5;241m.\u001b[39m_source)\n",
      "File \u001b[0;32m~/.python/current/lib/python3.12/ast.py:850\u001b[0m, in \u001b[0;36m_Unparser.traverse\u001b[0;34m(self, node)\u001b[0m\n\u001b[1;32m    848\u001b[0m         \u001b[38;5;28mself\u001b[39m\u001b[38;5;241m.\u001b[39mtraverse(item)\n\u001b[1;32m    849\u001b[0m \u001b[38;5;28;01melse\u001b[39;00m:\n\u001b[0;32m--> 850\u001b[0m     \u001b[38;5;28;43msuper\u001b[39;49m\u001b[43m(\u001b[49m\u001b[43m)\u001b[49m\u001b[38;5;241;43m.\u001b[39;49m\u001b[43mvisit\u001b[49m\u001b[43m(\u001b[49m\u001b[43mnode\u001b[49m\u001b[43m)\u001b[49m\n",
      "File \u001b[0;32m~/.python/current/lib/python3.12/ast.py:407\u001b[0m, in \u001b[0;36mNodeVisitor.visit\u001b[0;34m(self, node)\u001b[0m\n\u001b[1;32m    405\u001b[0m method \u001b[38;5;241m=\u001b[39m \u001b[38;5;124m'\u001b[39m\u001b[38;5;124mvisit_\u001b[39m\u001b[38;5;124m'\u001b[39m \u001b[38;5;241m+\u001b[39m node\u001b[38;5;241m.\u001b[39m\u001b[38;5;18m__class__\u001b[39m\u001b[38;5;241m.\u001b[39m\u001b[38;5;18m__name__\u001b[39m\n\u001b[1;32m    406\u001b[0m visitor \u001b[38;5;241m=\u001b[39m \u001b[38;5;28mgetattr\u001b[39m(\u001b[38;5;28mself\u001b[39m, method, \u001b[38;5;28mself\u001b[39m\u001b[38;5;241m.\u001b[39mgeneric_visit)\n\u001b[0;32m--> 407\u001b[0m \u001b[38;5;28;01mreturn\u001b[39;00m \u001b[43mvisitor\u001b[49m\u001b[43m(\u001b[49m\u001b[43mnode\u001b[49m\u001b[43m)\u001b[49m\n",
      "File \u001b[0;32m~/.python/current/lib/python3.12/ast.py:1679\u001b[0m, in \u001b[0;36m_Unparser.visit_Lambda\u001b[0;34m(self, node)\u001b[0m\n\u001b[1;32m   1678\u001b[0m \u001b[38;5;28;01mdef\u001b[39;00m \u001b[38;5;21mvisit_Lambda\u001b[39m(\u001b[38;5;28mself\u001b[39m, node):\n\u001b[0;32m-> 1679\u001b[0m     \u001b[38;5;28;01mwith\u001b[39;00m \u001b[38;5;28;43mself\u001b[39;49m\u001b[38;5;241;43m.\u001b[39;49m\u001b[43mrequire_parens\u001b[49m\u001b[43m(\u001b[49m\u001b[43m_Precedence\u001b[49m\u001b[38;5;241;43m.\u001b[39;49m\u001b[43mTEST\u001b[49m\u001b[43m,\u001b[49m\u001b[43m \u001b[49m\u001b[43mnode\u001b[49m\u001b[43m)\u001b[49m:\n\u001b[1;32m   1680\u001b[0m         \u001b[38;5;28mself\u001b[39m\u001b[38;5;241m.\u001b[39mwrite(\u001b[38;5;124m\"\u001b[39m\u001b[38;5;124mlambda\u001b[39m\u001b[38;5;124m\"\u001b[39m)\n\u001b[1;32m   1681\u001b[0m         \u001b[38;5;28;01mwith\u001b[39;00m \u001b[38;5;28mself\u001b[39m\u001b[38;5;241m.\u001b[39mbuffered() \u001b[38;5;28;01mas\u001b[39;00m buffer:\n",
      "File \u001b[0;32m~/.python/current/lib/python3.12/ast.py:815\u001b[0m, in \u001b[0;36m_Unparser.require_parens\u001b[0;34m(self, precedence, node)\u001b[0m\n\u001b[1;32m    813\u001b[0m \u001b[38;5;28;01mdef\u001b[39;00m \u001b[38;5;21mrequire_parens\u001b[39m(\u001b[38;5;28mself\u001b[39m, precedence, node):\n\u001b[1;32m    814\u001b[0m \u001b[38;5;250m    \u001b[39m\u001b[38;5;124;03m\"\"\"Shortcut to adding precedence related parens\"\"\"\u001b[39;00m\n\u001b[0;32m--> 815\u001b[0m     \u001b[38;5;28;01mreturn\u001b[39;00m \u001b[38;5;28mself\u001b[39m\u001b[38;5;241m.\u001b[39mdelimit_if(\u001b[38;5;124m\"\u001b[39m\u001b[38;5;124m(\u001b[39m\u001b[38;5;124m\"\u001b[39m, \u001b[38;5;124m\"\u001b[39m\u001b[38;5;124m)\u001b[39m\u001b[38;5;124m\"\u001b[39m, \u001b[38;5;28;43mself\u001b[39;49m\u001b[38;5;241;43m.\u001b[39;49m\u001b[43mget_precedence\u001b[49m\u001b[43m(\u001b[49m\u001b[43mnode\u001b[49m\u001b[43m)\u001b[49m \u001b[38;5;241m>\u001b[39m precedence)\n",
      "File \u001b[0;32m~/.python/current/lib/python3.12/ast.py:818\u001b[0m, in \u001b[0;36m_Unparser.get_precedence\u001b[0;34m(self, node)\u001b[0m\n\u001b[1;32m    817\u001b[0m \u001b[38;5;28;01mdef\u001b[39;00m \u001b[38;5;21mget_precedence\u001b[39m(\u001b[38;5;28mself\u001b[39m, node):\n\u001b[0;32m--> 818\u001b[0m     \u001b[38;5;28;01mreturn\u001b[39;00m \u001b[38;5;28;43mself\u001b[39;49m\u001b[38;5;241;43m.\u001b[39;49m\u001b[43m_precedences\u001b[49m\u001b[38;5;241;43m.\u001b[39;49m\u001b[43mget\u001b[49m\u001b[43m(\u001b[49m\u001b[43mnode\u001b[49m\u001b[43m,\u001b[49m\u001b[43m \u001b[49m\u001b[43m_Precedence\u001b[49m\u001b[38;5;241;43m.\u001b[39;49m\u001b[43mTEST\u001b[49m\u001b[43m)\u001b[49m\n",
      "File \u001b[0;32m/workspaces/ling516/phosphorus/semval.py:89\u001b[0m, in \u001b[0;36mPV.__hash__\u001b[0;34m(self)\u001b[0m\n\u001b[1;32m     88\u001b[0m \u001b[38;5;28;01mdef\u001b[39;00m \u001b[38;5;21m__hash__\u001b[39m(\u001b[38;5;28mself\u001b[39m):\n\u001b[0;32m---> 89\u001b[0m   \u001b[38;5;28;01mreturn\u001b[39;00m \u001b[38;5;28mhash\u001b[39m(\u001b[38;5;28;43mstr\u001b[39;49m\u001b[43m(\u001b[49m\u001b[38;5;28;43mself\u001b[39;49m\u001b[43m)\u001b[49m)\n",
      "    \u001b[0;31m[... skipping similar frames: PV.__hash__ at line 89 (292 times), PV.__str__ at line 92 (292 times), _Unparser.get_precedence at line 818 (292 times), _Unparser.require_parens at line 815 (292 times), _Unparser.traverse at line 850 (292 times), unparse at line 1790 (292 times), _Unparser.visit at line 859 (292 times), NodeVisitor.visit at line 407 (292 times), _Unparser.visit_Lambda at line 1679 (292 times)]\u001b[0m\n",
      "File \u001b[0;32m/workspaces/ling516/phosphorus/semval.py:92\u001b[0m, in \u001b[0;36mPV.__str__\u001b[0;34m(self)\u001b[0m\n\u001b[1;32m     91\u001b[0m \u001b[38;5;28;01mdef\u001b[39;00m \u001b[38;5;21m__str__\u001b[39m(\u001b[38;5;28mself\u001b[39m):\n\u001b[0;32m---> 92\u001b[0m   \u001b[38;5;28;01mreturn\u001b[39;00m \u001b[43munparse\u001b[49m\u001b[43m(\u001b[49m\u001b[38;5;28;43mself\u001b[39;49m\u001b[43m)\u001b[49m\n",
      "File \u001b[0;32m~/.python/current/lib/python3.12/ast.py:1790\u001b[0m, in \u001b[0;36munparse\u001b[0;34m(ast_obj)\u001b[0m\n\u001b[1;32m   1788\u001b[0m \u001b[38;5;28;01mdef\u001b[39;00m \u001b[38;5;21munparse\u001b[39m(ast_obj):\n\u001b[1;32m   1789\u001b[0m     unparser \u001b[38;5;241m=\u001b[39m _Unparser()\n\u001b[0;32m-> 1790\u001b[0m     \u001b[38;5;28;01mreturn\u001b[39;00m \u001b[43munparser\u001b[49m\u001b[38;5;241;43m.\u001b[39;49m\u001b[43mvisit\u001b[49m\u001b[43m(\u001b[49m\u001b[43mast_obj\u001b[49m\u001b[43m)\u001b[49m\n",
      "File \u001b[0;32m~/.python/current/lib/python3.12/ast.py:859\u001b[0m, in \u001b[0;36m_Unparser.visit\u001b[0;34m(self, node)\u001b[0m\n\u001b[1;32m    856\u001b[0m \u001b[38;5;250m\u001b[39m\u001b[38;5;124;03m\"\"\"Outputs a source code string that, if converted back to an ast\u001b[39;00m\n\u001b[1;32m    857\u001b[0m \u001b[38;5;124;03m(using ast.parse) will generate an AST equivalent to *node*\"\"\"\u001b[39;00m\n\u001b[1;32m    858\u001b[0m \u001b[38;5;28mself\u001b[39m\u001b[38;5;241m.\u001b[39m_source \u001b[38;5;241m=\u001b[39m []\n\u001b[0;32m--> 859\u001b[0m \u001b[38;5;28;43mself\u001b[39;49m\u001b[38;5;241;43m.\u001b[39;49m\u001b[43mtraverse\u001b[49m\u001b[43m(\u001b[49m\u001b[43mnode\u001b[49m\u001b[43m)\u001b[49m\n\u001b[1;32m    860\u001b[0m \u001b[38;5;28;01mreturn\u001b[39;00m \u001b[38;5;124m\"\u001b[39m\u001b[38;5;124m\"\u001b[39m\u001b[38;5;241m.\u001b[39mjoin(\u001b[38;5;28mself\u001b[39m\u001b[38;5;241m.\u001b[39m_source)\n",
      "File \u001b[0;32m~/.python/current/lib/python3.12/ast.py:850\u001b[0m, in \u001b[0;36m_Unparser.traverse\u001b[0;34m(self, node)\u001b[0m\n\u001b[1;32m    848\u001b[0m         \u001b[38;5;28mself\u001b[39m\u001b[38;5;241m.\u001b[39mtraverse(item)\n\u001b[1;32m    849\u001b[0m \u001b[38;5;28;01melse\u001b[39;00m:\n\u001b[0;32m--> 850\u001b[0m     \u001b[38;5;28;43msuper\u001b[39;49m\u001b[43m(\u001b[49m\u001b[43m)\u001b[49m\u001b[38;5;241;43m.\u001b[39;49m\u001b[43mvisit\u001b[49m\u001b[43m(\u001b[49m\u001b[43mnode\u001b[49m\u001b[43m)\u001b[49m\n",
      "File \u001b[0;32m~/.python/current/lib/python3.12/ast.py:407\u001b[0m, in \u001b[0;36mNodeVisitor.visit\u001b[0;34m(self, node)\u001b[0m\n\u001b[1;32m    405\u001b[0m method \u001b[38;5;241m=\u001b[39m \u001b[38;5;124m'\u001b[39m\u001b[38;5;124mvisit_\u001b[39m\u001b[38;5;124m'\u001b[39m \u001b[38;5;241m+\u001b[39m node\u001b[38;5;241m.\u001b[39m\u001b[38;5;18m__class__\u001b[39m\u001b[38;5;241m.\u001b[39m\u001b[38;5;18m__name__\u001b[39m\n\u001b[1;32m    406\u001b[0m visitor \u001b[38;5;241m=\u001b[39m \u001b[38;5;28mgetattr\u001b[39m(\u001b[38;5;28mself\u001b[39m, method, \u001b[38;5;28mself\u001b[39m\u001b[38;5;241m.\u001b[39mgeneric_visit)\n\u001b[0;32m--> 407\u001b[0m \u001b[38;5;28;01mreturn\u001b[39;00m \u001b[43mvisitor\u001b[49m\u001b[43m(\u001b[49m\u001b[43mnode\u001b[49m\u001b[43m)\u001b[49m\n",
      "File \u001b[0;32m~/.python/current/lib/python3.12/ast.py:1679\u001b[0m, in \u001b[0;36m_Unparser.visit_Lambda\u001b[0;34m(self, node)\u001b[0m\n\u001b[1;32m   1678\u001b[0m \u001b[38;5;28;01mdef\u001b[39;00m \u001b[38;5;21mvisit_Lambda\u001b[39m(\u001b[38;5;28mself\u001b[39m, node):\n\u001b[0;32m-> 1679\u001b[0m     \u001b[38;5;28;01mwith\u001b[39;00m \u001b[38;5;28;43mself\u001b[39;49m\u001b[38;5;241;43m.\u001b[39;49m\u001b[43mrequire_parens\u001b[49m\u001b[43m(\u001b[49m\u001b[43m_Precedence\u001b[49m\u001b[38;5;241;43m.\u001b[39;49m\u001b[43mTEST\u001b[49m\u001b[43m,\u001b[49m\u001b[43m \u001b[49m\u001b[43mnode\u001b[49m\u001b[43m)\u001b[49m:\n\u001b[1;32m   1680\u001b[0m         \u001b[38;5;28mself\u001b[39m\u001b[38;5;241m.\u001b[39mwrite(\u001b[38;5;124m\"\u001b[39m\u001b[38;5;124mlambda\u001b[39m\u001b[38;5;124m\"\u001b[39m)\n\u001b[1;32m   1681\u001b[0m         \u001b[38;5;28;01mwith\u001b[39;00m \u001b[38;5;28mself\u001b[39m\u001b[38;5;241m.\u001b[39mbuffered() \u001b[38;5;28;01mas\u001b[39;00m buffer:\n",
      "File \u001b[0;32m~/.python/current/lib/python3.12/ast.py:815\u001b[0m, in \u001b[0;36m_Unparser.require_parens\u001b[0;34m(self, precedence, node)\u001b[0m\n\u001b[1;32m    813\u001b[0m \u001b[38;5;28;01mdef\u001b[39;00m \u001b[38;5;21mrequire_parens\u001b[39m(\u001b[38;5;28mself\u001b[39m, precedence, node):\n\u001b[1;32m    814\u001b[0m \u001b[38;5;250m    \u001b[39m\u001b[38;5;124;03m\"\"\"Shortcut to adding precedence related parens\"\"\"\u001b[39;00m\n\u001b[0;32m--> 815\u001b[0m     \u001b[38;5;28;01mreturn\u001b[39;00m \u001b[38;5;28mself\u001b[39m\u001b[38;5;241m.\u001b[39mdelimit_if(\u001b[38;5;124m\"\u001b[39m\u001b[38;5;124m(\u001b[39m\u001b[38;5;124m\"\u001b[39m, \u001b[38;5;124m\"\u001b[39m\u001b[38;5;124m)\u001b[39m\u001b[38;5;124m\"\u001b[39m, \u001b[38;5;28;43mself\u001b[39;49m\u001b[38;5;241;43m.\u001b[39;49m\u001b[43mget_precedence\u001b[49m\u001b[43m(\u001b[49m\u001b[43mnode\u001b[49m\u001b[43m)\u001b[49m \u001b[38;5;241m>\u001b[39m precedence)\n",
      "File \u001b[0;32m~/.python/current/lib/python3.12/ast.py:818\u001b[0m, in \u001b[0;36m_Unparser.get_precedence\u001b[0;34m(self, node)\u001b[0m\n\u001b[1;32m    817\u001b[0m \u001b[38;5;28;01mdef\u001b[39;00m \u001b[38;5;21mget_precedence\u001b[39m(\u001b[38;5;28mself\u001b[39m, node):\n\u001b[0;32m--> 818\u001b[0m     \u001b[38;5;28;01mreturn\u001b[39;00m \u001b[38;5;28;43mself\u001b[39;49m\u001b[38;5;241;43m.\u001b[39;49m\u001b[43m_precedences\u001b[49m\u001b[38;5;241;43m.\u001b[39;49m\u001b[43mget\u001b[49m\u001b[43m(\u001b[49m\u001b[43mnode\u001b[49m\u001b[43m,\u001b[49m\u001b[43m \u001b[49m\u001b[43m_Precedence\u001b[49m\u001b[38;5;241;43m.\u001b[39;49m\u001b[43mTEST\u001b[49m\u001b[43m)\u001b[49m\n",
      "File \u001b[0;32m/workspaces/ling516/phosphorus/semval.py:89\u001b[0m, in \u001b[0;36mPV.__hash__\u001b[0;34m(self)\u001b[0m\n\u001b[1;32m     88\u001b[0m \u001b[38;5;28;01mdef\u001b[39;00m \u001b[38;5;21m__hash__\u001b[39m(\u001b[38;5;28mself\u001b[39m):\n\u001b[0;32m---> 89\u001b[0m   \u001b[38;5;28;01mreturn\u001b[39;00m \u001b[38;5;28mhash\u001b[39m(\u001b[38;5;28;43mstr\u001b[39;49m\u001b[43m(\u001b[49m\u001b[38;5;28;43mself\u001b[39;49m\u001b[43m)\u001b[49m)\n",
      "\u001b[0;31mRecursionError\u001b[0m: maximum recursion depth exceeded"
     ]
    },
    {
     "data": {
      "text/plain": [
       "<phosphorus.semval.Lambda at 0x7aa7fd90f750>"
      ]
     },
     "execution_count": 8,
     "metadata": {},
     "output_type": "execute_result"
    },
    {
     "ename": "TypeError",
     "evalue": "'Lambda' object is not callable",
     "output_type": "error",
     "traceback": [
      "\u001b[0;31m---------------------------------------------------------------------------\u001b[0m",
      "\u001b[0;31mTypeError\u001b[0m                                 Traceback (most recent call last)",
      "Cell \u001b[0;32mIn[8], line 7\u001b[0m\n\u001b[1;32m      5\u001b[0m ff \u001b[38;5;241m=\u001b[39m (\u001b[38;5;28;01mlambda\u001b[39;00m x : (gg \u001b[38;5;241m|\u001b[39m {\u001b[38;5;241m1\u001b[39m:x})[\u001b[38;5;241m1\u001b[39m])\u001b[38;5;241m.\u001b[39meg\n\u001b[1;32m      6\u001b[0m ff\n\u001b[0;32m----> 7\u001b[0m \u001b[43mff\u001b[49m\u001b[43m(\u001b[49m\u001b[38;5;241;43m3\u001b[39;49m\u001b[43m)\u001b[49m\n\u001b[1;32m      8\u001b[0m console_handler\u001b[38;5;241m.\u001b[39msetLevel(logging\u001b[38;5;241m.\u001b[39mINFO)\n",
      "\u001b[0;31mTypeError\u001b[0m: 'Lambda' object is not callable"
     ]
    }
   ],
   "source": [
    "modify = (lambda g,i,a: g | {i:a}).xg\n",
    "modify\n",
    "gg = {1:2,3:4}\n",
    "console_handler.setLevel(logging.DEBUG)\n",
    "ff = (lambda x : (gg | {1:x})[1]).eg\n",
    "ff\n",
    "ff(3)\n",
    "console_handler.setLevel(logging.INFO)"
   ]
  },
  {
   "cell_type": "code",
   "execution_count": null,
   "metadata": {},
   "outputs": [
    {
     "name": "stderr",
     "output_type": "stream",
     "text": [
      "\u001b[90mError evaluating lambda x: SNORES(x) Lambda(args=arguments(posonlyargs=[], args=[arg(arg='x')], kwonlyargs=[], kw_defaults=[], defaults=[]), body=Call(func=Name(id='SNORES', ctx=Load()), args=[Name(id='x', ctx=Load())], keywords=[]))\u001b[0m\n",
      "\u001b[90mERROR: invalid syntax (<unknown>, line 1)\u001b[0m\n",
      "\u001b[90mError evaluating SNORES(x) Call(func=Name(id='SNORES', ctx=Load()), args=[Name(id='x', ctx=Load())], keywords=[])\u001b[0m\n",
      "\u001b[90mERROR: name 'x' is not defined\u001b[0m\n",
      "\u001b[90mCALL visiting Call SNORES(x)\n",
      "Call(func=Name(id='SNORES', ctx=Load()), args=[Name(id='x', ctx=Load())], keywords=[])\u001b[0m\n",
      "\u001b[90mEvaluated SNORES to Predicate({('B',), ('A',)})\u001b[0m\n",
      "\u001b[90mError evaluating x Name(id='x', ctx=Load())\u001b[0m\n",
      "\u001b[90mERROR: name 'x' is not defined\u001b[0m\n",
      "\u001b[90mAST PARAMS [<ast.Name object at 0x7aa7fd96cb90>] [\"Name(id='x', ctx=Load())\"]\u001b[0m\n",
      "\u001b[90mError evaluating Predicate({('B',), ('A',)})(Name(id='x', ctx=Load())) Call(func=Call(func=Name(id='Predicate', ctx=Load()), args=[Set(elts=[Tuple(elts=[Constant(value='B')], ctx=Load()), Tuple(elts=[Constant(value='A')], ctx=Load())])], keywords=[]), args=[Call(func=Name(id='Name', ctx=Load()), args=[], keywords=[keyword(arg='id', value=Constant(value='x')), keyword(arg='ctx', value=Call(func=Name(id='Load', ctx=Load()), args=[], keywords=[]))])], keywords=[])\u001b[0m\n",
      "\u001b[90mERROR: Unable to inline code Predicate({('B',), ('A',)})(Name(id='x', ctx=Load()))\u001b[0m\n",
      "\u001b[90mCALL visiting Call Predicate({('B',), ('A',)})(Name(id='x', ctx=Load()))\n",
      "Call(func=Call(func=Name(id='Predicate', ctx=Load()), args=[Set(elts=[Tuple(elts=[Constant(value='B')], ctx=Load()), Tuple(elts=[Constant(value='A')], ctx=Load())])], keywords=[]), args=[Call(func=Name(id='Name', ctx=Load()), args=[], keywords=[keyword(arg='id', value=Constant(value='x')), keyword(arg='ctx', value=Call(func=Name(id='Load', ctx=Load()), args=[], keywords=[]))])], keywords=[])\u001b[0m\n",
      "\u001b[90mEvaluated Predicate({('B',), ('A',)}) to Predicate({('B',), ('A',)})\u001b[0m\n",
      "\u001b[90mEvaluated Name(id='x', ctx=Load()) to x\u001b[0m\n",
      "\u001b[90mError evaluating A Name(id='A', ctx=Load())\u001b[0m\n",
      "\u001b[90mERROR: name 'A' is not defined\u001b[0m\n",
      "Interpreting (0, 'he_0') with parameters: ()\u001b[0m\n",
      "   Interpreting 0 with parameters: ()\u001b[0m\n",
      "   => 0 = 0 \t(TN)\u001b[0m\n",
      "   Interpreting he_0 with parameters: ()\u001b[0m\n",
      "\u001b[90mError evaluating g[0] Subscript(value=Name(id='g', ctx=Load()), slice=Constant(value=0), ctx=Load())\u001b[0m\n",
      "\u001b[90mERROR: name 'g' is not defined\u001b[0m\n",
      "\u001b[90mError evaluating g Name(id='g', ctx=Load())\u001b[0m\n",
      "\u001b[90mERROR: name 'g' is not defined\u001b[0m\n",
      "\u001b[90mEvaluated 0 to 0\u001b[0m\n",
      "   => he_0 = g[0] \t(TP)\u001b[0m\n",
      "\u001b[90mError evaluating lambda x: (lambda g: g[i])(g | {i: x}) Lambda(args=arguments(posonlyargs=[], args=[arg(arg='x')], kwonlyargs=[], kw_defaults=[], defaults=[]), body=Call(func=Lambda(args=arguments(posonlyargs=[], args=[arg(arg='g')], kwonlyargs=[], kw_defaults=[], defaults=[]), body=Subscript(value=Name(id='g', ctx=Load()), slice=Name(id='i', ctx=Load()), ctx=Load())), args=[BinOp(left=Name(id='g', ctx=Load()), op=BitOr(), right=Dict(keys=[Name(id='i', ctx=Load())], values=[Name(id='x', ctx=Load())]))], keywords=[]))\u001b[0m\n",
      "\u001b[90mERROR: invalid syntax (<unknown>, line 1)\u001b[0m\n",
      "\u001b[90mError evaluating (lambda g: g[i])(g | {i: x}) Call(func=Lambda(args=arguments(posonlyargs=[], args=[arg(arg='g')], kwonlyargs=[], kw_defaults=[], defaults=[]), body=Subscript(value=Name(id='g', ctx=Load()), slice=Name(id='i', ctx=Load()), ctx=Load())), args=[BinOp(left=Name(id='g', ctx=Load()), op=BitOr(), right=Dict(keys=[Name(id='i', ctx=Load())], values=[Name(id='x', ctx=Load())]))], keywords=[])\u001b[0m\n",
      "\u001b[90mERROR: name 'g' is not defined\u001b[0m\n",
      "\u001b[90mCALL visiting Call (lambda g: g[i])(g | {i: x})\n",
      "Call(func=Lambda(args=arguments(posonlyargs=[], args=[arg(arg='g')], kwonlyargs=[], kw_defaults=[], defaults=[]), body=Subscript(value=Name(id='g', ctx=Load()), slice=Name(id='i', ctx=Load()), ctx=Load())), args=[BinOp(left=Name(id='g', ctx=Load()), op=BitOr(), right=Dict(keys=[Name(id='i', ctx=Load())], values=[Name(id='x', ctx=Load())]))], keywords=[])\u001b[0m\n",
      "\u001b[90mError evaluating lambda g: g[i] Lambda(args=arguments(posonlyargs=[], args=[arg(arg='g')], kwonlyargs=[], kw_defaults=[], defaults=[]), body=Subscript(value=Name(id='g', ctx=Load()), slice=Name(id='i', ctx=Load()), ctx=Load()))\u001b[0m\n",
      "\u001b[90mERROR: invalid syntax (<unknown>, line 1)\u001b[0m\n",
      "\u001b[90mError evaluating g[i] Subscript(value=Name(id='g', ctx=Load()), slice=Name(id='i', ctx=Load()), ctx=Load())\u001b[0m\n",
      "\u001b[90mERROR: name 'g' is not defined\u001b[0m\n",
      "\u001b[90mError evaluating g Name(id='g', ctx=Load())\u001b[0m\n",
      "\u001b[90mERROR: name 'g' is not defined\u001b[0m\n",
      "\u001b[90mEvaluated i to 0\u001b[0m\n",
      "\u001b[90mError evaluating g | {i: x} BinOp(left=Name(id='g', ctx=Load()), op=BitOr(), right=Dict(keys=[Name(id='i', ctx=Load())], values=[Name(id='x', ctx=Load())]))\u001b[0m\n",
      "\u001b[90mERROR: name 'g' is not defined\u001b[0m\n",
      "\u001b[90mError evaluating g Name(id='g', ctx=Load())\u001b[0m\n",
      "\u001b[90mERROR: name 'g' is not defined\u001b[0m\n",
      "\u001b[90mError evaluating {i: x} Dict(keys=[Name(id='i', ctx=Load())], values=[Name(id='x', ctx=Load())])\u001b[0m\n",
      "\u001b[90mERROR: name 'x' is not defined\u001b[0m\n",
      "\u001b[90mEvaluated i to 0\u001b[0m\n",
      "\u001b[90mError evaluating x Name(id='x', ctx=Load())\u001b[0m\n",
      "\u001b[90mERROR: name 'x' is not defined\u001b[0m\n",
      "\u001b[90mError evaluating g[0] Subscript(value=Name(id='g', ctx=Load()), slice=Constant(value=0), ctx=Load())\u001b[0m\n",
      "\u001b[90mERROR: 'BinOp' object is not subscriptable\u001b[0m\n",
      "\u001b[90mEvaluated g to g | {0: x}\u001b[0m\n",
      "\u001b[90mEvaluated 0 to 0\u001b[0m\n",
      "\u001b[91m!!! Error interpreting node (0, 'he_0'):\n",
      " 'Lambda' object is not callable\u001b[0m\n"
     ]
    },
    {
     "ename": "TypeError",
     "evalue": "'Lambda' object is not callable",
     "output_type": "error",
     "traceback": [
      "\u001b[0;31m---------------------------------------------------------------------------\u001b[0m",
      "\u001b[0;31mTypeError\u001b[0m                                 Traceback (most recent call last)",
      "Cell \u001b[0;32mIn[9], line 30\u001b[0m\n\u001b[1;32m     23\u001b[0m     \u001b[38;5;28;01mreturn\u001b[39;00m value, rule\n\u001b[1;32m     25\u001b[0m m \u001b[38;5;241m=\u001b[39m Meaning5b({\n\u001b[1;32m     26\u001b[0m   \u001b[38;5;124m'\u001b[39m\u001b[38;5;124msnores\u001b[39m\u001b[38;5;124m'\u001b[39m : \u001b[38;5;124m'\u001b[39m\u001b[38;5;124mlambda x: SNORES(x)\u001b[39m\u001b[38;5;124m'\u001b[39m\u001b[38;5;241m.\u001b[39met,\n\u001b[1;32m     27\u001b[0m   \u001b[38;5;124m'\u001b[39m\u001b[38;5;124mAllie\u001b[39m\u001b[38;5;124m'\u001b[39m : \u001b[38;5;124m'\u001b[39m\u001b[38;5;124mA\u001b[39m\u001b[38;5;124m'\u001b[39m\u001b[38;5;241m.\u001b[39me\n\u001b[1;32m     28\u001b[0m })\n\u001b[0;32m---> 30\u001b[0m ff \u001b[38;5;241m=\u001b[39m \u001b[43mm\u001b[49m\u001b[43m[\u001b[49m\u001b[38;5;241;43m0\u001b[39;49m\u001b[43m,\u001b[49m\u001b[43m \u001b[49m\u001b[38;5;124;43m'\u001b[39;49m\u001b[38;5;124;43mhe_0\u001b[39;49m\u001b[38;5;124;43m'\u001b[39;49m\u001b[43m]\u001b[49m\n\u001b[1;32m     31\u001b[0m ff\n\u001b[1;32m     32\u001b[0m (\u001b[38;5;28;01mlambda\u001b[39;00m g : ff)\u001b[38;5;241m.\u001b[39mge({\u001b[38;5;241m1\u001b[39m:\u001b[38;5;124m'\u001b[39m\u001b[38;5;124mZ\u001b[39m\u001b[38;5;124m'\u001b[39m\u001b[38;5;241m.\u001b[39me, \u001b[38;5;241m2\u001b[39m:\u001b[38;5;124m'\u001b[39m\u001b[38;5;124mB\u001b[39m\u001b[38;5;124m'\u001b[39m\u001b[38;5;241m.\u001b[39me})\n",
      "File \u001b[0;32m/workspaces/ling516/phosphorus/meaning.py:64\u001b[0m, in \u001b[0;36mMeaning.__getitem__\u001b[0;34m(self, k)\u001b[0m\n\u001b[1;32m     62\u001b[0m     \u001b[38;5;28mself\u001b[39m\u001b[38;5;241m.\u001b[39mmemo[k,hargs] \u001b[38;5;241m=\u001b[39m \u001b[38;5;28mself\u001b[39m\u001b[38;5;241m.\u001b[39minterpret(k, \u001b[38;5;241m*\u001b[39margs)\n\u001b[1;32m     63\u001b[0m   \u001b[38;5;28;01mreturn\u001b[39;00m \u001b[38;5;28mself\u001b[39m\u001b[38;5;241m.\u001b[39mmemo[k,hargs]\n\u001b[0;32m---> 64\u001b[0m \u001b[38;5;28;01mreturn\u001b[39;00m \u001b[38;5;28;43mself\u001b[39;49m\u001b[38;5;241;43m.\u001b[39;49m\u001b[43minterpret\u001b[49m\u001b[43m(\u001b[49m\u001b[43mk\u001b[49m\u001b[43m,\u001b[49m\u001b[43m \u001b[49m\u001b[38;5;241;43m*\u001b[39;49m\u001b[43margs\u001b[49m\u001b[43m)\u001b[49m\n",
      "File \u001b[0;32m/workspaces/ling516/phosphorus/meaning.py:109\u001b[0m, in \u001b[0;36mMeaning.interpret\u001b[0;34m(self, alpha, *args)\u001b[0m\n\u001b[1;32m    107\u001b[0m \u001b[38;5;28mself\u001b[39m\u001b[38;5;241m.\u001b[39mindent \u001b[38;5;241m=\u001b[39m \u001b[38;5;124m'\u001b[39m\u001b[38;5;124m'\u001b[39m\n\u001b[1;32m    108\u001b[0m m\u001b[38;5;241m.\u001b[39mprint(\u001b[38;5;124mf\u001b[39m\u001b[38;5;124m'\u001b[39m\u001b[38;5;124m!!! Error interpreting node \u001b[39m\u001b[38;5;132;01m{\u001b[39;00malpha\u001b[38;5;132;01m}\u001b[39;00m\u001b[38;5;124m:\u001b[39m\u001b[38;5;130;01m\\n\u001b[39;00m\u001b[38;5;124m \u001b[39m\u001b[38;5;132;01m{\u001b[39;00me\u001b[38;5;132;01m}\u001b[39;00m\u001b[38;5;124m'\u001b[39m, level\u001b[38;5;241m=\u001b[39mlogging\u001b[38;5;241m.\u001b[39mERROR)\n\u001b[0;32m--> 109\u001b[0m \u001b[38;5;28;01mraise\u001b[39;00m e\n",
      "File \u001b[0;32m/workspaces/ling516/phosphorus/meaning.py:98\u001b[0m, in \u001b[0;36mMeaning.interpret\u001b[0;34m(self, alpha, *args)\u001b[0m\n\u001b[1;32m     96\u001b[0m   value, rule \u001b[38;5;241m=\u001b[39m \u001b[38;5;28;01mNone\u001b[39;00m, \u001b[38;5;124m'\u001b[39m\u001b[38;5;124mNN\u001b[39m\u001b[38;5;124m'\u001b[39m\n\u001b[1;32m     97\u001b[0m \u001b[38;5;28;01melse\u001b[39;00m:\n\u001b[0;32m---> 98\u001b[0m   value, rule \u001b[38;5;241m=\u001b[39m \u001b[38;5;28;43mself\u001b[39;49m\u001b[38;5;241;43m.\u001b[39;49m\u001b[43mrules\u001b[49m\u001b[43m(\u001b[49m\u001b[43malpha\u001b[49m\u001b[43m,\u001b[49m\u001b[43m \u001b[49m\u001b[38;5;241;43m*\u001b[39;49m\u001b[43margs\u001b[49m\u001b[43m)\u001b[49m\n\u001b[1;32m     99\u001b[0m   \u001b[38;5;28;01mif\u001b[39;00m value \u001b[38;5;129;01mis\u001b[39;00m \u001b[38;5;28;01mNone\u001b[39;00m \u001b[38;5;129;01mand\u001b[39;00m rule \u001b[38;5;241m!=\u001b[39m \u001b[38;5;124m'\u001b[39m\u001b[38;5;124mTN\u001b[39m\u001b[38;5;124m'\u001b[39m: \u001b[38;5;66;03m#fix\u001b[39;00m\n\u001b[1;32m    100\u001b[0m     children \u001b[38;5;241m=\u001b[39m \u001b[38;5;124m'\u001b[39m\u001b[38;5;124m and \u001b[39m\u001b[38;5;124m'\u001b[39m\u001b[38;5;241m.\u001b[39mjoin(\u001b[38;5;28mmap\u001b[39m(\u001b[38;5;28mstr\u001b[39m, alpha))\n",
      "Cell \u001b[0;32mIn[9], line 10\u001b[0m, in \u001b[0;36mMeaning5b.rules\u001b[0;34m(self, alpha)\u001b[0m\n\u001b[1;32m      8\u001b[0m   m \u001b[38;5;241m=\u001b[39m \u001b[38;5;28mself\u001b[39m\n\u001b[1;32m      9\u001b[0m   value \u001b[38;5;241m=\u001b[39m (\u001b[38;5;28;01mlambda\u001b[39;00m x : (\u001b[38;5;28;01mlambda\u001b[39;00m g : g[i])(g \u001b[38;5;241m|\u001b[39m {i:x}))\u001b[38;5;241m.\u001b[39mee\n\u001b[0;32m---> 10\u001b[0m   value \u001b[38;5;241m=\u001b[39m \u001b[43mvalue\u001b[49m\u001b[43m(\u001b[49m\u001b[43mm\u001b[49m\u001b[43m[\u001b[49m\u001b[43mbeta\u001b[49m\u001b[43m]\u001b[49m\u001b[43m)\u001b[49m\n\u001b[1;32m     13\u001b[0m \u001b[38;5;66;03m# TP\u001b[39;00m\n\u001b[1;32m     14\u001b[0m \u001b[38;5;28;01mcase\u001b[39;00m\u001b[38;5;250m \u001b[39m\u001b[38;5;28mstr\u001b[39m() \u001b[38;5;28;01mif\u001b[39;00m \u001b[38;5;124m'\u001b[39m\u001b[38;5;28;01m_\u001b[39;00m\u001b[38;5;124m'\u001b[39m\u001b[38;5;124m in alpha and alpha.split(\u001b[39m\u001b[38;5;124m'\u001b[39m_\u001b[38;5;124m'\u001b[39m\u001b[38;5;124m)[1].isdigit():\u001b[39m\n",
      "\u001b[0;31mTypeError\u001b[0m: 'Lambda' object is not callable"
     ]
    }
   ],
   "source": [
    "class Meaning5b(Meaning):\n",
    "  def rules(self, alpha):\n",
    "    value, rule = None, None\n",
    "    match alpha:\n",
    "      # PA\n",
    "      case (int() as i, beta):\n",
    "        rule = 'PA'\n",
    "        m = self\n",
    "        value = (lambda x : (lambda g : g[i])(g | {i:x})).ee\n",
    "        value = value(m[beta])\n",
    "        \n",
    "\n",
    "      # TP\n",
    "      case str() if '_' in alpha and alpha.split('_')[1].isdigit():\n",
    "        i = int(alpha.split('_')[1])\n",
    "        rule = 'TP'\n",
    "        value = 'g[0]'.e\n",
    "\n",
    "      case int() as i:\n",
    "        rule = 'TN'\n",
    "        value = i\n",
    "\n",
    "    return value, rule\n",
    "\n",
    "m = Meaning5b({\n",
    "  'snores' : 'lambda x: SNORES(x)'.et,\n",
    "  'Allie' : 'A'.e\n",
    "})\n",
    "\n",
    "ff = m[0, 'he_0']\n",
    "ff\n",
    "(lambda g : ff).ge({1:'Z'.e, 2:'B'.e})\n",
    "#ff({1:'Z'.e, 2:'B'.e})('A'.e)"
   ]
  },
  {
   "cell_type": "code",
   "execution_count": null,
   "metadata": {},
   "outputs": [
    {
     "name": "stderr",
     "output_type": "stream",
     "text": [
      "Interpreting (0, 'he_0') with parameters: ()\u001b[0m\n",
      "   Interpreting 0 with parameters: ()\u001b[0m\n",
      "   => 0 = 0 \t(TN)\u001b[0m\n",
      "   Interpreting he_0 with parameters: ()\u001b[0m\n",
      "   => he_0 = λg . g[0] \t(TP)\u001b[0m\n",
      "\u001b[38;5;208mvalue context: {}\u001b[0m\n",
      "\u001b[38;5;208mvalue context: {}\u001b[0m\n",
      "=> (0, 'he_0') = λg . λx . (g | {0: x})[0] \t(PA)\u001b[0m\n"
     ]
    },
    {
     "data": {
      "text/html": [
       "λg . λx . (g | {0: x})[0]\n",
       "        <span style='float:right; font-family:monospace; margin-right:75px;\n",
       "              font-weight:bold; background-color:#e5e5ff; color:#000'>\n",
       "          ('g', ('e', 'e'))</span>"
      ],
      "text/plain": [
       "Function(\"lambda g: lambda x: (g | {0: x})[0]\", Type(('g', ('e', 'e'))))"
      ]
     },
     "execution_count": 27,
     "metadata": {},
     "output_type": "execute_result"
    },
    {
     "data": {
      "text/html": [
       "λx . ({1: 'Z', 2: 'B'} | {0: x})[0]\n",
       "        <span style='float:right; font-family:monospace; margin-right:75px;\n",
       "              font-weight:bold; background-color:#e5e5ff; color:#000'>\n",
       "          ('e', 'e')</span>"
      ],
      "text/plain": [
       "Function(\"lambda x: ({1: 'Z', 2: 'B'} | {0: x})[0]\", Type(('e', 'e')))"
      ]
     },
     "execution_count": 27,
     "metadata": {},
     "output_type": "execute_result"
    },
    {
     "data": {
      "text/plain": [
       "'A'"
      ]
     },
     "execution_count": 27,
     "metadata": {},
     "output_type": "execute_result"
    }
   ],
   "source": [
    "class Meaning5b(Meaning):\n",
    "  def rules(self, alpha):\n",
    "    value, rule = None, None\n",
    "    match alpha:\n",
    "      # PA\n",
    "      case (int() as i, beta):\n",
    "        rule = 'PA'\n",
    "        m = self\n",
    "        value = (lambda y : lambda g: lambda x : y(g|{0:x})).ge_gee\n",
    "        logger.warning('value context: %s', value.context)\n",
    "        value = value(m[beta])\n",
    "        logger.warning('value context: %s', value.context)\n",
    "        \n",
    "\n",
    "      # TP\n",
    "      case str() if '_' in alpha and alpha.split('_')[1].isdigit():\n",
    "        i = int(alpha.split('_')[1])\n",
    "        rule = 'TP'\n",
    "        value = (lambda g : g[0]).ge\n",
    "\n",
    "      case int() as i:\n",
    "        rule = 'TN'\n",
    "        value = i\n",
    "\n",
    "    return value, rule\n",
    "\n",
    "m = Meaning5b({\n",
    "  'snores' : 'lambda x: SNORES(x)'.et,\n",
    "  'Allie' : 'A'.e\n",
    "})\n",
    "\n",
    "ff = m[0, 'he_0']\n",
    "ff\n",
    "ff({1:'Z'.e, 2:'B'.e})\n",
    "ff({1:'Z'.e, 2:'B'.e})('A'.e)"
   ]
  },
  {
   "cell_type": "code",
   "execution_count": null,
   "metadata": {},
   "outputs": [
    {
     "name": "stderr",
     "output_type": "stream",
     "text": [
      "Interpreting (0, ('he_0', 'snores')) with parameters: (['Z', 'B'],)\u001b[0m\n",
      "   Interpreting 0 with parameters: (['Z', 'B'],)\u001b[0m\n",
      "   => 0 = 0 \t(TN)\u001b[0m\n",
      "   Interpreting ('he_0', 'snores') with parameters: (['Z', 'B'],)\u001b[0m\n",
      "      Interpreting he_0 with parameters: (['Z', 'B'],)\u001b[0m\n",
      "      => he_0 = 'Z' \t(TP)\u001b[0m\n",
      "      Interpreting snores with parameters: (['Z', 'B'],)\u001b[0m\n",
      "      => snores = λx . SNORES(x) \t(TN)\u001b[0m\n",
      "   => ('he_0', 'snores') = SNORES('Z') \t(AF)\u001b[0m\n",
      "=> (0, ('he_0', 'snores')) = λx . m(modify(g, i, x))[beta] \t(PA)\u001b[0m\n"
     ]
    },
    {
     "data": {
      "text/html": [
       "λx . m(modify(g, i, x))[beta]\n",
       "        <span style='float:right; font-family:monospace; margin-right:75px;\n",
       "              font-weight:bold; background-color:#e5e5ff; color:#000'>\n",
       "          ('e', 't')</span>"
      ],
      "text/plain": [
       "Function(\"lambda x: m(modify(g, i, x))[beta]\", Type(('e', 't')))"
      ]
     },
     "execution_count": 4,
     "metadata": {},
     "output_type": "execute_result"
    }
   ],
   "source": [
    "def modify(g, i, a):\n",
    "  g[i] = SemVal(str(a), Type.e)\n",
    "  return g\n",
    "\n",
    "class Meaning5b(Meaning):\n",
    "  def rules(self, alpha, g): # pylint: disable=no-self-argument\n",
    "    \"\"\"Defines standard rules for combining the meanings of the\n",
    "    children of a node alpha. Meant to be overridden if different rules are wanted.\"\"\"\n",
    "\n",
    "    value, rule = None, None\n",
    "    m = self(g)\n",
    "    match alpha:\n",
    "      # PA\n",
    "      case (int() as i, beta):\n",
    "        rule = 'PA'\n",
    "        m = self\n",
    "        value = (lambda x : m(modify(g,i,x))[beta]).et\n",
    "\n",
    "      # PM\n",
    "      case (beta, gamma) if m[gamma].type == m[beta].type == Type.et:\n",
    "        rule = 'PM'\n",
    "        pm_f = Function('lambda f : lambda g: lambda x: f(x) and g(x)', Type.et_et_et)\n",
    "        value = pm_f(m[beta])(m[gamma])\n",
    "\n",
    "      # FA\n",
    "      case (beta, gamma) if  m[gamma] in m[beta].domain() :\n",
    "        rule = 'FA'\n",
    "        value = m[beta](m[gamma])\n",
    "      case (gamma, beta) if  m[gamma] in m[beta].domain() :\n",
    "        rule = 'AF'\n",
    "        value = m[beta](m[gamma])\n",
    "\n",
    "      # NN\n",
    "      case (beta,):\n",
    "        rule = 'NN'\n",
    "        value = m[beta]\n",
    "      \n",
    "      # TP\n",
    "      case str() if '_' in alpha and alpha.split('_')[1].isdigit():\n",
    "        i = int(alpha.split('_')[1])\n",
    "        rule = 'TP'\n",
    "        value = g[i]\n",
    "\n",
    "      # TN\n",
    "      case str():\n",
    "        rule = 'TN'\n",
    "        value = m.lookup(alpha)\n",
    "\n",
    "      case int() as i:\n",
    "        rule = 'TN'\n",
    "        value = i\n",
    "\n",
    "    return value, rule\n",
    "\n",
    "m = Meaning5b({\n",
    "  'snores' : 'lambda x: SNORES(x)'.et,\n",
    "  'Allie' : 'A'.e\n",
    "})\n",
    "\n",
    "ff = m(['Z'.e, 'B'.e])[(0, ('he_0', 'snores'))]\n",
    "ff"
   ]
  },
  {
   "cell_type": "code",
   "execution_count": null,
   "metadata": {},
   "outputs": [
    {
     "name": "stderr",
     "output_type": "stream",
     "text": [
      "Interpreting ('he', 'snores') with parameters: ('A',)\u001b[0m\n",
      "   Interpreting he with parameters: ('A',)\u001b[0m\n",
      "   => he = 'A' \t(TP)\u001b[0m\n",
      "   Interpreting snores with parameters: ('A',)\u001b[0m\n",
      "   => snores = λx . SNORES(x) \t(TN)\u001b[0m\n",
      "=> ('he', 'snores') = SNORES('A') \t(AF)\u001b[0m\n"
     ]
    },
    {
     "data": {
      "text/html": [
       "SNORES('A')\n",
       "        <span style='float:right; font-family:monospace; margin-right:75px;\n",
       "              font-weight:bold; background-color:#e5e5ff; color:#000'>\n",
       "          't'</span>"
      ],
      "text/plain": [
       "SNORES('A')"
      ]
     },
     "execution_count": 5,
     "metadata": {},
     "output_type": "execute_result"
    }
   ],
   "source": [
    "class Meaning5a(Meaning):\n",
    "  def rules(self, alpha, a): # pylint: disable=no-self-argument\n",
    "    \"\"\"Defines standard rules for combining the meanings of the\n",
    "    children of a node alpha. Meant to be overridden if different rules are wanted.\"\"\"\n",
    "\n",
    "    value, rule = None, None\n",
    "    m = self(a)\n",
    "    match alpha:      \n",
    "      # PM\n",
    "      case (beta, gamma) if m[gamma].type == m[beta].type == Type.et:\n",
    "        rule = 'PM'\n",
    "        pm_f = Function('lambda f : lambda g: lambda x: f(x) and g(x)', Type.et_et_et)\n",
    "        value = pm_f(m[beta])(m[gamma])\n",
    "\n",
    "      # FA\n",
    "      case (beta, gamma) if  m[gamma] in m[beta].domain() :\n",
    "        rule = 'FA'\n",
    "        value = m[beta](m[gamma])\n",
    "      case (gamma, beta) if  m[gamma] in m[beta].domain() :\n",
    "        rule = 'AF'\n",
    "        value = m[beta](m[gamma])\n",
    "\n",
    "      # NN\n",
    "      case (beta,):\n",
    "        rule = 'NN'\n",
    "        value = m[beta]\n",
    "\n",
    "      case 't'|'he'|'she'|'it':\n",
    "        rule = 'TP'\n",
    "        value = a\n",
    "      \n",
    "      # TN\n",
    "      case str():\n",
    "        rule = 'TN'\n",
    "        value = m.lookup(alpha)\n",
    "\n",
    "    return value, rule\n",
    "\n",
    "m = Meaning5a({\n",
    "  'snores' : 'lambda x: SNORES(x)'.et,\n",
    "})\n",
    "\n",
    "m('A'.e)['he', 'snores']"
   ]
  },
  {
   "cell_type": "code",
   "execution_count": null,
   "metadata": {},
   "outputs": [
    {
     "data": {
      "image/svg+xml": [
       "<svg baseProfile=\"full\" height=\"216px\" preserveAspectRatio=\"xMidYMid meet\" style=\"font-family: times, serif; font-weight: normal; font-style: normal; font-size: 16px\" version=\"1.1\" viewBox=\"0,0,242.0,216.0\" width=\"242px\" xmlns=\"http://www.w3.org/2000/svg\" xmlns:ev=\"http://www.w3.org/2001/xml-events\" xmlns:xlink=\"http://www.w3.org/1999/xlink\"><defs /><svg width=\"100%\" x=\"0\" y=\"0px\"><defs /><text text-anchor=\"middle\" x=\"50%\" y=\"16px\">S</text></svg><svg width=\"40.4959%\" x=\"0%\" y=\"48px\"><defs /><svg width=\"100%\" x=\"0\" y=\"0px\"><defs /><text text-anchor=\"middle\" x=\"50%\" y=\"16px\">NP</text></svg><svg width=\"59.1837%\" x=\"0%\" y=\"48px\"><defs /><svg width=\"100%\" x=\"0\" y=\"0px\"><defs /><text text-anchor=\"middle\" x=\"50%\" y=\"16px\">DT</text></svg><svg width=\"100%\" x=\"0%\" y=\"48px\"><defs /><svg width=\"100%\" x=\"0\" y=\"0px\"><defs /><text text-anchor=\"middle\" x=\"50%\" y=\"16px\"><tspan>The</tspan><tspan dy=\"4px\" style=\"font-size: 12px\">1</tspan></text></svg></svg><line stroke=\"black\" x1=\"50%\" x2=\"50%\" y1=\"20px\" y2=\"48px\" /></svg><line stroke=\"black\" x1=\"50%\" x2=\"29.5918%\" y1=\"20px\" y2=\"48px\" /><svg width=\"40.8163%\" x=\"59.1837%\" y=\"48px\"><defs /><svg width=\"100%\" x=\"0\" y=\"0px\"><defs /><text text-anchor=\"middle\" x=\"50%\" y=\"16px\">NN</text></svg><svg width=\"100%\" x=\"0%\" y=\"48px\"><defs /><svg width=\"100%\" x=\"0\" y=\"0px\"><defs /><text text-anchor=\"middle\" x=\"50%\" y=\"16px\">cat</text></svg></svg><line stroke=\"black\" x1=\"50%\" x2=\"50%\" y1=\"20px\" y2=\"48px\" /></svg><line stroke=\"black\" x1=\"50%\" x2=\"79.5918%\" y1=\"20px\" y2=\"48px\" /></svg><line stroke=\"black\" x1=\"50%\" x2=\"20.2479%\" y1=\"20px\" y2=\"48px\" /><svg width=\"59.5041%\" x=\"40.4959%\" y=\"48px\"><defs /><svg width=\"100%\" x=\"0\" y=\"0px\"><defs /><text text-anchor=\"middle\" x=\"50%\" y=\"16px\">VP</text></svg><svg width=\"33.3333%\" x=\"0%\" y=\"48px\"><defs /><svg width=\"100%\" x=\"0\" y=\"0px\"><defs /><text text-anchor=\"middle\" x=\"50%\" y=\"16px\">VBZ</text></svg><svg width=\"100%\" x=\"0%\" y=\"48px\"><defs /><svg width=\"100%\" x=\"0\" y=\"0px\"><defs /><text text-anchor=\"middle\" x=\"50%\" y=\"16px\">eats</text></svg></svg><line stroke=\"black\" x1=\"50%\" x2=\"50%\" y1=\"20px\" y2=\"48px\" /></svg><line stroke=\"black\" x1=\"50%\" x2=\"16.6667%\" y1=\"20px\" y2=\"48px\" /><svg width=\"66.6667%\" x=\"33.3333%\" y=\"48px\"><defs /><svg width=\"100%\" x=\"0\" y=\"0px\"><defs /><text text-anchor=\"middle\" x=\"50%\" y=\"16px\">NP</text></svg><svg width=\"41.6667%\" x=\"0%\" y=\"48px\"><defs /><svg width=\"100%\" x=\"0\" y=\"0px\"><defs /><text text-anchor=\"middle\" x=\"50%\" y=\"16px\">DT</text></svg><svg width=\"100%\" x=\"0%\" y=\"48px\"><defs /><svg width=\"100%\" x=\"0\" y=\"0px\"><defs /><text text-anchor=\"middle\" x=\"50%\" y=\"16px\">the</text></svg></svg><line stroke=\"black\" x1=\"50%\" x2=\"50%\" y1=\"20px\" y2=\"48px\" /></svg><line stroke=\"black\" x1=\"50%\" x2=\"20.8333%\" y1=\"20px\" y2=\"48px\" /><svg width=\"58.3333%\" x=\"41.6667%\" y=\"48px\"><defs /><svg width=\"100%\" x=\"0\" y=\"0px\"><defs /><text text-anchor=\"middle\" x=\"50%\" y=\"16px\">NN</text></svg><svg width=\"100%\" x=\"0%\" y=\"48px\"><defs /><svg width=\"100%\" x=\"0\" y=\"0px\"><defs /><text text-anchor=\"middle\" x=\"50%\" y=\"16px\">mouse</text></svg></svg><line stroke=\"black\" x1=\"50%\" x2=\"50%\" y1=\"20px\" y2=\"48px\" /></svg><line stroke=\"black\" x1=\"50%\" x2=\"70.8333%\" y1=\"20px\" y2=\"48px\" /></svg><line stroke=\"black\" x1=\"50%\" x2=\"66.6667%\" y1=\"20px\" y2=\"48px\" /></svg><line stroke=\"black\" x1=\"50%\" x2=\"70.2479%\" y1=\"20px\" y2=\"48px\" /></svg>"
      ],
      "text/plain": [
       "Tree('S', [Tree('NP', [Tree('DT', ['The_1']), Tree('NN', ['cat'])]), Tree('VP', [Tree('VBZ', ['eats']), Tree('NP', [Tree('DT', ['the']), Tree('NN', ['mouse'])])])])"
      ]
     },
     "execution_count": 6,
     "metadata": {},
     "output_type": "execute_result"
    },
    {
     "data": {
      "text/plain": [
       "'The_1'"
      ]
     },
     "execution_count": 6,
     "metadata": {},
     "output_type": "execute_result"
    }
   ],
   "source": [
    "import svgling\n",
    "from nltk import Tree\n",
    "\n",
    "tree = Tree.fromstring('(S (NP (DT The_1) (NN cat)) (VP (VBZ eats) (NP (DT the) (NN mouse))))')\n",
    "\n",
    "def split_leaf(node):\n",
    "  if isinstance(node, str):\n",
    "    l = node.split('_')\n",
    "    if len(l) > 1:\n",
    "      return svgling.core.subscript_node(l[0], l[1]), ()\n",
    "    return node, ()\n",
    "\n",
    "def _repr_svg_(self):\n",
    "  return svgling.draw_tree(self, tree_split=split_leaf)._repr_svg_()\n",
    "\n",
    "Tree._repr_svg_ = _repr_svg_\n",
    "tree\n",
    "tree[0][0][0]\n"
   ]
  },
  {
   "cell_type": "code",
   "execution_count": null,
   "metadata": {},
   "outputs": [],
   "source": [
    "from string import ascii_uppercase\n",
    "DOMAIN = [SemVal.create(c,Type.e) for c in ascii_uppercase]\n",
    "A,B,C,D,E,F,G,H,I,J,K,L,M,N,O,P,Q,R,S,T,U,V,W,X,Y,Z = DOMAIN\n",
    "\n",
    "def charset(f, domain = None):\n",
    "  #logger.warning(f'CHARSET of {repr(f)}')\n",
    "  if domain is None:\n",
    "    domain = DOMAIN\n",
    "  out = {c for c in domain if f(c)}\n",
    "  #logger.warning(f'CHARSET of {f} is {out}')\n",
    "  return out\n",
    "\n",
    "def iota(f, domain = None):\n",
    "  #logger.warning(f'IOTA of {f}')\n",
    "  return max(charset(f,domain))"
   ]
  },
  {
   "cell_type": "code",
   "execution_count": null,
   "metadata": {},
   "outputs": [
    {
     "data": {
      "text/html": [
       "<h3>[black pawn]</h3>"
      ],
      "text/plain": [
       "<IPython.core.display.HTML object>"
      ]
     },
     "execution_count": 8,
     "metadata": {},
     "output_type": "execute_result"
    },
    {
     "name": "stderr",
     "output_type": "stream",
     "text": [
      "Interpreting ('black', 'pawn') with parameters: ()\u001b[0m\n",
      "   Interpreting black with parameters: ()\u001b[0m\n",
      "   => black = λx . BLACK(x) \t(TN)\u001b[0m\n",
      "   Interpreting pawn with parameters: ()\u001b[0m\n",
      "   => pawn = λx . PAWN(x) \t(TN)\u001b[0m\n",
      "=> ('black', 'pawn') = λx . BLACK(x) and PAWN(x) \t(PM)\u001b[0m\n"
     ]
    },
    {
     "data": {
      "text/plain": [
       "{'B', 'D', 'E', 'F'}"
      ]
     },
     "execution_count": 8,
     "metadata": {},
     "output_type": "execute_result"
    },
    {
     "data": {
      "text/html": [
       "<h3>[leftmost.et pawn]</h3>"
      ],
      "text/plain": [
       "<IPython.core.display.HTML object>"
      ]
     },
     "execution_count": 8,
     "metadata": {},
     "output_type": "execute_result"
    },
    {
     "name": "stderr",
     "output_type": "stream",
     "text": [
      "Interpreting ('leftmost.et', 'pawn') with parameters: ()\u001b[0m\n",
      "   Interpreting leftmost.et with parameters: ()\u001b[0m\n",
      "   => leftmost.et = λx . len(charset(lambda y: LEFT_OF(y, x))) == 0 \t(TN)\u001b[0m\n",
      "   Interpreting pawn with parameters: ()\u001b[0m\n",
      "   => pawn = λx . PAWN(x) \t(TN)\u001b[0m\n",
      "=> ('leftmost.et', 'pawn') = λx . len(charset(lambda y: LEFT_OF(y, x))) == 0 and PAWN(x) \t(PM)\u001b[0m\n"
     ]
    },
    {
     "data": {
      "text/plain": [
       "{'A'}"
      ]
     },
     "execution_count": 8,
     "metadata": {},
     "output_type": "execute_result"
    },
    {
     "data": {
      "text/html": [
       "<h3>[leftmost.et black pawn]</h3>"
      ],
      "text/plain": [
       "<IPython.core.display.HTML object>"
      ]
     },
     "execution_count": 8,
     "metadata": {},
     "output_type": "execute_result"
    },
    {
     "data": {
      "image/svg+xml": [
       "<svg baseProfile=\"full\" height=\"120px\" preserveAspectRatio=\"xMidYMid meet\" style=\"font-family: times, serif; font-weight: normal; font-style: normal; font-size: 16px\" version=\"1.1\" viewBox=\"0,0,208.0,120.0\" width=\"208px\" xmlns=\"http://www.w3.org/2000/svg\" xmlns:ev=\"http://www.w3.org/2001/xml-events\" xmlns:xlink=\"http://www.w3.org/1999/xlink\"><defs /><svg width=\"100%\" x=\"0\" y=\"0px\"><defs /><text text-anchor=\"middle\" x=\"50%\" y=\"16px\">NP</text></svg><svg width=\"50%\" x=\"0%\" y=\"48px\"><defs /><svg width=\"100%\" x=\"0\" y=\"0px\"><defs /><text text-anchor=\"middle\" x=\"50%\" y=\"16px\">leftmost.et</text></svg></svg><line stroke=\"black\" x1=\"50%\" x2=\"25%\" y1=\"20px\" y2=\"48px\" /><svg width=\"50%\" x=\"50%\" y=\"48px\"><defs /><svg width=\"100%\" x=\"0\" y=\"0px\"><defs /><text text-anchor=\"middle\" x=\"50%\" y=\"16px\">NP</text></svg><svg width=\"53.8462%\" x=\"0%\" y=\"48px\"><defs /><svg width=\"100%\" x=\"0\" y=\"0px\"><defs /><text text-anchor=\"middle\" x=\"50%\" y=\"16px\">black</text></svg></svg><line stroke=\"black\" x1=\"50%\" x2=\"26.9231%\" y1=\"20px\" y2=\"48px\" /><svg width=\"46.1538%\" x=\"53.8462%\" y=\"48px\"><defs /><svg width=\"100%\" x=\"0\" y=\"0px\"><defs /><text text-anchor=\"middle\" x=\"50%\" y=\"16px\">pawn</text></svg></svg><line stroke=\"black\" x1=\"50%\" x2=\"76.9231%\" y1=\"20px\" y2=\"48px\" /></svg><line stroke=\"black\" x1=\"50%\" x2=\"75%\" y1=\"20px\" y2=\"48px\" /></svg>"
      ],
      "text/plain": [
       "Tree('NP', ['leftmost.et', Tree('NP', ['black', 'pawn'])])"
      ]
     },
     "execution_count": 8,
     "metadata": {},
     "output_type": "execute_result"
    },
    {
     "name": "stderr",
     "output_type": "stream",
     "text": [
      "Interpreting (NP leftmost.et (NP black pawn)) with parameters: ()\u001b[0m\n",
      "   Interpreting leftmost.et with parameters: ()\u001b[0m\n",
      "   => leftmost.et = λx . len(charset(lambda y: LEFT_OF(y, x))) == 0 \t(TN)\u001b[0m\n",
      "   Interpreting (NP black pawn) with parameters: ()\u001b[0m\n",
      "      Interpreting black with parameters: ()\u001b[0m\n",
      "      => black = λx . BLACK(x) \t(TN)\u001b[0m\n",
      "      Interpreting pawn with parameters: ()\u001b[0m\n",
      "      => pawn = λx . PAWN(x) \t(TN)\u001b[0m\n",
      "   => (NP black pawn) = λx . BLACK(x) and PAWN(x) \t(PM)\u001b[0m\n",
      "=> (NP leftmost.et (NP black pawn)) = λx . len(charset(lambda y: LEFT_OF(y, x))) == 0 and (BLACK(x) and PAWN(x)) \t(PM)\u001b[0m\n"
     ]
    },
    {
     "data": {
      "text/plain": [
       "set()"
      ]
     },
     "execution_count": 8,
     "metadata": {},
     "output_type": "execute_result"
    },
    {
     "data": {
      "text/html": [
       "<h3>[leftmost.et_et pawn]</h3>"
      ],
      "text/plain": [
       "<IPython.core.display.HTML object>"
      ]
     },
     "execution_count": 8,
     "metadata": {},
     "output_type": "execute_result"
    },
    {
     "name": "stderr",
     "output_type": "stream",
     "text": [
      "Interpreting ('leftmost.et_et', 'pawn') with parameters: ()\u001b[0m\n",
      "   Interpreting leftmost.et_et with parameters: ()\u001b[0m\n",
      "   => leftmost.et_et = λf . λx . len(charset(lambda y: f(y) and LEFT_OF(y, x))) == 0 \t(TN)\u001b[0m\n",
      "   Interpreting pawn with parameters: ()\u001b[0m\n",
      "   => pawn = λx . PAWN(x) \t(TN)\u001b[0m\n",
      "=> ('leftmost.et_et', 'pawn') = λx . len(charset(lambda y: PAWN(y) and LEFT_OF(y, x))) == 0 \t(FA)\u001b[0m\n"
     ]
    },
    {
     "data": {
      "text/plain": [
       "{'A',\n",
       " 'H',\n",
       " 'I',\n",
       " 'J',\n",
       " 'K',\n",
       " 'L',\n",
       " 'M',\n",
       " 'N',\n",
       " 'O',\n",
       " 'P',\n",
       " 'Q',\n",
       " 'R',\n",
       " 'S',\n",
       " 'T',\n",
       " 'U',\n",
       " 'V',\n",
       " 'W',\n",
       " 'X',\n",
       " 'Y',\n",
       " 'Z'}"
      ]
     },
     "execution_count": 8,
     "metadata": {},
     "output_type": "execute_result"
    },
    {
     "data": {
      "text/html": [
       "<h3>[leftmost.et_et black pawn]</h3>"
      ],
      "text/plain": [
       "<IPython.core.display.HTML object>"
      ]
     },
     "execution_count": 8,
     "metadata": {},
     "output_type": "execute_result"
    },
    {
     "data": {
      "image/svg+xml": [
       "<svg baseProfile=\"full\" height=\"120px\" preserveAspectRatio=\"xMidYMid meet\" style=\"font-family: times, serif; font-weight: normal; font-style: normal; font-size: 16px\" version=\"1.1\" viewBox=\"0,0,232.0,120.0\" width=\"232px\" xmlns=\"http://www.w3.org/2000/svg\" xmlns:ev=\"http://www.w3.org/2001/xml-events\" xmlns:xlink=\"http://www.w3.org/1999/xlink\"><defs /><svg width=\"100%\" x=\"0\" y=\"0px\"><defs /><text text-anchor=\"middle\" x=\"50%\" y=\"16px\">NP</text></svg><svg width=\"55.1724%\" x=\"0%\" y=\"48px\"><defs /><svg width=\"100%\" x=\"0\" y=\"0px\"><defs /><text text-anchor=\"middle\" x=\"50%\" y=\"16px\"><tspan>leftmost.et</tspan><tspan dy=\"4px\" style=\"font-size: 12px\">et</tspan></text></svg></svg><line stroke=\"black\" x1=\"50%\" x2=\"27.5862%\" y1=\"20px\" y2=\"48px\" /><svg width=\"44.8276%\" x=\"55.1724%\" y=\"48px\"><defs /><svg width=\"100%\" x=\"0\" y=\"0px\"><defs /><text text-anchor=\"middle\" x=\"50%\" y=\"16px\">NP</text></svg><svg width=\"53.8462%\" x=\"0%\" y=\"48px\"><defs /><svg width=\"100%\" x=\"0\" y=\"0px\"><defs /><text text-anchor=\"middle\" x=\"50%\" y=\"16px\">black</text></svg></svg><line stroke=\"black\" x1=\"50%\" x2=\"26.9231%\" y1=\"20px\" y2=\"48px\" /><svg width=\"46.1538%\" x=\"53.8462%\" y=\"48px\"><defs /><svg width=\"100%\" x=\"0\" y=\"0px\"><defs /><text text-anchor=\"middle\" x=\"50%\" y=\"16px\">pawn</text></svg></svg><line stroke=\"black\" x1=\"50%\" x2=\"76.9231%\" y1=\"20px\" y2=\"48px\" /></svg><line stroke=\"black\" x1=\"50%\" x2=\"77.5862%\" y1=\"20px\" y2=\"48px\" /></svg>"
      ],
      "text/plain": [
       "Tree('NP', ['leftmost.et_et', Tree('NP', ['black', 'pawn'])])"
      ]
     },
     "execution_count": 8,
     "metadata": {},
     "output_type": "execute_result"
    },
    {
     "name": "stderr",
     "output_type": "stream",
     "text": [
      "Interpreting (NP leftmost.et_et (NP black pawn)) with parameters: ()\u001b[0m\n",
      "   Interpreting leftmost.et_et with parameters: ()\u001b[0m\n",
      "   => leftmost.et_et = λf . λx . len(charset(lambda y: f(y) and LEFT_OF(y, x))) == 0 \t(TN)\u001b[0m\n",
      "   Interpreting (NP black pawn) with parameters: ()\u001b[0m\n",
      "      Interpreting black with parameters: ()\u001b[0m\n",
      "      => black = λx . BLACK(x) \t(TN)\u001b[0m\n",
      "      Interpreting pawn with parameters: ()\u001b[0m\n",
      "      => pawn = λx . PAWN(x) \t(TN)\u001b[0m\n",
      "   => (NP black pawn) = λx . BLACK(x) and PAWN(x) \t(PM)\u001b[0m\n",
      "=> (NP leftmost.et_et (NP black pawn)) = λx . len(charset(lambda y: (BLACK(y) and PAWN(y)) and LEFT_OF(y, x))) == 0 \t(FA)\u001b[0m\n"
     ]
    },
    {
     "data": {
      "text/plain": [
       "{'A',\n",
       " 'B',\n",
       " 'H',\n",
       " 'I',\n",
       " 'J',\n",
       " 'K',\n",
       " 'L',\n",
       " 'M',\n",
       " 'N',\n",
       " 'O',\n",
       " 'P',\n",
       " 'Q',\n",
       " 'R',\n",
       " 'S',\n",
       " 'T',\n",
       " 'U',\n",
       " 'V',\n",
       " 'W',\n",
       " 'X',\n",
       " 'Y',\n",
       " 'Z'}"
      ]
     },
     "execution_count": 8,
     "metadata": {},
     "output_type": "execute_result"
    }
   ],
   "source": [
    "from IPython.display import HTML\n",
    "from nltk import Tree\n",
    "# Domain and Predicates / Relations\n",
    "A, B, C, D, E, F, G = DOMAIN[:7]\n",
    "PAWN = Predicate({\n",
    "    (A,), (B,), (C,), (D,), (E,), (F,), (G,)\n",
    "})\n",
    "LEFT_OF = Predicate({\n",
    "    (A,B), (A,C), (A,D), (A,E), (A,F), (A,G),\n",
    "    (B,C), (B,D), (B,E), (B,F), (B,G),\n",
    "    (C,D), (C,E), (C,F), (C,G),\n",
    "    (D,E), (D,F), (D,G),\n",
    "    (E,F), (E,G),\n",
    "    (F,G)            \n",
    "})\n",
    "BLACK = Predicate({\n",
    "    (B,), (D,), (E,), (F,)\n",
    "})\n",
    "\n",
    "\n",
    "# Lexical entries\n",
    "m3 = Meaning({\n",
    "    'leftmost.et'  : 'lambda x : len(charset(lambda y : LEFT_OF(y,x)))==0'.et,\n",
    "    'pawn'      : 'lambda x : PAWN(x)'.et,\n",
    "    'the'       : 'lambda f : (len(charset(f))==1, iota(f))'.et_e,\n",
    "    'black'     : 'lambda x : BLACK(x)'.et\n",
    "})\n",
    "    \n",
    "\n",
    "# CHANGE ONLY BELOW\n",
    "m3.update({\n",
    "    'leftmost.et_et' : 'lambda f : lambda x: len(charset(lambda y : f(y) and LEFT_OF(y,x)))==0'.et_et\n",
    "})\n",
    "# CHANGE ONLY ABOVE\n",
    "\n",
    "HTML(\"<h3>[black pawn]</h3>\")\n",
    "charset(m3['black','pawn'])\n",
    "\n",
    "HTML(\"<h3>[leftmost.et pawn]</h3>\")\n",
    "charset(m3['leftmost.et','pawn'])\n",
    "\n",
    "tree3 = Tree.fromstring('(NP leftmost.et (NP black pawn))')\n",
    "HTML('<h3>[leftmost.et black pawn]</h3>')\n",
    "tree3\n",
    "charset(m3[tree3])\n",
    "\n",
    "HTML(\"<h3>[leftmost.et_et pawn]</h3>\")\n",
    "charset(m3['leftmost.et_et','pawn'])\n",
    "\n",
    "tree3 = Tree.fromstring('(NP leftmost.et_et (NP black pawn))')\n",
    "HTML('<h3>[leftmost.et_et black pawn]</h3>')\n",
    "tree3\n",
    "charset(m3[tree3])"
   ]
  },
  {
   "cell_type": "code",
   "execution_count": null,
   "metadata": {},
   "outputs": [
    {
     "data": {
      "text/plain": [
       "True"
      ]
     },
     "execution_count": 9,
     "metadata": {},
     "output_type": "execute_result"
    }
   ],
   "source": [
    "from nltk import ImmutableTree\n",
    "tt = ImmutableTree.fromstring('(NP leftmost.et_et (NP black pawn))')\n",
    "type([tt]) == list\n"
   ]
  },
  {
   "cell_type": "code",
   "execution_count": null,
   "metadata": {},
   "outputs": [
    {
     "data": {
      "text/plain": [
       "{'A'}"
      ]
     },
     "execution_count": 10,
     "metadata": {},
     "output_type": "execute_result"
    },
    {
     "data": {
      "text/html": [
       "'A'\n",
       "        <span style='float:right; font-family:monospace; margin-right:75px;\n",
       "              font-weight:bold; background-color:#e5e5ff; color:#000'>\n",
       "          'e'</span>"
      ],
      "text/plain": [
       "'A'"
      ]
     },
     "execution_count": 10,
     "metadata": {},
     "output_type": "execute_result"
    }
   ],
   "source": [
    "console_handler.setLevel(logging.INFO)\n",
    "the = 'lambda f: iota(f) if len(charset(f)) == 1 else None'.et_e\n",
    "dog = 'lambda x: x in DOMAIN[:1]'.et\n",
    "charset(dog)\n",
    "the(dog)"
   ]
  },
  {
   "cell_type": "code",
   "execution_count": null,
   "metadata": {},
   "outputs": [],
   "source": [
    "#DOMAIN = DOMAIN[:3]\n",
    "#DOMAIN\n",
    "KILLED = Predicate({(A,B),})\n",
    "BLACK = Predicate({(B,), (C,)})\n",
    "CAT = Predicate({(B,)})\n",
    "ESCAPED = Predicate({(A,)})\n",
    "\n",
    "del KILLED\n",
    "del BLACK\n",
    "del CAT\n",
    "del ESCAPED"
   ]
  },
  {
   "cell_type": "code",
   "execution_count": null,
   "metadata": {},
   "outputs": [
    {
     "data": {
      "image/svg+xml": [
       "<svg baseProfile=\"full\" height=\"312px\" preserveAspectRatio=\"xMidYMid meet\" style=\"font-family: times, serif; font-weight: normal; font-style: normal; font-size: 16px\" version=\"1.1\" viewBox=\"0,0,344.0,312.0\" width=\"344px\" xmlns=\"http://www.w3.org/2000/svg\" xmlns:ev=\"http://www.w3.org/2001/xml-events\" xmlns:xlink=\"http://www.w3.org/1999/xlink\"><defs /><svg width=\"100%\" x=\"0\" y=\"0px\"><defs /><text text-anchor=\"middle\" x=\"50%\" y=\"16px\">S</text></svg><svg width=\"79.0698%\" x=\"0%\" y=\"48px\"><defs /><svg width=\"100%\" x=\"0\" y=\"0px\"><defs /><text text-anchor=\"middle\" x=\"50%\" y=\"16px\">DP</text></svg><svg width=\"14.7059%\" x=\"0%\" y=\"48px\"><defs /><svg width=\"100%\" x=\"0\" y=\"0px\"><defs /><text text-anchor=\"middle\" x=\"50%\" y=\"16px\">the</text></svg></svg><line stroke=\"black\" x1=\"50%\" x2=\"7.35294%\" y1=\"20px\" y2=\"48px\" /><svg width=\"85.2941%\" x=\"14.7059%\" y=\"48px\"><defs /><svg width=\"100%\" x=\"0\" y=\"0px\"><defs /><text text-anchor=\"middle\" x=\"50%\" y=\"16px\">NP</text></svg><svg width=\"27.5862%\" x=\"0%\" y=\"48px\"><defs /><svg width=\"100%\" x=\"0\" y=\"0px\"><defs /><text text-anchor=\"middle\" x=\"50%\" y=\"16px\">killer</text></svg></svg><line stroke=\"black\" x1=\"50%\" x2=\"13.7931%\" y1=\"20px\" y2=\"48px\" /><svg width=\"72.4138%\" x=\"27.5862%\" y=\"48px\"><defs /><svg width=\"100%\" x=\"0\" y=\"0px\"><defs /><text text-anchor=\"middle\" x=\"50%\" y=\"16px\">PP</text></svg><svg width=\"19.0476%\" x=\"0%\" y=\"48px\"><defs /><svg width=\"100%\" x=\"0\" y=\"0px\"><defs /><text text-anchor=\"middle\" x=\"50%\" y=\"16px\">of</text></svg></svg><line stroke=\"black\" x1=\"50%\" x2=\"9.52381%\" y1=\"20px\" y2=\"48px\" /><svg width=\"80.9524%\" x=\"19.0476%\" y=\"48px\"><defs /><svg width=\"100%\" x=\"0\" y=\"0px\"><defs /><text text-anchor=\"middle\" x=\"50%\" y=\"16px\">DP</text></svg><svg width=\"29.4118%\" x=\"0%\" y=\"48px\"><defs /><svg width=\"100%\" x=\"0\" y=\"0px\"><defs /><text text-anchor=\"middle\" x=\"50%\" y=\"16px\">the</text></svg></svg><line stroke=\"black\" x1=\"50%\" x2=\"14.7059%\" y1=\"20px\" y2=\"48px\" /><svg width=\"70.5882%\" x=\"29.4118%\" y=\"48px\"><defs /><svg width=\"100%\" x=\"0\" y=\"0px\"><defs /><text text-anchor=\"middle\" x=\"50%\" y=\"16px\">NP</text></svg><svg width=\"58.3333%\" x=\"0%\" y=\"48px\"><defs /><svg width=\"100%\" x=\"0\" y=\"0px\"><defs /><text text-anchor=\"middle\" x=\"50%\" y=\"16px\">black</text></svg></svg><line stroke=\"black\" x1=\"50%\" x2=\"29.1667%\" y1=\"20px\" y2=\"48px\" /><svg width=\"41.6667%\" x=\"58.3333%\" y=\"48px\"><defs /><svg width=\"100%\" x=\"0\" y=\"0px\"><defs /><text text-anchor=\"middle\" x=\"50%\" y=\"16px\">cat</text></svg></svg><line stroke=\"black\" x1=\"50%\" x2=\"79.1667%\" y1=\"20px\" y2=\"48px\" /></svg><line stroke=\"black\" x1=\"50%\" x2=\"64.7059%\" y1=\"20px\" y2=\"48px\" /></svg><line stroke=\"black\" x1=\"50%\" x2=\"59.5238%\" y1=\"20px\" y2=\"48px\" /></svg><line stroke=\"black\" x1=\"50%\" x2=\"63.7931%\" y1=\"20px\" y2=\"48px\" /></svg><line stroke=\"black\" x1=\"50%\" x2=\"57.3529%\" y1=\"20px\" y2=\"48px\" /></svg><line stroke=\"black\" x1=\"50%\" x2=\"39.5349%\" y1=\"20px\" y2=\"48px\" /><svg width=\"20.9302%\" x=\"79.0698%\" y=\"48px\"><defs /><svg width=\"100%\" x=\"0\" y=\"0px\"><defs /><text text-anchor=\"middle\" x=\"50%\" y=\"16px\">VP</text></svg><svg width=\"100%\" x=\"0%\" y=\"48px\"><defs /><svg width=\"100%\" x=\"0\" y=\"0px\"><defs /><text text-anchor=\"middle\" x=\"50%\" y=\"16px\">escaped</text></svg></svg><line stroke=\"black\" x1=\"50%\" x2=\"50%\" y1=\"20px\" y2=\"48px\" /></svg><line stroke=\"black\" x1=\"50%\" x2=\"89.5349%\" y1=\"20px\" y2=\"48px\" /></svg>"
      ],
      "text/plain": [
       "Tree('S', [Tree('DP', ['the', Tree('NP', ['killer', Tree('PP', ['of', Tree('DP', ['the', Tree('NP', ['black', 'cat'])])])])]), Tree('VP', ['escaped'])])"
      ]
     },
     "execution_count": 12,
     "metadata": {},
     "output_type": "execute_result"
    },
    {
     "name": "stderr",
     "output_type": "stream",
     "text": [
      "Interpreting (S (DP the (NP killer (PP of (DP the (NP black cat))))) (VP escaped)) with parameters: ()\u001b[0m\n",
      "   Interpreting (DP the (NP killer (PP of (DP the (NP black cat))))) with parameters: ()\u001b[0m\n",
      "      Interpreting the with parameters: ()\u001b[0m\n",
      "      => the = λf . iota(f) if len(charset(f)) == 1 else None \t(TN)\u001b[0m\n",
      "      Interpreting (NP killer (PP of (DP the (NP black cat)))) with parameters: ()\u001b[0m\n",
      "         Interpreting killer with parameters: ()\u001b[0m\n",
      "         => killer = λy . λx . KILLED(x, y) \t(TN)\u001b[0m\n",
      "         Interpreting (PP of (DP the (NP black cat))) with parameters: ()\u001b[0m\n",
      "            Interpreting of with parameters: ()\u001b[0m\n",
      "            => of = None \t(TN)\u001b[0m\n",
      "            Interpreting (DP the (NP black cat)) with parameters: ()\u001b[0m\n",
      "               Interpreting (NP black cat) with parameters: ()\u001b[0m\n",
      "                  Interpreting black with parameters: ()\u001b[0m\n",
      "                  => black = λx . BLACK(x) \t(TN)\u001b[0m\n",
      "                  Interpreting cat with parameters: ()\u001b[0m\n",
      "                  => cat = λx . CAT(x) \t(TN)\u001b[0m\n",
      "               => (NP black cat) = λx . BLACK(x) and CAT(x) \t(PM)\u001b[0m\n",
      "            => (DP the (NP black cat)) = iota(lambda x: BLACK(x) and CAT(x)) if len(charset(lambda x: BLACK(x) and CAT(x))) == 1 else None \t(FA)\u001b[0m\n",
      "\u001b[38;5;208m            Removing vacuous items: ['of']\u001b[0m\n",
      "         => (PP (DP the (NP black cat))) = iota(lambda x: BLACK(x) and CAT(x)) if len(charset(lambda x: BLACK(x) and CAT(x))) == 1 else None \t(NN)\u001b[0m\n",
      "      => (NP killer (PP of (DP the (NP black cat)))) = λx . KILLED(x, iota(lambda x: BLACK(x) and CAT(x)) if len(charset(lambda x: BLACK(x) and CAT(x))) == 1 else None) \t(FA)\u001b[0m\n",
      "   => (DP the (NP killer (PP of (DP the (NP black cat))))) = iota(lambda x: KILLED(x, iota(lambda x: BLACK(x) and CAT(x)) if len(charset(lambda x: BLACK(x) and CAT(x))) == 1 else None)) if len(charset(lambda x: KILLED(x, iota(lambda x: BLACK(x) and CAT(x)) if len(charset(lambda x: BLACK(x) and CAT(x))) == 1 else None))) == 1 else None \t(FA)\u001b[0m\n",
      "   Interpreting (VP escaped) with parameters: ()\u001b[0m\n",
      "      Interpreting escaped with parameters: ()\u001b[0m\n",
      "      => escaped = λx . ESCAPED(x) \t(TN)\u001b[0m\n",
      "   => (VP escaped) = λx . ESCAPED(x) \t(NN)\u001b[0m\n",
      "=> (S (DP the (NP killer (PP of (DP the (NP black cat))))) (VP escaped)) = ESCAPED(iota(lambda x: KILLED(x, iota(lambda x: BLACK(x) and CAT(x)) if len(charset(lambda x: BLACK(x) and CAT(x))) == 1 else None)) if len(charset(lambda x: KILLED(x, iota(lambda x: BLACK(x) and CAT(x)) if len(charset(lambda x: BLACK(x) and CAT(x))) == 1 else None))) == 1 else None) \t(AF)\u001b[0m\n"
     ]
    },
    {
     "data": {
      "text/html": [
       "ESCAPED(iota(lambda x: KILLED(x, iota(lambda x: BLACK(x) and CAT(x)) if len(charset(lambda x: BLACK(x) and CAT(x))) == 1 else None)) if len(charset(lambda x: KILLED(x, iota(lambda x: BLACK(x) and CAT(x)) if len(charset(lambda x: BLACK(x) and CAT(x))) == 1 else None))) == 1 else None)\n",
       "        <span style='float:right; font-family:monospace; margin-right:75px;\n",
       "              font-weight:bold; background-color:#e5e5ff; color:#000'>\n",
       "          't'</span>"
      ],
      "text/plain": [
       "ESCAPED(iota(lambda x: KILLED(x, iota(lambda x: BLACK(x) and CAT(x)) if len(charset(lambda x: BLACK(x) and CAT(x))) == 1 else None)) if len(charset(lambda x: KILLED(x, iota(lambda x: BLACK(x) and CAT(x)) if len(charset(lambda x: BLACK(x) and CAT(x))) == 1 else None))) == 1 else None)"
      ]
     },
     "execution_count": 12,
     "metadata": {},
     "output_type": "execute_result"
    }
   ],
   "source": [
    "m= Meaning()\n",
    "m.update({\n",
    "  'killer'  : 'lambda y: lambda x :KILLED(x,y)'.eet,\n",
    "  'black'   : 'lambda x: BLACK(x)'.et,\n",
    "  'cat'     : 'lambda x: CAT(x)'.et,\n",
    "  'escaped' : 'lambda x: ESCAPED(x)'.et,\n",
    "  'the'     : 'lambda f: ( len(charset(f))==1, iota(f) )'.et_e\n",
    "})\n",
    "\n",
    "from nltk import Tree\n",
    "tree = Tree.fromstring(\"\"\"\n",
    "(S  (DP the\n",
    "        (NP killer\n",
    "            (PP of\n",
    "                (DP the\n",
    "                    (NP black cat)\n",
    "                )\n",
    "            )\n",
    "        )\n",
    "    )\n",
    "    (VP escaped)\n",
    ")\n",
    "\"\"\")\n",
    "\n",
    "test = tree[0][1][1][1]\n",
    "test = tree\n",
    "test\n",
    "\n",
    "m[test]\n",
    "\n",
    "\n"
   ]
  },
  {
   "cell_type": "code",
   "execution_count": null,
   "metadata": {},
   "outputs": [
    {
     "data": {
      "text/plain": [
       "{('the',\n",
       "  ()): Function(\"lambda f: iota(f) if len(charset(f)) == 1 else None\", Type((('e', 't'), 'e'))),\n",
       " ('killer',\n",
       "  ()): Function(\"lambda y: lambda x: KILLED(x, y)\", Type(('e', ('e', 't')))),\n",
       " ('of', ()): None,\n",
       " ('black', ()): Function(\"lambda x: BLACK(x)\", Type(('e', 't'))),\n",
       " ('cat', ()): Function(\"lambda x: CAT(x)\", Type(('e', 't'))),\n",
       " (ImmutableTree('NP', ['black', 'cat']),\n",
       "  ()): Function(\"lambda x: BLACK(x) and CAT(x)\", Type(('e', 't'))),\n",
       " (ImmutableTree('DP', ['the', ImmutableTree('NP', ['black', 'cat'])]),\n",
       "  ()): iota(lambda x: BLACK(x) and CAT(x)) if len(charset(lambda x: BLACK(x) and CAT(x))) == 1 else None,\n",
       " (ImmutableTree('PP', ['of', ImmutableTree('DP', ['the', ImmutableTree('NP', ['black', 'cat'])])]),\n",
       "  ()): iota(lambda x: BLACK(x) and CAT(x)) if len(charset(lambda x: BLACK(x) and CAT(x))) == 1 else None,\n",
       " (ImmutableTree('NP', ['killer', ImmutableTree('PP', ['of', ImmutableTree('DP', ['the', ImmutableTree('NP', ['black', 'cat'])])])]),\n",
       "  ()): Function(\"lambda x: KILLED(x, iota(lambda x: BLACK(x) and CAT(x)) if len(charset(lambda x: BLACK(x) and CAT(x))) == 1 else None)\", Type(('e', 't'))),\n",
       " (ImmutableTree('DP', ['the', ImmutableTree('NP', ['killer', ImmutableTree('PP', ['of', ImmutableTree('DP', ['the', ImmutableTree('NP', ['black', 'cat'])])])])]),\n",
       "  ()): iota(lambda x: KILLED(x, iota(lambda x: BLACK(x) and CAT(x)) if len(charset(lambda x: BLACK(x) and CAT(x))) == 1 else None)) if len(charset(lambda x: KILLED(x, iota(lambda x: BLACK(x) and CAT(x)) if len(charset(lambda x: BLACK(x) and CAT(x))) == 1 else None))) == 1 else None,\n",
       " ('escaped', ()): Function(\"lambda x: ESCAPED(x)\", Type(('e', 't'))),\n",
       " (ImmutableTree('VP', ['escaped']),\n",
       "  ()): Function(\"lambda x: ESCAPED(x)\", Type(('e', 't')))}"
      ]
     },
     "execution_count": 13,
     "metadata": {},
     "output_type": "execute_result"
    }
   ],
   "source": [
    "m.memo"
   ]
  },
  {
   "cell_type": "code",
   "execution_count": null,
   "metadata": {},
   "outputs": [
    {
     "data": {
      "image/svg+xml": [
       "<svg baseProfile=\"full\" height=\"264px\" preserveAspectRatio=\"xMidYMid meet\" style=\"font-family: times, serif; font-weight: normal; font-style: normal; font-size: 16px\" version=\"1.1\" viewBox=\"0,0,304.0,264.0\" width=\"304px\" xmlns=\"http://www.w3.org/2000/svg\" xmlns:ev=\"http://www.w3.org/2001/xml-events\" xmlns:xlink=\"http://www.w3.org/1999/xlink\"><defs /><svg width=\"100%\" x=\"0\" y=\"0px\"><defs /><text text-anchor=\"middle\" x=\"50%\" y=\"16px\">S</text></svg><svg width=\"21.0526%\" x=\"0%\" y=\"48px\"><defs /><svg width=\"100%\" x=\"0\" y=\"0px\"><defs /><text text-anchor=\"middle\" x=\"50%\" y=\"16px\">NP</text></svg><svg width=\"100%\" x=\"0%\" y=\"48px\"><defs /><svg width=\"100%\" x=\"0\" y=\"0px\"><defs /><text text-anchor=\"middle\" x=\"50%\" y=\"16px\">Julius</text></svg></svg><line stroke=\"black\" x1=\"50%\" x2=\"50%\" y1=\"20px\" y2=\"48px\" /></svg><line stroke=\"black\" x1=\"50%\" x2=\"10.5263%\" y1=\"20px\" y2=\"48px\" /><svg width=\"78.9474%\" x=\"21.0526%\" y=\"48px\"><defs /><svg width=\"100%\" x=\"0\" y=\"0px\"><defs /><text text-anchor=\"middle\" x=\"50%\" y=\"16px\">VP</text></svg><svg width=\"13.3333%\" x=\"0%\" y=\"48px\"><defs /><svg width=\"100%\" x=\"0\" y=\"0px\"><defs /><text text-anchor=\"middle\" x=\"50%\" y=\"16px\">is</text></svg></svg><line stroke=\"black\" x1=\"50%\" x2=\"6.66667%\" y1=\"20px\" y2=\"48px\" /><svg width=\"86.6667%\" x=\"13.3333%\" y=\"48px\"><defs /><svg width=\"100%\" x=\"0\" y=\"0px\"><defs /><text text-anchor=\"middle\" x=\"50%\" y=\"16px\">VP</text></svg><svg width=\"38.4615%\" x=\"0%\" y=\"48px\"><defs /><svg width=\"100%\" x=\"0\" y=\"0px\"><defs /><text text-anchor=\"middle\" x=\"50%\" y=\"16px\">sleeping</text></svg></svg><line stroke=\"black\" x1=\"50%\" x2=\"19.2308%\" y1=\"20px\" y2=\"48px\" /><svg width=\"61.5385%\" x=\"38.4615%\" y=\"48px\"><defs /><svg width=\"100%\" x=\"0\" y=\"0px\"><defs /><text text-anchor=\"middle\" x=\"50%\" y=\"16px\">PP</text></svg><svg width=\"25%\" x=\"0%\" y=\"48px\"><defs /><svg width=\"100%\" x=\"0\" y=\"0px\"><defs /><text text-anchor=\"middle\" x=\"50%\" y=\"16px\">on</text></svg></svg><line stroke=\"black\" x1=\"50%\" x2=\"12.5%\" y1=\"20px\" y2=\"48px\" /><svg width=\"75%\" x=\"25%\" y=\"48px\"><defs /><svg width=\"100%\" x=\"0\" y=\"0px\"><defs /><text text-anchor=\"middle\" x=\"50%\" y=\"16px\">NP</text></svg><svg width=\"41.6667%\" x=\"0%\" y=\"48px\"><defs /><svg width=\"100%\" x=\"0\" y=\"0px\"><defs /><text text-anchor=\"middle\" x=\"50%\" y=\"16px\">the</text></svg></svg><line stroke=\"black\" x1=\"50%\" x2=\"20.8333%\" y1=\"20px\" y2=\"48px\" /><svg width=\"58.3333%\" x=\"41.6667%\" y=\"48px\"><defs /><svg width=\"100%\" x=\"0\" y=\"0px\"><defs /><text text-anchor=\"middle\" x=\"50%\" y=\"16px\">couch</text></svg></svg><line stroke=\"black\" x1=\"50%\" x2=\"70.8333%\" y1=\"20px\" y2=\"48px\" /></svg><line stroke=\"black\" x1=\"50%\" x2=\"62.5%\" y1=\"20px\" y2=\"48px\" /></svg><line stroke=\"black\" x1=\"50%\" x2=\"69.2308%\" y1=\"20px\" y2=\"48px\" /></svg><line stroke=\"black\" x1=\"50%\" x2=\"56.6667%\" y1=\"20px\" y2=\"48px\" /></svg><line stroke=\"black\" x1=\"50%\" x2=\"60.5263%\" y1=\"20px\" y2=\"48px\" /></svg>"
      ],
      "text/plain": [
       "Tree('S', [Tree('NP', ['Julius']), Tree('VP', ['is', Tree('VP', ['sleeping', Tree('PP', ['on', Tree('NP', ['the', 'couch'])])])])])"
      ]
     },
     "execution_count": 14,
     "metadata": {},
     "output_type": "execute_result"
    }
   ],
   "source": [
    "from nltk import Tree\n",
    "tree = Tree.fromstring(\"\"\"\n",
    "(S\n",
    "  (NP Julius)\n",
    "  (VP is\n",
    "      (VP sleeping\n",
    "          (PP on (NP the couch))\n",
    "      )\n",
    "  )\n",
    ")\"\"\")\n",
    "tree\n",
    "\n",
    "m = Meaning({\n",
    "    'Julius'    : 'J'.e,\n",
    "    'the'       : 'lambda f: iota(f)'.et_e,\n",
    "\n",
    "})\n",
    "\n",
    "#m[tree]"
   ]
  },
  {
   "cell_type": "code",
   "execution_count": null,
   "metadata": {},
   "outputs": [],
   "source": [
    "#!pip install nltk\n",
    "from nltk import Tree\n",
    "#!pip install svgling"
   ]
  },
  {
   "cell_type": "code",
   "execution_count": null,
   "metadata": {},
   "outputs": [
    {
     "data": {
      "text/plain": [
       "1"
      ]
     },
     "execution_count": 16,
     "metadata": {},
     "output_type": "execute_result"
    }
   ],
   "source": [
    "node = parse('PAWN(\"A\")', mode='eval')\n",
    "obj = compile(node, '<string>', 'eval')\n",
    "eval(obj)"
   ]
  },
  {
   "cell_type": "code",
   "execution_count": null,
   "metadata": {},
   "outputs": [
    {
     "name": "stderr",
     "output_type": "stream",
     "text": [
      "Interpreting ('Joe', 'cat') with parameters: ()\u001b[0m\n",
      "   Interpreting Joe with parameters: ()\u001b[0m\n",
      "   => Joe = 'J' \t(TN)\u001b[0m\n",
      "   Interpreting cat with parameters: ()\u001b[0m\n",
      "   => cat = λx . CAT(x) \t(TN)\u001b[0m\n",
      "=> ('Joe', 'cat') = CAT('J') \t(AF)\u001b[0m\n"
     ]
    },
    {
     "data": {
      "text/html": [
       "CAT('J')\n",
       "        <span style='float:right; font-family:monospace; margin-right:75px;\n",
       "              font-weight:bold; background-color:#e5e5ff; color:#000'>\n",
       "          't'</span>"
      ],
      "text/plain": [
       "CAT('J')"
      ]
     },
     "execution_count": 17,
     "metadata": {},
     "output_type": "execute_result"
    }
   ],
   "source": [
    "m = Meaning({\n",
    "    'Joe'     : 'J'.e,\n",
    "    'Kaline'  : 'K'.e,\n",
    "    'cat'     : 'lambda x: CAT(x)'.et,\n",
    "    'gray'    : 'lambda f : lambda x: f(x) and GRAY(x)'.et_et,\n",
    "})\n",
    "\n",
    "m['Joe', 'cat']"
   ]
  },
  {
   "cell_type": "code",
   "execution_count": null,
   "metadata": {},
   "outputs": [
    {
     "data": {
      "image/svg+xml": [
       "<svg baseProfile=\"full\" height=\"216px\" preserveAspectRatio=\"xMidYMid meet\" style=\"font-family: times, serif; font-weight: normal; font-style: normal; font-size: 16px\" version=\"1.1\" viewBox=\"0,0,200.0,216.0\" width=\"200px\" xmlns=\"http://www.w3.org/2000/svg\" xmlns:ev=\"http://www.w3.org/2001/xml-events\" xmlns:xlink=\"http://www.w3.org/1999/xlink\"><defs /><svg width=\"100%\" x=\"0\" y=\"0px\"><defs /><text text-anchor=\"middle\" x=\"50%\" y=\"16px\">S</text></svg><svg width=\"20%\" x=\"0%\" y=\"48px\"><defs /><svg width=\"100%\" x=\"0\" y=\"0px\"><defs /><text text-anchor=\"middle\" x=\"50%\" y=\"16px\">NP</text></svg><svg width=\"100%\" x=\"0%\" y=\"48px\"><defs /><svg width=\"100%\" x=\"0\" y=\"0px\"><defs /><text text-anchor=\"middle\" x=\"50%\" y=\"16px\">Joe</text></svg></svg><line stroke=\"black\" x1=\"50%\" x2=\"50%\" y1=\"20px\" y2=\"48px\" /></svg><line stroke=\"black\" x1=\"50%\" x2=\"10%\" y1=\"20px\" y2=\"48px\" /><svg width=\"80%\" x=\"20%\" y=\"48px\"><defs /><svg width=\"100%\" x=\"0\" y=\"0px\"><defs /><text text-anchor=\"middle\" x=\"50%\" y=\"16px\">VP</text></svg><svg width=\"25%\" x=\"0%\" y=\"48px\"><defs /><svg width=\"100%\" x=\"0\" y=\"0px\"><defs /><text text-anchor=\"middle\" x=\"50%\" y=\"16px\">cat</text></svg></svg><line stroke=\"black\" x1=\"50%\" x2=\"12.5%\" y1=\"20px\" y2=\"48px\" /><svg width=\"75%\" x=\"25%\" y=\"48px\"><defs /><svg width=\"100%\" x=\"0\" y=\"0px\"><defs /><text text-anchor=\"middle\" x=\"50%\" y=\"16px\">VP</text></svg><svg width=\"26.6667%\" x=\"0%\" y=\"48px\"><defs /><svg width=\"100%\" x=\"0\" y=\"0px\"><defs /><text text-anchor=\"middle\" x=\"50%\" y=\"16px\">V</text></svg><svg width=\"100%\" x=\"0%\" y=\"48px\"><defs /><svg width=\"100%\" x=\"0\" y=\"0px\"><defs /><text text-anchor=\"middle\" x=\"50%\" y=\"16px\">is</text></svg></svg><line stroke=\"black\" x1=\"50%\" x2=\"50%\" y1=\"20px\" y2=\"48px\" /></svg><line stroke=\"black\" x1=\"50%\" x2=\"13.3333%\" y1=\"20px\" y2=\"48px\" /><svg width=\"73.3333%\" x=\"26.6667%\" y=\"48px\"><defs /><svg width=\"100%\" x=\"0\" y=\"0px\"><defs /><text text-anchor=\"middle\" x=\"50%\" y=\"16px\">NP</text></svg><svg width=\"45.4545%\" x=\"0%\" y=\"48px\"><defs /><svg width=\"100%\" x=\"0\" y=\"0px\"><defs /><text text-anchor=\"middle\" x=\"50%\" y=\"16px\">cat</text></svg></svg><line stroke=\"black\" x1=\"50%\" x2=\"22.7273%\" y1=\"20px\" y2=\"48px\" /><svg width=\"54.5455%\" x=\"45.4545%\" y=\"48px\"><defs /><svg width=\"100%\" x=\"0\" y=\"0px\"><defs /><text text-anchor=\"middle\" x=\"50%\" y=\"16px\">gray</text></svg></svg><line stroke=\"black\" x1=\"50%\" x2=\"72.7273%\" y1=\"20px\" y2=\"48px\" /></svg><line stroke=\"black\" x1=\"50%\" x2=\"63.3333%\" y1=\"20px\" y2=\"48px\" /></svg><line stroke=\"black\" x1=\"50%\" x2=\"62.5%\" y1=\"20px\" y2=\"48px\" /></svg><line stroke=\"black\" x1=\"50%\" x2=\"60%\" y1=\"20px\" y2=\"48px\" /></svg>"
      ],
      "text/plain": [
       "Tree('S', [Tree('NP', ['Joe']), Tree('VP', ['cat', Tree('VP', [Tree('V', ['is']), Tree('NP', ['cat', 'gray'])])])])"
      ]
     },
     "execution_count": 18,
     "metadata": {},
     "output_type": "execute_result"
    },
    {
     "name": "stderr",
     "output_type": "stream",
     "text": [
      "Interpreting (S (NP Joe) (VP cat (VP (V is) (NP cat gray)))) with parameters: ()\u001b[0m\n",
      "   Interpreting (NP Joe) with parameters: ()\u001b[0m\n",
      "      Interpreting Joe with parameters: ()\u001b[0m\n",
      "      => Joe = 'J' \t(TN)\u001b[0m\n",
      "   => (NP Joe) = 'J' \t(NN)\u001b[0m\n",
      "   Interpreting (VP cat (VP (V is) (NP cat gray))) with parameters: ()\u001b[0m\n",
      "      Interpreting cat with parameters: ()\u001b[0m\n",
      "      => cat = λx . CAT(x) \t(TN)\u001b[0m\n",
      "      Interpreting (VP (V is) (NP cat gray)) with parameters: ()\u001b[0m\n",
      "         Interpreting (V is) with parameters: ()\u001b[0m\n",
      "            Interpreting is with parameters: ()\u001b[0m\n",
      "            => is = None \t(TN)\u001b[0m\n",
      "\u001b[38;5;208m            Removing vacuous items: ['is']\u001b[0m\n",
      "\u001b[38;5;208m            No non-vacuous children in node (V )\u001b[0m\n",
      "         => (V ) = None \t(NN)\u001b[0m\n",
      "         Interpreting (NP cat gray) with parameters: ()\u001b[0m\n",
      "            Interpreting gray with parameters: ()\u001b[0m\n",
      "            => gray = λf . λx . f(x) and GRAY(x) \t(TN)\u001b[0m\n",
      "         => (NP cat gray) = λx . CAT(x) and GRAY(x) \t(AF)\u001b[0m\n",
      "\u001b[38;5;208m         Removing vacuous items: [Tree('V', ['is'])]\u001b[0m\n",
      "      => (VP (NP cat gray)) = λx . CAT(x) and GRAY(x) \t(NN)\u001b[0m\n",
      "   => (VP cat (VP (V is) (NP cat gray))) = λx . CAT(x) and (CAT(x) and GRAY(x)) \t(PM)\u001b[0m\n",
      "=> (S (NP Joe) (VP cat (VP (V is) (NP cat gray)))) = CAT('J') and (CAT('J') and GRAY('J')) \t(AF)\u001b[0m\n"
     ]
    },
    {
     "data": {
      "text/html": [
       "CAT('J') and (CAT('J') and GRAY('J'))\n",
       "        <span style='float:right; font-family:monospace; margin-right:75px;\n",
       "              font-weight:bold; background-color:#e5e5ff; color:#000'>\n",
       "          't'</span>"
      ],
      "text/plain": [
       "CAT('J') and (CAT('J') and GRAY('J'))"
      ]
     },
     "execution_count": 18,
     "metadata": {},
     "output_type": "execute_result"
    }
   ],
   "source": [
    "t = Tree.fromstring('(S (NP Joe) (VP cat (VP (V is) (NP cat gray))))')\n",
    "t\n",
    "\n",
    "m[t]"
   ]
  },
  {
   "cell_type": "code",
   "execution_count": null,
   "metadata": {},
   "outputs": [
    {
     "name": "stderr",
     "output_type": "stream",
     "text": [
      "Interpreting gray with parameters: ()\u001b[0m\n",
      "=> gray = λf . λx . f(x) and GRAY(x) \t(TN)\u001b[0m\n"
     ]
    },
    {
     "data": {
      "text/html": [
       "λf . λx . f(x) and GRAY(x)\n",
       "        <span style='float:right; font-family:monospace; margin-right:75px;\n",
       "              font-weight:bold; background-color:#e5e5ff; color:#000'>\n",
       "          ('e', (('e', 't'), 't'))</span>"
      ],
      "text/plain": [
       "Function(\"lambda f: lambda x: f(x) and GRAY(x)\", Type(('e', (('e', 't'), 't'))))"
      ]
     },
     "execution_count": 19,
     "metadata": {},
     "output_type": "execute_result"
    },
    {
     "name": "stderr",
     "output_type": "stream",
     "text": [
      "Interpreting (S (NP Joe) (VP cat (VP (V is) (NP cat gray)))) with parameters: ()\u001b[0m\n",
      "   Interpreting (NP Joe) with parameters: ()\u001b[0m\n",
      "      Interpreting Joe with parameters: ()\u001b[0m\n",
      "      => Joe = 'J' \t(TN)\u001b[0m\n",
      "   => (NP Joe) = 'J' \t(NN)\u001b[0m\n",
      "   Interpreting (VP cat (VP (V is) (NP cat gray))) with parameters: ()\u001b[0m\n",
      "      Interpreting cat with parameters: ()\u001b[0m\n",
      "      => cat = λx . CAT(x) \t(TN)\u001b[0m\n",
      "      Interpreting (VP (V is) (NP cat gray)) with parameters: ()\u001b[0m\n",
      "         Interpreting (V is) with parameters: ()\u001b[0m\n",
      "            Interpreting is with parameters: ()\u001b[0m\n",
      "            => is = None \t(TN)\u001b[0m\n",
      "\u001b[38;5;208m            Removing vacuous items: ['is']\u001b[0m\n",
      "\u001b[38;5;208m            No non-vacuous children in node (V )\u001b[0m\n",
      "         => (V ) = None \t(NN)\u001b[0m\n",
      "         Interpreting (NP cat gray) with parameters: ()\u001b[0m\n",
      "            Interpreting gray with parameters: ()\u001b[0m\n",
      "            => gray = λf . λx . f(x) and GRAY(x) \t(TN)\u001b[0m\n",
      "\u001b[91m!!! Error interpreting node (NP cat gray):\n",
      " No rule found to combine cat and gray\u001b[0m\n",
      "\u001b[91m!!! Error interpreting node (VP (V is) (NP cat gray)):\n",
      " No rule found to combine cat and gray\u001b[0m\n",
      "\u001b[91m!!! Error interpreting node (VP cat (VP (V is) (NP cat gray))):\n",
      " No rule found to combine cat and gray\u001b[0m\n",
      "\u001b[91m!!! Error interpreting node (S (NP Joe) (VP cat (VP (V is) (NP cat gray)))):\n",
      " No rule found to combine cat and gray\u001b[0m\n"
     ]
    },
    {
     "ename": "ValueError",
     "evalue": "No rule found to combine cat and gray",
     "output_type": "error",
     "traceback": [
      "\u001b[0;31m---------------------------------------------------------------------------\u001b[0m",
      "\u001b[0;31mValueError\u001b[0m                                Traceback (most recent call last)",
      "Cell \u001b[0;32mIn[19], line 6\u001b[0m\n\u001b[1;32m      1\u001b[0m m\u001b[38;5;241m.\u001b[39mupdate({\n\u001b[1;32m      2\u001b[0m   \u001b[38;5;124m'\u001b[39m\u001b[38;5;124mgray\u001b[39m\u001b[38;5;124m'\u001b[39m    : \u001b[38;5;124m'\u001b[39m\u001b[38;5;124mlambda f : lambda x: f(x) and GRAY(x)\u001b[39m\u001b[38;5;124m'\u001b[39m\u001b[38;5;241m.\u001b[39meet_t,\n\u001b[1;32m      3\u001b[0m   })\n\u001b[1;32m      5\u001b[0m m[\u001b[38;5;124m'\u001b[39m\u001b[38;5;124mgray\u001b[39m\u001b[38;5;124m'\u001b[39m]\n\u001b[0;32m----> 6\u001b[0m \u001b[43mm\u001b[49m\u001b[43m[\u001b[49m\u001b[43mt\u001b[49m\u001b[43m]\u001b[49m\n",
      "File \u001b[0;32m/workspaces/ling516/phosphorus/meaning.py:64\u001b[0m, in \u001b[0;36mMeaning.__getitem__\u001b[0;34m(self, k)\u001b[0m\n\u001b[1;32m     62\u001b[0m     \u001b[38;5;28mself\u001b[39m\u001b[38;5;241m.\u001b[39mmemo[k,hargs] \u001b[38;5;241m=\u001b[39m \u001b[38;5;28mself\u001b[39m\u001b[38;5;241m.\u001b[39minterpret(k, \u001b[38;5;241m*\u001b[39margs)\n\u001b[1;32m     63\u001b[0m   \u001b[38;5;28;01mreturn\u001b[39;00m \u001b[38;5;28mself\u001b[39m\u001b[38;5;241m.\u001b[39mmemo[k,hargs]\n\u001b[0;32m---> 64\u001b[0m \u001b[38;5;28;01mreturn\u001b[39;00m \u001b[38;5;28;43mself\u001b[39;49m\u001b[38;5;241;43m.\u001b[39;49m\u001b[43minterpret\u001b[49m\u001b[43m(\u001b[49m\u001b[43mk\u001b[49m\u001b[43m,\u001b[49m\u001b[43m \u001b[49m\u001b[38;5;241;43m*\u001b[39;49m\u001b[43margs\u001b[49m\u001b[43m)\u001b[49m\n",
      "File \u001b[0;32m/workspaces/ling516/phosphorus/meaning.py:109\u001b[0m, in \u001b[0;36mMeaning.interpret\u001b[0;34m(self, alpha, *args)\u001b[0m\n\u001b[1;32m    107\u001b[0m \u001b[38;5;28mself\u001b[39m\u001b[38;5;241m.\u001b[39mindent \u001b[38;5;241m=\u001b[39m \u001b[38;5;124m'\u001b[39m\u001b[38;5;124m'\u001b[39m\n\u001b[1;32m    108\u001b[0m m\u001b[38;5;241m.\u001b[39mprint(\u001b[38;5;124mf\u001b[39m\u001b[38;5;124m'\u001b[39m\u001b[38;5;124m!!! Error interpreting node \u001b[39m\u001b[38;5;132;01m{\u001b[39;00malpha\u001b[38;5;132;01m}\u001b[39;00m\u001b[38;5;124m:\u001b[39m\u001b[38;5;130;01m\\n\u001b[39;00m\u001b[38;5;124m \u001b[39m\u001b[38;5;132;01m{\u001b[39;00me\u001b[38;5;132;01m}\u001b[39;00m\u001b[38;5;124m'\u001b[39m, level\u001b[38;5;241m=\u001b[39mlogging\u001b[38;5;241m.\u001b[39mERROR)\n\u001b[0;32m--> 109\u001b[0m \u001b[38;5;28;01mraise\u001b[39;00m e\n",
      "File \u001b[0;32m/workspaces/ling516/phosphorus/meaning.py:85\u001b[0m, in \u001b[0;36mMeaning.interpret\u001b[0;34m(self, alpha, *args)\u001b[0m\n\u001b[1;32m     83\u001b[0m   \u001b[38;5;28;01mraise\u001b[39;00m \u001b[38;5;167;01mValueError\u001b[39;00m(\u001b[38;5;124mf\u001b[39m\u001b[38;5;124m'\u001b[39m\u001b[38;5;124mNode \u001b[39m\u001b[38;5;132;01m{\u001b[39;00malpha\u001b[38;5;132;01m}\u001b[39;00m\u001b[38;5;124m has no children\u001b[39m\u001b[38;5;124m'\u001b[39m)\n\u001b[1;32m     84\u001b[0m alpha \u001b[38;5;241m=\u001b[39m make_mutable(alpha)\n\u001b[0;32m---> 85\u001b[0m vacuous \u001b[38;5;241m=\u001b[39m [x \u001b[38;5;28;01mfor\u001b[39;00m x \u001b[38;5;129;01min\u001b[39;00m alpha \u001b[38;5;28;01mif\u001b[39;00m \u001b[43mm\u001b[49m\u001b[43m[\u001b[49m\u001b[43mx\u001b[49m\u001b[43m:\u001b[49m\u001b[43margs\u001b[49m\u001b[43m]\u001b[49m \u001b[38;5;129;01mis\u001b[39;00m \u001b[38;5;28;01mNone\u001b[39;00m]\n\u001b[1;32m     86\u001b[0m \u001b[38;5;28;01mif\u001b[39;00m vacuous:\n\u001b[1;32m     87\u001b[0m   m\u001b[38;5;241m.\u001b[39mprint(\u001b[38;5;124m'\u001b[39m\u001b[38;5;124mRemoving vacuous items:\u001b[39m\u001b[38;5;124m'\u001b[39m, vacuous, level\u001b[38;5;241m=\u001b[39mlogging\u001b[38;5;241m.\u001b[39mWARNING)\n",
      "File \u001b[0;32m/workspaces/ling516/phosphorus/meaning.py:62\u001b[0m, in \u001b[0;36mMeaning.__getitem__\u001b[0;34m(self, k)\u001b[0m\n\u001b[1;32m     60\u001b[0m   hargs \u001b[38;5;241m=\u001b[39m make_hashable(args)\n\u001b[1;32m     61\u001b[0m   \u001b[38;5;28;01mif\u001b[39;00m (k, hargs) \u001b[38;5;129;01mnot\u001b[39;00m \u001b[38;5;129;01min\u001b[39;00m \u001b[38;5;28mself\u001b[39m\u001b[38;5;241m.\u001b[39mmemo:\n\u001b[0;32m---> 62\u001b[0m     \u001b[38;5;28mself\u001b[39m\u001b[38;5;241m.\u001b[39mmemo[k,hargs] \u001b[38;5;241m=\u001b[39m \u001b[38;5;28;43mself\u001b[39;49m\u001b[38;5;241;43m.\u001b[39;49m\u001b[43minterpret\u001b[49m\u001b[43m(\u001b[49m\u001b[43mk\u001b[49m\u001b[43m,\u001b[49m\u001b[43m \u001b[49m\u001b[38;5;241;43m*\u001b[39;49m\u001b[43margs\u001b[49m\u001b[43m)\u001b[49m\n\u001b[1;32m     63\u001b[0m   \u001b[38;5;28;01mreturn\u001b[39;00m \u001b[38;5;28mself\u001b[39m\u001b[38;5;241m.\u001b[39mmemo[k,hargs]\n\u001b[1;32m     64\u001b[0m \u001b[38;5;28;01mreturn\u001b[39;00m \u001b[38;5;28mself\u001b[39m\u001b[38;5;241m.\u001b[39minterpret(k, \u001b[38;5;241m*\u001b[39margs)\n",
      "File \u001b[0;32m/workspaces/ling516/phosphorus/meaning.py:109\u001b[0m, in \u001b[0;36mMeaning.interpret\u001b[0;34m(self, alpha, *args)\u001b[0m\n\u001b[1;32m    107\u001b[0m \u001b[38;5;28mself\u001b[39m\u001b[38;5;241m.\u001b[39mindent \u001b[38;5;241m=\u001b[39m \u001b[38;5;124m'\u001b[39m\u001b[38;5;124m'\u001b[39m\n\u001b[1;32m    108\u001b[0m m\u001b[38;5;241m.\u001b[39mprint(\u001b[38;5;124mf\u001b[39m\u001b[38;5;124m'\u001b[39m\u001b[38;5;124m!!! Error interpreting node \u001b[39m\u001b[38;5;132;01m{\u001b[39;00malpha\u001b[38;5;132;01m}\u001b[39;00m\u001b[38;5;124m:\u001b[39m\u001b[38;5;130;01m\\n\u001b[39;00m\u001b[38;5;124m \u001b[39m\u001b[38;5;132;01m{\u001b[39;00me\u001b[38;5;132;01m}\u001b[39;00m\u001b[38;5;124m'\u001b[39m, level\u001b[38;5;241m=\u001b[39mlogging\u001b[38;5;241m.\u001b[39mERROR)\n\u001b[0;32m--> 109\u001b[0m \u001b[38;5;28;01mraise\u001b[39;00m e\n",
      "File \u001b[0;32m/workspaces/ling516/phosphorus/meaning.py:85\u001b[0m, in \u001b[0;36mMeaning.interpret\u001b[0;34m(self, alpha, *args)\u001b[0m\n\u001b[1;32m     83\u001b[0m   \u001b[38;5;28;01mraise\u001b[39;00m \u001b[38;5;167;01mValueError\u001b[39;00m(\u001b[38;5;124mf\u001b[39m\u001b[38;5;124m'\u001b[39m\u001b[38;5;124mNode \u001b[39m\u001b[38;5;132;01m{\u001b[39;00malpha\u001b[38;5;132;01m}\u001b[39;00m\u001b[38;5;124m has no children\u001b[39m\u001b[38;5;124m'\u001b[39m)\n\u001b[1;32m     84\u001b[0m alpha \u001b[38;5;241m=\u001b[39m make_mutable(alpha)\n\u001b[0;32m---> 85\u001b[0m vacuous \u001b[38;5;241m=\u001b[39m [x \u001b[38;5;28;01mfor\u001b[39;00m x \u001b[38;5;129;01min\u001b[39;00m alpha \u001b[38;5;28;01mif\u001b[39;00m \u001b[43mm\u001b[49m\u001b[43m[\u001b[49m\u001b[43mx\u001b[49m\u001b[43m:\u001b[49m\u001b[43margs\u001b[49m\u001b[43m]\u001b[49m \u001b[38;5;129;01mis\u001b[39;00m \u001b[38;5;28;01mNone\u001b[39;00m]\n\u001b[1;32m     86\u001b[0m \u001b[38;5;28;01mif\u001b[39;00m vacuous:\n\u001b[1;32m     87\u001b[0m   m\u001b[38;5;241m.\u001b[39mprint(\u001b[38;5;124m'\u001b[39m\u001b[38;5;124mRemoving vacuous items:\u001b[39m\u001b[38;5;124m'\u001b[39m, vacuous, level\u001b[38;5;241m=\u001b[39mlogging\u001b[38;5;241m.\u001b[39mWARNING)\n",
      "File \u001b[0;32m/workspaces/ling516/phosphorus/meaning.py:62\u001b[0m, in \u001b[0;36mMeaning.__getitem__\u001b[0;34m(self, k)\u001b[0m\n\u001b[1;32m     60\u001b[0m   hargs \u001b[38;5;241m=\u001b[39m make_hashable(args)\n\u001b[1;32m     61\u001b[0m   \u001b[38;5;28;01mif\u001b[39;00m (k, hargs) \u001b[38;5;129;01mnot\u001b[39;00m \u001b[38;5;129;01min\u001b[39;00m \u001b[38;5;28mself\u001b[39m\u001b[38;5;241m.\u001b[39mmemo:\n\u001b[0;32m---> 62\u001b[0m     \u001b[38;5;28mself\u001b[39m\u001b[38;5;241m.\u001b[39mmemo[k,hargs] \u001b[38;5;241m=\u001b[39m \u001b[38;5;28;43mself\u001b[39;49m\u001b[38;5;241;43m.\u001b[39;49m\u001b[43minterpret\u001b[49m\u001b[43m(\u001b[49m\u001b[43mk\u001b[49m\u001b[43m,\u001b[49m\u001b[43m \u001b[49m\u001b[38;5;241;43m*\u001b[39;49m\u001b[43margs\u001b[49m\u001b[43m)\u001b[49m\n\u001b[1;32m     63\u001b[0m   \u001b[38;5;28;01mreturn\u001b[39;00m \u001b[38;5;28mself\u001b[39m\u001b[38;5;241m.\u001b[39mmemo[k,hargs]\n\u001b[1;32m     64\u001b[0m \u001b[38;5;28;01mreturn\u001b[39;00m \u001b[38;5;28mself\u001b[39m\u001b[38;5;241m.\u001b[39minterpret(k, \u001b[38;5;241m*\u001b[39margs)\n",
      "File \u001b[0;32m/workspaces/ling516/phosphorus/meaning.py:109\u001b[0m, in \u001b[0;36mMeaning.interpret\u001b[0;34m(self, alpha, *args)\u001b[0m\n\u001b[1;32m    107\u001b[0m \u001b[38;5;28mself\u001b[39m\u001b[38;5;241m.\u001b[39mindent \u001b[38;5;241m=\u001b[39m \u001b[38;5;124m'\u001b[39m\u001b[38;5;124m'\u001b[39m\n\u001b[1;32m    108\u001b[0m m\u001b[38;5;241m.\u001b[39mprint(\u001b[38;5;124mf\u001b[39m\u001b[38;5;124m'\u001b[39m\u001b[38;5;124m!!! Error interpreting node \u001b[39m\u001b[38;5;132;01m{\u001b[39;00malpha\u001b[38;5;132;01m}\u001b[39;00m\u001b[38;5;124m:\u001b[39m\u001b[38;5;130;01m\\n\u001b[39;00m\u001b[38;5;124m \u001b[39m\u001b[38;5;132;01m{\u001b[39;00me\u001b[38;5;132;01m}\u001b[39;00m\u001b[38;5;124m'\u001b[39m, level\u001b[38;5;241m=\u001b[39mlogging\u001b[38;5;241m.\u001b[39mERROR)\n\u001b[0;32m--> 109\u001b[0m \u001b[38;5;28;01mraise\u001b[39;00m e\n",
      "File \u001b[0;32m/workspaces/ling516/phosphorus/meaning.py:85\u001b[0m, in \u001b[0;36mMeaning.interpret\u001b[0;34m(self, alpha, *args)\u001b[0m\n\u001b[1;32m     83\u001b[0m   \u001b[38;5;28;01mraise\u001b[39;00m \u001b[38;5;167;01mValueError\u001b[39;00m(\u001b[38;5;124mf\u001b[39m\u001b[38;5;124m'\u001b[39m\u001b[38;5;124mNode \u001b[39m\u001b[38;5;132;01m{\u001b[39;00malpha\u001b[38;5;132;01m}\u001b[39;00m\u001b[38;5;124m has no children\u001b[39m\u001b[38;5;124m'\u001b[39m)\n\u001b[1;32m     84\u001b[0m alpha \u001b[38;5;241m=\u001b[39m make_mutable(alpha)\n\u001b[0;32m---> 85\u001b[0m vacuous \u001b[38;5;241m=\u001b[39m [x \u001b[38;5;28;01mfor\u001b[39;00m x \u001b[38;5;129;01min\u001b[39;00m alpha \u001b[38;5;28;01mif\u001b[39;00m \u001b[43mm\u001b[49m\u001b[43m[\u001b[49m\u001b[43mx\u001b[49m\u001b[43m:\u001b[49m\u001b[43margs\u001b[49m\u001b[43m]\u001b[49m \u001b[38;5;129;01mis\u001b[39;00m \u001b[38;5;28;01mNone\u001b[39;00m]\n\u001b[1;32m     86\u001b[0m \u001b[38;5;28;01mif\u001b[39;00m vacuous:\n\u001b[1;32m     87\u001b[0m   m\u001b[38;5;241m.\u001b[39mprint(\u001b[38;5;124m'\u001b[39m\u001b[38;5;124mRemoving vacuous items:\u001b[39m\u001b[38;5;124m'\u001b[39m, vacuous, level\u001b[38;5;241m=\u001b[39mlogging\u001b[38;5;241m.\u001b[39mWARNING)\n",
      "File \u001b[0;32m/workspaces/ling516/phosphorus/meaning.py:62\u001b[0m, in \u001b[0;36mMeaning.__getitem__\u001b[0;34m(self, k)\u001b[0m\n\u001b[1;32m     60\u001b[0m   hargs \u001b[38;5;241m=\u001b[39m make_hashable(args)\n\u001b[1;32m     61\u001b[0m   \u001b[38;5;28;01mif\u001b[39;00m (k, hargs) \u001b[38;5;129;01mnot\u001b[39;00m \u001b[38;5;129;01min\u001b[39;00m \u001b[38;5;28mself\u001b[39m\u001b[38;5;241m.\u001b[39mmemo:\n\u001b[0;32m---> 62\u001b[0m     \u001b[38;5;28mself\u001b[39m\u001b[38;5;241m.\u001b[39mmemo[k,hargs] \u001b[38;5;241m=\u001b[39m \u001b[38;5;28;43mself\u001b[39;49m\u001b[38;5;241;43m.\u001b[39;49m\u001b[43minterpret\u001b[49m\u001b[43m(\u001b[49m\u001b[43mk\u001b[49m\u001b[43m,\u001b[49m\u001b[43m \u001b[49m\u001b[38;5;241;43m*\u001b[39;49m\u001b[43margs\u001b[49m\u001b[43m)\u001b[49m\n\u001b[1;32m     63\u001b[0m   \u001b[38;5;28;01mreturn\u001b[39;00m \u001b[38;5;28mself\u001b[39m\u001b[38;5;241m.\u001b[39mmemo[k,hargs]\n\u001b[1;32m     64\u001b[0m \u001b[38;5;28;01mreturn\u001b[39;00m \u001b[38;5;28mself\u001b[39m\u001b[38;5;241m.\u001b[39minterpret(k, \u001b[38;5;241m*\u001b[39margs)\n",
      "File \u001b[0;32m/workspaces/ling516/phosphorus/meaning.py:109\u001b[0m, in \u001b[0;36mMeaning.interpret\u001b[0;34m(self, alpha, *args)\u001b[0m\n\u001b[1;32m    107\u001b[0m \u001b[38;5;28mself\u001b[39m\u001b[38;5;241m.\u001b[39mindent \u001b[38;5;241m=\u001b[39m \u001b[38;5;124m'\u001b[39m\u001b[38;5;124m'\u001b[39m\n\u001b[1;32m    108\u001b[0m m\u001b[38;5;241m.\u001b[39mprint(\u001b[38;5;124mf\u001b[39m\u001b[38;5;124m'\u001b[39m\u001b[38;5;124m!!! Error interpreting node \u001b[39m\u001b[38;5;132;01m{\u001b[39;00malpha\u001b[38;5;132;01m}\u001b[39;00m\u001b[38;5;124m:\u001b[39m\u001b[38;5;130;01m\\n\u001b[39;00m\u001b[38;5;124m \u001b[39m\u001b[38;5;132;01m{\u001b[39;00me\u001b[38;5;132;01m}\u001b[39;00m\u001b[38;5;124m'\u001b[39m, level\u001b[38;5;241m=\u001b[39mlogging\u001b[38;5;241m.\u001b[39mERROR)\n\u001b[0;32m--> 109\u001b[0m \u001b[38;5;28;01mraise\u001b[39;00m e\n",
      "File \u001b[0;32m/workspaces/ling516/phosphorus/meaning.py:101\u001b[0m, in \u001b[0;36mMeaning.interpret\u001b[0;34m(self, alpha, *args)\u001b[0m\n\u001b[1;32m     99\u001b[0m   \u001b[38;5;28;01mif\u001b[39;00m value \u001b[38;5;129;01mis\u001b[39;00m \u001b[38;5;28;01mNone\u001b[39;00m \u001b[38;5;129;01mand\u001b[39;00m rule \u001b[38;5;241m!=\u001b[39m \u001b[38;5;124m'\u001b[39m\u001b[38;5;124mTN\u001b[39m\u001b[38;5;124m'\u001b[39m: \u001b[38;5;66;03m#fix\u001b[39;00m\n\u001b[1;32m    100\u001b[0m     children \u001b[38;5;241m=\u001b[39m \u001b[38;5;124m'\u001b[39m\u001b[38;5;124m and \u001b[39m\u001b[38;5;124m'\u001b[39m\u001b[38;5;241m.\u001b[39mjoin(\u001b[38;5;28mmap\u001b[39m(\u001b[38;5;28mstr\u001b[39m, alpha))\n\u001b[0;32m--> 101\u001b[0m     \u001b[38;5;28;01mraise\u001b[39;00m \u001b[38;5;167;01mValueError\u001b[39;00m(\u001b[38;5;124mf\u001b[39m\u001b[38;5;124m'\u001b[39m\u001b[38;5;124mNo rule found to combine \u001b[39m\u001b[38;5;132;01m{\u001b[39;00mchildren\u001b[38;5;132;01m}\u001b[39;00m\u001b[38;5;124m'\u001b[39m)\n\u001b[1;32m    103\u001b[0m m\u001b[38;5;241m.\u001b[39mindent \u001b[38;5;241m=\u001b[39m m\u001b[38;5;241m.\u001b[39mindent[:\u001b[38;5;241m-\u001b[39m\u001b[38;5;28mlen\u001b[39m(m\u001b[38;5;241m.\u001b[39mindent_chars)]\n\u001b[1;32m    104\u001b[0m m\u001b[38;5;241m.\u001b[39mprint(\u001b[38;5;124m'\u001b[39m\u001b[38;5;124m=>\u001b[39m\u001b[38;5;124m'\u001b[39m, alpha, \u001b[38;5;124m'\u001b[39m\u001b[38;5;124m=\u001b[39m\u001b[38;5;124m'\u001b[39m, value, \u001b[38;5;124mf\u001b[39m\u001b[38;5;124m'\u001b[39m\u001b[38;5;130;01m\\t\u001b[39;00m\u001b[38;5;124m(\u001b[39m\u001b[38;5;132;01m{\u001b[39;00mrule\u001b[38;5;132;01m}\u001b[39;00m\u001b[38;5;124m)\u001b[39m\u001b[38;5;124m'\u001b[39m)\n",
      "\u001b[0;31mValueError\u001b[0m: No rule found to combine cat and gray"
     ]
    }
   ],
   "source": [
    "m.update({\n",
    "  'gray'    : 'lambda f : lambda x: f(x) and GRAY(x)'.eet_t,\n",
    "  })\n",
    "\n",
    "m['gray']\n",
    "m[t]"
   ]
  },
  {
   "cell_type": "code",
   "execution_count": null,
   "metadata": {},
   "outputs": [
    {
     "name": "stderr",
     "output_type": "stream",
     "text": [
      "Interpreting ('gray', 'cat') with parameters: ()\u001b[0m\n",
      "   Interpreting gray with parameters: ()\u001b[0m\n",
      "   => gray = λx . GRAY(x) \t(TN)\u001b[0m\n",
      "   Interpreting cat with parameters: ()\u001b[0m\n",
      "   => cat = λx . CAT(x) \t(TN)\u001b[0m\n",
      "=> ('gray', 'cat') = λx . GRAY(x) and CAT(x) \t(PM)\u001b[0m\n"
     ]
    },
    {
     "data": {
      "text/html": [
       "λx . GRAY(x) and CAT(x)\n",
       "        <span style='float:right; font-family:monospace; margin-right:75px;\n",
       "              font-weight:bold; background-color:#e5e5ff; color:#000'>\n",
       "          ('e', 't')</span>"
      ],
      "text/plain": [
       "Function(\"lambda x: GRAY(x) and CAT(x)\", Type(('e', 't')))"
      ]
     },
     "execution_count": 20,
     "metadata": {},
     "output_type": "execute_result"
    },
    {
     "name": "stderr",
     "output_type": "stream",
     "text": [
      "Interpreting ('Kaline', (('gray', 'cat'), ('in', 'Texas'))) with parameters: ()\u001b[0m\n",
      "   Interpreting Kaline with parameters: ()\u001b[0m\n",
      "   => Kaline = 'K' \t(TN)\u001b[0m\n",
      "   Interpreting (('gray', 'cat'), ('in', 'Texas')) with parameters: ()\u001b[0m\n",
      "      Interpreting ('gray', 'cat') with parameters: ()\u001b[0m\n",
      "         Interpreting gray with parameters: ()\u001b[0m\n",
      "         => gray = λx . GRAY(x) \t(TN)\u001b[0m\n",
      "         Interpreting cat with parameters: ()\u001b[0m\n",
      "         => cat = λx . CAT(x) \t(TN)\u001b[0m\n",
      "      => ('gray', 'cat') = λx . GRAY(x) and CAT(x) \t(PM)\u001b[0m\n",
      "      Interpreting ('in', 'Texas') with parameters: ()\u001b[0m\n",
      "         Interpreting in with parameters: ()\u001b[0m\n",
      "         => in = λx . λy . IN(y, x) \t(TN)\u001b[0m\n",
      "         Interpreting Texas with parameters: ()\u001b[0m\n",
      "         => Texas = 'T' \t(TN)\u001b[0m\n",
      "      => ('in', 'Texas') = λy . IN(y, 'T') \t(FA)\u001b[0m\n",
      "   => (('gray', 'cat'), ('in', 'Texas')) = λx . (GRAY(x) and CAT(x)) and IN(x, 'T') \t(PM)\u001b[0m\n",
      "=> ('Kaline', (('gray', 'cat'), ('in', 'Texas'))) = (GRAY('K') and CAT('K')) and IN('K', 'T') \t(AF)\u001b[0m\n"
     ]
    },
    {
     "data": {
      "text/html": [
       "(GRAY('K') and CAT('K')) and IN('K', 'T')\n",
       "        <span style='float:right; font-family:monospace; margin-right:75px;\n",
       "              font-weight:bold; background-color:#e5e5ff; color:#000'>\n",
       "          't'</span>"
      ],
      "text/plain": [
       "(GRAY('K') and CAT('K')) and IN('K', 'T')"
      ]
     },
     "execution_count": 20,
     "metadata": {},
     "output_type": "execute_result"
    }
   ],
   "source": [
    "class Meaning4(Meaning):\n",
    "  def rules(m, alpha):\n",
    "    match alpha:      # Note: m.quiet(  ) turns off printing\n",
    "      # PM\n",
    "      case (beta, gamma) if m.quiet(  m[gamma].type == m[beta].type == Type.et ):\n",
    "        rule = 'PM'\n",
    "        value = 'lambda f : lambda g: lambda x: f(x) and g(x)'.et_et_et(m[beta])(m[gamma])\n",
    "\n",
    "      # FA\n",
    "      case (beta, gamma) if m.quiet(  m[gamma] in m[beta].domain()  ):\n",
    "        rule = 'FA'\n",
    "        value = m[beta](m[gamma])\n",
    "      case (gamma, beta) if m.quiet(  m[gamma] in m[beta].domain()  ):\n",
    "        rule = 'AF'\n",
    "        value = m[beta](m[gamma])\n",
    "\n",
    "      # NN\n",
    "      case (beta,):\n",
    "        rule = 'NN'\n",
    "        value = m[beta]\n",
    "\n",
    "      # TN\n",
    "      case str():\n",
    "        rule = 'TN'\n",
    "        value = m.lookup(alpha)\n",
    "\n",
    "      case _:\n",
    "        rule = '??'\n",
    "        value = alpha\n",
    "\n",
    "    return value, rule\n",
    "\n",
    "m4 = Meaning4({\n",
    "    'Joe'     : 'J'.e,\n",
    "    'Kaline'  : 'K'.e,\n",
    "    'Texas'   : 'T'.e,\n",
    "    'in'      : 'lambda x: lambda y: IN(y,x)'.eet,\n",
    "    'cat'     : 'lambda x: CAT(x)'.et,\n",
    "    'gray'    : 'lambda x: GRAY(x)'.et,\n",
    "})\n",
    "\n",
    "m4['gray', 'cat']\n",
    "m4['Kaline', [['gray', 'cat'], ['in', 'Texas']]]"
   ]
  },
  {
   "cell_type": "code",
   "execution_count": null,
   "metadata": {},
   "outputs": [
    {
     "name": "stderr",
     "output_type": "stream",
     "text": [
      "Interpreting ('a',) with parameters: ()\u001b[0m\n",
      "   Interpreting a with parameters: ()\u001b[0m\n",
      "   => a = None \t(TN)\u001b[0m\n",
      "\u001b[38;5;208m   Removing vacuous items: ['a']\u001b[0m\n",
      "\u001b[38;5;208m   No non-vacuous children in node ()\u001b[0m\n",
      "=> () = None \t(NN)\u001b[0m\n",
      "Interpreting ('a', 'cat') with parameters: ()\u001b[0m\n",
      "   Interpreting a with parameters: ()\u001b[0m\n",
      "   => a = None \t(TN)\u001b[0m\n",
      "   Interpreting cat with parameters: ()\u001b[0m\n",
      "   => cat = λx . CAT(x) \t(TN)\u001b[0m\n",
      "\u001b[38;5;208m   Removing vacuous items: ['a']\u001b[0m\n",
      "=> ('cat',) = λx . CAT(x) \t(NN)\u001b[0m\n"
     ]
    },
    {
     "data": {
      "text/html": [
       "λx . CAT(x)\n",
       "        <span style='float:right; font-family:monospace; margin-right:75px;\n",
       "              font-weight:bold; background-color:#e5e5ff; color:#000'>\n",
       "          ('e', 't')</span>"
      ],
      "text/plain": [
       "Function(\"lambda x: CAT(x)\", Type(('e', 't')))"
      ]
     },
     "execution_count": 21,
     "metadata": {},
     "output_type": "execute_result"
    },
    {
     "name": "stderr",
     "output_type": "stream",
     "text": [
      "Interpreting ('is', ('a', 'cat')) with parameters: ()\u001b[0m\n",
      "   Interpreting is with parameters: ()\u001b[0m\n",
      "   => is = None \t(TN)\u001b[0m\n",
      "   Interpreting ('a', 'cat') with parameters: ()\u001b[0m\n",
      "      Interpreting a with parameters: ()\u001b[0m\n",
      "      => a = None \t(TN)\u001b[0m\n",
      "      Interpreting cat with parameters: ()\u001b[0m\n",
      "      => cat = λx . CAT(x) \t(TN)\u001b[0m\n",
      "\u001b[38;5;208m      Removing vacuous items: ['a']\u001b[0m\n",
      "   => ('cat',) = λx . CAT(x) \t(NN)\u001b[0m\n",
      "\u001b[38;5;208m   Removing vacuous items: ['is']\u001b[0m\n",
      "=> (('a', 'cat'),) = λx . CAT(x) \t(NN)\u001b[0m\n"
     ]
    },
    {
     "data": {
      "text/html": [
       "λx . CAT(x)\n",
       "        <span style='float:right; font-family:monospace; margin-right:75px;\n",
       "              font-weight:bold; background-color:#e5e5ff; color:#000'>\n",
       "          ('e', 't')</span>"
      ],
      "text/plain": [
       "Function(\"lambda x: CAT(x)\", Type(('e', 't')))"
      ]
     },
     "execution_count": 21,
     "metadata": {},
     "output_type": "execute_result"
    },
    {
     "name": "stderr",
     "output_type": "stream",
     "text": [
      "Interpreting ('Kaline', (('fond', 'Joe'), ('gray', 'cat'))) with parameters: ()\u001b[0m\n",
      "   Interpreting Kaline with parameters: ()\u001b[0m\n",
      "   => Kaline = 'K' \t(TN)\u001b[0m\n",
      "   Interpreting (('fond', 'Joe'), ('gray', 'cat')) with parameters: ()\u001b[0m\n",
      "      Interpreting ('fond', 'Joe') with parameters: ()\u001b[0m\n",
      "         Interpreting fond with parameters: ()\u001b[0m\n",
      "         => fond = Ellipsis \t(TN)\u001b[0m\n",
      "         Interpreting Joe with parameters: ()\u001b[0m\n",
      "         => Joe = 'J' \t(TN)\u001b[0m\n",
      "\u001b[91m!!! Error interpreting node ('fond', 'Joe'):\n",
      " 'ellipsis' object has no attribute 'domain'\u001b[0m\n",
      "\u001b[91m!!! Error interpreting node [['fond', 'Joe'], ['gray', 'cat']]:\n",
      " 'ellipsis' object has no attribute 'domain'\u001b[0m\n",
      "\u001b[91m!!! Error interpreting node ['Kaline', [['fond', 'Joe'], ['gray', 'cat']]]:\n",
      " 'ellipsis' object has no attribute 'domain'\u001b[0m\n"
     ]
    },
    {
     "ename": "AttributeError",
     "evalue": "'ellipsis' object has no attribute 'domain'",
     "output_type": "error",
     "traceback": [
      "\u001b[0;31m---------------------------------------------------------------------------\u001b[0m",
      "\u001b[0;31mAttributeError\u001b[0m                            Traceback (most recent call last)",
      "Cell \u001b[0;32mIn[21], line 43\u001b[0m\n\u001b[1;32m     41\u001b[0m m3[\u001b[38;5;124m'\u001b[39m\u001b[38;5;124ma\u001b[39m\u001b[38;5;124m'\u001b[39m, \u001b[38;5;124m'\u001b[39m\u001b[38;5;124mcat\u001b[39m\u001b[38;5;124m'\u001b[39m]\n\u001b[1;32m     42\u001b[0m m3[\u001b[38;5;124m'\u001b[39m\u001b[38;5;124mis\u001b[39m\u001b[38;5;124m'\u001b[39m, [\u001b[38;5;124m'\u001b[39m\u001b[38;5;124ma\u001b[39m\u001b[38;5;124m'\u001b[39m, \u001b[38;5;124m'\u001b[39m\u001b[38;5;124mcat\u001b[39m\u001b[38;5;124m'\u001b[39m]]\n\u001b[0;32m---> 43\u001b[0m \u001b[43mm3\u001b[49m\u001b[43m[\u001b[49m\u001b[38;5;124;43m'\u001b[39;49m\u001b[38;5;124;43mKaline\u001b[39;49m\u001b[38;5;124;43m'\u001b[39;49m\u001b[43m,\u001b[49m\u001b[43m \u001b[49m\u001b[43m[\u001b[49m\u001b[43m[\u001b[49m\u001b[38;5;124;43m'\u001b[39;49m\u001b[38;5;124;43mfond\u001b[39;49m\u001b[38;5;124;43m'\u001b[39;49m\u001b[43m,\u001b[49m\u001b[43m \u001b[49m\u001b[38;5;124;43m'\u001b[39;49m\u001b[38;5;124;43mJoe\u001b[39;49m\u001b[38;5;124;43m'\u001b[39;49m\u001b[43m]\u001b[49m\u001b[43m,\u001b[49m\u001b[43m \u001b[49m\u001b[43m[\u001b[49m\u001b[38;5;124;43m'\u001b[39;49m\u001b[38;5;124;43mgray\u001b[39;49m\u001b[38;5;124;43m'\u001b[39;49m\u001b[43m,\u001b[49m\u001b[43m \u001b[49m\u001b[38;5;124;43m'\u001b[39;49m\u001b[38;5;124;43mcat\u001b[39;49m\u001b[38;5;124;43m'\u001b[39;49m\u001b[43m]\u001b[49m\u001b[43m]\u001b[49m\u001b[43m]\u001b[49m\n\u001b[1;32m     44\u001b[0m m3[\u001b[38;5;124m'\u001b[39m\u001b[38;5;124mKaline\u001b[39m\u001b[38;5;124m'\u001b[39m, \u001b[38;5;124m'\u001b[39m\u001b[38;5;124mgray\u001b[39m\u001b[38;5;124m'\u001b[39m]\n",
      "File \u001b[0;32m/workspaces/ling516/phosphorus/meaning.py:64\u001b[0m, in \u001b[0;36mMeaning.__getitem__\u001b[0;34m(self, k)\u001b[0m\n\u001b[1;32m     62\u001b[0m     \u001b[38;5;28mself\u001b[39m\u001b[38;5;241m.\u001b[39mmemo[k,hargs] \u001b[38;5;241m=\u001b[39m \u001b[38;5;28mself\u001b[39m\u001b[38;5;241m.\u001b[39minterpret(k, \u001b[38;5;241m*\u001b[39margs)\n\u001b[1;32m     63\u001b[0m   \u001b[38;5;28;01mreturn\u001b[39;00m \u001b[38;5;28mself\u001b[39m\u001b[38;5;241m.\u001b[39mmemo[k,hargs]\n\u001b[0;32m---> 64\u001b[0m \u001b[38;5;28;01mreturn\u001b[39;00m \u001b[38;5;28;43mself\u001b[39;49m\u001b[38;5;241;43m.\u001b[39;49m\u001b[43minterpret\u001b[49m\u001b[43m(\u001b[49m\u001b[43mk\u001b[49m\u001b[43m,\u001b[49m\u001b[43m \u001b[49m\u001b[38;5;241;43m*\u001b[39;49m\u001b[43margs\u001b[49m\u001b[43m)\u001b[49m\n",
      "File \u001b[0;32m/workspaces/ling516/phosphorus/meaning.py:109\u001b[0m, in \u001b[0;36mMeaning.interpret\u001b[0;34m(self, alpha, *args)\u001b[0m\n\u001b[1;32m    107\u001b[0m \u001b[38;5;28mself\u001b[39m\u001b[38;5;241m.\u001b[39mindent \u001b[38;5;241m=\u001b[39m \u001b[38;5;124m'\u001b[39m\u001b[38;5;124m'\u001b[39m\n\u001b[1;32m    108\u001b[0m m\u001b[38;5;241m.\u001b[39mprint(\u001b[38;5;124mf\u001b[39m\u001b[38;5;124m'\u001b[39m\u001b[38;5;124m!!! Error interpreting node \u001b[39m\u001b[38;5;132;01m{\u001b[39;00malpha\u001b[38;5;132;01m}\u001b[39;00m\u001b[38;5;124m:\u001b[39m\u001b[38;5;130;01m\\n\u001b[39;00m\u001b[38;5;124m \u001b[39m\u001b[38;5;132;01m{\u001b[39;00me\u001b[38;5;132;01m}\u001b[39;00m\u001b[38;5;124m'\u001b[39m, level\u001b[38;5;241m=\u001b[39mlogging\u001b[38;5;241m.\u001b[39mERROR)\n\u001b[0;32m--> 109\u001b[0m \u001b[38;5;28;01mraise\u001b[39;00m e\n",
      "File \u001b[0;32m/workspaces/ling516/phosphorus/meaning.py:85\u001b[0m, in \u001b[0;36mMeaning.interpret\u001b[0;34m(self, alpha, *args)\u001b[0m\n\u001b[1;32m     83\u001b[0m   \u001b[38;5;28;01mraise\u001b[39;00m \u001b[38;5;167;01mValueError\u001b[39;00m(\u001b[38;5;124mf\u001b[39m\u001b[38;5;124m'\u001b[39m\u001b[38;5;124mNode \u001b[39m\u001b[38;5;132;01m{\u001b[39;00malpha\u001b[38;5;132;01m}\u001b[39;00m\u001b[38;5;124m has no children\u001b[39m\u001b[38;5;124m'\u001b[39m)\n\u001b[1;32m     84\u001b[0m alpha \u001b[38;5;241m=\u001b[39m make_mutable(alpha)\n\u001b[0;32m---> 85\u001b[0m vacuous \u001b[38;5;241m=\u001b[39m [x \u001b[38;5;28;01mfor\u001b[39;00m x \u001b[38;5;129;01min\u001b[39;00m alpha \u001b[38;5;28;01mif\u001b[39;00m \u001b[43mm\u001b[49m\u001b[43m[\u001b[49m\u001b[43mx\u001b[49m\u001b[43m:\u001b[49m\u001b[43margs\u001b[49m\u001b[43m]\u001b[49m \u001b[38;5;129;01mis\u001b[39;00m \u001b[38;5;28;01mNone\u001b[39;00m]\n\u001b[1;32m     86\u001b[0m \u001b[38;5;28;01mif\u001b[39;00m vacuous:\n\u001b[1;32m     87\u001b[0m   m\u001b[38;5;241m.\u001b[39mprint(\u001b[38;5;124m'\u001b[39m\u001b[38;5;124mRemoving vacuous items:\u001b[39m\u001b[38;5;124m'\u001b[39m, vacuous, level\u001b[38;5;241m=\u001b[39mlogging\u001b[38;5;241m.\u001b[39mWARNING)\n",
      "File \u001b[0;32m/workspaces/ling516/phosphorus/meaning.py:62\u001b[0m, in \u001b[0;36mMeaning.__getitem__\u001b[0;34m(self, k)\u001b[0m\n\u001b[1;32m     60\u001b[0m   hargs \u001b[38;5;241m=\u001b[39m make_hashable(args)\n\u001b[1;32m     61\u001b[0m   \u001b[38;5;28;01mif\u001b[39;00m (k, hargs) \u001b[38;5;129;01mnot\u001b[39;00m \u001b[38;5;129;01min\u001b[39;00m \u001b[38;5;28mself\u001b[39m\u001b[38;5;241m.\u001b[39mmemo:\n\u001b[0;32m---> 62\u001b[0m     \u001b[38;5;28mself\u001b[39m\u001b[38;5;241m.\u001b[39mmemo[k,hargs] \u001b[38;5;241m=\u001b[39m \u001b[38;5;28;43mself\u001b[39;49m\u001b[38;5;241;43m.\u001b[39;49m\u001b[43minterpret\u001b[49m\u001b[43m(\u001b[49m\u001b[43mk\u001b[49m\u001b[43m,\u001b[49m\u001b[43m \u001b[49m\u001b[38;5;241;43m*\u001b[39;49m\u001b[43margs\u001b[49m\u001b[43m)\u001b[49m\n\u001b[1;32m     63\u001b[0m   \u001b[38;5;28;01mreturn\u001b[39;00m \u001b[38;5;28mself\u001b[39m\u001b[38;5;241m.\u001b[39mmemo[k,hargs]\n\u001b[1;32m     64\u001b[0m \u001b[38;5;28;01mreturn\u001b[39;00m \u001b[38;5;28mself\u001b[39m\u001b[38;5;241m.\u001b[39minterpret(k, \u001b[38;5;241m*\u001b[39margs)\n",
      "File \u001b[0;32m/workspaces/ling516/phosphorus/meaning.py:109\u001b[0m, in \u001b[0;36mMeaning.interpret\u001b[0;34m(self, alpha, *args)\u001b[0m\n\u001b[1;32m    107\u001b[0m \u001b[38;5;28mself\u001b[39m\u001b[38;5;241m.\u001b[39mindent \u001b[38;5;241m=\u001b[39m \u001b[38;5;124m'\u001b[39m\u001b[38;5;124m'\u001b[39m\n\u001b[1;32m    108\u001b[0m m\u001b[38;5;241m.\u001b[39mprint(\u001b[38;5;124mf\u001b[39m\u001b[38;5;124m'\u001b[39m\u001b[38;5;124m!!! Error interpreting node \u001b[39m\u001b[38;5;132;01m{\u001b[39;00malpha\u001b[38;5;132;01m}\u001b[39;00m\u001b[38;5;124m:\u001b[39m\u001b[38;5;130;01m\\n\u001b[39;00m\u001b[38;5;124m \u001b[39m\u001b[38;5;132;01m{\u001b[39;00me\u001b[38;5;132;01m}\u001b[39;00m\u001b[38;5;124m'\u001b[39m, level\u001b[38;5;241m=\u001b[39mlogging\u001b[38;5;241m.\u001b[39mERROR)\n\u001b[0;32m--> 109\u001b[0m \u001b[38;5;28;01mraise\u001b[39;00m e\n",
      "File \u001b[0;32m/workspaces/ling516/phosphorus/meaning.py:85\u001b[0m, in \u001b[0;36mMeaning.interpret\u001b[0;34m(self, alpha, *args)\u001b[0m\n\u001b[1;32m     83\u001b[0m   \u001b[38;5;28;01mraise\u001b[39;00m \u001b[38;5;167;01mValueError\u001b[39;00m(\u001b[38;5;124mf\u001b[39m\u001b[38;5;124m'\u001b[39m\u001b[38;5;124mNode \u001b[39m\u001b[38;5;132;01m{\u001b[39;00malpha\u001b[38;5;132;01m}\u001b[39;00m\u001b[38;5;124m has no children\u001b[39m\u001b[38;5;124m'\u001b[39m)\n\u001b[1;32m     84\u001b[0m alpha \u001b[38;5;241m=\u001b[39m make_mutable(alpha)\n\u001b[0;32m---> 85\u001b[0m vacuous \u001b[38;5;241m=\u001b[39m [x \u001b[38;5;28;01mfor\u001b[39;00m x \u001b[38;5;129;01min\u001b[39;00m alpha \u001b[38;5;28;01mif\u001b[39;00m \u001b[43mm\u001b[49m\u001b[43m[\u001b[49m\u001b[43mx\u001b[49m\u001b[43m:\u001b[49m\u001b[43margs\u001b[49m\u001b[43m]\u001b[49m \u001b[38;5;129;01mis\u001b[39;00m \u001b[38;5;28;01mNone\u001b[39;00m]\n\u001b[1;32m     86\u001b[0m \u001b[38;5;28;01mif\u001b[39;00m vacuous:\n\u001b[1;32m     87\u001b[0m   m\u001b[38;5;241m.\u001b[39mprint(\u001b[38;5;124m'\u001b[39m\u001b[38;5;124mRemoving vacuous items:\u001b[39m\u001b[38;5;124m'\u001b[39m, vacuous, level\u001b[38;5;241m=\u001b[39mlogging\u001b[38;5;241m.\u001b[39mWARNING)\n",
      "File \u001b[0;32m/workspaces/ling516/phosphorus/meaning.py:62\u001b[0m, in \u001b[0;36mMeaning.__getitem__\u001b[0;34m(self, k)\u001b[0m\n\u001b[1;32m     60\u001b[0m   hargs \u001b[38;5;241m=\u001b[39m make_hashable(args)\n\u001b[1;32m     61\u001b[0m   \u001b[38;5;28;01mif\u001b[39;00m (k, hargs) \u001b[38;5;129;01mnot\u001b[39;00m \u001b[38;5;129;01min\u001b[39;00m \u001b[38;5;28mself\u001b[39m\u001b[38;5;241m.\u001b[39mmemo:\n\u001b[0;32m---> 62\u001b[0m     \u001b[38;5;28mself\u001b[39m\u001b[38;5;241m.\u001b[39mmemo[k,hargs] \u001b[38;5;241m=\u001b[39m \u001b[38;5;28;43mself\u001b[39;49m\u001b[38;5;241;43m.\u001b[39;49m\u001b[43minterpret\u001b[49m\u001b[43m(\u001b[49m\u001b[43mk\u001b[49m\u001b[43m,\u001b[49m\u001b[43m \u001b[49m\u001b[38;5;241;43m*\u001b[39;49m\u001b[43margs\u001b[49m\u001b[43m)\u001b[49m\n\u001b[1;32m     63\u001b[0m   \u001b[38;5;28;01mreturn\u001b[39;00m \u001b[38;5;28mself\u001b[39m\u001b[38;5;241m.\u001b[39mmemo[k,hargs]\n\u001b[1;32m     64\u001b[0m \u001b[38;5;28;01mreturn\u001b[39;00m \u001b[38;5;28mself\u001b[39m\u001b[38;5;241m.\u001b[39minterpret(k, \u001b[38;5;241m*\u001b[39margs)\n",
      "File \u001b[0;32m/workspaces/ling516/phosphorus/meaning.py:109\u001b[0m, in \u001b[0;36mMeaning.interpret\u001b[0;34m(self, alpha, *args)\u001b[0m\n\u001b[1;32m    107\u001b[0m \u001b[38;5;28mself\u001b[39m\u001b[38;5;241m.\u001b[39mindent \u001b[38;5;241m=\u001b[39m \u001b[38;5;124m'\u001b[39m\u001b[38;5;124m'\u001b[39m\n\u001b[1;32m    108\u001b[0m m\u001b[38;5;241m.\u001b[39mprint(\u001b[38;5;124mf\u001b[39m\u001b[38;5;124m'\u001b[39m\u001b[38;5;124m!!! Error interpreting node \u001b[39m\u001b[38;5;132;01m{\u001b[39;00malpha\u001b[38;5;132;01m}\u001b[39;00m\u001b[38;5;124m:\u001b[39m\u001b[38;5;130;01m\\n\u001b[39;00m\u001b[38;5;124m \u001b[39m\u001b[38;5;132;01m{\u001b[39;00me\u001b[38;5;132;01m}\u001b[39;00m\u001b[38;5;124m'\u001b[39m, level\u001b[38;5;241m=\u001b[39mlogging\u001b[38;5;241m.\u001b[39mERROR)\n\u001b[0;32m--> 109\u001b[0m \u001b[38;5;28;01mraise\u001b[39;00m e\n",
      "File \u001b[0;32m/workspaces/ling516/phosphorus/meaning.py:98\u001b[0m, in \u001b[0;36mMeaning.interpret\u001b[0;34m(self, alpha, *args)\u001b[0m\n\u001b[1;32m     96\u001b[0m   value, rule \u001b[38;5;241m=\u001b[39m \u001b[38;5;28;01mNone\u001b[39;00m, \u001b[38;5;124m'\u001b[39m\u001b[38;5;124mNN\u001b[39m\u001b[38;5;124m'\u001b[39m\n\u001b[1;32m     97\u001b[0m \u001b[38;5;28;01melse\u001b[39;00m:\n\u001b[0;32m---> 98\u001b[0m   value, rule \u001b[38;5;241m=\u001b[39m \u001b[38;5;28;43mself\u001b[39;49m\u001b[38;5;241;43m.\u001b[39;49m\u001b[43mrules\u001b[49m\u001b[43m(\u001b[49m\u001b[43malpha\u001b[49m\u001b[43m,\u001b[49m\u001b[43m \u001b[49m\u001b[38;5;241;43m*\u001b[39;49m\u001b[43margs\u001b[49m\u001b[43m)\u001b[49m\n\u001b[1;32m     99\u001b[0m   \u001b[38;5;28;01mif\u001b[39;00m value \u001b[38;5;129;01mis\u001b[39;00m \u001b[38;5;28;01mNone\u001b[39;00m \u001b[38;5;129;01mand\u001b[39;00m rule \u001b[38;5;241m!=\u001b[39m \u001b[38;5;124m'\u001b[39m\u001b[38;5;124mTN\u001b[39m\u001b[38;5;124m'\u001b[39m: \u001b[38;5;66;03m#fix\u001b[39;00m\n\u001b[1;32m    100\u001b[0m     children \u001b[38;5;241m=\u001b[39m \u001b[38;5;124m'\u001b[39m\u001b[38;5;124m and \u001b[39m\u001b[38;5;124m'\u001b[39m\u001b[38;5;241m.\u001b[39mjoin(\u001b[38;5;28mmap\u001b[39m(\u001b[38;5;28mstr\u001b[39m, alpha))\n",
      "Cell \u001b[0;32mIn[21], line 5\u001b[0m, in \u001b[0;36mMeaning3.rules\u001b[0;34m(m, alpha)\u001b[0m\n\u001b[1;32m      2\u001b[0m \u001b[38;5;28;01mdef\u001b[39;00m \u001b[38;5;21mrules\u001b[39m(m, alpha):\n\u001b[1;32m      3\u001b[0m   \u001b[38;5;28;01mmatch\u001b[39;00m alpha:      \u001b[38;5;66;03m# Note: m.quiet(  ) turns off printing\u001b[39;00m\n\u001b[1;32m      4\u001b[0m     \u001b[38;5;66;03m# FA\u001b[39;00m\n\u001b[0;32m----> 5\u001b[0m     \u001b[38;5;28;01mcase\u001b[39;00m (beta, gamma) \u001b[38;5;28;01mif\u001b[39;00m m\u001b[38;5;241m.\u001b[39mquiet(  m[gamma] \u001b[38;5;129;01min\u001b[39;00m \u001b[43mm\u001b[49m\u001b[43m[\u001b[49m\u001b[43mbeta\u001b[49m\u001b[43m]\u001b[49m\u001b[38;5;241;43m.\u001b[39;49m\u001b[43mdomain\u001b[49m()  ):\n\u001b[1;32m      6\u001b[0m       rule \u001b[38;5;241m=\u001b[39m \u001b[38;5;124m'\u001b[39m\u001b[38;5;124mFA\u001b[39m\u001b[38;5;124m'\u001b[39m\n\u001b[1;32m      7\u001b[0m       value \u001b[38;5;241m=\u001b[39m m[beta](m[gamma])\n",
      "\u001b[0;31mAttributeError\u001b[0m: 'ellipsis' object has no attribute 'domain'"
     ]
    }
   ],
   "source": [
    "class Meaning3(Meaning):\n",
    "  def rules(m, alpha):\n",
    "    match alpha:      # Note: m.quiet(  ) turns off printing\n",
    "      # FA\n",
    "      case (beta, gamma) if m.quiet(  m[gamma] in m[beta].domain()  ):\n",
    "        rule = 'FA'\n",
    "        value = m[beta](m[gamma])\n",
    "      case (gamma, beta) if m.quiet(  m[gamma] in m[beta].domain()  ):\n",
    "        rule = 'AF'\n",
    "        value = m[beta](m[gamma])\n",
    "\n",
    "      # NN\n",
    "      case (beta,):\n",
    "        rule = 'NN'\n",
    "        value = m[beta]\n",
    "\n",
    "      # TN\n",
    "      case str():\n",
    "        rule = 'TN'\n",
    "        value = m.lookup(alpha)\n",
    "\n",
    "      case _:\n",
    "        rule = '??'\n",
    "        value = alpha\n",
    "\n",
    "    return value, rule\n",
    "\n",
    "m3 = Meaning3({\n",
    "    'Joe'     : 'J'.e,\n",
    "    'Kaline'  : 'K'.e,\n",
    "    'cat'     : 'lambda x: CAT(x)'.et,\n",
    "    'gray'    : 'lambda f: lambda x: f(x) and GRAY(x)'.et_et,\n",
    "    'fond'    : ...\n",
    "})\n",
    "\n",
    "#m3['Joe']\n",
    "#m3['Kaline']\n",
    "#m3['cat']\n",
    "#m3['Kaline', 'cat']\n",
    "m3[('a',)]\n",
    "m3['a', 'cat']\n",
    "m3['is', ['a', 'cat']]\n",
    "m3['Kaline', [['fond', 'Joe'], ['gray', 'cat']]]\n",
    "m3['Kaline', 'gray']"
   ]
  },
  {
   "cell_type": "code",
   "execution_count": null,
   "metadata": {},
   "outputs": [],
   "source": [
    "m3.update({'is': 'lambda f: lambda x: f(lambda y:1)(x)'.et_et__et})\n",
    "\n",
    "m3['gray']\n",
    "m3['is', 'gray']"
   ]
  },
  {
   "cell_type": "code",
   "execution_count": null,
   "metadata": {},
   "outputs": [],
   "source": [
    "tree = Tree.fromstring('(S (NP (N Kaline)) (VP is (NP (Det a) (N cat))))')\n",
    "tree\n",
    "m3[tree]"
   ]
  },
  {
   "cell_type": "code",
   "execution_count": null,
   "metadata": {},
   "outputs": [
    {
     "name": "stderr",
     "output_type": "stream",
     "text": [
      "Interpreting Ann with parameters: ()\u001b[0m\n",
      "=> Ann = 'A' \t(TN)\u001b[0m\n"
     ]
    },
    {
     "data": {
      "text/html": [
       "'A'\n",
       "        <span style='float:right; font-family:monospace; margin-right:75px;\n",
       "              font-weight:bold; background-color:#e5e5ff; color:#000'>\n",
       "          'e'</span>"
      ],
      "text/plain": [
       "'A'"
      ]
     },
     "execution_count": 22,
     "metadata": {},
     "output_type": "execute_result"
    },
    {
     "name": "stderr",
     "output_type": "stream",
     "text": [
      "Interpreting smokes with parameters: ()\u001b[0m\n",
      "=> smokes = λx . SMOKES(x) \t(TN)\u001b[0m\n"
     ]
    },
    {
     "data": {
      "text/html": [
       "λx . SMOKES(x)\n",
       "        <span style='float:right; font-family:monospace; margin-right:75px;\n",
       "              font-weight:bold; background-color:#e5e5ff; color:#000'>\n",
       "          ('e', 't')</span>"
      ],
      "text/plain": [
       "Function(\"lambda x: SMOKES(x)\", Type(('e', 't')))"
      ]
     },
     "execution_count": 22,
     "metadata": {},
     "output_type": "execute_result"
    },
    {
     "name": "stderr",
     "output_type": "stream",
     "text": [
      "Interpreting ('Ann', 'smokes') with parameters: ()\u001b[0m\n",
      "   Interpreting Ann with parameters: ()\u001b[0m\n",
      "   => Ann = 'A' \t(TN)\u001b[0m\n",
      "   Interpreting smokes with parameters: ()\u001b[0m\n",
      "   => smokes = λx . SMOKES(x) \t(TN)\u001b[0m\n",
      "=> ('Ann', 'smokes') = SMOKES('A') \t(AF)\u001b[0m\n"
     ]
    },
    {
     "data": {
      "text/html": [
       "SMOKES('A')\n",
       "        <span style='float:right; font-family:monospace; margin-right:75px;\n",
       "              font-weight:bold; background-color:#e5e5ff; color:#000'>\n",
       "          't'</span>"
      ],
      "text/plain": [
       "SMOKES('A')"
      ]
     },
     "execution_count": 22,
     "metadata": {},
     "output_type": "execute_result"
    },
    {
     "name": "stderr",
     "output_type": "stream",
     "text": [
      "Interpreting ('smokes', 'Ann') with parameters: ()\u001b[0m\n",
      "   Interpreting smokes with parameters: ()\u001b[0m\n",
      "   => smokes = λx . SMOKES(x) \t(TN)\u001b[0m\n",
      "   Interpreting Ann with parameters: ()\u001b[0m\n",
      "   => Ann = 'A' \t(TN)\u001b[0m\n",
      "=> ('smokes', 'Ann') = SMOKES('A') \t(FA)\u001b[0m\n"
     ]
    },
    {
     "data": {
      "text/html": [
       "SMOKES('A')\n",
       "        <span style='float:right; font-family:monospace; margin-right:75px;\n",
       "              font-weight:bold; background-color:#e5e5ff; color:#000'>\n",
       "          't'</span>"
      ],
      "text/plain": [
       "SMOKES('A')"
      ]
     },
     "execution_count": 22,
     "metadata": {},
     "output_type": "execute_result"
    }
   ],
   "source": [
    "class Meaning3(Meaning):\n",
    "  def rules(m, alpha):\n",
    "    match alpha:      # Note: m.quiet(  ) turns off printing\n",
    "      # FA\n",
    "      case (beta, gamma) if m.quiet(  m[gamma] in m[beta].domain()  ):\n",
    "        rule = 'FA'\n",
    "        value = m[beta](m[gamma])\n",
    "      case (gamma, beta) if m.quiet(  m[gamma] in m[beta].domain()  ):\n",
    "        rule = 'AF'\n",
    "        value = m[beta](m[gamma])\n",
    "\n",
    "      # NN\n",
    "      case (beta,):\n",
    "        rule = 'NN'\n",
    "        value = m[beta]\n",
    "\n",
    "      # TN\n",
    "      case str():# if alpha in m:\n",
    "        rule = 'TN'\n",
    "        value = m.lookup(alpha)\n",
    "\n",
    "      case _:\n",
    "        rule = '??'\n",
    "        value = alpha\n",
    "    return value, rule\n",
    "\n",
    "m = Meaning3({\n",
    "    'Ann'     : 'A'.e,\n",
    "    'smokes'  : 'lambda x: SMOKES(x)'.et,\n",
    "    'tall'    : 'lambda x: TALL(x)'.et,\n",
    "    'likes'   : 'lambda x: lambda y: LIKES(x,y)'.eet,\n",
    "#    'is'      : None,\n",
    "})\n",
    "\n",
    "m['Ann']\n",
    "m['smokes']\n",
    "m['Ann', 'smokes']\n",
    "m['smokes', 'Ann']"
   ]
  },
  {
   "cell_type": "code",
   "execution_count": null,
   "metadata": {},
   "outputs": [],
   "source": [
    "m['tall', 'is']"
   ]
  },
  {
   "cell_type": "code",
   "execution_count": null,
   "metadata": {},
   "outputs": [],
   "source": [
    "t = [1,2]\n",
    "t = t - [1]"
   ]
  },
  {
   "cell_type": "code",
   "execution_count": null,
   "metadata": {},
   "outputs": [],
   "source": [
    "'lambda f:lambda x: f(x) and GRAY(x)'.et"
   ]
  },
  {
   "cell_type": "code",
   "execution_count": null,
   "metadata": {},
   "outputs": [],
   "source": [
    "'(lambda x: lambda y: lambda z: INTRODUCED(z,x,y))(S)'.eet"
   ]
  },
  {
   "cell_type": "markdown",
   "metadata": {},
   "source": [
    "a. [λx.[λy.[λz.z introduced x to y]]](Ann)(Sue)\n",
    "\n",
    "b. [λx.[λy.[λz.z introduced x to y](Ann)](Sue)]\n",
    "\n",
    "c. [λx.[λy.[λz.z introduced x to y](Ann)]](Sue) \n",
    "\n",
    "d. [λx.[λy.[λz.z introduced x to y]](Ann)](Sue)\n",
    "\n",
    "e. [λf.[λx.f(x)=1 and x is gray]]([λy.y is a cat])\n",
    "\n",
    "f. [λg.[λx.g(x)(Ann)=1]]([λy.[λz.z saw y]])\n",
    "\n",
    "g. [λm.[λn.n>3 and n<7](m)] \n",
    "\n",
    "h. [λm.[λn.[λo.o>3 and o<7](n)](m)] "
   ]
  },
  {
   "cell_type": "code",
   "execution_count": null,
   "metadata": {},
   "outputs": [],
   "source": [
    "'lambda g: (lambda x:g(x)(Ann))'.eet_et('lambda y:lambda z:SAW(z,y)'.eet)\n",
    "\n",
    "'lambda m: lambda n:n>3 and m<7'.eet('3'.e)"
   ]
  },
  {
   "cell_type": "code",
   "execution_count": null,
   "metadata": {},
   "outputs": [],
   "source": [
    "catf = 'lambda y:CAT(y)'.et\n",
    "\n",
    "ff = 'lambda f: lambda x: f(x) and GRAY(x)'.et_et\n",
    "ff(catf)\n",
    "\n",
    "gg = 'lambda f: f(A)'.eet_et\n",
    "gg\n",
    "gg('lambda x:lambda y:FOO(x,y)'.eet)"
   ]
  },
  {
   "cell_type": "code",
   "execution_count": null,
   "metadata": {},
   "outputs": [],
   "source": [
    "Function('lambda y: CAT(y)', Type(('e', 't')))('x') and GRAY('x')"
   ]
  },
  {
   "cell_type": "code",
   "execution_count": null,
   "metadata": {},
   "outputs": [],
   "source": [
    "import ast\n",
    "ast.dump(ast.parse('x smokes', mode= 'eval'))"
   ]
  }
 ],
 "metadata": {
  "kernelspec": {
   "display_name": "Python 3",
   "language": "python",
   "name": "python3"
  },
  "language_info": {
   "codemirror_mode": {
    "name": "ipython",
    "version": 3
   },
   "file_extension": ".py",
   "mimetype": "text/x-python",
   "name": "python",
   "nbconvert_exporter": "python",
   "pygments_lexer": "ipython3",
   "version": "3.12.1"
  }
 },
 "nbformat": 4,
 "nbformat_minor": 2
}
