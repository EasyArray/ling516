{
 "cells": [
  {
   "cell_type": "code",
   "execution_count": 1,
   "metadata": {},
   "outputs": [
    {
     "name": "stdout",
     "output_type": "stream",
     "text": [
      "\n",
      "             _    _                  _    _\n",
      "            | |  | |                | |  | |\n",
      "           _| |_ | |__   ___  ___  _| |_ | |__   ___  _ __ _   _  ____\n",
      "          /     \\| '_ \\ / _ \\/ __|/     \\| '_ \\ / _ \\| '__| | | |/ ___)\n",
      "         ( (| |) ) | | | (_) \\__ ( (| |) ) | | | (_) | |  | |_| ( (__\n",
      "          \\_   _/|_| |_|\\___/|___/\\_   _/|_| |_|\\___/|_|   \\__,_|\\__ \\\n",
      "            | |                     | |                            _) )\n",
      "            |_|                     |_|                           (__/\n",
      "\n",
      "        Welcome to the Phosphorus Meaning Engine v3\n",
      "        Created by Ezra Keshet (EzraKeshet.com)\n",
      "\n",
      "\n"
     ]
    }
   ],
   "source": [
    "from phosphorus import *\n",
    "%config InteractiveShell.ast_node_interactivity='all'"
   ]
  },
  {
   "cell_type": "code",
   "execution_count": 4,
   "metadata": {},
   "outputs": [
    {
     "data": {
      "text/html": [
       "λx . x * 2 if x < y else None\n",
       "        <span style='float:right; font-family:monospace; margin-right:75px;\n",
       "              font-weight:bold; background-color:#e5e5ff; color:#000'>\n",
       "          ('e', 't')</span>"
      ],
      "text/plain": [
       "Function(\"lambda x: x * 2 if x < y else None\", Type(('e', 't')))"
      ]
     },
     "execution_count": 4,
     "metadata": {},
     "output_type": "execute_result"
    }
   ],
   "source": [
    "f = 'lambda x : (x<y, x*2)'.et\n",
    "f"
   ]
  },
  {
   "cell_type": "code",
   "execution_count": null,
   "metadata": {},
   "outputs": [
    {
     "data": {
      "text/plain": [
       "'ABCDEFGHIJKLMNOPQRSTUVWXYZ'"
      ]
     },
     "execution_count": 3,
     "metadata": {},
     "output_type": "execute_result"
    }
   ],
   "source": [
    "from string import ascii_uppercase as DOMAIN\n",
    "DOMAIN\n",
    "\n",
    "# Define the Predicate class\n",
    "class Predicate(set):\n",
    "  def __call__(self, *args):\n",
    "    return int(args in self) # converts True/False to 1/0\n",
    "\n",
    "def charset(f, domain = DOMAIN):\n",
    "  return {c for c in domain if f(c)}\n",
    "\n",
    "A,B,C,D,E,F,G,H,I,J,K,L,M,N,O,P,Q,R,S,T,U,V,W,X,Y,Z = DOMAIN\n",
    "\n",
    "PAWN = Predicate({\n",
    "    (A,), (B,), (C,), (D,), (E,), (F,), (G,),\n",
    "})\n",
    "\n"
   ]
  },
  {
   "cell_type": "code",
   "execution_count": null,
   "metadata": {},
   "outputs": [
    {
     "name": "stderr",
     "output_type": "stream",
     "text": [
      "\u001b[90mError evaluating PAWN(x): name 'x' is not defined\u001b[0m\n"
     ]
    },
    {
     "data": {
      "text/html": [
       "λx . PAWN(x)\n",
       "        <span style='float:right; font-family:monospace; margin-right:75px;\n",
       "              font-weight:bold; background-color:#e5e5ff; color:#000'>\n",
       "          ('e', 't')</span>"
      ],
      "text/plain": [
       "Function(\"lambda x: PAWN(x)\", Type(('e', 't')))"
      ]
     },
     "execution_count": 4,
     "metadata": {},
     "output_type": "execute_result"
    },
    {
     "data": {
      "text/plain": [
       "1"
      ]
     },
     "execution_count": 4,
     "metadata": {},
     "output_type": "execute_result"
    },
    {
     "data": {
      "text/plain": [
       "0"
      ]
     },
     "execution_count": 4,
     "metadata": {},
     "output_type": "execute_result"
    }
   ],
   "source": [
    "console_handler.setLevel(logging.DEBUG)\n",
    "pawn = 'lambda x: PAWN(x)'.et\n",
    "pawn\n",
    "pawn(A)\n",
    "\n",
    "PAWN('A'.e)\n"
   ]
  },
  {
   "cell_type": "code",
   "execution_count": null,
   "metadata": {},
   "outputs": [],
   "source": [
    "#!pip install nltk\n",
    "from nltk import Tree\n",
    "#!pip install svgling"
   ]
  },
  {
   "cell_type": "code",
   "execution_count": null,
   "metadata": {},
   "outputs": [
    {
     "data": {
      "text/plain": [
       "1"
      ]
     },
     "execution_count": 6,
     "metadata": {},
     "output_type": "execute_result"
    }
   ],
   "source": [
    "node = parse('PAWN(\"A\")', mode='eval')\n",
    "obj = compile(node, '<string>', 'eval')\n",
    "eval(obj)"
   ]
  },
  {
   "cell_type": "code",
   "execution_count": null,
   "metadata": {},
   "outputs": [
    {
     "name": "stderr",
     "output_type": "stream",
     "text": [
      "\u001b[0m\n",
      "Interpreting ('Joe', 'cat')\u001b[0m\n",
      "   Interpreting cat\u001b[0m\n",
      "\u001b[90mError evaluating CAT(x): name 'CAT' is not defined\u001b[0m\n",
      "   => cat = λx . CAT(x) \t(TN)\u001b[0m\n",
      "   Interpreting Joe\u001b[0m\n",
      "   => Joe = J \t(TN)\u001b[0m\n",
      "\u001b[90mError evaluating CAT(J): name 'CAT' is not defined\u001b[0m\n",
      "=> ['Joe', 'cat'] = CAT(J) \t(AF)\u001b[0m\n"
     ]
    },
    {
     "data": {
      "text/html": [
       "CAT(J)\n",
       "        <span style='float:right; font-family:monospace; margin-right:75px;\n",
       "              font-weight:bold; background-color:#e5e5ff; color:#000'>\n",
       "          't'</span>"
      ],
      "text/plain": [
       "CAT(J)"
      ]
     },
     "execution_count": 7,
     "metadata": {},
     "output_type": "execute_result"
    }
   ],
   "source": [
    "m = Meaning({\n",
    "    'Joe'     : 'J'.e,\n",
    "    'Kaline'  : 'K'.e,\n",
    "    'cat'     : 'lambda x: CAT(x)'.et,\n",
    "    'gray'    : 'lambda f : lambda x: f(x) and GRAY(x)'.et_et,\n",
    "})\n",
    "\n",
    "m['Joe', 'cat']"
   ]
  },
  {
   "cell_type": "code",
   "execution_count": null,
   "metadata": {},
   "outputs": [
    {
     "data": {
      "image/svg+xml": [
       "<svg baseProfile=\"full\" height=\"216px\" preserveAspectRatio=\"xMidYMid meet\" style=\"font-family: times, serif; font-weight: normal; font-style: normal; font-size: 16px\" version=\"1.1\" viewBox=\"0,0,200.0,216.0\" width=\"200px\" xmlns=\"http://www.w3.org/2000/svg\" xmlns:ev=\"http://www.w3.org/2001/xml-events\" xmlns:xlink=\"http://www.w3.org/1999/xlink\"><defs /><svg width=\"100%\" x=\"0\" y=\"0px\"><defs /><text text-anchor=\"middle\" x=\"50%\" y=\"16px\">S</text></svg><svg width=\"20%\" x=\"0%\" y=\"48px\"><defs /><svg width=\"100%\" x=\"0\" y=\"0px\"><defs /><text text-anchor=\"middle\" x=\"50%\" y=\"16px\">NP</text></svg><svg width=\"100%\" x=\"0%\" y=\"48px\"><defs /><svg width=\"100%\" x=\"0\" y=\"0px\"><defs /><text text-anchor=\"middle\" x=\"50%\" y=\"16px\">Joe</text></svg></svg><line stroke=\"black\" x1=\"50%\" x2=\"50%\" y1=\"20px\" y2=\"48px\" /></svg><line stroke=\"black\" x1=\"50%\" x2=\"10%\" y1=\"20px\" y2=\"48px\" /><svg width=\"80%\" x=\"20%\" y=\"48px\"><defs /><svg width=\"100%\" x=\"0\" y=\"0px\"><defs /><text text-anchor=\"middle\" x=\"50%\" y=\"16px\">VP</text></svg><svg width=\"25%\" x=\"0%\" y=\"48px\"><defs /><svg width=\"100%\" x=\"0\" y=\"0px\"><defs /><text text-anchor=\"middle\" x=\"50%\" y=\"16px\">cat</text></svg></svg><line stroke=\"black\" x1=\"50%\" x2=\"12.5%\" y1=\"20px\" y2=\"48px\" /><svg width=\"75%\" x=\"25%\" y=\"48px\"><defs /><svg width=\"100%\" x=\"0\" y=\"0px\"><defs /><text text-anchor=\"middle\" x=\"50%\" y=\"16px\">VP</text></svg><svg width=\"26.6667%\" x=\"0%\" y=\"48px\"><defs /><svg width=\"100%\" x=\"0\" y=\"0px\"><defs /><text text-anchor=\"middle\" x=\"50%\" y=\"16px\">V</text></svg><svg width=\"100%\" x=\"0%\" y=\"48px\"><defs /><svg width=\"100%\" x=\"0\" y=\"0px\"><defs /><text text-anchor=\"middle\" x=\"50%\" y=\"16px\">is</text></svg></svg><line stroke=\"black\" x1=\"50%\" x2=\"50%\" y1=\"20px\" y2=\"48px\" /></svg><line stroke=\"black\" x1=\"50%\" x2=\"13.3333%\" y1=\"20px\" y2=\"48px\" /><svg width=\"73.3333%\" x=\"26.6667%\" y=\"48px\"><defs /><svg width=\"100%\" x=\"0\" y=\"0px\"><defs /><text text-anchor=\"middle\" x=\"50%\" y=\"16px\">NP</text></svg><svg width=\"45.4545%\" x=\"0%\" y=\"48px\"><defs /><svg width=\"100%\" x=\"0\" y=\"0px\"><defs /><text text-anchor=\"middle\" x=\"50%\" y=\"16px\">cat</text></svg></svg><line stroke=\"black\" x1=\"50%\" x2=\"22.7273%\" y1=\"20px\" y2=\"48px\" /><svg width=\"54.5455%\" x=\"45.4545%\" y=\"48px\"><defs /><svg width=\"100%\" x=\"0\" y=\"0px\"><defs /><text text-anchor=\"middle\" x=\"50%\" y=\"16px\">gray</text></svg></svg><line stroke=\"black\" x1=\"50%\" x2=\"72.7273%\" y1=\"20px\" y2=\"48px\" /></svg><line stroke=\"black\" x1=\"50%\" x2=\"63.3333%\" y1=\"20px\" y2=\"48px\" /></svg><line stroke=\"black\" x1=\"50%\" x2=\"62.5%\" y1=\"20px\" y2=\"48px\" /></svg><line stroke=\"black\" x1=\"50%\" x2=\"60%\" y1=\"20px\" y2=\"48px\" /></svg>"
      ],
      "text/plain": [
       "Tree('S', [Tree('NP', ['Joe']), Tree('VP', ['cat', Tree('VP', [Tree('V', ['is']), Tree('NP', ['cat', 'gray'])])])])"
      ]
     },
     "execution_count": 8,
     "metadata": {},
     "output_type": "execute_result"
    },
    {
     "name": "stderr",
     "output_type": "stream",
     "text": [
      "\u001b[0m\n",
      "Interpreting (S (NP Joe) (VP cat (VP (V is) (NP cat gray))))\u001b[0m\n",
      "\u001b[93m            Removing vacuous items: ['is']\u001b[0m\n",
      "\u001b[93m            No non-vacuous children in node (V )\u001b[0m\n",
      "\u001b[93m         Removing vacuous items: [Tree('V', [])]\u001b[0m\n",
      "   Interpreting (VP cat (VP (NP cat gray)))\u001b[0m\n",
      "      Interpreting cat\u001b[0m\n",
      "\u001b[90mError evaluating CAT(x): name 'CAT' is not defined\u001b[0m\n",
      "      => cat = λx . CAT(x) \t(TN)\u001b[0m\n",
      "      Interpreting (VP (NP cat gray))\u001b[0m\n",
      "         Interpreting (NP cat gray)\u001b[0m\n",
      "            Interpreting gray\u001b[0m\n",
      "\u001b[90mError evaluating f(x) and GRAY(x): name 'f' is not defined\u001b[0m\n",
      "            => gray = λf . λx . f(x) and GRAY(x) \t(TN)\u001b[0m\n",
      "            Interpreting cat\u001b[0m\n",
      "\u001b[90mError evaluating CAT(x): name 'CAT' is not defined\u001b[0m\n",
      "            => cat = λx . CAT(x) \t(TN)\u001b[0m\n",
      "\u001b[90mError evaluating CAT(x) and GRAY(x): name 'CAT' is not defined\u001b[0m\n",
      "         => (NP cat gray) = λx . CAT(x) and GRAY(x) \t(AF)\u001b[0m\n",
      "\u001b[90mError evaluating CAT(x) and GRAY(x): name 'CAT' is not defined\u001b[0m\n",
      "      => (VP (NP cat gray)) = λx . CAT(x) and GRAY(x) \t(NN)\u001b[0m\n",
      "\u001b[90mError evaluating CAT(x) and (CAT(x) and GRAY(x)): name 'CAT' is not defined\u001b[0m\n",
      "   => (VP cat (VP (NP cat gray))) = λx . CAT(x) and (CAT(x) and GRAY(x)) \t(PM)\u001b[0m\n",
      "   Interpreting (NP Joe)\u001b[0m\n",
      "      Interpreting Joe\u001b[0m\n",
      "      => Joe = J \t(TN)\u001b[0m\n",
      "   => (NP Joe) = J \t(NN)\u001b[0m\n",
      "\u001b[90mError evaluating CAT(J) and (CAT(J) and GRAY(J)): name 'CAT' is not defined\u001b[0m\n",
      "=> (S (NP Joe) (VP cat (VP (NP cat gray)))) = CAT(J) and (CAT(J) and GRAY(J)) \t(AF)\u001b[0m\n"
     ]
    },
    {
     "data": {
      "text/html": [
       "CAT(J) and (CAT(J) and GRAY(J))\n",
       "        <span style='float:right; font-family:monospace; margin-right:75px;\n",
       "              font-weight:bold; background-color:#e5e5ff; color:#000'>\n",
       "          't'</span>"
      ],
      "text/plain": [
       "CAT(J) and (CAT(J) and GRAY(J))"
      ]
     },
     "execution_count": 8,
     "metadata": {},
     "output_type": "execute_result"
    }
   ],
   "source": [
    "t = Tree.fromstring('(S (NP Joe) (VP cat (VP (V is) (NP cat gray))))')\n",
    "t\n",
    "\n",
    "m[t]"
   ]
  },
  {
   "cell_type": "code",
   "execution_count": null,
   "metadata": {},
   "outputs": [
    {
     "name": "stderr",
     "output_type": "stream",
     "text": [
      "\u001b[0m\n",
      "Interpreting gray\u001b[0m\n",
      "\u001b[90mError evaluating f(x) and GRAY(x): name 'f' is not defined\u001b[0m\n",
      "=> gray = λf . λx . f(x) and GRAY(x) \t(TN)\u001b[0m\n",
      "\u001b[90mError evaluating f(x) and GRAY(x): name 'f' is not defined\u001b[0m\n"
     ]
    },
    {
     "data": {
      "text/html": [
       "λf . λx . f(x) and GRAY(x)\n",
       "        <span style='float:right; font-family:monospace; margin-right:75px;\n",
       "              font-weight:bold; background-color:#e5e5ff; color:#000'>\n",
       "          ('e', (('e', 't'), 't'))</span>"
      ],
      "text/plain": [
       "Function(\"lambda f: lambda x: f(x) and GRAY(x)\", Type(('e', (('e', 't'), 't'))))"
      ]
     },
     "execution_count": 9,
     "metadata": {},
     "output_type": "execute_result"
    },
    {
     "name": "stderr",
     "output_type": "stream",
     "text": [
      "\u001b[0m\n",
      "Interpreting (S (NP Joe) (VP cat (VP (NP cat gray))))\u001b[0m\n",
      "\u001b[91m!!! Error interpreting node (NP cat gray):\n",
      " No rule found to combine cat and gray\u001b[0m\n",
      "\u001b[91mPreviously silenced output:\u001b[0m\n",
      "   Interpreting (NP Joe)\u001b[0m\n",
      "      Interpreting Joe\u001b[0m\n",
      "      => Joe = J \t(TN)\u001b[0m\n",
      "   Interpreting (VP cat (VP (NP cat gray)))\u001b[0m\n",
      "      Interpreting cat\u001b[0m\n",
      "      => cat = λx . CAT(x) \t(TN)\u001b[0m\n",
      "      Interpreting (VP (NP cat gray))\u001b[0m\n",
      "         Interpreting (NP cat gray)\u001b[0m\n",
      "            Interpreting cat\u001b[0m\n",
      "            => cat = λx . CAT(x) \t(TN)\u001b[0m\n",
      "            Interpreting gray\u001b[0m\n",
      "            => gray = λf . λx . f(x) and GRAY(x) \t(TN)\u001b[0m\n",
      "            Interpreting gray\u001b[0m\n",
      "            => gray = λf . λx . f(x) and GRAY(x) \t(TN)\u001b[0m\n",
      "            Interpreting cat\u001b[0m\n",
      "            => cat = λx . CAT(x) \t(TN)\u001b[0m\n",
      "            Interpreting gray\u001b[0m\n",
      "            => gray = λf . λx . f(x) and GRAY(x) \t(TN)\u001b[0m\n",
      "            Interpreting cat\u001b[0m\n",
      "            => cat = λx . CAT(x) \t(TN)\u001b[0m\n",
      "            Interpreting cat\u001b[0m\n",
      "            => cat = λx . CAT(x) \t(TN)\u001b[0m\n",
      "            Interpreting gray\u001b[0m\n",
      "            => gray = λf . λx . f(x) and GRAY(x) \t(TN)\u001b[0m\n",
      "\u001b[91m!!! Error interpreting node (VP (NP cat gray)):\n",
      " No rule found to combine cat and gray\u001b[0m\n",
      "\u001b[91m!!! Error interpreting node (VP cat (VP (NP cat gray))):\n",
      " No rule found to combine cat and gray\u001b[0m\n",
      "\u001b[91m!!! Error interpreting node (S (NP Joe) (VP cat (VP (NP cat gray)))):\n",
      " No rule found to combine cat and gray\u001b[0m\n"
     ]
    },
    {
     "ename": "ValueError",
     "evalue": "No rule found to combine cat and gray",
     "output_type": "error",
     "traceback": [
      "\u001b[0;31m---------------------------------------------------------------------------\u001b[0m",
      "\u001b[0;31mValueError\u001b[0m                                Traceback (most recent call last)",
      "Cell \u001b[0;32mIn[9], line 6\u001b[0m\n\u001b[1;32m      1\u001b[0m m\u001b[38;5;241m.\u001b[39mupdate({\n\u001b[1;32m      2\u001b[0m   \u001b[38;5;124m'\u001b[39m\u001b[38;5;124mgray\u001b[39m\u001b[38;5;124m'\u001b[39m    : \u001b[38;5;124m'\u001b[39m\u001b[38;5;124mlambda f : lambda x: f(x) and GRAY(x)\u001b[39m\u001b[38;5;124m'\u001b[39m\u001b[38;5;241m.\u001b[39meet_t,\n\u001b[1;32m      3\u001b[0m   })\n\u001b[1;32m      5\u001b[0m m[\u001b[38;5;124m'\u001b[39m\u001b[38;5;124mgray\u001b[39m\u001b[38;5;124m'\u001b[39m]\n\u001b[0;32m----> 6\u001b[0m \u001b[43mm\u001b[49m\u001b[43m[\u001b[49m\u001b[43mt\u001b[49m\u001b[43m]\u001b[49m\n",
      "File \u001b[0;32m/workspaces/ling516/phosphorus/meaning.py:20\u001b[0m, in \u001b[0;36mMeaning.__getitem__\u001b[0;34m(self, k)\u001b[0m\n\u001b[1;32m     19\u001b[0m \u001b[38;5;28;01mdef\u001b[39;00m \u001b[38;5;21m__getitem__\u001b[39m(\u001b[38;5;28mself\u001b[39m, k):\n\u001b[0;32m---> 20\u001b[0m   \u001b[38;5;28;01mreturn\u001b[39;00m \u001b[38;5;28;43mself\u001b[39;49m\u001b[38;5;241;43m.\u001b[39;49m\u001b[43minterpret\u001b[49m\u001b[43m(\u001b[49m\u001b[43mk\u001b[49m\u001b[43m)\u001b[49m\n",
      "File \u001b[0;32m/workspaces/ling516/phosphorus/meaning.py:68\u001b[0m, in \u001b[0;36mMeaning.interpret\u001b[0;34m(self, alpha)\u001b[0m\n\u001b[1;32m     66\u001b[0m   m\u001b[38;5;241m.\u001b[39mprint(\u001b[38;5;124m'\u001b[39m\u001b[38;5;124mPreviously silenced output:\u001b[39m\u001b[38;5;124m'\u001b[39m, level\u001b[38;5;241m=\u001b[39mlogging\u001b[38;5;241m.\u001b[39mERROR)\n\u001b[1;32m     67\u001b[0m   memory_handler\u001b[38;5;241m.\u001b[39mflush()\n\u001b[0;32m---> 68\u001b[0m \u001b[38;5;28;01mraise\u001b[39;00m e\n",
      "File \u001b[0;32m/workspaces/ling516/phosphorus/meaning.py:43\u001b[0m, in \u001b[0;36mMeaning.interpret\u001b[0;34m(self, alpha)\u001b[0m\n\u001b[1;32m     41\u001b[0m \u001b[38;5;28;01mif\u001b[39;00m \u001b[38;5;28mlen\u001b[39m(alpha) \u001b[38;5;241m==\u001b[39m \u001b[38;5;241m0\u001b[39m:\n\u001b[1;32m     42\u001b[0m   \u001b[38;5;28;01mraise\u001b[39;00m \u001b[38;5;167;01mValueError\u001b[39;00m(\u001b[38;5;124mf\u001b[39m\u001b[38;5;124m'\u001b[39m\u001b[38;5;124mNode \u001b[39m\u001b[38;5;132;01m{\u001b[39;00malpha\u001b[38;5;132;01m}\u001b[39;00m\u001b[38;5;124m has no children\u001b[39m\u001b[38;5;124m'\u001b[39m)\n\u001b[0;32m---> 43\u001b[0m vacuous \u001b[38;5;241m=\u001b[39m [x \u001b[38;5;28;01mfor\u001b[39;00m x \u001b[38;5;129;01min\u001b[39;00m alpha \u001b[38;5;28;01mif\u001b[39;00m m\u001b[38;5;241m.\u001b[39mquiet(\u001b[43mm\u001b[49m\u001b[43m[\u001b[49m\u001b[43mx\u001b[49m\u001b[43m]\u001b[49m) \u001b[38;5;129;01mis\u001b[39;00m \u001b[38;5;28;01mNone\u001b[39;00m]\n\u001b[1;32m     44\u001b[0m \u001b[38;5;28;01mif\u001b[39;00m vacuous:\n\u001b[1;32m     45\u001b[0m   m\u001b[38;5;241m.\u001b[39mprint(\u001b[38;5;124m'\u001b[39m\u001b[38;5;124mRemoving vacuous items:\u001b[39m\u001b[38;5;124m'\u001b[39m, vacuous, level\u001b[38;5;241m=\u001b[39mlogging\u001b[38;5;241m.\u001b[39mWARNING)\n",
      "File \u001b[0;32m/workspaces/ling516/phosphorus/meaning.py:20\u001b[0m, in \u001b[0;36mMeaning.__getitem__\u001b[0;34m(self, k)\u001b[0m\n\u001b[1;32m     19\u001b[0m \u001b[38;5;28;01mdef\u001b[39;00m \u001b[38;5;21m__getitem__\u001b[39m(\u001b[38;5;28mself\u001b[39m, k):\n\u001b[0;32m---> 20\u001b[0m   \u001b[38;5;28;01mreturn\u001b[39;00m \u001b[38;5;28;43mself\u001b[39;49m\u001b[38;5;241;43m.\u001b[39;49m\u001b[43minterpret\u001b[49m\u001b[43m(\u001b[49m\u001b[43mk\u001b[49m\u001b[43m)\u001b[49m\n",
      "File \u001b[0;32m/workspaces/ling516/phosphorus/meaning.py:68\u001b[0m, in \u001b[0;36mMeaning.interpret\u001b[0;34m(self, alpha)\u001b[0m\n\u001b[1;32m     66\u001b[0m   m\u001b[38;5;241m.\u001b[39mprint(\u001b[38;5;124m'\u001b[39m\u001b[38;5;124mPreviously silenced output:\u001b[39m\u001b[38;5;124m'\u001b[39m, level\u001b[38;5;241m=\u001b[39mlogging\u001b[38;5;241m.\u001b[39mERROR)\n\u001b[1;32m     67\u001b[0m   memory_handler\u001b[38;5;241m.\u001b[39mflush()\n\u001b[0;32m---> 68\u001b[0m \u001b[38;5;28;01mraise\u001b[39;00m e\n",
      "File \u001b[0;32m/workspaces/ling516/phosphorus/meaning.py:43\u001b[0m, in \u001b[0;36mMeaning.interpret\u001b[0;34m(self, alpha)\u001b[0m\n\u001b[1;32m     41\u001b[0m \u001b[38;5;28;01mif\u001b[39;00m \u001b[38;5;28mlen\u001b[39m(alpha) \u001b[38;5;241m==\u001b[39m \u001b[38;5;241m0\u001b[39m:\n\u001b[1;32m     42\u001b[0m   \u001b[38;5;28;01mraise\u001b[39;00m \u001b[38;5;167;01mValueError\u001b[39;00m(\u001b[38;5;124mf\u001b[39m\u001b[38;5;124m'\u001b[39m\u001b[38;5;124mNode \u001b[39m\u001b[38;5;132;01m{\u001b[39;00malpha\u001b[38;5;132;01m}\u001b[39;00m\u001b[38;5;124m has no children\u001b[39m\u001b[38;5;124m'\u001b[39m)\n\u001b[0;32m---> 43\u001b[0m vacuous \u001b[38;5;241m=\u001b[39m [x \u001b[38;5;28;01mfor\u001b[39;00m x \u001b[38;5;129;01min\u001b[39;00m alpha \u001b[38;5;28;01mif\u001b[39;00m m\u001b[38;5;241m.\u001b[39mquiet(\u001b[43mm\u001b[49m\u001b[43m[\u001b[49m\u001b[43mx\u001b[49m\u001b[43m]\u001b[49m) \u001b[38;5;129;01mis\u001b[39;00m \u001b[38;5;28;01mNone\u001b[39;00m]\n\u001b[1;32m     44\u001b[0m \u001b[38;5;28;01mif\u001b[39;00m vacuous:\n\u001b[1;32m     45\u001b[0m   m\u001b[38;5;241m.\u001b[39mprint(\u001b[38;5;124m'\u001b[39m\u001b[38;5;124mRemoving vacuous items:\u001b[39m\u001b[38;5;124m'\u001b[39m, vacuous, level\u001b[38;5;241m=\u001b[39mlogging\u001b[38;5;241m.\u001b[39mWARNING)\n",
      "File \u001b[0;32m/workspaces/ling516/phosphorus/meaning.py:20\u001b[0m, in \u001b[0;36mMeaning.__getitem__\u001b[0;34m(self, k)\u001b[0m\n\u001b[1;32m     19\u001b[0m \u001b[38;5;28;01mdef\u001b[39;00m \u001b[38;5;21m__getitem__\u001b[39m(\u001b[38;5;28mself\u001b[39m, k):\n\u001b[0;32m---> 20\u001b[0m   \u001b[38;5;28;01mreturn\u001b[39;00m \u001b[38;5;28;43mself\u001b[39;49m\u001b[38;5;241;43m.\u001b[39;49m\u001b[43minterpret\u001b[49m\u001b[43m(\u001b[49m\u001b[43mk\u001b[49m\u001b[43m)\u001b[49m\n",
      "File \u001b[0;32m/workspaces/ling516/phosphorus/meaning.py:68\u001b[0m, in \u001b[0;36mMeaning.interpret\u001b[0;34m(self, alpha)\u001b[0m\n\u001b[1;32m     66\u001b[0m   m\u001b[38;5;241m.\u001b[39mprint(\u001b[38;5;124m'\u001b[39m\u001b[38;5;124mPreviously silenced output:\u001b[39m\u001b[38;5;124m'\u001b[39m, level\u001b[38;5;241m=\u001b[39mlogging\u001b[38;5;241m.\u001b[39mERROR)\n\u001b[1;32m     67\u001b[0m   memory_handler\u001b[38;5;241m.\u001b[39mflush()\n\u001b[0;32m---> 68\u001b[0m \u001b[38;5;28;01mraise\u001b[39;00m e\n",
      "File \u001b[0;32m/workspaces/ling516/phosphorus/meaning.py:43\u001b[0m, in \u001b[0;36mMeaning.interpret\u001b[0;34m(self, alpha)\u001b[0m\n\u001b[1;32m     41\u001b[0m \u001b[38;5;28;01mif\u001b[39;00m \u001b[38;5;28mlen\u001b[39m(alpha) \u001b[38;5;241m==\u001b[39m \u001b[38;5;241m0\u001b[39m:\n\u001b[1;32m     42\u001b[0m   \u001b[38;5;28;01mraise\u001b[39;00m \u001b[38;5;167;01mValueError\u001b[39;00m(\u001b[38;5;124mf\u001b[39m\u001b[38;5;124m'\u001b[39m\u001b[38;5;124mNode \u001b[39m\u001b[38;5;132;01m{\u001b[39;00malpha\u001b[38;5;132;01m}\u001b[39;00m\u001b[38;5;124m has no children\u001b[39m\u001b[38;5;124m'\u001b[39m)\n\u001b[0;32m---> 43\u001b[0m vacuous \u001b[38;5;241m=\u001b[39m [x \u001b[38;5;28;01mfor\u001b[39;00m x \u001b[38;5;129;01min\u001b[39;00m alpha \u001b[38;5;28;01mif\u001b[39;00m m\u001b[38;5;241m.\u001b[39mquiet(\u001b[43mm\u001b[49m\u001b[43m[\u001b[49m\u001b[43mx\u001b[49m\u001b[43m]\u001b[49m) \u001b[38;5;129;01mis\u001b[39;00m \u001b[38;5;28;01mNone\u001b[39;00m]\n\u001b[1;32m     44\u001b[0m \u001b[38;5;28;01mif\u001b[39;00m vacuous:\n\u001b[1;32m     45\u001b[0m   m\u001b[38;5;241m.\u001b[39mprint(\u001b[38;5;124m'\u001b[39m\u001b[38;5;124mRemoving vacuous items:\u001b[39m\u001b[38;5;124m'\u001b[39m, vacuous, level\u001b[38;5;241m=\u001b[39mlogging\u001b[38;5;241m.\u001b[39mWARNING)\n",
      "File \u001b[0;32m/workspaces/ling516/phosphorus/meaning.py:20\u001b[0m, in \u001b[0;36mMeaning.__getitem__\u001b[0;34m(self, k)\u001b[0m\n\u001b[1;32m     19\u001b[0m \u001b[38;5;28;01mdef\u001b[39;00m \u001b[38;5;21m__getitem__\u001b[39m(\u001b[38;5;28mself\u001b[39m, k):\n\u001b[0;32m---> 20\u001b[0m   \u001b[38;5;28;01mreturn\u001b[39;00m \u001b[38;5;28;43mself\u001b[39;49m\u001b[38;5;241;43m.\u001b[39;49m\u001b[43minterpret\u001b[49m\u001b[43m(\u001b[49m\u001b[43mk\u001b[49m\u001b[43m)\u001b[49m\n",
      "File \u001b[0;32m/workspaces/ling516/phosphorus/meaning.py:68\u001b[0m, in \u001b[0;36mMeaning.interpret\u001b[0;34m(self, alpha)\u001b[0m\n\u001b[1;32m     66\u001b[0m   m\u001b[38;5;241m.\u001b[39mprint(\u001b[38;5;124m'\u001b[39m\u001b[38;5;124mPreviously silenced output:\u001b[39m\u001b[38;5;124m'\u001b[39m, level\u001b[38;5;241m=\u001b[39mlogging\u001b[38;5;241m.\u001b[39mERROR)\n\u001b[1;32m     67\u001b[0m   memory_handler\u001b[38;5;241m.\u001b[39mflush()\n\u001b[0;32m---> 68\u001b[0m \u001b[38;5;28;01mraise\u001b[39;00m e\n",
      "File \u001b[0;32m/workspaces/ling516/phosphorus/meaning.py:55\u001b[0m, in \u001b[0;36mMeaning.interpret\u001b[0;34m(self, alpha)\u001b[0m\n\u001b[1;32m     53\u001b[0m   \u001b[38;5;28;01mif\u001b[39;00m value \u001b[38;5;129;01mis\u001b[39;00m rule \u001b[38;5;129;01mis\u001b[39;00m \u001b[38;5;28;01mNone\u001b[39;00m:\n\u001b[1;32m     54\u001b[0m     children \u001b[38;5;241m=\u001b[39m \u001b[38;5;124m'\u001b[39m\u001b[38;5;124m and \u001b[39m\u001b[38;5;124m'\u001b[39m\u001b[38;5;241m.\u001b[39mjoin(\u001b[38;5;28mmap\u001b[39m(\u001b[38;5;28mstr\u001b[39m, alpha))\n\u001b[0;32m---> 55\u001b[0m     \u001b[38;5;28;01mraise\u001b[39;00m \u001b[38;5;167;01mValueError\u001b[39;00m(\u001b[38;5;124mf\u001b[39m\u001b[38;5;124m'\u001b[39m\u001b[38;5;124mNo rule found to combine \u001b[39m\u001b[38;5;132;01m{\u001b[39;00mchildren\u001b[38;5;132;01m}\u001b[39;00m\u001b[38;5;124m'\u001b[39m)\n\u001b[1;32m     57\u001b[0m m\u001b[38;5;241m.\u001b[39mindent \u001b[38;5;241m=\u001b[39m m\u001b[38;5;241m.\u001b[39mindent[:\u001b[38;5;241m-\u001b[39m\u001b[38;5;28mlen\u001b[39m(m\u001b[38;5;241m.\u001b[39mindent_chars)]\n\u001b[1;32m     58\u001b[0m m\u001b[38;5;241m.\u001b[39mprint(\u001b[38;5;124m'\u001b[39m\u001b[38;5;124m=>\u001b[39m\u001b[38;5;124m'\u001b[39m, alpha, \u001b[38;5;124m'\u001b[39m\u001b[38;5;124m=\u001b[39m\u001b[38;5;124m'\u001b[39m, value, \u001b[38;5;124mf\u001b[39m\u001b[38;5;124m'\u001b[39m\u001b[38;5;130;01m\\t\u001b[39;00m\u001b[38;5;124m(\u001b[39m\u001b[38;5;132;01m{\u001b[39;00mrule\u001b[38;5;132;01m}\u001b[39;00m\u001b[38;5;124m)\u001b[39m\u001b[38;5;124m'\u001b[39m)\n",
      "\u001b[0;31mValueError\u001b[0m: No rule found to combine cat and gray"
     ]
    }
   ],
   "source": [
    "m.update({\n",
    "  'gray'    : 'lambda f : lambda x: f(x) and GRAY(x)'.eet_t,\n",
    "  })\n",
    "\n",
    "m['gray']\n",
    "m[t]"
   ]
  },
  {
   "cell_type": "code",
   "execution_count": null,
   "metadata": {},
   "outputs": [
    {
     "data": {
      "text/plain": [
       "\"Module(body=[Expr(value=Lambda(args=arguments(posonlyargs=[], args=[arg(arg='x')], kwonlyargs=[], kw_defaults=[], defaults=[]), body=BoolOp(op=Or(), values=[Compare(left=Name(id='x', ctx=Load()), ops=[Gt()], comparators=[Constant(value=3)]), BoolOp(op=Or(), values=[Name(id='foo', ctx=Load()), Name(id='bar', ctx=Load())])])))], type_ignores=[])\""
      ]
     },
     "execution_count": 5,
     "metadata": {},
     "output_type": "execute_result"
    }
   ],
   "source": [
    "import ast\n",
    "ast.dump(ast.parse('lambda x: x > 3 or (foo or bar)'))"
   ]
  },
  {
   "cell_type": "code",
   "execution_count": null,
   "metadata": {},
   "outputs": [
    {
     "name": "stderr",
     "output_type": "stream",
     "text": [
      "\u001b[0m\n",
      "Interpreting ('gray', 'cat')\u001b[0m\n",
      "   Interpreting gray\u001b[0m\n",
      "\u001b[90mError evaluating GRAY(x): name 'GRAY' is not defined\u001b[0m\n",
      "   => gray = λx . GRAY(x) \t(TN)\u001b[0m\n",
      "   Interpreting cat\u001b[0m\n",
      "\u001b[90mError evaluating CAT(x): name 'CAT' is not defined\u001b[0m\n",
      "   => cat = λx . CAT(x) \t(TN)\u001b[0m\n",
      "\u001b[90mError evaluating GRAY(x) and CAT(x): name 'GRAY' is not defined\u001b[0m\n",
      "=> ['gray', 'cat'] = λx . GRAY(x) and CAT(x) \t(PM)\u001b[0m\n",
      "\u001b[90mError evaluating GRAY(x) and CAT(x): name 'GRAY' is not defined\u001b[0m\n"
     ]
    },
    {
     "data": {
      "text/html": [
       "λx . GRAY(x) and CAT(x)\n",
       "        <span style='float:right; font-family:monospace; margin-right:75px;\n",
       "              font-weight:bold; background-color:#e5e5ff; color:#000'>\n",
       "          ('e', 't')</span>"
      ],
      "text/plain": [
       "Function(\"lambda x: GRAY(x) and CAT(x)\", Type(('e', 't')))"
      ]
     },
     "execution_count": 9,
     "metadata": {},
     "output_type": "execute_result"
    },
    {
     "name": "stderr",
     "output_type": "stream",
     "text": [
      "\u001b[0m\n",
      "Interpreting ('Kaline', [['gray', 'cat'], ['in', 'Texas']])\u001b[0m\n",
      "   Interpreting [['gray', 'cat'], ['in', 'Texas']]\u001b[0m\n",
      "      Interpreting ['gray', 'cat']\u001b[0m\n",
      "         Interpreting gray\u001b[0m\n",
      "\u001b[90mError evaluating GRAY(x): name 'GRAY' is not defined\u001b[0m\n",
      "         => gray = λx . GRAY(x) \t(TN)\u001b[0m\n",
      "         Interpreting cat\u001b[0m\n",
      "\u001b[90mError evaluating CAT(x): name 'CAT' is not defined\u001b[0m\n",
      "         => cat = λx . CAT(x) \t(TN)\u001b[0m\n",
      "\u001b[90mError evaluating GRAY(x) and CAT(x): name 'GRAY' is not defined\u001b[0m\n",
      "      => ['gray', 'cat'] = λx . GRAY(x) and CAT(x) \t(PM)\u001b[0m\n",
      "      Interpreting ['in', 'Texas']\u001b[0m\n",
      "         Interpreting in\u001b[0m\n",
      "\u001b[90mError evaluating IN(y, x): name 'IN' is not defined\u001b[0m\n",
      "         => in = λx . λy . IN(y, x) \t(TN)\u001b[0m\n",
      "         Interpreting Texas\u001b[0m\n",
      "         => Texas = T \t(TN)\u001b[0m\n",
      "\u001b[90mError evaluating IN(y, T): name 'IN' is not defined\u001b[0m\n",
      "      => ['in', 'Texas'] = λy . IN(y, T) \t(FA)\u001b[0m\n",
      "\u001b[90mError evaluating (GRAY(x) and CAT(x)) and IN(x, T): name 'GRAY' is not defined\u001b[0m\n",
      "   => [['gray', 'cat'], ['in', 'Texas']] = λx . (GRAY(x) and CAT(x)) and IN(x, T) \t(PM)\u001b[0m\n",
      "   Interpreting Kaline\u001b[0m\n",
      "   => Kaline = K \t(TN)\u001b[0m\n",
      "\u001b[90mError evaluating (GRAY(K) and CAT(K)) and IN(K, T): name 'GRAY' is not defined\u001b[0m\n",
      "=> ['Kaline', [['gray', 'cat'], ['in', 'Texas']]] = (GRAY(K) and CAT(K)) and IN(K, T) \t(AF)\u001b[0m\n"
     ]
    },
    {
     "data": {
      "text/html": [
       "(GRAY(K) and CAT(K)) and IN(K, T)\n",
       "        <span style='float:right; font-family:monospace; margin-right:75px;\n",
       "              font-weight:bold; background-color:#e5e5ff; color:#000'>\n",
       "          't'</span>"
      ],
      "text/plain": [
       "(GRAY(K) and CAT(K)) and IN(K, T)"
      ]
     },
     "execution_count": 9,
     "metadata": {},
     "output_type": "execute_result"
    }
   ],
   "source": [
    "class Meaning4(Meaning):\n",
    "  def rules(m, alpha):\n",
    "    match alpha:      # Note: m.quiet(  ) turns off printing\n",
    "      # PM\n",
    "      case (beta, gamma) if m.quiet(  m[gamma].type == m[beta].type == Type.et ):\n",
    "        rule = 'PM'\n",
    "        value = 'lambda f : lambda g: lambda x: f(x) and g(x)'.et_et_et(m[beta])(m[gamma])\n",
    "\n",
    "      # FA\n",
    "      case (beta, gamma) if m.quiet(  m[gamma] in m[beta].domain()  ):\n",
    "        rule = 'FA'\n",
    "        value = m[beta](m[gamma])\n",
    "      case (gamma, beta) if m.quiet(  m[gamma] in m[beta].domain()  ):\n",
    "        rule = 'AF'\n",
    "        value = m[beta](m[gamma])\n",
    "\n",
    "      # NN\n",
    "      case (beta,):\n",
    "        rule = 'NN'\n",
    "        value = m[beta]\n",
    "\n",
    "      # TN\n",
    "      case str():\n",
    "        rule = 'TN'\n",
    "        value = m.lookup(alpha)\n",
    "\n",
    "      case _:\n",
    "        rule = '??'\n",
    "        value = alpha\n",
    "\n",
    "    return value, rule\n",
    "\n",
    "m4 = Meaning4({\n",
    "    'Joe'     : 'J'.e,\n",
    "    'Kaline'  : 'K'.e,\n",
    "    'Texas'   : 'T'.e,\n",
    "    'in'      : 'lambda x: lambda y: IN(y,x)'.eet,\n",
    "    'cat'     : 'lambda x: CAT(x)'.et,\n",
    "    'gray'    : 'lambda x: GRAY(x)'.et,\n",
    "})\n",
    "\n",
    "m4['gray', 'cat']\n",
    "m4['Kaline', [['gray', 'cat'], ['in', 'Texas']]]"
   ]
  },
  {
   "cell_type": "code",
   "execution_count": null,
   "metadata": {},
   "outputs": [
    {
     "name": "stderr",
     "output_type": "stream",
     "text": [
      "\u001b[0m\n",
      "Interpreting ('a',)\u001b[0m\n",
      "\u001b[93m   Removing vacuous items: ['a']\u001b[0m\n",
      "\u001b[93m   No non-vacuous children in node []\u001b[0m\n",
      "=> [] = None \t(NN)\u001b[0m\n",
      "\u001b[0m\n",
      "Interpreting ('a', 'cat')\u001b[0m\n",
      "\u001b[93m   Removing vacuous items: ['a']\u001b[0m\n",
      "   Interpreting cat\u001b[0m\n",
      "\u001b[90mError evaluating CAT(x): name 'CAT' is not defined\u001b[0m\n",
      "   => cat = λx . CAT(x) \t(TN)\u001b[0m\n",
      "\u001b[90mError evaluating CAT(x): name 'CAT' is not defined\u001b[0m\n",
      "=> ['cat'] = λx . CAT(x) \t(NN)\u001b[0m\n",
      "\u001b[90mError evaluating CAT(x): name 'CAT' is not defined\u001b[0m\n"
     ]
    },
    {
     "data": {
      "text/html": [
       "λx . CAT(x)\n",
       "        <span style='float:right; font-family:monospace; margin-right:75px;\n",
       "              font-weight:bold; background-color:#e5e5ff; color:#000'>\n",
       "          ('e', 't')</span>"
      ],
      "text/plain": [
       "Function(\"lambda x: CAT(x)\", Type(('e', 't')))"
      ]
     },
     "execution_count": 10,
     "metadata": {},
     "output_type": "execute_result"
    },
    {
     "name": "stderr",
     "output_type": "stream",
     "text": [
      "\u001b[0m\n",
      "Interpreting ('is', ['a', 'cat'])\u001b[0m\n",
      "\u001b[93m      Removing vacuous items: ['a']\u001b[0m\n",
      "\u001b[93m   Removing vacuous items: ['is']\u001b[0m\n",
      "   Interpreting ['cat']\u001b[0m\n",
      "      Interpreting cat\u001b[0m\n",
      "\u001b[90mError evaluating CAT(x): name 'CAT' is not defined\u001b[0m\n",
      "      => cat = λx . CAT(x) \t(TN)\u001b[0m\n",
      "\u001b[90mError evaluating CAT(x): name 'CAT' is not defined\u001b[0m\n",
      "   => ['cat'] = λx . CAT(x) \t(NN)\u001b[0m\n",
      "\u001b[90mError evaluating CAT(x): name 'CAT' is not defined\u001b[0m\n",
      "=> [['cat']] = λx . CAT(x) \t(NN)\u001b[0m\n",
      "\u001b[90mError evaluating CAT(x): name 'CAT' is not defined\u001b[0m\n"
     ]
    },
    {
     "data": {
      "text/html": [
       "λx . CAT(x)\n",
       "        <span style='float:right; font-family:monospace; margin-right:75px;\n",
       "              font-weight:bold; background-color:#e5e5ff; color:#000'>\n",
       "          ('e', 't')</span>"
      ],
      "text/plain": [
       "Function(\"lambda x: CAT(x)\", Type(('e', 't')))"
      ]
     },
     "execution_count": 10,
     "metadata": {},
     "output_type": "execute_result"
    },
    {
     "name": "stderr",
     "output_type": "stream",
     "text": [
      "\u001b[0m\n",
      "Interpreting ('Kaline', [['fond', 'Joe'], ['gray', 'cat']])\u001b[0m\n",
      "   Interpreting [['fond', 'Joe'], ['gray', 'cat']]\u001b[0m\n",
      "      Interpreting ['fond', 'Joe']\u001b[0m\n",
      "         Interpreting fond\u001b[0m\n",
      "\u001b[90mError evaluating f(x) and FOND(x, y): name 'f' is not defined\u001b[0m\n",
      "         => fond = λy . λf . λx . f(x) and FOND(x, y) \t(TN)\u001b[0m\n",
      "         Interpreting Joe\u001b[0m\n",
      "         => Joe = J \t(TN)\u001b[0m\n",
      "\u001b[90mError evaluating f(x) and FOND(x, J): name 'f' is not defined\u001b[0m\n",
      "      => ['fond', 'Joe'] = λf . λx . f(x) and FOND(x, J) \t(FA)\u001b[0m\n",
      "      Interpreting ['gray', 'cat']\u001b[0m\n",
      "         Interpreting gray\u001b[0m\n",
      "\u001b[90mError evaluating f(x) and GRAY(x): name 'f' is not defined\u001b[0m\n",
      "         => gray = λf . λx . f(x) and GRAY(x) \t(TN)\u001b[0m\n",
      "         Interpreting cat\u001b[0m\n",
      "\u001b[90mError evaluating CAT(x): name 'CAT' is not defined\u001b[0m\n",
      "         => cat = λx . CAT(x) \t(TN)\u001b[0m\n",
      "\u001b[90mError evaluating CAT(x) and GRAY(x): name 'CAT' is not defined\u001b[0m\n",
      "      => ['gray', 'cat'] = λx . CAT(x) and GRAY(x) \t(FA)\u001b[0m\n",
      "\u001b[90mError evaluating (CAT(x) and GRAY(x)) and FOND(x, J): name 'CAT' is not defined\u001b[0m\n",
      "   => [['fond', 'Joe'], ['gray', 'cat']] = λx . (CAT(x) and GRAY(x)) and FOND(x, J) \t(FA)\u001b[0m\n",
      "   Interpreting Kaline\u001b[0m\n",
      "   => Kaline = K \t(TN)\u001b[0m\n",
      "\u001b[90mError evaluating (CAT(K) and GRAY(K)) and FOND(K, J): name 'CAT' is not defined\u001b[0m\n",
      "=> ['Kaline', [['fond', 'Joe'], ['gray', 'cat']]] = (CAT(K) and GRAY(K)) and FOND(K, J) \t(AF)\u001b[0m\n"
     ]
    },
    {
     "data": {
      "text/html": [
       "(CAT(K) and GRAY(K)) and FOND(K, J)\n",
       "        <span style='float:right; font-family:monospace; margin-right:75px;\n",
       "              font-weight:bold; background-color:#e5e5ff; color:#000'>\n",
       "          't'</span>"
      ],
      "text/plain": [
       "(CAT(K) and GRAY(K)) and FOND(K, J)"
      ]
     },
     "execution_count": 10,
     "metadata": {},
     "output_type": "execute_result"
    },
    {
     "name": "stderr",
     "output_type": "stream",
     "text": [
      "\u001b[0m\n",
      "Interpreting ('Kaline', 'gray')\u001b[0m\n",
      "=> ['Kaline', 'gray'] = ['Kaline', 'gray'] \t(??)\u001b[0m\n"
     ]
    },
    {
     "data": {
      "text/plain": [
       "['Kaline', 'gray']"
      ]
     },
     "execution_count": 10,
     "metadata": {},
     "output_type": "execute_result"
    }
   ],
   "source": [
    "class Meaning3(Meaning):\n",
    "  def rules(m, alpha):\n",
    "    match alpha:      # Note: m.quiet(  ) turns off printing\n",
    "      # FA\n",
    "      case (beta, gamma) if m.quiet(  m[gamma] in m[beta].domain()  ):\n",
    "        rule = 'FA'\n",
    "        value = m[beta](m[gamma])\n",
    "      case (gamma, beta) if m.quiet(  m[gamma] in m[beta].domain()  ):\n",
    "        rule = 'AF'\n",
    "        value = m[beta](m[gamma])\n",
    "\n",
    "      # NN\n",
    "      case (beta,):\n",
    "        rule = 'NN'\n",
    "        value = m[beta]\n",
    "\n",
    "      # TN\n",
    "      case str():\n",
    "        rule = 'TN'\n",
    "        value = m.lookup(alpha)\n",
    "\n",
    "      case _:\n",
    "        rule = '??'\n",
    "        value = alpha\n",
    "\n",
    "    return value, rule\n",
    "\n",
    "m3 = Meaning3({\n",
    "    'Joe'     : 'J'.e,\n",
    "    'Kaline'  : 'K'.e,\n",
    "    'cat'     : 'lambda x: CAT(x)'.et,\n",
    "    'gray'    : 'lambda f: lambda x: f(x) and GRAY(x)'.et_et,\n",
    "    'fond'    : 'lambda y: lambda f: lambda x: f(x) and FOND(x,y)'.eet_et,\n",
    "})\n",
    "\n",
    "#m3['Joe']\n",
    "#m3['Kaline']\n",
    "#m3['cat']\n",
    "#m3['Kaline', 'cat']\n",
    "m3[('a',)]\n",
    "m3['a', 'cat']\n",
    "m3['is', ['a', 'cat']]\n",
    "m3['Kaline', [['fond', 'Joe'], ['gray', 'cat']]]\n",
    "m3['Kaline', 'gray']"
   ]
  },
  {
   "cell_type": "code",
   "execution_count": null,
   "metadata": {},
   "outputs": [
    {
     "name": "stderr",
     "output_type": "stream",
     "text": [
      "\u001b[0m\n",
      "Interpreting gray\u001b[0m\n",
      "\u001b[90mError evaluating f(x) and GRAY(x): name 'f' is not defined\u001b[0m\n",
      "=> gray = λf . λx . f(x) and GRAY(x) \t(TN)\u001b[0m\n",
      "\u001b[90mError evaluating f(x) and GRAY(x): name 'f' is not defined\u001b[0m\n"
     ]
    },
    {
     "data": {
      "text/html": [
       "λf . λx . f(x) and GRAY(x)\n",
       "        <span style='float:right; font-family:monospace; margin-right:75px;\n",
       "              font-weight:bold; background-color:#e5e5ff; color:#000'>\n",
       "          (('e', 't'), ('e', 't'))</span>"
      ],
      "text/plain": [
       "Function(\"lambda f: lambda x: f(x) and GRAY(x)\", Type((('e', 't'), ('e', 't'))))"
      ]
     },
     "execution_count": 11,
     "metadata": {},
     "output_type": "execute_result"
    },
    {
     "name": "stderr",
     "output_type": "stream",
     "text": [
      "\u001b[0m\n",
      "Interpreting ('is', 'gray')\u001b[0m\n",
      "   Interpreting is\u001b[0m\n",
      "\u001b[90mError evaluating f(lambda y: 1)(x): name 'f' is not defined\u001b[0m\n",
      "   => is = λf . λx . f(lambda y: 1)(x) \t(TN)\u001b[0m\n",
      "   Interpreting gray\u001b[0m\n",
      "\u001b[90mError evaluating f(x) and GRAY(x): name 'f' is not defined\u001b[0m\n",
      "   => gray = λf . λx . f(x) and GRAY(x) \t(TN)\u001b[0m\n",
      "\u001b[90mError evaluating 1 and GRAY(x): name 'GRAY' is not defined\u001b[0m\n",
      "=> ['is', 'gray'] = λx . 1 and GRAY(x) \t(FA)\u001b[0m\n",
      "\u001b[90mError evaluating 1 and GRAY(x): name 'GRAY' is not defined\u001b[0m\n"
     ]
    },
    {
     "data": {
      "text/html": [
       "λx . 1 and GRAY(x)\n",
       "        <span style='float:right; font-family:monospace; margin-right:75px;\n",
       "              font-weight:bold; background-color:#e5e5ff; color:#000'>\n",
       "          ('e', 't')</span>"
      ],
      "text/plain": [
       "Function(\"lambda x: 1 and GRAY(x)\", Type(('e', 't')))"
      ]
     },
     "execution_count": 11,
     "metadata": {},
     "output_type": "execute_result"
    }
   ],
   "source": [
    "m3.update({'is': 'lambda f: lambda x: f(lambda y:1)(x)'.et_et__et})\n",
    "\n",
    "m3['gray']\n",
    "m3['is', 'gray']"
   ]
  },
  {
   "cell_type": "code",
   "execution_count": null,
   "metadata": {},
   "outputs": [
    {
     "data": {
      "image/svg+xml": [
       "<svg baseProfile=\"full\" height=\"216px\" preserveAspectRatio=\"xMidYMid meet\" style=\"font-family: times, serif; font-weight: normal; font-style: normal; font-size: 16px\" version=\"1.1\" viewBox=\"0,0,176.0,216.0\" width=\"176px\" xmlns=\"http://www.w3.org/2000/svg\" xmlns:ev=\"http://www.w3.org/2001/xml-events\" xmlns:xlink=\"http://www.w3.org/1999/xlink\"><defs /><svg width=\"100%\" x=\"0\" y=\"0px\"><defs /><text text-anchor=\"middle\" x=\"50%\" y=\"16px\">S</text></svg><svg width=\"36.3636%\" x=\"0%\" y=\"48px\"><defs /><svg width=\"100%\" x=\"0\" y=\"0px\"><defs /><text text-anchor=\"middle\" x=\"50%\" y=\"16px\">NP</text></svg><svg width=\"100%\" x=\"0%\" y=\"48px\"><defs /><svg width=\"100%\" x=\"0\" y=\"0px\"><defs /><text text-anchor=\"middle\" x=\"50%\" y=\"16px\">N</text></svg><svg width=\"100%\" x=\"0%\" y=\"48px\"><defs /><svg width=\"100%\" x=\"0\" y=\"0px\"><defs /><text text-anchor=\"middle\" x=\"50%\" y=\"16px\">Kaline</text></svg></svg><line stroke=\"black\" x1=\"50%\" x2=\"50%\" y1=\"20px\" y2=\"48px\" /></svg><line stroke=\"black\" x1=\"50%\" x2=\"50%\" y1=\"20px\" y2=\"48px\" /></svg><line stroke=\"black\" x1=\"50%\" x2=\"18.1818%\" y1=\"20px\" y2=\"48px\" /><svg width=\"63.6364%\" x=\"36.3636%\" y=\"48px\"><defs /><svg width=\"100%\" x=\"0\" y=\"0px\"><defs /><text text-anchor=\"middle\" x=\"50%\" y=\"16px\">VP</text></svg><svg width=\"28.5714%\" x=\"0%\" y=\"48px\"><defs /><svg width=\"100%\" x=\"0\" y=\"0px\"><defs /><text text-anchor=\"middle\" x=\"50%\" y=\"16px\">is</text></svg></svg><line stroke=\"black\" x1=\"50%\" x2=\"14.2857%\" y1=\"20px\" y2=\"48px\" /><svg width=\"71.4286%\" x=\"28.5714%\" y=\"48px\"><defs /><svg width=\"100%\" x=\"0\" y=\"0px\"><defs /><text text-anchor=\"middle\" x=\"50%\" y=\"16px\">NP</text></svg><svg width=\"50%\" x=\"0%\" y=\"48px\"><defs /><svg width=\"100%\" x=\"0\" y=\"0px\"><defs /><text text-anchor=\"middle\" x=\"50%\" y=\"16px\">Det</text></svg><svg width=\"100%\" x=\"0%\" y=\"48px\"><defs /><svg width=\"100%\" x=\"0\" y=\"0px\"><defs /><text text-anchor=\"middle\" x=\"50%\" y=\"16px\">a</text></svg></svg><line stroke=\"black\" x1=\"50%\" x2=\"50%\" y1=\"20px\" y2=\"48px\" /></svg><line stroke=\"black\" x1=\"50%\" x2=\"25%\" y1=\"20px\" y2=\"48px\" /><svg width=\"50%\" x=\"50%\" y=\"48px\"><defs /><svg width=\"100%\" x=\"0\" y=\"0px\"><defs /><text text-anchor=\"middle\" x=\"50%\" y=\"16px\">N</text></svg><svg width=\"100%\" x=\"0%\" y=\"48px\"><defs /><svg width=\"100%\" x=\"0\" y=\"0px\"><defs /><text text-anchor=\"middle\" x=\"50%\" y=\"16px\">cat</text></svg></svg><line stroke=\"black\" x1=\"50%\" x2=\"50%\" y1=\"20px\" y2=\"48px\" /></svg><line stroke=\"black\" x1=\"50%\" x2=\"75%\" y1=\"20px\" y2=\"48px\" /></svg><line stroke=\"black\" x1=\"50%\" x2=\"64.2857%\" y1=\"20px\" y2=\"48px\" /></svg><line stroke=\"black\" x1=\"50%\" x2=\"68.1818%\" y1=\"20px\" y2=\"48px\" /></svg>"
      ],
      "text/plain": [
       "Tree('S', [Tree('NP', [Tree('N', ['Kaline'])]), Tree('VP', ['is', Tree('NP', [Tree('Det', ['a']), Tree('N', ['cat'])])])])"
      ]
     },
     "execution_count": 9,
     "metadata": {},
     "output_type": "execute_result"
    },
    {
     "name": "stderr",
     "output_type": "stream",
     "text": [
      "\u001b[0m\n",
      "Interpreting (S (NP (N Kaline)) (VP is (NP (Det a) (N cat))))\u001b[0m\n",
      "\u001b[93m            Removing vacuous items: ['a']\u001b[0m\n",
      "\u001b[93m            No non-vacuous children in node (Det )\u001b[0m\n",
      "\u001b[93m         Removing vacuous items: [Tree('Det', [])]\u001b[0m\n",
      "\u001b[91m!!! Error interpreting node (S (NP (N Kaline)) (VP is (NP (N cat)))): unhashable type: 'Tree'\u001b[0m\n",
      "\u001b[91mPreviously silenced output:\u001b[0m\n",
      "Interpreting (S (NP (N Kaline)) (VP is (NP (Det a) (N cat))))\u001b[0m\n",
      "   Interpreting (NP (N Kaline))\u001b[0m\n",
      "      Interpreting (N Kaline)\u001b[0m\n",
      "         Interpreting Kaline\u001b[0m\n",
      "         => Kaline = K \t(TN)\u001b[0m\n",
      "         Interpreting Kaline\u001b[0m\n",
      "         => Kaline = K \t(TN)\u001b[0m\n",
      "      => (N Kaline) = K \t(NN)\u001b[0m\n",
      "      Interpreting (N Kaline)\u001b[0m\n",
      "         Interpreting Kaline\u001b[0m\n",
      "         => Kaline = K \t(TN)\u001b[0m\n",
      "         Interpreting Kaline\u001b[0m\n",
      "         => Kaline = K \t(TN)\u001b[0m\n",
      "      => (N Kaline) = K \t(NN)\u001b[0m\n",
      "   => (NP (N Kaline)) = K \t(NN)\u001b[0m\n",
      "   Interpreting (VP is (NP (Det a) (N cat)))\u001b[0m\n",
      "      Interpreting is\u001b[0m\n",
      "\u001b[90mError evaluating Expression(body=Call(func=Call(func=Name(id='f', ctx=Load()), args=[Lambda(args=arguments(posonlyargs=[], args=[arg(arg='y')], kwonlyargs=[], kw_defaults=[], defaults=[]), body=Constant(value=1))], keywords=[]), args=[Name(id='x', ctx=Load())], keywords=[])): name 'f' is not defined\u001b[0m\n",
      "      => is = λf . λx . f(lambda y: 1)(x) \t(TN)\u001b[0m\n",
      "      Interpreting (NP (Det a) (N cat))\u001b[0m\n",
      "         Interpreting (Det a)\u001b[0m\n",
      "            Interpreting a\u001b[0m\n",
      "            => a = None \t(TN)\u001b[0m\n",
      "\u001b[93m            Removing vacuous items: ['a']\u001b[0m\n",
      "\u001b[93m            No non-vacuous children in node (Det )\u001b[0m\n",
      "         => (Det ) = None \t(NN)\u001b[0m\n",
      "         Interpreting (N cat)\u001b[0m\n",
      "            Interpreting cat\u001b[0m\n",
      "\u001b[90mError evaluating Expression(body=Call(func=Name(id='CAT', ctx=Load()), args=[Name(id='x', ctx=Load())], keywords=[])): name 'CAT' is not defined\u001b[0m\n",
      "            => cat = λx . CAT(x) \t(TN)\u001b[0m\n",
      "            Interpreting cat\u001b[0m\n",
      "\u001b[90mError evaluating Expression(body=Call(func=Name(id='CAT', ctx=Load()), args=[Name(id='x', ctx=Load())], keywords=[])): name 'CAT' is not defined\u001b[0m\n",
      "            => cat = λx . CAT(x) \t(TN)\u001b[0m\n",
      "\u001b[90mError evaluating Expression(body=Call(func=Name(id='CAT', ctx=Load()), args=[Name(id='x', ctx=Load())], keywords=[])): name 'CAT' is not defined\u001b[0m\n",
      "         => (N cat) = λx . CAT(x) \t(NN)\u001b[0m\n",
      "\u001b[93m         Removing vacuous items: [Tree('Det', [])]\u001b[0m\n",
      "         Interpreting (N cat)\u001b[0m\n",
      "            Interpreting cat\u001b[0m\n",
      "\u001b[90mError evaluating Expression(body=Call(func=Name(id='CAT', ctx=Load()), args=[Name(id='x', ctx=Load())], keywords=[])): name 'CAT' is not defined\u001b[0m\n",
      "            => cat = λx . CAT(x) \t(TN)\u001b[0m\n",
      "            Interpreting cat\u001b[0m\n",
      "\u001b[90mError evaluating Expression(body=Call(func=Name(id='CAT', ctx=Load()), args=[Name(id='x', ctx=Load())], keywords=[])): name 'CAT' is not defined\u001b[0m\n",
      "            => cat = λx . CAT(x) \t(TN)\u001b[0m\n",
      "\u001b[90mError evaluating Expression(body=Call(func=Name(id='CAT', ctx=Load()), args=[Name(id='x', ctx=Load())], keywords=[])): name 'CAT' is not defined\u001b[0m\n",
      "         => (N cat) = λx . CAT(x) \t(NN)\u001b[0m\n",
      "\u001b[90mError evaluating Expression(body=Call(func=Name(id='CAT', ctx=Load()), args=[Name(id='x', ctx=Load())], keywords=[])): name 'CAT' is not defined\u001b[0m\n",
      "      => (NP (N cat)) = λx . CAT(x) \t(NN)\u001b[0m\n",
      "      Interpreting (NP (N cat))\u001b[0m\n",
      "         Interpreting (N cat)\u001b[0m\n",
      "            Interpreting cat\u001b[0m\n",
      "\u001b[90mError evaluating Expression(body=Call(func=Name(id='CAT', ctx=Load()), args=[Name(id='x', ctx=Load())], keywords=[])): name 'CAT' is not defined\u001b[0m\n",
      "            => cat = λx . CAT(x) \t(TN)\u001b[0m\n",
      "            Interpreting cat\u001b[0m\n",
      "\u001b[90mError evaluating Expression(body=Call(func=Name(id='CAT', ctx=Load()), args=[Name(id='x', ctx=Load())], keywords=[])): name 'CAT' is not defined\u001b[0m\n",
      "            => cat = λx . CAT(x) \t(TN)\u001b[0m\n",
      "\u001b[90mError evaluating Expression(body=Call(func=Name(id='CAT', ctx=Load()), args=[Name(id='x', ctx=Load())], keywords=[])): name 'CAT' is not defined\u001b[0m\n",
      "         => (N cat) = λx . CAT(x) \t(NN)\u001b[0m\n",
      "         Interpreting (N cat)\u001b[0m\n",
      "            Interpreting cat\u001b[0m\n",
      "\u001b[90mError evaluating Expression(body=Call(func=Name(id='CAT', ctx=Load()), args=[Name(id='x', ctx=Load())], keywords=[])): name 'CAT' is not defined\u001b[0m\n",
      "            => cat = λx . CAT(x) \t(TN)\u001b[0m\n",
      "            Interpreting cat\u001b[0m\n",
      "\u001b[90mError evaluating Expression(body=Call(func=Name(id='CAT', ctx=Load()), args=[Name(id='x', ctx=Load())], keywords=[])): name 'CAT' is not defined\u001b[0m\n",
      "            => cat = λx . CAT(x) \t(TN)\u001b[0m\n",
      "\u001b[90mError evaluating Expression(body=Call(func=Name(id='CAT', ctx=Load()), args=[Name(id='x', ctx=Load())], keywords=[])): name 'CAT' is not defined\u001b[0m\n",
      "         => (N cat) = λx . CAT(x) \t(NN)\u001b[0m\n",
      "\u001b[90mError evaluating Expression(body=Call(func=Name(id='CAT', ctx=Load()), args=[Name(id='x', ctx=Load())], keywords=[])): name 'CAT' is not defined\u001b[0m\n",
      "      => (NP (N cat)) = λx . CAT(x) \t(NN)\u001b[0m\n",
      "      Interpreting is\u001b[0m\n",
      "\u001b[90mError evaluating Expression(body=Call(func=Call(func=Name(id='f', ctx=Load()), args=[Lambda(args=arguments(posonlyargs=[], args=[arg(arg='y')], kwonlyargs=[], kw_defaults=[], defaults=[]), body=Constant(value=1))], keywords=[]), args=[Name(id='x', ctx=Load())], keywords=[])): name 'f' is not defined\u001b[0m\n",
      "      => is = λf . λx . f(lambda y: 1)(x) \t(TN)\u001b[0m\n",
      "      Interpreting is\u001b[0m\n",
      "\u001b[90mError evaluating Expression(body=Call(func=Call(func=Name(id='f', ctx=Load()), args=[Lambda(args=arguments(posonlyargs=[], args=[arg(arg='y')], kwonlyargs=[], kw_defaults=[], defaults=[]), body=Constant(value=1))], keywords=[]), args=[Name(id='x', ctx=Load())], keywords=[])): name 'f' is not defined\u001b[0m\n",
      "      => is = λf . λx . f(lambda y: 1)(x) \t(TN)\u001b[0m\n",
      "      Interpreting (NP (N cat))\u001b[0m\n",
      "         Interpreting (N cat)\u001b[0m\n",
      "            Interpreting cat\u001b[0m\n",
      "\u001b[90mError evaluating Expression(body=Call(func=Name(id='CAT', ctx=Load()), args=[Name(id='x', ctx=Load())], keywords=[])): name 'CAT' is not defined\u001b[0m\n",
      "            => cat = λx . CAT(x) \t(TN)\u001b[0m\n",
      "            Interpreting cat\u001b[0m\n",
      "\u001b[90mError evaluating Expression(body=Call(func=Name(id='CAT', ctx=Load()), args=[Name(id='x', ctx=Load())], keywords=[])): name 'CAT' is not defined\u001b[0m\n",
      "            => cat = λx . CAT(x) \t(TN)\u001b[0m\n",
      "\u001b[90mError evaluating Expression(body=Call(func=Name(id='CAT', ctx=Load()), args=[Name(id='x', ctx=Load())], keywords=[])): name 'CAT' is not defined\u001b[0m\n",
      "         => (N cat) = λx . CAT(x) \t(NN)\u001b[0m\n",
      "         Interpreting (N cat)\u001b[0m\n",
      "            Interpreting cat\u001b[0m\n",
      "\u001b[90mError evaluating Expression(body=Call(func=Name(id='CAT', ctx=Load()), args=[Name(id='x', ctx=Load())], keywords=[])): name 'CAT' is not defined\u001b[0m\n",
      "            => cat = λx . CAT(x) \t(TN)\u001b[0m\n",
      "            Interpreting cat\u001b[0m\n",
      "\u001b[90mError evaluating Expression(body=Call(func=Name(id='CAT', ctx=Load()), args=[Name(id='x', ctx=Load())], keywords=[])): name 'CAT' is not defined\u001b[0m\n",
      "            => cat = λx . CAT(x) \t(TN)\u001b[0m\n",
      "\u001b[90mError evaluating Expression(body=Call(func=Name(id='CAT', ctx=Load()), args=[Name(id='x', ctx=Load())], keywords=[])): name 'CAT' is not defined\u001b[0m\n",
      "         => (N cat) = λx . CAT(x) \t(NN)\u001b[0m\n",
      "\u001b[90mError evaluating Expression(body=Call(func=Name(id='CAT', ctx=Load()), args=[Name(id='x', ctx=Load())], keywords=[])): name 'CAT' is not defined\u001b[0m\n",
      "      => (NP (N cat)) = λx . CAT(x) \t(NN)\u001b[0m\n",
      "   => (VP is (NP (N cat))) = (VP is (NP (N cat))) \t(??)\u001b[0m\n",
      "   Interpreting (VP is (NP (N cat)))\u001b[0m\n",
      "      Interpreting is\u001b[0m\n",
      "\u001b[90mError evaluating Expression(body=Call(func=Call(func=Name(id='f', ctx=Load()), args=[Lambda(args=arguments(posonlyargs=[], args=[arg(arg='y')], kwonlyargs=[], kw_defaults=[], defaults=[]), body=Constant(value=1))], keywords=[]), args=[Name(id='x', ctx=Load())], keywords=[])): name 'f' is not defined\u001b[0m\n",
      "      => is = λf . λx . f(lambda y: 1)(x) \t(TN)\u001b[0m\n",
      "      Interpreting (NP (N cat))\u001b[0m\n",
      "         Interpreting (N cat)\u001b[0m\n",
      "            Interpreting cat\u001b[0m\n",
      "\u001b[90mError evaluating Expression(body=Call(func=Name(id='CAT', ctx=Load()), args=[Name(id='x', ctx=Load())], keywords=[])): name 'CAT' is not defined\u001b[0m\n",
      "            => cat = λx . CAT(x) \t(TN)\u001b[0m\n",
      "            Interpreting cat\u001b[0m\n",
      "\u001b[90mError evaluating Expression(body=Call(func=Name(id='CAT', ctx=Load()), args=[Name(id='x', ctx=Load())], keywords=[])): name 'CAT' is not defined\u001b[0m\n",
      "            => cat = λx . CAT(x) \t(TN)\u001b[0m\n",
      "\u001b[90mError evaluating Expression(body=Call(func=Name(id='CAT', ctx=Load()), args=[Name(id='x', ctx=Load())], keywords=[])): name 'CAT' is not defined\u001b[0m\n",
      "         => (N cat) = λx . CAT(x) \t(NN)\u001b[0m\n",
      "         Interpreting (N cat)\u001b[0m\n",
      "            Interpreting cat\u001b[0m\n",
      "\u001b[90mError evaluating Expression(body=Call(func=Name(id='CAT', ctx=Load()), args=[Name(id='x', ctx=Load())], keywords=[])): name 'CAT' is not defined\u001b[0m\n",
      "            => cat = λx . CAT(x) \t(TN)\u001b[0m\n",
      "            Interpreting cat\u001b[0m\n",
      "\u001b[90mError evaluating Expression(body=Call(func=Name(id='CAT', ctx=Load()), args=[Name(id='x', ctx=Load())], keywords=[])): name 'CAT' is not defined\u001b[0m\n",
      "            => cat = λx . CAT(x) \t(TN)\u001b[0m\n",
      "\u001b[90mError evaluating Expression(body=Call(func=Name(id='CAT', ctx=Load()), args=[Name(id='x', ctx=Load())], keywords=[])): name 'CAT' is not defined\u001b[0m\n",
      "         => (N cat) = λx . CAT(x) \t(NN)\u001b[0m\n",
      "\u001b[90mError evaluating Expression(body=Call(func=Name(id='CAT', ctx=Load()), args=[Name(id='x', ctx=Load())], keywords=[])): name 'CAT' is not defined\u001b[0m\n",
      "      => (NP (N cat)) = λx . CAT(x) \t(NN)\u001b[0m\n",
      "      Interpreting (NP (N cat))\u001b[0m\n",
      "         Interpreting (N cat)\u001b[0m\n",
      "            Interpreting cat\u001b[0m\n",
      "\u001b[90mError evaluating Expression(body=Call(func=Name(id='CAT', ctx=Load()), args=[Name(id='x', ctx=Load())], keywords=[])): name 'CAT' is not defined\u001b[0m\n",
      "            => cat = λx . CAT(x) \t(TN)\u001b[0m\n",
      "            Interpreting cat\u001b[0m\n",
      "\u001b[90mError evaluating Expression(body=Call(func=Name(id='CAT', ctx=Load()), args=[Name(id='x', ctx=Load())], keywords=[])): name 'CAT' is not defined\u001b[0m\n",
      "            => cat = λx . CAT(x) \t(TN)\u001b[0m\n",
      "\u001b[90mError evaluating Expression(body=Call(func=Name(id='CAT', ctx=Load()), args=[Name(id='x', ctx=Load())], keywords=[])): name 'CAT' is not defined\u001b[0m\n",
      "         => (N cat) = λx . CAT(x) \t(NN)\u001b[0m\n",
      "         Interpreting (N cat)\u001b[0m\n",
      "            Interpreting cat\u001b[0m\n",
      "\u001b[90mError evaluating Expression(body=Call(func=Name(id='CAT', ctx=Load()), args=[Name(id='x', ctx=Load())], keywords=[])): name 'CAT' is not defined\u001b[0m\n",
      "            => cat = λx . CAT(x) \t(TN)\u001b[0m\n",
      "            Interpreting cat\u001b[0m\n",
      "\u001b[90mError evaluating Expression(body=Call(func=Name(id='CAT', ctx=Load()), args=[Name(id='x', ctx=Load())], keywords=[])): name 'CAT' is not defined\u001b[0m\n",
      "            => cat = λx . CAT(x) \t(TN)\u001b[0m\n",
      "\u001b[90mError evaluating Expression(body=Call(func=Name(id='CAT', ctx=Load()), args=[Name(id='x', ctx=Load())], keywords=[])): name 'CAT' is not defined\u001b[0m\n",
      "         => (N cat) = λx . CAT(x) \t(NN)\u001b[0m\n",
      "\u001b[90mError evaluating Expression(body=Call(func=Name(id='CAT', ctx=Load()), args=[Name(id='x', ctx=Load())], keywords=[])): name 'CAT' is not defined\u001b[0m\n",
      "      => (NP (N cat)) = λx . CAT(x) \t(NN)\u001b[0m\n",
      "      Interpreting is\u001b[0m\n",
      "\u001b[90mError evaluating Expression(body=Call(func=Call(func=Name(id='f', ctx=Load()), args=[Lambda(args=arguments(posonlyargs=[], args=[arg(arg='y')], kwonlyargs=[], kw_defaults=[], defaults=[]), body=Constant(value=1))], keywords=[]), args=[Name(id='x', ctx=Load())], keywords=[])): name 'f' is not defined\u001b[0m\n",
      "      => is = λf . λx . f(lambda y: 1)(x) \t(TN)\u001b[0m\n",
      "      Interpreting is\u001b[0m\n",
      "\u001b[90mError evaluating Expression(body=Call(func=Call(func=Name(id='f', ctx=Load()), args=[Lambda(args=arguments(posonlyargs=[], args=[arg(arg='y')], kwonlyargs=[], kw_defaults=[], defaults=[]), body=Constant(value=1))], keywords=[]), args=[Name(id='x', ctx=Load())], keywords=[])): name 'f' is not defined\u001b[0m\n",
      "      => is = λf . λx . f(lambda y: 1)(x) \t(TN)\u001b[0m\n",
      "      Interpreting (NP (N cat))\u001b[0m\n",
      "         Interpreting (N cat)\u001b[0m\n",
      "            Interpreting cat\u001b[0m\n",
      "\u001b[90mError evaluating Expression(body=Call(func=Name(id='CAT', ctx=Load()), args=[Name(id='x', ctx=Load())], keywords=[])): name 'CAT' is not defined\u001b[0m\n",
      "            => cat = λx . CAT(x) \t(TN)\u001b[0m\n",
      "            Interpreting cat\u001b[0m\n",
      "\u001b[90mError evaluating Expression(body=Call(func=Name(id='CAT', ctx=Load()), args=[Name(id='x', ctx=Load())], keywords=[])): name 'CAT' is not defined\u001b[0m\n",
      "            => cat = λx . CAT(x) \t(TN)\u001b[0m\n",
      "\u001b[90mError evaluating Expression(body=Call(func=Name(id='CAT', ctx=Load()), args=[Name(id='x', ctx=Load())], keywords=[])): name 'CAT' is not defined\u001b[0m\n",
      "         => (N cat) = λx . CAT(x) \t(NN)\u001b[0m\n",
      "         Interpreting (N cat)\u001b[0m\n",
      "            Interpreting cat\u001b[0m\n",
      "\u001b[90mError evaluating Expression(body=Call(func=Name(id='CAT', ctx=Load()), args=[Name(id='x', ctx=Load())], keywords=[])): name 'CAT' is not defined\u001b[0m\n",
      "            => cat = λx . CAT(x) \t(TN)\u001b[0m\n",
      "            Interpreting cat\u001b[0m\n",
      "\u001b[90mError evaluating Expression(body=Call(func=Name(id='CAT', ctx=Load()), args=[Name(id='x', ctx=Load())], keywords=[])): name 'CAT' is not defined\u001b[0m\n",
      "            => cat = λx . CAT(x) \t(TN)\u001b[0m\n",
      "\u001b[90mError evaluating Expression(body=Call(func=Name(id='CAT', ctx=Load()), args=[Name(id='x', ctx=Load())], keywords=[])): name 'CAT' is not defined\u001b[0m\n",
      "         => (N cat) = λx . CAT(x) \t(NN)\u001b[0m\n",
      "\u001b[90mError evaluating Expression(body=Call(func=Name(id='CAT', ctx=Load()), args=[Name(id='x', ctx=Load())], keywords=[])): name 'CAT' is not defined\u001b[0m\n",
      "      => (NP (N cat)) = λx . CAT(x) \t(NN)\u001b[0m\n",
      "   => (VP is (NP (N cat))) = (VP is (NP (N cat))) \t(??)\u001b[0m\n",
      "   Interpreting (NP (N Kaline))\u001b[0m\n",
      "      Interpreting (N Kaline)\u001b[0m\n",
      "         Interpreting Kaline\u001b[0m\n",
      "         => Kaline = K \t(TN)\u001b[0m\n",
      "         Interpreting Kaline\u001b[0m\n",
      "         => Kaline = K \t(TN)\u001b[0m\n",
      "      => (N Kaline) = K \t(NN)\u001b[0m\n",
      "      Interpreting (N Kaline)\u001b[0m\n",
      "         Interpreting Kaline\u001b[0m\n",
      "         => Kaline = K \t(TN)\u001b[0m\n",
      "         Interpreting Kaline\u001b[0m\n",
      "         => Kaline = K \t(TN)\u001b[0m\n",
      "      => (N Kaline) = K \t(NN)\u001b[0m\n",
      "   => (NP (N Kaline)) = K \t(NN)\u001b[0m\n"
     ]
    },
    {
     "ename": "TypeError",
     "evalue": "unhashable type: 'Tree'",
     "output_type": "error",
     "traceback": [
      "\u001b[0;31m---------------------------------------------------------------------------\u001b[0m",
      "\u001b[0;31mTypeError\u001b[0m                                 Traceback (most recent call last)",
      "Cell \u001b[0;32mIn[9], line 3\u001b[0m\n\u001b[1;32m      1\u001b[0m tree \u001b[38;5;241m=\u001b[39m Tree\u001b[38;5;241m.\u001b[39mfromstring(\u001b[38;5;124m'\u001b[39m\u001b[38;5;124m(S (NP (N Kaline)) (VP is (NP (Det a) (N cat))))\u001b[39m\u001b[38;5;124m'\u001b[39m)\n\u001b[1;32m      2\u001b[0m tree\n\u001b[0;32m----> 3\u001b[0m \u001b[43mm3\u001b[49m\u001b[43m[\u001b[49m\u001b[43mtree\u001b[49m\u001b[43m]\u001b[49m\n",
      "File \u001b[0;32m/workspaces/ling516/phosphorus/__init__.py:212\u001b[0m, in \u001b[0;36mMeaning.__getitem__\u001b[0;34m(self, k)\u001b[0m\n\u001b[0;32m--> 212\u001b[0m \u001b[38;5;28;01mdef\u001b[39;00m \u001b[38;5;21m__getitem__\u001b[39m(\u001b[38;5;28mself\u001b[39m, k): \u001b[38;5;28;01mreturn\u001b[39;00m \u001b[38;5;28;43mself\u001b[39;49m\u001b[38;5;241;43m.\u001b[39;49m\u001b[43minterpret\u001b[49m\u001b[43m(\u001b[49m\u001b[43mk\u001b[49m\u001b[43m)\u001b[49m\n",
      "File \u001b[0;32m/workspaces/ling516/phosphorus/__init__.py:259\u001b[0m, in \u001b[0;36mMeaning.interpret\u001b[0;34m(self, alpha)\u001b[0m\n\u001b[1;32m    257\u001b[0m   m\u001b[38;5;241m.\u001b[39mprint(\u001b[38;5;124m'\u001b[39m\u001b[38;5;124mPreviously silenced output:\u001b[39m\u001b[38;5;124m'\u001b[39m, level\u001b[38;5;241m=\u001b[39mlogging\u001b[38;5;241m.\u001b[39mERROR)\n\u001b[1;32m    258\u001b[0m   memory_handler\u001b[38;5;241m.\u001b[39mflush()\n\u001b[0;32m--> 259\u001b[0m \u001b[38;5;28;01mraise\u001b[39;00m e\n",
      "File \u001b[0;32m/workspaces/ling516/phosphorus/__init__.py:243\u001b[0m, in \u001b[0;36mMeaning.interpret\u001b[0;34m(self, alpha)\u001b[0m\n\u001b[1;32m    241\u001b[0m   value, rule \u001b[38;5;241m=\u001b[39m \u001b[38;5;28;01mNone\u001b[39;00m, \u001b[38;5;124m'\u001b[39m\u001b[38;5;124mNN\u001b[39m\u001b[38;5;124m'\u001b[39m\n\u001b[1;32m    242\u001b[0m \u001b[38;5;28;01melse\u001b[39;00m:\n\u001b[0;32m--> 243\u001b[0m   value, rule \u001b[38;5;241m=\u001b[39m \u001b[38;5;28;43mself\u001b[39;49m\u001b[38;5;241;43m.\u001b[39;49m\u001b[43mrules\u001b[49m\u001b[43m(\u001b[49m\u001b[43malpha\u001b[49m\u001b[43m)\u001b[49m\n\u001b[1;32m    244\u001b[0m   \u001b[38;5;28;01mif\u001b[39;00m value \u001b[38;5;129;01mis\u001b[39;00m rule \u001b[38;5;129;01mis\u001b[39;00m \u001b[38;5;28;01mNone\u001b[39;00m:\n\u001b[1;32m    245\u001b[0m     children \u001b[38;5;241m=\u001b[39m \u001b[38;5;124m'\u001b[39m\u001b[38;5;124m and \u001b[39m\u001b[38;5;124m'\u001b[39m\u001b[38;5;241m.\u001b[39mjoin(\u001b[38;5;28mmap\u001b[39m(\u001b[38;5;28mstr\u001b[39m, alpha))\n",
      "Cell \u001b[0;32mIn[7], line 5\u001b[0m, in \u001b[0;36mMeaning3.rules\u001b[0;34m(m, alpha)\u001b[0m\n\u001b[1;32m      2\u001b[0m \u001b[38;5;28;01mdef\u001b[39;00m \u001b[38;5;21mrules\u001b[39m(m, alpha):\n\u001b[1;32m      3\u001b[0m   \u001b[38;5;28;01mmatch\u001b[39;00m alpha:      \u001b[38;5;66;03m# Note: m.quiet(  ) turns off printing\u001b[39;00m\n\u001b[1;32m      4\u001b[0m     \u001b[38;5;66;03m# FA\u001b[39;00m\n\u001b[0;32m----> 5\u001b[0m     \u001b[38;5;28;01mcase\u001b[39;00m (beta, gamma) \u001b[38;5;28;01mif\u001b[39;00m m\u001b[38;5;241m.\u001b[39mquiet(  \u001b[43mm\u001b[49m\u001b[43m[\u001b[49m\u001b[43mgamma\u001b[49m\u001b[43m]\u001b[49m\u001b[43m \u001b[49m\u001b[38;5;129;43;01min\u001b[39;49;00m\u001b[43m \u001b[49m\u001b[43mm\u001b[49m\u001b[43m[\u001b[49m\u001b[43mbeta\u001b[49m\u001b[43m]\u001b[49m\u001b[38;5;241;43m.\u001b[39;49m\u001b[43mdomain\u001b[49m\u001b[43m(\u001b[49m\u001b[43m)\u001b[49m  ):\n\u001b[1;32m      6\u001b[0m       rule \u001b[38;5;241m=\u001b[39m \u001b[38;5;124m'\u001b[39m\u001b[38;5;124mFA\u001b[39m\u001b[38;5;124m'\u001b[39m\n\u001b[1;32m      7\u001b[0m       value \u001b[38;5;241m=\u001b[39m m[beta](m[gamma])\n",
      "\u001b[0;31mTypeError\u001b[0m: unhashable type: 'Tree'"
     ]
    }
   ],
   "source": [
    "tree = Tree.fromstring('(S (NP (N Kaline)) (VP is (NP (Det a) (N cat))))')\n",
    "tree\n",
    "m3[tree]"
   ]
  },
  {
   "cell_type": "code",
   "execution_count": null,
   "metadata": {},
   "outputs": [
    {
     "name": "stdout",
     "output_type": "stream",
     "text": [
      "\n",
      " Interpreting Ann\n",
      " => Ann = A \t(TN)\n"
     ]
    },
    {
     "data": {
      "text/html": [
       "A\n",
       "        <span style='float:right; font-family:monospace; margin-right:75px;\n",
       "              font-weight:bold; background-color:#e5e5ff'>\n",
       "          'e'</span>"
      ],
      "text/plain": [
       "A"
      ]
     },
     "execution_count": 5,
     "metadata": {},
     "output_type": "execute_result"
    },
    {
     "name": "stdout",
     "output_type": "stream",
     "text": [
      "\n",
      " Interpreting smokes\n",
      " => smokes = λx . SMOKES(x) \t(TN)\n"
     ]
    },
    {
     "data": {
      "text/html": [
       "λx . SMOKES(x)\n",
       "        <span style='float:right; font-family:monospace; margin-right:75px;\n",
       "              font-weight:bold; background-color:#e5e5ff'>\n",
       "          ('e', 't')</span>"
      ],
      "text/plain": [
       "Function(\"lambda x: SMOKES(x)\", Type(('e', 't')))"
      ]
     },
     "execution_count": 5,
     "metadata": {},
     "output_type": "execute_result"
    },
    {
     "name": "stdout",
     "output_type": "stream",
     "text": [
      "\n",
      " Interpreting ('Ann', 'smokes')\n",
      "    Interpreting smokes\n",
      "    => smokes = λx . SMOKES(x) \t(TN)\n",
      "    Interpreting Ann\n",
      "    => Ann = A \t(TN)\n",
      " => ('Ann', 'smokes') = SMOKES(A) \t(AF)\n"
     ]
    },
    {
     "data": {
      "text/html": [
       "SMOKES(A)\n",
       "        <span style='float:right; font-family:monospace; margin-right:75px;\n",
       "              font-weight:bold; background-color:#e5e5ff'>\n",
       "          't'</span>"
      ],
      "text/plain": [
       "SMOKES(A)"
      ]
     },
     "execution_count": 5,
     "metadata": {},
     "output_type": "execute_result"
    },
    {
     "name": "stdout",
     "output_type": "stream",
     "text": [
      "\n",
      " Interpreting ('smokes', 'Ann')\n",
      "    Interpreting smokes\n",
      "    => smokes = λx . SMOKES(x) \t(TN)\n",
      "    Interpreting Ann\n",
      "    => Ann = A \t(TN)\n",
      " => ('smokes', 'Ann') = SMOKES(A) \t(FA)\n"
     ]
    },
    {
     "data": {
      "text/html": [
       "SMOKES(A)\n",
       "        <span style='float:right; font-family:monospace; margin-right:75px;\n",
       "              font-weight:bold; background-color:#e5e5ff'>\n",
       "          't'</span>"
      ],
      "text/plain": [
       "SMOKES(A)"
      ]
     },
     "execution_count": 5,
     "metadata": {},
     "output_type": "execute_result"
    }
   ],
   "source": [
    "class Meaning3(Meaning):\n",
    "  def rules(m, alpha):\n",
    "    match alpha:      # Note: m.quiet(  ) turns off printing\n",
    "      # FA\n",
    "      case (beta, gamma) if m.quiet(  m[gamma] in m[beta].domain()  ):\n",
    "        rule = 'FA'\n",
    "        value = m[beta](m[gamma])\n",
    "      case (gamma, beta) if m.quiet(  m[gamma] in m[beta].domain()  ):\n",
    "        rule = 'AF'\n",
    "        value = m[beta](m[gamma])\n",
    "\n",
    "      # NN\n",
    "      case (beta,):\n",
    "        rule = 'NN'\n",
    "        value = m[beta]\n",
    "\n",
    "      # TN\n",
    "      case str():# if alpha in m:\n",
    "        rule = 'TN'\n",
    "        value = m.lookup(alpha)\n",
    "\n",
    "      case _:\n",
    "        rule = '??'\n",
    "        value = alpha\n",
    "    return value, rule\n",
    "\n",
    "m = Meaning3({\n",
    "    'Ann'     : 'A'.e,\n",
    "    'smokes'  : 'lambda x: SMOKES(x)'.et,\n",
    "    'tall'    : 'lambda x: TALL(x)'.et,\n",
    "    'likes'   : 'lambda x: lambda y: LIKES(x,y)'.eet,\n",
    "#    'is'      : None,\n",
    "})\n",
    "\n",
    "m['Ann']\n",
    "m['smokes']\n",
    "m['Ann', 'smokes']\n",
    "m['smokes', 'Ann']"
   ]
  },
  {
   "cell_type": "code",
   "execution_count": null,
   "metadata": {},
   "outputs": [
    {
     "name": "stdout",
     "output_type": "stream",
     "text": [
      "\n",
      " Interpreting ('tall', 'is')\n",
      "    Removing vacuous items: ['is']\n",
      "    Interpreting tall\n",
      "    => tall = λx . TALL(x) \t(TN)\n",
      " => ('tall',) = λx . TALL(x) \t(NN)\n"
     ]
    },
    {
     "data": {
      "text/html": [
       "λx . TALL(x)\n",
       "        <span style='float:right; font-family:monospace; margin-right:75px;\n",
       "              font-weight:bold; background-color:#e5e5ff'>\n",
       "          ('e', 't')</span>"
      ],
      "text/plain": [
       "Function(\"lambda x: TALL(x)\", Type(('e', 't')))"
      ]
     },
     "execution_count": 6,
     "metadata": {},
     "output_type": "execute_result"
    }
   ],
   "source": [
    "m['tall', 'is']"
   ]
  },
  {
   "cell_type": "code",
   "execution_count": null,
   "metadata": {},
   "outputs": [
    {
     "ename": "TypeError",
     "evalue": "unsupported operand type(s) for -: 'list' and 'list'",
     "output_type": "error",
     "traceback": [
      "\u001b[0;31m---------------------------------------------------------------------------\u001b[0m",
      "\u001b[0;31mTypeError\u001b[0m                                 Traceback (most recent call last)",
      "Cell \u001b[0;32mIn[7], line 2\u001b[0m\n\u001b[1;32m      1\u001b[0m t \u001b[38;5;241m=\u001b[39m [\u001b[38;5;241m1\u001b[39m,\u001b[38;5;241m2\u001b[39m]\n\u001b[0;32m----> 2\u001b[0m t \u001b[38;5;241m=\u001b[39m \u001b[43mt\u001b[49m\u001b[43m \u001b[49m\u001b[38;5;241;43m-\u001b[39;49m\u001b[43m \u001b[49m\u001b[43m[\u001b[49m\u001b[38;5;241;43m1\u001b[39;49m\u001b[43m]\u001b[49m\n",
      "\u001b[0;31mTypeError\u001b[0m: unsupported operand type(s) for -: 'list' and 'list'"
     ]
    }
   ],
   "source": [
    "t = [1,2]\n",
    "t = t - [1]"
   ]
  },
  {
   "cell_type": "code",
   "execution_count": null,
   "metadata": {},
   "outputs": [
    {
     "ename": "ValueError",
     "evalue": "Invalid type for \"lambda x: f(x) and GRAY(x)\": 't'",
     "output_type": "error",
     "traceback": [
      "\u001b[0;31m---------------------------------------------------------------------------\u001b[0m",
      "\u001b[0;31mValueError\u001b[0m                                Traceback (most recent call last)",
      "File \u001b[0;32m~/.local/lib/python3.12/site-packages/IPython/core/formatters.py:406\u001b[0m, in \u001b[0;36mBaseFormatter.__call__\u001b[0;34m(self, obj)\u001b[0m\n\u001b[1;32m    404\u001b[0m     method \u001b[38;5;241m=\u001b[39m get_real_method(obj, \u001b[38;5;28mself\u001b[39m\u001b[38;5;241m.\u001b[39mprint_method)\n\u001b[1;32m    405\u001b[0m     \u001b[38;5;28;01mif\u001b[39;00m method \u001b[38;5;129;01mis\u001b[39;00m \u001b[38;5;129;01mnot\u001b[39;00m \u001b[38;5;28;01mNone\u001b[39;00m:\n\u001b[0;32m--> 406\u001b[0m         \u001b[38;5;28;01mreturn\u001b[39;00m \u001b[43mmethod\u001b[49m\u001b[43m(\u001b[49m\u001b[43m)\u001b[49m\n\u001b[1;32m    407\u001b[0m     \u001b[38;5;28;01mreturn\u001b[39;00m \u001b[38;5;28;01mNone\u001b[39;00m\n\u001b[1;32m    408\u001b[0m \u001b[38;5;28;01melse\u001b[39;00m:\n",
      "File \u001b[0;32m/workspaces/ling516/phosphorus/__init__.py:105\u001b[0m, in \u001b[0;36mSemVal._repr_html_\u001b[0;34m(self)\u001b[0m\n\u001b[1;32m    104\u001b[0m \u001b[38;5;28;01mdef\u001b[39;00m \u001b[38;5;21m_repr_html_\u001b[39m(\u001b[38;5;28mself\u001b[39m):\n\u001b[0;32m--> 105\u001b[0m   \u001b[38;5;28;01mreturn\u001b[39;00m \u001b[38;5;124mf\u001b[39m\u001b[38;5;124m\"\"\"\u001b[39m\u001b[38;5;132;43;01m{\u001b[39;49;00m\u001b[38;5;28;43mself\u001b[39;49m\u001b[38;5;132;43;01m}\u001b[39;49;00m\n\u001b[1;32m    106\u001b[0m \u001b[38;5;124m      <span style=\u001b[39m\u001b[38;5;124m'\u001b[39m\u001b[38;5;124mfloat:right; font-family:monospace; margin-right:75px;\u001b[39m\n\u001b[1;32m    107\u001b[0m \u001b[38;5;124m            font-weight:bold; background-color:#e5e5ff\u001b[39m\u001b[38;5;124m'\u001b[39m\u001b[38;5;124m>\u001b[39m\n\u001b[1;32m    108\u001b[0m \u001b[38;5;124m        \u001b[39m\u001b[38;5;132;01m{\u001b[39;00m\u001b[38;5;28mself\u001b[39m\u001b[38;5;241m.\u001b[39mtype\u001b[38;5;132;01m}\u001b[39;00m\u001b[38;5;124m</span>\u001b[39m\u001b[38;5;124m\"\"\"\u001b[39m\n",
      "File \u001b[0;32m/workspaces/ling516/phosphorus/__init__.py:155\u001b[0m, in \u001b[0;36mFunction.__str__\u001b[0;34m(self)\u001b[0m\n\u001b[1;32m    153\u001b[0m \u001b[38;5;28;01mdef\u001b[39;00m \u001b[38;5;21m__str__\u001b[39m(\u001b[38;5;28mself\u001b[39m):\n\u001b[1;32m    154\u001b[0m   \u001b[38;5;28mvars\u001b[39m \u001b[38;5;241m=\u001b[39m \u001b[38;5;124m'\u001b[39m\u001b[38;5;124m,\u001b[39m\u001b[38;5;124m'\u001b[39m\u001b[38;5;241m.\u001b[39mjoin(\u001b[38;5;28mself\u001b[39m\u001b[38;5;241m.\u001b[39mvars)\n\u001b[0;32m--> 155\u001b[0m   \u001b[38;5;28;01mreturn\u001b[39;00m \u001b[38;5;124mf\u001b[39m\u001b[38;5;124m'\u001b[39m\u001b[38;5;124mλ\u001b[39m\u001b[38;5;132;01m{\u001b[39;00m\u001b[38;5;28mvars\u001b[39m\u001b[38;5;132;01m}\u001b[39;00m\u001b[38;5;124m . \u001b[39m\u001b[38;5;132;01m{\u001b[39;00m\u001b[38;5;28;43mself\u001b[39;49m\u001b[43m(\u001b[49m\u001b[43m)\u001b[49m\u001b[38;5;132;01m}\u001b[39;00m\u001b[38;5;124m'\u001b[39m\n",
      "File \u001b[0;32m/workspaces/ling516/phosphorus/__init__.py:137\u001b[0m, in \u001b[0;36mFunction.__call__\u001b[0;34m(self, *args)\u001b[0m\n\u001b[1;32m    135\u001b[0m out_type \u001b[38;5;241m=\u001b[39m \u001b[38;5;28mself\u001b[39m\u001b[38;5;241m.\u001b[39mtype\u001b[38;5;241m.\u001b[39moutput()\n\u001b[1;32m    136\u001b[0m \u001b[38;5;28;01mif\u001b[39;00m \u001b[38;5;28misinstance\u001b[39m(node, Lambda):\n\u001b[0;32m--> 137\u001b[0m   \u001b[38;5;28;01mreturn\u001b[39;00m \u001b[43mFunction\u001b[49m\u001b[43m(\u001b[49m\u001b[43munparse\u001b[49m\u001b[43m(\u001b[49m\u001b[43mnode\u001b[49m\u001b[43m)\u001b[49m\u001b[43m,\u001b[49m\u001b[43m \u001b[49m\u001b[43mout_type\u001b[49m\u001b[43m)\u001b[49m\n\u001b[1;32m    139\u001b[0m \u001b[38;5;28;01mtry\u001b[39;00m:\n\u001b[1;32m    140\u001b[0m   exprnode \u001b[38;5;241m=\u001b[39m Expression(body\u001b[38;5;241m=\u001b[39mnode)\n",
      "File \u001b[0;32m/workspaces/ling516/phosphorus/__init__.py:117\u001b[0m, in \u001b[0;36mFunction.__init__\u001b[0;34m(self, s, stype)\u001b[0m\n\u001b[1;32m    115\u001b[0m \u001b[38;5;28;01mdef\u001b[39;00m \u001b[38;5;21m__init__\u001b[39m(\u001b[38;5;28mself\u001b[39m, s, stype):\n\u001b[1;32m    116\u001b[0m   \u001b[38;5;28;01mif\u001b[39;00m \u001b[38;5;129;01mnot\u001b[39;00m stype\u001b[38;5;241m.\u001b[39misfunction():\n\u001b[0;32m--> 117\u001b[0m     \u001b[38;5;28;01mraise\u001b[39;00m \u001b[38;5;167;01mValueError\u001b[39;00m(\u001b[38;5;124mf\u001b[39m\u001b[38;5;124m'\u001b[39m\u001b[38;5;124mInvalid type for \u001b[39m\u001b[38;5;124m\"\u001b[39m\u001b[38;5;132;01m{\u001b[39;00ms\u001b[38;5;132;01m}\u001b[39;00m\u001b[38;5;124m\"\u001b[39m\u001b[38;5;124m: \u001b[39m\u001b[38;5;132;01m{\u001b[39;00mstype\u001b[38;5;132;01m}\u001b[39;00m\u001b[38;5;124m'\u001b[39m)\n\u001b[1;32m    118\u001b[0m   \u001b[38;5;28mself\u001b[39m\u001b[38;5;241m.\u001b[39mtype \u001b[38;5;241m=\u001b[39m stype\n\u001b[1;32m    119\u001b[0m   node \u001b[38;5;241m=\u001b[39m parse(s, mode\u001b[38;5;241m=\u001b[39m\u001b[38;5;124m'\u001b[39m\u001b[38;5;124meval\u001b[39m\u001b[38;5;124m'\u001b[39m)\u001b[38;5;241m.\u001b[39mbody\n",
      "\u001b[0;31mValueError\u001b[0m: Invalid type for \"lambda x: f(x) and GRAY(x)\": 't'"
     ]
    },
    {
     "data": {
      "text/plain": [
       "Function(\"lambda f: lambda x: f(x) and GRAY(x)\", Type(('e', 't')))"
      ]
     },
     "execution_count": 4,
     "metadata": {},
     "output_type": "execute_result"
    }
   ],
   "source": [
    "'lambda f:lambda x: f(x) and GRAY(x)'.et"
   ]
  },
  {
   "cell_type": "code",
   "execution_count": null,
   "metadata": {},
   "outputs": [
    {
     "data": {
      "text/html": [
       "λy . λz . INTRODUCED(z, S, y)\n",
       "        <span style='float:right; font-family:monospace; margin-right:75px;\n",
       "              font-weight:bold; background-color:#e5e5ff'>\n",
       "          ('e', ('e', 't'))</span>"
      ],
      "text/plain": [
       "Function(\"lambda y: lambda z: INTRODUCED(z, S, y)\", Type(('e', ('e', 't'))))"
      ]
     },
     "execution_count": 5,
     "metadata": {},
     "output_type": "execute_result"
    }
   ],
   "source": [
    "'(lambda x: lambda y: lambda z: INTRODUCED(z,x,y))(S)'.eet"
   ]
  },
  {
   "cell_type": "markdown",
   "metadata": {},
   "source": [
    "a. [λx.[λy.[λz.z introduced x to y]]](Ann)(Sue)\n",
    "\n",
    "b. [λx.[λy.[λz.z introduced x to y](Ann)](Sue)]\n",
    "\n",
    "c. [λx.[λy.[λz.z introduced x to y](Ann)]](Sue) \n",
    "\n",
    "d. [λx.[λy.[λz.z introduced x to y]](Ann)](Sue)\n",
    "\n",
    "e. [λf.[λx.f(x)=1 and x is gray]]([λy.y is a cat])\n",
    "\n",
    "f. [λg.[λx.g(x)(Ann)=1]]([λy.[λz.z saw y]])\n",
    "\n",
    "g. [λm.[λn.n>3 and n<7](m)] \n",
    "\n",
    "h. [λm.[λn.[λo.o>3 and o<7](n)](m)] "
   ]
  },
  {
   "cell_type": "code",
   "execution_count": null,
   "metadata": {},
   "outputs": [
    {
     "data": {
      "text/html": [
       "λx . SAW(Ann, x)\n",
       "        <span style='float:right; font-family:monospace; margin-right:75px;\n",
       "              font-weight:bold; background-color:#e5e5ff'>\n",
       "          (('e', 't'), ('e', 't'))</span>"
      ],
      "text/plain": [
       "Function(\"lambda x: SAW(Ann, x)\", Type((('e', 't'), ('e', 't'))))"
      ]
     },
     "execution_count": 6,
     "metadata": {},
     "output_type": "execute_result"
    },
    {
     "data": {
      "text/html": [
       "λn . n > 3 and 3 < 7\n",
       "        <span style='float:right; font-family:monospace; margin-right:75px;\n",
       "              font-weight:bold; background-color:#e5e5ff'>\n",
       "          ('e', 't')</span>"
      ],
      "text/plain": [
       "Function(\"lambda n: n > 3 and 3 < 7\", Type(('e', 't')))"
      ]
     },
     "execution_count": 6,
     "metadata": {},
     "output_type": "execute_result"
    }
   ],
   "source": [
    "'lambda g: (lambda x:g(x)(Ann))'.eet_et('lambda y:lambda z:SAW(z,y)'.eet)\n",
    "\n",
    "'lambda m: lambda n:n>3 and m<7'.eet('3'.e)"
   ]
  },
  {
   "cell_type": "code",
   "execution_count": null,
   "metadata": {},
   "outputs": [
    {
     "data": {
      "text/html": [
       "λx . CAT(x) and GRAY(x)\n",
       "        <span style='float:right; font-family:monospace; margin-right:75px;\n",
       "              font-weight:bold; background-color:#e5e5ff'>\n",
       "          ('e', 't')</span>"
      ],
      "text/plain": [
       "Function(\"lambda x: CAT(x) and GRAY(x)\", Type(('e', 't')))"
      ]
     },
     "execution_count": 7,
     "metadata": {},
     "output_type": "execute_result"
    },
    {
     "data": {
      "text/html": [
       "λf . f(A)\n",
       "        <span style='float:right; font-family:monospace; margin-right:75px;\n",
       "              font-weight:bold; background-color:#e5e5ff'>\n",
       "          ('e', (('e', 't'), ('e', 't')))</span>"
      ],
      "text/plain": [
       "Function(\"lambda f: f(A)\", Type(('e', (('e', 't'), ('e', 't')))))"
      ]
     },
     "execution_count": 7,
     "metadata": {},
     "output_type": "execute_result"
    },
    {
     "data": {
      "text/html": [
       "λy . FOO(A, y)\n",
       "        <span style='float:right; font-family:monospace; margin-right:75px;\n",
       "              font-weight:bold; background-color:#e5e5ff'>\n",
       "          (('e', 't'), ('e', 't'))</span>"
      ],
      "text/plain": [
       "Function(\"lambda y: FOO(A, y)\", Type((('e', 't'), ('e', 't'))))"
      ]
     },
     "execution_count": 7,
     "metadata": {},
     "output_type": "execute_result"
    }
   ],
   "source": [
    "catf = 'lambda y:CAT(y)'.et\n",
    "\n",
    "ff = 'lambda f: lambda x: f(x) and GRAY(x)'.et_et\n",
    "ff(catf)\n",
    "\n",
    "gg = 'lambda f: f(A)'.eet_et\n",
    "gg\n",
    "gg('lambda x:lambda y:FOO(x,y)'.eet)"
   ]
  },
  {
   "cell_type": "code",
   "execution_count": null,
   "metadata": {},
   "outputs": [
    {
     "ename": "NameError",
     "evalue": "name 'GRAY' is not defined",
     "output_type": "error",
     "traceback": [
      "\u001b[0;31m---------------------------------------------------------------------------\u001b[0m",
      "\u001b[0;31mNameError\u001b[0m                                 Traceback (most recent call last)",
      "Cell \u001b[0;32mIn[8], line 1\u001b[0m\n\u001b[0;32m----> 1\u001b[0m Function(\u001b[38;5;124m'\u001b[39m\u001b[38;5;124mlambda y: CAT(y)\u001b[39m\u001b[38;5;124m'\u001b[39m, Type((\u001b[38;5;124m'\u001b[39m\u001b[38;5;124me\u001b[39m\u001b[38;5;124m'\u001b[39m, \u001b[38;5;124m'\u001b[39m\u001b[38;5;124mt\u001b[39m\u001b[38;5;124m'\u001b[39m)))(\u001b[38;5;124m'\u001b[39m\u001b[38;5;124mx\u001b[39m\u001b[38;5;124m'\u001b[39m) \u001b[38;5;129;01mand\u001b[39;00m \u001b[43mGRAY\u001b[49m(\u001b[38;5;124m'\u001b[39m\u001b[38;5;124mx\u001b[39m\u001b[38;5;124m'\u001b[39m)\n",
      "\u001b[0;31mNameError\u001b[0m: name 'GRAY' is not defined"
     ]
    }
   ],
   "source": [
    "Function('lambda y: CAT(y)', Type(('e', 't')))('x') and GRAY('x')"
   ]
  },
  {
   "cell_type": "code",
   "execution_count": null,
   "metadata": {},
   "outputs": [
    {
     "ename": "SyntaxError",
     "evalue": "invalid syntax (<unknown>, line 1)",
     "output_type": "error",
     "traceback": [
      "Traceback \u001b[0;36m(most recent call last)\u001b[0m:\n",
      "\u001b[0m  File \u001b[1;32m~/.local/lib/python3.12/site-packages/IPython/core/interactiveshell.py:3577\u001b[0m in \u001b[1;35mrun_code\u001b[0m\n    exec(code_obj, self.user_global_ns, self.user_ns)\u001b[0m\n",
      "\u001b[0m  Cell \u001b[1;32mIn[3], line 2\u001b[0m\n    ast.dump(ast.parse('x smokes', mode= 'eval'))\u001b[0m\n",
      "\u001b[0;36m  File \u001b[0;32m~/.python/current/lib/python3.12/ast.py:52\u001b[0;36m in \u001b[0;35mparse\u001b[0;36m\n\u001b[0;31m    return compile(source, filename, mode, flags,\u001b[0;36m\n",
      "\u001b[0;36m  File \u001b[0;32m<unknown>:1\u001b[0;36m\u001b[0m\n\u001b[0;31m    x smokes\u001b[0m\n\u001b[0m      ^\u001b[0m\n\u001b[0;31mSyntaxError\u001b[0m\u001b[0;31m:\u001b[0m invalid syntax\n"
     ]
    }
   ],
   "source": [
    "import ast\n",
    "ast.dump(ast.parse('x smokes', mode= 'eval'))"
   ]
  }
 ],
 "metadata": {
  "kernelspec": {
   "display_name": "Python 3",
   "language": "python",
   "name": "python3"
  },
  "language_info": {
   "codemirror_mode": {
    "name": "ipython",
    "version": 3
   },
   "file_extension": ".py",
   "mimetype": "text/x-python",
   "name": "python",
   "nbconvert_exporter": "python",
   "pygments_lexer": "ipython3",
   "version": "3.12.1"
  }
 },
 "nbformat": 4,
 "nbformat_minor": 2
}
