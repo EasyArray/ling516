{
 "cells": [
  {
   "cell_type": "code",
   "execution_count": 1,
   "metadata": {},
   "outputs": [
    {
     "name": "stdout",
     "output_type": "stream",
     "text": [
      "\n",
      "             _    _                  _    _\n",
      "            | |  | |                | |  | |\n",
      "           _| |_ | |__   ___  ___  _| |_ | |__   ___  _ __ _   _  ____\n",
      "          /     \\| '_ \\ / _ \\/ __|/     \\| '_ \\ / _ \\| '__| | | |/ ___)\n",
      "         ( (| |) ) | | | (_) \\__ ( (| |) ) | | | (_) | |  | |_| ( (__\n",
      "          \\_   _/|_| |_|\\___/|___/\\_   _/|_| |_|\\___/|_|   \\__,_|\\__ \\\n",
      "            | |                     | |                            _) )\n",
      "            |_|                     |_|                           (__/\n",
      "\n",
      "        Welcome to the Phosphorus Meaning Engine v3\n",
      "        Created by Ezra Keshet (EzraKeshet.com)\n",
      "\n",
      "\n"
     ]
    }
   ],
   "source": [
    "from phosphorus import *\n",
    "%config InteractiveShell.ast_node_interactivity='all'"
   ]
  },
  {
   "cell_type": "code",
   "execution_count": null,
   "metadata": {},
   "outputs": [],
   "source": [
    "class Meaning5b(Meaning):\n",
    "  def rules(self, alpha, a): # pylint: disable=no-self-argument\n",
    "    \"\"\"Defines standard rules for combining the meanings of the\n",
    "    children of a node alpha. Meant to be overridden if different rules are wanted.\"\"\"\n",
    "\n",
    "    value, rule = None, None\n",
    "    m = self(a)\n",
    "    match alpha:      \n",
    "      # PM\n",
    "      case (beta, gamma) if m[gamma].type == m[beta].type == Type.et:\n",
    "        rule = 'PM'\n",
    "        pm_f = Function('lambda f : lambda g: lambda x: f(x) and g(x)', Type.et_et_et)\n",
    "        value = pm_f(m[beta])(m[gamma])\n",
    "\n",
    "      # FA\n",
    "      case (beta, gamma) if  m[gamma] in m[beta].domain() :\n",
    "        rule = 'FA'\n",
    "        value = m[beta](m[gamma])\n",
    "      case (gamma, beta) if  m[gamma] in m[beta].domain() :\n",
    "        rule = 'AF'\n",
    "        value = m[beta](m[gamma])\n",
    "\n",
    "      # NN\n",
    "      case (beta,):\n",
    "        rule = 'NN'\n",
    "        value = m[beta]\n",
    "\n",
    "      \n",
    "      # TN\n",
    "      case str():\n",
    "        rule = 'TN'\n",
    "        value = m.lookup(alpha)\n",
    "\n",
    "    return value, rule\n",
    "\n",
    "m = Meaning5a({\n",
    "  'snores' : 'lambda x: SNORES(x)'.et,\n",
    "})\n",
    "\n",
    "m('A'.e)['he', 'snores']"
   ]
  },
  {
   "cell_type": "code",
   "execution_count": 3,
   "metadata": {},
   "outputs": [
    {
     "name": "stderr",
     "output_type": "stream",
     "text": [
      "Interpreting ('he', 'snores') with parameters: ('A',)\u001b[0m\n",
      "   Interpreting he with parameters: ('A',)\u001b[0m\n",
      "   => he = 'A' \t(TP)\u001b[0m\n",
      "   Interpreting snores with parameters: ('A',)\u001b[0m\n",
      "   => snores = λx . SNORES(x) \t(TN)\u001b[0m\n",
      "=> ('he', 'snores') = SNORES('A') \t(AF)\u001b[0m\n"
     ]
    },
    {
     "data": {
      "text/html": [
       "SNORES('A')\n",
       "        <span style='float:right; font-family:monospace; margin-right:75px;\n",
       "              font-weight:bold; background-color:#e5e5ff; color:#000'>\n",
       "          't'</span>"
      ],
      "text/plain": [
       "SNORES('A')"
      ]
     },
     "execution_count": 3,
     "metadata": {},
     "output_type": "execute_result"
    }
   ],
   "source": [
    "class Meaning5a(Meaning):\n",
    "  def rules(self, alpha, a): # pylint: disable=no-self-argument\n",
    "    \"\"\"Defines standard rules for combining the meanings of the\n",
    "    children of a node alpha. Meant to be overridden if different rules are wanted.\"\"\"\n",
    "\n",
    "    value, rule = None, None\n",
    "    m = self(a)\n",
    "    match alpha:      \n",
    "      # PM\n",
    "      case (beta, gamma) if m[gamma].type == m[beta].type == Type.et:\n",
    "        rule = 'PM'\n",
    "        pm_f = Function('lambda f : lambda g: lambda x: f(x) and g(x)', Type.et_et_et)\n",
    "        value = pm_f(m[beta])(m[gamma])\n",
    "\n",
    "      # FA\n",
    "      case (beta, gamma) if  m[gamma] in m[beta].domain() :\n",
    "        rule = 'FA'\n",
    "        value = m[beta](m[gamma])\n",
    "      case (gamma, beta) if  m[gamma] in m[beta].domain() :\n",
    "        rule = 'AF'\n",
    "        value = m[beta](m[gamma])\n",
    "\n",
    "      # NN\n",
    "      case (beta,):\n",
    "        rule = 'NN'\n",
    "        value = m[beta]\n",
    "\n",
    "      case 't'|'he'|'she'|'it':\n",
    "        rule = 'TP'\n",
    "        value = a\n",
    "      \n",
    "      # TN\n",
    "      case str():\n",
    "        rule = 'TN'\n",
    "        value = m.lookup(alpha)\n",
    "\n",
    "    return value, rule\n",
    "\n",
    "m = Meaning5a({\n",
    "  'snores' : 'lambda x: SNORES(x)'.et,\n",
    "})\n",
    "\n",
    "m('A'.e)['he', 'snores']"
   ]
  },
  {
   "cell_type": "code",
   "execution_count": null,
   "metadata": {},
   "outputs": [
    {
     "data": {
      "image/svg+xml": [
       "<svg baseProfile=\"full\" height=\"216px\" preserveAspectRatio=\"xMidYMid meet\" style=\"font-family: times, serif; font-weight: normal; font-style: normal; font-size: 16px\" version=\"1.1\" viewBox=\"0,0,242.0,216.0\" width=\"242px\" xmlns=\"http://www.w3.org/2000/svg\" xmlns:ev=\"http://www.w3.org/2001/xml-events\" xmlns:xlink=\"http://www.w3.org/1999/xlink\"><defs /><svg width=\"100%\" x=\"0\" y=\"0px\"><defs /><text text-anchor=\"middle\" x=\"50%\" y=\"16px\">S</text></svg><svg width=\"40.4959%\" x=\"0%\" y=\"48px\"><defs /><svg width=\"100%\" x=\"0\" y=\"0px\"><defs /><text text-anchor=\"middle\" x=\"50%\" y=\"16px\">NP</text></svg><svg width=\"59.1837%\" x=\"0%\" y=\"48px\"><defs /><svg width=\"100%\" x=\"0\" y=\"0px\"><defs /><text text-anchor=\"middle\" x=\"50%\" y=\"16px\">DT</text></svg><svg width=\"100%\" x=\"0%\" y=\"48px\"><defs /><svg width=\"100%\" x=\"0\" y=\"0px\"><defs /><text text-anchor=\"middle\" x=\"50%\" y=\"16px\"><tspan>The</tspan><tspan dy=\"4px\" style=\"font-size: 12px\">1</tspan></text></svg></svg><line stroke=\"black\" x1=\"50%\" x2=\"50%\" y1=\"20px\" y2=\"48px\" /></svg><line stroke=\"black\" x1=\"50%\" x2=\"29.5918%\" y1=\"20px\" y2=\"48px\" /><svg width=\"40.8163%\" x=\"59.1837%\" y=\"48px\"><defs /><svg width=\"100%\" x=\"0\" y=\"0px\"><defs /><text text-anchor=\"middle\" x=\"50%\" y=\"16px\">NN</text></svg><svg width=\"100%\" x=\"0%\" y=\"48px\"><defs /><svg width=\"100%\" x=\"0\" y=\"0px\"><defs /><text text-anchor=\"middle\" x=\"50%\" y=\"16px\">cat</text></svg></svg><line stroke=\"black\" x1=\"50%\" x2=\"50%\" y1=\"20px\" y2=\"48px\" /></svg><line stroke=\"black\" x1=\"50%\" x2=\"79.5918%\" y1=\"20px\" y2=\"48px\" /></svg><line stroke=\"black\" x1=\"50%\" x2=\"20.2479%\" y1=\"20px\" y2=\"48px\" /><svg width=\"59.5041%\" x=\"40.4959%\" y=\"48px\"><defs /><svg width=\"100%\" x=\"0\" y=\"0px\"><defs /><text text-anchor=\"middle\" x=\"50%\" y=\"16px\">VP</text></svg><svg width=\"33.3333%\" x=\"0%\" y=\"48px\"><defs /><svg width=\"100%\" x=\"0\" y=\"0px\"><defs /><text text-anchor=\"middle\" x=\"50%\" y=\"16px\">VBZ</text></svg><svg width=\"100%\" x=\"0%\" y=\"48px\"><defs /><svg width=\"100%\" x=\"0\" y=\"0px\"><defs /><text text-anchor=\"middle\" x=\"50%\" y=\"16px\">eats</text></svg></svg><line stroke=\"black\" x1=\"50%\" x2=\"50%\" y1=\"20px\" y2=\"48px\" /></svg><line stroke=\"black\" x1=\"50%\" x2=\"16.6667%\" y1=\"20px\" y2=\"48px\" /><svg width=\"66.6667%\" x=\"33.3333%\" y=\"48px\"><defs /><svg width=\"100%\" x=\"0\" y=\"0px\"><defs /><text text-anchor=\"middle\" x=\"50%\" y=\"16px\">NP</text></svg><svg width=\"41.6667%\" x=\"0%\" y=\"48px\"><defs /><svg width=\"100%\" x=\"0\" y=\"0px\"><defs /><text text-anchor=\"middle\" x=\"50%\" y=\"16px\">DT</text></svg><svg width=\"100%\" x=\"0%\" y=\"48px\"><defs /><svg width=\"100%\" x=\"0\" y=\"0px\"><defs /><text text-anchor=\"middle\" x=\"50%\" y=\"16px\">the</text></svg></svg><line stroke=\"black\" x1=\"50%\" x2=\"50%\" y1=\"20px\" y2=\"48px\" /></svg><line stroke=\"black\" x1=\"50%\" x2=\"20.8333%\" y1=\"20px\" y2=\"48px\" /><svg width=\"58.3333%\" x=\"41.6667%\" y=\"48px\"><defs /><svg width=\"100%\" x=\"0\" y=\"0px\"><defs /><text text-anchor=\"middle\" x=\"50%\" y=\"16px\">NN</text></svg><svg width=\"100%\" x=\"0%\" y=\"48px\"><defs /><svg width=\"100%\" x=\"0\" y=\"0px\"><defs /><text text-anchor=\"middle\" x=\"50%\" y=\"16px\">mouse</text></svg></svg><line stroke=\"black\" x1=\"50%\" x2=\"50%\" y1=\"20px\" y2=\"48px\" /></svg><line stroke=\"black\" x1=\"50%\" x2=\"70.8333%\" y1=\"20px\" y2=\"48px\" /></svg><line stroke=\"black\" x1=\"50%\" x2=\"66.6667%\" y1=\"20px\" y2=\"48px\" /></svg><line stroke=\"black\" x1=\"50%\" x2=\"70.2479%\" y1=\"20px\" y2=\"48px\" /></svg>"
      ],
      "text/plain": [
       "Tree('S', [Tree('NP', [Tree('DT', ['The_1']), Tree('NN', ['cat'])]), Tree('VP', [Tree('VBZ', ['eats']), Tree('NP', [Tree('DT', ['the']), Tree('NN', ['mouse'])])])])"
      ]
     },
     "execution_count": 3,
     "metadata": {},
     "output_type": "execute_result"
    },
    {
     "data": {
      "text/plain": [
       "'The_1'"
      ]
     },
     "execution_count": 3,
     "metadata": {},
     "output_type": "execute_result"
    }
   ],
   "source": [
    "import svgling\n",
    "from nltk import Tree\n",
    "\n",
    "tree = Tree.fromstring('(S (NP (DT The_1) (NN cat)) (VP (VBZ eats) (NP (DT the) (NN mouse))))')\n",
    "\n",
    "def split_leaf(node):\n",
    "  if isinstance(node, str):\n",
    "    l = node.split('_')\n",
    "    if len(l) > 1:\n",
    "      return svgling.core.subscript_node(l[0], l[1]), ()\n",
    "    return node, ()\n",
    "\n",
    "def _repr_svg_(self):\n",
    "  return svgling.draw_tree(self, tree_split=split_leaf)._repr_svg_()\n",
    "\n",
    "Tree._repr_svg_ = _repr_svg_\n",
    "tree\n",
    "tree[0][0][0]\n"
   ]
  },
  {
   "cell_type": "code",
   "execution_count": null,
   "metadata": {},
   "outputs": [],
   "source": [
    "from string import ascii_uppercase\n",
    "DOMAIN = [SemVal.create(c,Type.e) for c in ascii_uppercase]\n",
    "A,B,C,D,E,F,G,H,I,J,K,L,M,N,O,P,Q,R,S,T,U,V,W,X,Y,Z = DOMAIN\n",
    "\n",
    "def charset(f, domain = None):\n",
    "  #logger.warning(f'CHARSET of {repr(f)}')\n",
    "  if domain is None:\n",
    "    domain = DOMAIN\n",
    "  out = {c for c in domain if f(c)}\n",
    "  #logger.warning(f'CHARSET of {f} is {out}')\n",
    "  return out\n",
    "\n",
    "def iota(f, domain = None):\n",
    "  #logger.warning(f'IOTA of {f}')\n",
    "  return max(charset(f,domain))"
   ]
  },
  {
   "cell_type": "code",
   "execution_count": null,
   "metadata": {},
   "outputs": [
    {
     "data": {
      "text/html": [
       "<h3>[black pawn]</h3>"
      ],
      "text/plain": [
       "<IPython.core.display.HTML object>"
      ]
     },
     "execution_count": 5,
     "metadata": {},
     "output_type": "execute_result"
    },
    {
     "name": "stderr",
     "output_type": "stream",
     "text": [
      "Interpreting ('black', 'pawn') with parameters: ()\u001b[0m\n",
      "   Interpreting black with parameters: ()\u001b[0m\n",
      "   => black = λx . BLACK(x) \t(TN)\u001b[0m\n",
      "   Interpreting pawn with parameters: ()\u001b[0m\n",
      "   => pawn = λx . PAWN(x) \t(TN)\u001b[0m\n",
      "=> ('black', 'pawn') = λx . BLACK(x) and PAWN(x) \t(PM)\u001b[0m\n"
     ]
    },
    {
     "data": {
      "text/plain": [
       "{'B', 'D', 'E', 'F'}"
      ]
     },
     "execution_count": 5,
     "metadata": {},
     "output_type": "execute_result"
    },
    {
     "data": {
      "text/html": [
       "<h3>[leftmost.et pawn]</h3>"
      ],
      "text/plain": [
       "<IPython.core.display.HTML object>"
      ]
     },
     "execution_count": 5,
     "metadata": {},
     "output_type": "execute_result"
    },
    {
     "name": "stderr",
     "output_type": "stream",
     "text": [
      "Interpreting ('leftmost.et', 'pawn') with parameters: ()\u001b[0m\n",
      "   Interpreting leftmost.et with parameters: ()\u001b[0m\n",
      "   => leftmost.et = λx . len(charset(lambda y: LEFT_OF(y, x))) == 0 \t(TN)\u001b[0m\n",
      "   Interpreting pawn with parameters: ()\u001b[0m\n",
      "   => pawn = λx . PAWN(x) \t(TN)\u001b[0m\n",
      "=> ('leftmost.et', 'pawn') = λx . len(charset(lambda y: LEFT_OF(y, x))) == 0 and PAWN(x) \t(PM)\u001b[0m\n"
     ]
    },
    {
     "data": {
      "text/plain": [
       "{'A'}"
      ]
     },
     "execution_count": 5,
     "metadata": {},
     "output_type": "execute_result"
    },
    {
     "data": {
      "text/html": [
       "<h3>[leftmost.et black pawn]</h3>"
      ],
      "text/plain": [
       "<IPython.core.display.HTML object>"
      ]
     },
     "execution_count": 5,
     "metadata": {},
     "output_type": "execute_result"
    },
    {
     "data": {
      "image/svg+xml": [
       "<svg baseProfile=\"full\" height=\"120px\" preserveAspectRatio=\"xMidYMid meet\" style=\"font-family: times, serif; font-weight: normal; font-style: normal; font-size: 16px\" version=\"1.1\" viewBox=\"0,0,208.0,120.0\" width=\"208px\" xmlns=\"http://www.w3.org/2000/svg\" xmlns:ev=\"http://www.w3.org/2001/xml-events\" xmlns:xlink=\"http://www.w3.org/1999/xlink\"><defs /><svg width=\"100%\" x=\"0\" y=\"0px\"><defs /><text text-anchor=\"middle\" x=\"50%\" y=\"16px\">NP</text></svg><svg width=\"50%\" x=\"0%\" y=\"48px\"><defs /><svg width=\"100%\" x=\"0\" y=\"0px\"><defs /><text text-anchor=\"middle\" x=\"50%\" y=\"16px\">leftmost.et</text></svg></svg><line stroke=\"black\" x1=\"50%\" x2=\"25%\" y1=\"20px\" y2=\"48px\" /><svg width=\"50%\" x=\"50%\" y=\"48px\"><defs /><svg width=\"100%\" x=\"0\" y=\"0px\"><defs /><text text-anchor=\"middle\" x=\"50%\" y=\"16px\">NP</text></svg><svg width=\"53.8462%\" x=\"0%\" y=\"48px\"><defs /><svg width=\"100%\" x=\"0\" y=\"0px\"><defs /><text text-anchor=\"middle\" x=\"50%\" y=\"16px\">black</text></svg></svg><line stroke=\"black\" x1=\"50%\" x2=\"26.9231%\" y1=\"20px\" y2=\"48px\" /><svg width=\"46.1538%\" x=\"53.8462%\" y=\"48px\"><defs /><svg width=\"100%\" x=\"0\" y=\"0px\"><defs /><text text-anchor=\"middle\" x=\"50%\" y=\"16px\">pawn</text></svg></svg><line stroke=\"black\" x1=\"50%\" x2=\"76.9231%\" y1=\"20px\" y2=\"48px\" /></svg><line stroke=\"black\" x1=\"50%\" x2=\"75%\" y1=\"20px\" y2=\"48px\" /></svg>"
      ],
      "text/plain": [
       "Tree('NP', ['leftmost.et', Tree('NP', ['black', 'pawn'])])"
      ]
     },
     "execution_count": 5,
     "metadata": {},
     "output_type": "execute_result"
    },
    {
     "name": "stderr",
     "output_type": "stream",
     "text": [
      "Interpreting (NP leftmost.et (NP black pawn)) with parameters: ()\u001b[0m\n",
      "   Interpreting leftmost.et with parameters: ()\u001b[0m\n",
      "   => leftmost.et = λx . len(charset(lambda y: LEFT_OF(y, x))) == 0 \t(TN)\u001b[0m\n",
      "   Interpreting (NP black pawn) with parameters: ()\u001b[0m\n",
      "      Interpreting black with parameters: ()\u001b[0m\n",
      "      => black = λx . BLACK(x) \t(TN)\u001b[0m\n",
      "      Interpreting pawn with parameters: ()\u001b[0m\n",
      "      => pawn = λx . PAWN(x) \t(TN)\u001b[0m\n",
      "   => (NP black pawn) = λx . BLACK(x) and PAWN(x) \t(PM)\u001b[0m\n",
      "=> (NP leftmost.et (NP black pawn)) = λx . len(charset(lambda y: LEFT_OF(y, x))) == 0 and (BLACK(x) and PAWN(x)) \t(PM)\u001b[0m\n"
     ]
    },
    {
     "data": {
      "text/plain": [
       "set()"
      ]
     },
     "execution_count": 5,
     "metadata": {},
     "output_type": "execute_result"
    },
    {
     "data": {
      "text/html": [
       "<h3>[leftmost.et_et pawn]</h3>"
      ],
      "text/plain": [
       "<IPython.core.display.HTML object>"
      ]
     },
     "execution_count": 5,
     "metadata": {},
     "output_type": "execute_result"
    },
    {
     "name": "stderr",
     "output_type": "stream",
     "text": [
      "Interpreting ('leftmost.et_et', 'pawn') with parameters: ()\u001b[0m\n",
      "   Interpreting leftmost.et_et with parameters: ()\u001b[0m\n",
      "   => leftmost.et_et = λf . λx . len(charset(lambda y: f(y) and LEFT_OF(y, x))) == 0 \t(TN)\u001b[0m\n",
      "   Interpreting pawn with parameters: ()\u001b[0m\n",
      "   => pawn = λx . PAWN(x) \t(TN)\u001b[0m\n",
      "=> ('leftmost.et_et', 'pawn') = λx . len(charset(lambda y: PAWN(y) and LEFT_OF(y, x))) == 0 \t(FA)\u001b[0m\n"
     ]
    },
    {
     "data": {
      "text/plain": [
       "{'A',\n",
       " 'H',\n",
       " 'I',\n",
       " 'J',\n",
       " 'K',\n",
       " 'L',\n",
       " 'M',\n",
       " 'N',\n",
       " 'O',\n",
       " 'P',\n",
       " 'Q',\n",
       " 'R',\n",
       " 'S',\n",
       " 'T',\n",
       " 'U',\n",
       " 'V',\n",
       " 'W',\n",
       " 'X',\n",
       " 'Y',\n",
       " 'Z'}"
      ]
     },
     "execution_count": 5,
     "metadata": {},
     "output_type": "execute_result"
    },
    {
     "data": {
      "text/html": [
       "<h3>[leftmost.et_et black pawn]</h3>"
      ],
      "text/plain": [
       "<IPython.core.display.HTML object>"
      ]
     },
     "execution_count": 5,
     "metadata": {},
     "output_type": "execute_result"
    },
    {
     "data": {
      "image/svg+xml": [
       "<svg baseProfile=\"full\" height=\"120px\" preserveAspectRatio=\"xMidYMid meet\" style=\"font-family: times, serif; font-weight: normal; font-style: normal; font-size: 16px\" version=\"1.1\" viewBox=\"0,0,232.0,120.0\" width=\"232px\" xmlns=\"http://www.w3.org/2000/svg\" xmlns:ev=\"http://www.w3.org/2001/xml-events\" xmlns:xlink=\"http://www.w3.org/1999/xlink\"><defs /><svg width=\"100%\" x=\"0\" y=\"0px\"><defs /><text text-anchor=\"middle\" x=\"50%\" y=\"16px\">NP</text></svg><svg width=\"55.1724%\" x=\"0%\" y=\"48px\"><defs /><svg width=\"100%\" x=\"0\" y=\"0px\"><defs /><text text-anchor=\"middle\" x=\"50%\" y=\"16px\"><tspan>leftmost.et</tspan><tspan dy=\"4px\" style=\"font-size: 12px\">et</tspan></text></svg></svg><line stroke=\"black\" x1=\"50%\" x2=\"27.5862%\" y1=\"20px\" y2=\"48px\" /><svg width=\"44.8276%\" x=\"55.1724%\" y=\"48px\"><defs /><svg width=\"100%\" x=\"0\" y=\"0px\"><defs /><text text-anchor=\"middle\" x=\"50%\" y=\"16px\">NP</text></svg><svg width=\"53.8462%\" x=\"0%\" y=\"48px\"><defs /><svg width=\"100%\" x=\"0\" y=\"0px\"><defs /><text text-anchor=\"middle\" x=\"50%\" y=\"16px\">black</text></svg></svg><line stroke=\"black\" x1=\"50%\" x2=\"26.9231%\" y1=\"20px\" y2=\"48px\" /><svg width=\"46.1538%\" x=\"53.8462%\" y=\"48px\"><defs /><svg width=\"100%\" x=\"0\" y=\"0px\"><defs /><text text-anchor=\"middle\" x=\"50%\" y=\"16px\">pawn</text></svg></svg><line stroke=\"black\" x1=\"50%\" x2=\"76.9231%\" y1=\"20px\" y2=\"48px\" /></svg><line stroke=\"black\" x1=\"50%\" x2=\"77.5862%\" y1=\"20px\" y2=\"48px\" /></svg>"
      ],
      "text/plain": [
       "Tree('NP', ['leftmost.et_et', Tree('NP', ['black', 'pawn'])])"
      ]
     },
     "execution_count": 5,
     "metadata": {},
     "output_type": "execute_result"
    },
    {
     "name": "stderr",
     "output_type": "stream",
     "text": [
      "Interpreting (NP leftmost.et_et (NP black pawn)) with parameters: ()\u001b[0m\n",
      "   Interpreting leftmost.et_et with parameters: ()\u001b[0m\n",
      "   => leftmost.et_et = λf . λx . len(charset(lambda y: f(y) and LEFT_OF(y, x))) == 0 \t(TN)\u001b[0m\n",
      "   Interpreting (NP black pawn) with parameters: ()\u001b[0m\n",
      "      Interpreting black with parameters: ()\u001b[0m\n",
      "      => black = λx . BLACK(x) \t(TN)\u001b[0m\n",
      "      Interpreting pawn with parameters: ()\u001b[0m\n",
      "      => pawn = λx . PAWN(x) \t(TN)\u001b[0m\n",
      "   => (NP black pawn) = λx . BLACK(x) and PAWN(x) \t(PM)\u001b[0m\n",
      "=> (NP leftmost.et_et (NP black pawn)) = λx . len(charset(lambda y: (BLACK(y) and PAWN(y)) and LEFT_OF(y, x))) == 0 \t(FA)\u001b[0m\n"
     ]
    },
    {
     "data": {
      "text/plain": [
       "{'A',\n",
       " 'B',\n",
       " 'H',\n",
       " 'I',\n",
       " 'J',\n",
       " 'K',\n",
       " 'L',\n",
       " 'M',\n",
       " 'N',\n",
       " 'O',\n",
       " 'P',\n",
       " 'Q',\n",
       " 'R',\n",
       " 'S',\n",
       " 'T',\n",
       " 'U',\n",
       " 'V',\n",
       " 'W',\n",
       " 'X',\n",
       " 'Y',\n",
       " 'Z'}"
      ]
     },
     "execution_count": 5,
     "metadata": {},
     "output_type": "execute_result"
    }
   ],
   "source": [
    "from IPython.display import HTML\n",
    "from nltk import Tree\n",
    "# Domain and Predicates / Relations\n",
    "A, B, C, D, E, F, G = DOMAIN[:7]\n",
    "PAWN = Predicate({\n",
    "    (A,), (B,), (C,), (D,), (E,), (F,), (G,)\n",
    "})\n",
    "LEFT_OF = Predicate({\n",
    "    (A,B), (A,C), (A,D), (A,E), (A,F), (A,G),\n",
    "    (B,C), (B,D), (B,E), (B,F), (B,G),\n",
    "    (C,D), (C,E), (C,F), (C,G),\n",
    "    (D,E), (D,F), (D,G),\n",
    "    (E,F), (E,G),\n",
    "    (F,G)            \n",
    "})\n",
    "BLACK = Predicate({\n",
    "    (B,), (D,), (E,), (F,)\n",
    "})\n",
    "\n",
    "\n",
    "# Lexical entries\n",
    "m3 = Meaning({\n",
    "    'leftmost.et'  : 'lambda x : len(charset(lambda y : LEFT_OF(y,x)))==0'.et,\n",
    "    'pawn'      : 'lambda x : PAWN(x)'.et,\n",
    "    'the'       : 'lambda f : (len(charset(f))==1, iota(f))'.et_e,\n",
    "    'black'     : 'lambda x : BLACK(x)'.et\n",
    "})\n",
    "    \n",
    "\n",
    "# CHANGE ONLY BELOW\n",
    "m3.update({\n",
    "    'leftmost.et_et' : 'lambda f : lambda x: len(charset(lambda y : f(y) and LEFT_OF(y,x)))==0'.et_et\n",
    "})\n",
    "# CHANGE ONLY ABOVE\n",
    "\n",
    "HTML(\"<h3>[black pawn]</h3>\")\n",
    "charset(m3['black','pawn'])\n",
    "\n",
    "HTML(\"<h3>[leftmost.et pawn]</h3>\")\n",
    "charset(m3['leftmost.et','pawn'])\n",
    "\n",
    "tree3 = Tree.fromstring('(NP leftmost.et (NP black pawn))')\n",
    "HTML('<h3>[leftmost.et black pawn]</h3>')\n",
    "tree3\n",
    "charset(m3[tree3])\n",
    "\n",
    "HTML(\"<h3>[leftmost.et_et pawn]</h3>\")\n",
    "charset(m3['leftmost.et_et','pawn'])\n",
    "\n",
    "tree3 = Tree.fromstring('(NP leftmost.et_et (NP black pawn))')\n",
    "HTML('<h3>[leftmost.et_et black pawn]</h3>')\n",
    "tree3\n",
    "charset(m3[tree3])"
   ]
  },
  {
   "cell_type": "code",
   "execution_count": null,
   "metadata": {},
   "outputs": [
    {
     "data": {
      "text/plain": [
       "True"
      ]
     },
     "execution_count": 6,
     "metadata": {},
     "output_type": "execute_result"
    }
   ],
   "source": [
    "from nltk import ImmutableTree\n",
    "tt = ImmutableTree.fromstring('(NP leftmost.et_et (NP black pawn))')\n",
    "type([tt]) == list\n"
   ]
  },
  {
   "cell_type": "code",
   "execution_count": null,
   "metadata": {},
   "outputs": [
    {
     "data": {
      "text/plain": [
       "{'A'}"
      ]
     },
     "execution_count": 7,
     "metadata": {},
     "output_type": "execute_result"
    },
    {
     "data": {
      "text/html": [
       "'A'\n",
       "        <span style='float:right; font-family:monospace; margin-right:75px;\n",
       "              font-weight:bold; background-color:#e5e5ff; color:#000'>\n",
       "          'e'</span>"
      ],
      "text/plain": [
       "'A'"
      ]
     },
     "execution_count": 7,
     "metadata": {},
     "output_type": "execute_result"
    }
   ],
   "source": [
    "console_handler.setLevel(logging.INFO)\n",
    "the = 'lambda f: iota(f) if len(charset(f)) == 1 else None'.et_e\n",
    "dog = 'lambda x: x in DOMAIN[:1]'.et\n",
    "charset(dog)\n",
    "the(dog)"
   ]
  },
  {
   "cell_type": "code",
   "execution_count": null,
   "metadata": {},
   "outputs": [],
   "source": [
    "#DOMAIN = DOMAIN[:3]\n",
    "#DOMAIN\n",
    "KILLED = Predicate({(A,B),})\n",
    "BLACK = Predicate({(B,), (C,)})\n",
    "CAT = Predicate({(B,)})\n",
    "ESCAPED = Predicate({(A,)})\n",
    "\n",
    "del KILLED\n",
    "del BLACK\n",
    "del CAT\n",
    "del ESCAPED"
   ]
  },
  {
   "cell_type": "code",
   "execution_count": null,
   "metadata": {},
   "outputs": [
    {
     "data": {
      "image/svg+xml": [
       "<svg baseProfile=\"full\" height=\"312px\" preserveAspectRatio=\"xMidYMid meet\" style=\"font-family: times, serif; font-weight: normal; font-style: normal; font-size: 16px\" version=\"1.1\" viewBox=\"0,0,344.0,312.0\" width=\"344px\" xmlns=\"http://www.w3.org/2000/svg\" xmlns:ev=\"http://www.w3.org/2001/xml-events\" xmlns:xlink=\"http://www.w3.org/1999/xlink\"><defs /><svg width=\"100%\" x=\"0\" y=\"0px\"><defs /><text text-anchor=\"middle\" x=\"50%\" y=\"16px\">S</text></svg><svg width=\"79.0698%\" x=\"0%\" y=\"48px\"><defs /><svg width=\"100%\" x=\"0\" y=\"0px\"><defs /><text text-anchor=\"middle\" x=\"50%\" y=\"16px\">DP</text></svg><svg width=\"14.7059%\" x=\"0%\" y=\"48px\"><defs /><svg width=\"100%\" x=\"0\" y=\"0px\"><defs /><text text-anchor=\"middle\" x=\"50%\" y=\"16px\">the</text></svg></svg><line stroke=\"black\" x1=\"50%\" x2=\"7.35294%\" y1=\"20px\" y2=\"48px\" /><svg width=\"85.2941%\" x=\"14.7059%\" y=\"48px\"><defs /><svg width=\"100%\" x=\"0\" y=\"0px\"><defs /><text text-anchor=\"middle\" x=\"50%\" y=\"16px\">NP</text></svg><svg width=\"27.5862%\" x=\"0%\" y=\"48px\"><defs /><svg width=\"100%\" x=\"0\" y=\"0px\"><defs /><text text-anchor=\"middle\" x=\"50%\" y=\"16px\">killer</text></svg></svg><line stroke=\"black\" x1=\"50%\" x2=\"13.7931%\" y1=\"20px\" y2=\"48px\" /><svg width=\"72.4138%\" x=\"27.5862%\" y=\"48px\"><defs /><svg width=\"100%\" x=\"0\" y=\"0px\"><defs /><text text-anchor=\"middle\" x=\"50%\" y=\"16px\">PP</text></svg><svg width=\"19.0476%\" x=\"0%\" y=\"48px\"><defs /><svg width=\"100%\" x=\"0\" y=\"0px\"><defs /><text text-anchor=\"middle\" x=\"50%\" y=\"16px\">of</text></svg></svg><line stroke=\"black\" x1=\"50%\" x2=\"9.52381%\" y1=\"20px\" y2=\"48px\" /><svg width=\"80.9524%\" x=\"19.0476%\" y=\"48px\"><defs /><svg width=\"100%\" x=\"0\" y=\"0px\"><defs /><text text-anchor=\"middle\" x=\"50%\" y=\"16px\">DP</text></svg><svg width=\"29.4118%\" x=\"0%\" y=\"48px\"><defs /><svg width=\"100%\" x=\"0\" y=\"0px\"><defs /><text text-anchor=\"middle\" x=\"50%\" y=\"16px\">the</text></svg></svg><line stroke=\"black\" x1=\"50%\" x2=\"14.7059%\" y1=\"20px\" y2=\"48px\" /><svg width=\"70.5882%\" x=\"29.4118%\" y=\"48px\"><defs /><svg width=\"100%\" x=\"0\" y=\"0px\"><defs /><text text-anchor=\"middle\" x=\"50%\" y=\"16px\">NP</text></svg><svg width=\"58.3333%\" x=\"0%\" y=\"48px\"><defs /><svg width=\"100%\" x=\"0\" y=\"0px\"><defs /><text text-anchor=\"middle\" x=\"50%\" y=\"16px\">black</text></svg></svg><line stroke=\"black\" x1=\"50%\" x2=\"29.1667%\" y1=\"20px\" y2=\"48px\" /><svg width=\"41.6667%\" x=\"58.3333%\" y=\"48px\"><defs /><svg width=\"100%\" x=\"0\" y=\"0px\"><defs /><text text-anchor=\"middle\" x=\"50%\" y=\"16px\">cat</text></svg></svg><line stroke=\"black\" x1=\"50%\" x2=\"79.1667%\" y1=\"20px\" y2=\"48px\" /></svg><line stroke=\"black\" x1=\"50%\" x2=\"64.7059%\" y1=\"20px\" y2=\"48px\" /></svg><line stroke=\"black\" x1=\"50%\" x2=\"59.5238%\" y1=\"20px\" y2=\"48px\" /></svg><line stroke=\"black\" x1=\"50%\" x2=\"63.7931%\" y1=\"20px\" y2=\"48px\" /></svg><line stroke=\"black\" x1=\"50%\" x2=\"57.3529%\" y1=\"20px\" y2=\"48px\" /></svg><line stroke=\"black\" x1=\"50%\" x2=\"39.5349%\" y1=\"20px\" y2=\"48px\" /><svg width=\"20.9302%\" x=\"79.0698%\" y=\"48px\"><defs /><svg width=\"100%\" x=\"0\" y=\"0px\"><defs /><text text-anchor=\"middle\" x=\"50%\" y=\"16px\">VP</text></svg><svg width=\"100%\" x=\"0%\" y=\"48px\"><defs /><svg width=\"100%\" x=\"0\" y=\"0px\"><defs /><text text-anchor=\"middle\" x=\"50%\" y=\"16px\">escaped</text></svg></svg><line stroke=\"black\" x1=\"50%\" x2=\"50%\" y1=\"20px\" y2=\"48px\" /></svg><line stroke=\"black\" x1=\"50%\" x2=\"89.5349%\" y1=\"20px\" y2=\"48px\" /></svg>"
      ],
      "text/plain": [
       "Tree('S', [Tree('DP', ['the', Tree('NP', ['killer', Tree('PP', ['of', Tree('DP', ['the', Tree('NP', ['black', 'cat'])])])])]), Tree('VP', ['escaped'])])"
      ]
     },
     "execution_count": 9,
     "metadata": {},
     "output_type": "execute_result"
    },
    {
     "name": "stderr",
     "output_type": "stream",
     "text": [
      "Interpreting (S (DP the (NP killer (PP of (DP the (NP black cat))))) (VP escaped)) with parameters: ()\u001b[0m\n",
      "   Interpreting (DP the (NP killer (PP of (DP the (NP black cat))))) with parameters: ()\u001b[0m\n",
      "      Interpreting the with parameters: ()\u001b[0m\n",
      "      => the = λf . iota(f) if len(charset(f)) == 1 else None \t(TN)\u001b[0m\n",
      "      Interpreting (NP killer (PP of (DP the (NP black cat)))) with parameters: ()\u001b[0m\n",
      "         Interpreting killer with parameters: ()\u001b[0m\n",
      "         => killer = λy . λx . KILLED(x, y) \t(TN)\u001b[0m\n",
      "         Interpreting (PP of (DP the (NP black cat))) with parameters: ()\u001b[0m\n",
      "            Interpreting of with parameters: ()\u001b[0m\n",
      "            => of = None \t(TN)\u001b[0m\n",
      "            Interpreting (DP the (NP black cat)) with parameters: ()\u001b[0m\n",
      "               Interpreting (NP black cat) with parameters: ()\u001b[0m\n",
      "                  Interpreting black with parameters: ()\u001b[0m\n",
      "                  => black = λx . BLACK(x) \t(TN)\u001b[0m\n",
      "                  Interpreting cat with parameters: ()\u001b[0m\n",
      "                  => cat = λx . CAT(x) \t(TN)\u001b[0m\n",
      "               => (NP black cat) = λx . BLACK(x) and CAT(x) \t(PM)\u001b[0m\n",
      "            => (DP the (NP black cat)) = iota(lambda x: BLACK(x) and CAT(x)) if len(charset(lambda x: BLACK(x) and CAT(x))) == 1 else None \t(FA)\u001b[0m\n",
      "\u001b[38;5;208m            Removing vacuous items: ['of']\u001b[0m\n",
      "         => (PP (DP the (NP black cat))) = iota(lambda x: BLACK(x) and CAT(x)) if len(charset(lambda x: BLACK(x) and CAT(x))) == 1 else None \t(NN)\u001b[0m\n",
      "      => (NP killer (PP of (DP the (NP black cat)))) = λx . KILLED(x, iota(lambda x: BLACK(x) and CAT(x)) if len(charset(lambda x: BLACK(x) and CAT(x))) == 1 else None) \t(FA)\u001b[0m\n",
      "   => (DP the (NP killer (PP of (DP the (NP black cat))))) = iota(lambda x: KILLED(x, iota(lambda x: BLACK(x) and CAT(x)) if len(charset(lambda x: BLACK(x) and CAT(x))) == 1 else None)) if len(charset(lambda x: KILLED(x, iota(lambda x: BLACK(x) and CAT(x)) if len(charset(lambda x: BLACK(x) and CAT(x))) == 1 else None))) == 1 else None \t(FA)\u001b[0m\n",
      "   Interpreting (VP escaped) with parameters: ()\u001b[0m\n",
      "      Interpreting escaped with parameters: ()\u001b[0m\n",
      "      => escaped = λx . ESCAPED(x) \t(TN)\u001b[0m\n",
      "   => (VP escaped) = λx . ESCAPED(x) \t(NN)\u001b[0m\n",
      "=> (S (DP the (NP killer (PP of (DP the (NP black cat))))) (VP escaped)) = ESCAPED(iota(lambda x: KILLED(x, iota(lambda x: BLACK(x) and CAT(x)) if len(charset(lambda x: BLACK(x) and CAT(x))) == 1 else None)) if len(charset(lambda x: KILLED(x, iota(lambda x: BLACK(x) and CAT(x)) if len(charset(lambda x: BLACK(x) and CAT(x))) == 1 else None))) == 1 else None) \t(AF)\u001b[0m\n"
     ]
    },
    {
     "data": {
      "text/html": [
       "ESCAPED(iota(lambda x: KILLED(x, iota(lambda x: BLACK(x) and CAT(x)) if len(charset(lambda x: BLACK(x) and CAT(x))) == 1 else None)) if len(charset(lambda x: KILLED(x, iota(lambda x: BLACK(x) and CAT(x)) if len(charset(lambda x: BLACK(x) and CAT(x))) == 1 else None))) == 1 else None)\n",
       "        <span style='float:right; font-family:monospace; margin-right:75px;\n",
       "              font-weight:bold; background-color:#e5e5ff; color:#000'>\n",
       "          't'</span>"
      ],
      "text/plain": [
       "ESCAPED(iota(lambda x: KILLED(x, iota(lambda x: BLACK(x) and CAT(x)) if len(charset(lambda x: BLACK(x) and CAT(x))) == 1 else None)) if len(charset(lambda x: KILLED(x, iota(lambda x: BLACK(x) and CAT(x)) if len(charset(lambda x: BLACK(x) and CAT(x))) == 1 else None))) == 1 else None)"
      ]
     },
     "execution_count": 9,
     "metadata": {},
     "output_type": "execute_result"
    }
   ],
   "source": [
    "m= Meaning()\n",
    "m.update({\n",
    "  'killer'  : 'lambda y: lambda x :KILLED(x,y)'.eet,\n",
    "  'black'   : 'lambda x: BLACK(x)'.et,\n",
    "  'cat'     : 'lambda x: CAT(x)'.et,\n",
    "  'escaped' : 'lambda x: ESCAPED(x)'.et,\n",
    "  'the'     : 'lambda f: ( len(charset(f))==1, iota(f) )'.et_e\n",
    "})\n",
    "\n",
    "from nltk import Tree\n",
    "tree = Tree.fromstring(\"\"\"\n",
    "(S  (DP the\n",
    "        (NP killer\n",
    "            (PP of\n",
    "                (DP the\n",
    "                    (NP black cat)\n",
    "                )\n",
    "            )\n",
    "        )\n",
    "    )\n",
    "    (VP escaped)\n",
    ")\n",
    "\"\"\")\n",
    "\n",
    "test = tree[0][1][1][1]\n",
    "test = tree\n",
    "test\n",
    "\n",
    "m[test]\n",
    "\n",
    "\n"
   ]
  },
  {
   "cell_type": "code",
   "execution_count": null,
   "metadata": {},
   "outputs": [
    {
     "data": {
      "text/plain": [
       "{('the',\n",
       "  ()): Function(\"lambda f: iota(f) if len(charset(f)) == 1 else None\", Type((('e', 't'), 'e'))),\n",
       " ('killer',\n",
       "  ()): Function(\"lambda y: lambda x: KILLED(x, y)\", Type(('e', ('e', 't')))),\n",
       " ('of', ()): None,\n",
       " ('black', ()): Function(\"lambda x: BLACK(x)\", Type(('e', 't'))),\n",
       " ('cat', ()): Function(\"lambda x: CAT(x)\", Type(('e', 't'))),\n",
       " (ImmutableTree('NP', ['black', 'cat']),\n",
       "  ()): Function(\"lambda x: BLACK(x) and CAT(x)\", Type(('e', 't'))),\n",
       " (ImmutableTree('DP', ['the', ImmutableTree('NP', ['black', 'cat'])]),\n",
       "  ()): iota(lambda x: BLACK(x) and CAT(x)) if len(charset(lambda x: BLACK(x) and CAT(x))) == 1 else None,\n",
       " (ImmutableTree('PP', ['of', ImmutableTree('DP', ['the', ImmutableTree('NP', ['black', 'cat'])])]),\n",
       "  ()): iota(lambda x: BLACK(x) and CAT(x)) if len(charset(lambda x: BLACK(x) and CAT(x))) == 1 else None,\n",
       " (ImmutableTree('NP', ['killer', ImmutableTree('PP', ['of', ImmutableTree('DP', ['the', ImmutableTree('NP', ['black', 'cat'])])])]),\n",
       "  ()): Function(\"lambda x: KILLED(x, iota(lambda x: BLACK(x) and CAT(x)) if len(charset(lambda x: BLACK(x) and CAT(x))) == 1 else None)\", Type(('e', 't'))),\n",
       " (ImmutableTree('DP', ['the', ImmutableTree('NP', ['killer', ImmutableTree('PP', ['of', ImmutableTree('DP', ['the', ImmutableTree('NP', ['black', 'cat'])])])])]),\n",
       "  ()): iota(lambda x: KILLED(x, iota(lambda x: BLACK(x) and CAT(x)) if len(charset(lambda x: BLACK(x) and CAT(x))) == 1 else None)) if len(charset(lambda x: KILLED(x, iota(lambda x: BLACK(x) and CAT(x)) if len(charset(lambda x: BLACK(x) and CAT(x))) == 1 else None))) == 1 else None,\n",
       " ('escaped', ()): Function(\"lambda x: ESCAPED(x)\", Type(('e', 't'))),\n",
       " (ImmutableTree('VP', ['escaped']),\n",
       "  ()): Function(\"lambda x: ESCAPED(x)\", Type(('e', 't')))}"
      ]
     },
     "execution_count": 10,
     "metadata": {},
     "output_type": "execute_result"
    }
   ],
   "source": [
    "m.memo"
   ]
  },
  {
   "cell_type": "code",
   "execution_count": null,
   "metadata": {},
   "outputs": [
    {
     "data": {
      "image/svg+xml": [
       "<svg baseProfile=\"full\" height=\"264px\" preserveAspectRatio=\"xMidYMid meet\" style=\"font-family: times, serif; font-weight: normal; font-style: normal; font-size: 16px\" version=\"1.1\" viewBox=\"0,0,304.0,264.0\" width=\"304px\" xmlns=\"http://www.w3.org/2000/svg\" xmlns:ev=\"http://www.w3.org/2001/xml-events\" xmlns:xlink=\"http://www.w3.org/1999/xlink\"><defs /><svg width=\"100%\" x=\"0\" y=\"0px\"><defs /><text text-anchor=\"middle\" x=\"50%\" y=\"16px\">S</text></svg><svg width=\"21.0526%\" x=\"0%\" y=\"48px\"><defs /><svg width=\"100%\" x=\"0\" y=\"0px\"><defs /><text text-anchor=\"middle\" x=\"50%\" y=\"16px\">NP</text></svg><svg width=\"100%\" x=\"0%\" y=\"48px\"><defs /><svg width=\"100%\" x=\"0\" y=\"0px\"><defs /><text text-anchor=\"middle\" x=\"50%\" y=\"16px\">Julius</text></svg></svg><line stroke=\"black\" x1=\"50%\" x2=\"50%\" y1=\"20px\" y2=\"48px\" /></svg><line stroke=\"black\" x1=\"50%\" x2=\"10.5263%\" y1=\"20px\" y2=\"48px\" /><svg width=\"78.9474%\" x=\"21.0526%\" y=\"48px\"><defs /><svg width=\"100%\" x=\"0\" y=\"0px\"><defs /><text text-anchor=\"middle\" x=\"50%\" y=\"16px\">VP</text></svg><svg width=\"13.3333%\" x=\"0%\" y=\"48px\"><defs /><svg width=\"100%\" x=\"0\" y=\"0px\"><defs /><text text-anchor=\"middle\" x=\"50%\" y=\"16px\">is</text></svg></svg><line stroke=\"black\" x1=\"50%\" x2=\"6.66667%\" y1=\"20px\" y2=\"48px\" /><svg width=\"86.6667%\" x=\"13.3333%\" y=\"48px\"><defs /><svg width=\"100%\" x=\"0\" y=\"0px\"><defs /><text text-anchor=\"middle\" x=\"50%\" y=\"16px\">VP</text></svg><svg width=\"38.4615%\" x=\"0%\" y=\"48px\"><defs /><svg width=\"100%\" x=\"0\" y=\"0px\"><defs /><text text-anchor=\"middle\" x=\"50%\" y=\"16px\">sleeping</text></svg></svg><line stroke=\"black\" x1=\"50%\" x2=\"19.2308%\" y1=\"20px\" y2=\"48px\" /><svg width=\"61.5385%\" x=\"38.4615%\" y=\"48px\"><defs /><svg width=\"100%\" x=\"0\" y=\"0px\"><defs /><text text-anchor=\"middle\" x=\"50%\" y=\"16px\">PP</text></svg><svg width=\"25%\" x=\"0%\" y=\"48px\"><defs /><svg width=\"100%\" x=\"0\" y=\"0px\"><defs /><text text-anchor=\"middle\" x=\"50%\" y=\"16px\">on</text></svg></svg><line stroke=\"black\" x1=\"50%\" x2=\"12.5%\" y1=\"20px\" y2=\"48px\" /><svg width=\"75%\" x=\"25%\" y=\"48px\"><defs /><svg width=\"100%\" x=\"0\" y=\"0px\"><defs /><text text-anchor=\"middle\" x=\"50%\" y=\"16px\">NP</text></svg><svg width=\"41.6667%\" x=\"0%\" y=\"48px\"><defs /><svg width=\"100%\" x=\"0\" y=\"0px\"><defs /><text text-anchor=\"middle\" x=\"50%\" y=\"16px\">the</text></svg></svg><line stroke=\"black\" x1=\"50%\" x2=\"20.8333%\" y1=\"20px\" y2=\"48px\" /><svg width=\"58.3333%\" x=\"41.6667%\" y=\"48px\"><defs /><svg width=\"100%\" x=\"0\" y=\"0px\"><defs /><text text-anchor=\"middle\" x=\"50%\" y=\"16px\">couch</text></svg></svg><line stroke=\"black\" x1=\"50%\" x2=\"70.8333%\" y1=\"20px\" y2=\"48px\" /></svg><line stroke=\"black\" x1=\"50%\" x2=\"62.5%\" y1=\"20px\" y2=\"48px\" /></svg><line stroke=\"black\" x1=\"50%\" x2=\"69.2308%\" y1=\"20px\" y2=\"48px\" /></svg><line stroke=\"black\" x1=\"50%\" x2=\"56.6667%\" y1=\"20px\" y2=\"48px\" /></svg><line stroke=\"black\" x1=\"50%\" x2=\"60.5263%\" y1=\"20px\" y2=\"48px\" /></svg>"
      ],
      "text/plain": [
       "Tree('S', [Tree('NP', ['Julius']), Tree('VP', ['is', Tree('VP', ['sleeping', Tree('PP', ['on', Tree('NP', ['the', 'couch'])])])])])"
      ]
     },
     "execution_count": 11,
     "metadata": {},
     "output_type": "execute_result"
    }
   ],
   "source": [
    "from nltk import Tree\n",
    "tree = Tree.fromstring(\"\"\"\n",
    "(S\n",
    "  (NP Julius)\n",
    "  (VP is\n",
    "      (VP sleeping\n",
    "          (PP on (NP the couch))\n",
    "      )\n",
    "  )\n",
    ")\"\"\")\n",
    "tree\n",
    "\n",
    "m = Meaning({\n",
    "    'Julius'    : 'J'.e,\n",
    "    'the'       : 'lambda f: iota(f)'.et_e,\n",
    "\n",
    "})\n",
    "\n",
    "#m[tree]"
   ]
  },
  {
   "cell_type": "code",
   "execution_count": null,
   "metadata": {},
   "outputs": [],
   "source": [
    "#!pip install nltk\n",
    "from nltk import Tree\n",
    "#!pip install svgling"
   ]
  },
  {
   "cell_type": "code",
   "execution_count": null,
   "metadata": {},
   "outputs": [
    {
     "data": {
      "text/plain": [
       "1"
      ]
     },
     "execution_count": 13,
     "metadata": {},
     "output_type": "execute_result"
    }
   ],
   "source": [
    "node = parse('PAWN(\"A\")', mode='eval')\n",
    "obj = compile(node, '<string>', 'eval')\n",
    "eval(obj)"
   ]
  },
  {
   "cell_type": "code",
   "execution_count": null,
   "metadata": {},
   "outputs": [
    {
     "name": "stderr",
     "output_type": "stream",
     "text": [
      "Interpreting ('Joe', 'cat') with parameters: ()\u001b[0m\n",
      "   Interpreting Joe with parameters: ()\u001b[0m\n",
      "   => Joe = 'J' \t(TN)\u001b[0m\n",
      "   Interpreting cat with parameters: ()\u001b[0m\n",
      "   => cat = λx . CAT(x) \t(TN)\u001b[0m\n",
      "=> ('Joe', 'cat') = CAT('J') \t(AF)\u001b[0m\n"
     ]
    },
    {
     "data": {
      "text/html": [
       "CAT('J')\n",
       "        <span style='float:right; font-family:monospace; margin-right:75px;\n",
       "              font-weight:bold; background-color:#e5e5ff; color:#000'>\n",
       "          't'</span>"
      ],
      "text/plain": [
       "CAT('J')"
      ]
     },
     "execution_count": 14,
     "metadata": {},
     "output_type": "execute_result"
    }
   ],
   "source": [
    "m = Meaning({\n",
    "    'Joe'     : 'J'.e,\n",
    "    'Kaline'  : 'K'.e,\n",
    "    'cat'     : 'lambda x: CAT(x)'.et,\n",
    "    'gray'    : 'lambda f : lambda x: f(x) and GRAY(x)'.et_et,\n",
    "})\n",
    "\n",
    "m['Joe', 'cat']"
   ]
  },
  {
   "cell_type": "code",
   "execution_count": null,
   "metadata": {},
   "outputs": [
    {
     "data": {
      "image/svg+xml": [
       "<svg baseProfile=\"full\" height=\"216px\" preserveAspectRatio=\"xMidYMid meet\" style=\"font-family: times, serif; font-weight: normal; font-style: normal; font-size: 16px\" version=\"1.1\" viewBox=\"0,0,200.0,216.0\" width=\"200px\" xmlns=\"http://www.w3.org/2000/svg\" xmlns:ev=\"http://www.w3.org/2001/xml-events\" xmlns:xlink=\"http://www.w3.org/1999/xlink\"><defs /><svg width=\"100%\" x=\"0\" y=\"0px\"><defs /><text text-anchor=\"middle\" x=\"50%\" y=\"16px\">S</text></svg><svg width=\"20%\" x=\"0%\" y=\"48px\"><defs /><svg width=\"100%\" x=\"0\" y=\"0px\"><defs /><text text-anchor=\"middle\" x=\"50%\" y=\"16px\">NP</text></svg><svg width=\"100%\" x=\"0%\" y=\"48px\"><defs /><svg width=\"100%\" x=\"0\" y=\"0px\"><defs /><text text-anchor=\"middle\" x=\"50%\" y=\"16px\">Joe</text></svg></svg><line stroke=\"black\" x1=\"50%\" x2=\"50%\" y1=\"20px\" y2=\"48px\" /></svg><line stroke=\"black\" x1=\"50%\" x2=\"10%\" y1=\"20px\" y2=\"48px\" /><svg width=\"80%\" x=\"20%\" y=\"48px\"><defs /><svg width=\"100%\" x=\"0\" y=\"0px\"><defs /><text text-anchor=\"middle\" x=\"50%\" y=\"16px\">VP</text></svg><svg width=\"25%\" x=\"0%\" y=\"48px\"><defs /><svg width=\"100%\" x=\"0\" y=\"0px\"><defs /><text text-anchor=\"middle\" x=\"50%\" y=\"16px\">cat</text></svg></svg><line stroke=\"black\" x1=\"50%\" x2=\"12.5%\" y1=\"20px\" y2=\"48px\" /><svg width=\"75%\" x=\"25%\" y=\"48px\"><defs /><svg width=\"100%\" x=\"0\" y=\"0px\"><defs /><text text-anchor=\"middle\" x=\"50%\" y=\"16px\">VP</text></svg><svg width=\"26.6667%\" x=\"0%\" y=\"48px\"><defs /><svg width=\"100%\" x=\"0\" y=\"0px\"><defs /><text text-anchor=\"middle\" x=\"50%\" y=\"16px\">V</text></svg><svg width=\"100%\" x=\"0%\" y=\"48px\"><defs /><svg width=\"100%\" x=\"0\" y=\"0px\"><defs /><text text-anchor=\"middle\" x=\"50%\" y=\"16px\">is</text></svg></svg><line stroke=\"black\" x1=\"50%\" x2=\"50%\" y1=\"20px\" y2=\"48px\" /></svg><line stroke=\"black\" x1=\"50%\" x2=\"13.3333%\" y1=\"20px\" y2=\"48px\" /><svg width=\"73.3333%\" x=\"26.6667%\" y=\"48px\"><defs /><svg width=\"100%\" x=\"0\" y=\"0px\"><defs /><text text-anchor=\"middle\" x=\"50%\" y=\"16px\">NP</text></svg><svg width=\"45.4545%\" x=\"0%\" y=\"48px\"><defs /><svg width=\"100%\" x=\"0\" y=\"0px\"><defs /><text text-anchor=\"middle\" x=\"50%\" y=\"16px\">cat</text></svg></svg><line stroke=\"black\" x1=\"50%\" x2=\"22.7273%\" y1=\"20px\" y2=\"48px\" /><svg width=\"54.5455%\" x=\"45.4545%\" y=\"48px\"><defs /><svg width=\"100%\" x=\"0\" y=\"0px\"><defs /><text text-anchor=\"middle\" x=\"50%\" y=\"16px\">gray</text></svg></svg><line stroke=\"black\" x1=\"50%\" x2=\"72.7273%\" y1=\"20px\" y2=\"48px\" /></svg><line stroke=\"black\" x1=\"50%\" x2=\"63.3333%\" y1=\"20px\" y2=\"48px\" /></svg><line stroke=\"black\" x1=\"50%\" x2=\"62.5%\" y1=\"20px\" y2=\"48px\" /></svg><line stroke=\"black\" x1=\"50%\" x2=\"60%\" y1=\"20px\" y2=\"48px\" /></svg>"
      ],
      "text/plain": [
       "Tree('S', [Tree('NP', ['Joe']), Tree('VP', ['cat', Tree('VP', [Tree('V', ['is']), Tree('NP', ['cat', 'gray'])])])])"
      ]
     },
     "execution_count": 15,
     "metadata": {},
     "output_type": "execute_result"
    },
    {
     "name": "stderr",
     "output_type": "stream",
     "text": [
      "Interpreting (S (NP Joe) (VP cat (VP (V is) (NP cat gray)))) with parameters: ()\u001b[0m\n",
      "   Interpreting (NP Joe) with parameters: ()\u001b[0m\n",
      "      Interpreting Joe with parameters: ()\u001b[0m\n",
      "      => Joe = 'J' \t(TN)\u001b[0m\n",
      "   => (NP Joe) = 'J' \t(NN)\u001b[0m\n",
      "   Interpreting (VP cat (VP (V is) (NP cat gray))) with parameters: ()\u001b[0m\n",
      "      Interpreting cat with parameters: ()\u001b[0m\n",
      "      => cat = λx . CAT(x) \t(TN)\u001b[0m\n",
      "      Interpreting (VP (V is) (NP cat gray)) with parameters: ()\u001b[0m\n",
      "         Interpreting (V is) with parameters: ()\u001b[0m\n",
      "            Interpreting is with parameters: ()\u001b[0m\n",
      "            => is = None \t(TN)\u001b[0m\n",
      "\u001b[38;5;208m            Removing vacuous items: ['is']\u001b[0m\n",
      "\u001b[38;5;208m            No non-vacuous children in node (V )\u001b[0m\n",
      "         => (V ) = None \t(NN)\u001b[0m\n",
      "         Interpreting (NP cat gray) with parameters: ()\u001b[0m\n",
      "            Interpreting gray with parameters: ()\u001b[0m\n",
      "            => gray = λf . λx . f(x) and GRAY(x) \t(TN)\u001b[0m\n",
      "         => (NP cat gray) = λx . CAT(x) and GRAY(x) \t(AF)\u001b[0m\n",
      "\u001b[38;5;208m         Removing vacuous items: [Tree('V', ['is'])]\u001b[0m\n",
      "      => (VP (NP cat gray)) = λx . CAT(x) and GRAY(x) \t(NN)\u001b[0m\n",
      "   => (VP cat (VP (V is) (NP cat gray))) = λx . CAT(x) and (CAT(x) and GRAY(x)) \t(PM)\u001b[0m\n",
      "=> (S (NP Joe) (VP cat (VP (V is) (NP cat gray)))) = CAT('J') and (CAT('J') and GRAY('J')) \t(AF)\u001b[0m\n"
     ]
    },
    {
     "data": {
      "text/html": [
       "CAT('J') and (CAT('J') and GRAY('J'))\n",
       "        <span style='float:right; font-family:monospace; margin-right:75px;\n",
       "              font-weight:bold; background-color:#e5e5ff; color:#000'>\n",
       "          't'</span>"
      ],
      "text/plain": [
       "CAT('J') and (CAT('J') and GRAY('J'))"
      ]
     },
     "execution_count": 15,
     "metadata": {},
     "output_type": "execute_result"
    }
   ],
   "source": [
    "t = Tree.fromstring('(S (NP Joe) (VP cat (VP (V is) (NP cat gray))))')\n",
    "t\n",
    "\n",
    "m[t]"
   ]
  },
  {
   "cell_type": "code",
   "execution_count": null,
   "metadata": {},
   "outputs": [
    {
     "name": "stderr",
     "output_type": "stream",
     "text": [
      "Interpreting gray with parameters: ()\u001b[0m\n",
      "=> gray = λf . λx . f(x) and GRAY(x) \t(TN)\u001b[0m\n"
     ]
    },
    {
     "data": {
      "text/html": [
       "λf . λx . f(x) and GRAY(x)\n",
       "        <span style='float:right; font-family:monospace; margin-right:75px;\n",
       "              font-weight:bold; background-color:#e5e5ff; color:#000'>\n",
       "          ('e', (('e', 't'), 't'))</span>"
      ],
      "text/plain": [
       "Function(\"lambda f: lambda x: f(x) and GRAY(x)\", Type(('e', (('e', 't'), 't'))))"
      ]
     },
     "execution_count": 16,
     "metadata": {},
     "output_type": "execute_result"
    },
    {
     "name": "stderr",
     "output_type": "stream",
     "text": [
      "Interpreting (S (NP Joe) (VP cat (VP (V is) (NP cat gray)))) with parameters: ()\u001b[0m\n",
      "   Interpreting (NP Joe) with parameters: ()\u001b[0m\n",
      "      Interpreting Joe with parameters: ()\u001b[0m\n",
      "      => Joe = 'J' \t(TN)\u001b[0m\n",
      "   => (NP Joe) = 'J' \t(NN)\u001b[0m\n",
      "   Interpreting (VP cat (VP (V is) (NP cat gray))) with parameters: ()\u001b[0m\n",
      "      Interpreting cat with parameters: ()\u001b[0m\n",
      "      => cat = λx . CAT(x) \t(TN)\u001b[0m\n",
      "      Interpreting (VP (V is) (NP cat gray)) with parameters: ()\u001b[0m\n",
      "         Interpreting (V is) with parameters: ()\u001b[0m\n",
      "            Interpreting is with parameters: ()\u001b[0m\n",
      "            => is = None \t(TN)\u001b[0m\n",
      "\u001b[38;5;208m            Removing vacuous items: ['is']\u001b[0m\n",
      "\u001b[38;5;208m            No non-vacuous children in node (V )\u001b[0m\n",
      "         => (V ) = None \t(NN)\u001b[0m\n",
      "         Interpreting (NP cat gray) with parameters: ()\u001b[0m\n",
      "            Interpreting gray with parameters: ()\u001b[0m\n",
      "            => gray = λf . λx . f(x) and GRAY(x) \t(TN)\u001b[0m\n",
      "\u001b[91m!!! Error interpreting node (NP cat gray):\n",
      " No rule found to combine cat and gray\u001b[0m\n",
      "\u001b[91m!!! Error interpreting node (VP (V is) (NP cat gray)):\n",
      " No rule found to combine cat and gray\u001b[0m\n",
      "\u001b[91m!!! Error interpreting node (VP cat (VP (V is) (NP cat gray))):\n",
      " No rule found to combine cat and gray\u001b[0m\n",
      "\u001b[91m!!! Error interpreting node (S (NP Joe) (VP cat (VP (V is) (NP cat gray)))):\n",
      " No rule found to combine cat and gray\u001b[0m\n"
     ]
    },
    {
     "ename": "ValueError",
     "evalue": "No rule found to combine cat and gray",
     "output_type": "error",
     "traceback": [
      "\u001b[0;31m---------------------------------------------------------------------------\u001b[0m",
      "\u001b[0;31mValueError\u001b[0m                                Traceback (most recent call last)",
      "Cell \u001b[0;32mIn[16], line 6\u001b[0m\n\u001b[1;32m      1\u001b[0m m\u001b[38;5;241m.\u001b[39mupdate({\n\u001b[1;32m      2\u001b[0m   \u001b[38;5;124m'\u001b[39m\u001b[38;5;124mgray\u001b[39m\u001b[38;5;124m'\u001b[39m    : \u001b[38;5;124m'\u001b[39m\u001b[38;5;124mlambda f : lambda x: f(x) and GRAY(x)\u001b[39m\u001b[38;5;124m'\u001b[39m\u001b[38;5;241m.\u001b[39meet_t,\n\u001b[1;32m      3\u001b[0m   })\n\u001b[1;32m      5\u001b[0m m[\u001b[38;5;124m'\u001b[39m\u001b[38;5;124mgray\u001b[39m\u001b[38;5;124m'\u001b[39m]\n\u001b[0;32m----> 6\u001b[0m \u001b[43mm\u001b[49m\u001b[43m[\u001b[49m\u001b[43mt\u001b[49m\u001b[43m]\u001b[49m\n",
      "File \u001b[0;32m/workspaces/ling516/phosphorus/meaning.py:64\u001b[0m, in \u001b[0;36mMeaning.__getitem__\u001b[0;34m(self, k)\u001b[0m\n\u001b[1;32m     62\u001b[0m     \u001b[38;5;28mself\u001b[39m\u001b[38;5;241m.\u001b[39mmemo[k,hargs] \u001b[38;5;241m=\u001b[39m \u001b[38;5;28mself\u001b[39m\u001b[38;5;241m.\u001b[39minterpret(k, \u001b[38;5;241m*\u001b[39margs)\n\u001b[1;32m     63\u001b[0m   \u001b[38;5;28;01mreturn\u001b[39;00m \u001b[38;5;28mself\u001b[39m\u001b[38;5;241m.\u001b[39mmemo[k,hargs]\n\u001b[0;32m---> 64\u001b[0m \u001b[38;5;28;01mreturn\u001b[39;00m \u001b[38;5;28;43mself\u001b[39;49m\u001b[38;5;241;43m.\u001b[39;49m\u001b[43minterpret\u001b[49m\u001b[43m(\u001b[49m\u001b[43mk\u001b[49m\u001b[43m,\u001b[49m\u001b[43m \u001b[49m\u001b[38;5;241;43m*\u001b[39;49m\u001b[43margs\u001b[49m\u001b[43m)\u001b[49m\n",
      "File \u001b[0;32m/workspaces/ling516/phosphorus/meaning.py:109\u001b[0m, in \u001b[0;36mMeaning.interpret\u001b[0;34m(self, alpha, *args)\u001b[0m\n\u001b[1;32m    107\u001b[0m \u001b[38;5;28mself\u001b[39m\u001b[38;5;241m.\u001b[39mindent \u001b[38;5;241m=\u001b[39m \u001b[38;5;124m'\u001b[39m\u001b[38;5;124m'\u001b[39m\n\u001b[1;32m    108\u001b[0m m\u001b[38;5;241m.\u001b[39mprint(\u001b[38;5;124mf\u001b[39m\u001b[38;5;124m'\u001b[39m\u001b[38;5;124m!!! Error interpreting node \u001b[39m\u001b[38;5;132;01m{\u001b[39;00malpha\u001b[38;5;132;01m}\u001b[39;00m\u001b[38;5;124m:\u001b[39m\u001b[38;5;130;01m\\n\u001b[39;00m\u001b[38;5;124m \u001b[39m\u001b[38;5;132;01m{\u001b[39;00me\u001b[38;5;132;01m}\u001b[39;00m\u001b[38;5;124m'\u001b[39m, level\u001b[38;5;241m=\u001b[39mlogging\u001b[38;5;241m.\u001b[39mERROR)\n\u001b[0;32m--> 109\u001b[0m \u001b[38;5;28;01mraise\u001b[39;00m e\n",
      "File \u001b[0;32m/workspaces/ling516/phosphorus/meaning.py:85\u001b[0m, in \u001b[0;36mMeaning.interpret\u001b[0;34m(self, alpha, *args)\u001b[0m\n\u001b[1;32m     83\u001b[0m   \u001b[38;5;28;01mraise\u001b[39;00m \u001b[38;5;167;01mValueError\u001b[39;00m(\u001b[38;5;124mf\u001b[39m\u001b[38;5;124m'\u001b[39m\u001b[38;5;124mNode \u001b[39m\u001b[38;5;132;01m{\u001b[39;00malpha\u001b[38;5;132;01m}\u001b[39;00m\u001b[38;5;124m has no children\u001b[39m\u001b[38;5;124m'\u001b[39m)\n\u001b[1;32m     84\u001b[0m alpha \u001b[38;5;241m=\u001b[39m make_mutable(alpha)\n\u001b[0;32m---> 85\u001b[0m vacuous \u001b[38;5;241m=\u001b[39m [x \u001b[38;5;28;01mfor\u001b[39;00m x \u001b[38;5;129;01min\u001b[39;00m alpha \u001b[38;5;28;01mif\u001b[39;00m \u001b[43mm\u001b[49m\u001b[43m[\u001b[49m\u001b[43mx\u001b[49m\u001b[43m:\u001b[49m\u001b[43margs\u001b[49m\u001b[43m]\u001b[49m \u001b[38;5;129;01mis\u001b[39;00m \u001b[38;5;28;01mNone\u001b[39;00m]\n\u001b[1;32m     86\u001b[0m \u001b[38;5;28;01mif\u001b[39;00m vacuous:\n\u001b[1;32m     87\u001b[0m   m\u001b[38;5;241m.\u001b[39mprint(\u001b[38;5;124m'\u001b[39m\u001b[38;5;124mRemoving vacuous items:\u001b[39m\u001b[38;5;124m'\u001b[39m, vacuous, level\u001b[38;5;241m=\u001b[39mlogging\u001b[38;5;241m.\u001b[39mWARNING)\n",
      "File \u001b[0;32m/workspaces/ling516/phosphorus/meaning.py:62\u001b[0m, in \u001b[0;36mMeaning.__getitem__\u001b[0;34m(self, k)\u001b[0m\n\u001b[1;32m     60\u001b[0m   hargs \u001b[38;5;241m=\u001b[39m make_hashable(args)\n\u001b[1;32m     61\u001b[0m   \u001b[38;5;28;01mif\u001b[39;00m (k, hargs) \u001b[38;5;129;01mnot\u001b[39;00m \u001b[38;5;129;01min\u001b[39;00m \u001b[38;5;28mself\u001b[39m\u001b[38;5;241m.\u001b[39mmemo:\n\u001b[0;32m---> 62\u001b[0m     \u001b[38;5;28mself\u001b[39m\u001b[38;5;241m.\u001b[39mmemo[k,hargs] \u001b[38;5;241m=\u001b[39m \u001b[38;5;28;43mself\u001b[39;49m\u001b[38;5;241;43m.\u001b[39;49m\u001b[43minterpret\u001b[49m\u001b[43m(\u001b[49m\u001b[43mk\u001b[49m\u001b[43m,\u001b[49m\u001b[43m \u001b[49m\u001b[38;5;241;43m*\u001b[39;49m\u001b[43margs\u001b[49m\u001b[43m)\u001b[49m\n\u001b[1;32m     63\u001b[0m   \u001b[38;5;28;01mreturn\u001b[39;00m \u001b[38;5;28mself\u001b[39m\u001b[38;5;241m.\u001b[39mmemo[k,hargs]\n\u001b[1;32m     64\u001b[0m \u001b[38;5;28;01mreturn\u001b[39;00m \u001b[38;5;28mself\u001b[39m\u001b[38;5;241m.\u001b[39minterpret(k, \u001b[38;5;241m*\u001b[39margs)\n",
      "File \u001b[0;32m/workspaces/ling516/phosphorus/meaning.py:109\u001b[0m, in \u001b[0;36mMeaning.interpret\u001b[0;34m(self, alpha, *args)\u001b[0m\n\u001b[1;32m    107\u001b[0m \u001b[38;5;28mself\u001b[39m\u001b[38;5;241m.\u001b[39mindent \u001b[38;5;241m=\u001b[39m \u001b[38;5;124m'\u001b[39m\u001b[38;5;124m'\u001b[39m\n\u001b[1;32m    108\u001b[0m m\u001b[38;5;241m.\u001b[39mprint(\u001b[38;5;124mf\u001b[39m\u001b[38;5;124m'\u001b[39m\u001b[38;5;124m!!! Error interpreting node \u001b[39m\u001b[38;5;132;01m{\u001b[39;00malpha\u001b[38;5;132;01m}\u001b[39;00m\u001b[38;5;124m:\u001b[39m\u001b[38;5;130;01m\\n\u001b[39;00m\u001b[38;5;124m \u001b[39m\u001b[38;5;132;01m{\u001b[39;00me\u001b[38;5;132;01m}\u001b[39;00m\u001b[38;5;124m'\u001b[39m, level\u001b[38;5;241m=\u001b[39mlogging\u001b[38;5;241m.\u001b[39mERROR)\n\u001b[0;32m--> 109\u001b[0m \u001b[38;5;28;01mraise\u001b[39;00m e\n",
      "File \u001b[0;32m/workspaces/ling516/phosphorus/meaning.py:85\u001b[0m, in \u001b[0;36mMeaning.interpret\u001b[0;34m(self, alpha, *args)\u001b[0m\n\u001b[1;32m     83\u001b[0m   \u001b[38;5;28;01mraise\u001b[39;00m \u001b[38;5;167;01mValueError\u001b[39;00m(\u001b[38;5;124mf\u001b[39m\u001b[38;5;124m'\u001b[39m\u001b[38;5;124mNode \u001b[39m\u001b[38;5;132;01m{\u001b[39;00malpha\u001b[38;5;132;01m}\u001b[39;00m\u001b[38;5;124m has no children\u001b[39m\u001b[38;5;124m'\u001b[39m)\n\u001b[1;32m     84\u001b[0m alpha \u001b[38;5;241m=\u001b[39m make_mutable(alpha)\n\u001b[0;32m---> 85\u001b[0m vacuous \u001b[38;5;241m=\u001b[39m [x \u001b[38;5;28;01mfor\u001b[39;00m x \u001b[38;5;129;01min\u001b[39;00m alpha \u001b[38;5;28;01mif\u001b[39;00m \u001b[43mm\u001b[49m\u001b[43m[\u001b[49m\u001b[43mx\u001b[49m\u001b[43m:\u001b[49m\u001b[43margs\u001b[49m\u001b[43m]\u001b[49m \u001b[38;5;129;01mis\u001b[39;00m \u001b[38;5;28;01mNone\u001b[39;00m]\n\u001b[1;32m     86\u001b[0m \u001b[38;5;28;01mif\u001b[39;00m vacuous:\n\u001b[1;32m     87\u001b[0m   m\u001b[38;5;241m.\u001b[39mprint(\u001b[38;5;124m'\u001b[39m\u001b[38;5;124mRemoving vacuous items:\u001b[39m\u001b[38;5;124m'\u001b[39m, vacuous, level\u001b[38;5;241m=\u001b[39mlogging\u001b[38;5;241m.\u001b[39mWARNING)\n",
      "File \u001b[0;32m/workspaces/ling516/phosphorus/meaning.py:62\u001b[0m, in \u001b[0;36mMeaning.__getitem__\u001b[0;34m(self, k)\u001b[0m\n\u001b[1;32m     60\u001b[0m   hargs \u001b[38;5;241m=\u001b[39m make_hashable(args)\n\u001b[1;32m     61\u001b[0m   \u001b[38;5;28;01mif\u001b[39;00m (k, hargs) \u001b[38;5;129;01mnot\u001b[39;00m \u001b[38;5;129;01min\u001b[39;00m \u001b[38;5;28mself\u001b[39m\u001b[38;5;241m.\u001b[39mmemo:\n\u001b[0;32m---> 62\u001b[0m     \u001b[38;5;28mself\u001b[39m\u001b[38;5;241m.\u001b[39mmemo[k,hargs] \u001b[38;5;241m=\u001b[39m \u001b[38;5;28;43mself\u001b[39;49m\u001b[38;5;241;43m.\u001b[39;49m\u001b[43minterpret\u001b[49m\u001b[43m(\u001b[49m\u001b[43mk\u001b[49m\u001b[43m,\u001b[49m\u001b[43m \u001b[49m\u001b[38;5;241;43m*\u001b[39;49m\u001b[43margs\u001b[49m\u001b[43m)\u001b[49m\n\u001b[1;32m     63\u001b[0m   \u001b[38;5;28;01mreturn\u001b[39;00m \u001b[38;5;28mself\u001b[39m\u001b[38;5;241m.\u001b[39mmemo[k,hargs]\n\u001b[1;32m     64\u001b[0m \u001b[38;5;28;01mreturn\u001b[39;00m \u001b[38;5;28mself\u001b[39m\u001b[38;5;241m.\u001b[39minterpret(k, \u001b[38;5;241m*\u001b[39margs)\n",
      "File \u001b[0;32m/workspaces/ling516/phosphorus/meaning.py:109\u001b[0m, in \u001b[0;36mMeaning.interpret\u001b[0;34m(self, alpha, *args)\u001b[0m\n\u001b[1;32m    107\u001b[0m \u001b[38;5;28mself\u001b[39m\u001b[38;5;241m.\u001b[39mindent \u001b[38;5;241m=\u001b[39m \u001b[38;5;124m'\u001b[39m\u001b[38;5;124m'\u001b[39m\n\u001b[1;32m    108\u001b[0m m\u001b[38;5;241m.\u001b[39mprint(\u001b[38;5;124mf\u001b[39m\u001b[38;5;124m'\u001b[39m\u001b[38;5;124m!!! Error interpreting node \u001b[39m\u001b[38;5;132;01m{\u001b[39;00malpha\u001b[38;5;132;01m}\u001b[39;00m\u001b[38;5;124m:\u001b[39m\u001b[38;5;130;01m\\n\u001b[39;00m\u001b[38;5;124m \u001b[39m\u001b[38;5;132;01m{\u001b[39;00me\u001b[38;5;132;01m}\u001b[39;00m\u001b[38;5;124m'\u001b[39m, level\u001b[38;5;241m=\u001b[39mlogging\u001b[38;5;241m.\u001b[39mERROR)\n\u001b[0;32m--> 109\u001b[0m \u001b[38;5;28;01mraise\u001b[39;00m e\n",
      "File \u001b[0;32m/workspaces/ling516/phosphorus/meaning.py:85\u001b[0m, in \u001b[0;36mMeaning.interpret\u001b[0;34m(self, alpha, *args)\u001b[0m\n\u001b[1;32m     83\u001b[0m   \u001b[38;5;28;01mraise\u001b[39;00m \u001b[38;5;167;01mValueError\u001b[39;00m(\u001b[38;5;124mf\u001b[39m\u001b[38;5;124m'\u001b[39m\u001b[38;5;124mNode \u001b[39m\u001b[38;5;132;01m{\u001b[39;00malpha\u001b[38;5;132;01m}\u001b[39;00m\u001b[38;5;124m has no children\u001b[39m\u001b[38;5;124m'\u001b[39m)\n\u001b[1;32m     84\u001b[0m alpha \u001b[38;5;241m=\u001b[39m make_mutable(alpha)\n\u001b[0;32m---> 85\u001b[0m vacuous \u001b[38;5;241m=\u001b[39m [x \u001b[38;5;28;01mfor\u001b[39;00m x \u001b[38;5;129;01min\u001b[39;00m alpha \u001b[38;5;28;01mif\u001b[39;00m \u001b[43mm\u001b[49m\u001b[43m[\u001b[49m\u001b[43mx\u001b[49m\u001b[43m:\u001b[49m\u001b[43margs\u001b[49m\u001b[43m]\u001b[49m \u001b[38;5;129;01mis\u001b[39;00m \u001b[38;5;28;01mNone\u001b[39;00m]\n\u001b[1;32m     86\u001b[0m \u001b[38;5;28;01mif\u001b[39;00m vacuous:\n\u001b[1;32m     87\u001b[0m   m\u001b[38;5;241m.\u001b[39mprint(\u001b[38;5;124m'\u001b[39m\u001b[38;5;124mRemoving vacuous items:\u001b[39m\u001b[38;5;124m'\u001b[39m, vacuous, level\u001b[38;5;241m=\u001b[39mlogging\u001b[38;5;241m.\u001b[39mWARNING)\n",
      "File \u001b[0;32m/workspaces/ling516/phosphorus/meaning.py:62\u001b[0m, in \u001b[0;36mMeaning.__getitem__\u001b[0;34m(self, k)\u001b[0m\n\u001b[1;32m     60\u001b[0m   hargs \u001b[38;5;241m=\u001b[39m make_hashable(args)\n\u001b[1;32m     61\u001b[0m   \u001b[38;5;28;01mif\u001b[39;00m (k, hargs) \u001b[38;5;129;01mnot\u001b[39;00m \u001b[38;5;129;01min\u001b[39;00m \u001b[38;5;28mself\u001b[39m\u001b[38;5;241m.\u001b[39mmemo:\n\u001b[0;32m---> 62\u001b[0m     \u001b[38;5;28mself\u001b[39m\u001b[38;5;241m.\u001b[39mmemo[k,hargs] \u001b[38;5;241m=\u001b[39m \u001b[38;5;28;43mself\u001b[39;49m\u001b[38;5;241;43m.\u001b[39;49m\u001b[43minterpret\u001b[49m\u001b[43m(\u001b[49m\u001b[43mk\u001b[49m\u001b[43m,\u001b[49m\u001b[43m \u001b[49m\u001b[38;5;241;43m*\u001b[39;49m\u001b[43margs\u001b[49m\u001b[43m)\u001b[49m\n\u001b[1;32m     63\u001b[0m   \u001b[38;5;28;01mreturn\u001b[39;00m \u001b[38;5;28mself\u001b[39m\u001b[38;5;241m.\u001b[39mmemo[k,hargs]\n\u001b[1;32m     64\u001b[0m \u001b[38;5;28;01mreturn\u001b[39;00m \u001b[38;5;28mself\u001b[39m\u001b[38;5;241m.\u001b[39minterpret(k, \u001b[38;5;241m*\u001b[39margs)\n",
      "File \u001b[0;32m/workspaces/ling516/phosphorus/meaning.py:109\u001b[0m, in \u001b[0;36mMeaning.interpret\u001b[0;34m(self, alpha, *args)\u001b[0m\n\u001b[1;32m    107\u001b[0m \u001b[38;5;28mself\u001b[39m\u001b[38;5;241m.\u001b[39mindent \u001b[38;5;241m=\u001b[39m \u001b[38;5;124m'\u001b[39m\u001b[38;5;124m'\u001b[39m\n\u001b[1;32m    108\u001b[0m m\u001b[38;5;241m.\u001b[39mprint(\u001b[38;5;124mf\u001b[39m\u001b[38;5;124m'\u001b[39m\u001b[38;5;124m!!! Error interpreting node \u001b[39m\u001b[38;5;132;01m{\u001b[39;00malpha\u001b[38;5;132;01m}\u001b[39;00m\u001b[38;5;124m:\u001b[39m\u001b[38;5;130;01m\\n\u001b[39;00m\u001b[38;5;124m \u001b[39m\u001b[38;5;132;01m{\u001b[39;00me\u001b[38;5;132;01m}\u001b[39;00m\u001b[38;5;124m'\u001b[39m, level\u001b[38;5;241m=\u001b[39mlogging\u001b[38;5;241m.\u001b[39mERROR)\n\u001b[0;32m--> 109\u001b[0m \u001b[38;5;28;01mraise\u001b[39;00m e\n",
      "File \u001b[0;32m/workspaces/ling516/phosphorus/meaning.py:101\u001b[0m, in \u001b[0;36mMeaning.interpret\u001b[0;34m(self, alpha, *args)\u001b[0m\n\u001b[1;32m     99\u001b[0m   \u001b[38;5;28;01mif\u001b[39;00m value \u001b[38;5;129;01mis\u001b[39;00m \u001b[38;5;28;01mNone\u001b[39;00m \u001b[38;5;129;01mand\u001b[39;00m rule \u001b[38;5;129;01mis\u001b[39;00m \u001b[38;5;129;01mnot\u001b[39;00m \u001b[38;5;124m'\u001b[39m\u001b[38;5;124mTN\u001b[39m\u001b[38;5;124m'\u001b[39m: \u001b[38;5;66;03m#fix\u001b[39;00m\n\u001b[1;32m    100\u001b[0m     children \u001b[38;5;241m=\u001b[39m \u001b[38;5;124m'\u001b[39m\u001b[38;5;124m and \u001b[39m\u001b[38;5;124m'\u001b[39m\u001b[38;5;241m.\u001b[39mjoin(\u001b[38;5;28mmap\u001b[39m(\u001b[38;5;28mstr\u001b[39m, alpha))\n\u001b[0;32m--> 101\u001b[0m     \u001b[38;5;28;01mraise\u001b[39;00m \u001b[38;5;167;01mValueError\u001b[39;00m(\u001b[38;5;124mf\u001b[39m\u001b[38;5;124m'\u001b[39m\u001b[38;5;124mNo rule found to combine \u001b[39m\u001b[38;5;132;01m{\u001b[39;00mchildren\u001b[38;5;132;01m}\u001b[39;00m\u001b[38;5;124m'\u001b[39m)\n\u001b[1;32m    103\u001b[0m m\u001b[38;5;241m.\u001b[39mindent \u001b[38;5;241m=\u001b[39m m\u001b[38;5;241m.\u001b[39mindent[:\u001b[38;5;241m-\u001b[39m\u001b[38;5;28mlen\u001b[39m(m\u001b[38;5;241m.\u001b[39mindent_chars)]\n\u001b[1;32m    104\u001b[0m m\u001b[38;5;241m.\u001b[39mprint(\u001b[38;5;124m'\u001b[39m\u001b[38;5;124m=>\u001b[39m\u001b[38;5;124m'\u001b[39m, alpha, \u001b[38;5;124m'\u001b[39m\u001b[38;5;124m=\u001b[39m\u001b[38;5;124m'\u001b[39m, value, \u001b[38;5;124mf\u001b[39m\u001b[38;5;124m'\u001b[39m\u001b[38;5;130;01m\\t\u001b[39;00m\u001b[38;5;124m(\u001b[39m\u001b[38;5;132;01m{\u001b[39;00mrule\u001b[38;5;132;01m}\u001b[39;00m\u001b[38;5;124m)\u001b[39m\u001b[38;5;124m'\u001b[39m)\n",
      "\u001b[0;31mValueError\u001b[0m: No rule found to combine cat and gray"
     ]
    }
   ],
   "source": [
    "m.update({\n",
    "  'gray'    : 'lambda f : lambda x: f(x) and GRAY(x)'.eet_t,\n",
    "  })\n",
    "\n",
    "m['gray']\n",
    "m[t]"
   ]
  },
  {
   "cell_type": "code",
   "execution_count": null,
   "metadata": {},
   "outputs": [
    {
     "name": "stderr",
     "output_type": "stream",
     "text": [
      "Interpreting ('gray', 'cat') with parameters: ()\u001b[0m\n",
      "   Interpreting gray with parameters: ()\u001b[0m\n",
      "   => gray = λx . GRAY(x) \t(TN)\u001b[0m\n",
      "   Interpreting cat with parameters: ()\u001b[0m\n",
      "   => cat = λx . CAT(x) \t(TN)\u001b[0m\n",
      "=> ('gray', 'cat') = λx . GRAY(x) and CAT(x) \t(PM)\u001b[0m\n"
     ]
    },
    {
     "data": {
      "text/html": [
       "λx . GRAY(x) and CAT(x)\n",
       "        <span style='float:right; font-family:monospace; margin-right:75px;\n",
       "              font-weight:bold; background-color:#e5e5ff; color:#000'>\n",
       "          ('e', 't')</span>"
      ],
      "text/plain": [
       "Function(\"lambda x: GRAY(x) and CAT(x)\", Type(('e', 't')))"
      ]
     },
     "execution_count": 2,
     "metadata": {},
     "output_type": "execute_result"
    },
    {
     "name": "stderr",
     "output_type": "stream",
     "text": [
      "Interpreting ('Kaline', (('gray', 'cat'), ('in', 'Texas'))) with parameters: ()\u001b[0m\n",
      "   Interpreting Kaline with parameters: ()\u001b[0m\n",
      "   => Kaline = 'K' \t(TN)\u001b[0m\n",
      "   Interpreting (('gray', 'cat'), ('in', 'Texas')) with parameters: ()\u001b[0m\n",
      "      Interpreting ('gray', 'cat') with parameters: ()\u001b[0m\n",
      "         Interpreting gray with parameters: ()\u001b[0m\n",
      "         => gray = λx . GRAY(x) \t(TN)\u001b[0m\n",
      "         Interpreting cat with parameters: ()\u001b[0m\n",
      "         => cat = λx . CAT(x) \t(TN)\u001b[0m\n",
      "      => ('gray', 'cat') = λx . GRAY(x) and CAT(x) \t(PM)\u001b[0m\n",
      "      Interpreting ('in', 'Texas') with parameters: ()\u001b[0m\n",
      "         Interpreting in with parameters: ()\u001b[0m\n",
      "         => in = λx . λy . IN(y, x) \t(TN)\u001b[0m\n",
      "         Interpreting Texas with parameters: ()\u001b[0m\n",
      "         => Texas = 'T' \t(TN)\u001b[0m\n",
      "      => ('in', 'Texas') = λy . IN(y, 'T') \t(FA)\u001b[0m\n",
      "   => (('gray', 'cat'), ('in', 'Texas')) = λx . (GRAY(x) and CAT(x)) and IN(x, 'T') \t(PM)\u001b[0m\n",
      "=> ('Kaline', (('gray', 'cat'), ('in', 'Texas'))) = (GRAY('K') and CAT('K')) and IN('K', 'T') \t(AF)\u001b[0m\n"
     ]
    },
    {
     "data": {
      "text/html": [
       "(GRAY('K') and CAT('K')) and IN('K', 'T')\n",
       "        <span style='float:right; font-family:monospace; margin-right:75px;\n",
       "              font-weight:bold; background-color:#e5e5ff; color:#000'>\n",
       "          't'</span>"
      ],
      "text/plain": [
       "(GRAY('K') and CAT('K')) and IN('K', 'T')"
      ]
     },
     "execution_count": 2,
     "metadata": {},
     "output_type": "execute_result"
    }
   ],
   "source": [
    "class Meaning4(Meaning):\n",
    "  def rules(m, alpha):\n",
    "    match alpha:      # Note: m.quiet(  ) turns off printing\n",
    "      # PM\n",
    "      case (beta, gamma) if m.quiet(  m[gamma].type == m[beta].type == Type.et ):\n",
    "        rule = 'PM'\n",
    "        value = 'lambda f : lambda g: lambda x: f(x) and g(x)'.et_et_et(m[beta])(m[gamma])\n",
    "\n",
    "      # FA\n",
    "      case (beta, gamma) if m.quiet(  m[gamma] in m[beta].domain()  ):\n",
    "        rule = 'FA'\n",
    "        value = m[beta](m[gamma])\n",
    "      case (gamma, beta) if m.quiet(  m[gamma] in m[beta].domain()  ):\n",
    "        rule = 'AF'\n",
    "        value = m[beta](m[gamma])\n",
    "\n",
    "      # NN\n",
    "      case (beta,):\n",
    "        rule = 'NN'\n",
    "        value = m[beta]\n",
    "\n",
    "      # TN\n",
    "      case str():\n",
    "        rule = 'TN'\n",
    "        value = m.lookup(alpha)\n",
    "\n",
    "      case _:\n",
    "        rule = '??'\n",
    "        value = alpha\n",
    "\n",
    "    return value, rule\n",
    "\n",
    "m4 = Meaning4({\n",
    "    'Joe'     : 'J'.e,\n",
    "    'Kaline'  : 'K'.e,\n",
    "    'Texas'   : 'T'.e,\n",
    "    'in'      : 'lambda x: lambda y: IN(y,x)'.eet,\n",
    "    'cat'     : 'lambda x: CAT(x)'.et,\n",
    "    'gray'    : 'lambda x: GRAY(x)'.et,\n",
    "})\n",
    "\n",
    "m4['gray', 'cat']\n",
    "m4['Kaline', [['gray', 'cat'], ['in', 'Texas']]]"
   ]
  },
  {
   "cell_type": "code",
   "execution_count": null,
   "metadata": {},
   "outputs": [
    {
     "name": "stderr",
     "output_type": "stream",
     "text": [
      "Interpreting ('a',)\u001b[0m\n",
      "   Interpreting a\u001b[0m\n",
      "   => a = None \t(TN)\u001b[0m\n",
      "\u001b[38;5;208m   Removing vacuous items: ['a']\u001b[0m\n",
      "\u001b[38;5;208m   No non-vacuous children in node ()\u001b[0m\n",
      "=> () = None \t(NN)\u001b[0m\n",
      "Interpreting ('a', 'cat')\u001b[0m\n",
      "   Interpreting a\u001b[0m\n",
      "   => a = None \t(TN)\u001b[0m\n",
      "   Interpreting cat\u001b[0m\n",
      "   => cat = λx . CAT(x) \t(TN)\u001b[0m\n",
      "\u001b[38;5;208m   Removing vacuous items: ['a']\u001b[0m\n",
      "=> ('cat',) = λx . CAT(x) \t(NN)\u001b[0m\n"
     ]
    },
    {
     "data": {
      "text/html": [
       "λx . CAT(x)\n",
       "        <span style='float:right; font-family:monospace; margin-right:75px;\n",
       "              font-weight:bold; background-color:#e5e5ff; color:#000'>\n",
       "          ('e', 't')</span>"
      ],
      "text/plain": [
       "Function(\"lambda x: CAT(x)\", Type(('e', 't')))"
      ]
     },
     "execution_count": 17,
     "metadata": {},
     "output_type": "execute_result"
    },
    {
     "name": "stderr",
     "output_type": "stream",
     "text": [
      "Interpreting ('is', ['a', 'cat'])\u001b[0m\n",
      "   Interpreting is\u001b[0m\n",
      "   => is = None \t(TN)\u001b[0m\n",
      "   Interpreting ('a', 'cat')\u001b[0m\n",
      "      Interpreting a\u001b[0m\n",
      "      => a = None \t(TN)\u001b[0m\n",
      "      Interpreting cat\u001b[0m\n",
      "      => cat = λx . CAT(x) \t(TN)\u001b[0m\n",
      "\u001b[38;5;208m      Removing vacuous items: ['a']\u001b[0m\n",
      "   => ('cat',) = λx . CAT(x) \t(NN)\u001b[0m\n",
      "\u001b[38;5;208m   Removing vacuous items: ['is']\u001b[0m\n",
      "=> (('a', 'cat'),) = λx . CAT(x) \t(NN)\u001b[0m\n"
     ]
    },
    {
     "data": {
      "text/html": [
       "λx . CAT(x)\n",
       "        <span style='float:right; font-family:monospace; margin-right:75px;\n",
       "              font-weight:bold; background-color:#e5e5ff; color:#000'>\n",
       "          ('e', 't')</span>"
      ],
      "text/plain": [
       "Function(\"lambda x: CAT(x)\", Type(('e', 't')))"
      ]
     },
     "execution_count": 17,
     "metadata": {},
     "output_type": "execute_result"
    },
    {
     "name": "stderr",
     "output_type": "stream",
     "text": [
      "Interpreting ('Kaline', [['fond', 'Joe'], ['gray', 'cat']])\u001b[0m\n",
      "   Interpreting Kaline\u001b[0m\n",
      "   => Kaline = 'K' \t(TN)\u001b[0m\n",
      "   Interpreting (('fond', 'Joe'), ('gray', 'cat'))\u001b[0m\n",
      "      Interpreting ('fond', 'Joe')\u001b[0m\n",
      "         Interpreting fond\u001b[0m\n",
      "         => fond = Ellipsis \t(TN)\u001b[0m\n",
      "         Interpreting Joe\u001b[0m\n",
      "         => Joe = 'J' \t(TN)\u001b[0m\n",
      "\u001b[91m!!! Error interpreting node ('fond', 'Joe'):\n",
      " 'ellipsis' object has no attribute 'domain'\u001b[0m\n",
      "\u001b[91m!!! Error interpreting node [['fond', 'Joe'], ['gray', 'cat']]:\n",
      " 'ellipsis' object has no attribute 'domain'\u001b[0m\n",
      "\u001b[91m!!! Error interpreting node ['Kaline', [['fond', 'Joe'], ['gray', 'cat']]]:\n",
      " 'ellipsis' object has no attribute 'domain'\u001b[0m\n"
     ]
    },
    {
     "ename": "AttributeError",
     "evalue": "'ellipsis' object has no attribute 'domain'",
     "output_type": "error",
     "traceback": [
      "\u001b[0;31m---------------------------------------------------------------------------\u001b[0m",
      "\u001b[0;31mAttributeError\u001b[0m                            Traceback (most recent call last)",
      "Cell \u001b[0;32mIn[17], line 43\u001b[0m\n\u001b[1;32m     41\u001b[0m m3[\u001b[38;5;124m'\u001b[39m\u001b[38;5;124ma\u001b[39m\u001b[38;5;124m'\u001b[39m, \u001b[38;5;124m'\u001b[39m\u001b[38;5;124mcat\u001b[39m\u001b[38;5;124m'\u001b[39m]\n\u001b[1;32m     42\u001b[0m m3[\u001b[38;5;124m'\u001b[39m\u001b[38;5;124mis\u001b[39m\u001b[38;5;124m'\u001b[39m, [\u001b[38;5;124m'\u001b[39m\u001b[38;5;124ma\u001b[39m\u001b[38;5;124m'\u001b[39m, \u001b[38;5;124m'\u001b[39m\u001b[38;5;124mcat\u001b[39m\u001b[38;5;124m'\u001b[39m]]\n\u001b[0;32m---> 43\u001b[0m \u001b[43mm3\u001b[49m\u001b[43m[\u001b[49m\u001b[38;5;124;43m'\u001b[39;49m\u001b[38;5;124;43mKaline\u001b[39;49m\u001b[38;5;124;43m'\u001b[39;49m\u001b[43m,\u001b[49m\u001b[43m \u001b[49m\u001b[43m[\u001b[49m\u001b[43m[\u001b[49m\u001b[38;5;124;43m'\u001b[39;49m\u001b[38;5;124;43mfond\u001b[39;49m\u001b[38;5;124;43m'\u001b[39;49m\u001b[43m,\u001b[49m\u001b[43m \u001b[49m\u001b[38;5;124;43m'\u001b[39;49m\u001b[38;5;124;43mJoe\u001b[39;49m\u001b[38;5;124;43m'\u001b[39;49m\u001b[43m]\u001b[49m\u001b[43m,\u001b[49m\u001b[43m \u001b[49m\u001b[43m[\u001b[49m\u001b[38;5;124;43m'\u001b[39;49m\u001b[38;5;124;43mgray\u001b[39;49m\u001b[38;5;124;43m'\u001b[39;49m\u001b[43m,\u001b[49m\u001b[43m \u001b[49m\u001b[38;5;124;43m'\u001b[39;49m\u001b[38;5;124;43mcat\u001b[39;49m\u001b[38;5;124;43m'\u001b[39;49m\u001b[43m]\u001b[49m\u001b[43m]\u001b[49m\u001b[43m]\u001b[49m\n\u001b[1;32m     44\u001b[0m m3[\u001b[38;5;124m'\u001b[39m\u001b[38;5;124mKaline\u001b[39m\u001b[38;5;124m'\u001b[39m, \u001b[38;5;124m'\u001b[39m\u001b[38;5;124mgray\u001b[39m\u001b[38;5;124m'\u001b[39m]\n",
      "File \u001b[0;32m/workspaces/ling516/phosphorus/meaning.py:58\u001b[0m, in \u001b[0;36mMeaning.__getitem__\u001b[0;34m(self, k)\u001b[0m\n\u001b[1;32m     56\u001b[0m     \u001b[38;5;28mself\u001b[39m\u001b[38;5;241m.\u001b[39mmemo[k,hargs] \u001b[38;5;241m=\u001b[39m \u001b[38;5;28mself\u001b[39m\u001b[38;5;241m.\u001b[39minterpret(k, \u001b[38;5;241m*\u001b[39margs)\n\u001b[1;32m     57\u001b[0m   \u001b[38;5;28;01mreturn\u001b[39;00m \u001b[38;5;28mself\u001b[39m\u001b[38;5;241m.\u001b[39mmemo[k,hargs]\n\u001b[0;32m---> 58\u001b[0m \u001b[38;5;28;01mreturn\u001b[39;00m \u001b[38;5;28;43mself\u001b[39;49m\u001b[38;5;241;43m.\u001b[39;49m\u001b[43minterpret\u001b[49m\u001b[43m(\u001b[49m\u001b[43mk\u001b[49m\u001b[43m,\u001b[49m\u001b[43m \u001b[49m\u001b[38;5;241;43m*\u001b[39;49m\u001b[43margs\u001b[49m\u001b[43m)\u001b[49m\n",
      "File \u001b[0;32m/workspaces/ling516/phosphorus/meaning.py:103\u001b[0m, in \u001b[0;36mMeaning.interpret\u001b[0;34m(self, alpha, *args)\u001b[0m\n\u001b[1;32m    101\u001b[0m \u001b[38;5;28mself\u001b[39m\u001b[38;5;241m.\u001b[39mindent \u001b[38;5;241m=\u001b[39m \u001b[38;5;124m'\u001b[39m\u001b[38;5;124m'\u001b[39m\n\u001b[1;32m    102\u001b[0m m\u001b[38;5;241m.\u001b[39mprint(\u001b[38;5;124mf\u001b[39m\u001b[38;5;124m'\u001b[39m\u001b[38;5;124m!!! Error interpreting node \u001b[39m\u001b[38;5;132;01m{\u001b[39;00malpha\u001b[38;5;132;01m}\u001b[39;00m\u001b[38;5;124m:\u001b[39m\u001b[38;5;130;01m\\n\u001b[39;00m\u001b[38;5;124m \u001b[39m\u001b[38;5;132;01m{\u001b[39;00me\u001b[38;5;132;01m}\u001b[39;00m\u001b[38;5;124m'\u001b[39m, level\u001b[38;5;241m=\u001b[39mlogging\u001b[38;5;241m.\u001b[39mERROR)\n\u001b[0;32m--> 103\u001b[0m \u001b[38;5;28;01mraise\u001b[39;00m e\n",
      "File \u001b[0;32m/workspaces/ling516/phosphorus/meaning.py:79\u001b[0m, in \u001b[0;36mMeaning.interpret\u001b[0;34m(self, alpha, *args)\u001b[0m\n\u001b[1;32m     77\u001b[0m   \u001b[38;5;28;01mraise\u001b[39;00m \u001b[38;5;167;01mValueError\u001b[39;00m(\u001b[38;5;124mf\u001b[39m\u001b[38;5;124m'\u001b[39m\u001b[38;5;124mNode \u001b[39m\u001b[38;5;132;01m{\u001b[39;00malpha\u001b[38;5;132;01m}\u001b[39;00m\u001b[38;5;124m has no children\u001b[39m\u001b[38;5;124m'\u001b[39m)\n\u001b[1;32m     78\u001b[0m alpha \u001b[38;5;241m=\u001b[39m make_mutable(alpha)\n\u001b[0;32m---> 79\u001b[0m vacuous \u001b[38;5;241m=\u001b[39m [x \u001b[38;5;28;01mfor\u001b[39;00m x \u001b[38;5;129;01min\u001b[39;00m alpha \u001b[38;5;28;01mif\u001b[39;00m \u001b[43mm\u001b[49m\u001b[43m[\u001b[49m\u001b[43mx\u001b[49m\u001b[43m]\u001b[49m \u001b[38;5;129;01mis\u001b[39;00m \u001b[38;5;28;01mNone\u001b[39;00m]\n\u001b[1;32m     80\u001b[0m \u001b[38;5;28;01mif\u001b[39;00m vacuous:\n\u001b[1;32m     81\u001b[0m   m\u001b[38;5;241m.\u001b[39mprint(\u001b[38;5;124m'\u001b[39m\u001b[38;5;124mRemoving vacuous items:\u001b[39m\u001b[38;5;124m'\u001b[39m, vacuous, level\u001b[38;5;241m=\u001b[39mlogging\u001b[38;5;241m.\u001b[39mWARNING)\n",
      "File \u001b[0;32m/workspaces/ling516/phosphorus/meaning.py:56\u001b[0m, in \u001b[0;36mMeaning.__getitem__\u001b[0;34m(self, k)\u001b[0m\n\u001b[1;32m     54\u001b[0m   hargs \u001b[38;5;241m=\u001b[39m make_hashable(args)\n\u001b[1;32m     55\u001b[0m   \u001b[38;5;28;01mif\u001b[39;00m (k, hargs) \u001b[38;5;129;01mnot\u001b[39;00m \u001b[38;5;129;01min\u001b[39;00m \u001b[38;5;28mself\u001b[39m\u001b[38;5;241m.\u001b[39mmemo:\n\u001b[0;32m---> 56\u001b[0m     \u001b[38;5;28mself\u001b[39m\u001b[38;5;241m.\u001b[39mmemo[k,hargs] \u001b[38;5;241m=\u001b[39m \u001b[38;5;28;43mself\u001b[39;49m\u001b[38;5;241;43m.\u001b[39;49m\u001b[43minterpret\u001b[49m\u001b[43m(\u001b[49m\u001b[43mk\u001b[49m\u001b[43m,\u001b[49m\u001b[43m \u001b[49m\u001b[38;5;241;43m*\u001b[39;49m\u001b[43margs\u001b[49m\u001b[43m)\u001b[49m\n\u001b[1;32m     57\u001b[0m   \u001b[38;5;28;01mreturn\u001b[39;00m \u001b[38;5;28mself\u001b[39m\u001b[38;5;241m.\u001b[39mmemo[k,hargs]\n\u001b[1;32m     58\u001b[0m \u001b[38;5;28;01mreturn\u001b[39;00m \u001b[38;5;28mself\u001b[39m\u001b[38;5;241m.\u001b[39minterpret(k, \u001b[38;5;241m*\u001b[39margs)\n",
      "File \u001b[0;32m/workspaces/ling516/phosphorus/meaning.py:103\u001b[0m, in \u001b[0;36mMeaning.interpret\u001b[0;34m(self, alpha, *args)\u001b[0m\n\u001b[1;32m    101\u001b[0m \u001b[38;5;28mself\u001b[39m\u001b[38;5;241m.\u001b[39mindent \u001b[38;5;241m=\u001b[39m \u001b[38;5;124m'\u001b[39m\u001b[38;5;124m'\u001b[39m\n\u001b[1;32m    102\u001b[0m m\u001b[38;5;241m.\u001b[39mprint(\u001b[38;5;124mf\u001b[39m\u001b[38;5;124m'\u001b[39m\u001b[38;5;124m!!! Error interpreting node \u001b[39m\u001b[38;5;132;01m{\u001b[39;00malpha\u001b[38;5;132;01m}\u001b[39;00m\u001b[38;5;124m:\u001b[39m\u001b[38;5;130;01m\\n\u001b[39;00m\u001b[38;5;124m \u001b[39m\u001b[38;5;132;01m{\u001b[39;00me\u001b[38;5;132;01m}\u001b[39;00m\u001b[38;5;124m'\u001b[39m, level\u001b[38;5;241m=\u001b[39mlogging\u001b[38;5;241m.\u001b[39mERROR)\n\u001b[0;32m--> 103\u001b[0m \u001b[38;5;28;01mraise\u001b[39;00m e\n",
      "File \u001b[0;32m/workspaces/ling516/phosphorus/meaning.py:79\u001b[0m, in \u001b[0;36mMeaning.interpret\u001b[0;34m(self, alpha, *args)\u001b[0m\n\u001b[1;32m     77\u001b[0m   \u001b[38;5;28;01mraise\u001b[39;00m \u001b[38;5;167;01mValueError\u001b[39;00m(\u001b[38;5;124mf\u001b[39m\u001b[38;5;124m'\u001b[39m\u001b[38;5;124mNode \u001b[39m\u001b[38;5;132;01m{\u001b[39;00malpha\u001b[38;5;132;01m}\u001b[39;00m\u001b[38;5;124m has no children\u001b[39m\u001b[38;5;124m'\u001b[39m)\n\u001b[1;32m     78\u001b[0m alpha \u001b[38;5;241m=\u001b[39m make_mutable(alpha)\n\u001b[0;32m---> 79\u001b[0m vacuous \u001b[38;5;241m=\u001b[39m [x \u001b[38;5;28;01mfor\u001b[39;00m x \u001b[38;5;129;01min\u001b[39;00m alpha \u001b[38;5;28;01mif\u001b[39;00m \u001b[43mm\u001b[49m\u001b[43m[\u001b[49m\u001b[43mx\u001b[49m\u001b[43m]\u001b[49m \u001b[38;5;129;01mis\u001b[39;00m \u001b[38;5;28;01mNone\u001b[39;00m]\n\u001b[1;32m     80\u001b[0m \u001b[38;5;28;01mif\u001b[39;00m vacuous:\n\u001b[1;32m     81\u001b[0m   m\u001b[38;5;241m.\u001b[39mprint(\u001b[38;5;124m'\u001b[39m\u001b[38;5;124mRemoving vacuous items:\u001b[39m\u001b[38;5;124m'\u001b[39m, vacuous, level\u001b[38;5;241m=\u001b[39mlogging\u001b[38;5;241m.\u001b[39mWARNING)\n",
      "File \u001b[0;32m/workspaces/ling516/phosphorus/meaning.py:56\u001b[0m, in \u001b[0;36mMeaning.__getitem__\u001b[0;34m(self, k)\u001b[0m\n\u001b[1;32m     54\u001b[0m   hargs \u001b[38;5;241m=\u001b[39m make_hashable(args)\n\u001b[1;32m     55\u001b[0m   \u001b[38;5;28;01mif\u001b[39;00m (k, hargs) \u001b[38;5;129;01mnot\u001b[39;00m \u001b[38;5;129;01min\u001b[39;00m \u001b[38;5;28mself\u001b[39m\u001b[38;5;241m.\u001b[39mmemo:\n\u001b[0;32m---> 56\u001b[0m     \u001b[38;5;28mself\u001b[39m\u001b[38;5;241m.\u001b[39mmemo[k,hargs] \u001b[38;5;241m=\u001b[39m \u001b[38;5;28;43mself\u001b[39;49m\u001b[38;5;241;43m.\u001b[39;49m\u001b[43minterpret\u001b[49m\u001b[43m(\u001b[49m\u001b[43mk\u001b[49m\u001b[43m,\u001b[49m\u001b[43m \u001b[49m\u001b[38;5;241;43m*\u001b[39;49m\u001b[43margs\u001b[49m\u001b[43m)\u001b[49m\n\u001b[1;32m     57\u001b[0m   \u001b[38;5;28;01mreturn\u001b[39;00m \u001b[38;5;28mself\u001b[39m\u001b[38;5;241m.\u001b[39mmemo[k,hargs]\n\u001b[1;32m     58\u001b[0m \u001b[38;5;28;01mreturn\u001b[39;00m \u001b[38;5;28mself\u001b[39m\u001b[38;5;241m.\u001b[39minterpret(k, \u001b[38;5;241m*\u001b[39margs)\n",
      "File \u001b[0;32m/workspaces/ling516/phosphorus/meaning.py:103\u001b[0m, in \u001b[0;36mMeaning.interpret\u001b[0;34m(self, alpha, *args)\u001b[0m\n\u001b[1;32m    101\u001b[0m \u001b[38;5;28mself\u001b[39m\u001b[38;5;241m.\u001b[39mindent \u001b[38;5;241m=\u001b[39m \u001b[38;5;124m'\u001b[39m\u001b[38;5;124m'\u001b[39m\n\u001b[1;32m    102\u001b[0m m\u001b[38;5;241m.\u001b[39mprint(\u001b[38;5;124mf\u001b[39m\u001b[38;5;124m'\u001b[39m\u001b[38;5;124m!!! Error interpreting node \u001b[39m\u001b[38;5;132;01m{\u001b[39;00malpha\u001b[38;5;132;01m}\u001b[39;00m\u001b[38;5;124m:\u001b[39m\u001b[38;5;130;01m\\n\u001b[39;00m\u001b[38;5;124m \u001b[39m\u001b[38;5;132;01m{\u001b[39;00me\u001b[38;5;132;01m}\u001b[39;00m\u001b[38;5;124m'\u001b[39m, level\u001b[38;5;241m=\u001b[39mlogging\u001b[38;5;241m.\u001b[39mERROR)\n\u001b[0;32m--> 103\u001b[0m \u001b[38;5;28;01mraise\u001b[39;00m e\n",
      "File \u001b[0;32m/workspaces/ling516/phosphorus/meaning.py:92\u001b[0m, in \u001b[0;36mMeaning.interpret\u001b[0;34m(self, alpha, *args)\u001b[0m\n\u001b[1;32m     90\u001b[0m   value, rule \u001b[38;5;241m=\u001b[39m \u001b[38;5;28;01mNone\u001b[39;00m, \u001b[38;5;124m'\u001b[39m\u001b[38;5;124mNN\u001b[39m\u001b[38;5;124m'\u001b[39m\n\u001b[1;32m     91\u001b[0m \u001b[38;5;28;01melse\u001b[39;00m:\n\u001b[0;32m---> 92\u001b[0m   value, rule \u001b[38;5;241m=\u001b[39m \u001b[38;5;28;43mself\u001b[39;49m\u001b[38;5;241;43m.\u001b[39;49m\u001b[43mrules\u001b[49m\u001b[43m(\u001b[49m\u001b[43malpha\u001b[49m\u001b[43m)\u001b[49m\n\u001b[1;32m     93\u001b[0m   \u001b[38;5;28;01mif\u001b[39;00m value \u001b[38;5;129;01mis\u001b[39;00m \u001b[38;5;28;01mNone\u001b[39;00m \u001b[38;5;129;01mand\u001b[39;00m rule \u001b[38;5;129;01mis\u001b[39;00m \u001b[38;5;129;01mnot\u001b[39;00m \u001b[38;5;124m'\u001b[39m\u001b[38;5;124mTN\u001b[39m\u001b[38;5;124m'\u001b[39m: \u001b[38;5;66;03m#fix\u001b[39;00m\n\u001b[1;32m     94\u001b[0m     children \u001b[38;5;241m=\u001b[39m \u001b[38;5;124m'\u001b[39m\u001b[38;5;124m and \u001b[39m\u001b[38;5;124m'\u001b[39m\u001b[38;5;241m.\u001b[39mjoin(\u001b[38;5;28mmap\u001b[39m(\u001b[38;5;28mstr\u001b[39m, alpha))\n",
      "Cell \u001b[0;32mIn[17], line 5\u001b[0m, in \u001b[0;36mMeaning3.rules\u001b[0;34m(m, alpha)\u001b[0m\n\u001b[1;32m      2\u001b[0m \u001b[38;5;28;01mdef\u001b[39;00m \u001b[38;5;21mrules\u001b[39m(m, alpha):\n\u001b[1;32m      3\u001b[0m   \u001b[38;5;28;01mmatch\u001b[39;00m alpha:      \u001b[38;5;66;03m# Note: m.quiet(  ) turns off printing\u001b[39;00m\n\u001b[1;32m      4\u001b[0m     \u001b[38;5;66;03m# FA\u001b[39;00m\n\u001b[0;32m----> 5\u001b[0m     \u001b[38;5;28;01mcase\u001b[39;00m (beta, gamma) \u001b[38;5;28;01mif\u001b[39;00m m\u001b[38;5;241m.\u001b[39mquiet(  m[gamma] \u001b[38;5;129;01min\u001b[39;00m \u001b[43mm\u001b[49m\u001b[43m[\u001b[49m\u001b[43mbeta\u001b[49m\u001b[43m]\u001b[49m\u001b[38;5;241;43m.\u001b[39;49m\u001b[43mdomain\u001b[49m()  ):\n\u001b[1;32m      6\u001b[0m       rule \u001b[38;5;241m=\u001b[39m \u001b[38;5;124m'\u001b[39m\u001b[38;5;124mFA\u001b[39m\u001b[38;5;124m'\u001b[39m\n\u001b[1;32m      7\u001b[0m       value \u001b[38;5;241m=\u001b[39m m[beta](m[gamma])\n",
      "\u001b[0;31mAttributeError\u001b[0m: 'ellipsis' object has no attribute 'domain'"
     ]
    }
   ],
   "source": [
    "class Meaning3(Meaning):\n",
    "  def rules(m, alpha):\n",
    "    match alpha:      # Note: m.quiet(  ) turns off printing\n",
    "      # FA\n",
    "      case (beta, gamma) if m.quiet(  m[gamma] in m[beta].domain()  ):\n",
    "        rule = 'FA'\n",
    "        value = m[beta](m[gamma])\n",
    "      case (gamma, beta) if m.quiet(  m[gamma] in m[beta].domain()  ):\n",
    "        rule = 'AF'\n",
    "        value = m[beta](m[gamma])\n",
    "\n",
    "      # NN\n",
    "      case (beta,):\n",
    "        rule = 'NN'\n",
    "        value = m[beta]\n",
    "\n",
    "      # TN\n",
    "      case str():\n",
    "        rule = 'TN'\n",
    "        value = m.lookup(alpha)\n",
    "\n",
    "      case _:\n",
    "        rule = '??'\n",
    "        value = alpha\n",
    "\n",
    "    return value, rule\n",
    "\n",
    "m3 = Meaning3({\n",
    "    'Joe'     : 'J'.e,\n",
    "    'Kaline'  : 'K'.e,\n",
    "    'cat'     : 'lambda x: CAT(x)'.et,\n",
    "    'gray'    : 'lambda f: lambda x: f(x) and GRAY(x)'.et_et,\n",
    "    'fond'    : ...\n",
    "})\n",
    "\n",
    "#m3['Joe']\n",
    "#m3['Kaline']\n",
    "#m3['cat']\n",
    "#m3['Kaline', 'cat']\n",
    "m3[('a',)]\n",
    "m3['a', 'cat']\n",
    "m3['is', ['a', 'cat']]\n",
    "m3['Kaline', [['fond', 'Joe'], ['gray', 'cat']]]\n",
    "m3['Kaline', 'gray']"
   ]
  },
  {
   "cell_type": "code",
   "execution_count": null,
   "metadata": {},
   "outputs": [],
   "source": [
    "m3.update({'is': 'lambda f: lambda x: f(lambda y:1)(x)'.et_et__et})\n",
    "\n",
    "m3['gray']\n",
    "m3['is', 'gray']"
   ]
  },
  {
   "cell_type": "code",
   "execution_count": null,
   "metadata": {},
   "outputs": [],
   "source": [
    "tree = Tree.fromstring('(S (NP (N Kaline)) (VP is (NP (Det a) (N cat))))')\n",
    "tree\n",
    "m3[tree]"
   ]
  },
  {
   "cell_type": "code",
   "execution_count": null,
   "metadata": {},
   "outputs": [],
   "source": [
    "class Meaning3(Meaning):\n",
    "  def rules(m, alpha):\n",
    "    match alpha:      # Note: m.quiet(  ) turns off printing\n",
    "      # FA\n",
    "      case (beta, gamma) if m.quiet(  m[gamma] in m[beta].domain()  ):\n",
    "        rule = 'FA'\n",
    "        value = m[beta](m[gamma])\n",
    "      case (gamma, beta) if m.quiet(  m[gamma] in m[beta].domain()  ):\n",
    "        rule = 'AF'\n",
    "        value = m[beta](m[gamma])\n",
    "\n",
    "      # NN\n",
    "      case (beta,):\n",
    "        rule = 'NN'\n",
    "        value = m[beta]\n",
    "\n",
    "      # TN\n",
    "      case str():# if alpha in m:\n",
    "        rule = 'TN'\n",
    "        value = m.lookup(alpha)\n",
    "\n",
    "      case _:\n",
    "        rule = '??'\n",
    "        value = alpha\n",
    "    return value, rule\n",
    "\n",
    "m = Meaning3({\n",
    "    'Ann'     : 'A'.e,\n",
    "    'smokes'  : 'lambda x: SMOKES(x)'.et,\n",
    "    'tall'    : 'lambda x: TALL(x)'.et,\n",
    "    'likes'   : 'lambda x: lambda y: LIKES(x,y)'.eet,\n",
    "#    'is'      : None,\n",
    "})\n",
    "\n",
    "m['Ann']\n",
    "m['smokes']\n",
    "m['Ann', 'smokes']\n",
    "m['smokes', 'Ann']"
   ]
  },
  {
   "cell_type": "code",
   "execution_count": null,
   "metadata": {},
   "outputs": [],
   "source": [
    "m['tall', 'is']"
   ]
  },
  {
   "cell_type": "code",
   "execution_count": null,
   "metadata": {},
   "outputs": [],
   "source": [
    "t = [1,2]\n",
    "t = t - [1]"
   ]
  },
  {
   "cell_type": "code",
   "execution_count": null,
   "metadata": {},
   "outputs": [],
   "source": [
    "'lambda f:lambda x: f(x) and GRAY(x)'.et"
   ]
  },
  {
   "cell_type": "code",
   "execution_count": null,
   "metadata": {},
   "outputs": [],
   "source": [
    "'(lambda x: lambda y: lambda z: INTRODUCED(z,x,y))(S)'.eet"
   ]
  },
  {
   "cell_type": "markdown",
   "metadata": {},
   "source": [
    "a. [λx.[λy.[λz.z introduced x to y]]](Ann)(Sue)\n",
    "\n",
    "b. [λx.[λy.[λz.z introduced x to y](Ann)](Sue)]\n",
    "\n",
    "c. [λx.[λy.[λz.z introduced x to y](Ann)]](Sue) \n",
    "\n",
    "d. [λx.[λy.[λz.z introduced x to y]](Ann)](Sue)\n",
    "\n",
    "e. [λf.[λx.f(x)=1 and x is gray]]([λy.y is a cat])\n",
    "\n",
    "f. [λg.[λx.g(x)(Ann)=1]]([λy.[λz.z saw y]])\n",
    "\n",
    "g. [λm.[λn.n>3 and n<7](m)] \n",
    "\n",
    "h. [λm.[λn.[λo.o>3 and o<7](n)](m)] "
   ]
  },
  {
   "cell_type": "code",
   "execution_count": null,
   "metadata": {},
   "outputs": [],
   "source": [
    "'lambda g: (lambda x:g(x)(Ann))'.eet_et('lambda y:lambda z:SAW(z,y)'.eet)\n",
    "\n",
    "'lambda m: lambda n:n>3 and m<7'.eet('3'.e)"
   ]
  },
  {
   "cell_type": "code",
   "execution_count": null,
   "metadata": {},
   "outputs": [],
   "source": [
    "catf = 'lambda y:CAT(y)'.et\n",
    "\n",
    "ff = 'lambda f: lambda x: f(x) and GRAY(x)'.et_et\n",
    "ff(catf)\n",
    "\n",
    "gg = 'lambda f: f(A)'.eet_et\n",
    "gg\n",
    "gg('lambda x:lambda y:FOO(x,y)'.eet)"
   ]
  },
  {
   "cell_type": "code",
   "execution_count": null,
   "metadata": {},
   "outputs": [],
   "source": [
    "Function('lambda y: CAT(y)', Type(('e', 't')))('x') and GRAY('x')"
   ]
  },
  {
   "cell_type": "code",
   "execution_count": null,
   "metadata": {},
   "outputs": [],
   "source": [
    "import ast\n",
    "ast.dump(ast.parse('x smokes', mode= 'eval'))"
   ]
  }
 ],
 "metadata": {
  "kernelspec": {
   "display_name": "Python 3",
   "language": "python",
   "name": "python3"
  },
  "language_info": {
   "codemirror_mode": {
    "name": "ipython",
    "version": 3
   },
   "file_extension": ".py",
   "mimetype": "text/x-python",
   "name": "python",
   "nbconvert_exporter": "python",
   "pygments_lexer": "ipython3",
   "version": "3.12.1"
  }
 },
 "nbformat": 4,
 "nbformat_minor": 2
}
