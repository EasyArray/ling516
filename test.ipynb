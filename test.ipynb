{
 "cells": [
  {
   "cell_type": "code",
   "execution_count": 1,
   "metadata": {},
   "outputs": [
    {
     "name": "stdout",
     "output_type": "stream",
     "text": [
      "\n",
      "             _    _                  _    _\n",
      "            | |  | |                | |  | |\n",
      "           _| |_ | |__   ___  ___  _| |_ | |__   ___  _ __ _   _  ____\n",
      "          /     \\| '_ \\ / _ \\/ __|/     \\| '_ \\ / _ \\| '__| | | |/ ___)\n",
      "         ( (| |) ) | | | (_) \\__ ( (| |) ) | | | (_) | |  | |_| ( (__\n",
      "          \\_   _/|_| |_|\\___/|___/\\_   _/|_| |_|\\___/|_|   \\__,_|\\__ \\\n",
      "            | |                     | |                            _) )\n",
      "            |_|                     |_|                           (__/\n",
      "\n",
      "        Welcome to the Phosphorus Meaning Engine v3\n",
      "        Created by Ezra Keshet (EzraKeshet.com)\n",
      "\n",
      "\n"
     ]
    }
   ],
   "source": [
    "from phosphorus import *\n",
    "%config InteractiveShell.ast_node_interactivity='all'"
   ]
  },
  {
   "cell_type": "code",
   "execution_count": 8,
   "metadata": {},
   "outputs": [
    {
     "name": "stderr",
     "output_type": "stream",
     "text": [
      "Interpreting ((0, 'he_0'), 'Allie') with parameters: [{}]\u001b[0m\n",
      "   Interpreting Allie with parameters: [{}]\u001b[0m\n",
      "   => Allie = A \t(TN)\u001b[0m\n",
      "   Interpreting (0, 'he_0') with parameters: [{}]\u001b[0m\n",
      "      Interpreting he_0 with parameters: ['{0: x}']\u001b[0m\n",
      "      => he_0 = x \t(TP)\u001b[0m\n",
      "   => (0, 'he_0') = lambda x: x \t(PA)\u001b[0m\n",
      "=> ((0, 'he_0'), 'Allie') = A \t(FA)\u001b[0m\n"
     ]
    },
    {
     "data": {
      "text/html": [
       "A\n",
       "        <span style='float:right; font-family:monospace; margin-right:75px;\n",
       "              font-weight:bold; background-color:#e5e5ff; color:#000'>\n",
       "          't'</span>"
      ],
      "text/plain": [
       "A"
      ]
     },
     "execution_count": 8,
     "metadata": {},
     "output_type": "execute_result"
    }
   ],
   "source": [
    "def takes(f,x):\n",
    "  f_type = getattr(f, 'type', [])\n",
    "  x_type = getattr(x, 'type', None)\n",
    "  #print('TAKES', f, f_type, x, x_type)\n",
    "  if len(f_type) == 2:\n",
    "    return f_type[0] == x_type\n",
    "  return False\n",
    "\n",
    "def is_et(f):\n",
    "  return getattr(f, 'type', None) == Type.et\n",
    "\n",
    "class MeaningPV(Meaning):\n",
    "  def rules(self, alpha, g):\n",
    "    value, rule = None, None\n",
    "    m = self\n",
    "    match alpha:\n",
    "      # TP\n",
    "      case str() if '_' in alpha and alpha.split('_')[1].isdecimal():\n",
    "        i = int(alpha.split('_')[1])\n",
    "        rule = 'TP'\n",
    "        value = 'g[i]'.e\n",
    "\n",
    "      # case int() | str() as i if str(i).isdecimal():\n",
    "      #   i = int(i)\n",
    "      #   rule = 'IX'\n",
    "      #   value = i\n",
    "\n",
    "      case str() as s:\n",
    "        rule = 'TN'\n",
    "        value = self.lookup(s)\n",
    "      \n",
    "      # PA\n",
    "      case (i, beta) if str(i).isdecimal():\n",
    "        i = int(i)\n",
    "        rule = 'PA'\n",
    "        value = (lambda x : m.i(beta, g | {i:x})).et\n",
    "\n",
    "      # NN\n",
    "      case (beta,) if m.i(beta,g) is None:\n",
    "        rule = 'NN'\n",
    "        value = None\n",
    "        logger.warning('Ignoring vacuous item %s', beta)\n",
    "\n",
    "      case (beta,):\n",
    "        rule = 'NN'\n",
    "        value = PV(m.i(beta,g))\n",
    "\n",
    "      case (beta, gamma) if  m.i(gamma,g) is None:\n",
    "        rule = 'NN'\n",
    "        value = PV(m.i(beta,g))\n",
    "        logger.warning('Ignoring vacuous item %s', gamma)\n",
    "\n",
    "      case (gamma, beta) if m.i(gamma,g) is None:\n",
    "        rule = 'NN'\n",
    "        value = PV(m.i(beta,g))\n",
    "        logger.warning('Ignoring vacuous item %s', gamma)\n",
    "\n",
    "      # PM\n",
    "      case (beta, gamma) if is_et(m.i(gamma,g)) and is_et(m.i(beta,g)):\n",
    "        rule = 'PM'\n",
    "        value = (lambda x: m.i(beta,g)(x) and m.i(gamma,g)(x)).et\n",
    "\n",
    "      # FA\n",
    "      case (beta, gamma) if takes(m.i(beta,g), m.i(gamma,g)):\n",
    "        rule = 'FA'\n",
    "        value = PV(m.i(beta,g)(m.i(gamma,g)))\n",
    "      case (gamma, beta) if takes(m.i(beta,g), m.i(gamma,g)):\n",
    "        rule = 'AF'\n",
    "        value = PV(m.i(beta,g)(m.i(gamma,g)))\n",
    "\n",
    "    return value, rule\n",
    "\n",
    "m = MeaningPV({\n",
    "  'snores' : 'lambda x: SNORES(x)'.et,\n",
    "  'Allie' : 'A'.e,\n",
    "  'Bob' : 'B'.e,\n",
    "  'saw' : (lambda y: lambda x: SAW(x,y)).eet\n",
    "})\n",
    "\n",
    "m.i(((0, 'he_0'), 'Allie'), {})\n",
    "#m.i((0, 'he_0'), {})\n"
   ]
  },
  {
   "cell_type": "code",
   "execution_count": 7,
   "metadata": {},
   "outputs": [
    {
     "name": "stderr",
     "output_type": "stream",
     "text": [
      "Interpreting (0, ('Bob', (('is',), ('saw', 't_0')))) with parameters: [{}]\u001b[0m\n",
      "   Interpreting ('Bob', (('is',), ('saw', 't_0'))) with parameters: ['{0: x}']\u001b[0m\n",
      "      Interpreting (('is',), ('saw', 't_0')) with parameters: ['{0: x}']\u001b[0m\n",
      "         Interpreting ('saw', 't_0') with parameters: ['{0: x}']\u001b[0m\n",
      "            Interpreting t_0 with parameters: ['{0: x}']\u001b[0m\n",
      "            => t_0 = x \t(TP)\u001b[0m\n",
      "            Interpreting saw with parameters: ['{0: x}']\u001b[0m\n",
      "            => saw = lambda y: lambda x: SAW(x, y) \t(TN)\u001b[0m\n",
      "         => ('saw', 't_0') = lambda z: SAW(z, x) \t(FA)\u001b[0m\n",
      "         Interpreting ('is',) with parameters: ['{0: x}']\u001b[0m\n",
      "            Interpreting is with parameters: ['{0: x}']\u001b[0m\n",
      "            => is = None \t(TN)\u001b[0m\n",
      "\u001b[38;5;208mRemoved vacuous item is\u001b[0m\n",
      "         => ('is',) = None \t(NN)\u001b[0m\n",
      "\u001b[38;5;208mRemoved vacuous item ('is',)\u001b[0m\n",
      "      => (('is',), ('saw', 't_0')) = lambda z: SAW(z, x) \t(NN)\u001b[0m\n",
      "      Interpreting Bob with parameters: ['{0: x}']\u001b[0m\n",
      "      => Bob = B \t(TN)\u001b[0m\n",
      "   => ('Bob', (('is',), ('saw', 't_0'))) = SAW(B, x) \t(AF)\u001b[0m\n",
      "=> (0, ('Bob', (('is',), ('saw', 't_0')))) = lambda x: SAW(B, x) \t(PA)\u001b[0m\n"
     ]
    },
    {
     "data": {
      "text/html": [
       "lambda x: SAW(B, x)\n",
       "        <span style='float:right; font-family:monospace; margin-right:75px;\n",
       "              font-weight:bold; background-color:#e5e5ff; color:#000'>\n",
       "          ('e', 't')</span>"
      ],
      "text/plain": [
       "lambda x: SAW(B, x)"
      ]
     },
     "execution_count": 7,
     "metadata": {},
     "output_type": "execute_result"
    }
   ],
   "source": [
    "#console_handler.setLevel(logging.DEBUG)\n",
    "m.i((0, ('Bob', (('is',), ('saw', 't_0')))), {})\n",
    "#console_handler.setLevel(logging.INFO)"
   ]
  },
  {
   "cell_type": "code",
   "execution_count": 4,
   "metadata": {},
   "outputs": [
    {
     "name": "stderr",
     "output_type": "stream",
     "text": [
      "Interpreting (0, ('Bob', ('saw', 't_0'))) with parameters: [{}]\u001b[0m\n",
      "   Interpreting ('Bob', ('saw', 't_0')) with parameters: ['{0: x}']\u001b[0m\n",
      "      Interpreting ('saw', 't_0') with parameters: ['{0: x}']\u001b[0m\n",
      "         Interpreting t_0 with parameters: ['{0: x}']\u001b[0m\n",
      "         => t_0 = x \t(TP)\u001b[0m\n",
      "         Interpreting saw with parameters: ['{0: x}']\u001b[0m\n",
      "         => saw = lambda y: lambda x: SAW(x, y) \t(TN)\u001b[0m\n",
      "      => ('saw', 't_0') = lambda z: SAW(z, x) \t(FA)\u001b[0m\n",
      "      Interpreting Bob with parameters: ['{0: x}']\u001b[0m\n",
      "      => Bob = B \t(TN)\u001b[0m\n",
      "   => ('Bob', ('saw', 't_0')) = SAW(B, x) \t(AF)\u001b[0m\n",
      "=> (0, ('Bob', ('saw', 't_0'))) = lambda x: SAW(B, x) \t(PA)\u001b[0m\n"
     ]
    },
    {
     "name": "stdout",
     "output_type": "stream",
     "text": [
      "PA SAW(B, x)\n"
     ]
    },
    {
     "data": {
      "text/html": [
       "lambda x: SAW(B, x)\n",
       "        <span style='float:right; font-family:monospace; margin-right:75px;\n",
       "              font-weight:bold; background-color:#e5e5ff; color:#000'>\n",
       "          ('e', 't')</span>"
      ],
      "text/plain": [
       "lambda x: SAW(B, x)"
      ]
     },
     "execution_count": 4,
     "metadata": {},
     "output_type": "execute_result"
    }
   ],
   "source": [
    "from nltk import Tree, ImmutableTree\n",
    "tree = Tree.fromstring('(CP 0 (S Bob (VP saw t_0)))')\n",
    "#console_handler.setLevel(logging.DEBUG)\n",
    "m.i((0, ('Bob', ('saw', 't_0'))), {})\n",
    "console_handler.setLevel(logging.INFO)"
   ]
  },
  {
   "cell_type": "code",
   "execution_count": 5,
   "metadata": {},
   "outputs": [
    {
     "ename": "NameError",
     "evalue": "name 'STOP' is not defined",
     "output_type": "error",
     "traceback": [
      "\u001b[0;31m---------------------------------------------------------------------------\u001b[0m",
      "\u001b[0;31mNameError\u001b[0m                                 Traceback (most recent call last)",
      "Cell \u001b[0;32mIn[5], line 1\u001b[0m\n\u001b[0;32m----> 1\u001b[0m \u001b[43mSTOP\u001b[49m\n",
      "\u001b[0;31mNameError\u001b[0m: name 'STOP' is not defined"
     ]
    }
   ],
   "source": [
    "STOP"
   ]
  },
  {
   "cell_type": "code",
   "execution_count": null,
   "metadata": {},
   "outputs": [],
   "source": [
    "SNORES = Predicate({('A',), (PV.e('B'),)})\n",
    "C = PV.e('C')\n",
    "B = PV.e('B')\n",
    "B\n",
    "B == PV.e('B')\n",
    "console_handler.setLevel(logging.DEBUG)\n",
    "\"(lambda x: (lambda y : SNORES(y))(x))(B)\".et\n",
    "console_handler.setLevel(logging.INFO)"
   ]
  },
  {
   "cell_type": "code",
   "execution_count": null,
   "metadata": {},
   "outputs": [],
   "source": [
    "class MeaningPV(Meaning):\n",
    "  def rules(self, alpha, g={}):\n",
    "    value, rule = None, None\n",
    "    m = self(g)\n",
    "    match alpha:\n",
    "      # PA\n",
    "      case (int() as i, beta):\n",
    "        rule = 'PA'\n",
    "        m = self\n",
    "        value = (lambda x : m.i(beta, g | {i:x})).ee        \n",
    "\n",
    "      # TP\n",
    "      case str() if '_' in alpha and alpha.split('_')[1].isdigit():\n",
    "        i = int(alpha.split('_')[1])\n",
    "        rule = 'TP'\n",
    "        value = 'g[i]'.e\n",
    "\n",
    "      case int() as i:\n",
    "        rule = 'TN'\n",
    "        value = i\n",
    "\n",
    "      case str() as s:\n",
    "        rule = 'PN'\n",
    "        value = self.lookup(s)\n",
    "\n",
    "    return value, rule\n",
    "\n",
    "m = MeaningPV({\n",
    "  'snores' : 'lambda x: SNORES(x)'.et,\n",
    "#  'Allie' : 'A'.e\n",
    "})\n",
    "\n",
    "#console_handler.setLevel(logging.DEBUG)\n",
    "PV(m.i((0, 'he_0'), {}))\n",
    "console_handler.setLevel(logging.INFO)"
   ]
  },
  {
   "cell_type": "code",
   "execution_count": null,
   "metadata": {},
   "outputs": [],
   "source": [
    "modify = (lambda g,i,a: g | {i:a}).xg\n",
    "modify\n",
    "gg = {1:2,3:4}\n",
    "console_handler.setLevel(logging.DEBUG)\n",
    "ff = (lambda x : (gg | {1:x})[1]).eg\n",
    "ff\n",
    "ff(3)\n",
    "console_handler.setLevel(logging.INFO)"
   ]
  },
  {
   "cell_type": "code",
   "execution_count": null,
   "metadata": {},
   "outputs": [],
   "source": [
    "class Meaning5b(Meaning):\n",
    "  def rules(self, alpha):\n",
    "    value, rule = None, None\n",
    "    match alpha:\n",
    "      # PA\n",
    "      case (int() as i, beta):\n",
    "        rule = 'PA'\n",
    "        m = self\n",
    "        value = (lambda x : (lambda g : g[i])(g | {i:x})).ee\n",
    "        value = value(m[beta])\n",
    "        \n",
    "\n",
    "      # TP\n",
    "      case str() if '_' in alpha and alpha.split('_')[1].isdigit():\n",
    "        i = int(alpha.split('_')[1])\n",
    "        rule = 'TP'\n",
    "        value = 'g[0]'.e\n",
    "\n",
    "      case int() as i:\n",
    "        rule = 'TN'\n",
    "        value = i\n",
    "\n",
    "    return value, rule\n",
    "\n",
    "m = Meaning5b({\n",
    "  'snores' : 'lambda x: SNORES(x)'.et,\n",
    "  'Allie' : 'A'.e\n",
    "})\n",
    "\n",
    "ff = m[0, 'he_0']\n",
    "ff\n",
    "(lambda g : ff).ge({1:'Z'.e, 2:'B'.e})\n",
    "#ff({1:'Z'.e, 2:'B'.e})('A'.e)"
   ]
  },
  {
   "cell_type": "code",
   "execution_count": null,
   "metadata": {},
   "outputs": [],
   "source": [
    "class Meaning5b(Meaning):\n",
    "  def rules(self, alpha):\n",
    "    value, rule = None, None\n",
    "    match alpha:\n",
    "      # PA\n",
    "      case (int() as i, beta):\n",
    "        rule = 'PA'\n",
    "        m = self\n",
    "        value = (lambda y : lambda g: lambda x : y(g|{0:x})).ge_gee\n",
    "        logger.warning('value context: %s', value.context)\n",
    "        value = value(m[beta])\n",
    "        logger.warning('value context: %s', value.context)\n",
    "        \n",
    "\n",
    "      # TP\n",
    "      case str() if '_' in alpha and alpha.split('_')[1].isdigit():\n",
    "        i = int(alpha.split('_')[1])\n",
    "        rule = 'TP'\n",
    "        value = (lambda g : g[0]).ge\n",
    "\n",
    "      case int() as i:\n",
    "        rule = 'TN'\n",
    "        value = i\n",
    "\n",
    "    return value, rule\n",
    "\n",
    "m = Meaning5b({\n",
    "  'snores' : 'lambda x: SNORES(x)'.et,\n",
    "  'Allie' : 'A'.e\n",
    "})\n",
    "\n",
    "ff = m[0, 'he_0']\n",
    "ff\n",
    "ff({1:'Z'.e, 2:'B'.e})\n",
    "ff({1:'Z'.e, 2:'B'.e})('A'.e)"
   ]
  },
  {
   "cell_type": "code",
   "execution_count": null,
   "metadata": {},
   "outputs": [],
   "source": [
    "def modify(g, i, a):\n",
    "  g[i] = SemVal(str(a), Type.e)\n",
    "  return g\n",
    "\n",
    "class Meaning5b(Meaning):\n",
    "  def rules(self, alpha, g): # pylint: disable=no-self-argument\n",
    "    \"\"\"Defines standard rules for combining the meanings of the\n",
    "    children of a node alpha. Meant to be overridden if different rules are wanted.\"\"\"\n",
    "\n",
    "    value, rule = None, None\n",
    "    m = self(g)\n",
    "    match alpha:\n",
    "      # PA\n",
    "      case (int() as i, beta):\n",
    "        rule = 'PA'\n",
    "        m = self\n",
    "        value = (lambda x : m(modify(g,i,x))[beta]).et\n",
    "\n",
    "      # PM\n",
    "      case (beta, gamma) if m[gamma].type == m[beta].type == Type.et:\n",
    "        rule = 'PM'\n",
    "        pm_f = Function('lambda f : lambda g: lambda x: f(x) and g(x)', Type.et_et_et)\n",
    "        value = pm_f(m[beta])(m[gamma])\n",
    "\n",
    "      # FA\n",
    "      case (beta, gamma) if  m[gamma] in m[beta].domain() :\n",
    "        rule = 'FA'\n",
    "        value = m[beta](m[gamma])\n",
    "      case (gamma, beta) if  m[gamma] in m[beta].domain() :\n",
    "        rule = 'AF'\n",
    "        value = m[beta](m[gamma])\n",
    "\n",
    "      # NN\n",
    "      case (beta,):\n",
    "        rule = 'NN'\n",
    "        value = m[beta]\n",
    "      \n",
    "      # TP\n",
    "      case str() if '_' in alpha and alpha.split('_')[1].isdigit():\n",
    "        i = int(alpha.split('_')[1])\n",
    "        rule = 'TP'\n",
    "        value = g[i]\n",
    "\n",
    "      # TN\n",
    "      case str():\n",
    "        rule = 'TN'\n",
    "        value = m.lookup(alpha)\n",
    "\n",
    "      case int() as i:\n",
    "        rule = 'TN'\n",
    "        value = i\n",
    "\n",
    "    return value, rule\n",
    "\n",
    "m = Meaning5b({\n",
    "  'snores' : 'lambda x: SNORES(x)'.et,\n",
    "  'Allie' : 'A'.e\n",
    "})\n",
    "\n",
    "ff = m(['Z'.e, 'B'.e])[(0, ('he_0', 'snores'))]\n",
    "ff"
   ]
  },
  {
   "cell_type": "code",
   "execution_count": null,
   "metadata": {},
   "outputs": [],
   "source": [
    "class Meaning5a(Meaning):\n",
    "  def rules(self, alpha, a): # pylint: disable=no-self-argument\n",
    "    \"\"\"Defines standard rules for combining the meanings of the\n",
    "    children of a node alpha. Meant to be overridden if different rules are wanted.\"\"\"\n",
    "\n",
    "    value, rule = None, None\n",
    "    m = self(a)\n",
    "    match alpha:      \n",
    "      # PM\n",
    "      case (beta, gamma) if m[gamma].type == m[beta].type == Type.et:\n",
    "        rule = 'PM'\n",
    "        pm_f = Function('lambda f : lambda g: lambda x: f(x) and g(x)', Type.et_et_et)\n",
    "        value = pm_f(m[beta])(m[gamma])\n",
    "\n",
    "      # FA\n",
    "      case (beta, gamma) if  m[gamma] in m[beta].domain() :\n",
    "        rule = 'FA'\n",
    "        value = m[beta](m[gamma])\n",
    "      case (gamma, beta) if  m[gamma] in m[beta].domain() :\n",
    "        rule = 'AF'\n",
    "        value = m[beta](m[gamma])\n",
    "\n",
    "      # NN\n",
    "      case (beta,):\n",
    "        rule = 'NN'\n",
    "        value = m[beta]\n",
    "\n",
    "      case 't'|'he'|'she'|'it':\n",
    "        rule = 'TP'\n",
    "        value = a\n",
    "      \n",
    "      # TN\n",
    "      case str():\n",
    "        rule = 'TN'\n",
    "        value = m.lookup(alpha)\n",
    "\n",
    "    return value, rule\n",
    "\n",
    "m = Meaning5a({\n",
    "  'snores' : 'lambda x: SNORES(x)'.et,\n",
    "})\n",
    "\n",
    "m('A'.e)['he', 'snores']"
   ]
  },
  {
   "cell_type": "code",
   "execution_count": null,
   "metadata": {},
   "outputs": [],
   "source": [
    "import svgling\n",
    "from nltk import Tree\n",
    "\n",
    "tree = Tree.fromstring('(CP 1 (S (NP (DT The_1) (NN cat)) (VP (VBZ eats) (NP (DT the) (NN mouse)))))')\n",
    "\n",
    "def split_leaf(node):\n",
    "  if isinstance(node, str):\n",
    "    l = node.split('_')\n",
    "    if len(l) > 1:\n",
    "      return svgling.core.subscript_node(l[0], l[1]), ()\n",
    "    return node, ()\n",
    "\n",
    "def _repr_svg_(self):\n",
    "  return svgling.draw_tree(self, tree_split=split_leaf)._repr_svg_()\n",
    "\n",
    "Tree._repr_svg_ = _repr_svg_\n",
    "tree\n",
    "type(tree[0][0][0])\n"
   ]
  },
  {
   "cell_type": "code",
   "execution_count": null,
   "metadata": {},
   "outputs": [],
   "source": [
    "from string import ascii_uppercase\n",
    "DOMAIN = [SemVal.create(c,Type.e) for c in ascii_uppercase]\n",
    "A,B,C,D,E,F,G,H,I,J,K,L,M,N,O,P,Q,R,S,T,U,V,W,X,Y,Z = DOMAIN\n",
    "\n",
    "def charset(f, domain = None):\n",
    "  #logger.warning(f'CHARSET of {repr(f)}')\n",
    "  if domain is None:\n",
    "    domain = DOMAIN\n",
    "  out = {c for c in domain if f(c)}\n",
    "  #logger.warning(f'CHARSET of {f} is {out}')\n",
    "  return out\n",
    "\n",
    "def iota(f, domain = None):\n",
    "  #logger.warning(f'IOTA of {f}')\n",
    "  return max(charset(f,domain))"
   ]
  },
  {
   "cell_type": "code",
   "execution_count": null,
   "metadata": {},
   "outputs": [],
   "source": [
    "from IPython.display import HTML\n",
    "from nltk import Tree\n",
    "# Domain and Predicates / Relations\n",
    "A, B, C, D, E, F, G = DOMAIN[:7]\n",
    "PAWN = Predicate({\n",
    "    (A,), (B,), (C,), (D,), (E,), (F,), (G,)\n",
    "})\n",
    "LEFT_OF = Predicate({\n",
    "    (A,B), (A,C), (A,D), (A,E), (A,F), (A,G),\n",
    "    (B,C), (B,D), (B,E), (B,F), (B,G),\n",
    "    (C,D), (C,E), (C,F), (C,G),\n",
    "    (D,E), (D,F), (D,G),\n",
    "    (E,F), (E,G),\n",
    "    (F,G)            \n",
    "})\n",
    "BLACK = Predicate({\n",
    "    (B,), (D,), (E,), (F,)\n",
    "})\n",
    "\n",
    "\n",
    "# Lexical entries\n",
    "m3 = Meaning({\n",
    "    'leftmost.et'  : 'lambda x : len(charset(lambda y : LEFT_OF(y,x)))==0'.et,\n",
    "    'pawn'      : 'lambda x : PAWN(x)'.et,\n",
    "    'the'       : 'lambda f : (len(charset(f))==1, iota(f))'.et_e,\n",
    "    'black'     : 'lambda x : BLACK(x)'.et\n",
    "})\n",
    "    \n",
    "\n",
    "# CHANGE ONLY BELOW\n",
    "m3.update({\n",
    "    'leftmost.et_et' : 'lambda f : lambda x: len(charset(lambda y : f(y) and LEFT_OF(y,x)))==0'.et_et\n",
    "})\n",
    "# CHANGE ONLY ABOVE\n",
    "\n",
    "HTML(\"<h3>[black pawn]</h3>\")\n",
    "charset(m3['black','pawn'])\n",
    "\n",
    "HTML(\"<h3>[leftmost.et pawn]</h3>\")\n",
    "charset(m3['leftmost.et','pawn'])\n",
    "\n",
    "tree3 = Tree.fromstring('(NP leftmost.et (NP black pawn))')\n",
    "HTML('<h3>[leftmost.et black pawn]</h3>')\n",
    "tree3\n",
    "charset(m3[tree3])\n",
    "\n",
    "HTML(\"<h3>[leftmost.et_et pawn]</h3>\")\n",
    "charset(m3['leftmost.et_et','pawn'])\n",
    "\n",
    "tree3 = Tree.fromstring('(NP leftmost.et_et (NP black pawn))')\n",
    "HTML('<h3>[leftmost.et_et black pawn]</h3>')\n",
    "tree3\n",
    "charset(m3[tree3])"
   ]
  },
  {
   "cell_type": "code",
   "execution_count": null,
   "metadata": {},
   "outputs": [],
   "source": [
    "from nltk import ImmutableTree\n",
    "tt = ImmutableTree.fromstring('(NP leftmost.et_et (NP black pawn))')\n",
    "type([tt]) == list\n"
   ]
  },
  {
   "cell_type": "code",
   "execution_count": null,
   "metadata": {},
   "outputs": [],
   "source": [
    "console_handler.setLevel(logging.INFO)\n",
    "the = 'lambda f: iota(f) if len(charset(f)) == 1 else None'.et_e\n",
    "dog = 'lambda x: x in DOMAIN[:1]'.et\n",
    "charset(dog)\n",
    "the(dog)"
   ]
  },
  {
   "cell_type": "code",
   "execution_count": null,
   "metadata": {},
   "outputs": [],
   "source": [
    "#DOMAIN = DOMAIN[:3]\n",
    "#DOMAIN\n",
    "KILLED = Predicate({(A,B),})\n",
    "BLACK = Predicate({(B,), (C,)})\n",
    "CAT = Predicate({(B,)})\n",
    "ESCAPED = Predicate({(A,)})\n",
    "\n",
    "del KILLED\n",
    "del BLACK\n",
    "del CAT\n",
    "del ESCAPED"
   ]
  },
  {
   "cell_type": "code",
   "execution_count": null,
   "metadata": {},
   "outputs": [],
   "source": [
    "m= Meaning()\n",
    "m.update({\n",
    "  'killer'  : 'lambda y: lambda x :KILLED(x,y)'.eet,\n",
    "  'black'   : 'lambda x: BLACK(x)'.et,\n",
    "  'cat'     : 'lambda x: CAT(x)'.et,\n",
    "  'escaped' : 'lambda x: ESCAPED(x)'.et,\n",
    "  'the'     : 'lambda f: ( len(charset(f))==1, iota(f) )'.et_e\n",
    "})\n",
    "\n",
    "from nltk import Tree\n",
    "tree = Tree.fromstring(\"\"\"\n",
    "(S  (DP the\n",
    "        (NP killer\n",
    "            (PP of\n",
    "                (DP the\n",
    "                    (NP black cat)\n",
    "                )\n",
    "            )\n",
    "        )\n",
    "    )\n",
    "    (VP escaped)\n",
    ")\n",
    "\"\"\")\n",
    "\n",
    "test = tree[0][1][1][1]\n",
    "test = tree\n",
    "test\n",
    "\n",
    "m[test]\n",
    "\n",
    "\n"
   ]
  },
  {
   "cell_type": "code",
   "execution_count": null,
   "metadata": {},
   "outputs": [],
   "source": [
    "m.memo"
   ]
  },
  {
   "cell_type": "code",
   "execution_count": null,
   "metadata": {},
   "outputs": [],
   "source": [
    "from nltk import Tree\n",
    "tree = Tree.fromstring(\"\"\"\n",
    "(S\n",
    "  (NP Julius)\n",
    "  (VP is\n",
    "      (VP sleeping\n",
    "          (PP on (NP the couch))\n",
    "      )\n",
    "  )\n",
    ")\"\"\")\n",
    "tree\n",
    "\n",
    "m = Meaning({\n",
    "    'Julius'    : 'J'.e,\n",
    "    'the'       : 'lambda f: iota(f)'.et_e,\n",
    "\n",
    "})\n",
    "\n",
    "#m[tree]"
   ]
  },
  {
   "cell_type": "code",
   "execution_count": null,
   "metadata": {},
   "outputs": [],
   "source": [
    "#!pip install nltk\n",
    "from nltk import Tree\n",
    "#!pip install svgling"
   ]
  },
  {
   "cell_type": "code",
   "execution_count": null,
   "metadata": {},
   "outputs": [],
   "source": [
    "node = parse('PAWN(\"A\")', mode='eval')\n",
    "obj = compile(node, '<string>', 'eval')\n",
    "eval(obj)"
   ]
  },
  {
   "cell_type": "code",
   "execution_count": null,
   "metadata": {},
   "outputs": [],
   "source": [
    "m = Meaning({\n",
    "    'Joe'     : 'J'.e,\n",
    "    'Kaline'  : 'K'.e,\n",
    "    'cat'     : 'lambda x: CAT(x)'.et,\n",
    "    'gray'    : 'lambda f : lambda x: f(x) and GRAY(x)'.et_et,\n",
    "})\n",
    "\n",
    "m['Joe', 'cat']"
   ]
  },
  {
   "cell_type": "code",
   "execution_count": null,
   "metadata": {},
   "outputs": [],
   "source": [
    "t = Tree.fromstring('(S (NP Joe) (VP cat (VP (V is) (NP cat gray))))')\n",
    "t\n",
    "\n",
    "m[t]"
   ]
  },
  {
   "cell_type": "code",
   "execution_count": null,
   "metadata": {},
   "outputs": [],
   "source": [
    "m.update({\n",
    "  'gray'    : 'lambda f : lambda x: f(x) and GRAY(x)'.eet_t,\n",
    "  })\n",
    "\n",
    "m['gray']\n",
    "m[t]"
   ]
  },
  {
   "cell_type": "code",
   "execution_count": null,
   "metadata": {},
   "outputs": [],
   "source": [
    "class Meaning4(Meaning):\n",
    "  def rules(m, alpha):\n",
    "    match alpha:      # Note: m.quiet(  ) turns off printing\n",
    "      # PM\n",
    "      case (beta, gamma) if m.quiet(  m[gamma].type == m[beta].type == Type.et ):\n",
    "        rule = 'PM'\n",
    "        value = 'lambda f : lambda g: lambda x: f(x) and g(x)'.et_et_et(m[beta])(m[gamma])\n",
    "\n",
    "      # FA\n",
    "      case (beta, gamma) if m.quiet(  m[gamma] in m[beta].domain()  ):\n",
    "        rule = 'FA'\n",
    "        value = m[beta](m[gamma])\n",
    "      case (gamma, beta) if m.quiet(  m[gamma] in m[beta].domain()  ):\n",
    "        rule = 'AF'\n",
    "        value = m[beta](m[gamma])\n",
    "\n",
    "      # NN\n",
    "      case (beta,):\n",
    "        rule = 'NN'\n",
    "        value = m[beta]\n",
    "\n",
    "      # TN\n",
    "      case str():\n",
    "        rule = 'TN'\n",
    "        value = m.lookup(alpha)\n",
    "\n",
    "      case _:\n",
    "        rule = '??'\n",
    "        value = alpha\n",
    "\n",
    "    return value, rule\n",
    "\n",
    "m4 = Meaning4({\n",
    "    'Joe'     : 'J'.e,\n",
    "    'Kaline'  : 'K'.e,\n",
    "    'Texas'   : 'T'.e,\n",
    "    'in'      : 'lambda x: lambda y: IN(y,x)'.eet,\n",
    "    'cat'     : 'lambda x: CAT(x)'.et,\n",
    "    'gray'    : 'lambda x: GRAY(x)'.et,\n",
    "})\n",
    "\n",
    "m4['gray', 'cat']\n",
    "m4['Kaline', [['gray', 'cat'], ['in', 'Texas']]]"
   ]
  },
  {
   "cell_type": "code",
   "execution_count": null,
   "metadata": {},
   "outputs": [],
   "source": [
    "class Meaning3(Meaning):\n",
    "  def rules(m, alpha):\n",
    "    match alpha:      # Note: m.quiet(  ) turns off printing\n",
    "      # FA\n",
    "      case (beta, gamma) if m.quiet(  m[gamma] in m[beta].domain()  ):\n",
    "        rule = 'FA'\n",
    "        value = m[beta](m[gamma])\n",
    "      case (gamma, beta) if m.quiet(  m[gamma] in m[beta].domain()  ):\n",
    "        rule = 'AF'\n",
    "        value = m[beta](m[gamma])\n",
    "\n",
    "      # NN\n",
    "      case (beta,):\n",
    "        rule = 'NN'\n",
    "        value = m[beta]\n",
    "\n",
    "      # TN\n",
    "      case str():\n",
    "        rule = 'TN'\n",
    "        value = m.lookup(alpha)\n",
    "\n",
    "      case _:\n",
    "        rule = '??'\n",
    "        value = alpha\n",
    "\n",
    "    return value, rule\n",
    "\n",
    "m3 = Meaning3({\n",
    "    'Joe'     : 'J'.e,\n",
    "    'Kaline'  : 'K'.e,\n",
    "    'cat'     : 'lambda x: CAT(x)'.et,\n",
    "    'gray'    : 'lambda f: lambda x: f(x) and GRAY(x)'.et_et,\n",
    "    'fond'    : ...\n",
    "})\n",
    "\n",
    "#m3['Joe']\n",
    "#m3['Kaline']\n",
    "#m3['cat']\n",
    "#m3['Kaline', 'cat']\n",
    "m3[('a',)]\n",
    "m3['a', 'cat']\n",
    "m3['is', ['a', 'cat']]\n",
    "m3['Kaline', [['fond', 'Joe'], ['gray', 'cat']]]\n",
    "m3['Kaline', 'gray']"
   ]
  },
  {
   "cell_type": "code",
   "execution_count": null,
   "metadata": {},
   "outputs": [],
   "source": [
    "m3.update({'is': 'lambda f: lambda x: f(lambda y:1)(x)'.et_et__et})\n",
    "\n",
    "m3['gray']\n",
    "m3['is', 'gray']"
   ]
  },
  {
   "cell_type": "code",
   "execution_count": null,
   "metadata": {},
   "outputs": [],
   "source": [
    "tree = Tree.fromstring('(S (NP (N Kaline)) (VP is (NP (Det a) (N cat))))')\n",
    "tree\n",
    "m3[tree]"
   ]
  },
  {
   "cell_type": "code",
   "execution_count": null,
   "metadata": {},
   "outputs": [],
   "source": [
    "class Meaning3(Meaning):\n",
    "  def rules(m, alpha):\n",
    "    match alpha:      # Note: m.quiet(  ) turns off printing\n",
    "      # FA\n",
    "      case (beta, gamma) if m.quiet(  m[gamma] in m[beta].domain()  ):\n",
    "        rule = 'FA'\n",
    "        value = m[beta](m[gamma])\n",
    "      case (gamma, beta) if m.quiet(  m[gamma] in m[beta].domain()  ):\n",
    "        rule = 'AF'\n",
    "        value = m[beta](m[gamma])\n",
    "\n",
    "      # NN\n",
    "      case (beta,):\n",
    "        rule = 'NN'\n",
    "        value = m[beta]\n",
    "\n",
    "      # TN\n",
    "      case str():# if alpha in m:\n",
    "        rule = 'TN'\n",
    "        value = m.lookup(alpha)\n",
    "\n",
    "      case _:\n",
    "        rule = '??'\n",
    "        value = alpha\n",
    "    return value, rule\n",
    "\n",
    "m = Meaning3({\n",
    "    'Ann'     : 'A'.e,\n",
    "    'smokes'  : 'lambda x: SMOKES(x)'.et,\n",
    "    'tall'    : 'lambda x: TALL(x)'.et,\n",
    "    'likes'   : 'lambda x: lambda y: LIKES(x,y)'.eet,\n",
    "#    'is'      : None,\n",
    "})\n",
    "\n",
    "m['Ann']\n",
    "m['smokes']\n",
    "m['Ann', 'smokes']\n",
    "m['smokes', 'Ann']"
   ]
  },
  {
   "cell_type": "code",
   "execution_count": null,
   "metadata": {},
   "outputs": [],
   "source": [
    "m['tall', 'is']"
   ]
  },
  {
   "cell_type": "code",
   "execution_count": null,
   "metadata": {},
   "outputs": [],
   "source": [
    "t = [1,2]\n",
    "t = t - [1]"
   ]
  },
  {
   "cell_type": "code",
   "execution_count": null,
   "metadata": {},
   "outputs": [],
   "source": [
    "'lambda f:lambda x: f(x) and GRAY(x)'.et"
   ]
  },
  {
   "cell_type": "code",
   "execution_count": null,
   "metadata": {},
   "outputs": [],
   "source": [
    "'(lambda x: lambda y: lambda z: INTRODUCED(z,x,y))(S)'.eet"
   ]
  },
  {
   "cell_type": "markdown",
   "metadata": {},
   "source": [
    "a. [λx.[λy.[λz.z introduced x to y]]](Ann)(Sue)\n",
    "\n",
    "b. [λx.[λy.[λz.z introduced x to y](Ann)](Sue)]\n",
    "\n",
    "c. [λx.[λy.[λz.z introduced x to y](Ann)]](Sue) \n",
    "\n",
    "d. [λx.[λy.[λz.z introduced x to y]](Ann)](Sue)\n",
    "\n",
    "e. [λf.[λx.f(x)=1 and x is gray]]([λy.y is a cat])\n",
    "\n",
    "f. [λg.[λx.g(x)(Ann)=1]]([λy.[λz.z saw y]])\n",
    "\n",
    "g. [λm.[λn.n>3 and n<7](m)] \n",
    "\n",
    "h. [λm.[λn.[λo.o>3 and o<7](n)](m)] "
   ]
  },
  {
   "cell_type": "code",
   "execution_count": null,
   "metadata": {},
   "outputs": [],
   "source": [
    "'lambda g: (lambda x:g(x)(Ann))'.eet_et('lambda y:lambda z:SAW(z,y)'.eet)\n",
    "\n",
    "'lambda m: lambda n:n>3 and m<7'.eet('3'.e)"
   ]
  },
  {
   "cell_type": "code",
   "execution_count": null,
   "metadata": {},
   "outputs": [],
   "source": [
    "catf = 'lambda y:CAT(y)'.et\n",
    "\n",
    "ff = 'lambda f: lambda x: f(x) and GRAY(x)'.et_et\n",
    "ff(catf)\n",
    "\n",
    "gg = 'lambda f: f(A)'.eet_et\n",
    "gg\n",
    "gg('lambda x:lambda y:FOO(x,y)'.eet)"
   ]
  },
  {
   "cell_type": "code",
   "execution_count": null,
   "metadata": {},
   "outputs": [],
   "source": [
    "Function('lambda y: CAT(y)', Type(('e', 't')))('x') and GRAY('x')"
   ]
  },
  {
   "cell_type": "code",
   "execution_count": null,
   "metadata": {},
   "outputs": [],
   "source": [
    "import ast\n",
    "ast.dump(ast.parse('x smokes', mode= 'eval'))"
   ]
  }
 ],
 "metadata": {
  "kernelspec": {
   "display_name": "Python 3",
   "language": "python",
   "name": "python3"
  },
  "language_info": {
   "codemirror_mode": {
    "name": "ipython",
    "version": 3
   },
   "file_extension": ".py",
   "mimetype": "text/x-python",
   "name": "python",
   "nbconvert_exporter": "python",
   "pygments_lexer": "ipython3",
   "version": "3.12.1"
  }
 },
 "nbformat": 4,
 "nbformat_minor": 2
}
