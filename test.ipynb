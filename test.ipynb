{
 "cells": [
  {
   "cell_type": "code",
   "execution_count": 1,
   "metadata": {},
   "outputs": [
    {
     "name": "stdout",
     "output_type": "stream",
     "text": [
      "\n",
      "             _    _                  _    _\n",
      "            | |  | |                | |  | |\n",
      "           _| |_ | |__   ___  ___  _| |_ | |__   ___  _ __ _   _  ____\n",
      "          /     \\| '_ \\ / _ \\/ __|/     \\| '_ \\ / _ \\| '__| | | |/ ___)\n",
      "         ( (| |) ) | | | (_) \\__ ( (| |) ) | | | (_) | |  | |_| ( (__\n",
      "          \\_   _/|_| |_|\\___/|___/\\_   _/|_| |_|\\___/|_|   \\__,_|\\__ \\\n",
      "            | |                     | |                            _) )\n",
      "            |_|                     |_|                           (__/\n",
      "\n",
      "        Welcome to the Phosphorus Meaning Engine v3\n",
      "        Created by Ezra Keshet (EzraKeshet.com)\n",
      "\n",
      "\n"
     ]
    }
   ],
   "source": [
    "from phosphorus import *\n",
    "%config InteractiveShell.ast_node_interactivity='all'"
   ]
  },
  {
   "cell_type": "code",
   "execution_count": 2,
   "metadata": {},
   "outputs": [
    {
     "data": {
      "text/plain": [
       "3"
      ]
     },
     "execution_count": 2,
     "metadata": {},
     "output_type": "execute_result"
    },
    {
     "data": {
      "text/plain": [
       "{('B',), ('C',)}"
      ]
     },
     "execution_count": 2,
     "metadata": {},
     "output_type": "execute_result"
    },
    {
     "data": {
      "text/plain": [
       "2"
      ]
     },
     "execution_count": 2,
     "metadata": {},
     "output_type": "execute_result"
    },
    {
     "data": {
      "text/plain": [
       "False"
      ]
     },
     "execution_count": 2,
     "metadata": {},
     "output_type": "execute_result"
    },
    {
     "data": {
      "text/plain": [
       "set()"
      ]
     },
     "execution_count": 2,
     "metadata": {},
     "output_type": "execute_result"
    },
    {
     "data": {
      "text/plain": [
       "0"
      ]
     },
     "execution_count": 2,
     "metadata": {},
     "output_type": "execute_result"
    },
    {
     "data": {
      "text/plain": [
       "True"
      ]
     },
     "execution_count": 2,
     "metadata": {},
     "output_type": "execute_result"
    }
   ],
   "source": [
    "A,B,C,D,E,F,G,H,I,J,K,L,M,N,O,P,Q,R,S,T,U,V,W,X,Y,Z = DOMAIN\n",
    "CAT   = Predicate({(A,), (B,), (C,)})\n",
    "BLACK = Predicate({(B,), (C,), (D,)})\n",
    "DOG   = Predicate({(D,), (E,), (F,)})\n",
    "\n",
    "len(CAT)\n",
    "CAT & BLACK\n",
    "len(CAT & BLACK)\n",
    "not CAT & BLACK\n",
    "CAT & DOG\n",
    "len(CAT & DOG)\n",
    "not CAT & DOG"
   ]
  },
  {
   "cell_type": "code",
   "execution_count": 3,
   "metadata": {},
   "outputs": [
    {
     "data": {
      "text/html": [
       "1\n",
       "        <span style='float:right; font-family:monospace; margin-right:75px;\n",
       "              font-weight:bold; background-color:#e5e5ff; color:#000'>\n",
       "          't'</span>"
      ],
      "text/plain": [
       "1"
      ]
     },
     "execution_count": 3,
     "metadata": {},
     "output_type": "execute_result"
    },
    {
     "data": {
      "text/plain": [
       "3"
      ]
     },
     "execution_count": 3,
     "metadata": {},
     "output_type": "execute_result"
    }
   ],
   "source": [
    "ff = (lambda x: CAT(x)).et\n",
    "PV(ff(A))\n",
    "len(ff)"
   ]
  },
  {
   "cell_type": "code",
   "execution_count": 4,
   "metadata": {},
   "outputs": [
    {
     "ename": "NameError",
     "evalue": "name 'STOP' is not defined",
     "output_type": "error",
     "traceback": [
      "\u001b[0;31m---------------------------------------------------------------------------\u001b[0m",
      "\u001b[0;31mNameError\u001b[0m                                 Traceback (most recent call last)",
      "Cell \u001b[0;32mIn[4], line 1\u001b[0m\n\u001b[0;32m----> 1\u001b[0m \u001b[43mSTOP\u001b[49m\n",
      "\u001b[0;31mNameError\u001b[0m: name 'STOP' is not defined"
     ]
    }
   ],
   "source": [
    "STOP"
   ]
  },
  {
   "cell_type": "code",
   "execution_count": null,
   "metadata": {},
   "outputs": [
    {
     "data": {
      "text/html": [
       "lambda y: BOOK(y) and WROTE(x, y)\n",
       "        <span style='float:right; font-family:monospace; margin-right:75px;\n",
       "              font-weight:bold; background-color:#e5e5ff; color:#000'>\n",
       "          ('e', 't')</span>"
      ],
      "text/plain": [
       "lambda y: BOOK(y) and WROTE(x, y)"
      ]
     },
     "execution_count": 2,
     "metadata": {},
     "output_type": "execute_result"
    }
   ],
   "source": [
    "ff = 'BOOK'.et \n",
    "gg = (lambda y: WROTE(x, y)).et\n",
    "\n",
    "(lambda x: ff(x) and gg(x)).et"
   ]
  },
  {
   "cell_type": "code",
   "execution_count": null,
   "metadata": {},
   "outputs": [
    {
     "data": {
      "image/svg+xml": [
       "<svg baseProfile=\"full\" height=\"168px\" preserveAspectRatio=\"xMidYMid meet\" style=\"font-family: times, serif; font-weight: normal; font-style: normal; font-size: 16px\" version=\"1.1\" viewBox=\"0,0,152.0,168.0\" width=\"152px\" xmlns=\"http://www.w3.org/2000/svg\" xmlns:ev=\"http://www.w3.org/2001/xml-events\" xmlns:xlink=\"http://www.w3.org/1999/xlink\"><defs /><svg width=\"100%\" x=\"0\" y=\"0px\"><defs /><text text-anchor=\"middle\" x=\"50%\" y=\"16px\">S</text></svg><svg width=\"26.3158%\" x=\"0%\" y=\"48px\"><defs /><svg width=\"100%\" x=\"0\" y=\"0px\"><defs /><text text-anchor=\"middle\" x=\"50%\" y=\"16px\">DP1</text></svg><svg width=\"100%\" x=\"0%\" y=\"48px\"><defs /><svg width=\"100%\" x=\"0\" y=\"0px\"><defs /><text text-anchor=\"middle\" x=\"50%\" y=\"16px\">Bob</text></svg></svg><line stroke=\"black\" x1=\"50%\" x2=\"50%\" y1=\"20px\" y2=\"48px\" /></svg><line stroke=\"black\" x1=\"50%\" x2=\"13.1579%\" y1=\"20px\" y2=\"48px\" /><svg width=\"73.6842%\" x=\"26.3158%\" y=\"48px\"><defs /><svg width=\"100%\" x=\"0\" y=\"0px\"><defs /><text text-anchor=\"middle\" x=\"50%\" y=\"16px\">VP</text></svg><svg width=\"64.2857%\" x=\"0%\" y=\"48px\"><defs /><svg width=\"100%\" x=\"0\" y=\"0px\"><defs /><text text-anchor=\"middle\" x=\"50%\" y=\"16px\">V</text></svg><svg width=\"100%\" x=\"0%\" y=\"48px\"><defs /><svg width=\"100%\" x=\"0\" y=\"0px\"><defs /><text text-anchor=\"middle\" x=\"50%\" y=\"16px\">invited</text></svg></svg><line stroke=\"black\" x1=\"50%\" x2=\"50%\" y1=\"20px\" y2=\"48px\" /></svg><line stroke=\"black\" x1=\"50%\" x2=\"32.1429%\" y1=\"20px\" y2=\"48px\" /><svg width=\"35.7143%\" x=\"64.2857%\" y=\"48px\"><defs /><svg width=\"100%\" x=\"0\" y=\"0px\"><defs /><text text-anchor=\"middle\" x=\"50%\" y=\"16px\">DP2</text></svg><svg width=\"100%\" x=\"0%\" y=\"48px\"><defs /><svg width=\"100%\" x=\"0\" y=\"0px\"><defs /><text text-anchor=\"middle\" x=\"50%\" y=\"16px\">t</text></svg></svg><line stroke=\"black\" x1=\"50%\" x2=\"50%\" y1=\"20px\" y2=\"48px\" /></svg><line stroke=\"black\" x1=\"50%\" x2=\"82.1429%\" y1=\"20px\" y2=\"48px\" /></svg><line stroke=\"black\" x1=\"50%\" x2=\"63.1579%\" y1=\"20px\" y2=\"48px\" /></svg>"
      ],
      "text/plain": [
       "Tree('S', [Tree('DP1', ['Bob']), Tree('VP', [Tree('V', ['invited']), Tree('DP2', ['t'])])])"
      ]
     },
     "execution_count": 11,
     "metadata": {},
     "output_type": "execute_result"
    },
    {
     "data": {
      "text/html": [
       "<h3>Assignment B</h3>"
      ],
      "text/plain": [
       "<IPython.core.display.HTML object>"
      ]
     },
     "execution_count": 11,
     "metadata": {},
     "output_type": "execute_result"
    },
    {
     "name": "stderr",
     "output_type": "stream",
     "text": [
      "Interpreting (S (DP1 Bob) (VP (V invited) (DP2 t))) with parameters: [(\"'B'\", 'e')]\u001b[0m\n",
      "   Interpreting (VP (V invited) (DP2 t)) with parameters: [(\"'B'\", 'e')]\u001b[0m\n",
      "      Interpreting (DP2 t) with parameters: [(\"'B'\", 'e')]\u001b[0m\n",
      "         Interpreting t with parameters: [(\"'B'\", 'e')]\u001b[0m\n",
      "         => t = 'B'  type: 'e'\t(TP)\u001b[0m\n",
      "      => (DP2 t) = 'B'  type: 'e'\t(NN)\u001b[0m\n",
      "      Interpreting (V invited) with parameters: [(\"'B'\", 'e')]\u001b[0m\n",
      "         Interpreting invited with parameters: [(\"'B'\", 'e')]\u001b[0m\n",
      "         => invited = lambda y: lambda x: INVITED(x, y)  type: ('e', ('e', 't'))\t(TN)\u001b[0m\n",
      "      => (V invited) = lambda y: lambda x: INVITED(x, y)  type: ('e', ('e', 't'))\t(NN)\u001b[0m\n",
      "   => (VP (V invited) (DP2 t)) = lambda x: INVITED(x, 'B')  type: ('e', 't')\t(FA)\u001b[0m\n",
      "   Interpreting (DP1 Bob) with parameters: [(\"'B'\", 'e')]\u001b[0m\n",
      "      Interpreting Bob with parameters: [(\"'B'\", 'e')]\u001b[0m\n",
      "      => Bob = 'B'  type: 'e'\t(TN)\u001b[0m\n",
      "   => (DP1 Bob) = 'B'  type: 'e'\t(NN)\u001b[0m\n",
      "=> (S (DP1 Bob) (VP (V invited) (DP2 t))) = 1  type: 't'\t(AF)\u001b[0m\n"
     ]
    },
    {
     "data": {
      "text/plain": [
       "1"
      ]
     },
     "execution_count": 11,
     "metadata": {},
     "output_type": "execute_result"
    },
    {
     "data": {
      "text/html": [
       "<h3>Assignment J</h3>"
      ],
      "text/plain": [
       "<IPython.core.display.HTML object>"
      ]
     },
     "execution_count": 11,
     "metadata": {},
     "output_type": "execute_result"
    },
    {
     "name": "stderr",
     "output_type": "stream",
     "text": [
      "\u001b[90mvisiting J Name(id='J', ctx=Load()) None\u001b[0m\n",
      "\u001b[90mEvaluated J to 'J' (<class 'phosphorus.semval.Constant'>)\u001b[0m\n",
      "\u001b[90mDUMP Name(id='J', ctx=Load())\u001b[0m\n",
      "\u001b[90mCleared Memo buffer: {}\u001b[0m\n",
      "Interpreting (S (DP1 Bob) (VP (V invited) (DP2 t))) with parameters: [(\"'J'\", 'e')]\u001b[0m\n",
      "   Interpreting (VP (V invited) (DP2 t)) with parameters: [(\"'J'\", 'e')]\u001b[0m\n",
      "      Interpreting (DP2 t) with parameters: [(\"'J'\", 'e')]\u001b[0m\n",
      "         Interpreting t with parameters: [(\"'J'\", 'e')]\u001b[0m\n",
      "\u001b[90mvisiting a Name(id='a', ctx=Load()) None\u001b[0m\n",
      "\u001b[90mEvaluated a to 'J' (<class 'phosphorus.semval.Constant'>)\u001b[0m\n",
      "\u001b[90mDUMP Name(id='a', ctx=Load())\u001b[0m\n",
      "         => t = 'J'  type: 'e'\t(TP)\u001b[0m\n",
      "\u001b[90mMemoizing value for (t, (\"Constant(value='J')\",)): 'J'\u001b[0m\n",
      "\u001b[90mvisiting m.i(beta, a) Call(func=Attribute(value=Name(id='m', ctx=Load()), attr='i', ctx=Load()), args=[Name(id='beta', ctx=Load()), Name(id='a', ctx=Load())], keywords=[]) None\u001b[0m\n",
      "\u001b[90mUsing memoized value for (t, (\"Constant(value='J')\",)): 'J'\u001b[0m\n",
      "\u001b[90mEvaluated m.i(beta, a) to 'J' (<class 'phosphorus.semval.Constant'>)\u001b[0m\n",
      "\u001b[90mDUMP Call(func=Attribute(value=Name(id='m', ctx=Load()), attr='i', ctx=Load()), args=[Name(id='beta', ctx=Load()), Name(id='a', ctx=Load())], keywords=[])\u001b[0m\n",
      "      => (DP2 t) = 'J'  type: 'e'\t(NN)\u001b[0m\n",
      "\u001b[90mMemoizing value for ((DP2 t), (\"Constant(value='J')\",)): 'J'\u001b[0m\n",
      "      Interpreting (V invited) with parameters: [(\"'J'\", 'e')]\u001b[0m\n",
      "         Interpreting invited with parameters: [(\"'J'\", 'e')]\u001b[0m\n",
      "\u001b[90mvisiting lambda y: lambda x: INVITED(x, y) Lambda(args=arguments(posonlyargs=[], args=[arg(arg='y')], kwonlyargs=[], kw_defaults=[], defaults=[]), body=Lambda(args=arguments(posonlyargs=[], args=[arg(arg='x')], kwonlyargs=[], kw_defaults=[], defaults=[]), body=Call(func=Name(id='INVITED', ctx=Load()), args=[Name(id='x', ctx=Load()), Name(id='y', ctx=Load())], keywords=[]))) None\u001b[0m\n",
      "\u001b[90mError evaluating lambda y: lambda x: INVITED(x, y) Lambda(args=arguments(posonlyargs=[], args=[arg(arg='y')], kwonlyargs=[], kw_defaults=[], defaults=[]), body=Lambda(args=arguments(posonlyargs=[], args=[arg(arg='x')], kwonlyargs=[], kw_defaults=[], defaults=[]), body=Call(func=Name(id='INVITED', ctx=Load()), args=[Name(id='x', ctx=Load()), Name(id='y', ctx=Load())], keywords=[])))\u001b[0m\n",
      "\u001b[90mERROR: invalid syntax (<unknown>, line 1)\u001b[0m\n",
      "\u001b[90mvisiting lambda x: INVITED(x, y) Lambda(args=arguments(posonlyargs=[], args=[arg(arg='x')], kwonlyargs=[], kw_defaults=[], defaults=[]), body=Call(func=Name(id='INVITED', ctx=Load()), args=[Name(id='x', ctx=Load()), Name(id='y', ctx=Load())], keywords=[])) None\u001b[0m\n",
      "\u001b[90mError evaluating lambda x: INVITED(x, y) Lambda(args=arguments(posonlyargs=[], args=[arg(arg='x')], kwonlyargs=[], kw_defaults=[], defaults=[]), body=Call(func=Name(id='INVITED', ctx=Load()), args=[Name(id='x', ctx=Load()), Name(id='y', ctx=Load())], keywords=[]))\u001b[0m\n",
      "\u001b[90mERROR: invalid syntax (<unknown>, line 1)\u001b[0m\n",
      "\u001b[90mvisiting INVITED(x, y) Call(func=Name(id='INVITED', ctx=Load()), args=[Name(id='x', ctx=Load()), Name(id='y', ctx=Load())], keywords=[]) None\u001b[0m\n",
      "\u001b[90mError evaluating INVITED(x, y) Call(func=Name(id='INVITED', ctx=Load()), args=[Name(id='x', ctx=Load()), Name(id='y', ctx=Load())], keywords=[])\u001b[0m\n",
      "\u001b[90mERROR: name 'x' is not defined\u001b[0m\n",
      "\u001b[90mCALL visiting Call INVITED(x, y)\n",
      "Call(func=Name(id='INVITED', ctx=Load()), args=[Name(id='x', ctx=Load()), Name(id='y', ctx=Load())], keywords=[])\u001b[0m\n",
      "\u001b[90mvisiting INVITED Name(id='INVITED', ctx=Load()) None\u001b[0m\n",
      "\u001b[90mError evaluating INVITED Name(id='INVITED', ctx=Load())\u001b[0m\n",
      "\u001b[90mERROR: 'str' object is not callable\u001b[0m\n",
      "\u001b[90mvisiting x Name(id='x', ctx=Load()) None\u001b[0m\n",
      "\u001b[90mError evaluating x Name(id='x', ctx=Load())\u001b[0m\n",
      "\u001b[90mERROR: name 'x' is not defined\u001b[0m\n",
      "\u001b[90mvisiting y Name(id='y', ctx=Load()) None\u001b[0m\n",
      "\u001b[90mError evaluating y Name(id='y', ctx=Load())\u001b[0m\n",
      "\u001b[90mERROR: name 'y' is not defined\u001b[0m\n",
      "\u001b[90mLookup for invited: lambda y: lambda x: INVITED(x, y) (<class 'phosphorus.semval.Lambda'>)\u001b[0m\n",
      "         => invited = lambda y: lambda x: INVITED(x, y)  type: ('e', ('e', 't'))\t(TN)\u001b[0m\n",
      "\u001b[90mMemoizing value for (invited, (\"Constant(value='J')\",)): lambda y: lambda x: INVITED(x, y)\u001b[0m\n",
      "\u001b[90mvisiting m.i(beta, a) Call(func=Attribute(value=Name(id='m', ctx=Load()), attr='i', ctx=Load()), args=[Name(id='beta', ctx=Load()), Name(id='a', ctx=Load())], keywords=[]) None\u001b[0m\n",
      "\u001b[90mUsing memoized value for (invited, (\"Constant(value='J')\",)): lambda y: lambda x: INVITED(x, y)\u001b[0m\n",
      "\u001b[90mEvaluated m.i(beta, a) to lambda y: lambda x: INVITED(x, y) (<class 'phosphorus.semval.Lambda'>)\u001b[0m\n",
      "\u001b[90mDUMP Call(func=Attribute(value=Name(id='m', ctx=Load()), attr='i', ctx=Load()), args=[Name(id='beta', ctx=Load()), Name(id='a', ctx=Load())], keywords=[])\u001b[0m\n",
      "      => (V invited) = lambda y: lambda x: INVITED(x, y)  type: ('e', ('e', 't'))\t(NN)\u001b[0m\n",
      "\u001b[90mMemoizing value for ((V invited), (\"Constant(value='J')\",)): lambda y: lambda x: INVITED(x, y)\u001b[0m\n",
      "\u001b[90mUsing memoized value for ((DP2 t), (\"Constant(value='J')\",)): 'J'\u001b[0m\n",
      "\u001b[90mUsing memoized value for ((V invited), (\"Constant(value='J')\",)): lambda y: lambda x: INVITED(x, y)\u001b[0m\n",
      "\u001b[90mUsing memoized value for ((DP2 t), (\"Constant(value='J')\",)): 'J'\u001b[0m\n",
      "\u001b[90mError in takes: 'Lambda' object is not callable lambda y: lambda x: INVITED(x, y)('J')\u001b[0m\n",
      "\u001b[90mvisiting m.i(beta, a)(m.i(gamma, a)) Call(func=Call(func=Attribute(value=Name(id='m', ctx=Load()), attr='i', ctx=Load()), args=[Name(id='beta', ctx=Load()), Name(id='a', ctx=Load())], keywords=[]), args=[Call(func=Attribute(value=Name(id='m', ctx=Load()), attr='i', ctx=Load()), args=[Name(id='gamma', ctx=Load()), Name(id='a', ctx=Load())], keywords=[])], keywords=[]) None\u001b[0m\n",
      "\u001b[90mUsing memoized value for ((V invited), (\"Constant(value='J')\",)): lambda y: lambda x: INVITED(x, y)\u001b[0m\n",
      "\u001b[90mUsing memoized value for ((DP2 t), (\"Constant(value='J')\",)): 'J'\u001b[0m\n",
      "\u001b[90mError evaluating m.i(beta, a)(m.i(gamma, a)) Call(func=Call(func=Attribute(value=Name(id='m', ctx=Load()), attr='i', ctx=Load()), args=[Name(id='beta', ctx=Load()), Name(id='a', ctx=Load())], keywords=[]), args=[Call(func=Attribute(value=Name(id='m', ctx=Load()), attr='i', ctx=Load()), args=[Name(id='gamma', ctx=Load()), Name(id='a', ctx=Load())], keywords=[])], keywords=[])\u001b[0m\n",
      "\u001b[90mERROR: 'Lambda' object is not callable\u001b[0m\n",
      "\u001b[90mCALL visiting Call m.i(beta, a)(m.i(gamma, a))\n",
      "Call(func=Call(func=Attribute(value=Name(id='m', ctx=Load()), attr='i', ctx=Load()), args=[Name(id='beta', ctx=Load()), Name(id='a', ctx=Load())], keywords=[]), args=[Call(func=Attribute(value=Name(id='m', ctx=Load()), attr='i', ctx=Load()), args=[Name(id='gamma', ctx=Load()), Name(id='a', ctx=Load())], keywords=[])], keywords=[])\u001b[0m\n",
      "\u001b[90mvisiting m.i(beta, a) Call(func=Attribute(value=Name(id='m', ctx=Load()), attr='i', ctx=Load()), args=[Name(id='beta', ctx=Load()), Name(id='a', ctx=Load())], keywords=[]) None\u001b[0m\n",
      "\u001b[90mUsing memoized value for ((V invited), (\"Constant(value='J')\",)): lambda y: lambda x: INVITED(x, y)\u001b[0m\n",
      "\u001b[90mEvaluated m.i(beta, a) to lambda y: lambda x: INVITED(x, y) (<class 'phosphorus.semval.Lambda'>)\u001b[0m\n",
      "\u001b[90mDUMP Call(func=Attribute(value=Name(id='m', ctx=Load()), attr='i', ctx=Load()), args=[Name(id='beta', ctx=Load()), Name(id='a', ctx=Load())], keywords=[])\u001b[0m\n",
      "\u001b[90mvisiting m.i(gamma, a) Call(func=Attribute(value=Name(id='m', ctx=Load()), attr='i', ctx=Load()), args=[Name(id='gamma', ctx=Load()), Name(id='a', ctx=Load())], keywords=[]) None\u001b[0m\n",
      "\u001b[90mUsing memoized value for ((DP2 t), (\"Constant(value='J')\",)): 'J'\u001b[0m\n",
      "\u001b[90mEvaluated m.i(gamma, a) to 'J' (<class 'phosphorus.semval.Constant'>)\u001b[0m\n",
      "\u001b[90mDUMP Call(func=Attribute(value=Name(id='m', ctx=Load()), attr='i', ctx=Load()), args=[Name(id='gamma', ctx=Load()), Name(id='a', ctx=Load())], keywords=[])\u001b[0m\n",
      "\u001b[90mvisiting lambda x: INVITED(x, y) Lambda(args=arguments(posonlyargs=[], args=[arg(arg='x')], kwonlyargs=[], kw_defaults=[], defaults=[]), body=Call(func=Name(id='INVITED', ctx=Load()), args=[Name(id='x', ctx=Load()), Name(id='y', ctx=Load())], keywords=[])) None\u001b[0m\n",
      "\u001b[90mError evaluating lambda x: INVITED(x, y) Lambda(args=arguments(posonlyargs=[], args=[arg(arg='x')], kwonlyargs=[], kw_defaults=[], defaults=[]), body=Call(func=Name(id='INVITED', ctx=Load()), args=[Name(id='x', ctx=Load()), Name(id='y', ctx=Load())], keywords=[]))\u001b[0m\n",
      "\u001b[90mERROR: invalid syntax (<unknown>, line 1)\u001b[0m\n",
      "\u001b[90mvisiting INVITED(x, y) Call(func=Name(id='INVITED', ctx=Load()), args=[Name(id='x', ctx=Load()), Name(id='y', ctx=Load())], keywords=[]) None\u001b[0m\n",
      "\u001b[90mError evaluating INVITED(x, y) Call(func=Name(id='INVITED', ctx=Load()), args=[Name(id='x', ctx=Load()), Name(id='y', ctx=Load())], keywords=[])\u001b[0m\n",
      "\u001b[90mERROR: name 'x' is not defined\u001b[0m\n",
      "\u001b[90mCALL visiting Call INVITED(x, y)\n",
      "Call(func=Name(id='INVITED', ctx=Load()), args=[Name(id='x', ctx=Load()), Name(id='y', ctx=Load())], keywords=[])\u001b[0m\n",
      "\u001b[90mvisiting INVITED Name(id='INVITED', ctx=Load()) None\u001b[0m\n",
      "\u001b[90mError evaluating INVITED Name(id='INVITED', ctx=Load())\u001b[0m\n",
      "\u001b[90mERROR: 'str' object is not callable\u001b[0m\n",
      "\u001b[90mvisiting x Name(id='x', ctx=Load()) None\u001b[0m\n",
      "\u001b[90mError evaluating x Name(id='x', ctx=Load())\u001b[0m\n",
      "\u001b[90mERROR: name 'x' is not defined\u001b[0m\n",
      "\u001b[90mvisiting y Name(id='y', ctx=Load()) None\u001b[0m\n",
      "\u001b[90mEvaluated y to 'J' (<class 'phosphorus.semval.Constant'>)\u001b[0m\n",
      "\u001b[90mDUMP Name(id='y', ctx=Load())\u001b[0m\n",
      "   => (VP (V invited) (DP2 t)) = lambda x: INVITED(x, 'J')  type: ('e', 't')\t(FA)\u001b[0m\n",
      "\u001b[90mMemoizing value for ((VP (V invited) (DP2 t)), (\"Constant(value='J')\",)): lambda x: INVITED(x, 'J')\u001b[0m\n",
      "   Interpreting (DP1 Bob) with parameters: [(\"'J'\", 'e')]\u001b[0m\n",
      "      Interpreting Bob with parameters: [(\"'J'\", 'e')]\u001b[0m\n",
      "\u001b[90mvisiting 'B' Constant(value='B') None\u001b[0m\n",
      "\u001b[90mEvaluated 'B' to 'B' (<class 'str'>)\u001b[0m\n",
      "\u001b[90mDUMP Constant(value='B')\u001b[0m\n",
      "\u001b[90mLookup for Bob: 'B' (<class 'phosphorus.semval.Constant'>)\u001b[0m\n",
      "      => Bob = 'B'  type: 'e'\t(TN)\u001b[0m\n",
      "\u001b[90mMemoizing value for (Bob, (\"Constant(value='J')\",)): 'B'\u001b[0m\n",
      "\u001b[90mvisiting m.i(beta, a) Call(func=Attribute(value=Name(id='m', ctx=Load()), attr='i', ctx=Load()), args=[Name(id='beta', ctx=Load()), Name(id='a', ctx=Load())], keywords=[]) None\u001b[0m\n",
      "\u001b[90mUsing memoized value for (Bob, (\"Constant(value='J')\",)): 'B'\u001b[0m\n",
      "\u001b[90mEvaluated m.i(beta, a) to 'B' (<class 'phosphorus.semval.Constant'>)\u001b[0m\n",
      "\u001b[90mDUMP Call(func=Attribute(value=Name(id='m', ctx=Load()), attr='i', ctx=Load()), args=[Name(id='beta', ctx=Load()), Name(id='a', ctx=Load())], keywords=[])\u001b[0m\n",
      "   => (DP1 Bob) = 'B'  type: 'e'\t(NN)\u001b[0m\n",
      "\u001b[90mMemoizing value for ((DP1 Bob), (\"Constant(value='J')\",)): 'B'\u001b[0m\n",
      "\u001b[90mUsing memoized value for ((VP (V invited) (DP2 t)), (\"Constant(value='J')\",)): lambda x: INVITED(x, 'J')\u001b[0m\n",
      "\u001b[90mUsing memoized value for ((DP1 Bob), (\"Constant(value='J')\",)): 'B'\u001b[0m\n",
      "\u001b[90mUsing memoized value for ((DP1 Bob), (\"Constant(value='J')\",)): 'B'\u001b[0m\n",
      "\u001b[90mUsing memoized value for ((VP (V invited) (DP2 t)), (\"Constant(value='J')\",)): lambda x: INVITED(x, 'J')\u001b[0m\n",
      "\u001b[90mUsing memoized value for ((VP (V invited) (DP2 t)), (\"Constant(value='J')\",)): lambda x: INVITED(x, 'J')\u001b[0m\n",
      "\u001b[90mUsing memoized value for ((DP1 Bob), (\"Constant(value='J')\",)): 'B'\u001b[0m\n",
      "\u001b[90mError in takes: 'Lambda' object is not callable lambda x: INVITED(x, 'J')('B')\u001b[0m\n",
      "\u001b[90mvisiting m.i(beta, a)(m.i(gamma, a)) Call(func=Call(func=Attribute(value=Name(id='m', ctx=Load()), attr='i', ctx=Load()), args=[Name(id='beta', ctx=Load()), Name(id='a', ctx=Load())], keywords=[]), args=[Call(func=Attribute(value=Name(id='m', ctx=Load()), attr='i', ctx=Load()), args=[Name(id='gamma', ctx=Load()), Name(id='a', ctx=Load())], keywords=[])], keywords=[]) None\u001b[0m\n",
      "\u001b[90mUsing memoized value for ((VP (V invited) (DP2 t)), (\"Constant(value='J')\",)): lambda x: INVITED(x, 'J')\u001b[0m\n",
      "\u001b[90mUsing memoized value for ((DP1 Bob), (\"Constant(value='J')\",)): 'B'\u001b[0m\n",
      "\u001b[90mError evaluating m.i(beta, a)(m.i(gamma, a)) Call(func=Call(func=Attribute(value=Name(id='m', ctx=Load()), attr='i', ctx=Load()), args=[Name(id='beta', ctx=Load()), Name(id='a', ctx=Load())], keywords=[]), args=[Call(func=Attribute(value=Name(id='m', ctx=Load()), attr='i', ctx=Load()), args=[Name(id='gamma', ctx=Load()), Name(id='a', ctx=Load())], keywords=[])], keywords=[])\u001b[0m\n",
      "\u001b[90mERROR: 'Lambda' object is not callable\u001b[0m\n",
      "\u001b[90mCALL visiting Call m.i(beta, a)(m.i(gamma, a))\n",
      "Call(func=Call(func=Attribute(value=Name(id='m', ctx=Load()), attr='i', ctx=Load()), args=[Name(id='beta', ctx=Load()), Name(id='a', ctx=Load())], keywords=[]), args=[Call(func=Attribute(value=Name(id='m', ctx=Load()), attr='i', ctx=Load()), args=[Name(id='gamma', ctx=Load()), Name(id='a', ctx=Load())], keywords=[])], keywords=[])\u001b[0m\n",
      "\u001b[90mvisiting m.i(beta, a) Call(func=Attribute(value=Name(id='m', ctx=Load()), attr='i', ctx=Load()), args=[Name(id='beta', ctx=Load()), Name(id='a', ctx=Load())], keywords=[]) None\u001b[0m\n",
      "\u001b[90mUsing memoized value for ((VP (V invited) (DP2 t)), (\"Constant(value='J')\",)): lambda x: INVITED(x, 'J')\u001b[0m\n",
      "\u001b[90mEvaluated m.i(beta, a) to lambda x: INVITED(x, 'J') (<class 'phosphorus.semval.Lambda'>)\u001b[0m\n",
      "\u001b[90mDUMP Call(func=Attribute(value=Name(id='m', ctx=Load()), attr='i', ctx=Load()), args=[Name(id='beta', ctx=Load()), Name(id='a', ctx=Load())], keywords=[])\u001b[0m\n",
      "\u001b[90mvisiting m.i(gamma, a) Call(func=Attribute(value=Name(id='m', ctx=Load()), attr='i', ctx=Load()), args=[Name(id='gamma', ctx=Load()), Name(id='a', ctx=Load())], keywords=[]) None\u001b[0m\n",
      "\u001b[90mUsing memoized value for ((DP1 Bob), (\"Constant(value='J')\",)): 'B'\u001b[0m\n",
      "\u001b[90mEvaluated m.i(gamma, a) to 'B' (<class 'phosphorus.semval.Constant'>)\u001b[0m\n",
      "\u001b[90mDUMP Call(func=Attribute(value=Name(id='m', ctx=Load()), attr='i', ctx=Load()), args=[Name(id='gamma', ctx=Load()), Name(id='a', ctx=Load())], keywords=[])\u001b[0m\n",
      "\u001b[90mvisiting INVITED(x, 'J') Call(func=Name(id='INVITED', ctx=Load()), args=[Name(id='x', ctx=Load()), Constant(value='J')], keywords=[]) None\u001b[0m\n",
      "\u001b[90mEvaluated INVITED(x, 'J') to 1 (<class 'int'>)\u001b[0m\n",
      "\u001b[90mDUMP Call(func=Name(id='INVITED', ctx=Load()), args=[Name(id='x', ctx=Load()), Constant(value='J')], keywords=[])\u001b[0m\n",
      "=> (S (DP1 Bob) (VP (V invited) (DP2 t))) = 1  type: 't'\t(AF)\u001b[0m\n",
      "\u001b[90mMemoizing value for ((S (DP1 Bob) (VP (V invited) (DP2 t))), (\"Constant(value='J')\",)): 1\u001b[0m\n"
     ]
    },
    {
     "data": {
      "text/plain": [
       "1"
      ]
     },
     "execution_count": 11,
     "metadata": {},
     "output_type": "execute_result"
    },
    {
     "data": {
      "text/html": [
       "<h3>Assignment M</h3>"
      ],
      "text/plain": [
       "<IPython.core.display.HTML object>"
      ]
     },
     "execution_count": 11,
     "metadata": {},
     "output_type": "execute_result"
    },
    {
     "name": "stderr",
     "output_type": "stream",
     "text": [
      "Interpreting (S (DP1 Bob) (VP (V invited) (DP2 t))) with parameters: [(\"'M'\", 'e')]\u001b[0m\n",
      "   Interpreting (VP (V invited) (DP2 t)) with parameters: [(\"'M'\", 'e')]\u001b[0m\n",
      "      Interpreting (DP2 t) with parameters: [(\"'M'\", 'e')]\u001b[0m\n",
      "         Interpreting t with parameters: [(\"'M'\", 'e')]\u001b[0m\n",
      "         => t = 'M'  type: 'e'\t(TP)\u001b[0m\n",
      "      => (DP2 t) = 'M'  type: 'e'\t(NN)\u001b[0m\n",
      "      Interpreting (V invited) with parameters: [(\"'M'\", 'e')]\u001b[0m\n",
      "         Interpreting invited with parameters: [(\"'M'\", 'e')]\u001b[0m\n",
      "         => invited = lambda y: lambda x: INVITED(x, y)  type: ('e', ('e', 't'))\t(TN)\u001b[0m\n",
      "      => (V invited) = lambda y: lambda x: INVITED(x, y)  type: ('e', ('e', 't'))\t(NN)\u001b[0m\n",
      "   => (VP (V invited) (DP2 t)) = lambda x: INVITED(x, 'M')  type: ('e', 't')\t(FA)\u001b[0m\n",
      "   Interpreting (DP1 Bob) with parameters: [(\"'M'\", 'e')]\u001b[0m\n",
      "      Interpreting Bob with parameters: [(\"'M'\", 'e')]\u001b[0m\n",
      "      => Bob = 'B'  type: 'e'\t(TN)\u001b[0m\n",
      "   => (DP1 Bob) = 'B'  type: 'e'\t(NN)\u001b[0m\n",
      "=> (S (DP1 Bob) (VP (V invited) (DP2 t))) = 1  type: 't'\t(AF)\u001b[0m\n"
     ]
    },
    {
     "data": {
      "text/plain": [
       "1"
      ]
     },
     "execution_count": 11,
     "metadata": {},
     "output_type": "execute_result"
    },
    {
     "data": {
      "text/html": [
       "<h3>Assignment S</h3>"
      ],
      "text/plain": [
       "<IPython.core.display.HTML object>"
      ]
     },
     "execution_count": 11,
     "metadata": {},
     "output_type": "execute_result"
    },
    {
     "name": "stderr",
     "output_type": "stream",
     "text": [
      "Interpreting (S (DP1 Bob) (VP (V invited) (DP2 t))) with parameters: [(\"'S'\", 'e')]\u001b[0m\n",
      "   Interpreting (VP (V invited) (DP2 t)) with parameters: [(\"'S'\", 'e')]\u001b[0m\n",
      "      Interpreting (DP2 t) with parameters: [(\"'S'\", 'e')]\u001b[0m\n",
      "         Interpreting t with parameters: [(\"'S'\", 'e')]\u001b[0m\n",
      "         => t = 'S'  type: 'e'\t(TP)\u001b[0m\n",
      "      => (DP2 t) = 'S'  type: 'e'\t(NN)\u001b[0m\n",
      "      Interpreting (V invited) with parameters: [(\"'S'\", 'e')]\u001b[0m\n",
      "         Interpreting invited with parameters: [(\"'S'\", 'e')]\u001b[0m\n",
      "         => invited = lambda y: lambda x: INVITED(x, y)  type: ('e', ('e', 't'))\t(TN)\u001b[0m\n",
      "      => (V invited) = lambda y: lambda x: INVITED(x, y)  type: ('e', ('e', 't'))\t(NN)\u001b[0m\n",
      "   => (VP (V invited) (DP2 t)) = lambda x: INVITED(x, 'S')  type: ('e', 't')\t(FA)\u001b[0m\n",
      "   Interpreting (DP1 Bob) with parameters: [(\"'S'\", 'e')]\u001b[0m\n",
      "      Interpreting Bob with parameters: [(\"'S'\", 'e')]\u001b[0m\n",
      "      => Bob = 'B'  type: 'e'\t(TN)\u001b[0m\n",
      "   => (DP1 Bob) = 'B'  type: 'e'\t(NN)\u001b[0m\n",
      "=> (S (DP1 Bob) (VP (V invited) (DP2 t))) = 0  type: 't'\t(AF)\u001b[0m\n"
     ]
    },
    {
     "data": {
      "text/plain": [
       "0"
      ]
     },
     "execution_count": 11,
     "metadata": {},
     "output_type": "execute_result"
    }
   ],
   "source": [
    "class Meaning1(Meaning):\n",
    "  def rules(self, alpha, a):\n",
    "    value, rule = None, None\n",
    "    m = self\n",
    "    match alpha:\n",
    "      # TP\n",
    "      case 't':\n",
    "        rule = 'TP'\n",
    "        value = 'a'.e\n",
    "\n",
    "      # TN\n",
    "      case str() as s:\n",
    "        rule = 'TN'\n",
    "        value = self.lookup(s)\n",
    "        if value is None:\n",
    "          value = VACUOUS\n",
    "      \n",
    "      # PA\n",
    "      case ('who', beta):\n",
    "        rule = 'PA'\n",
    "        value = (lambda x : m.i(beta, x)).et\n",
    "\n",
    "      # NN\n",
    "      case (beta,) if m.i(beta,a) is VACUOUS:\n",
    "        rule = 'NN'\n",
    "        value = VACUOUS\n",
    "        logger.warning('Ignoring vacuous item %s', beta)\n",
    "\n",
    "      case (beta,):\n",
    "        rule = 'NN'\n",
    "        value = PV(m.i(beta,a))\n",
    "\n",
    "      case (beta, gamma) if  m.i(gamma,a) is VACUOUS:\n",
    "        rule = 'NN'\n",
    "        value = PV(m.i(beta,a))\n",
    "        logger.warning('Ignoring vacuous item %s', gamma)\n",
    "\n",
    "      case (gamma, beta) if m.i(gamma,a) is VACUOUS:\n",
    "        rule = 'NN'\n",
    "        value = PV(m.i(beta,a))\n",
    "        logger.warning('Ignoring vacuous item %s', gamma)\n",
    "\n",
    "      # PM\n",
    "      case (beta, gamma) if m.i(gamma,a) in Type.et and m.i(beta,a) in Type.et:\n",
    "        rule = 'PM'\n",
    "        value = (lambda x: m.i(beta,a)(x) and m.i(gamma,a)(x)\n",
    "                    if m.i(beta,a)(x) is not None \n",
    "                    and m.i(gamma,a)(x) is not None\n",
    "                    else None).et\n",
    "\n",
    "      # FA\n",
    "      case (beta, gamma) if takes(m.i(beta,a), m.i(gamma,a)):\n",
    "        rule = 'FA'\n",
    "        value = PV(m.i(beta,a)(m.i(gamma,a)))\n",
    "      case (gamma, beta) if takes(m.i(beta,a), m.i(gamma,a)):\n",
    "        rule = 'AF'\n",
    "        value = PV(m.i(beta,a)(m.i(gamma,a)))\n",
    "\n",
    "    return value, rule\n",
    "\n",
    "\n",
    "S, B, M, J = (PV.e(c) for c in 'SBMJ')\n",
    "INVITED = Predicate({\n",
    "    (S,B), (S,M), (B,B), (B,J), (B, M)\n",
    "})\n",
    "\n",
    "m = Meaning1({\n",
    "    'Bob'       : 'B'.e,\n",
    "    'invited'   : (lambda y: lambda x: INVITED(x,y)).eet, \n",
    "})\n",
    "\n",
    "from nltk.tree import Tree\n",
    "from IPython.display import HTML\n",
    "tree1 = Tree.fromstring(\n",
    "'''\n",
    "(S (DP1 Bob)\n",
    "  (VP (V invited) \n",
    "    (DP2 t)\n",
    "  )\n",
    ")\n",
    "''')\n",
    "\n",
    "tree1\n",
    "\n",
    "Predicate.__repr__ = '<Predicate>'\n",
    "\n",
    "HTML('<h3>Assignment B</h3>')\n",
    "m.i(tree1, 'B'.e)\n",
    "\n",
    "HTML('<h3>Assignment J</h3>')\n",
    "console_handler.setLevel(logging.DEBUG)\n",
    "m.i(tree1, 'J'.e)\n",
    "console_handler.setLevel(logging.INFO)\n",
    "\n",
    "HTML('<h3>Assignment M</h3>')\n",
    "m.i(tree1, 'M'.e)\n",
    "\n",
    "HTML('<h3>Assignment S</h3>')\n",
    "m.i(tree1, 'S'.e)"
   ]
  },
  {
   "cell_type": "code",
   "execution_count": null,
   "metadata": {},
   "outputs": [],
   "source": []
  },
  {
   "cell_type": "code",
   "execution_count": null,
   "metadata": {},
   "outputs": [
    {
     "data": {
      "image/svg+xml": [
       "<svg baseProfile=\"full\" height=\"456px\" preserveAspectRatio=\"xMidYMid meet\" style=\"font-family: times, serif; font-weight: normal; font-style: normal; font-size: 16px\" version=\"1.1\" viewBox=\"0,0,440.0,456.0\" width=\"440px\" xmlns=\"http://www.w3.org/2000/svg\" xmlns:ev=\"http://www.w3.org/2001/xml-events\" xmlns:xlink=\"http://www.w3.org/1999/xlink\"><defs /><svg width=\"100%\" x=\"0\" y=\"0px\"><defs /><text text-anchor=\"middle\" x=\"50%\" y=\"16px\">S</text></svg><svg width=\"10.9091%\" x=\"0%\" y=\"48px\"><defs /><svg width=\"100%\" x=\"0\" y=\"0px\"><defs /><text text-anchor=\"middle\" x=\"50%\" y=\"16px\">John</text></svg></svg><line stroke=\"black\" x1=\"50%\" x2=\"5.45455%\" y1=\"20px\" y2=\"48px\" /><svg width=\"89.0909%\" x=\"10.9091%\" y=\"48px\"><defs /><svg width=\"100%\" x=\"0\" y=\"0px\"><defs /><text text-anchor=\"middle\" x=\"50%\" y=\"16px\">VP</text></svg><svg width=\"8.16327%\" x=\"0%\" y=\"48px\"><defs /><svg width=\"100%\" x=\"0\" y=\"0px\"><defs /><text text-anchor=\"middle\" x=\"50%\" y=\"16px\">is</text></svg></svg><line stroke=\"black\" x1=\"50%\" x2=\"4.08163%\" y1=\"20px\" y2=\"48px\" /><svg width=\"91.8367%\" x=\"8.16327%\" y=\"48px\"><defs /><svg width=\"100%\" x=\"0\" y=\"0px\"><defs /><text text-anchor=\"middle\" x=\"50%\" y=\"16px\">DP</text></svg><svg width=\"6.66667%\" x=\"0%\" y=\"48px\"><defs /><svg width=\"100%\" x=\"0\" y=\"0px\"><defs /><text text-anchor=\"middle\" x=\"50%\" y=\"16px\">a</text></svg></svg><line stroke=\"black\" x1=\"50%\" x2=\"3.33333%\" y1=\"20px\" y2=\"48px\" /><svg width=\"93.3333%\" x=\"6.66667%\" y=\"48px\"><defs /><svg width=\"100%\" x=\"0\" y=\"0px\"><defs /><text text-anchor=\"middle\" x=\"50%\" y=\"16px\">NP</text></svg><svg width=\"11.9048%\" x=\"0%\" y=\"48px\"><defs /><svg width=\"100%\" x=\"0\" y=\"0px\"><defs /><text text-anchor=\"middle\" x=\"50%\" y=\"16px\">man</text></svg></svg><line stroke=\"black\" x1=\"50%\" x2=\"5.95238%\" y1=\"20px\" y2=\"48px\" /><svg width=\"88.0952%\" x=\"11.9048%\" y=\"48px\"><defs /><svg width=\"100%\" x=\"0\" y=\"0px\"><defs /><text text-anchor=\"middle\" x=\"50%\" y=\"16px\">CP</text></svg><svg width=\"13.5135%\" x=\"0%\" y=\"48px\"><defs /><svg width=\"100%\" x=\"0\" y=\"0px\"><defs /><text text-anchor=\"middle\" x=\"50%\" y=\"16px\">who</text></svg></svg><line stroke=\"black\" x1=\"50%\" x2=\"6.75676%\" y1=\"20px\" y2=\"48px\" /><svg width=\"86.4865%\" x=\"13.5135%\" y=\"48px\"><defs /><svg width=\"100%\" x=\"0\" y=\"0px\"><defs /><text text-anchor=\"middle\" x=\"50%\" y=\"16px\">S</text></svg><svg width=\"62.5%\" x=\"0%\" y=\"48px\"><defs /><svg width=\"100%\" x=\"0\" y=\"0px\"><defs /><text text-anchor=\"middle\" x=\"50%\" y=\"16px\">DP</text></svg><svg width=\"25%\" x=\"0%\" y=\"48px\"><defs /><svg width=\"100%\" x=\"0\" y=\"0px\"><defs /><text text-anchor=\"middle\" x=\"50%\" y=\"16px\">the</text></svg></svg><line stroke=\"black\" x1=\"50%\" x2=\"12.5%\" y1=\"20px\" y2=\"48px\" /><svg width=\"75%\" x=\"25%\" y=\"48px\"><defs /><svg width=\"100%\" x=\"0\" y=\"0px\"><defs /><text text-anchor=\"middle\" x=\"50%\" y=\"16px\">NP</text></svg><svg width=\"53.3333%\" x=\"0%\" y=\"48px\"><defs /><svg width=\"100%\" x=\"0\" y=\"0px\"><defs /><text text-anchor=\"middle\" x=\"50%\" y=\"16px\">spouse</text></svg></svg><line stroke=\"black\" x1=\"50%\" x2=\"26.6667%\" y1=\"20px\" y2=\"48px\" /><svg width=\"46.6667%\" x=\"53.3333%\" y=\"48px\"><defs /><svg width=\"100%\" x=\"0\" y=\"0px\"><defs /><text text-anchor=\"middle\" x=\"50%\" y=\"16px\">PP</text></svg><svg width=\"57.1429%\" x=\"0%\" y=\"48px\"><defs /><svg width=\"100%\" x=\"0\" y=\"0px\"><defs /><text text-anchor=\"middle\" x=\"50%\" y=\"16px\">of</text></svg></svg><line stroke=\"black\" x1=\"50%\" x2=\"28.5714%\" y1=\"20px\" y2=\"48px\" /><svg width=\"42.8571%\" x=\"57.1429%\" y=\"48px\"><defs /><svg width=\"100%\" x=\"0\" y=\"0px\"><defs /><text text-anchor=\"middle\" x=\"50%\" y=\"16px\">t</text></svg></svg><line stroke=\"black\" x1=\"50%\" x2=\"78.5714%\" y1=\"20px\" y2=\"48px\" /></svg><line stroke=\"black\" x1=\"50%\" x2=\"76.6667%\" y1=\"20px\" y2=\"48px\" /></svg><line stroke=\"black\" x1=\"50%\" x2=\"62.5%\" y1=\"20px\" y2=\"48px\" /></svg><line stroke=\"black\" x1=\"50%\" x2=\"31.25%\" y1=\"20px\" y2=\"48px\" /><svg width=\"37.5%\" x=\"62.5%\" y=\"48px\"><defs /><svg width=\"100%\" x=\"0\" y=\"0px\"><defs /><text text-anchor=\"middle\" x=\"50%\" y=\"16px\">VP</text></svg><svg width=\"33.3333%\" x=\"0%\" y=\"48px\"><defs /><svg width=\"100%\" x=\"0\" y=\"0px\"><defs /><text text-anchor=\"middle\" x=\"50%\" y=\"16px\">is</text></svg></svg><line stroke=\"black\" x1=\"50%\" x2=\"16.6667%\" y1=\"20px\" y2=\"48px\" /><svg width=\"66.6667%\" x=\"33.3333%\" y=\"48px\"><defs /><svg width=\"100%\" x=\"0\" y=\"0px\"><defs /><text text-anchor=\"middle\" x=\"50%\" y=\"16px\">famous</text></svg></svg><line stroke=\"black\" x1=\"50%\" x2=\"66.6667%\" y1=\"20px\" y2=\"48px\" /></svg><line stroke=\"black\" x1=\"50%\" x2=\"81.25%\" y1=\"20px\" y2=\"48px\" /></svg><line stroke=\"black\" x1=\"50%\" x2=\"56.7568%\" y1=\"20px\" y2=\"48px\" /></svg><line stroke=\"black\" x1=\"50%\" x2=\"55.9524%\" y1=\"20px\" y2=\"48px\" /></svg><line stroke=\"black\" x1=\"50%\" x2=\"53.3333%\" y1=\"20px\" y2=\"48px\" /></svg><line stroke=\"black\" x1=\"50%\" x2=\"54.0816%\" y1=\"20px\" y2=\"48px\" /></svg><line stroke=\"black\" x1=\"50%\" x2=\"55.4545%\" y1=\"20px\" y2=\"48px\" /></svg>"
      ],
      "text/plain": [
       "Tree('S', ['John', Tree('VP', ['is', Tree('DP', ['a', Tree('NP', ['man', Tree('CP', ['who', Tree('S', [Tree('DP', ['the', Tree('NP', ['spouse', Tree('PP', ['of', 't'])])]), Tree('VP', ['is', 'famous'])])])])])])])"
      ]
     },
     "execution_count": 12,
     "metadata": {},
     "output_type": "execute_result"
    },
    {
     "name": "stderr",
     "output_type": "stream",
     "text": [
      "Interpreting (S\n",
      "  John\n",
      "  (VP\n",
      "    is\n",
      "    (DP\n",
      "      a\n",
      "      (NP\n",
      "        man\n",
      "        (CP who (S (DP the (NP spouse (PP of t))) (VP is famous))))))) with parameters: [None]\u001b[0m\n",
      "   Interpreting (VP\n",
      "  is\n",
      "  (DP\n",
      "    a\n",
      "    (NP\n",
      "      man\n",
      "      (CP who (S (DP the (NP spouse (PP of t))) (VP is famous)))))) with parameters: [None]\u001b[0m\n",
      "      Interpreting (DP\n",
      "  a\n",
      "  (NP man (CP who (S (DP the (NP spouse (PP of t))) (VP is famous))))) with parameters: [None]\u001b[0m\n",
      "         Interpreting (NP man (CP who (S (DP the (NP spouse (PP of t))) (VP is famous)))) with parameters: [None]\u001b[0m\n",
      "            Interpreting (CP who (S (DP the (NP spouse (PP of t))) (VP is famous))) with parameters: [None]\u001b[0m\n",
      "               Interpreting (S (DP the (NP spouse (PP of t))) (VP is famous)) with parameters: [('x', None)]\u001b[0m\n",
      "                  Interpreting (VP is famous) with parameters: [('x', None)]\u001b[0m\n",
      "                     Interpreting famous with parameters: [('x', None)]\u001b[0m\n",
      "                     => famous = lambda x: FAMOUS(x)  type: ('e', 't')\t(TN)\u001b[0m\n",
      "                     Interpreting is with parameters: [('x', None)]\u001b[0m\n",
      "                     => is = VACUOUS  type: None\t(TN)\u001b[0m\n",
      "\u001b[38;5;208mIgnoring vacuous item is\u001b[0m\n",
      "                  => (VP is famous) = lambda x: FAMOUS(x)  type: ('e', 't')\t(NN)\u001b[0m\n",
      "                  Interpreting (DP the (NP spouse (PP of t))) with parameters: [('x', None)]\u001b[0m\n",
      "                     Interpreting (NP spouse (PP of t)) with parameters: [('x', None)]\u001b[0m\n",
      "                        Interpreting (PP of t) with parameters: [('x', None)]\u001b[0m\n",
      "                           Interpreting t with parameters: [('x', None)]\u001b[0m\n",
      "                           => t = x  type: 'e'\t(TP)\u001b[0m\n",
      "                           Interpreting of with parameters: [('x', None)]\u001b[0m\n",
      "                           => of = VACUOUS  type: None\t(TN)\u001b[0m\n",
      "\u001b[38;5;208mIgnoring vacuous item of\u001b[0m\n",
      "                        => (PP of t) = x  type: 'e'\t(NN)\u001b[0m\n",
      "                        Interpreting spouse with parameters: [('x', None)]\u001b[0m\n",
      "                        => spouse = lambda y: lambda x: SPOUSE(x, y)  type: ('e', ('e', 't'))\t(TN)\u001b[0m\n",
      "                     => (NP spouse (PP of t)) = lambda z: SPOUSE(z, x)  type: ('e', 't')\t(FA)\u001b[0m\n",
      "                     Interpreting the with parameters: [('x', None)]\u001b[0m\n",
      "                     => the = lambda f: iota(f) if single(charset(f)) else None  type: (('e', 't'), 'e')\t(TN)\u001b[0m\n",
      "                  => (DP the (NP spouse (PP of t))) = iota(lambda z: SPOUSE(z, x)) if single(charset(lambda z: SPOUSE(z, x))) else None  type: 'e'\t(FA)\u001b[0m\n",
      "               => (S (DP the (NP spouse (PP of t))) (VP is famous)) = FAMOUS(iota(lambda z: SPOUSE(z, x)) if single(charset(lambda z: SPOUSE(z, x))) else None)  type: 't'\t(AF)\u001b[0m\n",
      "            => (CP who (S (DP the (NP spouse (PP of t))) (VP is famous))) = lambda x: FAMOUS(iota(lambda z: SPOUSE(z, x)) if single(charset(lambda z: SPOUSE(z, x))) else None)  type: ('e', 't')\t(PA)\u001b[0m\n",
      "            Interpreting man with parameters: [None]\u001b[0m\n",
      "            => man = lambda x: MAN(x)  type: ('e', 't')\t(TN)\u001b[0m\n",
      "         => (NP man (CP who (S (DP the (NP spouse (PP of t))) (VP is famous)))) = lambda x: MAN(x) and FAMOUS(iota(lambda z: SPOUSE(z, x)) if single(charset(lambda z: SPOUSE(z, x))) else None) if MAN(x) is not None and FAMOUS(iota(lambda z: SPOUSE(z, x)) if single(charset(lambda z: SPOUSE(z, x))) else None) is not None else None  type: ('e', 't')\t(PM)\u001b[0m\n",
      "         Interpreting a with parameters: [None]\u001b[0m\n",
      "         => a = VACUOUS  type: None\t(TN)\u001b[0m\n",
      "\u001b[38;5;208mIgnoring vacuous item a\u001b[0m\n",
      "      => (DP\n",
      "  a\n",
      "  (NP man (CP who (S (DP the (NP spouse (PP of t))) (VP is famous))))) = lambda x: MAN(x) and FAMOUS(iota(lambda z: SPOUSE(z, x)) if single(charset(lambda z: SPOUSE(z, x))) else None) if MAN(x) is not None and FAMOUS(iota(lambda z: SPOUSE(z, x)) if single(charset(lambda z: SPOUSE(z, x))) else None) is not None else None  type: ('e', 't')\t(NN)\u001b[0m\n",
      "      Interpreting is with parameters: [None]\u001b[0m\n",
      "      => is = VACUOUS  type: None\t(TN)\u001b[0m\n",
      "\u001b[38;5;208mIgnoring vacuous item is\u001b[0m\n",
      "   => (VP\n",
      "  is\n",
      "  (DP\n",
      "    a\n",
      "    (NP\n",
      "      man\n",
      "      (CP who (S (DP the (NP spouse (PP of t))) (VP is famous)))))) = lambda x: MAN(x) and FAMOUS(iota(lambda z: SPOUSE(z, x)) if single(charset(lambda z: SPOUSE(z, x))) else None) if MAN(x) is not None and FAMOUS(iota(lambda z: SPOUSE(z, x)) if single(charset(lambda z: SPOUSE(z, x))) else None) is not None else None  type: ('e', 't')\t(NN)\u001b[0m\n",
      "   Interpreting John with parameters: [None]\u001b[0m\n",
      "   => John = 'J'  type: 'e'\t(TN)\u001b[0m\n",
      "=> (S\n",
      "  John\n",
      "  (VP\n",
      "    is\n",
      "    (DP\n",
      "      a\n",
      "      (NP\n",
      "        man\n",
      "        (CP who (S (DP the (NP spouse (PP of t))) (VP is famous))))))) = None if True and FAMOUS(iota(lambda z: SPOUSE(z, 'J')) if single(charset(lambda z: SPOUSE(z, 'J'))) else None) is not None else None  type: 't'\t(AF)\u001b[0m\n"
     ]
    }
   ],
   "source": [
    "#SPOUSE  = Predicate({})\n",
    "MAN       = Predicate({(J,)})\n",
    "#SPOUSE  = Predicate({(B,J), (J,B)})\n",
    "SPOUSE  = Predicate({(B,S), (S,B)})\n",
    "FAMOUS  = Predicate({(B,),(S,)}) \n",
    "\n",
    "from nltk import ImmutableTree\n",
    "\n",
    "m.update({\n",
    "    'John'      : 'J'.e,\n",
    "    'man'       : (lambda x: MAN(x)).et,\n",
    "    'attended'  : (lambda y: lambda x: ATTENDED(x,y)).eet,\n",
    "    'the'       : (lambda f: iota(f) if single(charset(f)) else None).et_e,\n",
    "    '2019_Olympics' : (lambda x: OLYMPICS2019(x)).et,\n",
    "    'famous'  : (lambda x: FAMOUS(x)).et,\n",
    "    'spouse'  : (lambda y: lambda x: SPOUSE(x,y)).eet,\n",
    "})\n",
    "\n",
    "tree2iv = Tree.fromstring(\n",
    "'''\n",
    "(S John\n",
    "  (VP is\n",
    "    (DP a\n",
    "      (NP man\n",
    "        (CP who\n",
    "          (S \n",
    "            (DP the\n",
    "              (NP spouse (PP of t))\n",
    "            )\n",
    "            (VP is famous)\n",
    "          )\n",
    "        )\n",
    "      )\n",
    "    )\n",
    "  )\n",
    ")''')\n",
    "\n",
    "tree2iv\n",
    "#console_handler.setLevel(logging.DEBUG)\n",
    "m.i(tree2iv, None)\n",
    "#console_handler.setLevel(logging.INFO)"
   ]
  },
  {
   "cell_type": "code",
   "execution_count": null,
   "metadata": {},
   "outputs": [
    {
     "data": {
      "text/plain": [
       "False"
      ]
     },
     "execution_count": 5,
     "metadata": {},
     "output_type": "execute_result"
    }
   ],
   "source": [
    "single(charset(lambda z: SPOUSE(z, 'J')))"
   ]
  },
  {
   "cell_type": "code",
   "execution_count": null,
   "metadata": {},
   "outputs": [],
   "source": [
    "1 if True and FAMOUS('B' if single(charset(lambda z: SPOUSE(z, 'J'))) else None) is not None else None"
   ]
  },
  {
   "cell_type": "code",
   "execution_count": null,
   "metadata": {},
   "outputs": [
    {
     "data": {
      "image/svg+xml": [
       "<svg baseProfile=\"full\" height=\"264px\" preserveAspectRatio=\"xMidYMid meet\" style=\"font-family: times, serif; font-weight: normal; font-style: normal; font-size: 16px\" version=\"1.1\" viewBox=\"0,0,344.0,264.0\" width=\"344px\" xmlns=\"http://www.w3.org/2000/svg\" xmlns:ev=\"http://www.w3.org/2001/xml-events\" xmlns:xlink=\"http://www.w3.org/1999/xlink\"><defs /><svg width=\"100%\" x=\"0\" y=\"0px\"><defs /><text text-anchor=\"middle\" x=\"50%\" y=\"16px\">NP</text></svg><svg width=\"11.6279%\" x=\"0%\" y=\"48px\"><defs /><svg width=\"100%\" x=\"0\" y=\"0px\"><defs /><text text-anchor=\"middle\" x=\"50%\" y=\"16px\">man</text></svg></svg><line stroke=\"black\" x1=\"50%\" x2=\"5.81395%\" y1=\"20px\" y2=\"48px\" /><svg width=\"88.3721%\" x=\"11.6279%\" y=\"48px\"><defs /><svg width=\"100%\" x=\"0\" y=\"0px\"><defs /><text text-anchor=\"middle\" x=\"50%\" y=\"16px\">CP</text></svg><svg width=\"13.1579%\" x=\"0%\" y=\"48px\"><defs /><svg width=\"100%\" x=\"0\" y=\"0px\"><defs /><text text-anchor=\"middle\" x=\"50%\" y=\"16px\">who</text></svg></svg><line stroke=\"black\" x1=\"50%\" x2=\"6.57895%\" y1=\"20px\" y2=\"48px\" /><svg width=\"86.8421%\" x=\"13.1579%\" y=\"48px\"><defs /><svg width=\"100%\" x=\"0\" y=\"0px\"><defs /><text text-anchor=\"middle\" x=\"50%\" y=\"16px\">S</text></svg><svg width=\"9.09091%\" x=\"0%\" y=\"48px\"><defs /><svg width=\"100%\" x=\"0\" y=\"0px\"><defs /><text text-anchor=\"middle\" x=\"50%\" y=\"16px\">t</text></svg></svg><line stroke=\"black\" x1=\"50%\" x2=\"4.54545%\" y1=\"20px\" y2=\"48px\" /><svg width=\"90.9091%\" x=\"9.09091%\" y=\"48px\"><defs /><svg width=\"100%\" x=\"0\" y=\"0px\"><defs /><text text-anchor=\"middle\" x=\"50%\" y=\"16px\">VP</text></svg><svg width=\"33.3333%\" x=\"0%\" y=\"48px\"><defs /><svg width=\"100%\" x=\"0\" y=\"0px\"><defs /><text text-anchor=\"middle\" x=\"50%\" y=\"16px\">attended</text></svg></svg><line stroke=\"black\" x1=\"50%\" x2=\"16.6667%\" y1=\"20px\" y2=\"48px\" /><svg width=\"66.6667%\" x=\"33.3333%\" y=\"48px\"><defs /><svg width=\"100%\" x=\"0\" y=\"0px\"><defs /><text text-anchor=\"middle\" x=\"50%\" y=\"16px\">DP</text></svg><svg width=\"25%\" x=\"0%\" y=\"48px\"><defs /><svg width=\"100%\" x=\"0\" y=\"0px\"><defs /><text text-anchor=\"middle\" x=\"50%\" y=\"16px\">the</text></svg></svg><line stroke=\"black\" x1=\"50%\" x2=\"12.5%\" y1=\"20px\" y2=\"48px\" /><svg width=\"75%\" x=\"25%\" y=\"48px\"><defs /><svg width=\"100%\" x=\"0\" y=\"0px\"><defs /><text text-anchor=\"middle\" x=\"50%\" y=\"16px\">2019_Olympics</text></svg></svg><line stroke=\"black\" x1=\"50%\" x2=\"62.5%\" y1=\"20px\" y2=\"48px\" /></svg><line stroke=\"black\" x1=\"50%\" x2=\"66.6667%\" y1=\"20px\" y2=\"48px\" /></svg><line stroke=\"black\" x1=\"50%\" x2=\"54.5455%\" y1=\"20px\" y2=\"48px\" /></svg><line stroke=\"black\" x1=\"50%\" x2=\"56.5789%\" y1=\"20px\" y2=\"48px\" /></svg><line stroke=\"black\" x1=\"50%\" x2=\"55.814%\" y1=\"20px\" y2=\"48px\" /></svg>"
      ],
      "text/plain": [
       "Tree('NP', ['man', Tree('CP', ['who', Tree('S', ['t', Tree('VP', ['attended', Tree('DP', ['the', '2019_Olympics'])])])])])"
      ]
     },
     "execution_count": 13,
     "metadata": {},
     "output_type": "execute_result"
    },
    {
     "name": "stderr",
     "output_type": "stream",
     "text": [
      "Interpreting (NP man (CP who (S t (VP attended (DP the 2019_Olympics))))) with parameters: [(\"'M'\", 'e')]\u001b[0m\n",
      "   Interpreting (CP who (S t (VP attended (DP the 2019_Olympics)))) with parameters: [(\"'M'\", 'e')]\u001b[0m\n",
      "      Interpreting (S t (VP attended (DP the 2019_Olympics))) with parameters: [('x', None)]\u001b[0m\n",
      "         Interpreting (VP attended (DP the 2019_Olympics)) with parameters: [('x', None)]\u001b[0m\n",
      "            Interpreting (DP the 2019_Olympics) with parameters: [('x', None)]\u001b[0m\n",
      "               Interpreting 2019_Olympics with parameters: [('x', None)]\u001b[0m\n",
      "               => 2019_Olympics = lambda x: O2019(x)  type: ('e', 't')\t(TN)\u001b[0m\n",
      "               Interpreting the with parameters: [('x', None)]\u001b[0m\n",
      "               => the = lambda f: iota(f) if single(charset(f)) else None  type: (('e', 't'), 'e')\t(TN)\u001b[0m\n",
      "            => (DP the 2019_Olympics) = iota(lambda x: O2019(x)) if single(charset(lambda x: O2019(x))) else None  type: 'e'\t(FA)\u001b[0m\n",
      "            Interpreting attended with parameters: [('x', None)]\u001b[0m\n",
      "            => attended = lambda y: lambda x: ATTENDED(x, y)  type: ('e', ('e', 't'))\t(TN)\u001b[0m\n",
      "\u001b[91m            No rule found to combine attended and (DP the 2019_Olympics)\u001b[0m\n",
      "         => (VP attended (DP the 2019_Olympics)) = None  type: None\t(None)\u001b[0m\n",
      "         Interpreting t with parameters: [('x', None)]\u001b[0m\n",
      "         => t = x  type: 'e'\t(TP)\u001b[0m\n",
      "\u001b[91m         No rule found to combine t and (VP attended (DP the 2019_Olympics))\u001b[0m\n",
      "      => (S t (VP attended (DP the 2019_Olympics))) = None  type: None\t(None)\u001b[0m\n",
      "   => (CP who (S t (VP attended (DP the 2019_Olympics)))) = lambda x: None  type: ('e', 't')\t(PA)\u001b[0m\n",
      "   Interpreting man with parameters: [(\"'M'\", 'e')]\u001b[0m\n",
      "   => man = lambda x: MAN(x)  type: ('e', 't')\t(TN)\u001b[0m\n",
      "=> (NP man (CP who (S t (VP attended (DP the 2019_Olympics))))) = lambda x: False if MAN(x) is not None and None is not None else None  type: ('e', 't')\t(PM)\u001b[0m\n"
     ]
    },
    {
     "data": {
      "text/html": [
       "lambda x: False if MAN(x) is not None and None is not None else None\n",
       "        <span style='float:right; font-family:monospace; margin-right:75px;\n",
       "              font-weight:bold; background-color:#e5e5ff; color:#000'>\n",
       "          ('e', 't')</span>"
      ],
      "text/plain": [
       "lambda x: False if MAN(x) is not None and None is not None else None"
      ]
     },
     "execution_count": 13,
     "metadata": {},
     "output_type": "execute_result"
    }
   ],
   "source": [
    "\n",
    "m = Meaning1({\n",
    "    'Bob'       : 'B'.e,\n",
    "    'invited'   : (lambda y: lambda x: INVITED(x,y)).eet,\n",
    "    'John'      : 'J'.e,\n",
    "    'man'       : (lambda x: MAN(x)).et,\n",
    "    'attended'  : (lambda y: lambda x: ATTENDED(x,y)).eet,\n",
    "    'the'       : (lambda f: iota(f) if single(charset(f)) else None).et_e,\n",
    "    '2019_Olympics' : (lambda x: O2019(x)).et,\n",
    "})\n",
    "\n",
    "\n",
    "from nltk import Tree, ImmutableTree\n",
    "\n",
    "tree1 = Tree.fromstring('(S Bob (VP is man))')\n",
    "\n",
    "tree2 = Tree.fromstring('''\n",
    "(S John\n",
    "  (VP attended\n",
    "    (DP the 2019_Olympics)\n",
    "  )\n",
    ")''')\n",
    "\n",
    "tree3 = Tree.fromstring('''\n",
    "(CP who\n",
    "  (S t\n",
    "    (VP attended\n",
    "      (DP the 2019_Olympics)\n",
    "    )\n",
    "  )\n",
    ")''')\n",
    "\n",
    "tree4 = Tree('NP', ('man', tree3))\n",
    "tree4\n",
    "\n",
    "O2019 = lambda x: 0\n",
    "\n",
    "#console_handler.setLevel(logging.DEBUG)\n",
    "m.i(tree4, 'M'.e)\n",
    "#console_handler.setLevel(logging.INFO)"
   ]
  },
  {
   "cell_type": "code",
   "execution_count": null,
   "metadata": {},
   "outputs": [
    {
     "data": {
      "image/svg+xml": [
       "<svg baseProfile=\"full\" height=\"456px\" preserveAspectRatio=\"xMidYMid meet\" style=\"font-family: times, serif; font-weight: normal; font-style: normal; font-size: 16px\" version=\"1.1\" viewBox=\"0,0,424.0,456.0\" width=\"424px\" xmlns=\"http://www.w3.org/2000/svg\" xmlns:ev=\"http://www.w3.org/2001/xml-events\" xmlns:xlink=\"http://www.w3.org/1999/xlink\"><defs /><svg width=\"100%\" x=\"0\" y=\"0px\"><defs /><text text-anchor=\"middle\" x=\"50%\" y=\"16px\">S</text></svg><svg width=\"11.3208%\" x=\"0%\" y=\"48px\"><defs /><svg width=\"100%\" x=\"0\" y=\"0px\"><defs /><text text-anchor=\"middle\" x=\"50%\" y=\"16px\">John</text></svg></svg><line stroke=\"black\" x1=\"50%\" x2=\"5.66038%\" y1=\"20px\" y2=\"48px\" /><svg width=\"88.6792%\" x=\"11.3208%\" y=\"48px\"><defs /><svg width=\"100%\" x=\"0\" y=\"0px\"><defs /><text text-anchor=\"middle\" x=\"50%\" y=\"16px\">VP</text></svg><svg width=\"8.51064%\" x=\"0%\" y=\"48px\"><defs /><svg width=\"100%\" x=\"0\" y=\"0px\"><defs /><text text-anchor=\"middle\" x=\"50%\" y=\"16px\">is</text></svg></svg><line stroke=\"black\" x1=\"50%\" x2=\"4.25532%\" y1=\"20px\" y2=\"48px\" /><svg width=\"91.4894%\" x=\"8.51064%\" y=\"48px\"><defs /><svg width=\"100%\" x=\"0\" y=\"0px\"><defs /><text text-anchor=\"middle\" x=\"50%\" y=\"16px\">DP</text></svg><svg width=\"6.97674%\" x=\"0%\" y=\"48px\"><defs /><svg width=\"100%\" x=\"0\" y=\"0px\"><defs /><text text-anchor=\"middle\" x=\"50%\" y=\"16px\">a</text></svg></svg><line stroke=\"black\" x1=\"50%\" x2=\"3.48837%\" y1=\"20px\" y2=\"48px\" /><svg width=\"93.0233%\" x=\"6.97674%\" y=\"48px\"><defs /><svg width=\"100%\" x=\"0\" y=\"0px\"><defs /><text text-anchor=\"middle\" x=\"50%\" y=\"16px\">NP</text></svg><svg width=\"12.5%\" x=\"0%\" y=\"48px\"><defs /><svg width=\"100%\" x=\"0\" y=\"0px\"><defs /><text text-anchor=\"middle\" x=\"50%\" y=\"16px\">man</text></svg></svg><line stroke=\"black\" x1=\"50%\" x2=\"6.25%\" y1=\"20px\" y2=\"48px\" /><svg width=\"87.5%\" x=\"12.5%\" y=\"48px\"><defs /><svg width=\"100%\" x=\"0\" y=\"0px\"><defs /><text text-anchor=\"middle\" x=\"50%\" y=\"16px\">CP</text></svg><svg width=\"14.2857%\" x=\"0%\" y=\"48px\"><defs /><svg width=\"100%\" x=\"0\" y=\"0px\"><defs /><text text-anchor=\"middle\" x=\"50%\" y=\"16px\">who</text></svg></svg><line stroke=\"black\" x1=\"50%\" x2=\"7.14286%\" y1=\"20px\" y2=\"48px\" /><svg width=\"85.7143%\" x=\"14.2857%\" y=\"48px\"><defs /><svg width=\"100%\" x=\"0\" y=\"0px\"><defs /><text text-anchor=\"middle\" x=\"50%\" y=\"16px\">S</text></svg><svg width=\"60%\" x=\"0%\" y=\"48px\"><defs /><svg width=\"100%\" x=\"0\" y=\"0px\"><defs /><text text-anchor=\"middle\" x=\"50%\" y=\"16px\">DP</text></svg><svg width=\"27.7778%\" x=\"0%\" y=\"48px\"><defs /><svg width=\"100%\" x=\"0\" y=\"0px\"><defs /><text text-anchor=\"middle\" x=\"50%\" y=\"16px\">the</text></svg></svg><line stroke=\"black\" x1=\"50%\" x2=\"13.8889%\" y1=\"20px\" y2=\"48px\" /><svg width=\"72.2222%\" x=\"27.7778%\" y=\"48px\"><defs /><svg width=\"100%\" x=\"0\" y=\"0px\"><defs /><text text-anchor=\"middle\" x=\"50%\" y=\"16px\">NP</text></svg><svg width=\"46.1538%\" x=\"0%\" y=\"48px\"><defs /><svg width=\"100%\" x=\"0\" y=\"0px\"><defs /><text text-anchor=\"middle\" x=\"50%\" y=\"16px\">wife</text></svg></svg><line stroke=\"black\" x1=\"50%\" x2=\"23.0769%\" y1=\"20px\" y2=\"48px\" /><svg width=\"53.8462%\" x=\"46.1538%\" y=\"48px\"><defs /><svg width=\"100%\" x=\"0\" y=\"0px\"><defs /><text text-anchor=\"middle\" x=\"50%\" y=\"16px\">PP</text></svg><svg width=\"57.1429%\" x=\"0%\" y=\"48px\"><defs /><svg width=\"100%\" x=\"0\" y=\"0px\"><defs /><text text-anchor=\"middle\" x=\"50%\" y=\"16px\">of</text></svg></svg><line stroke=\"black\" x1=\"50%\" x2=\"28.5714%\" y1=\"20px\" y2=\"48px\" /><svg width=\"42.8571%\" x=\"57.1429%\" y=\"48px\"><defs /><svg width=\"100%\" x=\"0\" y=\"0px\"><defs /><text text-anchor=\"middle\" x=\"50%\" y=\"16px\">t</text></svg></svg><line stroke=\"black\" x1=\"50%\" x2=\"78.5714%\" y1=\"20px\" y2=\"48px\" /></svg><line stroke=\"black\" x1=\"50%\" x2=\"73.0769%\" y1=\"20px\" y2=\"48px\" /></svg><line stroke=\"black\" x1=\"50%\" x2=\"63.8889%\" y1=\"20px\" y2=\"48px\" /></svg><line stroke=\"black\" x1=\"50%\" x2=\"30%\" y1=\"20px\" y2=\"48px\" /><svg width=\"40%\" x=\"60%\" y=\"48px\"><defs /><svg width=\"100%\" x=\"0\" y=\"0px\"><defs /><text text-anchor=\"middle\" x=\"50%\" y=\"16px\">VP</text></svg><svg width=\"33.3333%\" x=\"0%\" y=\"48px\"><defs /><svg width=\"100%\" x=\"0\" y=\"0px\"><defs /><text text-anchor=\"middle\" x=\"50%\" y=\"16px\">is</text></svg></svg><line stroke=\"black\" x1=\"50%\" x2=\"16.6667%\" y1=\"20px\" y2=\"48px\" /><svg width=\"66.6667%\" x=\"33.3333%\" y=\"48px\"><defs /><svg width=\"100%\" x=\"0\" y=\"0px\"><defs /><text text-anchor=\"middle\" x=\"50%\" y=\"16px\">famous</text></svg></svg><line stroke=\"black\" x1=\"50%\" x2=\"66.6667%\" y1=\"20px\" y2=\"48px\" /></svg><line stroke=\"black\" x1=\"50%\" x2=\"80%\" y1=\"20px\" y2=\"48px\" /></svg><line stroke=\"black\" x1=\"50%\" x2=\"57.1429%\" y1=\"20px\" y2=\"48px\" /></svg><line stroke=\"black\" x1=\"50%\" x2=\"56.25%\" y1=\"20px\" y2=\"48px\" /></svg><line stroke=\"black\" x1=\"50%\" x2=\"53.4884%\" y1=\"20px\" y2=\"48px\" /></svg><line stroke=\"black\" x1=\"50%\" x2=\"54.2553%\" y1=\"20px\" y2=\"48px\" /></svg><line stroke=\"black\" x1=\"50%\" x2=\"55.6604%\" y1=\"20px\" y2=\"48px\" /></svg>"
      ],
      "text/plain": [
       "Tree('S', ['John', Tree('VP', ['is', Tree('DP', ['a', Tree('NP', ['man', Tree('CP', ['who', Tree('S', [Tree('DP', ['the', Tree('NP', ['wife', Tree('PP', ['of', 't'])])]), Tree('VP', ['is', 'famous'])])])])])])])"
      ]
     },
     "execution_count": 8,
     "metadata": {},
     "output_type": "execute_result"
    },
    {
     "name": "stderr",
     "output_type": "stream",
     "text": [
      "Interpreting (S\n",
      "  John\n",
      "  (VP\n",
      "    is\n",
      "    (DP\n",
      "      a\n",
      "      (NP\n",
      "        man\n",
      "        (CP who (S (DP the (NP wife (PP of t))) (VP is famous))))))) with parameters: [(\"'M'\", 'e')]\u001b[0m\n",
      "   Interpreting (VP\n",
      "  is\n",
      "  (DP\n",
      "    a\n",
      "    (NP man (CP who (S (DP the (NP wife (PP of t))) (VP is famous)))))) with parameters: [(\"'M'\", 'e')]\u001b[0m\n",
      "      Interpreting (DP\n",
      "  a\n",
      "  (NP man (CP who (S (DP the (NP wife (PP of t))) (VP is famous))))) with parameters: [(\"'M'\", 'e')]\u001b[0m\n",
      "         Interpreting (NP man (CP who (S (DP the (NP wife (PP of t))) (VP is famous)))) with parameters: [(\"'M'\", 'e')]\u001b[0m\n",
      "            Interpreting (CP who (S (DP the (NP wife (PP of t))) (VP is famous))) with parameters: [(\"'M'\", 'e')]\u001b[0m\n",
      "               Interpreting (S (DP the (NP wife (PP of t))) (VP is famous)) with parameters: [('x', None)]\u001b[0m\n",
      "                  Interpreting (VP is famous) with parameters: [('x', None)]\u001b[0m\n",
      "                     Interpreting famous with parameters: [('x', None)]\u001b[0m\n",
      "                     => famous = lambda x: FAMOUS(x)  type: ('e', 't')\t(TN)\u001b[0m\n",
      "                     Interpreting is with parameters: [('x', None)]\u001b[0m\n",
      "                     => is = VACUOUS  type: None\t(TN)\u001b[0m\n",
      "\u001b[38;5;208mIgnoring vacuous item is\u001b[0m\n",
      "                  => (VP is famous) = lambda x: FAMOUS(x)  type: ('e', 't')\t(NN)\u001b[0m\n",
      "                  Interpreting (DP the (NP wife (PP of t))) with parameters: [('x', None)]\u001b[0m\n",
      "                     Interpreting (NP wife (PP of t)) with parameters: [('x', None)]\u001b[0m\n",
      "                        Interpreting (PP of t) with parameters: [('x', None)]\u001b[0m\n",
      "                           Interpreting t with parameters: [('x', None)]\u001b[0m\n",
      "                           => t = x  type: 'e'\t(TP)\u001b[0m\n",
      "                           Interpreting of with parameters: [('x', None)]\u001b[0m\n",
      "                           => of = VACUOUS  type: None\t(TN)\u001b[0m\n",
      "\u001b[38;5;208mIgnoring vacuous item of\u001b[0m\n",
      "                        => (PP of t) = x  type: 'e'\t(NN)\u001b[0m\n",
      "                        Interpreting wife with parameters: [('x', None)]\u001b[0m\n",
      "                        => wife = lambda y: lambda x: WIFE(x, y)  type: ('e', ('e', 't'))\t(TN)\u001b[0m\n",
      "                     => (NP wife (PP of t)) = lambda z: WIFE(z, x)  type: ('e', 't')\t(FA)\u001b[0m\n",
      "                     Interpreting the with parameters: [('x', None)]\u001b[0m\n",
      "                     => the = lambda f: iota(f) if single(charset(f)) else None  type: (('e', 't'), 'e')\t(TN)\u001b[0m\n",
      "                  => (DP the (NP wife (PP of t))) = iota(lambda z: WIFE(z, x)) if single(charset(lambda z: WIFE(z, x))) else None  type: 'e'\t(FA)\u001b[0m\n",
      "               => (S (DP the (NP wife (PP of t))) (VP is famous)) = FAMOUS(iota(lambda z: WIFE(z, x)) if single(charset(lambda z: WIFE(z, x))) else None)  type: 't'\t(AF)\u001b[0m\n",
      "            => (CP who (S (DP the (NP wife (PP of t))) (VP is famous))) = lambda x: FAMOUS(iota(lambda z: WIFE(z, x)) if single(charset(lambda z: WIFE(z, x))) else None)  type: ('e', 't')\t(PA)\u001b[0m\n",
      "            Interpreting man with parameters: [(\"'M'\", 'e')]\u001b[0m\n",
      "            => man = lambda x: MAN(x)  type: ('e', 't')\t(TN)\u001b[0m\n",
      "         => (NP man (CP who (S (DP the (NP wife (PP of t))) (VP is famous)))) = lambda x: MAN(x) and FAMOUS(iota(lambda z: WIFE(z, x)) if single(charset(lambda z: WIFE(z, x))) else None) if MAN(x) is not None and FAMOUS(iota(lambda z: WIFE(z, x)) if single(charset(lambda z: WIFE(z, x))) else None) is not None else None  type: ('e', 't')\t(PM)\u001b[0m\n",
      "         Interpreting a with parameters: [(\"'M'\", 'e')]\u001b[0m\n",
      "         => a = VACUOUS  type: None\t(TN)\u001b[0m\n",
      "\u001b[38;5;208mIgnoring vacuous item a\u001b[0m\n",
      "      => (DP\n",
      "  a\n",
      "  (NP man (CP who (S (DP the (NP wife (PP of t))) (VP is famous))))) = lambda x: MAN(x) and FAMOUS(iota(lambda z: WIFE(z, x)) if single(charset(lambda z: WIFE(z, x))) else None) if MAN(x) is not None and FAMOUS(iota(lambda z: WIFE(z, x)) if single(charset(lambda z: WIFE(z, x))) else None) is not None else None  type: ('e', 't')\t(NN)\u001b[0m\n",
      "      Interpreting is with parameters: [(\"'M'\", 'e')]\u001b[0m\n",
      "      => is = VACUOUS  type: None\t(TN)\u001b[0m\n",
      "\u001b[38;5;208mIgnoring vacuous item is\u001b[0m\n",
      "   => (VP\n",
      "  is\n",
      "  (DP\n",
      "    a\n",
      "    (NP man (CP who (S (DP the (NP wife (PP of t))) (VP is famous)))))) = lambda x: MAN(x) and FAMOUS(iota(lambda z: WIFE(z, x)) if single(charset(lambda z: WIFE(z, x))) else None) if MAN(x) is not None and FAMOUS(iota(lambda z: WIFE(z, x)) if single(charset(lambda z: WIFE(z, x))) else None) is not None else None  type: ('e', 't')\t(NN)\u001b[0m\n",
      "   Interpreting John with parameters: [(\"'M'\", 'e')]\u001b[0m\n",
      "   => John = 'J'  type: 'e'\t(TN)\u001b[0m\n",
      "=> (S\n",
      "  John\n",
      "  (VP\n",
      "    is\n",
      "    (DP\n",
      "      a\n",
      "      (NP\n",
      "        man\n",
      "        (CP who (S (DP the (NP wife (PP of t))) (VP is famous))))))) = None if True and FAMOUS('X' if single(charset(lambda z: WIFE(z, 'J'))) else None) is not None else None  type: 't'\t(AF)\u001b[0m\n"
     ]
    }
   ],
   "source": [
    "m.update({\n",
    "    'wife'    : (lambda y: lambda x: WIFE(x,y)).eet,\n",
    "    'famous'  : (lambda x: FAMOUS(x)).et,\n",
    "})\n",
    "tree5 = Tree.fromstring(\n",
    "'''\n",
    "(S John\n",
    "  (VP is\n",
    "    (DP a\n",
    "      (NP man\n",
    "        (CP who\n",
    "          (S \n",
    "            (DP the\n",
    "              (NP wife (PP of t))\n",
    "            )\n",
    "            (VP is famous)\n",
    "          )\n",
    "        )\n",
    "      )\n",
    "    )\n",
    "  )\n",
    ")''')\n",
    "\n",
    "tree5\n",
    "\n",
    "WIFE = lambda x,y: x != 'J'.e\n",
    "\n",
    "out = m.i(tree5, 'M'.e)\n",
    "out"
   ]
  },
  {
   "cell_type": "code",
   "execution_count": null,
   "metadata": {},
   "outputs": [
    {
     "data": {
      "text/plain": [
       "True"
      ]
     },
     "execution_count": 9,
     "metadata": {},
     "output_type": "execute_result"
    },
    {
     "name": "stderr",
     "output_type": "stream",
     "text": [
      "Interpreting attended with parameters: [()]\u001b[0m\n",
      "=> attended = lambda y: lambda x: ATTENDED(x, y)  type: ('e', ('e', 't'))\t(TN)\u001b[0m\n"
     ]
    },
    {
     "data": {
      "text/plain": [
       "False"
      ]
     },
     "execution_count": 9,
     "metadata": {},
     "output_type": "execute_result"
    }
   ],
   "source": [
    "PV.e(iota(lambda x: O2019(x)) if single(charset(lambda x: O2019(x))) else None).eval() is None\n",
    "takes(m['attended'], PV.e(iota(lambda x: O2019(x)) if single(charset(lambda x: O2019(x))) else None))"
   ]
  },
  {
   "cell_type": "code",
   "execution_count": null,
   "metadata": {},
   "outputs": [
    {
     "ename": "NameError",
     "evalue": "name 'STOP' is not defined",
     "output_type": "error",
     "traceback": [
      "\u001b[0;31m---------------------------------------------------------------------------\u001b[0m",
      "\u001b[0;31mNameError\u001b[0m                                 Traceback (most recent call last)",
      "Cell \u001b[0;32mIn[10], line 1\u001b[0m\n\u001b[0;32m----> 1\u001b[0m \u001b[43mSTOP\u001b[49m\n",
      "\u001b[0;31mNameError\u001b[0m: name 'STOP' is not defined"
     ]
    }
   ],
   "source": [
    "STOP"
   ]
  },
  {
   "cell_type": "code",
   "execution_count": null,
   "metadata": {},
   "outputs": [
    {
     "name": "stderr",
     "output_type": "stream",
     "text": [
      "Interpreting ((0, 'he_0'), 'Allie') with parameters: [{}]\u001b[0m\n",
      "   Interpreting Allie with parameters: [{}]\u001b[0m\n",
      "   => Allie = A \t(TN)\u001b[0m\n",
      "   Interpreting (0, 'he_0') with parameters: [{}]\u001b[0m\n",
      "      Interpreting he_0 with parameters: ['{0: x}']\u001b[0m\n",
      "      => he_0 = x \t(TP)\u001b[0m\n",
      "   => (0, 'he_0') = lambda x: x \t(PA)\u001b[0m\n",
      "=> ((0, 'he_0'), 'Allie') = A \t(FA)\u001b[0m\n"
     ]
    },
    {
     "data": {
      "text/html": [
       "A\n",
       "        <span style='float:right; font-family:monospace; margin-right:75px;\n",
       "              font-weight:bold; background-color:#e5e5ff; color:#000'>\n",
       "          't'</span>"
      ],
      "text/plain": [
       "A"
      ]
     },
     "execution_count": 8,
     "metadata": {},
     "output_type": "execute_result"
    }
   ],
   "source": [
    "def takes(f,x):\n",
    "  f_type = getattr(f, 'type', [])\n",
    "  x_type = getattr(x, 'type', None)\n",
    "  #print('TAKES', f, f_type, x, x_type)\n",
    "  if len(f_type) == 2:\n",
    "    return f_type[0] == x_type\n",
    "  return False\n",
    "\n",
    "def is_et(f):\n",
    "  return getattr(f, 'type', None) == Type.et\n",
    "\n",
    "class MeaningPV(Meaning):\n",
    "  def rules(self, alpha, g):\n",
    "    value, rule = None, None\n",
    "    m = self\n",
    "    match alpha:\n",
    "      # TP\n",
    "      case str() if '_' in alpha and alpha.split('_')[1].isdecimal():\n",
    "        i = int(alpha.split('_')[1])\n",
    "        rule = 'TP'\n",
    "        value = 'g[i]'.e\n",
    "\n",
    "      # case int() | str() as i if str(i).isdecimal():\n",
    "      #   i = int(i)\n",
    "      #   rule = 'IX'\n",
    "      #   value = i\n",
    "\n",
    "      case str() as s:\n",
    "        rule = 'TN'\n",
    "        value = self.lookup(s)\n",
    "      \n",
    "      # PA\n",
    "      case (i, beta) if str(i).isdecimal():\n",
    "        i = int(i)\n",
    "        rule = 'PA'\n",
    "        value = (lambda x : m.i(beta, g | {i:x})).et\n",
    "\n",
    "      # NN\n",
    "      case (beta,) if m.i(beta,g) is None:\n",
    "        rule = 'NN'\n",
    "        value = None\n",
    "        logger.warning('Ignoring vacuous item %s', beta)\n",
    "\n",
    "      case (beta,):\n",
    "        rule = 'NN'\n",
    "        value = PV(m.i(beta,g))\n",
    "\n",
    "      case (beta, gamma) if  m.i(gamma,g) is None:\n",
    "        rule = 'NN'\n",
    "        value = PV(m.i(beta,g))\n",
    "        logger.warning('Ignoring vacuous item %s', gamma)\n",
    "\n",
    "      case (gamma, beta) if m.i(gamma,g) is None:\n",
    "        rule = 'NN'\n",
    "        value = PV(m.i(beta,g))\n",
    "        logger.warning('Ignoring vacuous item %s', gamma)\n",
    "\n",
    "      # PM\n",
    "      case (beta, gamma) if is_et(m.i(gamma,g)) and is_et(m.i(beta,g)):\n",
    "        rule = 'PM'\n",
    "        value = (lambda x: m.i(beta,g)(x) and m.i(gamma,g)(x)).et\n",
    "\n",
    "      # FA\n",
    "      case (beta, gamma) if takes(m.i(beta,g), m.i(gamma,g)):\n",
    "        rule = 'FA'\n",
    "        value = PV(m.i(beta,g)(m.i(gamma,g)))\n",
    "      case (gamma, beta) if takes(m.i(beta,g), m.i(gamma,g)):\n",
    "        rule = 'AF'\n",
    "        value = PV(m.i(beta,g)(m.i(gamma,g)))\n",
    "\n",
    "    return value, rule\n",
    "\n",
    "m = MeaningPV({\n",
    "  'snores' : 'lambda x: SNORES(x)'.et,\n",
    "  'Allie' : 'A'.e,\n",
    "  'Bob' : 'B'.e,\n",
    "  'saw' : (lambda y: lambda x: SAW(x,y)).eet\n",
    "})\n",
    "\n",
    "m.i(((0, 'he_0'), 'Allie'), {})\n",
    "#m.i((0, 'he_0'), {})\n"
   ]
  },
  {
   "cell_type": "code",
   "execution_count": null,
   "metadata": {},
   "outputs": [
    {
     "name": "stderr",
     "output_type": "stream",
     "text": [
      "Interpreting (0, ('Bob', (('is',), ('saw', 't_0')))) with parameters: [{}]\u001b[0m\n",
      "   Interpreting ('Bob', (('is',), ('saw', 't_0'))) with parameters: ['{0: x}']\u001b[0m\n",
      "      Interpreting (('is',), ('saw', 't_0')) with parameters: ['{0: x}']\u001b[0m\n",
      "         Interpreting ('saw', 't_0') with parameters: ['{0: x}']\u001b[0m\n",
      "            Interpreting t_0 with parameters: ['{0: x}']\u001b[0m\n",
      "            => t_0 = x \t(TP)\u001b[0m\n",
      "            Interpreting saw with parameters: ['{0: x}']\u001b[0m\n",
      "            => saw = lambda y: lambda x: SAW(x, y) \t(TN)\u001b[0m\n",
      "         => ('saw', 't_0') = lambda z: SAW(z, x) \t(FA)\u001b[0m\n",
      "         Interpreting ('is',) with parameters: ['{0: x}']\u001b[0m\n",
      "            Interpreting is with parameters: ['{0: x}']\u001b[0m\n",
      "            => is = None \t(TN)\u001b[0m\n",
      "\u001b[38;5;208mRemoved vacuous item is\u001b[0m\n",
      "         => ('is',) = None \t(NN)\u001b[0m\n",
      "\u001b[38;5;208mRemoved vacuous item ('is',)\u001b[0m\n",
      "      => (('is',), ('saw', 't_0')) = lambda z: SAW(z, x) \t(NN)\u001b[0m\n",
      "      Interpreting Bob with parameters: ['{0: x}']\u001b[0m\n",
      "      => Bob = B \t(TN)\u001b[0m\n",
      "   => ('Bob', (('is',), ('saw', 't_0'))) = SAW(B, x) \t(AF)\u001b[0m\n",
      "=> (0, ('Bob', (('is',), ('saw', 't_0')))) = lambda x: SAW(B, x) \t(PA)\u001b[0m\n"
     ]
    },
    {
     "data": {
      "text/html": [
       "lambda x: SAW(B, x)\n",
       "        <span style='float:right; font-family:monospace; margin-right:75px;\n",
       "              font-weight:bold; background-color:#e5e5ff; color:#000'>\n",
       "          ('e', 't')</span>"
      ],
      "text/plain": [
       "lambda x: SAW(B, x)"
      ]
     },
     "execution_count": 7,
     "metadata": {},
     "output_type": "execute_result"
    }
   ],
   "source": [
    "#console_handler.setLevel(logging.DEBUG)\n",
    "m.i((0, ('Bob', (('is',), ('saw', 't_0')))), {})\n",
    "#console_handler.setLevel(logging.INFO)"
   ]
  },
  {
   "cell_type": "code",
   "execution_count": null,
   "metadata": {},
   "outputs": [
    {
     "name": "stderr",
     "output_type": "stream",
     "text": [
      "Interpreting (0, ('Bob', ('saw', 't_0'))) with parameters: [{}]\u001b[0m\n",
      "   Interpreting ('Bob', ('saw', 't_0')) with parameters: ['{0: x}']\u001b[0m\n",
      "      Interpreting ('saw', 't_0') with parameters: ['{0: x}']\u001b[0m\n",
      "         Interpreting t_0 with parameters: ['{0: x}']\u001b[0m\n",
      "         => t_0 = x \t(TP)\u001b[0m\n",
      "         Interpreting saw with parameters: ['{0: x}']\u001b[0m\n",
      "         => saw = lambda y: lambda x: SAW(x, y) \t(TN)\u001b[0m\n",
      "      => ('saw', 't_0') = lambda z: SAW(z, x) \t(FA)\u001b[0m\n",
      "      Interpreting Bob with parameters: ['{0: x}']\u001b[0m\n",
      "      => Bob = B \t(TN)\u001b[0m\n",
      "   => ('Bob', ('saw', 't_0')) = SAW(B, x) \t(AF)\u001b[0m\n",
      "=> (0, ('Bob', ('saw', 't_0'))) = lambda x: SAW(B, x) \t(PA)\u001b[0m\n"
     ]
    },
    {
     "name": "stdout",
     "output_type": "stream",
     "text": [
      "PA SAW(B, x)\n"
     ]
    },
    {
     "data": {
      "text/html": [
       "lambda x: SAW(B, x)\n",
       "        <span style='float:right; font-family:monospace; margin-right:75px;\n",
       "              font-weight:bold; background-color:#e5e5ff; color:#000'>\n",
       "          ('e', 't')</span>"
      ],
      "text/plain": [
       "lambda x: SAW(B, x)"
      ]
     },
     "execution_count": 4,
     "metadata": {},
     "output_type": "execute_result"
    }
   ],
   "source": [
    "from nltk import Tree, ImmutableTree\n",
    "tree = Tree.fromstring('(CP 0 (S Bob (VP saw t_0)))')\n",
    "#console_handler.setLevel(logging.DEBUG)\n",
    "m.i((0, ('Bob', ('saw', 't_0'))), {})\n",
    "console_handler.setLevel(logging.INFO)"
   ]
  },
  {
   "cell_type": "code",
   "execution_count": null,
   "metadata": {},
   "outputs": [],
   "source": [
    "SNORES = Predicate({('A',), (PV.e('B'),)})\n",
    "C = PV.e('C')\n",
    "B = PV.e('B')\n",
    "B\n",
    "B == PV.e('B')\n",
    "console_handler.setLevel(logging.DEBUG)\n",
    "\"(lambda x: (lambda y : SNORES(y))(x))(B)\".et\n",
    "console_handler.setLevel(logging.INFO)"
   ]
  },
  {
   "cell_type": "code",
   "execution_count": null,
   "metadata": {},
   "outputs": [],
   "source": [
    "class MeaningPV(Meaning):\n",
    "  def rules(self, alpha, g={}):\n",
    "    value, rule = None, None\n",
    "    m = self(g)\n",
    "    match alpha:\n",
    "      # PA\n",
    "      case (int() as i, beta):\n",
    "        rule = 'PA'\n",
    "        m = self\n",
    "        value = (lambda x : m.i(beta, g | {i:x})).ee        \n",
    "\n",
    "      # TP\n",
    "      case str() if '_' in alpha and alpha.split('_')[1].isdigit():\n",
    "        i = int(alpha.split('_')[1])\n",
    "        rule = 'TP'\n",
    "        value = 'g[i]'.e\n",
    "\n",
    "      case int() as i:\n",
    "        rule = 'TN'\n",
    "        value = i\n",
    "\n",
    "      case str() as s:\n",
    "        rule = 'PN'\n",
    "        value = self.lookup(s)\n",
    "\n",
    "    return value, rule\n",
    "\n",
    "m = MeaningPV({\n",
    "  'snores' : 'lambda x: SNORES(x)'.et,\n",
    "#  'Allie' : 'A'.e\n",
    "})\n",
    "\n",
    "#console_handler.setLevel(logging.DEBUG)\n",
    "PV(m.i((0, 'he_0'), {}))\n",
    "console_handler.setLevel(logging.INFO)"
   ]
  },
  {
   "cell_type": "code",
   "execution_count": null,
   "metadata": {},
   "outputs": [],
   "source": [
    "modify = (lambda g,i,a: g | {i:a}).xg\n",
    "modify\n",
    "gg = {1:2,3:4}\n",
    "console_handler.setLevel(logging.DEBUG)\n",
    "ff = (lambda x : (gg | {1:x})[1]).eg\n",
    "ff\n",
    "ff(3)\n",
    "console_handler.setLevel(logging.INFO)"
   ]
  },
  {
   "cell_type": "code",
   "execution_count": null,
   "metadata": {},
   "outputs": [],
   "source": [
    "class Meaning5b(Meaning):\n",
    "  def rules(self, alpha):\n",
    "    value, rule = None, None\n",
    "    match alpha:\n",
    "      # PA\n",
    "      case (int() as i, beta):\n",
    "        rule = 'PA'\n",
    "        m = self\n",
    "        value = (lambda x : (lambda g : g[i])(g | {i:x})).ee\n",
    "        value = value(m[beta])\n",
    "        \n",
    "\n",
    "      # TP\n",
    "      case str() if '_' in alpha and alpha.split('_')[1].isdigit():\n",
    "        i = int(alpha.split('_')[1])\n",
    "        rule = 'TP'\n",
    "        value = 'g[0]'.e\n",
    "\n",
    "      case int() as i:\n",
    "        rule = 'TN'\n",
    "        value = i\n",
    "\n",
    "    return value, rule\n",
    "\n",
    "m = Meaning5b({\n",
    "  'snores' : 'lambda x: SNORES(x)'.et,\n",
    "  'Allie' : 'A'.e\n",
    "})\n",
    "\n",
    "ff = m[0, 'he_0']\n",
    "ff\n",
    "(lambda g : ff).ge({1:'Z'.e, 2:'B'.e})\n",
    "#ff({1:'Z'.e, 2:'B'.e})('A'.e)"
   ]
  },
  {
   "cell_type": "code",
   "execution_count": null,
   "metadata": {},
   "outputs": [],
   "source": [
    "class Meaning5b(Meaning):\n",
    "  def rules(self, alpha):\n",
    "    value, rule = None, None\n",
    "    match alpha:\n",
    "      # PA\n",
    "      case (int() as i, beta):\n",
    "        rule = 'PA'\n",
    "        m = self\n",
    "        value = (lambda y : lambda g: lambda x : y(g|{0:x})).ge_gee\n",
    "        logger.warning('value context: %s', value.context)\n",
    "        value = value(m[beta])\n",
    "        logger.warning('value context: %s', value.context)\n",
    "        \n",
    "\n",
    "      # TP\n",
    "      case str() if '_' in alpha and alpha.split('_')[1].isdigit():\n",
    "        i = int(alpha.split('_')[1])\n",
    "        rule = 'TP'\n",
    "        value = (lambda g : g[0]).ge\n",
    "\n",
    "      case int() as i:\n",
    "        rule = 'TN'\n",
    "        value = i\n",
    "\n",
    "    return value, rule\n",
    "\n",
    "m = Meaning5b({\n",
    "  'snores' : 'lambda x: SNORES(x)'.et,\n",
    "  'Allie' : 'A'.e\n",
    "})\n",
    "\n",
    "ff = m[0, 'he_0']\n",
    "ff\n",
    "ff({1:'Z'.e, 2:'B'.e})\n",
    "ff({1:'Z'.e, 2:'B'.e})('A'.e)"
   ]
  },
  {
   "cell_type": "code",
   "execution_count": null,
   "metadata": {},
   "outputs": [],
   "source": [
    "def modify(g, i, a):\n",
    "  g[i] = SemVal(str(a), Type.e)\n",
    "  return g\n",
    "\n",
    "class Meaning5b(Meaning):\n",
    "  def rules(self, alpha, g): # pylint: disable=no-self-argument\n",
    "    \"\"\"Defines standard rules for combining the meanings of the\n",
    "    children of a node alpha. Meant to be overridden if different rules are wanted.\"\"\"\n",
    "\n",
    "    value, rule = None, None\n",
    "    m = self(g)\n",
    "    match alpha:\n",
    "      # PA\n",
    "      case (int() as i, beta):\n",
    "        rule = 'PA'\n",
    "        m = self\n",
    "        value = (lambda x : m(modify(g,i,x))[beta]).et\n",
    "\n",
    "      # PM\n",
    "      case (beta, gamma) if m[gamma].type == m[beta].type == Type.et:\n",
    "        rule = 'PM'\n",
    "        pm_f = Function('lambda f : lambda g: lambda x: f(x) and g(x)', Type.et_et_et)\n",
    "        value = pm_f(m[beta])(m[gamma])\n",
    "\n",
    "      # FA\n",
    "      case (beta, gamma) if  m[gamma] in m[beta].domain() :\n",
    "        rule = 'FA'\n",
    "        value = m[beta](m[gamma])\n",
    "      case (gamma, beta) if  m[gamma] in m[beta].domain() :\n",
    "        rule = 'AF'\n",
    "        value = m[beta](m[gamma])\n",
    "\n",
    "      # NN\n",
    "      case (beta,):\n",
    "        rule = 'NN'\n",
    "        value = m[beta]\n",
    "      \n",
    "      # TP\n",
    "      case str() if '_' in alpha and alpha.split('_')[1].isdigit():\n",
    "        i = int(alpha.split('_')[1])\n",
    "        rule = 'TP'\n",
    "        value = g[i]\n",
    "\n",
    "      # TN\n",
    "      case str():\n",
    "        rule = 'TN'\n",
    "        value = m.lookup(alpha)\n",
    "\n",
    "      case int() as i:\n",
    "        rule = 'TN'\n",
    "        value = i\n",
    "\n",
    "    return value, rule\n",
    "\n",
    "m = Meaning5b({\n",
    "  'snores' : 'lambda x: SNORES(x)'.et,\n",
    "  'Allie' : 'A'.e\n",
    "})\n",
    "\n",
    "ff = m(['Z'.e, 'B'.e])[(0, ('he_0', 'snores'))]\n",
    "ff"
   ]
  },
  {
   "cell_type": "code",
   "execution_count": null,
   "metadata": {},
   "outputs": [],
   "source": [
    "class Meaning5a(Meaning):\n",
    "  def rules(self, alpha, a): # pylint: disable=no-self-argument\n",
    "    \"\"\"Defines standard rules for combining the meanings of the\n",
    "    children of a node alpha. Meant to be overridden if different rules are wanted.\"\"\"\n",
    "\n",
    "    value, rule = None, None\n",
    "    m = self(a)\n",
    "    match alpha:      \n",
    "      # PM\n",
    "      case (beta, gamma) if m[gamma].type == m[beta].type == Type.et:\n",
    "        rule = 'PM'\n",
    "        pm_f = Function('lambda f : lambda g: lambda x: f(x) and g(x)', Type.et_et_et)\n",
    "        value = pm_f(m[beta])(m[gamma])\n",
    "\n",
    "      # FA\n",
    "      case (beta, gamma) if  m[gamma] in m[beta].domain() :\n",
    "        rule = 'FA'\n",
    "        value = m[beta](m[gamma])\n",
    "      case (gamma, beta) if  m[gamma] in m[beta].domain() :\n",
    "        rule = 'AF'\n",
    "        value = m[beta](m[gamma])\n",
    "\n",
    "      # NN\n",
    "      case (beta,):\n",
    "        rule = 'NN'\n",
    "        value = m[beta]\n",
    "\n",
    "      case 't'|'he'|'she'|'it':\n",
    "        rule = 'TP'\n",
    "        value = a\n",
    "      \n",
    "      # TN\n",
    "      case str():\n",
    "        rule = 'TN'\n",
    "        value = m.lookup(alpha)\n",
    "\n",
    "    return value, rule\n",
    "\n",
    "m = Meaning5a({\n",
    "  'snores' : 'lambda x: SNORES(x)'.et,\n",
    "})\n",
    "\n",
    "m('A'.e)['he', 'snores']"
   ]
  },
  {
   "cell_type": "code",
   "execution_count": null,
   "metadata": {},
   "outputs": [
    {
     "data": {
      "image/svg+xml": [
       "<svg baseProfile=\"full\" height=\"264px\" preserveAspectRatio=\"xMidYMid meet\" style=\"font-family: times, serif; font-weight: normal; font-style: normal; font-size: 16px\" version=\"1.1\" viewBox=\"0,0,266.0,264.0\" width=\"266px\" xmlns=\"http://www.w3.org/2000/svg\" xmlns:ev=\"http://www.w3.org/2001/xml-events\" xmlns:xlink=\"http://www.w3.org/1999/xlink\"><defs /><svg width=\"100%\" x=\"0\" y=\"0px\"><defs /><text text-anchor=\"middle\" x=\"50%\" y=\"16px\">CP</text></svg><svg width=\"9.02256%\" x=\"0%\" y=\"48px\"><defs /><svg width=\"100%\" x=\"0\" y=\"0px\"><defs /><text text-anchor=\"middle\" x=\"50%\" y=\"16px\">1</text></svg></svg><line stroke=\"black\" x1=\"50%\" x2=\"4.51128%\" y1=\"20px\" y2=\"48px\" /><svg width=\"90.9774%\" x=\"9.02256%\" y=\"48px\"><defs /><svg width=\"100%\" x=\"0\" y=\"0px\"><defs /><text text-anchor=\"middle\" x=\"50%\" y=\"16px\">S</text></svg><svg width=\"40.4959%\" x=\"0%\" y=\"48px\"><defs /><svg width=\"100%\" x=\"0\" y=\"0px\"><defs /><text text-anchor=\"middle\" x=\"50%\" y=\"16px\">NP</text></svg><svg width=\"59.1837%\" x=\"0%\" y=\"48px\"><defs /><svg width=\"100%\" x=\"0\" y=\"0px\"><defs /><text text-anchor=\"middle\" x=\"50%\" y=\"16px\">DT</text></svg><svg width=\"100%\" x=\"0%\" y=\"48px\"><defs /><svg width=\"100%\" x=\"0\" y=\"0px\"><defs /><text text-anchor=\"middle\" x=\"50%\" y=\"16px\"><tspan>The</tspan><tspan dy=\"4px\" style=\"font-size: 12px\">1</tspan></text></svg></svg><line stroke=\"black\" x1=\"50%\" x2=\"50%\" y1=\"20px\" y2=\"48px\" /></svg><line stroke=\"black\" x1=\"50%\" x2=\"29.5918%\" y1=\"20px\" y2=\"48px\" /><svg width=\"40.8163%\" x=\"59.1837%\" y=\"48px\"><defs /><svg width=\"100%\" x=\"0\" y=\"0px\"><defs /><text text-anchor=\"middle\" x=\"50%\" y=\"16px\">NN</text></svg><svg width=\"100%\" x=\"0%\" y=\"48px\"><defs /><svg width=\"100%\" x=\"0\" y=\"0px\"><defs /><text text-anchor=\"middle\" x=\"50%\" y=\"16px\">cat</text></svg></svg><line stroke=\"black\" x1=\"50%\" x2=\"50%\" y1=\"20px\" y2=\"48px\" /></svg><line stroke=\"black\" x1=\"50%\" x2=\"79.5918%\" y1=\"20px\" y2=\"48px\" /></svg><line stroke=\"black\" x1=\"50%\" x2=\"20.2479%\" y1=\"20px\" y2=\"48px\" /><svg width=\"59.5041%\" x=\"40.4959%\" y=\"48px\"><defs /><svg width=\"100%\" x=\"0\" y=\"0px\"><defs /><text text-anchor=\"middle\" x=\"50%\" y=\"16px\">VP</text></svg><svg width=\"33.3333%\" x=\"0%\" y=\"48px\"><defs /><svg width=\"100%\" x=\"0\" y=\"0px\"><defs /><text text-anchor=\"middle\" x=\"50%\" y=\"16px\">VBZ</text></svg><svg width=\"100%\" x=\"0%\" y=\"48px\"><defs /><svg width=\"100%\" x=\"0\" y=\"0px\"><defs /><text text-anchor=\"middle\" x=\"50%\" y=\"16px\">eats</text></svg></svg><line stroke=\"black\" x1=\"50%\" x2=\"50%\" y1=\"20px\" y2=\"48px\" /></svg><line stroke=\"black\" x1=\"50%\" x2=\"16.6667%\" y1=\"20px\" y2=\"48px\" /><svg width=\"66.6667%\" x=\"33.3333%\" y=\"48px\"><defs /><svg width=\"100%\" x=\"0\" y=\"0px\"><defs /><text text-anchor=\"middle\" x=\"50%\" y=\"16px\">NP</text></svg><svg width=\"41.6667%\" x=\"0%\" y=\"48px\"><defs /><svg width=\"100%\" x=\"0\" y=\"0px\"><defs /><text text-anchor=\"middle\" x=\"50%\" y=\"16px\">DT</text></svg><svg width=\"100%\" x=\"0%\" y=\"48px\"><defs /><svg width=\"100%\" x=\"0\" y=\"0px\"><defs /><text text-anchor=\"middle\" x=\"50%\" y=\"16px\">the</text></svg></svg><line stroke=\"black\" x1=\"50%\" x2=\"50%\" y1=\"20px\" y2=\"48px\" /></svg><line stroke=\"black\" x1=\"50%\" x2=\"20.8333%\" y1=\"20px\" y2=\"48px\" /><svg width=\"58.3333%\" x=\"41.6667%\" y=\"48px\"><defs /><svg width=\"100%\" x=\"0\" y=\"0px\"><defs /><text text-anchor=\"middle\" x=\"50%\" y=\"16px\">NN</text></svg><svg width=\"100%\" x=\"0%\" y=\"48px\"><defs /><svg width=\"100%\" x=\"0\" y=\"0px\"><defs /><text text-anchor=\"middle\" x=\"50%\" y=\"16px\">mouse</text></svg></svg><line stroke=\"black\" x1=\"50%\" x2=\"50%\" y1=\"20px\" y2=\"48px\" /></svg><line stroke=\"black\" x1=\"50%\" x2=\"70.8333%\" y1=\"20px\" y2=\"48px\" /></svg><line stroke=\"black\" x1=\"50%\" x2=\"66.6667%\" y1=\"20px\" y2=\"48px\" /></svg><line stroke=\"black\" x1=\"50%\" x2=\"70.2479%\" y1=\"20px\" y2=\"48px\" /></svg><line stroke=\"black\" x1=\"50%\" x2=\"54.5113%\" y1=\"20px\" y2=\"48px\" /></svg>"
      ],
      "text/plain": [
       "Tree('CP', ['1', Tree('S', [Tree('NP', [Tree('DT', ['The_1']), Tree('NN', ['cat'])]), Tree('VP', [Tree('VBZ', ['eats']), Tree('NP', [Tree('DT', ['the']), Tree('NN', ['mouse'])])])])])"
      ]
     },
     "execution_count": 8,
     "metadata": {},
     "output_type": "execute_result"
    },
    {
     "data": {
      "text/plain": [
       "str"
      ]
     },
     "execution_count": 8,
     "metadata": {},
     "output_type": "execute_result"
    }
   ],
   "source": [
    "import svgling\n",
    "from nltk import Tree\n",
    "\n",
    "tree = Tree.fromstring('(CP 1 (S (NP (DT The_1) (NN cat)) (VP (VBZ eats) (NP (DT the) (NN mouse)))))')\n",
    "\n",
    "def split_leaf(node):\n",
    "  if isinstance(node, str):\n",
    "    l = node.split('_')\n",
    "    if len(l) > 1:\n",
    "      return svgling.core.subscript_node(l[0], l[1]), ()\n",
    "    return node, ()\n",
    "\n",
    "def _repr_svg_(self):\n",
    "  return svgling.draw_tree(self, tree_split=split_leaf)._repr_svg_()\n",
    "\n",
    "Tree._repr_svg_ = _repr_svg_\n",
    "tree\n",
    "type(tree[0][0][0])\n"
   ]
  },
  {
   "cell_type": "code",
   "execution_count": null,
   "metadata": {},
   "outputs": [],
   "source": [
    "from string import ascii_uppercase\n",
    "DOMAIN = [SemVal.create(c,Type.e) for c in ascii_uppercase]\n",
    "A,B,C,D,E,F,G,H,I,J,K,L,M,N,O,P,Q,R,S,T,U,V,W,X,Y,Z = DOMAIN\n",
    "\n",
    "def charset(f, domain = None):\n",
    "  #logger.warning(f'CHARSET of {repr(f)}')\n",
    "  if domain is None:\n",
    "    domain = DOMAIN\n",
    "  out = {c for c in domain if f(c)}\n",
    "  #logger.warning(f'CHARSET of {f} is {out}')\n",
    "  return out\n",
    "\n",
    "def iota(f, domain = None):\n",
    "  #logger.warning(f'IOTA of {f}')\n",
    "  return max(charset(f,domain))"
   ]
  },
  {
   "cell_type": "code",
   "execution_count": null,
   "metadata": {},
   "outputs": [],
   "source": [
    "from IPython.display import HTML\n",
    "from nltk import Tree\n",
    "# Domain and Predicates / Relations\n",
    "A, B, C, D, E, F, G = DOMAIN[:7]\n",
    "PAWN = Predicate({\n",
    "    (A,), (B,), (C,), (D,), (E,), (F,), (G,)\n",
    "})\n",
    "LEFT_OF = Predicate({\n",
    "    (A,B), (A,C), (A,D), (A,E), (A,F), (A,G),\n",
    "    (B,C), (B,D), (B,E), (B,F), (B,G),\n",
    "    (C,D), (C,E), (C,F), (C,G),\n",
    "    (D,E), (D,F), (D,G),\n",
    "    (E,F), (E,G),\n",
    "    (F,G)            \n",
    "})\n",
    "BLACK = Predicate({\n",
    "    (B,), (D,), (E,), (F,)\n",
    "})\n",
    "\n",
    "\n",
    "# Lexical entries\n",
    "m3 = Meaning({\n",
    "    'leftmost.et'  : 'lambda x : len(charset(lambda y : LEFT_OF(y,x)))==0'.et,\n",
    "    'pawn'      : 'lambda x : PAWN(x)'.et,\n",
    "    'the'       : 'lambda f : (len(charset(f))==1, iota(f))'.et_e,\n",
    "    'black'     : 'lambda x : BLACK(x)'.et\n",
    "})\n",
    "    \n",
    "\n",
    "# CHANGE ONLY BELOW\n",
    "m3.update({\n",
    "    'leftmost.et_et' : 'lambda f : lambda x: len(charset(lambda y : f(y) and LEFT_OF(y,x)))==0'.et_et\n",
    "})\n",
    "# CHANGE ONLY ABOVE\n",
    "\n",
    "HTML(\"<h3>[black pawn]</h3>\")\n",
    "charset(m3['black','pawn'])\n",
    "\n",
    "HTML(\"<h3>[leftmost.et pawn]</h3>\")\n",
    "charset(m3['leftmost.et','pawn'])\n",
    "\n",
    "tree3 = Tree.fromstring('(NP leftmost.et (NP black pawn))')\n",
    "HTML('<h3>[leftmost.et black pawn]</h3>')\n",
    "tree3\n",
    "charset(m3[tree3])\n",
    "\n",
    "HTML(\"<h3>[leftmost.et_et pawn]</h3>\")\n",
    "charset(m3['leftmost.et_et','pawn'])\n",
    "\n",
    "tree3 = Tree.fromstring('(NP leftmost.et_et (NP black pawn))')\n",
    "HTML('<h3>[leftmost.et_et black pawn]</h3>')\n",
    "tree3\n",
    "charset(m3[tree3])"
   ]
  },
  {
   "cell_type": "code",
   "execution_count": null,
   "metadata": {},
   "outputs": [],
   "source": [
    "from nltk import ImmutableTree\n",
    "tt = ImmutableTree.fromstring('(NP leftmost.et_et (NP black pawn))')\n",
    "type([tt]) == list\n"
   ]
  },
  {
   "cell_type": "code",
   "execution_count": null,
   "metadata": {},
   "outputs": [],
   "source": [
    "console_handler.setLevel(logging.INFO)\n",
    "the = 'lambda f: iota(f) if len(charset(f)) == 1 else None'.et_e\n",
    "dog = 'lambda x: x in DOMAIN[:1]'.et\n",
    "charset(dog)\n",
    "the(dog)"
   ]
  },
  {
   "cell_type": "code",
   "execution_count": null,
   "metadata": {},
   "outputs": [],
   "source": [
    "#DOMAIN = DOMAIN[:3]\n",
    "#DOMAIN\n",
    "KILLED = Predicate({(A,B),})\n",
    "BLACK = Predicate({(B,), (C,)})\n",
    "CAT = Predicate({(B,)})\n",
    "ESCAPED = Predicate({(A,)})\n",
    "\n",
    "del KILLED\n",
    "del BLACK\n",
    "del CAT\n",
    "del ESCAPED"
   ]
  },
  {
   "cell_type": "code",
   "execution_count": null,
   "metadata": {},
   "outputs": [],
   "source": [
    "m= Meaning()\n",
    "m.update({\n",
    "  'killer'  : 'lambda y: lambda x :KILLED(x,y)'.eet,\n",
    "  'black'   : 'lambda x: BLACK(x)'.et,\n",
    "  'cat'     : 'lambda x: CAT(x)'.et,\n",
    "  'escaped' : 'lambda x: ESCAPED(x)'.et,\n",
    "  'the'     : 'lambda f: ( len(charset(f))==1, iota(f) )'.et_e\n",
    "})\n",
    "\n",
    "from nltk import Tree\n",
    "tree = Tree.fromstring(\"\"\"\n",
    "(S  (DP the\n",
    "        (NP killer\n",
    "            (PP of\n",
    "                (DP the\n",
    "                    (NP black cat)\n",
    "                )\n",
    "            )\n",
    "        )\n",
    "    )\n",
    "    (VP escaped)\n",
    ")\n",
    "\"\"\")\n",
    "\n",
    "test = tree[0][1][1][1]\n",
    "test = tree\n",
    "test\n",
    "\n",
    "m[test]\n",
    "\n",
    "\n"
   ]
  },
  {
   "cell_type": "code",
   "execution_count": null,
   "metadata": {},
   "outputs": [],
   "source": [
    "m.memo"
   ]
  },
  {
   "cell_type": "code",
   "execution_count": null,
   "metadata": {},
   "outputs": [],
   "source": [
    "from nltk import Tree\n",
    "tree = Tree.fromstring(\"\"\"\n",
    "(S\n",
    "  (NP Julius)\n",
    "  (VP is\n",
    "      (VP sleeping\n",
    "          (PP on (NP the couch))\n",
    "      )\n",
    "  )\n",
    ")\"\"\")\n",
    "tree\n",
    "\n",
    "m = Meaning({\n",
    "    'Julius'    : 'J'.e,\n",
    "    'the'       : 'lambda f: iota(f)'.et_e,\n",
    "\n",
    "})\n",
    "\n",
    "#m[tree]"
   ]
  },
  {
   "cell_type": "code",
   "execution_count": null,
   "metadata": {},
   "outputs": [],
   "source": [
    "#!pip install nltk\n",
    "from nltk import Tree\n",
    "#!pip install svgling"
   ]
  },
  {
   "cell_type": "code",
   "execution_count": null,
   "metadata": {},
   "outputs": [],
   "source": [
    "node = parse('PAWN(\"A\")', mode='eval')\n",
    "obj = compile(node, '<string>', 'eval')\n",
    "eval(obj)"
   ]
  },
  {
   "cell_type": "code",
   "execution_count": null,
   "metadata": {},
   "outputs": [],
   "source": [
    "m = Meaning({\n",
    "    'Joe'     : 'J'.e,\n",
    "    'Kaline'  : 'K'.e,\n",
    "    'cat'     : 'lambda x: CAT(x)'.et,\n",
    "    'gray'    : 'lambda f : lambda x: f(x) and GRAY(x)'.et_et,\n",
    "})\n",
    "\n",
    "m['Joe', 'cat']"
   ]
  },
  {
   "cell_type": "code",
   "execution_count": null,
   "metadata": {},
   "outputs": [],
   "source": [
    "t = Tree.fromstring('(S (NP Joe) (VP cat (VP (V is) (NP cat gray))))')\n",
    "t\n",
    "\n",
    "m[t]"
   ]
  },
  {
   "cell_type": "code",
   "execution_count": null,
   "metadata": {},
   "outputs": [],
   "source": [
    "m.update({\n",
    "  'gray'    : 'lambda f : lambda x: f(x) and GRAY(x)'.eet_t,\n",
    "  })\n",
    "\n",
    "m['gray']\n",
    "m[t]"
   ]
  },
  {
   "cell_type": "code",
   "execution_count": null,
   "metadata": {},
   "outputs": [],
   "source": [
    "class Meaning4(Meaning):\n",
    "  def rules(m, alpha):\n",
    "    match alpha:      # Note: m.quiet(  ) turns off printing\n",
    "      # PM\n",
    "      case (beta, gamma) if m.quiet(  m[gamma].type == m[beta].type == Type.et ):\n",
    "        rule = 'PM'\n",
    "        value = 'lambda f : lambda g: lambda x: f(x) and g(x)'.et_et_et(m[beta])(m[gamma])\n",
    "\n",
    "      # FA\n",
    "      case (beta, gamma) if m.quiet(  m[gamma] in m[beta].domain()  ):\n",
    "        rule = 'FA'\n",
    "        value = m[beta](m[gamma])\n",
    "      case (gamma, beta) if m.quiet(  m[gamma] in m[beta].domain()  ):\n",
    "        rule = 'AF'\n",
    "        value = m[beta](m[gamma])\n",
    "\n",
    "      # NN\n",
    "      case (beta,):\n",
    "        rule = 'NN'\n",
    "        value = m[beta]\n",
    "\n",
    "      # TN\n",
    "      case str():\n",
    "        rule = 'TN'\n",
    "        value = m.lookup(alpha)\n",
    "\n",
    "      case _:\n",
    "        rule = '??'\n",
    "        value = alpha\n",
    "\n",
    "    return value, rule\n",
    "\n",
    "m4 = Meaning4({\n",
    "    'Joe'     : 'J'.e,\n",
    "    'Kaline'  : 'K'.e,\n",
    "    'Texas'   : 'T'.e,\n",
    "    'in'      : 'lambda x: lambda y: IN(y,x)'.eet,\n",
    "    'cat'     : 'lambda x: CAT(x)'.et,\n",
    "    'gray'    : 'lambda x: GRAY(x)'.et,\n",
    "})\n",
    "\n",
    "m4['gray', 'cat']\n",
    "m4['Kaline', [['gray', 'cat'], ['in', 'Texas']]]"
   ]
  },
  {
   "cell_type": "code",
   "execution_count": null,
   "metadata": {},
   "outputs": [],
   "source": [
    "class Meaning3(Meaning):\n",
    "  def rules(m, alpha):\n",
    "    match alpha:      # Note: m.quiet(  ) turns off printing\n",
    "      # FA\n",
    "      case (beta, gamma) if m.quiet(  m[gamma] in m[beta].domain()  ):\n",
    "        rule = 'FA'\n",
    "        value = m[beta](m[gamma])\n",
    "      case (gamma, beta) if m.quiet(  m[gamma] in m[beta].domain()  ):\n",
    "        rule = 'AF'\n",
    "        value = m[beta](m[gamma])\n",
    "\n",
    "      # NN\n",
    "      case (beta,):\n",
    "        rule = 'NN'\n",
    "        value = m[beta]\n",
    "\n",
    "      # TN\n",
    "      case str():\n",
    "        rule = 'TN'\n",
    "        value = m.lookup(alpha)\n",
    "\n",
    "      case _:\n",
    "        rule = '??'\n",
    "        value = alpha\n",
    "\n",
    "    return value, rule\n",
    "\n",
    "m3 = Meaning3({\n",
    "    'Joe'     : 'J'.e,\n",
    "    'Kaline'  : 'K'.e,\n",
    "    'cat'     : 'lambda x: CAT(x)'.et,\n",
    "    'gray'    : 'lambda f: lambda x: f(x) and GRAY(x)'.et_et,\n",
    "    'fond'    : ...\n",
    "})\n",
    "\n",
    "#m3['Joe']\n",
    "#m3['Kaline']\n",
    "#m3['cat']\n",
    "#m3['Kaline', 'cat']\n",
    "m3[('a',)]\n",
    "m3['a', 'cat']\n",
    "m3['is', ['a', 'cat']]\n",
    "m3['Kaline', [['fond', 'Joe'], ['gray', 'cat']]]\n",
    "m3['Kaline', 'gray']"
   ]
  },
  {
   "cell_type": "code",
   "execution_count": null,
   "metadata": {},
   "outputs": [],
   "source": [
    "m3.update({'is': 'lambda f: lambda x: f(lambda y:1)(x)'.et_et__et})\n",
    "\n",
    "m3['gray']\n",
    "m3['is', 'gray']"
   ]
  },
  {
   "cell_type": "code",
   "execution_count": null,
   "metadata": {},
   "outputs": [],
   "source": [
    "tree = Tree.fromstring('(S (NP (N Kaline)) (VP is (NP (Det a) (N cat))))')\n",
    "tree\n",
    "m3[tree]"
   ]
  },
  {
   "cell_type": "code",
   "execution_count": null,
   "metadata": {},
   "outputs": [],
   "source": [
    "class Meaning3(Meaning):\n",
    "  def rules(m, alpha):\n",
    "    match alpha:      # Note: m.quiet(  ) turns off printing\n",
    "      # FA\n",
    "      case (beta, gamma) if m.quiet(  m[gamma] in m[beta].domain()  ):\n",
    "        rule = 'FA'\n",
    "        value = m[beta](m[gamma])\n",
    "      case (gamma, beta) if m.quiet(  m[gamma] in m[beta].domain()  ):\n",
    "        rule = 'AF'\n",
    "        value = m[beta](m[gamma])\n",
    "\n",
    "      # NN\n",
    "      case (beta,):\n",
    "        rule = 'NN'\n",
    "        value = m[beta]\n",
    "\n",
    "      # TN\n",
    "      case str():# if alpha in m:\n",
    "        rule = 'TN'\n",
    "        value = m.lookup(alpha)\n",
    "\n",
    "      case _:\n",
    "        rule = '??'\n",
    "        value = alpha\n",
    "    return value, rule\n",
    "\n",
    "m = Meaning3({\n",
    "    'Ann'     : 'A'.e,\n",
    "    'smokes'  : 'lambda x: SMOKES(x)'.et,\n",
    "    'tall'    : 'lambda x: TALL(x)'.et,\n",
    "    'likes'   : 'lambda x: lambda y: LIKES(x,y)'.eet,\n",
    "#    'is'      : None,\n",
    "})\n",
    "\n",
    "m['Ann']\n",
    "m['smokes']\n",
    "m['Ann', 'smokes']\n",
    "m['smokes', 'Ann']"
   ]
  },
  {
   "cell_type": "code",
   "execution_count": null,
   "metadata": {},
   "outputs": [],
   "source": [
    "m['tall', 'is']"
   ]
  },
  {
   "cell_type": "code",
   "execution_count": null,
   "metadata": {},
   "outputs": [],
   "source": [
    "t = [1,2]\n",
    "t = t - [1]"
   ]
  },
  {
   "cell_type": "code",
   "execution_count": null,
   "metadata": {},
   "outputs": [],
   "source": [
    "'lambda f:lambda x: f(x) and GRAY(x)'.et"
   ]
  },
  {
   "cell_type": "code",
   "execution_count": null,
   "metadata": {},
   "outputs": [],
   "source": [
    "'(lambda x: lambda y: lambda z: INTRODUCED(z,x,y))(S)'.eet"
   ]
  },
  {
   "cell_type": "markdown",
   "metadata": {},
   "source": [
    "a. [λx.[λy.[λz.z introduced x to y]]](Ann)(Sue)\n",
    "\n",
    "b. [λx.[λy.[λz.z introduced x to y](Ann)](Sue)]\n",
    "\n",
    "c. [λx.[λy.[λz.z introduced x to y](Ann)]](Sue) \n",
    "\n",
    "d. [λx.[λy.[λz.z introduced x to y]](Ann)](Sue)\n",
    "\n",
    "e. [λf.[λx.f(x)=1 and x is gray]]([λy.y is a cat])\n",
    "\n",
    "f. [λg.[λx.g(x)(Ann)=1]]([λy.[λz.z saw y]])\n",
    "\n",
    "g. [λm.[λn.n>3 and n<7](m)] \n",
    "\n",
    "h. [λm.[λn.[λo.o>3 and o<7](n)](m)] "
   ]
  },
  {
   "cell_type": "code",
   "execution_count": null,
   "metadata": {},
   "outputs": [],
   "source": [
    "'lambda g: (lambda x:g(x)(Ann))'.eet_et('lambda y:lambda z:SAW(z,y)'.eet)\n",
    "\n",
    "'lambda m: lambda n:n>3 and m<7'.eet('3'.e)"
   ]
  },
  {
   "cell_type": "code",
   "execution_count": null,
   "metadata": {},
   "outputs": [],
   "source": [
    "catf = 'lambda y:CAT(y)'.et\n",
    "\n",
    "ff = 'lambda f: lambda x: f(x) and GRAY(x)'.et_et\n",
    "ff(catf)\n",
    "\n",
    "gg = 'lambda f: f(A)'.eet_et\n",
    "gg\n",
    "gg('lambda x:lambda y:FOO(x,y)'.eet)"
   ]
  },
  {
   "cell_type": "code",
   "execution_count": null,
   "metadata": {},
   "outputs": [],
   "source": [
    "Function('lambda y: CAT(y)', Type(('e', 't')))('x') and GRAY('x')"
   ]
  },
  {
   "cell_type": "code",
   "execution_count": null,
   "metadata": {},
   "outputs": [],
   "source": [
    "import ast\n",
    "ast.dump(ast.parse('x smokes', mode= 'eval'))"
   ]
  }
 ],
 "metadata": {
  "kernelspec": {
   "display_name": "Python 3",
   "language": "python",
   "name": "python3"
  },
  "language_info": {
   "codemirror_mode": {
    "name": "ipython",
    "version": 3
   },
   "file_extension": ".py",
   "mimetype": "text/x-python",
   "name": "python",
   "nbconvert_exporter": "python",
   "pygments_lexer": "ipython3",
   "version": "3.12.1"
  }
 },
 "nbformat": 4,
 "nbformat_minor": 2
}
