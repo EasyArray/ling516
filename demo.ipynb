{
 "cells": [
  {
   "cell_type": "code",
   "execution_count": 1,
   "id": "fb2f720b",
   "metadata": {},
   "outputs": [],
   "source": [
    "#!pip install git+https://github.com/EasyArray/ling516.git@v4"
   ]
  },
  {
   "cell_type": "code",
   "execution_count": 2,
   "id": "324de72c",
   "metadata": {},
   "outputs": [
    {
     "name": "stdout",
     "output_type": "stream",
     "text": [
      "\n",
      "             _    _                  _    _\n",
      "            | |  | |                | |  | |\n",
      "           _| |_ | |__   ___  ___  _| |_ | |__   ___  _ __ _   _  ____\n",
      "          /     \\| '_ \\ / _ \\/ __|/     \\| '_ \\ / _ \\| '__| | | |/ ___)\n",
      "         ( (| |) ) | | | (_) \\__ ( (| |) ) | | | (_) | |  | |_| ( (__\n",
      "          \\_   _/|_| |_|\\___/|___/\\_   _/|_| |_|\\___/|_|   \\__,_|\\__ \\\n",
      "            | |                     | |                            _) )\n",
      "            |_|                     |_|                           (__/\n",
      "\n",
      "        Welcome to the Phosphorus Meaning Engine v4\n",
      "        Created by Ezra Keshet (EzraKeshet.com)\n",
      "\n",
      "\n"
     ]
    }
   ],
   "source": [
    "%config InteractiveShell.ast_node_interactivity='all'\n",
    "from phosphorus import *"
   ]
  },
  {
   "cell_type": "code",
   "execution_count": 3,
   "id": "93007c00",
   "metadata": {},
   "outputs": [
    {
     "data": {
      "text/html": [
       "\n",
       "<style id=\"phi-css\">\n",
       "  .phi-wrapper {\n",
       "      display: grid;\n",
       "      grid-gap: .4em;\n",
       "      grid-auto-flow: column;\n",
       "      align-items: start;\n",
       "      justify-items: start;\n",
       "      padding: .4em .6em;\n",
       "      border-radius: 6px;\n",
       "      background: var(--jp-layout-color1, #f5f5f5);\n",
       "      color: var(--jp-ui-font-color1, #000);\n",
       "  }\n",
       "  @media (prefers-color-scheme: dark) {\n",
       "    .phi-wrapper {\n",
       "      background: var(--jp-layout-color0, #2b2b2b);\n",
       "      color: var(--jp-ui-font-color0, #eee);\n",
       "    }\n",
       "  }\n",
       "  .phi-code  { white-space: pre-wrap; margin: 0 }\n",
       "  .phi-badge {\n",
       "      display: inline-block;\n",
       "      font-weight: bold;\n",
       "      padding: .15em .4em;\n",
       "      border-radius: 4px;\n",
       "      background: #c8c8ff;\n",
       "  }\n",
       "</style>\n",
       "<div class='phi-wrapper' style='grid-auto-flow:column;min-width:13ch;'><pre class='phi-code' style='font-size:14px;font-family:var(--jp-code-font-family,monospace);'>LAUGHS(A)\n",
       "</pre></div>"
      ],
      "text/plain": [
       "LAUGHS(A)"
      ]
     },
     "execution_count": 3,
     "metadata": {},
     "output_type": "execute_result"
    },
    {
     "data": {
      "text/html": [
       "\n",
       "<style id=\"phi-css\">\n",
       "  .phi-wrapper {\n",
       "      display: grid;\n",
       "      grid-gap: .4em;\n",
       "      grid-auto-flow: column;\n",
       "      align-items: start;\n",
       "      justify-items: start;\n",
       "      padding: .4em .6em;\n",
       "      border-radius: 6px;\n",
       "      background: var(--jp-layout-color1, #f5f5f5);\n",
       "      color: var(--jp-ui-font-color1, #000);\n",
       "  }\n",
       "  @media (prefers-color-scheme: dark) {\n",
       "    .phi-wrapper {\n",
       "      background: var(--jp-layout-color0, #2b2b2b);\n",
       "      color: var(--jp-ui-font-color0, #eee);\n",
       "    }\n",
       "  }\n",
       "  .phi-code  { white-space: pre-wrap; margin: 0 }\n",
       "  .phi-badge {\n",
       "      display: inline-block;\n",
       "      font-weight: bold;\n",
       "      padding: .15em .4em;\n",
       "      border-radius: 4px;\n",
       "      background: #c8c8ff;\n",
       "  }\n",
       "</style>\n",
       "<div class='phi-wrapper' style='grid-auto-flow:column;min-width:13ch;'><pre class='phi-code' style='font-size:14px;font-family:var(--jp-code-font-family,monospace);'>LAUGHS(A)\n",
       "</pre><span class='phi-badge' style='font-size:14px;'>t</span></div>"
      ],
      "text/plain": [
       "LAUGHS(A)"
      ]
     },
     "execution_count": 3,
     "metadata": {},
     "output_type": "execute_result"
    },
    {
     "data": {
      "text/html": [
       "\n",
       "<style id=\"phi-css\">\n",
       "  .phi-wrapper {\n",
       "      display: grid;\n",
       "      grid-gap: .4em;\n",
       "      grid-auto-flow: column;\n",
       "      align-items: start;\n",
       "      justify-items: start;\n",
       "      padding: .4em .6em;\n",
       "      border-radius: 6px;\n",
       "      background: var(--jp-layout-color1, #f5f5f5);\n",
       "      color: var(--jp-ui-font-color1, #000);\n",
       "  }\n",
       "  @media (prefers-color-scheme: dark) {\n",
       "    .phi-wrapper {\n",
       "      background: var(--jp-layout-color0, #2b2b2b);\n",
       "      color: var(--jp-ui-font-color0, #eee);\n",
       "    }\n",
       "  }\n",
       "  .phi-code  { white-space: pre-wrap; margin: 0 }\n",
       "  .phi-badge {\n",
       "      display: inline-block;\n",
       "      font-weight: bold;\n",
       "      padding: .15em .4em;\n",
       "      border-radius: 4px;\n",
       "      background: #c8c8ff;\n",
       "  }\n",
       "</style>\n",
       "<div class='phi-wrapper' style='grid-auto-flow:column;min-width:26ch;'><pre class='phi-code' style='font-size:14px;font-family:var(--jp-code-font-family,monospace);'>LAUGHS(A) <span style=\"color: #AA22FF; font-weight: bold\">and</span> CRIES(A)\n",
       "</pre><span class='phi-badge' style='font-size:14px;'>t</span></div>"
      ],
      "text/plain": [
       "LAUGHS(A) and CRIES(A)"
      ]
     },
     "execution_count": 3,
     "metadata": {},
     "output_type": "execute_result"
    },
    {
     "data": {
      "text/html": [
       "\n",
       "<style id=\"phi-css\">\n",
       "  .phi-wrapper {\n",
       "      display: grid;\n",
       "      grid-gap: .4em;\n",
       "      grid-auto-flow: column;\n",
       "      align-items: start;\n",
       "      justify-items: start;\n",
       "      padding: .4em .6em;\n",
       "      border-radius: 6px;\n",
       "      background: var(--jp-layout-color1, #f5f5f5);\n",
       "      color: var(--jp-ui-font-color1, #000);\n",
       "  }\n",
       "  @media (prefers-color-scheme: dark) {\n",
       "    .phi-wrapper {\n",
       "      background: var(--jp-layout-color0, #2b2b2b);\n",
       "      color: var(--jp-ui-font-color0, #eee);\n",
       "    }\n",
       "  }\n",
       "  .phi-code  { white-space: pre-wrap; margin: 0 }\n",
       "  .phi-badge {\n",
       "      display: inline-block;\n",
       "      font-weight: bold;\n",
       "      padding: .15em .4em;\n",
       "      border-radius: 4px;\n",
       "      background: #c8c8ff;\n",
       "  }\n",
       "</style>\n",
       "<div class='phi-wrapper' style='grid-auto-flow:column;min-width:23ch;'><pre class='phi-code' style='font-size:14px;font-family:var(--jp-code-font-family,monospace);'><span style=\"color: #008000; font-weight: bold\">lambda</span> x: LAUGHS(x)\n",
       "</pre><span class='phi-badge' style='font-size:14px;'>(?τ0→?τ1)</span></div>"
      ],
      "text/plain": [
       "lambda x: LAUGHS(x)"
      ]
     },
     "execution_count": 3,
     "metadata": {},
     "output_type": "execute_result"
    },
    {
     "data": {
      "text/html": [
       "\n",
       "<style id=\"phi-css\">\n",
       "  .phi-wrapper {\n",
       "      display: grid;\n",
       "      grid-gap: .4em;\n",
       "      grid-auto-flow: column;\n",
       "      align-items: start;\n",
       "      justify-items: start;\n",
       "      padding: .4em .6em;\n",
       "      border-radius: 6px;\n",
       "      background: var(--jp-layout-color1, #f5f5f5);\n",
       "      color: var(--jp-ui-font-color1, #000);\n",
       "  }\n",
       "  @media (prefers-color-scheme: dark) {\n",
       "    .phi-wrapper {\n",
       "      background: var(--jp-layout-color0, #2b2b2b);\n",
       "      color: var(--jp-ui-font-color0, #eee);\n",
       "    }\n",
       "  }\n",
       "  .phi-code  { white-space: pre-wrap; margin: 0 }\n",
       "  .phi-badge {\n",
       "      display: inline-block;\n",
       "      font-weight: bold;\n",
       "      padding: .15em .4em;\n",
       "      border-radius: 4px;\n",
       "      background: #c8c8ff;\n",
       "  }\n",
       "</style>\n",
       "<div class='phi-wrapper' style='grid-auto-flow:column;min-width:23ch;'><pre class='phi-code' style='font-size:14px;font-family:var(--jp-code-font-family,monospace);'><span style=\"color: #008000; font-weight: bold\">lambda</span> x: LAUGHS(x)\n",
       "</pre><span class='phi-badge' style='font-size:14px;'>(e→?τ2)</span></div>"
      ],
      "text/plain": [
       "lambda x: LAUGHS(x)"
      ]
     },
     "execution_count": 3,
     "metadata": {},
     "output_type": "execute_result"
    },
    {
     "data": {
      "text/html": [
       "\n",
       "<style id=\"phi-css\">\n",
       "  .phi-wrapper {\n",
       "      display: grid;\n",
       "      grid-gap: .4em;\n",
       "      grid-auto-flow: column;\n",
       "      align-items: start;\n",
       "      justify-items: start;\n",
       "      padding: .4em .6em;\n",
       "      border-radius: 6px;\n",
       "      background: var(--jp-layout-color1, #f5f5f5);\n",
       "      color: var(--jp-ui-font-color1, #000);\n",
       "  }\n",
       "  @media (prefers-color-scheme: dark) {\n",
       "    .phi-wrapper {\n",
       "      background: var(--jp-layout-color0, #2b2b2b);\n",
       "      color: var(--jp-ui-font-color0, #eee);\n",
       "    }\n",
       "  }\n",
       "  .phi-code  { white-space: pre-wrap; margin: 0 }\n",
       "  .phi-badge {\n",
       "      display: inline-block;\n",
       "      font-weight: bold;\n",
       "      padding: .15em .4em;\n",
       "      border-radius: 4px;\n",
       "      background: #c8c8ff;\n",
       "  }\n",
       "</style>\n",
       "<div class='phi-wrapper' style='grid-auto-flow:column;min-width:23ch;'><pre class='phi-code' style='font-size:14px;font-family:var(--jp-code-font-family,monospace);'><span style=\"color: #008000; font-weight: bold\">lambda</span> x: LAUGHS(x)\n",
       "</pre><span class='phi-badge' style='font-size:14px;'>(e→t)</span></div>"
      ],
      "text/plain": [
       "lambda x: LAUGHS(x)"
      ]
     },
     "execution_count": 3,
     "metadata": {},
     "output_type": "execute_result"
    },
    {
     "data": {
      "text/html": [
       "\n",
       "<style id=\"phi-css\">\n",
       "  .phi-wrapper {\n",
       "      display: grid;\n",
       "      grid-gap: .4em;\n",
       "      grid-auto-flow: column;\n",
       "      align-items: start;\n",
       "      justify-items: start;\n",
       "      padding: .4em .6em;\n",
       "      border-radius: 6px;\n",
       "      background: var(--jp-layout-color1, #f5f5f5);\n",
       "      color: var(--jp-ui-font-color1, #000);\n",
       "  }\n",
       "  @media (prefers-color-scheme: dark) {\n",
       "    .phi-wrapper {\n",
       "      background: var(--jp-layout-color0, #2b2b2b);\n",
       "      color: var(--jp-ui-font-color0, #eee);\n",
       "    }\n",
       "  }\n",
       "  .phi-code  { white-space: pre-wrap; margin: 0 }\n",
       "  .phi-badge {\n",
       "      display: inline-block;\n",
       "      font-weight: bold;\n",
       "      padding: .15em .4em;\n",
       "      border-radius: 4px;\n",
       "      background: #c8c8ff;\n",
       "  }\n",
       "</style>\n",
       "<div class='phi-wrapper' style='grid-auto-flow:column;min-width:36ch;'><pre class='phi-code' style='font-size:14px;font-family:var(--jp-code-font-family,monospace);'><span style=\"color: #008000; font-weight: bold\">lambda</span> x: LAUGHS(x) <span style=\"color: #AA22FF; font-weight: bold\">and</span> CRIES(x)\n",
       "</pre><span class='phi-badge' style='font-size:14px;'>(e→t)</span></div>"
      ],
      "text/plain": [
       "lambda x: LAUGHS(x) and CRIES(x)"
      ]
     },
     "execution_count": 3,
     "metadata": {},
     "output_type": "execute_result"
    }
   ],
   "source": [
    "`LAUGHS(A)\n",
    "`LAUGHS(A).t\n",
    "`LAUGHS(A) and CRIES(A)\n",
    "`lambda x: LAUGHS(x)\n",
    "`lambda x=e: LAUGHS(x)\n",
    "`lambda x=e: LAUGHS(x).t\n",
    "`lambda x=e: LAUGHS(x) and CRIES(x)"
   ]
  },
  {
   "cell_type": "code",
   "execution_count": 4,
   "id": "76c23ae7",
   "metadata": {},
   "outputs": [
    {
     "data": {
      "text/html": [
       "\n",
       "<style id=\"phi-css\">\n",
       "  .phi-wrapper {\n",
       "      display: grid;\n",
       "      grid-gap: .4em;\n",
       "      grid-auto-flow: column;\n",
       "      align-items: start;\n",
       "      justify-items: start;\n",
       "      padding: .4em .6em;\n",
       "      border-radius: 6px;\n",
       "      background: var(--jp-layout-color1, #f5f5f5);\n",
       "      color: var(--jp-ui-font-color1, #000);\n",
       "  }\n",
       "  @media (prefers-color-scheme: dark) {\n",
       "    .phi-wrapper {\n",
       "      background: var(--jp-layout-color0, #2b2b2b);\n",
       "      color: var(--jp-ui-font-color0, #eee);\n",
       "    }\n",
       "  }\n",
       "  .phi-code  { white-space: pre-wrap; margin: 0 }\n",
       "  .phi-badge {\n",
       "      display: inline-block;\n",
       "      font-weight: bold;\n",
       "      padding: .15em .4em;\n",
       "      border-radius: 4px;\n",
       "      background: #c8c8ff;\n",
       "  }\n",
       "</style>\n",
       "<div class='phi-wrapper' style='grid-auto-flow:column;min-width:7ch;'><pre class='phi-code' style='font-size:14px;font-family:var(--jp-code-font-family,monospace);'><span style=\"color: #BA2121\">&quot;A&quot;</span>\n",
       "</pre><span class='phi-badge' style='font-size:14px;'>e</span></div>"
      ],
      "text/plain": [
       "'A'"
      ]
     },
     "metadata": {},
     "output_type": "display_data"
    },
    {
     "data": {
      "text/html": [
       "\n",
       "<style id=\"phi-css\">\n",
       "  .phi-wrapper {\n",
       "      display: grid;\n",
       "      grid-gap: .4em;\n",
       "      grid-auto-flow: column;\n",
       "      align-items: start;\n",
       "      justify-items: start;\n",
       "      padding: .4em .6em;\n",
       "      border-radius: 6px;\n",
       "      background: var(--jp-layout-color1, #f5f5f5);\n",
       "      color: var(--jp-ui-font-color1, #000);\n",
       "  }\n",
       "  @media (prefers-color-scheme: dark) {\n",
       "    .phi-wrapper {\n",
       "      background: var(--jp-layout-color0, #2b2b2b);\n",
       "      color: var(--jp-ui-font-color0, #eee);\n",
       "    }\n",
       "  }\n",
       "  .phi-code  { white-space: pre-wrap; margin: 0 }\n",
       "  .phi-badge {\n",
       "      display: inline-block;\n",
       "      font-weight: bold;\n",
       "      padding: .15em .4em;\n",
       "      border-radius: 4px;\n",
       "      background: #c8c8ff;\n",
       "  }\n",
       "</style>\n",
       "<div class='phi-wrapper' style='grid-auto-flow:column;min-width:7ch;'><pre class='phi-code' style='font-size:14px;font-family:var(--jp-code-font-family,monospace);'><span style=\"color: #BA2121\">&quot;B&quot;</span>\n",
       "</pre><span class='phi-badge' style='font-size:14px;'>e</span></div>"
      ],
      "text/plain": [
       "'B'"
      ]
     },
     "metadata": {},
     "output_type": "display_data"
    },
    {
     "data": {
      "text/html": [
       "\n",
       "<style id=\"phi-css\">\n",
       "  .phi-wrapper {\n",
       "      display: grid;\n",
       "      grid-gap: .4em;\n",
       "      grid-auto-flow: column;\n",
       "      align-items: start;\n",
       "      justify-items: start;\n",
       "      padding: .4em .6em;\n",
       "      border-radius: 6px;\n",
       "      background: var(--jp-layout-color1, #f5f5f5);\n",
       "      color: var(--jp-ui-font-color1, #000);\n",
       "  }\n",
       "  @media (prefers-color-scheme: dark) {\n",
       "    .phi-wrapper {\n",
       "      background: var(--jp-layout-color0, #2b2b2b);\n",
       "      color: var(--jp-ui-font-color0, #eee);\n",
       "    }\n",
       "  }\n",
       "  .phi-code  { white-space: pre-wrap; margin: 0 }\n",
       "  .phi-badge {\n",
       "      display: inline-block;\n",
       "      font-weight: bold;\n",
       "      padding: .15em .4em;\n",
       "      border-radius: 4px;\n",
       "      background: #c8c8ff;\n",
       "  }\n",
       "</style>\n",
       "<div class='phi-wrapper' style='grid-auto-flow:column;min-width:7ch;'><pre class='phi-code' style='font-size:14px;font-family:var(--jp-code-font-family,monospace);'><span style=\"color: #BA2121\">&quot;C&quot;</span>\n",
       "</pre><span class='phi-badge' style='font-size:14px;'>e</span></div>"
      ],
      "text/plain": [
       "'C'"
      ]
     },
     "metadata": {},
     "output_type": "display_data"
    },
    {
     "data": {
      "text/html": [
       "\n",
       "<style id=\"phi-css\">\n",
       "  .phi-wrapper {\n",
       "      display: grid;\n",
       "      grid-gap: .4em;\n",
       "      grid-auto-flow: column;\n",
       "      align-items: start;\n",
       "      justify-items: start;\n",
       "      padding: .4em .6em;\n",
       "      border-radius: 6px;\n",
       "      background: var(--jp-layout-color1, #f5f5f5);\n",
       "      color: var(--jp-ui-font-color1, #000);\n",
       "  }\n",
       "  @media (prefers-color-scheme: dark) {\n",
       "    .phi-wrapper {\n",
       "      background: var(--jp-layout-color0, #2b2b2b);\n",
       "      color: var(--jp-ui-font-color0, #eee);\n",
       "    }\n",
       "  }\n",
       "  .phi-code  { white-space: pre-wrap; margin: 0 }\n",
       "  .phi-badge {\n",
       "      display: inline-block;\n",
       "      font-weight: bold;\n",
       "      padding: .15em .4em;\n",
       "      border-radius: 4px;\n",
       "      background: #c8c8ff;\n",
       "  }\n",
       "</style>\n",
       "<div class='phi-wrapper' style='grid-auto-flow:column;min-width:7ch;'><pre class='phi-code' style='font-size:14px;font-family:var(--jp-code-font-family,monospace);'><span style=\"color: #BA2121\">&quot;D&quot;</span>\n",
       "</pre><span class='phi-badge' style='font-size:14px;'>e</span></div>"
      ],
      "text/plain": [
       "'D'"
      ]
     },
     "metadata": {},
     "output_type": "display_data"
    }
   ],
   "source": [
    "for x in DOMAIN[:4]: display(x)"
   ]
  },
  {
   "cell_type": "code",
   "execution_count": 5,
   "id": "4c170f70",
   "metadata": {},
   "outputs": [
    {
     "data": {
      "text/html": [
       "\n",
       "<style id=\"phi-css\">\n",
       "  .phi-wrapper {\n",
       "      display: grid;\n",
       "      grid-gap: .4em;\n",
       "      grid-auto-flow: column;\n",
       "      align-items: start;\n",
       "      justify-items: start;\n",
       "      padding: .4em .6em;\n",
       "      border-radius: 6px;\n",
       "      background: var(--jp-layout-color1, #f5f5f5);\n",
       "      color: var(--jp-ui-font-color1, #000);\n",
       "  }\n",
       "  @media (prefers-color-scheme: dark) {\n",
       "    .phi-wrapper {\n",
       "      background: var(--jp-layout-color0, #2b2b2b);\n",
       "      color: var(--jp-ui-font-color0, #eee);\n",
       "    }\n",
       "  }\n",
       "  .phi-code  { white-space: pre-wrap; margin: 0 }\n",
       "  .phi-badge {\n",
       "      display: inline-block;\n",
       "      font-weight: bold;\n",
       "      padding: .15em .4em;\n",
       "      border-radius: 4px;\n",
       "      background: #c8c8ff;\n",
       "  }\n",
       "</style>\n",
       "<div class='phi-wrapper' style='grid-auto-flow:column;min-width:15ch;'><pre class='phi-code' style='font-size:14px;font-family:var(--jp-code-font-family,monospace);'>LAUGHS(<span style=\"color: #BA2121\">&quot;A&quot;</span>)\n",
       "</pre><span class='phi-badge' style='font-size:14px;'>t</span></div>"
      ],
      "text/plain": [
       "LAUGHS('A')"
      ]
     },
     "execution_count": 5,
     "metadata": {},
     "output_type": "execute_result"
    },
    {
     "data": {
      "text/html": [
       "\n",
       "<style id=\"phi-css\">\n",
       "  .phi-wrapper {\n",
       "      display: grid;\n",
       "      grid-gap: .4em;\n",
       "      grid-auto-flow: column;\n",
       "      align-items: start;\n",
       "      justify-items: start;\n",
       "      padding: .4em .6em;\n",
       "      border-radius: 6px;\n",
       "      background: var(--jp-layout-color1, #f5f5f5);\n",
       "      color: var(--jp-ui-font-color1, #000);\n",
       "  }\n",
       "  @media (prefers-color-scheme: dark) {\n",
       "    .phi-wrapper {\n",
       "      background: var(--jp-layout-color0, #2b2b2b);\n",
       "      color: var(--jp-ui-font-color0, #eee);\n",
       "    }\n",
       "  }\n",
       "  .phi-code  { white-space: pre-wrap; margin: 0 }\n",
       "  .phi-badge {\n",
       "      display: inline-block;\n",
       "      font-weight: bold;\n",
       "      padding: .15em .4em;\n",
       "      border-radius: 4px;\n",
       "      background: #c8c8ff;\n",
       "  }\n",
       "</style>\n",
       "<div class='phi-wrapper' style='grid-auto-flow:column;min-width:7ch;'><pre class='phi-code' style='font-size:14px;font-family:var(--jp-code-font-family,monospace);'><span style=\"color: #BA2121\">&quot;A&quot;</span>\n",
       "</pre><span class='phi-badge' style='font-size:14px;'>e</span></div>"
      ],
      "text/plain": [
       "'A'"
      ]
     },
     "execution_count": 5,
     "metadata": {},
     "output_type": "execute_result"
    }
   ],
   "source": [
    "A,B,C,D,*_ = DOMAIN\n",
    "`(lambda x=e: LAUGHS(x).t)(A)\n",
    "A"
   ]
  }
 ],
 "metadata": {
  "kernelspec": {
   "display_name": "Python 3",
   "language": "python",
   "name": "python3"
  },
  "language_info": {
   "codemirror_mode": {
    "name": "ipython",
    "version": 3
   },
   "file_extension": ".py",
   "mimetype": "text/x-python",
   "name": "python",
   "nbconvert_exporter": "python",
   "pygments_lexer": "ipython3",
   "version": "3.12.1"
  }
 },
 "nbformat": 4,
 "nbformat_minor": 5
}
