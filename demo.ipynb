{
 "cells": [
  {
   "cell_type": "code",
   "execution_count": 1,
   "id": "fb2f720b",
   "metadata": {},
   "outputs": [],
   "source": [
    "#!pip install git+https://github.com/EasyArray/ling516.git@v4"
   ]
  },
  {
   "cell_type": "code",
   "execution_count": 2,
   "id": "324de72c",
   "metadata": {},
   "outputs": [
    {
     "name": "stdout",
     "output_type": "stream",
     "text": [
      "\n",
      "             _    _                  _    _\n",
      "            | |  | |                | |  | |\n",
      "           _| |_ | |__   ___  ___  _| |_ | |__   ___  _ __ _   _  ____\n",
      "          /     \\| '_ \\ / _ \\/ __|/     \\| '_ \\ / _ \\| '__| | | |/ ___)\n",
      "         ( (| |) ) | | | (_) \\__ ( (| |) ) | | | (_) | |  | |_| ( (__\n",
      "          \\_   _/|_| |_|\\___/|___/\\_   _/|_| |_|\\___/|_|   \\__,_|\\__ \\\n",
      "            | |                     | |                            _) )\n",
      "            |_|                     |_|                           (__/\n",
      "\n",
      "        Welcome to the Phosphorus Meaning Engine v4\n",
      "        Created by Ezra Keshet (EzraKeshet.com)\n",
      "\n",
      "\n"
     ]
    }
   ],
   "source": [
    "%config InteractiveShell.ast_node_interactivity='all'\n",
    "from phosphorus import *"
   ]
  },
  {
   "cell_type": "code",
   "execution_count": 3,
   "id": "93007c00",
   "metadata": {},
   "outputs": [
    {
     "data": {
      "text/html": [
       "\n",
       "<style id=\"phi-css\">\n",
       "  .phi-wrapper {\n",
       "    display: grid;\n",
       "    grid-gap: .4em;\n",
       "    grid-auto-flow: column;\n",
       "    grid-template-columns: minmax(60ch, max-content) auto; /* ≥60ch, but grow to fit code, then badge */\n",
       "    grid-gap: .4em;\n",
       "    align-items: start;\n",
       "    justify-items: start;\n",
       "    padding: .4em .6em;\n",
       "    border-radius: 6px;\n",
       "    background: var(--jp-layout-color1, #f5f5f5);\n",
       "    color: var(--jp-ui-font-color1, #000);\n",
       "  }\n",
       "  @media (prefers-color-scheme: dark) {\n",
       "    .phi-wrapper {\n",
       "      background: var(--jp-layout-color0, #2b2b2b);\n",
       "      color: var(--jp-ui-font-color0, #eee);\n",
       "    }\n",
       "  }\n",
       "  .phi-code  { white-space: pre-wrap; margin: 0 }\n",
       "  .phi-badge {\n",
       "      display: inline-block;\n",
       "      font-weight: bold;\n",
       "      padding: .15em .4em;\n",
       "      border-radius: 4px;\n",
       "      background: #c8c8ff;\n",
       "  }\n",
       "</style>\n",
       "<div class='phi-wrapper' style='grid-auto-flow:column;'><pre class='phi-code' style='font-size:14px;font-family:var(--jp-code-font-family,monospace);'>LAUGHS(A)\n",
       "</pre></div>"
      ],
      "text/plain": [
       "LAUGHS(A)"
      ]
     },
     "execution_count": 3,
     "metadata": {},
     "output_type": "execute_result"
    },
    {
     "data": {
      "text/html": [
       "\n",
       "<style id=\"phi-css\">\n",
       "  .phi-wrapper {\n",
       "    display: grid;\n",
       "    grid-gap: .4em;\n",
       "    grid-auto-flow: column;\n",
       "    grid-template-columns: minmax(60ch, max-content) auto; /* ≥60ch, but grow to fit code, then badge */\n",
       "    grid-gap: .4em;\n",
       "    align-items: start;\n",
       "    justify-items: start;\n",
       "    padding: .4em .6em;\n",
       "    border-radius: 6px;\n",
       "    background: var(--jp-layout-color1, #f5f5f5);\n",
       "    color: var(--jp-ui-font-color1, #000);\n",
       "  }\n",
       "  @media (prefers-color-scheme: dark) {\n",
       "    .phi-wrapper {\n",
       "      background: var(--jp-layout-color0, #2b2b2b);\n",
       "      color: var(--jp-ui-font-color0, #eee);\n",
       "    }\n",
       "  }\n",
       "  .phi-code  { white-space: pre-wrap; margin: 0 }\n",
       "  .phi-badge {\n",
       "      display: inline-block;\n",
       "      font-weight: bold;\n",
       "      padding: .15em .4em;\n",
       "      border-radius: 4px;\n",
       "      background: #c8c8ff;\n",
       "  }\n",
       "</style>\n",
       "<div class='phi-wrapper' style='grid-auto-flow:column;'><pre class='phi-code' style='font-size:14px;font-family:var(--jp-code-font-family,monospace);'>LAUGHS(A)\n",
       "</pre><span class='phi-badge' style='font-size:14px;'>t</span></div>"
      ],
      "text/plain": [
       "LAUGHS(A)"
      ]
     },
     "execution_count": 3,
     "metadata": {},
     "output_type": "execute_result"
    },
    {
     "data": {
      "text/html": [
       "\n",
       "<style id=\"phi-css\">\n",
       "  .phi-wrapper {\n",
       "    display: grid;\n",
       "    grid-gap: .4em;\n",
       "    grid-auto-flow: column;\n",
       "    grid-template-columns: minmax(60ch, max-content) auto; /* ≥60ch, but grow to fit code, then badge */\n",
       "    grid-gap: .4em;\n",
       "    align-items: start;\n",
       "    justify-items: start;\n",
       "    padding: .4em .6em;\n",
       "    border-radius: 6px;\n",
       "    background: var(--jp-layout-color1, #f5f5f5);\n",
       "    color: var(--jp-ui-font-color1, #000);\n",
       "  }\n",
       "  @media (prefers-color-scheme: dark) {\n",
       "    .phi-wrapper {\n",
       "      background: var(--jp-layout-color0, #2b2b2b);\n",
       "      color: var(--jp-ui-font-color0, #eee);\n",
       "    }\n",
       "  }\n",
       "  .phi-code  { white-space: pre-wrap; margin: 0 }\n",
       "  .phi-badge {\n",
       "      display: inline-block;\n",
       "      font-weight: bold;\n",
       "      padding: .15em .4em;\n",
       "      border-radius: 4px;\n",
       "      background: #c8c8ff;\n",
       "  }\n",
       "</style>\n",
       "<div class='phi-wrapper' style='grid-auto-flow:column;'><pre class='phi-code' style='font-size:14px;font-family:var(--jp-code-font-family,monospace);'>LAUGHS(A) <span style=\"color: #AA22FF; font-weight: bold\">and</span> CRIES(A)\n",
       "</pre><span class='phi-badge' style='font-size:14px;'>t</span></div>"
      ],
      "text/plain": [
       "LAUGHS(A) and CRIES(A)"
      ]
     },
     "execution_count": 3,
     "metadata": {},
     "output_type": "execute_result"
    },
    {
     "data": {
      "text/html": [
       "\n",
       "<style id=\"phi-css\">\n",
       "  .phi-wrapper {\n",
       "    display: grid;\n",
       "    grid-gap: .4em;\n",
       "    grid-auto-flow: column;\n",
       "    grid-template-columns: minmax(60ch, max-content) auto; /* ≥60ch, but grow to fit code, then badge */\n",
       "    grid-gap: .4em;\n",
       "    align-items: start;\n",
       "    justify-items: start;\n",
       "    padding: .4em .6em;\n",
       "    border-radius: 6px;\n",
       "    background: var(--jp-layout-color1, #f5f5f5);\n",
       "    color: var(--jp-ui-font-color1, #000);\n",
       "  }\n",
       "  @media (prefers-color-scheme: dark) {\n",
       "    .phi-wrapper {\n",
       "      background: var(--jp-layout-color0, #2b2b2b);\n",
       "      color: var(--jp-ui-font-color0, #eee);\n",
       "    }\n",
       "  }\n",
       "  .phi-code  { white-space: pre-wrap; margin: 0 }\n",
       "  .phi-badge {\n",
       "      display: inline-block;\n",
       "      font-weight: bold;\n",
       "      padding: .15em .4em;\n",
       "      border-radius: 4px;\n",
       "      background: #c8c8ff;\n",
       "  }\n",
       "</style>\n",
       "<div class='phi-wrapper' style='grid-auto-flow:column;'><pre class='phi-code' style='font-size:14px;font-family:var(--jp-code-font-family,monospace);'><span style=\"color: #008000; font-weight: bold\">lambda</span> x: LAUGHS(x)\n",
       "</pre><span class='phi-badge' style='font-size:14px;'>(?τ0→?τ1)</span></div>"
      ],
      "text/plain": [
       "lambda x: LAUGHS(x)"
      ]
     },
     "execution_count": 3,
     "metadata": {},
     "output_type": "execute_result"
    },
    {
     "data": {
      "text/html": [
       "\n",
       "<style id=\"phi-css\">\n",
       "  .phi-wrapper {\n",
       "    display: grid;\n",
       "    grid-gap: .4em;\n",
       "    grid-auto-flow: column;\n",
       "    grid-template-columns: minmax(60ch, max-content) auto; /* ≥60ch, but grow to fit code, then badge */\n",
       "    grid-gap: .4em;\n",
       "    align-items: start;\n",
       "    justify-items: start;\n",
       "    padding: .4em .6em;\n",
       "    border-radius: 6px;\n",
       "    background: var(--jp-layout-color1, #f5f5f5);\n",
       "    color: var(--jp-ui-font-color1, #000);\n",
       "  }\n",
       "  @media (prefers-color-scheme: dark) {\n",
       "    .phi-wrapper {\n",
       "      background: var(--jp-layout-color0, #2b2b2b);\n",
       "      color: var(--jp-ui-font-color0, #eee);\n",
       "    }\n",
       "  }\n",
       "  .phi-code  { white-space: pre-wrap; margin: 0 }\n",
       "  .phi-badge {\n",
       "      display: inline-block;\n",
       "      font-weight: bold;\n",
       "      padding: .15em .4em;\n",
       "      border-radius: 4px;\n",
       "      background: #c8c8ff;\n",
       "  }\n",
       "</style>\n",
       "<div class='phi-wrapper' style='grid-auto-flow:column;'><pre class='phi-code' style='font-size:14px;font-family:var(--jp-code-font-family,monospace);'><span style=\"color: #008000; font-weight: bold\">lambda</span> x: LAUGHS(x)\n",
       "</pre><span class='phi-badge' style='font-size:14px;'>(e→?τ2)</span></div>"
      ],
      "text/plain": [
       "lambda x: LAUGHS(x)"
      ]
     },
     "execution_count": 3,
     "metadata": {},
     "output_type": "execute_result"
    },
    {
     "data": {
      "text/html": [
       "\n",
       "<style id=\"phi-css\">\n",
       "  .phi-wrapper {\n",
       "    display: grid;\n",
       "    grid-gap: .4em;\n",
       "    grid-auto-flow: column;\n",
       "    grid-template-columns: minmax(60ch, max-content) auto; /* ≥60ch, but grow to fit code, then badge */\n",
       "    grid-gap: .4em;\n",
       "    align-items: start;\n",
       "    justify-items: start;\n",
       "    padding: .4em .6em;\n",
       "    border-radius: 6px;\n",
       "    background: var(--jp-layout-color1, #f5f5f5);\n",
       "    color: var(--jp-ui-font-color1, #000);\n",
       "  }\n",
       "  @media (prefers-color-scheme: dark) {\n",
       "    .phi-wrapper {\n",
       "      background: var(--jp-layout-color0, #2b2b2b);\n",
       "      color: var(--jp-ui-font-color0, #eee);\n",
       "    }\n",
       "  }\n",
       "  .phi-code  { white-space: pre-wrap; margin: 0 }\n",
       "  .phi-badge {\n",
       "      display: inline-block;\n",
       "      font-weight: bold;\n",
       "      padding: .15em .4em;\n",
       "      border-radius: 4px;\n",
       "      background: #c8c8ff;\n",
       "  }\n",
       "</style>\n",
       "<div class='phi-wrapper' style='grid-auto-flow:column;'><pre class='phi-code' style='font-size:14px;font-family:var(--jp-code-font-family,monospace);'><span style=\"color: #008000; font-weight: bold\">lambda</span> x: LAUGHS(x)\n",
       "</pre><span class='phi-badge' style='font-size:14px;'>(e→t)</span></div>"
      ],
      "text/plain": [
       "lambda x: LAUGHS(x)"
      ]
     },
     "execution_count": 3,
     "metadata": {},
     "output_type": "execute_result"
    },
    {
     "data": {
      "text/html": [
       "\n",
       "<style id=\"phi-css\">\n",
       "  .phi-wrapper {\n",
       "    display: grid;\n",
       "    grid-gap: .4em;\n",
       "    grid-auto-flow: column;\n",
       "    grid-template-columns: minmax(60ch, max-content) auto; /* ≥60ch, but grow to fit code, then badge */\n",
       "    grid-gap: .4em;\n",
       "    align-items: start;\n",
       "    justify-items: start;\n",
       "    padding: .4em .6em;\n",
       "    border-radius: 6px;\n",
       "    background: var(--jp-layout-color1, #f5f5f5);\n",
       "    color: var(--jp-ui-font-color1, #000);\n",
       "  }\n",
       "  @media (prefers-color-scheme: dark) {\n",
       "    .phi-wrapper {\n",
       "      background: var(--jp-layout-color0, #2b2b2b);\n",
       "      color: var(--jp-ui-font-color0, #eee);\n",
       "    }\n",
       "  }\n",
       "  .phi-code  { white-space: pre-wrap; margin: 0 }\n",
       "  .phi-badge {\n",
       "      display: inline-block;\n",
       "      font-weight: bold;\n",
       "      padding: .15em .4em;\n",
       "      border-radius: 4px;\n",
       "      background: #c8c8ff;\n",
       "  }\n",
       "</style>\n",
       "<div class='phi-wrapper' style='grid-auto-flow:column;'><pre class='phi-code' style='font-size:14px;font-family:var(--jp-code-font-family,monospace);'><span style=\"color: #008000; font-weight: bold\">lambda</span> x: LAUGHS(x) <span style=\"color: #AA22FF; font-weight: bold\">and</span> CRIES(x)\n",
       "</pre><span class='phi-badge' style='font-size:14px;'>(e→t)</span></div>"
      ],
      "text/plain": [
       "lambda x: LAUGHS(x) and CRIES(x)"
      ]
     },
     "execution_count": 3,
     "metadata": {},
     "output_type": "execute_result"
    }
   ],
   "source": [
    "`LAUGHS(A)\n",
    "`LAUGHS(A).t\n",
    "`LAUGHS(A) and CRIES(A)\n",
    "`lambda x: LAUGHS(x)\n",
    "`lambda x=e: LAUGHS(x)\n",
    "`lambda x=e: LAUGHS(x).t\n",
    "`lambda x=e: LAUGHS(x) and CRIES(x)"
   ]
  },
  {
   "cell_type": "code",
   "execution_count": 4,
   "id": "76c23ae7",
   "metadata": {},
   "outputs": [
    {
     "data": {
      "text/html": [
       "\n",
       "<style id=\"phi-css\">\n",
       "  .phi-wrapper {\n",
       "    display: grid;\n",
       "    grid-gap: .4em;\n",
       "    grid-auto-flow: column;\n",
       "    grid-template-columns: minmax(60ch, max-content) auto; /* ≥60ch, but grow to fit code, then badge */\n",
       "    grid-gap: .4em;\n",
       "    align-items: start;\n",
       "    justify-items: start;\n",
       "    padding: .4em .6em;\n",
       "    border-radius: 6px;\n",
       "    background: var(--jp-layout-color1, #f5f5f5);\n",
       "    color: var(--jp-ui-font-color1, #000);\n",
       "  }\n",
       "  @media (prefers-color-scheme: dark) {\n",
       "    .phi-wrapper {\n",
       "      background: var(--jp-layout-color0, #2b2b2b);\n",
       "      color: var(--jp-ui-font-color0, #eee);\n",
       "    }\n",
       "  }\n",
       "  .phi-code  { white-space: pre-wrap; margin: 0 }\n",
       "  .phi-badge {\n",
       "      display: inline-block;\n",
       "      font-weight: bold;\n",
       "      padding: .15em .4em;\n",
       "      border-radius: 4px;\n",
       "      background: #c8c8ff;\n",
       "  }\n",
       "</style>\n",
       "<div class='phi-wrapper' style='grid-auto-flow:column;'><pre class='phi-code' style='font-size:14px;font-family:var(--jp-code-font-family,monospace);'><span style=\"color: #BA2121\">&quot;A&quot;</span>\n",
       "</pre><span class='phi-badge' style='font-size:14px;'>e</span></div>"
      ],
      "text/plain": [
       "'A'"
      ]
     },
     "metadata": {},
     "output_type": "display_data"
    },
    {
     "data": {
      "text/html": [
       "\n",
       "<style id=\"phi-css\">\n",
       "  .phi-wrapper {\n",
       "    display: grid;\n",
       "    grid-gap: .4em;\n",
       "    grid-auto-flow: column;\n",
       "    grid-template-columns: minmax(60ch, max-content) auto; /* ≥60ch, but grow to fit code, then badge */\n",
       "    grid-gap: .4em;\n",
       "    align-items: start;\n",
       "    justify-items: start;\n",
       "    padding: .4em .6em;\n",
       "    border-radius: 6px;\n",
       "    background: var(--jp-layout-color1, #f5f5f5);\n",
       "    color: var(--jp-ui-font-color1, #000);\n",
       "  }\n",
       "  @media (prefers-color-scheme: dark) {\n",
       "    .phi-wrapper {\n",
       "      background: var(--jp-layout-color0, #2b2b2b);\n",
       "      color: var(--jp-ui-font-color0, #eee);\n",
       "    }\n",
       "  }\n",
       "  .phi-code  { white-space: pre-wrap; margin: 0 }\n",
       "  .phi-badge {\n",
       "      display: inline-block;\n",
       "      font-weight: bold;\n",
       "      padding: .15em .4em;\n",
       "      border-radius: 4px;\n",
       "      background: #c8c8ff;\n",
       "  }\n",
       "</style>\n",
       "<div class='phi-wrapper' style='grid-auto-flow:column;'><pre class='phi-code' style='font-size:14px;font-family:var(--jp-code-font-family,monospace);'><span style=\"color: #BA2121\">&quot;B&quot;</span>\n",
       "</pre><span class='phi-badge' style='font-size:14px;'>e</span></div>"
      ],
      "text/plain": [
       "'B'"
      ]
     },
     "metadata": {},
     "output_type": "display_data"
    },
    {
     "data": {
      "text/html": [
       "\n",
       "<style id=\"phi-css\">\n",
       "  .phi-wrapper {\n",
       "    display: grid;\n",
       "    grid-gap: .4em;\n",
       "    grid-auto-flow: column;\n",
       "    grid-template-columns: minmax(60ch, max-content) auto; /* ≥60ch, but grow to fit code, then badge */\n",
       "    grid-gap: .4em;\n",
       "    align-items: start;\n",
       "    justify-items: start;\n",
       "    padding: .4em .6em;\n",
       "    border-radius: 6px;\n",
       "    background: var(--jp-layout-color1, #f5f5f5);\n",
       "    color: var(--jp-ui-font-color1, #000);\n",
       "  }\n",
       "  @media (prefers-color-scheme: dark) {\n",
       "    .phi-wrapper {\n",
       "      background: var(--jp-layout-color0, #2b2b2b);\n",
       "      color: var(--jp-ui-font-color0, #eee);\n",
       "    }\n",
       "  }\n",
       "  .phi-code  { white-space: pre-wrap; margin: 0 }\n",
       "  .phi-badge {\n",
       "      display: inline-block;\n",
       "      font-weight: bold;\n",
       "      padding: .15em .4em;\n",
       "      border-radius: 4px;\n",
       "      background: #c8c8ff;\n",
       "  }\n",
       "</style>\n",
       "<div class='phi-wrapper' style='grid-auto-flow:column;'><pre class='phi-code' style='font-size:14px;font-family:var(--jp-code-font-family,monospace);'><span style=\"color: #BA2121\">&quot;C&quot;</span>\n",
       "</pre><span class='phi-badge' style='font-size:14px;'>e</span></div>"
      ],
      "text/plain": [
       "'C'"
      ]
     },
     "metadata": {},
     "output_type": "display_data"
    },
    {
     "data": {
      "text/html": [
       "\n",
       "<style id=\"phi-css\">\n",
       "  .phi-wrapper {\n",
       "    display: grid;\n",
       "    grid-gap: .4em;\n",
       "    grid-auto-flow: column;\n",
       "    grid-template-columns: minmax(60ch, max-content) auto; /* ≥60ch, but grow to fit code, then badge */\n",
       "    grid-gap: .4em;\n",
       "    align-items: start;\n",
       "    justify-items: start;\n",
       "    padding: .4em .6em;\n",
       "    border-radius: 6px;\n",
       "    background: var(--jp-layout-color1, #f5f5f5);\n",
       "    color: var(--jp-ui-font-color1, #000);\n",
       "  }\n",
       "  @media (prefers-color-scheme: dark) {\n",
       "    .phi-wrapper {\n",
       "      background: var(--jp-layout-color0, #2b2b2b);\n",
       "      color: var(--jp-ui-font-color0, #eee);\n",
       "    }\n",
       "  }\n",
       "  .phi-code  { white-space: pre-wrap; margin: 0 }\n",
       "  .phi-badge {\n",
       "      display: inline-block;\n",
       "      font-weight: bold;\n",
       "      padding: .15em .4em;\n",
       "      border-radius: 4px;\n",
       "      background: #c8c8ff;\n",
       "  }\n",
       "</style>\n",
       "<div class='phi-wrapper' style='grid-auto-flow:column;'><pre class='phi-code' style='font-size:14px;font-family:var(--jp-code-font-family,monospace);'><span style=\"color: #BA2121\">&quot;D&quot;</span>\n",
       "</pre><span class='phi-badge' style='font-size:14px;'>e</span></div>"
      ],
      "text/plain": [
       "'D'"
      ]
     },
     "metadata": {},
     "output_type": "display_data"
    }
   ],
   "source": [
    "for x in DOMAIN[:4]: display(x)"
   ]
  },
  {
   "cell_type": "code",
   "execution_count": 5,
   "id": "4c170f70",
   "metadata": {},
   "outputs": [
    {
     "data": {
      "text/html": [
       "\n",
       "<style id=\"phi-css\">\n",
       "  .phi-wrapper {\n",
       "    display: grid;\n",
       "    grid-gap: .4em;\n",
       "    grid-auto-flow: column;\n",
       "    grid-template-columns: minmax(60ch, max-content) auto; /* ≥60ch, but grow to fit code, then badge */\n",
       "    grid-gap: .4em;\n",
       "    align-items: start;\n",
       "    justify-items: start;\n",
       "    padding: .4em .6em;\n",
       "    border-radius: 6px;\n",
       "    background: var(--jp-layout-color1, #f5f5f5);\n",
       "    color: var(--jp-ui-font-color1, #000);\n",
       "  }\n",
       "  @media (prefers-color-scheme: dark) {\n",
       "    .phi-wrapper {\n",
       "      background: var(--jp-layout-color0, #2b2b2b);\n",
       "      color: var(--jp-ui-font-color0, #eee);\n",
       "    }\n",
       "  }\n",
       "  .phi-code  { white-space: pre-wrap; margin: 0 }\n",
       "  .phi-badge {\n",
       "      display: inline-block;\n",
       "      font-weight: bold;\n",
       "      padding: .15em .4em;\n",
       "      border-radius: 4px;\n",
       "      background: #c8c8ff;\n",
       "  }\n",
       "</style>\n",
       "<div class='phi-wrapper' style='grid-auto-flow:column;'><pre class='phi-code' style='font-size:14px;font-family:var(--jp-code-font-family,monospace);'>LAUGHS(<span style=\"color: #BA2121\">&quot;A&quot;</span>)\n",
       "</pre><span class='phi-badge' style='font-size:14px;'>t</span></div>"
      ],
      "text/plain": [
       "LAUGHS('A')"
      ]
     },
     "execution_count": 5,
     "metadata": {},
     "output_type": "execute_result"
    },
    {
     "data": {
      "text/html": [
       "\n",
       "<style id=\"phi-css\">\n",
       "  .phi-wrapper {\n",
       "    display: grid;\n",
       "    grid-gap: .4em;\n",
       "    grid-auto-flow: column;\n",
       "    grid-template-columns: minmax(60ch, max-content) auto; /* ≥60ch, but grow to fit code, then badge */\n",
       "    grid-gap: .4em;\n",
       "    align-items: start;\n",
       "    justify-items: start;\n",
       "    padding: .4em .6em;\n",
       "    border-radius: 6px;\n",
       "    background: var(--jp-layout-color1, #f5f5f5);\n",
       "    color: var(--jp-ui-font-color1, #000);\n",
       "  }\n",
       "  @media (prefers-color-scheme: dark) {\n",
       "    .phi-wrapper {\n",
       "      background: var(--jp-layout-color0, #2b2b2b);\n",
       "      color: var(--jp-ui-font-color0, #eee);\n",
       "    }\n",
       "  }\n",
       "  .phi-code  { white-space: pre-wrap; margin: 0 }\n",
       "  .phi-badge {\n",
       "      display: inline-block;\n",
       "      font-weight: bold;\n",
       "      padding: .15em .4em;\n",
       "      border-radius: 4px;\n",
       "      background: #c8c8ff;\n",
       "  }\n",
       "</style>\n",
       "<div class='phi-wrapper' style='grid-auto-flow:column;'><pre class='phi-code' style='font-size:14px;font-family:var(--jp-code-font-family,monospace);'><span style=\"color: #BA2121\">&quot;A&quot;</span>\n",
       "</pre><span class='phi-badge' style='font-size:14px;'>e</span></div>"
      ],
      "text/plain": [
       "'A'"
      ]
     },
     "execution_count": 5,
     "metadata": {},
     "output_type": "execute_result"
    }
   ],
   "source": [
    "A,B,C,D,*_ = DOMAIN\n",
    "`(lambda x=e: LAUGHS(x).t)(A)\n",
    "A"
   ]
  },
  {
   "cell_type": "code",
   "execution_count": 6,
   "id": "b6538c36",
   "metadata": {},
   "outputs": [
    {
     "data": {
      "image/svg+xml": [
       "<svg baseProfile=\"full\" height=\"168px\" preserveAspectRatio=\"xMidYMid meet\" style=\"font-family: times, serif; font-weight: normal; font-style: normal; font-size: 16px\" version=\"1.1\" viewBox=\"0,0,112.0,168.0\" width=\"112px\" xmlns=\"http://www.w3.org/2000/svg\" xmlns:ev=\"http://www.w3.org/2001/xml-events\" xmlns:xlink=\"http://www.w3.org/1999/xlink\"><defs /><svg width=\"100%\" x=\"0\" y=\"0px\"><defs /><text text-anchor=\"middle\" x=\"50%\" y=\"16px\">S</text></svg><svg width=\"42.8571%\" x=\"0%\" y=\"48px\"><defs /><svg width=\"100%\" x=\"0\" y=\"0px\"><defs /><text text-anchor=\"middle\" x=\"50%\" y=\"16px\">NP</text></svg><svg width=\"100%\" x=\"0%\" y=\"48px\"><defs /><svg width=\"100%\" x=\"0\" y=\"0px\"><defs /><text text-anchor=\"middle\" x=\"50%\" y=\"16px\">John</text></svg></svg><line stroke=\"black\" x1=\"50%\" x2=\"50%\" y1=\"20px\" y2=\"48px\" /></svg><line stroke=\"black\" x1=\"50%\" x2=\"21.4286%\" y1=\"20px\" y2=\"48px\" /><svg width=\"57.1429%\" x=\"42.8571%\" y=\"48px\"><defs /><svg width=\"100%\" x=\"0\" y=\"0px\"><defs /><text text-anchor=\"middle\" x=\"50%\" y=\"16px\">VP</text></svg><svg width=\"100%\" x=\"0%\" y=\"48px\"><defs /><svg width=\"100%\" x=\"0\" y=\"0px\"><defs /><text text-anchor=\"middle\" x=\"50%\" y=\"16px\">V</text></svg><svg width=\"100%\" x=\"0%\" y=\"48px\"><defs /><svg width=\"100%\" x=\"0\" y=\"0px\"><defs /><text text-anchor=\"middle\" x=\"50%\" y=\"16px\">laughs</text></svg></svg><line stroke=\"black\" x1=\"50%\" x2=\"50%\" y1=\"20px\" y2=\"48px\" /></svg><line stroke=\"black\" x1=\"50%\" x2=\"50%\" y1=\"20px\" y2=\"48px\" /></svg><line stroke=\"black\" x1=\"50%\" x2=\"71.4286%\" y1=\"20px\" y2=\"48px\" /></svg>"
      ],
      "text/html": [
       "<div style=\"display:inline-grid;grid-template-columns: repeat(2, auto);align-items:start;border:none;font-family: times, serif; font-weight: normal; font-style: normal; font-size: 16px\"><div style=\"grid-row:1;grid-column:1;justify-self:right;width:0;\"><span style=\"float:right;transform:translate(50%);white-space:nowrap;\">S</span></div><div style=\"grid-row:1;grid-column:1/3;justify-self:center;height:0;overflow:hidden;padding-right:1em;padding-left:1em;\"><span>S</span></div><div style=\"grid-column:1;grid-row:2;justify-self:right;\"><div style=\"display:inline-grid;grid-template-columns: 1fr;align-items:start;border:none;\"><div style=\"grid-column:1;grid-row:1;height:32px;\" align=\"center\"><svg baseProfile=\"tiny\" height=\"0\" width=\"0\" preserveAspectRatio=\"none\" version=\"1.2\" viewBox=\"0,0,100,100\" xmlns=\"http://www.w3.org/2000/svg\" style=\"height:100%;width:100%;display:block;\" xmlns:ev=\"http://www.w3.org/2001/xml-events\" xmlns:xlink=\"http://www.w3.org/1999/xlink\"><defs /><line stroke=\"black\" x1=\"100\" x2=\"50\" y1=\"2\" y2=\"98\" stroke_width=\"1px\" vector-effect=\"non-scaling-stroke\" /></svg></div><div style=\"grid-column:1;grid-row:2;justify-self:center;\"><span>NP</span></div><div style=\"grid-column:1;grid-row:3;justify-self:center;\"><div style=\"display:inline-grid;grid-template-columns: 1fr;align-items:start;border:none;\"><div style=\"grid-column:1;grid-row:1;height:32px;\" align=\"center\"><svg baseProfile=\"tiny\" height=\"0\" width=\"0\" preserveAspectRatio=\"none\" version=\"1.2\" viewBox=\"0,0,100,100\" xmlns=\"http://www.w3.org/2000/svg\" style=\"height:100%;width:100%;display:block;\" xmlns:ev=\"http://www.w3.org/2001/xml-events\" xmlns:xlink=\"http://www.w3.org/1999/xlink\"><defs /><line stroke=\"black\" x1=\"50\" x2=\"50\" y1=\"2\" y2=\"98\" stroke_width=\"1px\" vector-effect=\"non-scaling-stroke\" /></svg></div><div style=\"grid-column:1;grid-row:2;justify-self:center;\"><div style=\"display:inline-grid;grid-auto-flow:row;justify-items:center;text-align:center;min-width:8ch;\">\n",
       "<style id=\"phi-css\">\n",
       "  .phi-wrapper {\n",
       "    display: grid;\n",
       "    grid-gap: .4em;\n",
       "    grid-auto-flow: column;\n",
       "    grid-template-columns: minmax(60ch, max-content) auto; /* ≥60ch, but grow to fit code, then badge */\n",
       "    grid-gap: .4em;\n",
       "    align-items: start;\n",
       "    justify-items: start;\n",
       "    padding: .4em .6em;\n",
       "    border-radius: 6px;\n",
       "    background: var(--jp-layout-color1, #f5f5f5);\n",
       "    color: var(--jp-ui-font-color1, #000);\n",
       "  }\n",
       "  @media (prefers-color-scheme: dark) {\n",
       "    .phi-wrapper {\n",
       "      background: var(--jp-layout-color0, #2b2b2b);\n",
       "      color: var(--jp-ui-font-color0, #eee);\n",
       "    }\n",
       "  }\n",
       "  .phi-code  { white-space: pre-wrap; margin: 0 }\n",
       "  .phi-badge {\n",
       "      display: inline-block;\n",
       "      font-weight: bold;\n",
       "      padding: .15em .4em;\n",
       "      border-radius: 4px;\n",
       "      background: #c8c8ff;\n",
       "  }\n",
       "</style>\n",
       "<span><span>John</span> <span class=\"phi-badge\" style=\"font-size:11px;\">e</span></span><pre class=\"phi-code\" style=\"font-size:11px;font-family:var(--jp-code-font-family,monospace);\">John\n",
       "</pre></div></div></div></div></div></div><div style=\"grid-column:2;grid-row:2;\"><div style=\"display:inline-grid;grid-template-columns: 1fr;align-items:start;border:none;\"><div style=\"grid-column:1;grid-row:1;height:32px;\" align=\"center\"><svg baseProfile=\"tiny\" height=\"0\" width=\"0\" preserveAspectRatio=\"none\" version=\"1.2\" viewBox=\"0,0,100,100\" xmlns=\"http://www.w3.org/2000/svg\" style=\"height:100%;width:100%;display:block;\" xmlns:ev=\"http://www.w3.org/2001/xml-events\" xmlns:xlink=\"http://www.w3.org/1999/xlink\"><defs /><line stroke=\"black\" x1=\"0\" x2=\"50\" y1=\"2\" y2=\"98\" stroke_width=\"1px\" vector-effect=\"non-scaling-stroke\" /></svg></div><div style=\"grid-column:1;grid-row:2;justify-self:center;\"><span>VP</span></div><div style=\"grid-column:1;grid-row:3;justify-self:center;\"><div style=\"display:inline-grid;grid-template-columns: 1fr;align-items:start;border:none;\"><div style=\"grid-column:1;grid-row:1;height:32px;\" align=\"center\"><svg baseProfile=\"tiny\" height=\"0\" width=\"0\" preserveAspectRatio=\"none\" version=\"1.2\" viewBox=\"0,0,100,100\" xmlns=\"http://www.w3.org/2000/svg\" style=\"height:100%;width:100%;display:block;\" xmlns:ev=\"http://www.w3.org/2001/xml-events\" xmlns:xlink=\"http://www.w3.org/1999/xlink\"><defs /><line stroke=\"black\" x1=\"50\" x2=\"50\" y1=\"2\" y2=\"98\" stroke_width=\"1px\" vector-effect=\"non-scaling-stroke\" /></svg></div><div style=\"grid-column:1;grid-row:2;justify-self:center;\"><div style=\"display:inline-grid;grid-auto-flow:row;justify-items:center;text-align:center;min-width:23ch;\">\n",
       "<style id=\"phi-css\">\n",
       "  .phi-wrapper {\n",
       "    display: grid;\n",
       "    grid-gap: .4em;\n",
       "    grid-auto-flow: column;\n",
       "    grid-template-columns: minmax(60ch, max-content) auto; /* ≥60ch, but grow to fit code, then badge */\n",
       "    grid-gap: .4em;\n",
       "    align-items: start;\n",
       "    justify-items: start;\n",
       "    padding: .4em .6em;\n",
       "    border-radius: 6px;\n",
       "    background: var(--jp-layout-color1, #f5f5f5);\n",
       "    color: var(--jp-ui-font-color1, #000);\n",
       "  }\n",
       "  @media (prefers-color-scheme: dark) {\n",
       "    .phi-wrapper {\n",
       "      background: var(--jp-layout-color0, #2b2b2b);\n",
       "      color: var(--jp-ui-font-color0, #eee);\n",
       "    }\n",
       "  }\n",
       "  .phi-code  { white-space: pre-wrap; margin: 0 }\n",
       "  .phi-badge {\n",
       "      display: inline-block;\n",
       "      font-weight: bold;\n",
       "      padding: .15em .4em;\n",
       "      border-radius: 4px;\n",
       "      background: #c8c8ff;\n",
       "  }\n",
       "</style>\n",
       "<span><span>V</span> <span class=\"phi-badge\" style=\"font-size:11px;\">(e→t)</span></span><pre class=\"phi-code\" style=\"font-size:11px;font-family:var(--jp-code-font-family,monospace);\"><span style=\"color: #008000; font-weight: bold\">lambda</span> x: LAUGHS(x)\n",
       "</pre></div></div><div style=\"grid-column:1;grid-row:3;justify-self:center;\"><div style=\"display:inline-grid;grid-template-columns: 1fr;align-items:start;border:none;\"><div style=\"grid-column:1;grid-row:1;height:32px;\" align=\"center\"><svg baseProfile=\"tiny\" height=\"0\" width=\"0\" preserveAspectRatio=\"none\" version=\"1.2\" viewBox=\"0,0,100,100\" xmlns=\"http://www.w3.org/2000/svg\" style=\"height:100%;width:100%;display:block;\" xmlns:ev=\"http://www.w3.org/2001/xml-events\" xmlns:xlink=\"http://www.w3.org/1999/xlink\"><defs /><line stroke=\"black\" x1=\"50\" x2=\"50\" y1=\"2\" y2=\"98\" stroke_width=\"1px\" vector-effect=\"non-scaling-stroke\" /></svg></div><div style=\"grid-column:1;grid-row:2;justify-self:center;\"><span>laughs</span></div></div></div></div></div></div></div></div>"
      ],
      "text/plain": [
       "Tree('S', [Tree('NP', ['John']), Tree('VP', [Tree('V', ['laughs'])])])"
      ]
     },
     "execution_count": 6,
     "metadata": {},
     "output_type": "execute_result"
    }
   ],
   "source": [
    "t1 = Tree.fromstring('(S (NP John) (VP (V laughs)))')\n",
    "\n",
    "t1[0][0].sem = `John.e\n",
    "t1[1][0].sem = `lambda x=e: LAUGHS(x).t\n",
    "t1\n"
   ]
  },
  {
   "cell_type": "code",
   "execution_count": null,
   "id": "5994309c",
   "metadata": {},
   "outputs": [],
   "source": []
  }
 ],
 "metadata": {
  "kernelspec": {
   "display_name": "Python 3",
   "language": "python",
   "name": "python3"
  },
  "language_info": {
   "codemirror_mode": {
    "name": "ipython",
    "version": 3
   },
   "file_extension": ".py",
   "mimetype": "text/x-python",
   "name": "python",
   "nbconvert_exporter": "python",
   "pygments_lexer": "ipython3",
   "version": "3.12.1"
  }
 },
 "nbformat": 4,
 "nbformat_minor": 5
}
