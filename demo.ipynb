{
 "cells": [
  {
   "cell_type": "markdown",
   "id": "66e82790",
   "metadata": {},
   "source": [
    "# Load the Phosphorus System"
   ]
  },
  {
   "cell_type": "code",
   "execution_count": null,
   "id": "fb2f720b",
   "metadata": {},
   "outputs": [],
   "source": [
    "# Uncomment when running in Google Colab\n",
    "#!pip install git+https://github.com/EasyArray/ling516.git@v4"
   ]
  },
  {
   "cell_type": "code",
   "execution_count": null,
   "id": "324de72c",
   "metadata": {},
   "outputs": [],
   "source": [
    "%config InteractiveShell.ast_node_interactivity='all'\n",
    "from phosphorus import *"
   ]
  },
  {
   "cell_type": "markdown",
   "id": "35d45d32",
   "metadata": {},
   "source": [
    "# PhiValues\n"
   ]
  },
  {
   "cell_type": "code",
   "execution_count": null,
   "id": "89b88f22",
   "metadata": {},
   "outputs": [],
   "source": [
    "PhiValue('LAUGHS(A)')\n",
    "PhiValue('LAUGHS(A)', stype=Type.t) #explicit type\n",
    "PhiValue('LAUGHS(A).t')             #annotated type\n",
    "PhiValue('lambda x=e: LAUGHS(x).t') #annotate lambda parameters using defaults"
   ]
  },
  {
   "cell_type": "markdown",
   "id": "5889aea4",
   "metadata": {},
   "source": [
    "## Backtick DSL"
   ]
  },
  {
   "cell_type": "code",
   "execution_count": null,
   "id": "93007c00",
   "metadata": {},
   "outputs": [],
   "source": [
    "`LAUGHS(A)\n",
    "`LAUGHS(A).t\n",
    "`LAUGHS(A) and CRIES(A)             #inferred type of BoolOp\n",
    "`lambda x=e: LAUGHS(x).t\n",
    "`lambda x=e: LAUGHS(x) and CRIES(x) #inferred type projects"
   ]
  },
  {
   "cell_type": "markdown",
   "id": "3a927a89",
   "metadata": {},
   "source": [
    "## Beta Reduction"
   ]
  },
  {
   "cell_type": "code",
   "execution_count": null,
   "id": "d0a18c1d",
   "metadata": {},
   "outputs": [],
   "source": [
    "`(lambda x=e: LAUGHS(x).t)('A'.e) #correct type inference\n",
    "`(lambda x=t: LAUGHS(x).t)('A'.e) #type mismatch warning"
   ]
  },
  {
   "cell_type": "markdown",
   "id": "b7f08830",
   "metadata": {},
   "source": [
    "## Prepopulated domain: capital letters"
   ]
  },
  {
   "cell_type": "code",
   "execution_count": null,
   "id": "76c23ae7",
   "metadata": {},
   "outputs": [],
   "source": [
    "A,B,C,D,*_ = DOMAIN\n",
    "A\n",
    "B\n",
    "C\n",
    "D"
   ]
  },
  {
   "cell_type": "markdown",
   "id": "d8f0f2f1",
   "metadata": {},
   "source": [
    "# Simplification Beyond Beta Reduction"
   ]
  },
  {
   "cell_type": "code",
   "execution_count": null,
   "id": "4c170f70",
   "metadata": {},
   "outputs": [],
   "source": [
    "# Inlining of name values\n",
    "f = `(lambda x: LAUGHS(x).t)\n",
    "`f(A)"
   ]
  },
  {
   "cell_type": "code",
   "execution_count": null,
   "id": "336155f6",
   "metadata": {},
   "outputs": [],
   "source": [
    "# Other simplifications\n",
    "`True and foo\n",
    "`foo and True\n",
    "`(g|{x:foo})[x]\n",
    "`{x:z} | {x:foo}"
   ]
  },
  {
   "cell_type": "markdown",
   "id": "93dda4aa",
   "metadata": {},
   "source": [
    "## Guards / Restrictions / Domain Restrictions"
   ]
  },
  {
   "cell_type": "code",
   "execution_count": null,
   "id": "ef1482ce",
   "metadata": {},
   "outputs": [],
   "source": [
    "`foo % True\n",
    "`foo % False\n",
    "\n",
    "deciduous = `lambda x=e: DECIDUOUS(x) % TREE(x)\n",
    "deciduous(A)          # Correct beta reduction\n",
    "\n",
    "`foo(bar % baz) % baz # Elimation of redundant guards"
   ]
  },
  {
   "cell_type": "markdown",
   "id": "39bb3f75",
   "metadata": {},
   "source": [
    "# Trees, including semantic annotations"
   ]
  },
  {
   "cell_type": "code",
   "execution_count": null,
   "id": "b6538c36",
   "metadata": {},
   "outputs": [],
   "source": [
    "t1 = Tree.fromstring('(S (NP John) (VP (V laughs)))')\n",
    "t1\n",
    "t1[0][0].sem = `John.e\n",
    "t1[1][0].sem = `lambda x=e: LAUGHS(x).t\n",
    "t1\n"
   ]
  },
  {
   "cell_type": "markdown",
   "id": "3970a2b2",
   "metadata": {},
   "source": [
    "# Semantic Interpretation"
   ]
  },
  {
   "cell_type": "code",
   "execution_count": null,
   "id": "5994309c",
   "metadata": {},
   "outputs": [],
   "source": [
    "lexicon = {\n",
    "  \"john\"  : `JOHN.e,\n",
    "  \"mary\"  : `MARY.e,\n",
    "  \"kaline\" : `KALINE.e,\n",
    "  \"cat\"   : `lambda x=e: CAT(x).t,\n",
    "  \"gray\"  : `lambda x=e: GRAY(x).t,\n",
    "  \"runs\"  : `lambda x=e: RUN(x).t,\n",
    "  \"loves\" : `lambda y=e: (lambda x=e: LOVE(x,y).t),\n",
    "  \"the\"   : `lambda f=et: iota(f).e % singular(f),\n",
    "}\n",
    "\n",
    "calc = Interpreter(lexicon=lexicon)"
   ]
  },
  {
   "cell_type": "code",
   "execution_count": null,
   "id": "4b1a77f0",
   "metadata": {},
   "outputs": [],
   "source": [
    "# Trace and Pronouns (TP)\n",
    "@calc.rule()\n",
    "def TP(*, alpha: str):\n",
    "  try:\n",
    "    i = int(alpha.split('_')[1])  # is it indexed?\n",
    "    return `g[i].e\n",
    "  except: pass\n",
    "  \n",
    "  return UNDEF\n",
    "\n",
    "# Predicate Abstraction (PA)\n",
    "@calc.rule()\n",
    "def PA(beta: PhiValue, *, alpha: str):\n",
    "  try:\n",
    "    i = int(alpha[0])       # is it an index?\n",
    "    if beta.stype == Type.t:\n",
    "      return `lambda x=e: beta(g=g|{i:x}).t\n",
    "  except: pass\n",
    "  \n",
    "  return UNDEF\n",
    "\n",
    "# Terminal Node (TN): lexical lookup of alpha itself\n",
    "@calc.rule()\n",
    "def TN(*, alpha: str):\n",
    "  return calc.lookup(alpha) # returns VACUOUS if not found\n",
    "\n",
    "# Non-Branching Node (NN): pass child meaning unchanged\n",
    "@calc.rule()\n",
    "def NN(beta: PhiValue):\n",
    "  return beta\n",
    "\n",
    "# Functional Application (FA): apply function to argument\n",
    "@calc.rule()\n",
    "def FA(beta: PhiValue, gamma: PhiValue):\n",
    "  if UNDEF in (beta, gamma):\n",
    "    return UNDEF\n",
    "  \n",
    "  # Determine order\n",
    "  if takes(beta, gamma):\n",
    "    fn, arg = beta, gamma\n",
    "  elif takes(gamma, beta):\n",
    "    fn, arg = gamma, beta\n",
    "  else:\n",
    "    return UNDEF\n",
    "\n",
    "  # Note that if arg fails the fn guard, it will already return UNDEF:\n",
    "  return `fn(arg) % defined(arg) \n",
    "\n",
    "# Predicate Modification (PM): conjoin meanings\n",
    "@calc.rule()\n",
    "def PM(beta: PhiValue, gamma: PhiValue):\n",
    "  if UNDEF in (beta, gamma):\n",
    "    return UNDEF\n",
    "  \n",
    "  if beta.stype == gamma.stype == Type.et:\n",
    "    return `(lambda x=e: beta(x) and gamma(x) \n",
    "              % defined(beta(x)) % defined(gamma(x))\n",
    "    )\n",
    "\n",
    "  return UNDEF"
   ]
  },
  {
   "cell_type": "markdown",
   "id": "18f3c33a",
   "metadata": {},
   "source": [
    "## Predicate Modification"
   ]
  },
  {
   "cell_type": "code",
   "execution_count": null,
   "id": "cad695be",
   "metadata": {},
   "outputs": [],
   "source": [
    "t0 = Tree.fromstring('(S Kaline (VP is (NP (D a) (NP gray (N cat)))))')\n",
    "t0\n",
    "calc.interpret(t0)\n",
    "t0"
   ]
  },
  {
   "cell_type": "markdown",
   "id": "41532881",
   "metadata": {},
   "source": [
    "## Domain Restriction Projection"
   ]
  },
  {
   "cell_type": "code",
   "execution_count": null,
   "id": "9a2ead3f",
   "metadata": {},
   "outputs": [],
   "source": [
    "t2 = Tree.fromstring('(S (NP (D the) (N cat)) (VP (V runs)))')\n",
    "calc.interpret(t2)\n",
    "t2"
   ]
  },
  {
   "cell_type": "markdown",
   "id": "74b146a3",
   "metadata": {},
   "source": [
    "## Parameters as Free Variables (`g` here)"
   ]
  },
  {
   "cell_type": "code",
   "execution_count": null,
   "id": "c3be11ad",
   "metadata": {},
   "outputs": [],
   "source": [
    "t3 = Tree.fromstring(\n",
    "'''\n",
    "(S John\n",
    "  (VP loves t_1)\n",
    ")\n",
    "''')\n",
    "\n",
    "t3\n",
    "m3 = calc.interpret(t3)\n",
    "t3\n",
    "\n",
    "m3\n",
    "`m3(g={1:MARY.e})   # Set parameters using keywords"
   ]
  },
  {
   "cell_type": "markdown",
   "id": "81af9aca",
   "metadata": {},
   "source": [
    "## Predicate Abstraction"
   ]
  },
  {
   "cell_type": "code",
   "execution_count": null,
   "id": "a264f0f8",
   "metadata": {},
   "outputs": [],
   "source": [
    "t4 = Tree.fromstring(\n",
    "'''\n",
    "(S Mary (CP 1\n",
    "  (S John\n",
    "    (VP loves t_1)\n",
    "  )\n",
    "))\n",
    "''')\n",
    "\n",
    "t4\n",
    "calc.interpret(t4)\n",
    "t4"
   ]
  }
 ],
 "metadata": {
  "kernelspec": {
   "display_name": "Python 3",
   "language": "python",
   "name": "python3"
  },
  "language_info": {
   "codemirror_mode": {
    "name": "ipython",
    "version": 3
   },
   "file_extension": ".py",
   "mimetype": "text/x-python",
   "name": "python",
   "nbconvert_exporter": "python",
   "pygments_lexer": "ipython3",
   "version": "3.12.1"
  }
 },
 "nbformat": 4,
 "nbformat_minor": 5
}
