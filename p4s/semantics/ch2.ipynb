{
  "cells": [
    {
      "cell_type": "markdown",
      "metadata": {},
      "source": [
        "# Heim & Kratzer Chapter 2: Function Application Rules with Backtick DSL\n",
        "\n",
        "This notebook demonstrates the Heim & Kratzer (1998) Chapter 2 semantic rules using a toy lexicon, the `Interpreter` class, and the ultra-light backtick DSL for `PhiValue` literals."
      ]
    },
    {
      "cell_type": "markdown",
      "metadata": {},
      "source": [
        "## Import Required Libraries\n",
        "\n",
        "Import all necessary modules, including `Interpreter`, `Tree`, `PhiValue`, and the backtick DSL installer."
      ]
    },
    {
      "cell_type": "code",
      "execution_count": null,
      "metadata": {},
      "outputs": [
        {
          "name": "stdout",
          "output_type": "stream",
          "text": [
            "\n",
            "             _    _                  _    _\n",
            "            | |  | |                | |  | |\n",
            "           _| |_ | |__   ___  ___  _| |_ | |__   ___  _ __ _   _  ____\n",
            "          /     \\| '_ \\ / _ \\/ __|/     \\| '_ \\ / _ \\| '__| | | |/ ___)\n",
            "         ( (| |) ) | | | (_) \\__ ( (| |) ) | | | (_) | |  | |_| ( (__\n",
            "          \\_   _/|_| |_|\\___/|___/\\_   _/|_| |_|\\___/|_|   \\__,_|\\__ \\\n",
            "            | |                     | |                            _) )\n",
            "            |_|                     |_|                           (__/\n",
            "\n",
            "        Welcome to the Phosphorus Meaning Engine v3\n",
            "        Created by Ezra Keshet (EzraKeshet.com)\n",
            "\n",
            "\n"
          ]
        }
      ],
      "source": [
        "from p4s.semantics.interpret import Interpreter\n",
        "from p4s.syntax.tree import Tree\n",
        "from p4s.core.phivalue import PhiValue\n",
        "from p4s.core.constants import UNDEF\n",
        "import p4s.dsl.backtick  # auto-installs backtick DSL"
      ]
    },
    {
      "cell_type": "markdown",
      "metadata": {},
      "source": [
        "## Define Lexicon\n",
        "\n",
        "Create a dictionary mapping lexical items (e.g., 'john', 'mary', 'runs', 'loves') to their `PhiValue` representations using the backtick DSL."
      ]
    },
    {
      "cell_type": "code",
      "execution_count": 2,
      "metadata": {},
      "outputs": [],
      "source": [
        "lexicon2 = {\n",
        "  \"john\":   `JOHN.e,\n",
        "  \"mary\":   `MARY.e,\n",
        "  \"runs\":   `lambda x=e: RUN(x).t,\n",
        "  \"loves\":  `lambda y=e: lambda x=e: LOVE(x,y).t,\n",
        "}"
      ]
    },
    {
      "cell_type": "markdown",
      "metadata": {},
      "source": [
        "## Create Interpreter and Register Rules\n",
        "\n",
        "Instantiate an `Interpreter` named `interpret2`, assign the lexicon, and define the S1–S6 rules directly in the notebook."
      ]
    },
    {
      "cell_type": "code",
      "execution_count": 3,
      "metadata": {},
      "outputs": [],
      "source": [
        "interpret2 = Interpreter(lexicon=lexicon2)\n",
        "\n",
        "@interpret2.rule()\n",
        "def TN(*, alpha: Tree):\n",
        "  return interpret2.lookup(alpha)\n",
        "\n",
        "@interpret2.rule()\n",
        "def S1(beta: PhiValue, gamma: PhiValue, *, alpha: Tree):\n",
        "  match alpha:\n",
        "    case Tree(\"S\"):\n",
        "      return `gamma(beta)\n",
        "  return UNDEF\n",
        "\n",
        "@interpret2.rule()\n",
        "def S2(beta: PhiValue, *, alpha: Tree):\n",
        "  match alpha:\n",
        "    case Tree(\"NP\"):\n",
        "      return beta\n",
        "  return UNDEF\n",
        "\n",
        "@interpret2.rule()\n",
        "def S3(beta: PhiValue, *, alpha: Tree):\n",
        "  match alpha:\n",
        "    case Tree(\"VP\"):\n",
        "      return beta\n",
        "  return UNDEF\n",
        "\n",
        "@interpret2.rule()\n",
        "def S4(beta: PhiValue, *, alpha: Tree):\n",
        "  match alpha:\n",
        "    case Tree(\"N\"):\n",
        "      return beta\n",
        "  return UNDEF\n",
        "\n",
        "@interpret2.rule()\n",
        "def S5(beta: PhiValue, *, alpha: Tree):\n",
        "  match alpha:\n",
        "    case Tree(\"V\"):\n",
        "      return beta\n",
        "  return UNDEF\n",
        "\n",
        "@interpret2.rule()\n",
        "def S6(beta: PhiValue, gamma: PhiValue, *, alpha: Tree):\n",
        "  match alpha:\n",
        "    case Tree(\"VP\"):\n",
        "      return `beta(gamma)\n",
        "  return UNDEF"
      ]
    },
    {
      "cell_type": "markdown",
      "metadata": {},
      "source": [
        "## Test Example Sentences\n",
        "\n",
        "Parse and interpret example syntactic trees using `interpret2`, displaying both the tree and its semantic interpretation."
      ]
    },
    {
      "cell_type": "code",
      "execution_count": 4,
      "metadata": {},
      "outputs": [],
      "source": [
        "examples = [\n",
        "  \"(N John)\",\n",
        "  \"(NP (N John))\",\n",
        "  \"(V runs)\",\n",
        "  \"(VP (V runs))\",\n",
        "  \"(S (NP (N John)) (VP (V runs)))\",\n",
        "  \"(N Mary)\",\n",
        "  \"(NP (N Mary))\",\n",
        "  \"(V loves)\",\n",
        "  \"(VP (V loves) (NP (N Mary)))\",\n",
        "  \"(S (NP (N John)) (VP (V loves) (NP (N Mary))))\",\n",
        "]"
      ]
    },
    {
      "cell_type": "code",
      "execution_count": null,
      "metadata": {},
      "outputs": [
        {
          "data": {
            "text/html": [
              "\n",
              "      <table>\n",
              "        <tr>\n",
              "          <td style=\"vertical-align:top;min-width:12ch;text-align:left\"><svg baseProfile=\"full\" height=\"72px\" preserveAspectRatio=\"xMidYMid meet\" style=\"font-family: times, serif; font-weight: normal; font-style: normal; font-size: 16px\" version=\"1.1\" viewBox=\"0,0,48.0,72.0\" width=\"48px\" xmlns=\"http://www.w3.org/2000/svg\" xmlns:ev=\"http://www.w3.org/2001/xml-events\" xmlns:xlink=\"http://www.w3.org/1999/xlink\"><defs /><svg width=\"100%\" x=\"0\" y=\"0px\"><defs /><text text-anchor=\"middle\" x=\"50%\" y=\"16px\">N</text></svg><svg width=\"100%\" x=\"0%\" y=\"48px\"><defs /><svg width=\"100%\" x=\"0\" y=\"0px\"><defs /><text text-anchor=\"middle\" x=\"50%\" y=\"16px\">John</text></svg></svg><line stroke=\"black\" x1=\"50%\" x2=\"50%\" y1=\"20px\" y2=\"48px\" /></svg></td>\n",
              "          <td style=\"vertical-align:top;padding-left:4ch\">\n",
              "  <style>\n",
              "    .pv-wrapper {\n",
              "      display: table;\n",
              "      padding: 0.5em;\n",
              "      border-radius: 6px;\n",
              "      background: var(--jp-layout-color1, #f5f5f5);\n",
              "      color: var(--jp-ui-font-color1, #000);\n",
              "    }\n",
              "    @media (prefers-color-scheme: dark) {\n",
              "      .pv-wrapper {\n",
              "        background: var(--jp-layout-color0, #2b2b2b);\n",
              "        color: var(--jp-ui-font-color0, #eee);\n",
              "      }\n",
              "    }\n",
              "    .pv-code, .pv-badge { display: table-cell; vertical-align: top; }\n",
              "    .pv-code {\n",
              "      padding-right: 1em;\n",
              "      text-align: left;\n",
              "      min-width: 45ch;\n",
              "    }\n",
              "    .pv-badge { padding-left: 0.5em; }\n",
              "  </style>\n",
              "  <div class=\"pv-wrapper\">\n",
              "    <div class=\"pv-code\"><pre style='margin:0; white-space:pre-wrap;font-family:var(--jp-code-font-family,monospace);'>JOHN\n",
              "</pre></div>\n",
              "    <div class=\"pv-badge\"><span style='display:inline-block;font-family:var(--jp-code-font-family,monospace);font-weight:bold; padding:0.15em 0.4em; margin-left:0.8em;border-radius:4px; background-color:#c8c8ff; color:#000;'>e</span></div>\n",
              "  </div>\n",
              "  </td>\n",
              "        </tr>\n",
              "      </table>\n",
              "  "
            ],
            "text/plain": [
              "<IPython.core.display.HTML object>"
            ]
          },
          "metadata": {},
          "output_type": "display_data"
        },
        {
          "data": {
            "text/html": [
              "\n",
              "      <table>\n",
              "        <tr>\n",
              "          <td style=\"vertical-align:top;min-width:12ch;text-align:left\"><svg baseProfile=\"full\" height=\"120px\" preserveAspectRatio=\"xMidYMid meet\" style=\"font-family: times, serif; font-weight: normal; font-style: normal; font-size: 16px\" version=\"1.1\" viewBox=\"0,0,48.0,120.0\" width=\"48px\" xmlns=\"http://www.w3.org/2000/svg\" xmlns:ev=\"http://www.w3.org/2001/xml-events\" xmlns:xlink=\"http://www.w3.org/1999/xlink\"><defs /><svg width=\"100%\" x=\"0\" y=\"0px\"><defs /><text text-anchor=\"middle\" x=\"50%\" y=\"16px\">NP</text></svg><svg width=\"100%\" x=\"0%\" y=\"48px\"><defs /><svg width=\"100%\" x=\"0\" y=\"0px\"><defs /><text text-anchor=\"middle\" x=\"50%\" y=\"16px\">N</text></svg><svg width=\"100%\" x=\"0%\" y=\"48px\"><defs /><svg width=\"100%\" x=\"0\" y=\"0px\"><defs /><text text-anchor=\"middle\" x=\"50%\" y=\"16px\">John</text></svg></svg><line stroke=\"black\" x1=\"50%\" x2=\"50%\" y1=\"20px\" y2=\"48px\" /></svg><line stroke=\"black\" x1=\"50%\" x2=\"50%\" y1=\"20px\" y2=\"48px\" /></svg></td>\n",
              "          <td style=\"vertical-align:top;padding-left:4ch\">\n",
              "  <style>\n",
              "    .pv-wrapper {\n",
              "      display: table;\n",
              "      padding: 0.5em;\n",
              "      border-radius: 6px;\n",
              "      background: var(--jp-layout-color1, #f5f5f5);\n",
              "      color: var(--jp-ui-font-color1, #000);\n",
              "    }\n",
              "    @media (prefers-color-scheme: dark) {\n",
              "      .pv-wrapper {\n",
              "        background: var(--jp-layout-color0, #2b2b2b);\n",
              "        color: var(--jp-ui-font-color0, #eee);\n",
              "      }\n",
              "    }\n",
              "    .pv-code, .pv-badge { display: table-cell; vertical-align: top; }\n",
              "    .pv-code {\n",
              "      padding-right: 1em;\n",
              "      text-align: left;\n",
              "      min-width: 45ch;\n",
              "    }\n",
              "    .pv-badge { padding-left: 0.5em; }\n",
              "  </style>\n",
              "  <div class=\"pv-wrapper\">\n",
              "    <div class=\"pv-code\"><pre style='margin:0; white-space:pre-wrap;font-family:var(--jp-code-font-family,monospace);'>JOHN\n",
              "</pre></div>\n",
              "    <div class=\"pv-badge\"><span style='display:inline-block;font-family:var(--jp-code-font-family,monospace);font-weight:bold; padding:0.15em 0.4em; margin-left:0.8em;border-radius:4px; background-color:#c8c8ff; color:#000;'>e</span></div>\n",
              "  </div>\n",
              "  </td>\n",
              "        </tr>\n",
              "      </table>\n",
              "  "
            ],
            "text/plain": [
              "<IPython.core.display.HTML object>"
            ]
          },
          "metadata": {},
          "output_type": "display_data"
        },
        {
          "data": {
            "text/html": [
              "\n",
              "      <table>\n",
              "        <tr>\n",
              "          <td style=\"vertical-align:top;min-width:12ch;text-align:left\"><svg baseProfile=\"full\" height=\"72px\" preserveAspectRatio=\"xMidYMid meet\" style=\"font-family: times, serif; font-weight: normal; font-style: normal; font-size: 16px\" version=\"1.1\" viewBox=\"0,0,48.0,72.0\" width=\"48px\" xmlns=\"http://www.w3.org/2000/svg\" xmlns:ev=\"http://www.w3.org/2001/xml-events\" xmlns:xlink=\"http://www.w3.org/1999/xlink\"><defs /><svg width=\"100%\" x=\"0\" y=\"0px\"><defs /><text text-anchor=\"middle\" x=\"50%\" y=\"16px\">V</text></svg><svg width=\"100%\" x=\"0%\" y=\"48px\"><defs /><svg width=\"100%\" x=\"0\" y=\"0px\"><defs /><text text-anchor=\"middle\" x=\"50%\" y=\"16px\">runs</text></svg></svg><line stroke=\"black\" x1=\"50%\" x2=\"50%\" y1=\"20px\" y2=\"48px\" /></svg></td>\n",
              "          <td style=\"vertical-align:top;padding-left:4ch\">\n",
              "  <style>\n",
              "    .pv-wrapper {\n",
              "      display: table;\n",
              "      padding: 0.5em;\n",
              "      border-radius: 6px;\n",
              "      background: var(--jp-layout-color1, #f5f5f5);\n",
              "      color: var(--jp-ui-font-color1, #000);\n",
              "    }\n",
              "    @media (prefers-color-scheme: dark) {\n",
              "      .pv-wrapper {\n",
              "        background: var(--jp-layout-color0, #2b2b2b);\n",
              "        color: var(--jp-ui-font-color0, #eee);\n",
              "      }\n",
              "    }\n",
              "    .pv-code, .pv-badge { display: table-cell; vertical-align: top; }\n",
              "    .pv-code {\n",
              "      padding-right: 1em;\n",
              "      text-align: left;\n",
              "      min-width: 45ch;\n",
              "    }\n",
              "    .pv-badge { padding-left: 0.5em; }\n",
              "  </style>\n",
              "  <div class=\"pv-wrapper\">\n",
              "    <div class=\"pv-code\"><pre style='margin:0; white-space:pre-wrap;font-family:var(--jp-code-font-family,monospace);'><span style=\"color: #008000; font-weight: bold\">lambda</span> x: RUN(x)\n",
              "</pre></div>\n",
              "    <div class=\"pv-badge\"><span style='display:inline-block;font-family:var(--jp-code-font-family,monospace);font-weight:bold; padding:0.15em 0.4em; margin-left:0.8em;border-radius:4px; background-color:#c8c8ff; color:#000;'>(e→t)</span></div>\n",
              "  </div>\n",
              "  </td>\n",
              "        </tr>\n",
              "      </table>\n",
              "  "
            ],
            "text/plain": [
              "<IPython.core.display.HTML object>"
            ]
          },
          "metadata": {},
          "output_type": "display_data"
        },
        {
          "data": {
            "text/html": [
              "\n",
              "      <table>\n",
              "        <tr>\n",
              "          <td style=\"vertical-align:top;min-width:12ch;text-align:left\"><svg baseProfile=\"full\" height=\"120px\" preserveAspectRatio=\"xMidYMid meet\" style=\"font-family: times, serif; font-weight: normal; font-style: normal; font-size: 16px\" version=\"1.1\" viewBox=\"0,0,48.0,120.0\" width=\"48px\" xmlns=\"http://www.w3.org/2000/svg\" xmlns:ev=\"http://www.w3.org/2001/xml-events\" xmlns:xlink=\"http://www.w3.org/1999/xlink\"><defs /><svg width=\"100%\" x=\"0\" y=\"0px\"><defs /><text text-anchor=\"middle\" x=\"50%\" y=\"16px\">VP</text></svg><svg width=\"100%\" x=\"0%\" y=\"48px\"><defs /><svg width=\"100%\" x=\"0\" y=\"0px\"><defs /><text text-anchor=\"middle\" x=\"50%\" y=\"16px\">V</text></svg><svg width=\"100%\" x=\"0%\" y=\"48px\"><defs /><svg width=\"100%\" x=\"0\" y=\"0px\"><defs /><text text-anchor=\"middle\" x=\"50%\" y=\"16px\">runs</text></svg></svg><line stroke=\"black\" x1=\"50%\" x2=\"50%\" y1=\"20px\" y2=\"48px\" /></svg><line stroke=\"black\" x1=\"50%\" x2=\"50%\" y1=\"20px\" y2=\"48px\" /></svg></td>\n",
              "          <td style=\"vertical-align:top;padding-left:4ch\">\n",
              "  <style>\n",
              "    .pv-wrapper {\n",
              "      display: table;\n",
              "      padding: 0.5em;\n",
              "      border-radius: 6px;\n",
              "      background: var(--jp-layout-color1, #f5f5f5);\n",
              "      color: var(--jp-ui-font-color1, #000);\n",
              "    }\n",
              "    @media (prefers-color-scheme: dark) {\n",
              "      .pv-wrapper {\n",
              "        background: var(--jp-layout-color0, #2b2b2b);\n",
              "        color: var(--jp-ui-font-color0, #eee);\n",
              "      }\n",
              "    }\n",
              "    .pv-code, .pv-badge { display: table-cell; vertical-align: top; }\n",
              "    .pv-code {\n",
              "      padding-right: 1em;\n",
              "      text-align: left;\n",
              "      min-width: 45ch;\n",
              "    }\n",
              "    .pv-badge { padding-left: 0.5em; }\n",
              "  </style>\n",
              "  <div class=\"pv-wrapper\">\n",
              "    <div class=\"pv-code\"><pre style='margin:0; white-space:pre-wrap;font-family:var(--jp-code-font-family,monospace);'><span style=\"color: #008000; font-weight: bold\">lambda</span> x: RUN(x)\n",
              "</pre></div>\n",
              "    <div class=\"pv-badge\"><span style='display:inline-block;font-family:var(--jp-code-font-family,monospace);font-weight:bold; padding:0.15em 0.4em; margin-left:0.8em;border-radius:4px; background-color:#c8c8ff; color:#000;'>(e→t)</span></div>\n",
              "  </div>\n",
              "  </td>\n",
              "        </tr>\n",
              "      </table>\n",
              "  "
            ],
            "text/plain": [
              "<IPython.core.display.HTML object>"
            ]
          },
          "metadata": {},
          "output_type": "display_data"
        },
        {
          "data": {
            "text/html": [
              "\n",
              "      <table>\n",
              "        <tr>\n",
              "          <td style=\"vertical-align:top;min-width:12ch;text-align:left\"><svg baseProfile=\"full\" height=\"168px\" preserveAspectRatio=\"xMidYMid meet\" style=\"font-family: times, serif; font-weight: normal; font-style: normal; font-size: 16px\" version=\"1.1\" viewBox=\"0,0,96.0,168.0\" width=\"96px\" xmlns=\"http://www.w3.org/2000/svg\" xmlns:ev=\"http://www.w3.org/2001/xml-events\" xmlns:xlink=\"http://www.w3.org/1999/xlink\"><defs /><svg width=\"100%\" x=\"0\" y=\"0px\"><defs /><text text-anchor=\"middle\" x=\"50%\" y=\"16px\">S</text></svg><svg width=\"50%\" x=\"0%\" y=\"48px\"><defs /><svg width=\"100%\" x=\"0\" y=\"0px\"><defs /><text text-anchor=\"middle\" x=\"50%\" y=\"16px\">NP</text></svg><svg width=\"100%\" x=\"0%\" y=\"48px\"><defs /><svg width=\"100%\" x=\"0\" y=\"0px\"><defs /><text text-anchor=\"middle\" x=\"50%\" y=\"16px\">N</text></svg><svg width=\"100%\" x=\"0%\" y=\"48px\"><defs /><svg width=\"100%\" x=\"0\" y=\"0px\"><defs /><text text-anchor=\"middle\" x=\"50%\" y=\"16px\">John</text></svg></svg><line stroke=\"black\" x1=\"50%\" x2=\"50%\" y1=\"20px\" y2=\"48px\" /></svg><line stroke=\"black\" x1=\"50%\" x2=\"50%\" y1=\"20px\" y2=\"48px\" /></svg><line stroke=\"black\" x1=\"50%\" x2=\"25%\" y1=\"20px\" y2=\"48px\" /><svg width=\"50%\" x=\"50%\" y=\"48px\"><defs /><svg width=\"100%\" x=\"0\" y=\"0px\"><defs /><text text-anchor=\"middle\" x=\"50%\" y=\"16px\">VP</text></svg><svg width=\"100%\" x=\"0%\" y=\"48px\"><defs /><svg width=\"100%\" x=\"0\" y=\"0px\"><defs /><text text-anchor=\"middle\" x=\"50%\" y=\"16px\">V</text></svg><svg width=\"100%\" x=\"0%\" y=\"48px\"><defs /><svg width=\"100%\" x=\"0\" y=\"0px\"><defs /><text text-anchor=\"middle\" x=\"50%\" y=\"16px\">runs</text></svg></svg><line stroke=\"black\" x1=\"50%\" x2=\"50%\" y1=\"20px\" y2=\"48px\" /></svg><line stroke=\"black\" x1=\"50%\" x2=\"50%\" y1=\"20px\" y2=\"48px\" /></svg><line stroke=\"black\" x1=\"50%\" x2=\"75%\" y1=\"20px\" y2=\"48px\" /></svg></td>\n",
              "          <td style=\"vertical-align:top;padding-left:4ch\">\n",
              "  <style>\n",
              "    .pv-wrapper {\n",
              "      display: table;\n",
              "      padding: 0.5em;\n",
              "      border-radius: 6px;\n",
              "      background: var(--jp-layout-color1, #f5f5f5);\n",
              "      color: var(--jp-ui-font-color1, #000);\n",
              "    }\n",
              "    @media (prefers-color-scheme: dark) {\n",
              "      .pv-wrapper {\n",
              "        background: var(--jp-layout-color0, #2b2b2b);\n",
              "        color: var(--jp-ui-font-color0, #eee);\n",
              "      }\n",
              "    }\n",
              "    .pv-code, .pv-badge { display: table-cell; vertical-align: top; }\n",
              "    .pv-code {\n",
              "      padding-right: 1em;\n",
              "      text-align: left;\n",
              "      min-width: 45ch;\n",
              "    }\n",
              "    .pv-badge { padding-left: 0.5em; }\n",
              "  </style>\n",
              "  <div class=\"pv-wrapper\">\n",
              "    <div class=\"pv-code\"><pre style='margin:0; white-space:pre-wrap;font-family:var(--jp-code-font-family,monospace);'>RUN(JOHN)\n",
              "</pre></div>\n",
              "    <div class=\"pv-badge\"><span style='display:inline-block;font-family:var(--jp-code-font-family,monospace);font-weight:bold; padding:0.15em 0.4em; margin-left:0.8em;border-radius:4px; background-color:#c8c8ff; color:#000;'>t</span></div>\n",
              "  </div>\n",
              "  </td>\n",
              "        </tr>\n",
              "      </table>\n",
              "  "
            ],
            "text/plain": [
              "<IPython.core.display.HTML object>"
            ]
          },
          "metadata": {},
          "output_type": "display_data"
        },
        {
          "data": {
            "text/html": [
              "\n",
              "      <table>\n",
              "        <tr>\n",
              "          <td style=\"vertical-align:top;min-width:12ch;text-align:left\"><svg baseProfile=\"full\" height=\"72px\" preserveAspectRatio=\"xMidYMid meet\" style=\"font-family: times, serif; font-weight: normal; font-style: normal; font-size: 16px\" version=\"1.1\" viewBox=\"0,0,48.0,72.0\" width=\"48px\" xmlns=\"http://www.w3.org/2000/svg\" xmlns:ev=\"http://www.w3.org/2001/xml-events\" xmlns:xlink=\"http://www.w3.org/1999/xlink\"><defs /><svg width=\"100%\" x=\"0\" y=\"0px\"><defs /><text text-anchor=\"middle\" x=\"50%\" y=\"16px\">N</text></svg><svg width=\"100%\" x=\"0%\" y=\"48px\"><defs /><svg width=\"100%\" x=\"0\" y=\"0px\"><defs /><text text-anchor=\"middle\" x=\"50%\" y=\"16px\">Mary</text></svg></svg><line stroke=\"black\" x1=\"50%\" x2=\"50%\" y1=\"20px\" y2=\"48px\" /></svg></td>\n",
              "          <td style=\"vertical-align:top;padding-left:4ch\">\n",
              "  <style>\n",
              "    .pv-wrapper {\n",
              "      display: table;\n",
              "      padding: 0.5em;\n",
              "      border-radius: 6px;\n",
              "      background: var(--jp-layout-color1, #f5f5f5);\n",
              "      color: var(--jp-ui-font-color1, #000);\n",
              "    }\n",
              "    @media (prefers-color-scheme: dark) {\n",
              "      .pv-wrapper {\n",
              "        background: var(--jp-layout-color0, #2b2b2b);\n",
              "        color: var(--jp-ui-font-color0, #eee);\n",
              "      }\n",
              "    }\n",
              "    .pv-code, .pv-badge { display: table-cell; vertical-align: top; }\n",
              "    .pv-code {\n",
              "      padding-right: 1em;\n",
              "      text-align: left;\n",
              "      min-width: 45ch;\n",
              "    }\n",
              "    .pv-badge { padding-left: 0.5em; }\n",
              "  </style>\n",
              "  <div class=\"pv-wrapper\">\n",
              "    <div class=\"pv-code\"><pre style='margin:0; white-space:pre-wrap;font-family:var(--jp-code-font-family,monospace);'>MARY\n",
              "</pre></div>\n",
              "    <div class=\"pv-badge\"><span style='display:inline-block;font-family:var(--jp-code-font-family,monospace);font-weight:bold; padding:0.15em 0.4em; margin-left:0.8em;border-radius:4px; background-color:#c8c8ff; color:#000;'>e</span></div>\n",
              "  </div>\n",
              "  </td>\n",
              "        </tr>\n",
              "      </table>\n",
              "  "
            ],
            "text/plain": [
              "<IPython.core.display.HTML object>"
            ]
          },
          "metadata": {},
          "output_type": "display_data"
        },
        {
          "data": {
            "text/html": [
              "\n",
              "      <table>\n",
              "        <tr>\n",
              "          <td style=\"vertical-align:top;min-width:12ch;text-align:left\"><svg baseProfile=\"full\" height=\"120px\" preserveAspectRatio=\"xMidYMid meet\" style=\"font-family: times, serif; font-weight: normal; font-style: normal; font-size: 16px\" version=\"1.1\" viewBox=\"0,0,48.0,120.0\" width=\"48px\" xmlns=\"http://www.w3.org/2000/svg\" xmlns:ev=\"http://www.w3.org/2001/xml-events\" xmlns:xlink=\"http://www.w3.org/1999/xlink\"><defs /><svg width=\"100%\" x=\"0\" y=\"0px\"><defs /><text text-anchor=\"middle\" x=\"50%\" y=\"16px\">NP</text></svg><svg width=\"100%\" x=\"0%\" y=\"48px\"><defs /><svg width=\"100%\" x=\"0\" y=\"0px\"><defs /><text text-anchor=\"middle\" x=\"50%\" y=\"16px\">N</text></svg><svg width=\"100%\" x=\"0%\" y=\"48px\"><defs /><svg width=\"100%\" x=\"0\" y=\"0px\"><defs /><text text-anchor=\"middle\" x=\"50%\" y=\"16px\">Mary</text></svg></svg><line stroke=\"black\" x1=\"50%\" x2=\"50%\" y1=\"20px\" y2=\"48px\" /></svg><line stroke=\"black\" x1=\"50%\" x2=\"50%\" y1=\"20px\" y2=\"48px\" /></svg></td>\n",
              "          <td style=\"vertical-align:top;padding-left:4ch\">\n",
              "  <style>\n",
              "    .pv-wrapper {\n",
              "      display: table;\n",
              "      padding: 0.5em;\n",
              "      border-radius: 6px;\n",
              "      background: var(--jp-layout-color1, #f5f5f5);\n",
              "      color: var(--jp-ui-font-color1, #000);\n",
              "    }\n",
              "    @media (prefers-color-scheme: dark) {\n",
              "      .pv-wrapper {\n",
              "        background: var(--jp-layout-color0, #2b2b2b);\n",
              "        color: var(--jp-ui-font-color0, #eee);\n",
              "      }\n",
              "    }\n",
              "    .pv-code, .pv-badge { display: table-cell; vertical-align: top; }\n",
              "    .pv-code {\n",
              "      padding-right: 1em;\n",
              "      text-align: left;\n",
              "      min-width: 45ch;\n",
              "    }\n",
              "    .pv-badge { padding-left: 0.5em; }\n",
              "  </style>\n",
              "  <div class=\"pv-wrapper\">\n",
              "    <div class=\"pv-code\"><pre style='margin:0; white-space:pre-wrap;font-family:var(--jp-code-font-family,monospace);'>MARY\n",
              "</pre></div>\n",
              "    <div class=\"pv-badge\"><span style='display:inline-block;font-family:var(--jp-code-font-family,monospace);font-weight:bold; padding:0.15em 0.4em; margin-left:0.8em;border-radius:4px; background-color:#c8c8ff; color:#000;'>e</span></div>\n",
              "  </div>\n",
              "  </td>\n",
              "        </tr>\n",
              "      </table>\n",
              "  "
            ],
            "text/plain": [
              "<IPython.core.display.HTML object>"
            ]
          },
          "metadata": {},
          "output_type": "display_data"
        },
        {
          "data": {
            "text/html": [
              "\n",
              "      <table>\n",
              "        <tr>\n",
              "          <td style=\"vertical-align:top;min-width:12ch;text-align:left\"><svg baseProfile=\"full\" height=\"72px\" preserveAspectRatio=\"xMidYMid meet\" style=\"font-family: times, serif; font-weight: normal; font-style: normal; font-size: 16px\" version=\"1.1\" viewBox=\"0,0,56.0,72.0\" width=\"56px\" xmlns=\"http://www.w3.org/2000/svg\" xmlns:ev=\"http://www.w3.org/2001/xml-events\" xmlns:xlink=\"http://www.w3.org/1999/xlink\"><defs /><svg width=\"100%\" x=\"0\" y=\"0px\"><defs /><text text-anchor=\"middle\" x=\"50%\" y=\"16px\">V</text></svg><svg width=\"100%\" x=\"0%\" y=\"48px\"><defs /><svg width=\"100%\" x=\"0\" y=\"0px\"><defs /><text text-anchor=\"middle\" x=\"50%\" y=\"16px\">loves</text></svg></svg><line stroke=\"black\" x1=\"50%\" x2=\"50%\" y1=\"20px\" y2=\"48px\" /></svg></td>\n",
              "          <td style=\"vertical-align:top;padding-left:4ch\">\n",
              "  <style>\n",
              "    .pv-wrapper {\n",
              "      display: table;\n",
              "      padding: 0.5em;\n",
              "      border-radius: 6px;\n",
              "      background: var(--jp-layout-color1, #f5f5f5);\n",
              "      color: var(--jp-ui-font-color1, #000);\n",
              "    }\n",
              "    @media (prefers-color-scheme: dark) {\n",
              "      .pv-wrapper {\n",
              "        background: var(--jp-layout-color0, #2b2b2b);\n",
              "        color: var(--jp-ui-font-color0, #eee);\n",
              "      }\n",
              "    }\n",
              "    .pv-code, .pv-badge { display: table-cell; vertical-align: top; }\n",
              "    .pv-code {\n",
              "      padding-right: 1em;\n",
              "      text-align: left;\n",
              "      min-width: 45ch;\n",
              "    }\n",
              "    .pv-badge { padding-left: 0.5em; }\n",
              "  </style>\n",
              "  <div class=\"pv-wrapper\">\n",
              "    <div class=\"pv-code\"><pre style='margin:0; white-space:pre-wrap;font-family:var(--jp-code-font-family,monospace);'><span style=\"color: #008000; font-weight: bold\">lambda</span> y: <span style=\"color: #008000; font-weight: bold\">lambda</span> x: LOVE(x, y)\n",
              "</pre></div>\n",
              "    <div class=\"pv-badge\"><span style='display:inline-block;font-family:var(--jp-code-font-family,monospace);font-weight:bold; padding:0.15em 0.4em; margin-left:0.8em;border-radius:4px; background-color:#c8c8ff; color:#000;'>(e→(e→t))</span></div>\n",
              "  </div>\n",
              "  </td>\n",
              "        </tr>\n",
              "      </table>\n",
              "  "
            ],
            "text/plain": [
              "<IPython.core.display.HTML object>"
            ]
          },
          "metadata": {},
          "output_type": "display_data"
        },
        {
          "data": {
            "text/html": [
              "\n",
              "      <table>\n",
              "        <tr>\n",
              "          <td style=\"vertical-align:top;min-width:12ch;text-align:left\"><svg baseProfile=\"full\" height=\"168px\" preserveAspectRatio=\"xMidYMid meet\" style=\"font-family: times, serif; font-weight: normal; font-style: normal; font-size: 16px\" version=\"1.1\" viewBox=\"0,0,104.0,168.0\" width=\"104px\" xmlns=\"http://www.w3.org/2000/svg\" xmlns:ev=\"http://www.w3.org/2001/xml-events\" xmlns:xlink=\"http://www.w3.org/1999/xlink\"><defs /><svg width=\"100%\" x=\"0\" y=\"0px\"><defs /><text text-anchor=\"middle\" x=\"50%\" y=\"16px\">VP</text></svg><svg width=\"53.8462%\" x=\"0%\" y=\"48px\"><defs /><svg width=\"100%\" x=\"0\" y=\"0px\"><defs /><text text-anchor=\"middle\" x=\"50%\" y=\"16px\">V</text></svg><svg width=\"100%\" x=\"0%\" y=\"48px\"><defs /><svg width=\"100%\" x=\"0\" y=\"0px\"><defs /><text text-anchor=\"middle\" x=\"50%\" y=\"16px\">loves</text></svg></svg><line stroke=\"black\" x1=\"50%\" x2=\"50%\" y1=\"20px\" y2=\"48px\" /></svg><line stroke=\"black\" x1=\"50%\" x2=\"26.9231%\" y1=\"20px\" y2=\"48px\" /><svg width=\"46.1538%\" x=\"53.8462%\" y=\"48px\"><defs /><svg width=\"100%\" x=\"0\" y=\"0px\"><defs /><text text-anchor=\"middle\" x=\"50%\" y=\"16px\">NP</text></svg><svg width=\"100%\" x=\"0%\" y=\"48px\"><defs /><svg width=\"100%\" x=\"0\" y=\"0px\"><defs /><text text-anchor=\"middle\" x=\"50%\" y=\"16px\">N</text></svg><svg width=\"100%\" x=\"0%\" y=\"48px\"><defs /><svg width=\"100%\" x=\"0\" y=\"0px\"><defs /><text text-anchor=\"middle\" x=\"50%\" y=\"16px\">Mary</text></svg></svg><line stroke=\"black\" x1=\"50%\" x2=\"50%\" y1=\"20px\" y2=\"48px\" /></svg><line stroke=\"black\" x1=\"50%\" x2=\"50%\" y1=\"20px\" y2=\"48px\" /></svg><line stroke=\"black\" x1=\"50%\" x2=\"76.9231%\" y1=\"20px\" y2=\"48px\" /></svg></td>\n",
              "          <td style=\"vertical-align:top;padding-left:4ch\">\n",
              "  <style>\n",
              "    .pv-wrapper {\n",
              "      display: table;\n",
              "      padding: 0.5em;\n",
              "      border-radius: 6px;\n",
              "      background: var(--jp-layout-color1, #f5f5f5);\n",
              "      color: var(--jp-ui-font-color1, #000);\n",
              "    }\n",
              "    @media (prefers-color-scheme: dark) {\n",
              "      .pv-wrapper {\n",
              "        background: var(--jp-layout-color0, #2b2b2b);\n",
              "        color: var(--jp-ui-font-color0, #eee);\n",
              "      }\n",
              "    }\n",
              "    .pv-code, .pv-badge { display: table-cell; vertical-align: top; }\n",
              "    .pv-code {\n",
              "      padding-right: 1em;\n",
              "      text-align: left;\n",
              "      min-width: 45ch;\n",
              "    }\n",
              "    .pv-badge { padding-left: 0.5em; }\n",
              "  </style>\n",
              "  <div class=\"pv-wrapper\">\n",
              "    <div class=\"pv-code\"><pre style='margin:0; white-space:pre-wrap;font-family:var(--jp-code-font-family,monospace);'><span style=\"color: #008000; font-weight: bold\">lambda</span> x: LOVE(x, MARY)\n",
              "</pre></div>\n",
              "    <div class=\"pv-badge\"><span style='display:inline-block;font-family:var(--jp-code-font-family,monospace);font-weight:bold; padding:0.15em 0.4em; margin-left:0.8em;border-radius:4px; background-color:#c8c8ff; color:#000;'>(e→t)</span></div>\n",
              "  </div>\n",
              "  </td>\n",
              "        </tr>\n",
              "      </table>\n",
              "  "
            ],
            "text/plain": [
              "<IPython.core.display.HTML object>"
            ]
          },
          "metadata": {},
          "output_type": "display_data"
        },
        {
          "data": {
            "text/html": [
              "\n",
              "      <table>\n",
              "        <tr>\n",
              "          <td style=\"vertical-align:top;min-width:12ch;text-align:left\"><svg baseProfile=\"full\" height=\"216px\" preserveAspectRatio=\"xMidYMid meet\" style=\"font-family: times, serif; font-weight: normal; font-style: normal; font-size: 16px\" version=\"1.1\" viewBox=\"0,0,152.0,216.0\" width=\"152px\" xmlns=\"http://www.w3.org/2000/svg\" xmlns:ev=\"http://www.w3.org/2001/xml-events\" xmlns:xlink=\"http://www.w3.org/1999/xlink\"><defs /><svg width=\"100%\" x=\"0\" y=\"0px\"><defs /><text text-anchor=\"middle\" x=\"50%\" y=\"16px\">S</text></svg><svg width=\"31.5789%\" x=\"0%\" y=\"48px\"><defs /><svg width=\"100%\" x=\"0\" y=\"0px\"><defs /><text text-anchor=\"middle\" x=\"50%\" y=\"16px\">NP</text></svg><svg width=\"100%\" x=\"0%\" y=\"48px\"><defs /><svg width=\"100%\" x=\"0\" y=\"0px\"><defs /><text text-anchor=\"middle\" x=\"50%\" y=\"16px\">N</text></svg><svg width=\"100%\" x=\"0%\" y=\"48px\"><defs /><svg width=\"100%\" x=\"0\" y=\"0px\"><defs /><text text-anchor=\"middle\" x=\"50%\" y=\"16px\">John</text></svg></svg><line stroke=\"black\" x1=\"50%\" x2=\"50%\" y1=\"20px\" y2=\"48px\" /></svg><line stroke=\"black\" x1=\"50%\" x2=\"50%\" y1=\"20px\" y2=\"48px\" /></svg><line stroke=\"black\" x1=\"50%\" x2=\"15.7895%\" y1=\"20px\" y2=\"48px\" /><svg width=\"68.4211%\" x=\"31.5789%\" y=\"48px\"><defs /><svg width=\"100%\" x=\"0\" y=\"0px\"><defs /><text text-anchor=\"middle\" x=\"50%\" y=\"16px\">VP</text></svg><svg width=\"53.8462%\" x=\"0%\" y=\"48px\"><defs /><svg width=\"100%\" x=\"0\" y=\"0px\"><defs /><text text-anchor=\"middle\" x=\"50%\" y=\"16px\">V</text></svg><svg width=\"100%\" x=\"0%\" y=\"48px\"><defs /><svg width=\"100%\" x=\"0\" y=\"0px\"><defs /><text text-anchor=\"middle\" x=\"50%\" y=\"16px\">loves</text></svg></svg><line stroke=\"black\" x1=\"50%\" x2=\"50%\" y1=\"20px\" y2=\"48px\" /></svg><line stroke=\"black\" x1=\"50%\" x2=\"26.9231%\" y1=\"20px\" y2=\"48px\" /><svg width=\"46.1538%\" x=\"53.8462%\" y=\"48px\"><defs /><svg width=\"100%\" x=\"0\" y=\"0px\"><defs /><text text-anchor=\"middle\" x=\"50%\" y=\"16px\">NP</text></svg><svg width=\"100%\" x=\"0%\" y=\"48px\"><defs /><svg width=\"100%\" x=\"0\" y=\"0px\"><defs /><text text-anchor=\"middle\" x=\"50%\" y=\"16px\">N</text></svg><svg width=\"100%\" x=\"0%\" y=\"48px\"><defs /><svg width=\"100%\" x=\"0\" y=\"0px\"><defs /><text text-anchor=\"middle\" x=\"50%\" y=\"16px\">Mary</text></svg></svg><line stroke=\"black\" x1=\"50%\" x2=\"50%\" y1=\"20px\" y2=\"48px\" /></svg><line stroke=\"black\" x1=\"50%\" x2=\"50%\" y1=\"20px\" y2=\"48px\" /></svg><line stroke=\"black\" x1=\"50%\" x2=\"76.9231%\" y1=\"20px\" y2=\"48px\" /></svg><line stroke=\"black\" x1=\"50%\" x2=\"65.7895%\" y1=\"20px\" y2=\"48px\" /></svg></td>\n",
              "          <td style=\"vertical-align:top;padding-left:4ch\">\n",
              "  <style>\n",
              "    .pv-wrapper {\n",
              "      display: table;\n",
              "      padding: 0.5em;\n",
              "      border-radius: 6px;\n",
              "      background: var(--jp-layout-color1, #f5f5f5);\n",
              "      color: var(--jp-ui-font-color1, #000);\n",
              "    }\n",
              "    @media (prefers-color-scheme: dark) {\n",
              "      .pv-wrapper {\n",
              "        background: var(--jp-layout-color0, #2b2b2b);\n",
              "        color: var(--jp-ui-font-color0, #eee);\n",
              "      }\n",
              "    }\n",
              "    .pv-code, .pv-badge { display: table-cell; vertical-align: top; }\n",
              "    .pv-code {\n",
              "      padding-right: 1em;\n",
              "      text-align: left;\n",
              "      min-width: 45ch;\n",
              "    }\n",
              "    .pv-badge { padding-left: 0.5em; }\n",
              "  </style>\n",
              "  <div class=\"pv-wrapper\">\n",
              "    <div class=\"pv-code\"><pre style='margin:0; white-space:pre-wrap;font-family:var(--jp-code-font-family,monospace);'>LOVE(JOHN, MARY)\n",
              "</pre></div>\n",
              "    <div class=\"pv-badge\"><span style='display:inline-block;font-family:var(--jp-code-font-family,monospace);font-weight:bold; padding:0.15em 0.4em; margin-left:0.8em;border-radius:4px; background-color:#c8c8ff; color:#000;'>t</span></div>\n",
              "  </div>\n",
              "  </td>\n",
              "        </tr>\n",
              "      </table>\n",
              "  "
            ],
            "text/plain": [
              "<IPython.core.display.HTML object>"
            ]
          },
          "metadata": {},
          "output_type": "display_data"
        }
      ],
      "source": [
        "from IPython.display import display, HTML\n",
        "\n",
        "for src in examples:\n",
        "  tree = Tree.fromstring(src)\n",
        "  meaning = interpret2.interpret(tree)\n",
        "  tree_html = tree._repr_svg_()  # SVG as HTML string\n",
        "  meaning_html = meaning._repr_html_()  # HTML as string\n",
        "  display(HTML(f\"\"\"\n",
        "    <table>\n",
        "      <tr>\n",
        "        <td style=\"vertical-align:top;min-width:12ch;text-align:left\">{tree_html}</td>\n",
        "        <td style=\"vertical-align:top;padding-left:4ch\">{meaning_html}</td>\n",
        "      </tr>\n",
        "    </table>\n",
        "  \"\"\"))"
      ]
    }
  ],
  "metadata": {
    "kernelspec": {
      "display_name": "Python 3",
      "language": "python",
      "name": "python3"
    },
    "language_info": {
      "codemirror_mode": {
        "name": "ipython",
        "version": 3
      },
      "file_extension": ".py",
      "mimetype": "text/x-python",
      "name": "python",
      "nbconvert_exporter": "python",
      "pygments_lexer": "ipython3",
      "version": "3.12.1"
    }
  },
  "nbformat": 4,
  "nbformat_minor": 5
}
